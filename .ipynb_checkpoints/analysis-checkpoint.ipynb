{
 "cells": [
  {
   "cell_type": "code",
   "execution_count": 1,
   "metadata": {},
   "outputs": [],
   "source": [
    "#  https://github.com/laxmimerit/Covid-19-Preprocessed-Dataset"
   ]
  },
  {
   "cell_type": "code",
   "execution_count": 2,
   "metadata": {},
   "outputs": [
    {
     "data": {
      "text/html": [
       "        <script type=\"text/javascript\">\n",
       "        window.PlotlyConfig = {MathJaxConfig: 'local'};\n",
       "        if (window.MathJax) {MathJax.Hub.Config({SVG: {font: \"STIX-Web\"}});}\n",
       "        if (typeof require !== 'undefined') {\n",
       "        require.undef(\"plotly\");\n",
       "        requirejs.config({\n",
       "            paths: {\n",
       "                'plotly': ['https://cdn.plot.ly/plotly-latest.min']\n",
       "            }\n",
       "        });\n",
       "        require(['plotly'], function(Plotly) {\n",
       "            window._Plotly = Plotly;\n",
       "        });\n",
       "        }\n",
       "        </script>\n",
       "        "
      ]
     },
     "metadata": {},
     "output_type": "display_data"
    }
   ],
   "source": [
    "import plotly as py\n",
    "import plotly.graph_objects as go\n",
    "py.offline.init_notebook_mode(connected = True)"
   ]
  },
  {
   "cell_type": "code",
   "execution_count": 3,
   "metadata": {},
   "outputs": [],
   "source": [
    "import pandas as pd\n",
    "import numpy as np"
   ]
  },
  {
   "cell_type": "markdown",
   "metadata": {},
   "source": [
    "## Read data"
   ]
  },
  {
   "cell_type": "code",
   "execution_count": 4,
   "metadata": {},
   "outputs": [],
   "source": [
    "def read_data():\n",
    "    URL = \"https://raw.githubusercontent.com/laxmimerit/Covid-19-Preprocessed-Dataset/master/preprocessed\"\n",
    "    url_1 = f\"{URL}/countrywise.csv\"\n",
    "    url_2 = f\"{URL}/country_daywise.csv\"\n",
    "    url_3 = f\"{URL}/daywise.csv\"\n",
    "    url_4 = f\"{URL}/covid_19_data_cleaned.csv\"\n",
    "    \n",
    "    country_wise = pd.read_csv(url_1)\n",
    "    country_daywise = pd.read_csv(url_2, parse_dates=['Date'])\n",
    "    daywise = pd.read_csv(url_3)\n",
    "    data_cleaned = pd.read_csv(url_4, parse_dates=['Date'])\n",
    "    \n",
    "    return (country_wise,country_daywise, daywise, data_cleaned)\n",
    "    "
   ]
  },
  {
   "cell_type": "code",
   "execution_count": 5,
   "metadata": {},
   "outputs": [
    {
     "data": {
      "text/html": [
       "<div>\n",
       "<style scoped>\n",
       "    .dataframe tbody tr th:only-of-type {\n",
       "        vertical-align: middle;\n",
       "    }\n",
       "\n",
       "    .dataframe tbody tr th {\n",
       "        vertical-align: top;\n",
       "    }\n",
       "\n",
       "    .dataframe thead th {\n",
       "        text-align: right;\n",
       "    }\n",
       "</style>\n",
       "<table border=\"1\" class=\"dataframe\">\n",
       "  <thead>\n",
       "    <tr style=\"text-align: right;\">\n",
       "      <th></th>\n",
       "      <th>Date</th>\n",
       "      <th>Confirmed</th>\n",
       "      <th>Deaths</th>\n",
       "      <th>Recovered</th>\n",
       "      <th>Active</th>\n",
       "      <th>New Cases</th>\n",
       "      <th>Deaths / 100 Cases</th>\n",
       "      <th>Recovered / 100 Cases</th>\n",
       "      <th>Deaths / 100 Recovered</th>\n",
       "      <th>No. of Countries</th>\n",
       "    </tr>\n",
       "  </thead>\n",
       "  <tbody>\n",
       "    <tr>\n",
       "      <th>0</th>\n",
       "      <td>1/22/20</td>\n",
       "      <td>555</td>\n",
       "      <td>17</td>\n",
       "      <td>28</td>\n",
       "      <td>510</td>\n",
       "      <td>0</td>\n",
       "      <td>3.06</td>\n",
       "      <td>5.05</td>\n",
       "      <td>60.71</td>\n",
       "      <td>6</td>\n",
       "    </tr>\n",
       "    <tr>\n",
       "      <th>1</th>\n",
       "      <td>1/23/20</td>\n",
       "      <td>654</td>\n",
       "      <td>18</td>\n",
       "      <td>30</td>\n",
       "      <td>606</td>\n",
       "      <td>99</td>\n",
       "      <td>2.75</td>\n",
       "      <td>4.59</td>\n",
       "      <td>60.00</td>\n",
       "      <td>8</td>\n",
       "    </tr>\n",
       "    <tr>\n",
       "      <th>2</th>\n",
       "      <td>1/24/20</td>\n",
       "      <td>941</td>\n",
       "      <td>26</td>\n",
       "      <td>36</td>\n",
       "      <td>879</td>\n",
       "      <td>287</td>\n",
       "      <td>2.76</td>\n",
       "      <td>3.83</td>\n",
       "      <td>72.22</td>\n",
       "      <td>9</td>\n",
       "    </tr>\n",
       "    <tr>\n",
       "      <th>3</th>\n",
       "      <td>1/25/20</td>\n",
       "      <td>1434</td>\n",
       "      <td>42</td>\n",
       "      <td>39</td>\n",
       "      <td>1353</td>\n",
       "      <td>493</td>\n",
       "      <td>2.93</td>\n",
       "      <td>2.72</td>\n",
       "      <td>107.69</td>\n",
       "      <td>11</td>\n",
       "    </tr>\n",
       "    <tr>\n",
       "      <th>4</th>\n",
       "      <td>1/26/20</td>\n",
       "      <td>2118</td>\n",
       "      <td>56</td>\n",
       "      <td>52</td>\n",
       "      <td>2010</td>\n",
       "      <td>684</td>\n",
       "      <td>2.64</td>\n",
       "      <td>2.46</td>\n",
       "      <td>107.69</td>\n",
       "      <td>13</td>\n",
       "    </tr>\n",
       "  </tbody>\n",
       "</table>\n",
       "</div>"
      ],
      "text/plain": [
       "      Date  Confirmed  Deaths  Recovered  Active  New Cases  \\\n",
       "0  1/22/20        555      17         28     510          0   \n",
       "1  1/23/20        654      18         30     606         99   \n",
       "2  1/24/20        941      26         36     879        287   \n",
       "3  1/25/20       1434      42         39    1353        493   \n",
       "4  1/26/20       2118      56         52    2010        684   \n",
       "\n",
       "   Deaths / 100 Cases  Recovered / 100 Cases  Deaths / 100 Recovered  \\\n",
       "0                3.06                   5.05                   60.71   \n",
       "1                2.75                   4.59                   60.00   \n",
       "2                2.76                   3.83                   72.22   \n",
       "3                2.93                   2.72                  107.69   \n",
       "4                2.64                   2.46                  107.69   \n",
       "\n",
       "   No. of Countries  \n",
       "0                 6  \n",
       "1                 8  \n",
       "2                 9  \n",
       "3                11  \n",
       "4                13  "
      ]
     },
     "execution_count": 5,
     "metadata": {},
     "output_type": "execute_result"
    }
   ],
   "source": [
    "country_wise,country_daywise, daywise, data_cleaned = read_data()\n",
    "daywise.head()"
   ]
  },
  {
   "cell_type": "code",
   "execution_count": 6,
   "metadata": {},
   "outputs": [
    {
     "data": {
      "text/html": [
       "<div>\n",
       "<style scoped>\n",
       "    .dataframe tbody tr th:only-of-type {\n",
       "        vertical-align: middle;\n",
       "    }\n",
       "\n",
       "    .dataframe tbody tr th {\n",
       "        vertical-align: top;\n",
       "    }\n",
       "\n",
       "    .dataframe thead th {\n",
       "        text-align: right;\n",
       "    }\n",
       "</style>\n",
       "<table border=\"1\" class=\"dataframe\">\n",
       "  <thead>\n",
       "    <tr style=\"text-align: right;\">\n",
       "      <th></th>\n",
       "      <th>Date</th>\n",
       "      <th>Country</th>\n",
       "      <th>Confirmed</th>\n",
       "      <th>Deaths</th>\n",
       "      <th>Recovered</th>\n",
       "      <th>Active</th>\n",
       "      <th>New Cases</th>\n",
       "      <th>New Deaths</th>\n",
       "      <th>New Recovered</th>\n",
       "    </tr>\n",
       "  </thead>\n",
       "  <tbody>\n",
       "    <tr>\n",
       "      <th>0</th>\n",
       "      <td>2020-01-22</td>\n",
       "      <td>Afghanistan</td>\n",
       "      <td>0</td>\n",
       "      <td>0</td>\n",
       "      <td>0</td>\n",
       "      <td>0</td>\n",
       "      <td>0</td>\n",
       "      <td>0</td>\n",
       "      <td>0</td>\n",
       "    </tr>\n",
       "    <tr>\n",
       "      <th>1</th>\n",
       "      <td>2020-01-22</td>\n",
       "      <td>Albania</td>\n",
       "      <td>0</td>\n",
       "      <td>0</td>\n",
       "      <td>0</td>\n",
       "      <td>0</td>\n",
       "      <td>0</td>\n",
       "      <td>0</td>\n",
       "      <td>0</td>\n",
       "    </tr>\n",
       "    <tr>\n",
       "      <th>2</th>\n",
       "      <td>2020-01-22</td>\n",
       "      <td>Algeria</td>\n",
       "      <td>0</td>\n",
       "      <td>0</td>\n",
       "      <td>0</td>\n",
       "      <td>0</td>\n",
       "      <td>0</td>\n",
       "      <td>0</td>\n",
       "      <td>0</td>\n",
       "    </tr>\n",
       "    <tr>\n",
       "      <th>3</th>\n",
       "      <td>2020-01-22</td>\n",
       "      <td>Andorra</td>\n",
       "      <td>0</td>\n",
       "      <td>0</td>\n",
       "      <td>0</td>\n",
       "      <td>0</td>\n",
       "      <td>0</td>\n",
       "      <td>0</td>\n",
       "      <td>0</td>\n",
       "    </tr>\n",
       "    <tr>\n",
       "      <th>4</th>\n",
       "      <td>2020-01-22</td>\n",
       "      <td>Angola</td>\n",
       "      <td>0</td>\n",
       "      <td>0</td>\n",
       "      <td>0</td>\n",
       "      <td>0</td>\n",
       "      <td>0</td>\n",
       "      <td>0</td>\n",
       "      <td>0</td>\n",
       "    </tr>\n",
       "  </tbody>\n",
       "</table>\n",
       "</div>"
      ],
      "text/plain": [
       "        Date      Country  Confirmed  Deaths  Recovered  Active  New Cases  \\\n",
       "0 2020-01-22  Afghanistan          0       0          0       0          0   \n",
       "1 2020-01-22      Albania          0       0          0       0          0   \n",
       "2 2020-01-22      Algeria          0       0          0       0          0   \n",
       "3 2020-01-22      Andorra          0       0          0       0          0   \n",
       "4 2020-01-22       Angola          0       0          0       0          0   \n",
       "\n",
       "   New Deaths  New Recovered  \n",
       "0           0              0  \n",
       "1           0              0  \n",
       "2           0              0  \n",
       "3           0              0  \n",
       "4           0              0  "
      ]
     },
     "execution_count": 6,
     "metadata": {},
     "output_type": "execute_result"
    }
   ],
   "source": [
    "country_daywise.head()"
   ]
  },
  {
   "cell_type": "code",
   "execution_count": 7,
   "metadata": {},
   "outputs": [],
   "source": [
    "country_cleaned = data_cleaned.drop(columns=[\"Province/State\"])"
   ]
  },
  {
   "cell_type": "code",
   "execution_count": 8,
   "metadata": {},
   "outputs": [
    {
     "data": {
      "text/html": [
       "<div>\n",
       "<style scoped>\n",
       "    .dataframe tbody tr th:only-of-type {\n",
       "        vertical-align: middle;\n",
       "    }\n",
       "\n",
       "    .dataframe tbody tr th {\n",
       "        vertical-align: top;\n",
       "    }\n",
       "\n",
       "    .dataframe thead th {\n",
       "        text-align: right;\n",
       "    }\n",
       "</style>\n",
       "<table border=\"1\" class=\"dataframe\">\n",
       "  <thead>\n",
       "    <tr style=\"text-align: right;\">\n",
       "      <th></th>\n",
       "      <th>Date</th>\n",
       "      <th>Country</th>\n",
       "      <th>Lat</th>\n",
       "      <th>Long</th>\n",
       "      <th>Confirmed</th>\n",
       "      <th>Recovered</th>\n",
       "      <th>Deaths</th>\n",
       "      <th>Active</th>\n",
       "    </tr>\n",
       "  </thead>\n",
       "  <tbody>\n",
       "    <tr>\n",
       "      <th>0</th>\n",
       "      <td>2020-01-22</td>\n",
       "      <td>Afghanistan</td>\n",
       "      <td>33.93911</td>\n",
       "      <td>67.709953</td>\n",
       "      <td>0</td>\n",
       "      <td>0</td>\n",
       "      <td>0</td>\n",
       "      <td>0</td>\n",
       "    </tr>\n",
       "    <tr>\n",
       "      <th>1</th>\n",
       "      <td>2020-01-23</td>\n",
       "      <td>Afghanistan</td>\n",
       "      <td>33.93911</td>\n",
       "      <td>67.709953</td>\n",
       "      <td>0</td>\n",
       "      <td>0</td>\n",
       "      <td>0</td>\n",
       "      <td>0</td>\n",
       "    </tr>\n",
       "    <tr>\n",
       "      <th>2</th>\n",
       "      <td>2020-01-24</td>\n",
       "      <td>Afghanistan</td>\n",
       "      <td>33.93911</td>\n",
       "      <td>67.709953</td>\n",
       "      <td>0</td>\n",
       "      <td>0</td>\n",
       "      <td>0</td>\n",
       "      <td>0</td>\n",
       "    </tr>\n",
       "    <tr>\n",
       "      <th>3</th>\n",
       "      <td>2020-01-25</td>\n",
       "      <td>Afghanistan</td>\n",
       "      <td>33.93911</td>\n",
       "      <td>67.709953</td>\n",
       "      <td>0</td>\n",
       "      <td>0</td>\n",
       "      <td>0</td>\n",
       "      <td>0</td>\n",
       "    </tr>\n",
       "    <tr>\n",
       "      <th>4</th>\n",
       "      <td>2020-01-26</td>\n",
       "      <td>Afghanistan</td>\n",
       "      <td>33.93911</td>\n",
       "      <td>67.709953</td>\n",
       "      <td>0</td>\n",
       "      <td>0</td>\n",
       "      <td>0</td>\n",
       "      <td>0</td>\n",
       "    </tr>\n",
       "    <tr>\n",
       "      <th>...</th>\n",
       "      <td>...</td>\n",
       "      <td>...</td>\n",
       "      <td>...</td>\n",
       "      <td>...</td>\n",
       "      <td>...</td>\n",
       "      <td>...</td>\n",
       "      <td>...</td>\n",
       "      <td>...</td>\n",
       "    </tr>\n",
       "    <tr>\n",
       "      <th>72760</th>\n",
       "      <td>2020-09-18</td>\n",
       "      <td>Timor-Leste</td>\n",
       "      <td>-8.87420</td>\n",
       "      <td>125.727500</td>\n",
       "      <td>0</td>\n",
       "      <td>26</td>\n",
       "      <td>0</td>\n",
       "      <td>-26</td>\n",
       "    </tr>\n",
       "    <tr>\n",
       "      <th>72761</th>\n",
       "      <td>2020-09-19</td>\n",
       "      <td>Timor-Leste</td>\n",
       "      <td>-8.87420</td>\n",
       "      <td>125.727500</td>\n",
       "      <td>0</td>\n",
       "      <td>26</td>\n",
       "      <td>0</td>\n",
       "      <td>-26</td>\n",
       "    </tr>\n",
       "    <tr>\n",
       "      <th>72762</th>\n",
       "      <td>2020-09-20</td>\n",
       "      <td>Timor-Leste</td>\n",
       "      <td>-8.87420</td>\n",
       "      <td>125.727500</td>\n",
       "      <td>0</td>\n",
       "      <td>26</td>\n",
       "      <td>0</td>\n",
       "      <td>-26</td>\n",
       "    </tr>\n",
       "    <tr>\n",
       "      <th>72763</th>\n",
       "      <td>2020-09-21</td>\n",
       "      <td>Timor-Leste</td>\n",
       "      <td>-8.87420</td>\n",
       "      <td>125.727500</td>\n",
       "      <td>0</td>\n",
       "      <td>27</td>\n",
       "      <td>0</td>\n",
       "      <td>-27</td>\n",
       "    </tr>\n",
       "    <tr>\n",
       "      <th>72764</th>\n",
       "      <td>2020-09-22</td>\n",
       "      <td>Timor-Leste</td>\n",
       "      <td>-8.87420</td>\n",
       "      <td>125.727500</td>\n",
       "      <td>0</td>\n",
       "      <td>27</td>\n",
       "      <td>0</td>\n",
       "      <td>-27</td>\n",
       "    </tr>\n",
       "  </tbody>\n",
       "</table>\n",
       "<p>72765 rows × 8 columns</p>\n",
       "</div>"
      ],
      "text/plain": [
       "            Date      Country       Lat        Long  Confirmed  Recovered  \\\n",
       "0     2020-01-22  Afghanistan  33.93911   67.709953          0          0   \n",
       "1     2020-01-23  Afghanistan  33.93911   67.709953          0          0   \n",
       "2     2020-01-24  Afghanistan  33.93911   67.709953          0          0   \n",
       "3     2020-01-25  Afghanistan  33.93911   67.709953          0          0   \n",
       "4     2020-01-26  Afghanistan  33.93911   67.709953          0          0   \n",
       "...          ...          ...       ...         ...        ...        ...   \n",
       "72760 2020-09-18  Timor-Leste  -8.87420  125.727500          0         26   \n",
       "72761 2020-09-19  Timor-Leste  -8.87420  125.727500          0         26   \n",
       "72762 2020-09-20  Timor-Leste  -8.87420  125.727500          0         26   \n",
       "72763 2020-09-21  Timor-Leste  -8.87420  125.727500          0         27   \n",
       "72764 2020-09-22  Timor-Leste  -8.87420  125.727500          0         27   \n",
       "\n",
       "       Deaths  Active  \n",
       "0           0       0  \n",
       "1           0       0  \n",
       "2           0       0  \n",
       "3           0       0  \n",
       "4           0       0  \n",
       "...       ...     ...  \n",
       "72760       0     -26  \n",
       "72761       0     -26  \n",
       "72762       0     -26  \n",
       "72763       0     -27  \n",
       "72764       0     -27  \n",
       "\n",
       "[72765 rows x 8 columns]"
      ]
     },
     "execution_count": 8,
     "metadata": {},
     "output_type": "execute_result"
    }
   ],
   "source": [
    "country_cleaned"
   ]
  },
  {
   "cell_type": "markdown",
   "metadata": {},
   "source": [
    "### Query data per-negara"
   ]
  },
  {
   "cell_type": "code",
   "execution_count": 9,
   "metadata": {},
   "outputs": [
    {
     "data": {
      "text/html": [
       "<div>\n",
       "<style scoped>\n",
       "    .dataframe tbody tr th:only-of-type {\n",
       "        vertical-align: middle;\n",
       "    }\n",
       "\n",
       "    .dataframe tbody tr th {\n",
       "        vertical-align: top;\n",
       "    }\n",
       "\n",
       "    .dataframe thead th {\n",
       "        text-align: right;\n",
       "    }\n",
       "</style>\n",
       "<table border=\"1\" class=\"dataframe\">\n",
       "  <thead>\n",
       "    <tr style=\"text-align: right;\">\n",
       "      <th></th>\n",
       "      <th>Date</th>\n",
       "      <th>Country</th>\n",
       "      <th>Lat</th>\n",
       "      <th>Long</th>\n",
       "      <th>Confirmed</th>\n",
       "      <th>Recovered</th>\n",
       "      <th>Deaths</th>\n",
       "      <th>Active</th>\n",
       "    </tr>\n",
       "  </thead>\n",
       "  <tbody>\n",
       "    <tr>\n",
       "      <th>0</th>\n",
       "      <td>2020-01-22</td>\n",
       "      <td>Afghanistan</td>\n",
       "      <td>33.93911</td>\n",
       "      <td>67.709953</td>\n",
       "      <td>0</td>\n",
       "      <td>0</td>\n",
       "      <td>0</td>\n",
       "      <td>0</td>\n",
       "    </tr>\n",
       "    <tr>\n",
       "      <th>1</th>\n",
       "      <td>2020-01-23</td>\n",
       "      <td>Afghanistan</td>\n",
       "      <td>33.93911</td>\n",
       "      <td>67.709953</td>\n",
       "      <td>0</td>\n",
       "      <td>0</td>\n",
       "      <td>0</td>\n",
       "      <td>0</td>\n",
       "    </tr>\n",
       "    <tr>\n",
       "      <th>2</th>\n",
       "      <td>2020-01-24</td>\n",
       "      <td>Afghanistan</td>\n",
       "      <td>33.93911</td>\n",
       "      <td>67.709953</td>\n",
       "      <td>0</td>\n",
       "      <td>0</td>\n",
       "      <td>0</td>\n",
       "      <td>0</td>\n",
       "    </tr>\n",
       "    <tr>\n",
       "      <th>3</th>\n",
       "      <td>2020-01-25</td>\n",
       "      <td>Afghanistan</td>\n",
       "      <td>33.93911</td>\n",
       "      <td>67.709953</td>\n",
       "      <td>0</td>\n",
       "      <td>0</td>\n",
       "      <td>0</td>\n",
       "      <td>0</td>\n",
       "    </tr>\n",
       "    <tr>\n",
       "      <th>4</th>\n",
       "      <td>2020-01-26</td>\n",
       "      <td>Afghanistan</td>\n",
       "      <td>33.93911</td>\n",
       "      <td>67.709953</td>\n",
       "      <td>0</td>\n",
       "      <td>0</td>\n",
       "      <td>0</td>\n",
       "      <td>0</td>\n",
       "    </tr>\n",
       "    <tr>\n",
       "      <th>...</th>\n",
       "      <td>...</td>\n",
       "      <td>...</td>\n",
       "      <td>...</td>\n",
       "      <td>...</td>\n",
       "      <td>...</td>\n",
       "      <td>...</td>\n",
       "      <td>...</td>\n",
       "      <td>...</td>\n",
       "    </tr>\n",
       "    <tr>\n",
       "      <th>240</th>\n",
       "      <td>2020-09-18</td>\n",
       "      <td>Afghanistan</td>\n",
       "      <td>33.93911</td>\n",
       "      <td>67.709953</td>\n",
       "      <td>38883</td>\n",
       "      <td>32576</td>\n",
       "      <td>1437</td>\n",
       "      <td>4870</td>\n",
       "    </tr>\n",
       "    <tr>\n",
       "      <th>241</th>\n",
       "      <td>2020-09-19</td>\n",
       "      <td>Afghanistan</td>\n",
       "      <td>33.93911</td>\n",
       "      <td>67.709953</td>\n",
       "      <td>38919</td>\n",
       "      <td>32576</td>\n",
       "      <td>1437</td>\n",
       "      <td>4906</td>\n",
       "    </tr>\n",
       "    <tr>\n",
       "      <th>242</th>\n",
       "      <td>2020-09-20</td>\n",
       "      <td>Afghanistan</td>\n",
       "      <td>33.93911</td>\n",
       "      <td>67.709953</td>\n",
       "      <td>39044</td>\n",
       "      <td>32576</td>\n",
       "      <td>1441</td>\n",
       "      <td>5027</td>\n",
       "    </tr>\n",
       "    <tr>\n",
       "      <th>243</th>\n",
       "      <td>2020-09-21</td>\n",
       "      <td>Afghanistan</td>\n",
       "      <td>33.93911</td>\n",
       "      <td>67.709953</td>\n",
       "      <td>39074</td>\n",
       "      <td>32576</td>\n",
       "      <td>1444</td>\n",
       "      <td>5054</td>\n",
       "    </tr>\n",
       "    <tr>\n",
       "      <th>244</th>\n",
       "      <td>2020-09-22</td>\n",
       "      <td>Afghanistan</td>\n",
       "      <td>33.93911</td>\n",
       "      <td>67.709953</td>\n",
       "      <td>39096</td>\n",
       "      <td>32576</td>\n",
       "      <td>1445</td>\n",
       "      <td>5075</td>\n",
       "    </tr>\n",
       "  </tbody>\n",
       "</table>\n",
       "<p>245 rows × 8 columns</p>\n",
       "</div>"
      ],
      "text/plain": [
       "          Date      Country       Lat       Long  Confirmed  Recovered  \\\n",
       "0   2020-01-22  Afghanistan  33.93911  67.709953          0          0   \n",
       "1   2020-01-23  Afghanistan  33.93911  67.709953          0          0   \n",
       "2   2020-01-24  Afghanistan  33.93911  67.709953          0          0   \n",
       "3   2020-01-25  Afghanistan  33.93911  67.709953          0          0   \n",
       "4   2020-01-26  Afghanistan  33.93911  67.709953          0          0   \n",
       "..         ...          ...       ...        ...        ...        ...   \n",
       "240 2020-09-18  Afghanistan  33.93911  67.709953      38883      32576   \n",
       "241 2020-09-19  Afghanistan  33.93911  67.709953      38919      32576   \n",
       "242 2020-09-20  Afghanistan  33.93911  67.709953      39044      32576   \n",
       "243 2020-09-21  Afghanistan  33.93911  67.709953      39074      32576   \n",
       "244 2020-09-22  Afghanistan  33.93911  67.709953      39096      32576   \n",
       "\n",
       "     Deaths  Active  \n",
       "0         0       0  \n",
       "1         0       0  \n",
       "2         0       0  \n",
       "3         0       0  \n",
       "4         0       0  \n",
       "..      ...     ...  \n",
       "240    1437    4870  \n",
       "241    1437    4906  \n",
       "242    1441    5027  \n",
       "243    1444    5054  \n",
       "244    1445    5075  \n",
       "\n",
       "[245 rows x 8 columns]"
      ]
     },
     "execution_count": 9,
     "metadata": {},
     "output_type": "execute_result"
    }
   ],
   "source": [
    "country_cleaned.query('Country == \"Afghanistan\"')"
   ]
  },
  {
   "cell_type": "markdown",
   "metadata": {},
   "source": [
    "### Total kasus"
   ]
  },
  {
   "cell_type": "code",
   "execution_count": 10,
   "metadata": {},
   "outputs": [
    {
     "data": {
      "text/html": [
       "<div>\n",
       "<style scoped>\n",
       "    .dataframe tbody tr th:only-of-type {\n",
       "        vertical-align: middle;\n",
       "    }\n",
       "\n",
       "    .dataframe tbody tr th {\n",
       "        vertical-align: top;\n",
       "    }\n",
       "\n",
       "    .dataframe thead th {\n",
       "        text-align: right;\n",
       "    }\n",
       "</style>\n",
       "<table border=\"1\" class=\"dataframe\">\n",
       "  <thead>\n",
       "    <tr style=\"text-align: right;\">\n",
       "      <th></th>\n",
       "      <th>Country</th>\n",
       "      <th>Confirmed</th>\n",
       "    </tr>\n",
       "  </thead>\n",
       "  <tbody>\n",
       "    <tr>\n",
       "      <th>0</th>\n",
       "      <td>Afghanistan</td>\n",
       "      <td>4095672</td>\n",
       "    </tr>\n",
       "    <tr>\n",
       "      <th>1</th>\n",
       "      <td>Albania</td>\n",
       "      <td>691980</td>\n",
       "    </tr>\n",
       "    <tr>\n",
       "      <th>2</th>\n",
       "      <td>Algeria</td>\n",
       "      <td>3533365</td>\n",
       "    </tr>\n",
       "    <tr>\n",
       "      <th>3</th>\n",
       "      <td>Andorra</td>\n",
       "      <td>159737</td>\n",
       "    </tr>\n",
       "    <tr>\n",
       "      <th>4</th>\n",
       "      <td>Angola</td>\n",
       "      <td>160134</td>\n",
       "    </tr>\n",
       "    <tr>\n",
       "      <th>...</th>\n",
       "      <td>...</td>\n",
       "      <td>...</td>\n",
       "    </tr>\n",
       "    <tr>\n",
       "      <th>183</th>\n",
       "      <td>West Bank and Gaza</td>\n",
       "      <td>1455863</td>\n",
       "    </tr>\n",
       "    <tr>\n",
       "      <th>184</th>\n",
       "      <td>Western Sahara</td>\n",
       "      <td>1471</td>\n",
       "    </tr>\n",
       "    <tr>\n",
       "      <th>185</th>\n",
       "      <td>Yemen</td>\n",
       "      <td>175743</td>\n",
       "    </tr>\n",
       "    <tr>\n",
       "      <th>186</th>\n",
       "      <td>Zambia</td>\n",
       "      <td>736186</td>\n",
       "    </tr>\n",
       "    <tr>\n",
       "      <th>187</th>\n",
       "      <td>Zimbabwe</td>\n",
       "      <td>387245</td>\n",
       "    </tr>\n",
       "  </tbody>\n",
       "</table>\n",
       "<p>188 rows × 2 columns</p>\n",
       "</div>"
      ],
      "text/plain": [
       "                Country  Confirmed\n",
       "0           Afghanistan    4095672\n",
       "1               Albania     691980\n",
       "2               Algeria    3533365\n",
       "3               Andorra     159737\n",
       "4                Angola     160134\n",
       "..                  ...        ...\n",
       "183  West Bank and Gaza    1455863\n",
       "184      Western Sahara       1471\n",
       "185               Yemen     175743\n",
       "186              Zambia     736186\n",
       "187            Zimbabwe     387245\n",
       "\n",
       "[188 rows x 2 columns]"
      ]
     },
     "execution_count": 10,
     "metadata": {},
     "output_type": "execute_result"
    }
   ],
   "source": [
    "confirmed = country_cleaned.groupby([\"Country\"]).sum()['Confirmed'].reset_index()\n",
    "deaths = country_cleaned.groupby([\"Date\"]).sum()['Deaths'].reset_index()\n",
    "recovered = country_cleaned.groupby([\"Date\"]).sum()['Recovered'].reset_index()\n",
    "confirmed\n",
    "# hilangkan date"
   ]
  },
  {
   "cell_type": "code",
   "execution_count": 11,
   "metadata": {},
   "outputs": [
    {
     "data": {
      "text/html": [
       "<div>\n",
       "<style scoped>\n",
       "    .dataframe tbody tr th:only-of-type {\n",
       "        vertical-align: middle;\n",
       "    }\n",
       "\n",
       "    .dataframe tbody tr th {\n",
       "        vertical-align: top;\n",
       "    }\n",
       "\n",
       "    .dataframe thead th {\n",
       "        text-align: right;\n",
       "    }\n",
       "</style>\n",
       "<table border=\"1\" class=\"dataframe\">\n",
       "  <thead>\n",
       "    <tr style=\"text-align: right;\">\n",
       "      <th></th>\n",
       "      <th>Country</th>\n",
       "      <th>Confirmed</th>\n",
       "    </tr>\n",
       "  </thead>\n",
       "  <tbody>\n",
       "    <tr>\n",
       "      <th>174</th>\n",
       "      <td>US</td>\n",
       "      <td>550597491</td>\n",
       "    </tr>\n",
       "  </tbody>\n",
       "</table>\n",
       "</div>"
      ],
      "text/plain": [
       "    Country  Confirmed\n",
       "174      US  550597491"
      ]
     },
     "execution_count": 11,
     "metadata": {},
     "output_type": "execute_result"
    }
   ],
   "source": [
    "confirmed.query('Country == \"US\"')"
   ]
  },
  {
   "cell_type": "markdown",
   "metadata": {},
   "source": [
    "## Scatter Plot kasus"
   ]
  },
  {
   "cell_type": "code",
   "execution_count": 12,
   "metadata": {},
   "outputs": [
    {
     "data": {
      "application/vnd.plotly.v1+json": {
       "config": {
        "plotlyServerURL": "https://plot.ly"
       },
       "data": [
        {
         "name": "Confirmed",
         "type": "scatter",
         "x": [
          4095672,
          691980,
          3533365,
          159737,
          160134,
          9819,
          26310978,
          4030856,
          2321991,
          3573756,
          3162615,
          118398,
          4668824,
          25618301,
          19743,
          8483407,
          11012931,
          47477,
          183782,
          15078,
          8305702,
          1443569,
          104896,
          297073968,
          26336,
          1291483,
          174670,
          107252,
          36046,
          293925,
          32216,
          1924299,
          16733170,
          466148,
          121610,
          39776158,
          19227942,
          37920864,
          39944,
          337081,
          989266,
          2500662,
          1618102,
          823921,
          431113,
          186677,
          2637217,
          2298092,
          156644,
          640846,
          3209,
          7649639,
          10743640,
          9724542,
          1798989,
          427881,
          29739,
          351623,
          299264,
          2801492,
          3918,
          1171595,
          39072542,
          802564,
          136315,
          181776,
          34656130,
          3680328,
          887912,
          3832,
          5183932,
          913035,
          245922,
          84533,
          792171,
          2040,
          4455486,
          831580,
          339199,
          233508559,
          13513492,
          39969557,
          15333137,
          4202950,
          9229002,
          41931782,
          188504,
          5433930,
          216294,
          8276923,
          2233708,
          2694333,
          883453,
          7807018,
          2996619,
          3461,
          196241,
          1008750,
          64228,
          124627,
          814841,
          16070,
          345610,
          912234,
          1583,
          1013522,
          384561,
          1412311,
          569147,
          307424,
          163387,
          611843,
          59520,
          47197134,
          3133765,
          20591,
          34198,
          354510,
          4256606,
          270096,
          380172,
          2789358,
          9252421,
          272353,
          387205,
          168794,
          4558776,
          1220592,
          1619786,
          7404465,
          29509806,
          7341242,
          21677,
          1087882,
          52953127,
          13951245,
          6314891,
          7134777,
          13053893,
          6966137,
          100381759,
          262076,
          2745,
          3709,
          6142,
          115429,
          97658,
          29824806,
          1193626,
          3093019,
          11455,
          209442,
          6688803,
          395455,
          350606,
          394605,
          45255990,
          261662,
          52209984,
          338576,
          1312057,
          229647,
          9691315,
          6046305,
          152224,
          83365,
          859793,
          78340,
          560535,
          3964,
          121299,
          101153,
          355778,
          32922400,
          550597491,
          217982,
          9850634,
          7631773,
          45988448,
          183402,
          2866127,
          2797999,
          94020,
          1455863,
          1471,
          175743,
          736186,
          387245
         ],
         "y": [
          4095672,
          691980,
          3533365,
          159737,
          160134,
          9819,
          26310978,
          4030856,
          2321991,
          3573756,
          3162615,
          118398,
          4668824,
          25618301,
          19743,
          8483407,
          11012931,
          47477,
          183782,
          15078,
          8305702,
          1443569,
          104896,
          297073968,
          26336,
          1291483,
          174670,
          107252,
          36046,
          293925,
          32216,
          1924299,
          16733170,
          466148,
          121610,
          39776158,
          19227942,
          37920864,
          39944,
          337081,
          989266,
          2500662,
          1618102,
          823921,
          431113,
          186677,
          2637217,
          2298092,
          156644,
          640846,
          3209,
          7649639,
          10743640,
          9724542,
          1798989,
          427881,
          29739,
          351623,
          299264,
          2801492,
          3918,
          1171595,
          39072542,
          802564,
          136315,
          181776,
          34656130,
          3680328,
          887912,
          3832,
          5183932,
          913035,
          245922,
          84533,
          792171,
          2040,
          4455486,
          831580,
          339199,
          233508559,
          13513492,
          39969557,
          15333137,
          4202950,
          9229002,
          41931782,
          188504,
          5433930,
          216294,
          8276923,
          2233708,
          2694333,
          883453,
          7807018,
          2996619,
          3461,
          196241,
          1008750,
          64228,
          124627,
          814841,
          16070,
          345610,
          912234,
          1583,
          1013522,
          384561,
          1412311,
          569147,
          307424,
          163387,
          611843,
          59520,
          47197134,
          3133765,
          20591,
          34198,
          354510,
          4256606,
          270096,
          380172,
          2789358,
          9252421,
          272353,
          387205,
          168794,
          4558776,
          1220592,
          1619786,
          7404465,
          29509806,
          7341242,
          21677,
          1087882,
          52953127,
          13951245,
          6314891,
          7134777,
          13053893,
          6966137,
          100381759,
          262076,
          2745,
          3709,
          6142,
          115429,
          97658,
          29824806,
          1193626,
          3093019,
          11455,
          209442,
          6688803,
          395455,
          350606,
          394605,
          45255990,
          261662,
          52209984,
          338576,
          1312057,
          229647,
          9691315,
          6046305,
          152224,
          83365,
          859793,
          78340,
          560535,
          3964,
          121299,
          101153,
          355778,
          32922400,
          550597491,
          217982,
          9850634,
          7631773,
          45988448,
          183402,
          2866127,
          2797999,
          94020,
          1455863,
          1471,
          175743,
          736186,
          387245
         ]
        },
        {
         "name": "Deaths",
         "type": "scatter",
         "x": [
          "2020-01-22T00:00:00",
          "2020-01-23T00:00:00",
          "2020-01-24T00:00:00",
          "2020-01-25T00:00:00",
          "2020-01-26T00:00:00",
          "2020-01-27T00:00:00",
          "2020-01-28T00:00:00",
          "2020-01-29T00:00:00",
          "2020-01-30T00:00:00",
          "2020-01-31T00:00:00",
          "2020-02-01T00:00:00",
          "2020-02-02T00:00:00",
          "2020-02-03T00:00:00",
          "2020-02-04T00:00:00",
          "2020-02-05T00:00:00",
          "2020-02-06T00:00:00",
          "2020-02-07T00:00:00",
          "2020-02-08T00:00:00",
          "2020-02-09T00:00:00",
          "2020-02-10T00:00:00",
          "2020-02-11T00:00:00",
          "2020-02-12T00:00:00",
          "2020-02-13T00:00:00",
          "2020-02-14T00:00:00",
          "2020-02-15T00:00:00",
          "2020-02-16T00:00:00",
          "2020-02-17T00:00:00",
          "2020-02-18T00:00:00",
          "2020-02-19T00:00:00",
          "2020-02-20T00:00:00",
          "2020-02-21T00:00:00",
          "2020-02-22T00:00:00",
          "2020-02-23T00:00:00",
          "2020-02-24T00:00:00",
          "2020-02-25T00:00:00",
          "2020-02-26T00:00:00",
          "2020-02-27T00:00:00",
          "2020-02-28T00:00:00",
          "2020-02-29T00:00:00",
          "2020-03-01T00:00:00",
          "2020-03-02T00:00:00",
          "2020-03-03T00:00:00",
          "2020-03-04T00:00:00",
          "2020-03-05T00:00:00",
          "2020-03-06T00:00:00",
          "2020-03-07T00:00:00",
          "2020-03-08T00:00:00",
          "2020-03-09T00:00:00",
          "2020-03-10T00:00:00",
          "2020-03-11T00:00:00",
          "2020-03-12T00:00:00",
          "2020-03-13T00:00:00",
          "2020-03-14T00:00:00",
          "2020-03-15T00:00:00",
          "2020-03-16T00:00:00",
          "2020-03-17T00:00:00",
          "2020-03-18T00:00:00",
          "2020-03-19T00:00:00",
          "2020-03-20T00:00:00",
          "2020-03-21T00:00:00",
          "2020-03-22T00:00:00",
          "2020-03-23T00:00:00",
          "2020-03-24T00:00:00",
          "2020-03-25T00:00:00",
          "2020-03-26T00:00:00",
          "2020-03-27T00:00:00",
          "2020-03-28T00:00:00",
          "2020-03-29T00:00:00",
          "2020-03-30T00:00:00",
          "2020-03-31T00:00:00",
          "2020-04-01T00:00:00",
          "2020-04-02T00:00:00",
          "2020-04-03T00:00:00",
          "2020-04-04T00:00:00",
          "2020-04-05T00:00:00",
          "2020-04-06T00:00:00",
          "2020-04-07T00:00:00",
          "2020-04-08T00:00:00",
          "2020-04-09T00:00:00",
          "2020-04-10T00:00:00",
          "2020-04-11T00:00:00",
          "2020-04-12T00:00:00",
          "2020-04-13T00:00:00",
          "2020-04-14T00:00:00",
          "2020-04-15T00:00:00",
          "2020-04-16T00:00:00",
          "2020-04-17T00:00:00",
          "2020-04-18T00:00:00",
          "2020-04-19T00:00:00",
          "2020-04-20T00:00:00",
          "2020-04-21T00:00:00",
          "2020-04-22T00:00:00",
          "2020-04-23T00:00:00",
          "2020-04-24T00:00:00",
          "2020-04-25T00:00:00",
          "2020-04-26T00:00:00",
          "2020-04-27T00:00:00",
          "2020-04-28T00:00:00",
          "2020-04-29T00:00:00",
          "2020-04-30T00:00:00",
          "2020-05-01T00:00:00",
          "2020-05-02T00:00:00",
          "2020-05-03T00:00:00",
          "2020-05-04T00:00:00",
          "2020-05-05T00:00:00",
          "2020-05-06T00:00:00",
          "2020-05-07T00:00:00",
          "2020-05-08T00:00:00",
          "2020-05-09T00:00:00",
          "2020-05-10T00:00:00",
          "2020-05-11T00:00:00",
          "2020-05-12T00:00:00",
          "2020-05-13T00:00:00",
          "2020-05-14T00:00:00",
          "2020-05-15T00:00:00",
          "2020-05-16T00:00:00",
          "2020-05-17T00:00:00",
          "2020-05-18T00:00:00",
          "2020-05-19T00:00:00",
          "2020-05-20T00:00:00",
          "2020-05-21T00:00:00",
          "2020-05-22T00:00:00",
          "2020-05-23T00:00:00",
          "2020-05-24T00:00:00",
          "2020-05-25T00:00:00",
          "2020-05-26T00:00:00",
          "2020-05-27T00:00:00",
          "2020-05-28T00:00:00",
          "2020-05-29T00:00:00",
          "2020-05-30T00:00:00",
          "2020-05-31T00:00:00",
          "2020-06-01T00:00:00",
          "2020-06-02T00:00:00",
          "2020-06-03T00:00:00",
          "2020-06-04T00:00:00",
          "2020-06-05T00:00:00",
          "2020-06-06T00:00:00",
          "2020-06-07T00:00:00",
          "2020-06-08T00:00:00",
          "2020-06-09T00:00:00",
          "2020-06-10T00:00:00",
          "2020-06-11T00:00:00",
          "2020-06-12T00:00:00",
          "2020-06-13T00:00:00",
          "2020-06-14T00:00:00",
          "2020-06-15T00:00:00",
          "2020-06-16T00:00:00",
          "2020-06-17T00:00:00",
          "2020-06-18T00:00:00",
          "2020-06-19T00:00:00",
          "2020-06-20T00:00:00",
          "2020-06-21T00:00:00",
          "2020-06-22T00:00:00",
          "2020-06-23T00:00:00",
          "2020-06-24T00:00:00",
          "2020-06-25T00:00:00",
          "2020-06-26T00:00:00",
          "2020-06-27T00:00:00",
          "2020-06-28T00:00:00",
          "2020-06-29T00:00:00",
          "2020-06-30T00:00:00",
          "2020-07-01T00:00:00",
          "2020-07-02T00:00:00",
          "2020-07-03T00:00:00",
          "2020-07-04T00:00:00",
          "2020-07-05T00:00:00",
          "2020-07-06T00:00:00",
          "2020-07-07T00:00:00",
          "2020-07-08T00:00:00",
          "2020-07-09T00:00:00",
          "2020-07-10T00:00:00",
          "2020-07-11T00:00:00",
          "2020-07-12T00:00:00",
          "2020-07-13T00:00:00",
          "2020-07-14T00:00:00",
          "2020-07-15T00:00:00",
          "2020-07-16T00:00:00",
          "2020-07-17T00:00:00",
          "2020-07-18T00:00:00",
          "2020-07-19T00:00:00",
          "2020-07-20T00:00:00",
          "2020-07-21T00:00:00",
          "2020-07-22T00:00:00",
          "2020-07-23T00:00:00",
          "2020-07-24T00:00:00",
          "2020-07-25T00:00:00",
          "2020-07-26T00:00:00",
          "2020-07-27T00:00:00",
          "2020-07-28T00:00:00",
          "2020-07-29T00:00:00",
          "2020-07-30T00:00:00",
          "2020-07-31T00:00:00",
          "2020-08-01T00:00:00",
          "2020-08-02T00:00:00",
          "2020-08-03T00:00:00",
          "2020-08-04T00:00:00",
          "2020-08-05T00:00:00",
          "2020-08-06T00:00:00",
          "2020-08-07T00:00:00",
          "2020-08-08T00:00:00",
          "2020-08-09T00:00:00",
          "2020-08-10T00:00:00",
          "2020-08-11T00:00:00",
          "2020-08-12T00:00:00",
          "2020-08-13T00:00:00",
          "2020-08-14T00:00:00",
          "2020-08-15T00:00:00",
          "2020-08-16T00:00:00",
          "2020-08-17T00:00:00",
          "2020-08-18T00:00:00",
          "2020-08-19T00:00:00",
          "2020-08-20T00:00:00",
          "2020-08-21T00:00:00",
          "2020-08-22T00:00:00",
          "2020-08-23T00:00:00",
          "2020-08-24T00:00:00",
          "2020-08-25T00:00:00",
          "2020-08-26T00:00:00",
          "2020-08-27T00:00:00",
          "2020-08-28T00:00:00",
          "2020-08-29T00:00:00",
          "2020-08-30T00:00:00",
          "2020-08-31T00:00:00",
          "2020-09-01T00:00:00",
          "2020-09-02T00:00:00",
          "2020-09-03T00:00:00",
          "2020-09-04T00:00:00",
          "2020-09-05T00:00:00",
          "2020-09-06T00:00:00",
          "2020-09-07T00:00:00",
          "2020-09-08T00:00:00",
          "2020-09-09T00:00:00",
          "2020-09-10T00:00:00",
          "2020-09-11T00:00:00",
          "2020-09-12T00:00:00",
          "2020-09-13T00:00:00",
          "2020-09-14T00:00:00",
          "2020-09-15T00:00:00",
          "2020-09-16T00:00:00",
          "2020-09-17T00:00:00",
          "2020-09-18T00:00:00",
          "2020-09-19T00:00:00",
          "2020-09-20T00:00:00",
          "2020-09-21T00:00:00",
          "2020-09-22T00:00:00"
         ],
         "y": [
          17,
          18,
          26,
          42,
          56,
          82,
          131,
          133,
          171,
          213,
          259,
          362,
          426,
          492,
          564,
          634,
          719,
          806,
          906,
          1013,
          1113,
          1118,
          1371,
          1523,
          1666,
          1770,
          1868,
          2008,
          2123,
          2248,
          2252,
          2459,
          2470,
          2630,
          2710,
          2771,
          2814,
          2873,
          2942,
          2996,
          3085,
          3160,
          3255,
          3348,
          3460,
          3559,
          3803,
          3987,
          4267,
          4611,
          4917,
          5414,
          5834,
          6475,
          7153,
          7964,
          8867,
          9981,
          11460,
          13180,
          14854,
          16797,
          19079,
          21877,
          24893,
          28388,
          32102,
          35572,
          39620,
          44365,
          49863,
          56101,
          62205,
          68351,
          73540,
          79481,
          87712,
          94464,
          102237,
          109629,
          115854,
          121671,
          127587,
          134567,
          142918,
          150221,
          158588,
          164601,
          169862,
          175726,
          182917,
          189644,
          196485,
          203142,
          208774,
          212708,
          217382,
          223929,
          230657,
          236559,
          241722,
          247205,
          250694,
          254808,
          260714,
          267277,
          272579,
          278054,
          282287,
          285874,
          289354,
          294889,
          299981,
          305171,
          310304,
          314424,
          317712,
          321412,
          326158,
          330926,
          335657,
          340851,
          344742,
          347870,
          349062,
          353180,
          358326,
          362944,
          367536,
          371610,
          374478,
          377554,
          382296,
          387745,
          392879,
          397453,
          401265,
          404006,
          407707,
          412562,
          417623,
          422322,
          426545,
          430722,
          434129,
          437559,
          444294,
          449396,
          454386,
          460545,
          464746,
          468747,
          472311,
          477539,
          482712,
          487411,
          492109,
          496574,
          499712,
          503435,
          508361,
          513291,
          518361,
          523297,
          527661,
          531133,
          534954,
          540984,
          546257,
          551670,
          556965,
          561750,
          565740,
          569553,
          575148,
          580582,
          586332,
          592988,
          598609,
          602661,
          606829,
          612998,
          619920,
          629817,
          635852,
          641398,
          645058,
          650233,
          656545,
          663118,
          669124,
          675313,
          680796,
          685087,
          689402,
          696350,
          703302,
          709787,
          716089,
          721499,
          726039,
          730973,
          737391,
          743999,
          750232,
          760366,
          765715,
          769903,
          774036,
          780909,
          787659,
          793684,
          799224,
          804787,
          808648,
          812998,
          819396,
          825680,
          831566,
          837080,
          842452,
          846353,
          850535,
          857015,
          863028,
          868733,
          874639,
          879577,
          883339,
          892646,
          897383,
          903686,
          909479,
          915356,
          920231,
          923873,
          928303,
          934852,
          940605,
          946061,
          951767,
          956999,
          960695,
          964746,
          969541
         ]
        },
        {
         "name": "Recovered",
         "type": "scatter",
         "x": [
          28,
          30,
          36,
          39,
          52,
          61,
          107,
          126,
          143,
          222,
          284,
          472,
          623,
          852,
          1124,
          1487,
          2011,
          2616,
          3244,
          3946,
          4683,
          5150,
          6295,
          8058,
          9395,
          10865,
          12583,
          14352,
          16121,
          18177,
          18890,
          22886,
          23394,
          25227,
          27905,
          30384,
          33277,
          36711,
          39782,
          42716,
          45602,
          48228,
          51170,
          53796,
          55865,
          58359,
          60694,
          62493,
          64404,
          67002,
          68324,
          70251,
          72622,
          76032,
          78086,
          80838,
          83321,
          84958,
          87403,
          91670,
          97885,
          98351,
          107992,
          113775,
          122145,
          130921,
          139424,
          148891,
          164337,
          177825,
          192918,
          209967,
          225415,
          245832,
          259672,
          276252,
          299643,
          328359,
          353707,
          375509,
          401766,
          421180,
          448347,
          473436,
          510106,
          540926,
          567049,
          590968,
          622623,
          644613,
          679456,
          709881,
          738661,
          788712,
          816491,
          845096,
          872865,
          906136,
          948318,
          1013284,
          1051537,
          1092416,
          1124732,
          1158819,
          1195359,
          1241365,
          1280833,
          1317383,
          1370933,
          1404527,
          1451521,
          1488542,
          1544398,
          1584114,
          1632122,
          1688714,
          1729621,
          1782542,
          1834647,
          1893575,
          1944840,
          2053491,
          2108462,
          2163902,
          2227625,
          2282839,
          2346232,
          2413089,
          2490435,
          2560888,
          2637208,
          2692105,
          2796228,
          2875332,
          2945385,
          3014544,
          3086748,
          3141849,
          3293412,
          3375694,
          3454832,
          3540714,
          3620438,
          3706372,
          3777157,
          3857365,
          3955205,
          4073992,
          4155134,
          4250149,
          4365974,
          4434711,
          4526337,
          4630412,
          4746172,
          4839028,
          4945742,
          5052107,
          5141227,
          5235793,
          5353115,
          5469041,
          5753918,
          5863818,
          6059651,
          6178973,
          6302585,
          6447610,
          6605559,
          6740073,
          6879465,
          7005174,
          7116853,
          7257197,
          7399397,
          7559178,
          7711548,
          7894858,
          8045815,
          8133692,
          8292688,
          8467335,
          8643722,
          8813886,
          9043203,
          9262520,
          9402996,
          9572619,
          9746473,
          9948163,
          10170650,
          10369140,
          10553585,
          10690555,
          10913000,
          11134735,
          11356275,
          11545401,
          11737927,
          11939109,
          12115825,
          12280520,
          12585473,
          12826815,
          12992176,
          13276831,
          13445842,
          13676868,
          13888301,
          14116451,
          14333914,
          14541573,
          14712252,
          14922177,
          15137610,
          15337659,
          15570598,
          15794947,
          15996510,
          16196934,
          16408559,
          16616995,
          16818436,
          17073236,
          17291874,
          17512585,
          17726336,
          17927195,
          18137310,
          18336112,
          18524391,
          18776723,
          18992383,
          19215800,
          19439157,
          19624935,
          19854392,
          20078979,
          20307938,
          20527185,
          20778990,
          21016801,
          21252815,
          21496061,
          21624434
         ],
         "y": [
          28,
          30,
          36,
          39,
          52,
          61,
          107,
          126,
          143,
          222,
          284,
          472,
          623,
          852,
          1124,
          1487,
          2011,
          2616,
          3244,
          3946,
          4683,
          5150,
          6295,
          8058,
          9395,
          10865,
          12583,
          14352,
          16121,
          18177,
          18890,
          22886,
          23394,
          25227,
          27905,
          30384,
          33277,
          36711,
          39782,
          42716,
          45602,
          48228,
          51170,
          53796,
          55865,
          58359,
          60694,
          62493,
          64404,
          67002,
          68324,
          70251,
          72622,
          76032,
          78086,
          80838,
          83321,
          84958,
          87403,
          91670,
          97885,
          98351,
          107992,
          113775,
          122145,
          130921,
          139424,
          148891,
          164337,
          177825,
          192918,
          209967,
          225415,
          245832,
          259672,
          276252,
          299643,
          328359,
          353707,
          375509,
          401766,
          421180,
          448347,
          473436,
          510106,
          540926,
          567049,
          590968,
          622623,
          644613,
          679456,
          709881,
          738661,
          788712,
          816491,
          845096,
          872865,
          906136,
          948318,
          1013284,
          1051537,
          1092416,
          1124732,
          1158819,
          1195359,
          1241365,
          1280833,
          1317383,
          1370933,
          1404527,
          1451521,
          1488542,
          1544398,
          1584114,
          1632122,
          1688714,
          1729621,
          1782542,
          1834647,
          1893575,
          1944840,
          2053491,
          2108462,
          2163902,
          2227625,
          2282839,
          2346232,
          2413089,
          2490435,
          2560888,
          2637208,
          2692105,
          2796228,
          2875332,
          2945385,
          3014544,
          3086748,
          3141849,
          3293412,
          3375694,
          3454832,
          3540714,
          3620438,
          3706372,
          3777157,
          3857365,
          3955205,
          4073992,
          4155134,
          4250149,
          4365974,
          4434711,
          4526337,
          4630412,
          4746172,
          4839028,
          4945742,
          5052107,
          5141227,
          5235793,
          5353115,
          5469041,
          5753918,
          5863818,
          6059651,
          6178973,
          6302585,
          6447610,
          6605559,
          6740073,
          6879465,
          7005174,
          7116853,
          7257197,
          7399397,
          7559178,
          7711548,
          7894858,
          8045815,
          8133692,
          8292688,
          8467335,
          8643722,
          8813886,
          9043203,
          9262520,
          9402996,
          9572619,
          9746473,
          9948163,
          10170650,
          10369140,
          10553585,
          10690555,
          10913000,
          11134735,
          11356275,
          11545401,
          11737927,
          11939109,
          12115825,
          12280520,
          12585473,
          12826815,
          12992176,
          13276831,
          13445842,
          13676868,
          13888301,
          14116451,
          14333914,
          14541573,
          14712252,
          14922177,
          15137610,
          15337659,
          15570598,
          15794947,
          15996510,
          16196934,
          16408559,
          16616995,
          16818436,
          17073236,
          17291874,
          17512585,
          17726336,
          17927195,
          18137310,
          18336112,
          18524391,
          18776723,
          18992383,
          19215800,
          19439157,
          19624935,
          19854392,
          20078979,
          20307938,
          20527185,
          20778990,
          21016801,
          21252815,
          21496061,
          21624434
         ]
        }
       ],
       "layout": {
        "template": {
         "data": {
          "bar": [
           {
            "error_x": {
             "color": "#2a3f5f"
            },
            "error_y": {
             "color": "#2a3f5f"
            },
            "marker": {
             "line": {
              "color": "#E5ECF6",
              "width": 0.5
             }
            },
            "type": "bar"
           }
          ],
          "barpolar": [
           {
            "marker": {
             "line": {
              "color": "#E5ECF6",
              "width": 0.5
             }
            },
            "type": "barpolar"
           }
          ],
          "carpet": [
           {
            "aaxis": {
             "endlinecolor": "#2a3f5f",
             "gridcolor": "white",
             "linecolor": "white",
             "minorgridcolor": "white",
             "startlinecolor": "#2a3f5f"
            },
            "baxis": {
             "endlinecolor": "#2a3f5f",
             "gridcolor": "white",
             "linecolor": "white",
             "minorgridcolor": "white",
             "startlinecolor": "#2a3f5f"
            },
            "type": "carpet"
           }
          ],
          "choropleth": [
           {
            "colorbar": {
             "outlinewidth": 0,
             "ticks": ""
            },
            "type": "choropleth"
           }
          ],
          "contour": [
           {
            "colorbar": {
             "outlinewidth": 0,
             "ticks": ""
            },
            "colorscale": [
             [
              0,
              "#0d0887"
             ],
             [
              0.1111111111111111,
              "#46039f"
             ],
             [
              0.2222222222222222,
              "#7201a8"
             ],
             [
              0.3333333333333333,
              "#9c179e"
             ],
             [
              0.4444444444444444,
              "#bd3786"
             ],
             [
              0.5555555555555556,
              "#d8576b"
             ],
             [
              0.6666666666666666,
              "#ed7953"
             ],
             [
              0.7777777777777778,
              "#fb9f3a"
             ],
             [
              0.8888888888888888,
              "#fdca26"
             ],
             [
              1,
              "#f0f921"
             ]
            ],
            "type": "contour"
           }
          ],
          "contourcarpet": [
           {
            "colorbar": {
             "outlinewidth": 0,
             "ticks": ""
            },
            "type": "contourcarpet"
           }
          ],
          "heatmap": [
           {
            "colorbar": {
             "outlinewidth": 0,
             "ticks": ""
            },
            "colorscale": [
             [
              0,
              "#0d0887"
             ],
             [
              0.1111111111111111,
              "#46039f"
             ],
             [
              0.2222222222222222,
              "#7201a8"
             ],
             [
              0.3333333333333333,
              "#9c179e"
             ],
             [
              0.4444444444444444,
              "#bd3786"
             ],
             [
              0.5555555555555556,
              "#d8576b"
             ],
             [
              0.6666666666666666,
              "#ed7953"
             ],
             [
              0.7777777777777778,
              "#fb9f3a"
             ],
             [
              0.8888888888888888,
              "#fdca26"
             ],
             [
              1,
              "#f0f921"
             ]
            ],
            "type": "heatmap"
           }
          ],
          "heatmapgl": [
           {
            "colorbar": {
             "outlinewidth": 0,
             "ticks": ""
            },
            "colorscale": [
             [
              0,
              "#0d0887"
             ],
             [
              0.1111111111111111,
              "#46039f"
             ],
             [
              0.2222222222222222,
              "#7201a8"
             ],
             [
              0.3333333333333333,
              "#9c179e"
             ],
             [
              0.4444444444444444,
              "#bd3786"
             ],
             [
              0.5555555555555556,
              "#d8576b"
             ],
             [
              0.6666666666666666,
              "#ed7953"
             ],
             [
              0.7777777777777778,
              "#fb9f3a"
             ],
             [
              0.8888888888888888,
              "#fdca26"
             ],
             [
              1,
              "#f0f921"
             ]
            ],
            "type": "heatmapgl"
           }
          ],
          "histogram": [
           {
            "marker": {
             "colorbar": {
              "outlinewidth": 0,
              "ticks": ""
             }
            },
            "type": "histogram"
           }
          ],
          "histogram2d": [
           {
            "colorbar": {
             "outlinewidth": 0,
             "ticks": ""
            },
            "colorscale": [
             [
              0,
              "#0d0887"
             ],
             [
              0.1111111111111111,
              "#46039f"
             ],
             [
              0.2222222222222222,
              "#7201a8"
             ],
             [
              0.3333333333333333,
              "#9c179e"
             ],
             [
              0.4444444444444444,
              "#bd3786"
             ],
             [
              0.5555555555555556,
              "#d8576b"
             ],
             [
              0.6666666666666666,
              "#ed7953"
             ],
             [
              0.7777777777777778,
              "#fb9f3a"
             ],
             [
              0.8888888888888888,
              "#fdca26"
             ],
             [
              1,
              "#f0f921"
             ]
            ],
            "type": "histogram2d"
           }
          ],
          "histogram2dcontour": [
           {
            "colorbar": {
             "outlinewidth": 0,
             "ticks": ""
            },
            "colorscale": [
             [
              0,
              "#0d0887"
             ],
             [
              0.1111111111111111,
              "#46039f"
             ],
             [
              0.2222222222222222,
              "#7201a8"
             ],
             [
              0.3333333333333333,
              "#9c179e"
             ],
             [
              0.4444444444444444,
              "#bd3786"
             ],
             [
              0.5555555555555556,
              "#d8576b"
             ],
             [
              0.6666666666666666,
              "#ed7953"
             ],
             [
              0.7777777777777778,
              "#fb9f3a"
             ],
             [
              0.8888888888888888,
              "#fdca26"
             ],
             [
              1,
              "#f0f921"
             ]
            ],
            "type": "histogram2dcontour"
           }
          ],
          "mesh3d": [
           {
            "colorbar": {
             "outlinewidth": 0,
             "ticks": ""
            },
            "type": "mesh3d"
           }
          ],
          "parcoords": [
           {
            "line": {
             "colorbar": {
              "outlinewidth": 0,
              "ticks": ""
             }
            },
            "type": "parcoords"
           }
          ],
          "pie": [
           {
            "automargin": true,
            "type": "pie"
           }
          ],
          "scatter": [
           {
            "marker": {
             "colorbar": {
              "outlinewidth": 0,
              "ticks": ""
             }
            },
            "type": "scatter"
           }
          ],
          "scatter3d": [
           {
            "line": {
             "colorbar": {
              "outlinewidth": 0,
              "ticks": ""
             }
            },
            "marker": {
             "colorbar": {
              "outlinewidth": 0,
              "ticks": ""
             }
            },
            "type": "scatter3d"
           }
          ],
          "scattercarpet": [
           {
            "marker": {
             "colorbar": {
              "outlinewidth": 0,
              "ticks": ""
             }
            },
            "type": "scattercarpet"
           }
          ],
          "scattergeo": [
           {
            "marker": {
             "colorbar": {
              "outlinewidth": 0,
              "ticks": ""
             }
            },
            "type": "scattergeo"
           }
          ],
          "scattergl": [
           {
            "marker": {
             "colorbar": {
              "outlinewidth": 0,
              "ticks": ""
             }
            },
            "type": "scattergl"
           }
          ],
          "scattermapbox": [
           {
            "marker": {
             "colorbar": {
              "outlinewidth": 0,
              "ticks": ""
             }
            },
            "type": "scattermapbox"
           }
          ],
          "scatterpolar": [
           {
            "marker": {
             "colorbar": {
              "outlinewidth": 0,
              "ticks": ""
             }
            },
            "type": "scatterpolar"
           }
          ],
          "scatterpolargl": [
           {
            "marker": {
             "colorbar": {
              "outlinewidth": 0,
              "ticks": ""
             }
            },
            "type": "scatterpolargl"
           }
          ],
          "scatterternary": [
           {
            "marker": {
             "colorbar": {
              "outlinewidth": 0,
              "ticks": ""
             }
            },
            "type": "scatterternary"
           }
          ],
          "surface": [
           {
            "colorbar": {
             "outlinewidth": 0,
             "ticks": ""
            },
            "colorscale": [
             [
              0,
              "#0d0887"
             ],
             [
              0.1111111111111111,
              "#46039f"
             ],
             [
              0.2222222222222222,
              "#7201a8"
             ],
             [
              0.3333333333333333,
              "#9c179e"
             ],
             [
              0.4444444444444444,
              "#bd3786"
             ],
             [
              0.5555555555555556,
              "#d8576b"
             ],
             [
              0.6666666666666666,
              "#ed7953"
             ],
             [
              0.7777777777777778,
              "#fb9f3a"
             ],
             [
              0.8888888888888888,
              "#fdca26"
             ],
             [
              1,
              "#f0f921"
             ]
            ],
            "type": "surface"
           }
          ],
          "table": [
           {
            "cells": {
             "fill": {
              "color": "#EBF0F8"
             },
             "line": {
              "color": "white"
             }
            },
            "header": {
             "fill": {
              "color": "#C8D4E3"
             },
             "line": {
              "color": "white"
             }
            },
            "type": "table"
           }
          ]
         },
         "layout": {
          "annotationdefaults": {
           "arrowcolor": "#2a3f5f",
           "arrowhead": 0,
           "arrowwidth": 1
          },
          "coloraxis": {
           "colorbar": {
            "outlinewidth": 0,
            "ticks": ""
           }
          },
          "colorscale": {
           "diverging": [
            [
             0,
             "#8e0152"
            ],
            [
             0.1,
             "#c51b7d"
            ],
            [
             0.2,
             "#de77ae"
            ],
            [
             0.3,
             "#f1b6da"
            ],
            [
             0.4,
             "#fde0ef"
            ],
            [
             0.5,
             "#f7f7f7"
            ],
            [
             0.6,
             "#e6f5d0"
            ],
            [
             0.7,
             "#b8e186"
            ],
            [
             0.8,
             "#7fbc41"
            ],
            [
             0.9,
             "#4d9221"
            ],
            [
             1,
             "#276419"
            ]
           ],
           "sequential": [
            [
             0,
             "#0d0887"
            ],
            [
             0.1111111111111111,
             "#46039f"
            ],
            [
             0.2222222222222222,
             "#7201a8"
            ],
            [
             0.3333333333333333,
             "#9c179e"
            ],
            [
             0.4444444444444444,
             "#bd3786"
            ],
            [
             0.5555555555555556,
             "#d8576b"
            ],
            [
             0.6666666666666666,
             "#ed7953"
            ],
            [
             0.7777777777777778,
             "#fb9f3a"
            ],
            [
             0.8888888888888888,
             "#fdca26"
            ],
            [
             1,
             "#f0f921"
            ]
           ],
           "sequentialminus": [
            [
             0,
             "#0d0887"
            ],
            [
             0.1111111111111111,
             "#46039f"
            ],
            [
             0.2222222222222222,
             "#7201a8"
            ],
            [
             0.3333333333333333,
             "#9c179e"
            ],
            [
             0.4444444444444444,
             "#bd3786"
            ],
            [
             0.5555555555555556,
             "#d8576b"
            ],
            [
             0.6666666666666666,
             "#ed7953"
            ],
            [
             0.7777777777777778,
             "#fb9f3a"
            ],
            [
             0.8888888888888888,
             "#fdca26"
            ],
            [
             1,
             "#f0f921"
            ]
           ]
          },
          "colorway": [
           "#636efa",
           "#EF553B",
           "#00cc96",
           "#ab63fa",
           "#FFA15A",
           "#19d3f3",
           "#FF6692",
           "#B6E880",
           "#FF97FF",
           "#FECB52"
          ],
          "font": {
           "color": "#2a3f5f"
          },
          "geo": {
           "bgcolor": "white",
           "lakecolor": "white",
           "landcolor": "#E5ECF6",
           "showlakes": true,
           "showland": true,
           "subunitcolor": "white"
          },
          "hoverlabel": {
           "align": "left"
          },
          "hovermode": "closest",
          "mapbox": {
           "style": "light"
          },
          "paper_bgcolor": "white",
          "plot_bgcolor": "#E5ECF6",
          "polar": {
           "angularaxis": {
            "gridcolor": "white",
            "linecolor": "white",
            "ticks": ""
           },
           "bgcolor": "#E5ECF6",
           "radialaxis": {
            "gridcolor": "white",
            "linecolor": "white",
            "ticks": ""
           }
          },
          "scene": {
           "xaxis": {
            "backgroundcolor": "#E5ECF6",
            "gridcolor": "white",
            "gridwidth": 2,
            "linecolor": "white",
            "showbackground": true,
            "ticks": "",
            "zerolinecolor": "white"
           },
           "yaxis": {
            "backgroundcolor": "#E5ECF6",
            "gridcolor": "white",
            "gridwidth": 2,
            "linecolor": "white",
            "showbackground": true,
            "ticks": "",
            "zerolinecolor": "white"
           },
           "zaxis": {
            "backgroundcolor": "#E5ECF6",
            "gridcolor": "white",
            "gridwidth": 2,
            "linecolor": "white",
            "showbackground": true,
            "ticks": "",
            "zerolinecolor": "white"
           }
          },
          "shapedefaults": {
           "line": {
            "color": "#2a3f5f"
           }
          },
          "ternary": {
           "aaxis": {
            "gridcolor": "white",
            "linecolor": "white",
            "ticks": ""
           },
           "baxis": {
            "gridcolor": "white",
            "linecolor": "white",
            "ticks": ""
           },
           "bgcolor": "#E5ECF6",
           "caxis": {
            "gridcolor": "white",
            "linecolor": "white",
            "ticks": ""
           }
          },
          "title": {
           "x": 0.05
          },
          "xaxis": {
           "automargin": true,
           "gridcolor": "white",
           "linecolor": "white",
           "ticks": "",
           "title": {
            "standoff": 15
           },
           "zerolinecolor": "white",
           "zerolinewidth": 2
          },
          "yaxis": {
           "automargin": true,
           "gridcolor": "white",
           "linecolor": "white",
           "ticks": "",
           "title": {
            "standoff": 15
           },
           "zerolinecolor": "white",
           "zerolinewidth": 2
          }
         }
        },
        "title": {
         "text": "World wide covid19 cases"
        },
        "xaxis": {
         "tickfont": {
          "size": 14
         }
        },
        "yaxis": {
         "title": {
          "text": "Numberof Cases"
         }
        }
       }
      },
      "text/html": [
       "<div>\n",
       "        \n",
       "        \n",
       "            <div id=\"2ee85333-f9a7-45bd-8295-370d4367b32c\" class=\"plotly-graph-div\" style=\"height:525px; width:100%;\"></div>\n",
       "            <script type=\"text/javascript\">\n",
       "                require([\"plotly\"], function(Plotly) {\n",
       "                    window.PLOTLYENV=window.PLOTLYENV || {};\n",
       "                    \n",
       "                if (document.getElementById(\"2ee85333-f9a7-45bd-8295-370d4367b32c\")) {\n",
       "                    Plotly.newPlot(\n",
       "                        '2ee85333-f9a7-45bd-8295-370d4367b32c',\n",
       "                        [{\"name\": \"Confirmed\", \"type\": \"scatter\", \"x\": [4095672, 691980, 3533365, 159737, 160134, 9819, 26310978, 4030856, 2321991, 3573756, 3162615, 118398, 4668824, 25618301, 19743, 8483407, 11012931, 47477, 183782, 15078, 8305702, 1443569, 104896, 297073968, 26336, 1291483, 174670, 107252, 36046, 293925, 32216, 1924299, 16733170, 466148, 121610, 39776158, 19227942, 37920864, 39944, 337081, 989266, 2500662, 1618102, 823921, 431113, 186677, 2637217, 2298092, 156644, 640846, 3209, 7649639, 10743640, 9724542, 1798989, 427881, 29739, 351623, 299264, 2801492, 3918, 1171595, 39072542, 802564, 136315, 181776, 34656130, 3680328, 887912, 3832, 5183932, 913035, 245922, 84533, 792171, 2040, 4455486, 831580, 339199, 233508559, 13513492, 39969557, 15333137, 4202950, 9229002, 41931782, 188504, 5433930, 216294, 8276923, 2233708, 2694333, 883453, 7807018, 2996619, 3461, 196241, 1008750, 64228, 124627, 814841, 16070, 345610, 912234, 1583, 1013522, 384561, 1412311, 569147, 307424, 163387, 611843, 59520, 47197134, 3133765, 20591, 34198, 354510, 4256606, 270096, 380172, 2789358, 9252421, 272353, 387205, 168794, 4558776, 1220592, 1619786, 7404465, 29509806, 7341242, 21677, 1087882, 52953127, 13951245, 6314891, 7134777, 13053893, 6966137, 100381759, 262076, 2745, 3709, 6142, 115429, 97658, 29824806, 1193626, 3093019, 11455, 209442, 6688803, 395455, 350606, 394605, 45255990, 261662, 52209984, 338576, 1312057, 229647, 9691315, 6046305, 152224, 83365, 859793, 78340, 560535, 3964, 121299, 101153, 355778, 32922400, 550597491, 217982, 9850634, 7631773, 45988448, 183402, 2866127, 2797999, 94020, 1455863, 1471, 175743, 736186, 387245], \"y\": [4095672, 691980, 3533365, 159737, 160134, 9819, 26310978, 4030856, 2321991, 3573756, 3162615, 118398, 4668824, 25618301, 19743, 8483407, 11012931, 47477, 183782, 15078, 8305702, 1443569, 104896, 297073968, 26336, 1291483, 174670, 107252, 36046, 293925, 32216, 1924299, 16733170, 466148, 121610, 39776158, 19227942, 37920864, 39944, 337081, 989266, 2500662, 1618102, 823921, 431113, 186677, 2637217, 2298092, 156644, 640846, 3209, 7649639, 10743640, 9724542, 1798989, 427881, 29739, 351623, 299264, 2801492, 3918, 1171595, 39072542, 802564, 136315, 181776, 34656130, 3680328, 887912, 3832, 5183932, 913035, 245922, 84533, 792171, 2040, 4455486, 831580, 339199, 233508559, 13513492, 39969557, 15333137, 4202950, 9229002, 41931782, 188504, 5433930, 216294, 8276923, 2233708, 2694333, 883453, 7807018, 2996619, 3461, 196241, 1008750, 64228, 124627, 814841, 16070, 345610, 912234, 1583, 1013522, 384561, 1412311, 569147, 307424, 163387, 611843, 59520, 47197134, 3133765, 20591, 34198, 354510, 4256606, 270096, 380172, 2789358, 9252421, 272353, 387205, 168794, 4558776, 1220592, 1619786, 7404465, 29509806, 7341242, 21677, 1087882, 52953127, 13951245, 6314891, 7134777, 13053893, 6966137, 100381759, 262076, 2745, 3709, 6142, 115429, 97658, 29824806, 1193626, 3093019, 11455, 209442, 6688803, 395455, 350606, 394605, 45255990, 261662, 52209984, 338576, 1312057, 229647, 9691315, 6046305, 152224, 83365, 859793, 78340, 560535, 3964, 121299, 101153, 355778, 32922400, 550597491, 217982, 9850634, 7631773, 45988448, 183402, 2866127, 2797999, 94020, 1455863, 1471, 175743, 736186, 387245]}, {\"name\": \"Deaths\", \"type\": \"scatter\", \"x\": [\"2020-01-22T00:00:00\", \"2020-01-23T00:00:00\", \"2020-01-24T00:00:00\", \"2020-01-25T00:00:00\", \"2020-01-26T00:00:00\", \"2020-01-27T00:00:00\", \"2020-01-28T00:00:00\", \"2020-01-29T00:00:00\", \"2020-01-30T00:00:00\", \"2020-01-31T00:00:00\", \"2020-02-01T00:00:00\", \"2020-02-02T00:00:00\", \"2020-02-03T00:00:00\", \"2020-02-04T00:00:00\", \"2020-02-05T00:00:00\", \"2020-02-06T00:00:00\", \"2020-02-07T00:00:00\", \"2020-02-08T00:00:00\", \"2020-02-09T00:00:00\", \"2020-02-10T00:00:00\", \"2020-02-11T00:00:00\", \"2020-02-12T00:00:00\", \"2020-02-13T00:00:00\", \"2020-02-14T00:00:00\", \"2020-02-15T00:00:00\", \"2020-02-16T00:00:00\", \"2020-02-17T00:00:00\", \"2020-02-18T00:00:00\", \"2020-02-19T00:00:00\", \"2020-02-20T00:00:00\", \"2020-02-21T00:00:00\", \"2020-02-22T00:00:00\", \"2020-02-23T00:00:00\", \"2020-02-24T00:00:00\", \"2020-02-25T00:00:00\", \"2020-02-26T00:00:00\", \"2020-02-27T00:00:00\", \"2020-02-28T00:00:00\", \"2020-02-29T00:00:00\", \"2020-03-01T00:00:00\", \"2020-03-02T00:00:00\", \"2020-03-03T00:00:00\", \"2020-03-04T00:00:00\", \"2020-03-05T00:00:00\", \"2020-03-06T00:00:00\", \"2020-03-07T00:00:00\", \"2020-03-08T00:00:00\", \"2020-03-09T00:00:00\", \"2020-03-10T00:00:00\", \"2020-03-11T00:00:00\", \"2020-03-12T00:00:00\", \"2020-03-13T00:00:00\", \"2020-03-14T00:00:00\", \"2020-03-15T00:00:00\", \"2020-03-16T00:00:00\", \"2020-03-17T00:00:00\", \"2020-03-18T00:00:00\", \"2020-03-19T00:00:00\", \"2020-03-20T00:00:00\", \"2020-03-21T00:00:00\", \"2020-03-22T00:00:00\", \"2020-03-23T00:00:00\", \"2020-03-24T00:00:00\", \"2020-03-25T00:00:00\", \"2020-03-26T00:00:00\", \"2020-03-27T00:00:00\", \"2020-03-28T00:00:00\", \"2020-03-29T00:00:00\", \"2020-03-30T00:00:00\", \"2020-03-31T00:00:00\", \"2020-04-01T00:00:00\", \"2020-04-02T00:00:00\", \"2020-04-03T00:00:00\", \"2020-04-04T00:00:00\", \"2020-04-05T00:00:00\", \"2020-04-06T00:00:00\", \"2020-04-07T00:00:00\", \"2020-04-08T00:00:00\", \"2020-04-09T00:00:00\", \"2020-04-10T00:00:00\", \"2020-04-11T00:00:00\", \"2020-04-12T00:00:00\", \"2020-04-13T00:00:00\", \"2020-04-14T00:00:00\", \"2020-04-15T00:00:00\", \"2020-04-16T00:00:00\", \"2020-04-17T00:00:00\", \"2020-04-18T00:00:00\", \"2020-04-19T00:00:00\", \"2020-04-20T00:00:00\", \"2020-04-21T00:00:00\", \"2020-04-22T00:00:00\", \"2020-04-23T00:00:00\", \"2020-04-24T00:00:00\", \"2020-04-25T00:00:00\", \"2020-04-26T00:00:00\", \"2020-04-27T00:00:00\", \"2020-04-28T00:00:00\", \"2020-04-29T00:00:00\", \"2020-04-30T00:00:00\", \"2020-05-01T00:00:00\", \"2020-05-02T00:00:00\", \"2020-05-03T00:00:00\", \"2020-05-04T00:00:00\", \"2020-05-05T00:00:00\", \"2020-05-06T00:00:00\", \"2020-05-07T00:00:00\", \"2020-05-08T00:00:00\", \"2020-05-09T00:00:00\", \"2020-05-10T00:00:00\", \"2020-05-11T00:00:00\", \"2020-05-12T00:00:00\", \"2020-05-13T00:00:00\", \"2020-05-14T00:00:00\", \"2020-05-15T00:00:00\", \"2020-05-16T00:00:00\", \"2020-05-17T00:00:00\", \"2020-05-18T00:00:00\", \"2020-05-19T00:00:00\", \"2020-05-20T00:00:00\", \"2020-05-21T00:00:00\", \"2020-05-22T00:00:00\", \"2020-05-23T00:00:00\", \"2020-05-24T00:00:00\", \"2020-05-25T00:00:00\", \"2020-05-26T00:00:00\", \"2020-05-27T00:00:00\", \"2020-05-28T00:00:00\", \"2020-05-29T00:00:00\", \"2020-05-30T00:00:00\", \"2020-05-31T00:00:00\", \"2020-06-01T00:00:00\", \"2020-06-02T00:00:00\", \"2020-06-03T00:00:00\", \"2020-06-04T00:00:00\", \"2020-06-05T00:00:00\", \"2020-06-06T00:00:00\", \"2020-06-07T00:00:00\", \"2020-06-08T00:00:00\", \"2020-06-09T00:00:00\", \"2020-06-10T00:00:00\", \"2020-06-11T00:00:00\", \"2020-06-12T00:00:00\", \"2020-06-13T00:00:00\", \"2020-06-14T00:00:00\", \"2020-06-15T00:00:00\", \"2020-06-16T00:00:00\", \"2020-06-17T00:00:00\", \"2020-06-18T00:00:00\", \"2020-06-19T00:00:00\", \"2020-06-20T00:00:00\", \"2020-06-21T00:00:00\", \"2020-06-22T00:00:00\", \"2020-06-23T00:00:00\", \"2020-06-24T00:00:00\", \"2020-06-25T00:00:00\", \"2020-06-26T00:00:00\", \"2020-06-27T00:00:00\", \"2020-06-28T00:00:00\", \"2020-06-29T00:00:00\", \"2020-06-30T00:00:00\", \"2020-07-01T00:00:00\", \"2020-07-02T00:00:00\", \"2020-07-03T00:00:00\", \"2020-07-04T00:00:00\", \"2020-07-05T00:00:00\", \"2020-07-06T00:00:00\", \"2020-07-07T00:00:00\", \"2020-07-08T00:00:00\", \"2020-07-09T00:00:00\", \"2020-07-10T00:00:00\", \"2020-07-11T00:00:00\", \"2020-07-12T00:00:00\", \"2020-07-13T00:00:00\", \"2020-07-14T00:00:00\", \"2020-07-15T00:00:00\", \"2020-07-16T00:00:00\", \"2020-07-17T00:00:00\", \"2020-07-18T00:00:00\", \"2020-07-19T00:00:00\", \"2020-07-20T00:00:00\", \"2020-07-21T00:00:00\", \"2020-07-22T00:00:00\", \"2020-07-23T00:00:00\", \"2020-07-24T00:00:00\", \"2020-07-25T00:00:00\", \"2020-07-26T00:00:00\", \"2020-07-27T00:00:00\", \"2020-07-28T00:00:00\", \"2020-07-29T00:00:00\", \"2020-07-30T00:00:00\", \"2020-07-31T00:00:00\", \"2020-08-01T00:00:00\", \"2020-08-02T00:00:00\", \"2020-08-03T00:00:00\", \"2020-08-04T00:00:00\", \"2020-08-05T00:00:00\", \"2020-08-06T00:00:00\", \"2020-08-07T00:00:00\", \"2020-08-08T00:00:00\", \"2020-08-09T00:00:00\", \"2020-08-10T00:00:00\", \"2020-08-11T00:00:00\", \"2020-08-12T00:00:00\", \"2020-08-13T00:00:00\", \"2020-08-14T00:00:00\", \"2020-08-15T00:00:00\", \"2020-08-16T00:00:00\", \"2020-08-17T00:00:00\", \"2020-08-18T00:00:00\", \"2020-08-19T00:00:00\", \"2020-08-20T00:00:00\", \"2020-08-21T00:00:00\", \"2020-08-22T00:00:00\", \"2020-08-23T00:00:00\", \"2020-08-24T00:00:00\", \"2020-08-25T00:00:00\", \"2020-08-26T00:00:00\", \"2020-08-27T00:00:00\", \"2020-08-28T00:00:00\", \"2020-08-29T00:00:00\", \"2020-08-30T00:00:00\", \"2020-08-31T00:00:00\", \"2020-09-01T00:00:00\", \"2020-09-02T00:00:00\", \"2020-09-03T00:00:00\", \"2020-09-04T00:00:00\", \"2020-09-05T00:00:00\", \"2020-09-06T00:00:00\", \"2020-09-07T00:00:00\", \"2020-09-08T00:00:00\", \"2020-09-09T00:00:00\", \"2020-09-10T00:00:00\", \"2020-09-11T00:00:00\", \"2020-09-12T00:00:00\", \"2020-09-13T00:00:00\", \"2020-09-14T00:00:00\", \"2020-09-15T00:00:00\", \"2020-09-16T00:00:00\", \"2020-09-17T00:00:00\", \"2020-09-18T00:00:00\", \"2020-09-19T00:00:00\", \"2020-09-20T00:00:00\", \"2020-09-21T00:00:00\", \"2020-09-22T00:00:00\"], \"y\": [17, 18, 26, 42, 56, 82, 131, 133, 171, 213, 259, 362, 426, 492, 564, 634, 719, 806, 906, 1013, 1113, 1118, 1371, 1523, 1666, 1770, 1868, 2008, 2123, 2248, 2252, 2459, 2470, 2630, 2710, 2771, 2814, 2873, 2942, 2996, 3085, 3160, 3255, 3348, 3460, 3559, 3803, 3987, 4267, 4611, 4917, 5414, 5834, 6475, 7153, 7964, 8867, 9981, 11460, 13180, 14854, 16797, 19079, 21877, 24893, 28388, 32102, 35572, 39620, 44365, 49863, 56101, 62205, 68351, 73540, 79481, 87712, 94464, 102237, 109629, 115854, 121671, 127587, 134567, 142918, 150221, 158588, 164601, 169862, 175726, 182917, 189644, 196485, 203142, 208774, 212708, 217382, 223929, 230657, 236559, 241722, 247205, 250694, 254808, 260714, 267277, 272579, 278054, 282287, 285874, 289354, 294889, 299981, 305171, 310304, 314424, 317712, 321412, 326158, 330926, 335657, 340851, 344742, 347870, 349062, 353180, 358326, 362944, 367536, 371610, 374478, 377554, 382296, 387745, 392879, 397453, 401265, 404006, 407707, 412562, 417623, 422322, 426545, 430722, 434129, 437559, 444294, 449396, 454386, 460545, 464746, 468747, 472311, 477539, 482712, 487411, 492109, 496574, 499712, 503435, 508361, 513291, 518361, 523297, 527661, 531133, 534954, 540984, 546257, 551670, 556965, 561750, 565740, 569553, 575148, 580582, 586332, 592988, 598609, 602661, 606829, 612998, 619920, 629817, 635852, 641398, 645058, 650233, 656545, 663118, 669124, 675313, 680796, 685087, 689402, 696350, 703302, 709787, 716089, 721499, 726039, 730973, 737391, 743999, 750232, 760366, 765715, 769903, 774036, 780909, 787659, 793684, 799224, 804787, 808648, 812998, 819396, 825680, 831566, 837080, 842452, 846353, 850535, 857015, 863028, 868733, 874639, 879577, 883339, 892646, 897383, 903686, 909479, 915356, 920231, 923873, 928303, 934852, 940605, 946061, 951767, 956999, 960695, 964746, 969541]}, {\"name\": \"Recovered\", \"type\": \"scatter\", \"x\": [28, 30, 36, 39, 52, 61, 107, 126, 143, 222, 284, 472, 623, 852, 1124, 1487, 2011, 2616, 3244, 3946, 4683, 5150, 6295, 8058, 9395, 10865, 12583, 14352, 16121, 18177, 18890, 22886, 23394, 25227, 27905, 30384, 33277, 36711, 39782, 42716, 45602, 48228, 51170, 53796, 55865, 58359, 60694, 62493, 64404, 67002, 68324, 70251, 72622, 76032, 78086, 80838, 83321, 84958, 87403, 91670, 97885, 98351, 107992, 113775, 122145, 130921, 139424, 148891, 164337, 177825, 192918, 209967, 225415, 245832, 259672, 276252, 299643, 328359, 353707, 375509, 401766, 421180, 448347, 473436, 510106, 540926, 567049, 590968, 622623, 644613, 679456, 709881, 738661, 788712, 816491, 845096, 872865, 906136, 948318, 1013284, 1051537, 1092416, 1124732, 1158819, 1195359, 1241365, 1280833, 1317383, 1370933, 1404527, 1451521, 1488542, 1544398, 1584114, 1632122, 1688714, 1729621, 1782542, 1834647, 1893575, 1944840, 2053491, 2108462, 2163902, 2227625, 2282839, 2346232, 2413089, 2490435, 2560888, 2637208, 2692105, 2796228, 2875332, 2945385, 3014544, 3086748, 3141849, 3293412, 3375694, 3454832, 3540714, 3620438, 3706372, 3777157, 3857365, 3955205, 4073992, 4155134, 4250149, 4365974, 4434711, 4526337, 4630412, 4746172, 4839028, 4945742, 5052107, 5141227, 5235793, 5353115, 5469041, 5753918, 5863818, 6059651, 6178973, 6302585, 6447610, 6605559, 6740073, 6879465, 7005174, 7116853, 7257197, 7399397, 7559178, 7711548, 7894858, 8045815, 8133692, 8292688, 8467335, 8643722, 8813886, 9043203, 9262520, 9402996, 9572619, 9746473, 9948163, 10170650, 10369140, 10553585, 10690555, 10913000, 11134735, 11356275, 11545401, 11737927, 11939109, 12115825, 12280520, 12585473, 12826815, 12992176, 13276831, 13445842, 13676868, 13888301, 14116451, 14333914, 14541573, 14712252, 14922177, 15137610, 15337659, 15570598, 15794947, 15996510, 16196934, 16408559, 16616995, 16818436, 17073236, 17291874, 17512585, 17726336, 17927195, 18137310, 18336112, 18524391, 18776723, 18992383, 19215800, 19439157, 19624935, 19854392, 20078979, 20307938, 20527185, 20778990, 21016801, 21252815, 21496061, 21624434], \"y\": [28, 30, 36, 39, 52, 61, 107, 126, 143, 222, 284, 472, 623, 852, 1124, 1487, 2011, 2616, 3244, 3946, 4683, 5150, 6295, 8058, 9395, 10865, 12583, 14352, 16121, 18177, 18890, 22886, 23394, 25227, 27905, 30384, 33277, 36711, 39782, 42716, 45602, 48228, 51170, 53796, 55865, 58359, 60694, 62493, 64404, 67002, 68324, 70251, 72622, 76032, 78086, 80838, 83321, 84958, 87403, 91670, 97885, 98351, 107992, 113775, 122145, 130921, 139424, 148891, 164337, 177825, 192918, 209967, 225415, 245832, 259672, 276252, 299643, 328359, 353707, 375509, 401766, 421180, 448347, 473436, 510106, 540926, 567049, 590968, 622623, 644613, 679456, 709881, 738661, 788712, 816491, 845096, 872865, 906136, 948318, 1013284, 1051537, 1092416, 1124732, 1158819, 1195359, 1241365, 1280833, 1317383, 1370933, 1404527, 1451521, 1488542, 1544398, 1584114, 1632122, 1688714, 1729621, 1782542, 1834647, 1893575, 1944840, 2053491, 2108462, 2163902, 2227625, 2282839, 2346232, 2413089, 2490435, 2560888, 2637208, 2692105, 2796228, 2875332, 2945385, 3014544, 3086748, 3141849, 3293412, 3375694, 3454832, 3540714, 3620438, 3706372, 3777157, 3857365, 3955205, 4073992, 4155134, 4250149, 4365974, 4434711, 4526337, 4630412, 4746172, 4839028, 4945742, 5052107, 5141227, 5235793, 5353115, 5469041, 5753918, 5863818, 6059651, 6178973, 6302585, 6447610, 6605559, 6740073, 6879465, 7005174, 7116853, 7257197, 7399397, 7559178, 7711548, 7894858, 8045815, 8133692, 8292688, 8467335, 8643722, 8813886, 9043203, 9262520, 9402996, 9572619, 9746473, 9948163, 10170650, 10369140, 10553585, 10690555, 10913000, 11134735, 11356275, 11545401, 11737927, 11939109, 12115825, 12280520, 12585473, 12826815, 12992176, 13276831, 13445842, 13676868, 13888301, 14116451, 14333914, 14541573, 14712252, 14922177, 15137610, 15337659, 15570598, 15794947, 15996510, 16196934, 16408559, 16616995, 16818436, 17073236, 17291874, 17512585, 17726336, 17927195, 18137310, 18336112, 18524391, 18776723, 18992383, 19215800, 19439157, 19624935, 19854392, 20078979, 20307938, 20527185, 20778990, 21016801, 21252815, 21496061, 21624434]}],\n",
       "                        {\"template\": {\"data\": {\"bar\": [{\"error_x\": {\"color\": \"#2a3f5f\"}, \"error_y\": {\"color\": \"#2a3f5f\"}, \"marker\": {\"line\": {\"color\": \"#E5ECF6\", \"width\": 0.5}}, \"type\": \"bar\"}], \"barpolar\": [{\"marker\": {\"line\": {\"color\": \"#E5ECF6\", \"width\": 0.5}}, \"type\": \"barpolar\"}], \"carpet\": [{\"aaxis\": {\"endlinecolor\": \"#2a3f5f\", \"gridcolor\": \"white\", \"linecolor\": \"white\", \"minorgridcolor\": \"white\", \"startlinecolor\": \"#2a3f5f\"}, \"baxis\": {\"endlinecolor\": \"#2a3f5f\", \"gridcolor\": \"white\", \"linecolor\": \"white\", \"minorgridcolor\": \"white\", \"startlinecolor\": \"#2a3f5f\"}, \"type\": \"carpet\"}], \"choropleth\": [{\"colorbar\": {\"outlinewidth\": 0, \"ticks\": \"\"}, \"type\": \"choropleth\"}], \"contour\": [{\"colorbar\": {\"outlinewidth\": 0, \"ticks\": \"\"}, \"colorscale\": [[0.0, \"#0d0887\"], [0.1111111111111111, \"#46039f\"], [0.2222222222222222, \"#7201a8\"], [0.3333333333333333, \"#9c179e\"], [0.4444444444444444, \"#bd3786\"], [0.5555555555555556, \"#d8576b\"], [0.6666666666666666, \"#ed7953\"], [0.7777777777777778, \"#fb9f3a\"], [0.8888888888888888, \"#fdca26\"], [1.0, \"#f0f921\"]], \"type\": \"contour\"}], \"contourcarpet\": [{\"colorbar\": {\"outlinewidth\": 0, \"ticks\": \"\"}, \"type\": \"contourcarpet\"}], \"heatmap\": [{\"colorbar\": {\"outlinewidth\": 0, \"ticks\": \"\"}, \"colorscale\": [[0.0, \"#0d0887\"], [0.1111111111111111, \"#46039f\"], [0.2222222222222222, \"#7201a8\"], [0.3333333333333333, \"#9c179e\"], [0.4444444444444444, \"#bd3786\"], [0.5555555555555556, \"#d8576b\"], [0.6666666666666666, \"#ed7953\"], [0.7777777777777778, \"#fb9f3a\"], [0.8888888888888888, \"#fdca26\"], [1.0, \"#f0f921\"]], \"type\": \"heatmap\"}], \"heatmapgl\": [{\"colorbar\": {\"outlinewidth\": 0, \"ticks\": \"\"}, \"colorscale\": [[0.0, \"#0d0887\"], [0.1111111111111111, \"#46039f\"], [0.2222222222222222, \"#7201a8\"], [0.3333333333333333, \"#9c179e\"], [0.4444444444444444, \"#bd3786\"], [0.5555555555555556, \"#d8576b\"], [0.6666666666666666, \"#ed7953\"], [0.7777777777777778, \"#fb9f3a\"], [0.8888888888888888, \"#fdca26\"], [1.0, \"#f0f921\"]], \"type\": \"heatmapgl\"}], \"histogram\": [{\"marker\": {\"colorbar\": {\"outlinewidth\": 0, \"ticks\": \"\"}}, \"type\": \"histogram\"}], \"histogram2d\": [{\"colorbar\": {\"outlinewidth\": 0, \"ticks\": \"\"}, \"colorscale\": [[0.0, \"#0d0887\"], [0.1111111111111111, \"#46039f\"], [0.2222222222222222, \"#7201a8\"], [0.3333333333333333, \"#9c179e\"], [0.4444444444444444, \"#bd3786\"], [0.5555555555555556, \"#d8576b\"], [0.6666666666666666, \"#ed7953\"], [0.7777777777777778, \"#fb9f3a\"], [0.8888888888888888, \"#fdca26\"], [1.0, \"#f0f921\"]], \"type\": \"histogram2d\"}], \"histogram2dcontour\": [{\"colorbar\": {\"outlinewidth\": 0, \"ticks\": \"\"}, \"colorscale\": [[0.0, \"#0d0887\"], [0.1111111111111111, \"#46039f\"], [0.2222222222222222, \"#7201a8\"], [0.3333333333333333, \"#9c179e\"], [0.4444444444444444, \"#bd3786\"], [0.5555555555555556, \"#d8576b\"], [0.6666666666666666, \"#ed7953\"], [0.7777777777777778, \"#fb9f3a\"], [0.8888888888888888, \"#fdca26\"], [1.0, \"#f0f921\"]], \"type\": \"histogram2dcontour\"}], \"mesh3d\": [{\"colorbar\": {\"outlinewidth\": 0, \"ticks\": \"\"}, \"type\": \"mesh3d\"}], \"parcoords\": [{\"line\": {\"colorbar\": {\"outlinewidth\": 0, \"ticks\": \"\"}}, \"type\": \"parcoords\"}], \"pie\": [{\"automargin\": true, \"type\": \"pie\"}], \"scatter\": [{\"marker\": {\"colorbar\": {\"outlinewidth\": 0, \"ticks\": \"\"}}, \"type\": \"scatter\"}], \"scatter3d\": [{\"line\": {\"colorbar\": {\"outlinewidth\": 0, \"ticks\": \"\"}}, \"marker\": {\"colorbar\": {\"outlinewidth\": 0, \"ticks\": \"\"}}, \"type\": \"scatter3d\"}], \"scattercarpet\": [{\"marker\": {\"colorbar\": {\"outlinewidth\": 0, \"ticks\": \"\"}}, \"type\": \"scattercarpet\"}], \"scattergeo\": [{\"marker\": {\"colorbar\": {\"outlinewidth\": 0, \"ticks\": \"\"}}, \"type\": \"scattergeo\"}], \"scattergl\": [{\"marker\": {\"colorbar\": {\"outlinewidth\": 0, \"ticks\": \"\"}}, \"type\": \"scattergl\"}], \"scattermapbox\": [{\"marker\": {\"colorbar\": {\"outlinewidth\": 0, \"ticks\": \"\"}}, \"type\": \"scattermapbox\"}], \"scatterpolar\": [{\"marker\": {\"colorbar\": {\"outlinewidth\": 0, \"ticks\": \"\"}}, \"type\": \"scatterpolar\"}], \"scatterpolargl\": [{\"marker\": {\"colorbar\": {\"outlinewidth\": 0, \"ticks\": \"\"}}, \"type\": \"scatterpolargl\"}], \"scatterternary\": [{\"marker\": {\"colorbar\": {\"outlinewidth\": 0, \"ticks\": \"\"}}, \"type\": \"scatterternary\"}], \"surface\": [{\"colorbar\": {\"outlinewidth\": 0, \"ticks\": \"\"}, \"colorscale\": [[0.0, \"#0d0887\"], [0.1111111111111111, \"#46039f\"], [0.2222222222222222, \"#7201a8\"], [0.3333333333333333, \"#9c179e\"], [0.4444444444444444, \"#bd3786\"], [0.5555555555555556, \"#d8576b\"], [0.6666666666666666, \"#ed7953\"], [0.7777777777777778, \"#fb9f3a\"], [0.8888888888888888, \"#fdca26\"], [1.0, \"#f0f921\"]], \"type\": \"surface\"}], \"table\": [{\"cells\": {\"fill\": {\"color\": \"#EBF0F8\"}, \"line\": {\"color\": \"white\"}}, \"header\": {\"fill\": {\"color\": \"#C8D4E3\"}, \"line\": {\"color\": \"white\"}}, \"type\": \"table\"}]}, \"layout\": {\"annotationdefaults\": {\"arrowcolor\": \"#2a3f5f\", \"arrowhead\": 0, \"arrowwidth\": 1}, \"coloraxis\": {\"colorbar\": {\"outlinewidth\": 0, \"ticks\": \"\"}}, \"colorscale\": {\"diverging\": [[0, \"#8e0152\"], [0.1, \"#c51b7d\"], [0.2, \"#de77ae\"], [0.3, \"#f1b6da\"], [0.4, \"#fde0ef\"], [0.5, \"#f7f7f7\"], [0.6, \"#e6f5d0\"], [0.7, \"#b8e186\"], [0.8, \"#7fbc41\"], [0.9, \"#4d9221\"], [1, \"#276419\"]], \"sequential\": [[0.0, \"#0d0887\"], [0.1111111111111111, \"#46039f\"], [0.2222222222222222, \"#7201a8\"], [0.3333333333333333, \"#9c179e\"], [0.4444444444444444, \"#bd3786\"], [0.5555555555555556, \"#d8576b\"], [0.6666666666666666, \"#ed7953\"], [0.7777777777777778, \"#fb9f3a\"], [0.8888888888888888, \"#fdca26\"], [1.0, \"#f0f921\"]], \"sequentialminus\": [[0.0, \"#0d0887\"], [0.1111111111111111, \"#46039f\"], [0.2222222222222222, \"#7201a8\"], [0.3333333333333333, \"#9c179e\"], [0.4444444444444444, \"#bd3786\"], [0.5555555555555556, \"#d8576b\"], [0.6666666666666666, \"#ed7953\"], [0.7777777777777778, \"#fb9f3a\"], [0.8888888888888888, \"#fdca26\"], [1.0, \"#f0f921\"]]}, \"colorway\": [\"#636efa\", \"#EF553B\", \"#00cc96\", \"#ab63fa\", \"#FFA15A\", \"#19d3f3\", \"#FF6692\", \"#B6E880\", \"#FF97FF\", \"#FECB52\"], \"font\": {\"color\": \"#2a3f5f\"}, \"geo\": {\"bgcolor\": \"white\", \"lakecolor\": \"white\", \"landcolor\": \"#E5ECF6\", \"showlakes\": true, \"showland\": true, \"subunitcolor\": \"white\"}, \"hoverlabel\": {\"align\": \"left\"}, \"hovermode\": \"closest\", \"mapbox\": {\"style\": \"light\"}, \"paper_bgcolor\": \"white\", \"plot_bgcolor\": \"#E5ECF6\", \"polar\": {\"angularaxis\": {\"gridcolor\": \"white\", \"linecolor\": \"white\", \"ticks\": \"\"}, \"bgcolor\": \"#E5ECF6\", \"radialaxis\": {\"gridcolor\": \"white\", \"linecolor\": \"white\", \"ticks\": \"\"}}, \"scene\": {\"xaxis\": {\"backgroundcolor\": \"#E5ECF6\", \"gridcolor\": \"white\", \"gridwidth\": 2, \"linecolor\": \"white\", \"showbackground\": true, \"ticks\": \"\", \"zerolinecolor\": \"white\"}, \"yaxis\": {\"backgroundcolor\": \"#E5ECF6\", \"gridcolor\": \"white\", \"gridwidth\": 2, \"linecolor\": \"white\", \"showbackground\": true, \"ticks\": \"\", \"zerolinecolor\": \"white\"}, \"zaxis\": {\"backgroundcolor\": \"#E5ECF6\", \"gridcolor\": \"white\", \"gridwidth\": 2, \"linecolor\": \"white\", \"showbackground\": true, \"ticks\": \"\", \"zerolinecolor\": \"white\"}}, \"shapedefaults\": {\"line\": {\"color\": \"#2a3f5f\"}}, \"ternary\": {\"aaxis\": {\"gridcolor\": \"white\", \"linecolor\": \"white\", \"ticks\": \"\"}, \"baxis\": {\"gridcolor\": \"white\", \"linecolor\": \"white\", \"ticks\": \"\"}, \"bgcolor\": \"#E5ECF6\", \"caxis\": {\"gridcolor\": \"white\", \"linecolor\": \"white\", \"ticks\": \"\"}}, \"title\": {\"x\": 0.05}, \"xaxis\": {\"automargin\": true, \"gridcolor\": \"white\", \"linecolor\": \"white\", \"ticks\": \"\", \"title\": {\"standoff\": 15}, \"zerolinecolor\": \"white\", \"zerolinewidth\": 2}, \"yaxis\": {\"automargin\": true, \"gridcolor\": \"white\", \"linecolor\": \"white\", \"ticks\": \"\", \"title\": {\"standoff\": 15}, \"zerolinecolor\": \"white\", \"zerolinewidth\": 2}}}, \"title\": {\"text\": \"World wide covid19 cases\"}, \"xaxis\": {\"tickfont\": {\"size\": 14}}, \"yaxis\": {\"title\": {\"text\": \"Numberof Cases\"}}},\n",
       "                        {\"responsive\": true}\n",
       "                    ).then(function(){\n",
       "                            \n",
       "var gd = document.getElementById('2ee85333-f9a7-45bd-8295-370d4367b32c');\n",
       "var x = new MutationObserver(function (mutations, observer) {{\n",
       "        var display = window.getComputedStyle(gd).display;\n",
       "        if (!display || display === 'none') {{\n",
       "            console.log([gd, 'removed!']);\n",
       "            Plotly.purge(gd);\n",
       "            observer.disconnect();\n",
       "        }}\n",
       "}});\n",
       "\n",
       "// Listen for the removal of the full notebook cells\n",
       "var notebookContainer = gd.closest('#notebook-container');\n",
       "if (notebookContainer) {{\n",
       "    x.observe(notebookContainer, {childList: true});\n",
       "}}\n",
       "\n",
       "// Listen for the clearing of the current output cell\n",
       "var outputEl = gd.closest('.output');\n",
       "if (outputEl) {{\n",
       "    x.observe(outputEl, {childList: true});\n",
       "}}\n",
       "\n",
       "                        })\n",
       "                };\n",
       "                });\n",
       "            </script>\n",
       "        </div>"
      ]
     },
     "metadata": {},
     "output_type": "display_data"
    }
   ],
   "source": [
    "fig = go.Figure()\n",
    "fig.add_trace(go.Scatter(x=confirmed['Confirmed'], y=confirmed['Confirmed'], name='Confirmed'))\n",
    "fig.add_trace(go.Scatter(x=deaths['Date'], y=deaths['Deaths'], name='Deaths'))\n",
    "fig.add_trace(go.Scatter(x=recovered['Recovered'], y=recovered['Recovered'], name='Recovered'))\n",
    "fig.update_layout(title='World wide covid19 cases', xaxis_tickfont_size = 14, yaxis=dict(title='Numberof Cases'))\n",
    "fig.show()"
   ]
  },
  {
   "cell_type": "code",
   "execution_count": 13,
   "metadata": {},
   "outputs": [
    {
     "name": "stdout",
     "output_type": "stream",
     "text": [
      "<class 'pandas.core.frame.DataFrame'>\n",
      "RangeIndex: 188 entries, 0 to 187\n",
      "Data columns (total 2 columns):\n",
      " #   Column     Non-Null Count  Dtype \n",
      "---  ------     --------------  ----- \n",
      " 0   Country    188 non-null    object\n",
      " 1   Confirmed  188 non-null    int64 \n",
      "dtypes: int64(1), object(1)\n",
      "memory usage: 3.1+ KB\n"
     ]
    }
   ],
   "source": [
    "confirmed.info()"
   ]
  },
  {
   "cell_type": "code",
   "execution_count": 14,
   "metadata": {},
   "outputs": [
    {
     "name": "stdout",
     "output_type": "stream",
     "text": [
      "<class 'pandas.core.frame.DataFrame'>\n",
      "RangeIndex: 72765 entries, 0 to 72764\n",
      "Data columns (total 8 columns):\n",
      " #   Column     Non-Null Count  Dtype  \n",
      "---  ------     --------------  -----  \n",
      " 0   Date       72765 non-null  object \n",
      " 1   Country    72765 non-null  object \n",
      " 2   Lat        72765 non-null  float64\n",
      " 3   Long       72765 non-null  float64\n",
      " 4   Confirmed  72765 non-null  int64  \n",
      " 5   Recovered  72765 non-null  int64  \n",
      " 6   Deaths     72765 non-null  int64  \n",
      " 7   Active     72765 non-null  int64  \n",
      "dtypes: float64(2), int64(4), object(2)\n",
      "memory usage: 4.4+ MB\n"
     ]
    }
   ],
   "source": [
    "import plotly.express as px\n",
    "\n",
    "country_cleaned['Date'] = country_cleaned['Date'].astype(str)\n",
    "country_cleaned.info()\n"
   ]
  },
  {
   "cell_type": "markdown",
   "metadata": {},
   "source": [
    "### Total cases ships"
   ]
  },
  {
   "cell_type": "code",
   "execution_count": 15,
   "metadata": {},
   "outputs": [
    {
     "name": "stdout",
     "output_type": "stream",
     "text": [
      "<class 'pandas.core.frame.DataFrame'>\n",
      "RangeIndex: 72765 entries, 0 to 72764\n",
      "Data columns (total 8 columns):\n",
      " #   Column     Non-Null Count  Dtype         \n",
      "---  ------     --------------  -----         \n",
      " 0   Date       72765 non-null  datetime64[ns]\n",
      " 1   Country    72765 non-null  object        \n",
      " 2   Lat        72765 non-null  float64       \n",
      " 3   Long       72765 non-null  float64       \n",
      " 4   Confirmed  72765 non-null  int64         \n",
      " 5   Recovered  72765 non-null  int64         \n",
      " 6   Deaths     72765 non-null  int64         \n",
      " 7   Active     72765 non-null  int64         \n",
      "dtypes: datetime64[ns](1), float64(2), int64(4), object(1)\n",
      "memory usage: 4.4+ MB\n"
     ]
    }
   ],
   "source": [
    "country_cleaned['Date'] = pd.to_datetime(country_cleaned['Date'])\n",
    "country_cleaned.info()"
   ]
  },
  {
   "cell_type": "code",
   "execution_count": 16,
   "metadata": {},
   "outputs": [
    {
     "data": {
      "text/html": [
       "<div>\n",
       "<style scoped>\n",
       "    .dataframe tbody tr th:only-of-type {\n",
       "        vertical-align: middle;\n",
       "    }\n",
       "\n",
       "    .dataframe tbody tr th {\n",
       "        vertical-align: top;\n",
       "    }\n",
       "\n",
       "    .dataframe thead th {\n",
       "        text-align: right;\n",
       "    }\n",
       "</style>\n",
       "<table border=\"1\" class=\"dataframe\">\n",
       "  <thead>\n",
       "    <tr style=\"text-align: right;\">\n",
       "      <th></th>\n",
       "      <th>Date</th>\n",
       "      <th>Confirmed</th>\n",
       "    </tr>\n",
       "  </thead>\n",
       "  <tbody>\n",
       "    <tr>\n",
       "      <th>0</th>\n",
       "      <td>2020-01-22</td>\n",
       "      <td>555</td>\n",
       "    </tr>\n",
       "    <tr>\n",
       "      <th>1</th>\n",
       "      <td>2020-01-23</td>\n",
       "      <td>654</td>\n",
       "    </tr>\n",
       "    <tr>\n",
       "      <th>2</th>\n",
       "      <td>2020-01-24</td>\n",
       "      <td>941</td>\n",
       "    </tr>\n",
       "    <tr>\n",
       "      <th>3</th>\n",
       "      <td>2020-01-25</td>\n",
       "      <td>1434</td>\n",
       "    </tr>\n",
       "    <tr>\n",
       "      <th>4</th>\n",
       "      <td>2020-01-26</td>\n",
       "      <td>2118</td>\n",
       "    </tr>\n",
       "    <tr>\n",
       "      <th>...</th>\n",
       "      <td>...</td>\n",
       "      <td>...</td>\n",
       "    </tr>\n",
       "    <tr>\n",
       "      <th>240</th>\n",
       "      <td>2020-09-18</td>\n",
       "      <td>30499534</td>\n",
       "    </tr>\n",
       "    <tr>\n",
       "      <th>241</th>\n",
       "      <td>2020-09-19</td>\n",
       "      <td>30780755</td>\n",
       "    </tr>\n",
       "    <tr>\n",
       "      <th>242</th>\n",
       "      <td>2020-09-20</td>\n",
       "      <td>31021972</td>\n",
       "    </tr>\n",
       "    <tr>\n",
       "      <th>243</th>\n",
       "      <td>2020-09-21</td>\n",
       "      <td>31320880</td>\n",
       "    </tr>\n",
       "    <tr>\n",
       "      <th>244</th>\n",
       "      <td>2020-09-22</td>\n",
       "      <td>31517087</td>\n",
       "    </tr>\n",
       "  </tbody>\n",
       "</table>\n",
       "<p>245 rows × 2 columns</p>\n",
       "</div>"
      ],
      "text/plain": [
       "          Date  Confirmed\n",
       "0   2020-01-22        555\n",
       "1   2020-01-23        654\n",
       "2   2020-01-24        941\n",
       "3   2020-01-25       1434\n",
       "4   2020-01-26       2118\n",
       "..         ...        ...\n",
       "240 2020-09-18   30499534\n",
       "241 2020-09-19   30780755\n",
       "242 2020-09-20   31021972\n",
       "243 2020-09-21   31320880\n",
       "244 2020-09-22   31517087\n",
       "\n",
       "[245 rows x 2 columns]"
      ]
     },
     "execution_count": 16,
     "metadata": {},
     "output_type": "execute_result"
    }
   ],
   "source": [
    "confirmed = country_cleaned.groupby([\"Date\"]).sum()['Confirmed'].reset_index()\n",
    "deaths = country_cleaned.groupby([\"Date\"]).sum()['Deaths'].reset_index()\n",
    "recovered = country_cleaned.groupby([\"Date\"]).sum()['Recovered'].reset_index()\n",
    "confirmed\n",
    "# hilangkan datedata_cleaned[ship_rows]"
   ]
  },
  {
   "cell_type": "code",
   "execution_count": 1,
   "metadata": {},
   "outputs": [
    {
     "ename": "NameError",
     "evalue": "name 'country_cleaned' is not defined",
     "output_type": "error",
     "traceback": [
      "\u001b[1;31m---------------------------------------------------------------------------\u001b[0m",
      "\u001b[1;31mNameError\u001b[0m                                 Traceback (most recent call last)",
      "\u001b[1;32m<ipython-input-1-df36a2cfca37>\u001b[0m in \u001b[0;36m<module>\u001b[1;34m\u001b[0m\n\u001b[1;32m----> 1\u001b[1;33m \u001b[0mconfirme\u001b[0m \u001b[1;33m=\u001b[0m \u001b[0mcountry_cleaned\u001b[0m\u001b[1;33m.\u001b[0m\u001b[0mgroupby\u001b[0m\u001b[1;33m(\u001b[0m\u001b[1;33m[\u001b[0m\u001b[1;34m\"Country\"\u001b[0m\u001b[1;33m,\u001b[0m \u001b[1;34m\"Lat\"\u001b[0m\u001b[1;33m,\u001b[0m \u001b[1;34m\"Long\"\u001b[0m\u001b[1;33m]\u001b[0m\u001b[1;33m)\u001b[0m\u001b[1;33m.\u001b[0m\u001b[0msum\u001b[0m\u001b[1;33m(\u001b[0m\u001b[1;33m)\u001b[0m\u001b[1;33m[\u001b[0m\u001b[1;34m'Confirmed'\u001b[0m\u001b[1;33m]\u001b[0m\u001b[1;33m.\u001b[0m\u001b[0mreset_index\u001b[0m\u001b[1;33m(\u001b[0m\u001b[1;33m)\u001b[0m\u001b[1;33m\u001b[0m\u001b[1;33m\u001b[0m\u001b[0m\n\u001b[0m\u001b[0;32m      2\u001b[0m \u001b[0mdeath\u001b[0m \u001b[1;33m=\u001b[0m \u001b[0mcountry_cleaned\u001b[0m\u001b[1;33m.\u001b[0m\u001b[0mgroupby\u001b[0m\u001b[1;33m(\u001b[0m\u001b[1;33m[\u001b[0m\u001b[1;34m\"Date\"\u001b[0m\u001b[1;33m]\u001b[0m\u001b[1;33m)\u001b[0m\u001b[1;33m.\u001b[0m\u001b[0msum\u001b[0m\u001b[1;33m(\u001b[0m\u001b[1;33m)\u001b[0m\u001b[1;33m[\u001b[0m\u001b[1;34m'Deaths'\u001b[0m\u001b[1;33m]\u001b[0m\u001b[1;33m.\u001b[0m\u001b[0mreset_index\u001b[0m\u001b[1;33m(\u001b[0m\u001b[1;33m)\u001b[0m\u001b[1;33m\u001b[0m\u001b[1;33m\u001b[0m\u001b[0m\n\u001b[0;32m      3\u001b[0m \u001b[0mrecovere\u001b[0m \u001b[1;33m=\u001b[0m \u001b[0mcountry_cleaned\u001b[0m\u001b[1;33m.\u001b[0m\u001b[0mgroupby\u001b[0m\u001b[1;33m(\u001b[0m\u001b[1;33m[\u001b[0m\u001b[1;34m\"Date\"\u001b[0m\u001b[1;33m]\u001b[0m\u001b[1;33m)\u001b[0m\u001b[1;33m.\u001b[0m\u001b[0msum\u001b[0m\u001b[1;33m(\u001b[0m\u001b[1;33m)\u001b[0m\u001b[1;33m[\u001b[0m\u001b[1;34m'Recovered'\u001b[0m\u001b[1;33m]\u001b[0m\u001b[1;33m.\u001b[0m\u001b[0mreset_index\u001b[0m\u001b[1;33m(\u001b[0m\u001b[1;33m)\u001b[0m\u001b[1;33m\u001b[0m\u001b[1;33m\u001b[0m\u001b[0m\n\u001b[0;32m      4\u001b[0m \u001b[0mconfirme\u001b[0m\u001b[1;33m\u001b[0m\u001b[1;33m\u001b[0m\u001b[0m\n\u001b[0;32m      5\u001b[0m \u001b[1;31m# hilangkan date\u001b[0m\u001b[1;33m\u001b[0m\u001b[1;33m\u001b[0m\u001b[1;33m\u001b[0m\u001b[0m\n",
      "\u001b[1;31mNameError\u001b[0m: name 'country_cleaned' is not defined"
     ]
    }
   ],
   "source": [
    "confirme = country_cleaned.groupby([\"Country\", \"Lat\", \"Long\"]).sum()['Confirmed'].reset_index()\n",
    "death = country_cleaned.groupby([\"Date\"]).sum()['Deaths'].reset_index()\n",
    "recovere = country_cleaned.groupby([\"Date\"]).sum()['Recovered'].reset_index()\n",
    "confirme\n",
    "# hilangkan date\n",
    "\n",
    "fig = px.scatter_mapbox(confirme, lat='Lat', lon='Long', hover_name='Country', hover_data=[\"Country\", \"Confirmed\"], zoom=0, height=700)\n",
    "fig.update_layout(title='World wide Covid-19 Cases with time laps')\n",
    "fig.update_layout(mapbox_style='stamen-toner')\n",
    "fig.show()"
   ]
  },
  {
   "cell_type": "code",
   "execution_count": 18,
   "metadata": {},
   "outputs": [
    {
     "data": {
      "application/vnd.plotly.v1+json": {
       "config": {
        "plotlyServerURL": "https://plot.ly"
       },
       "data": [
        {
         "geo": "geo",
         "hovertemplate": "<b>%{hovertext}</b><br><br>Confirmed=%{marker.color}<br>Lat=%{lat}<br>Long=%{lon}<extra></extra>",
         "hovertext": [
          "Afghanistan",
          "Albania",
          "Algeria",
          "Andorra",
          "Angola",
          "Antigua and Barbuda",
          "Argentina",
          "Armenia",
          "Australia",
          "Australia",
          "Australia",
          "Australia",
          "Australia",
          "Australia",
          "Australia",
          "Australia",
          "Austria",
          "Azerbaijan",
          "Bahamas",
          "Bahrain",
          "Bangladesh",
          "Barbados",
          "Belarus",
          "Belgium",
          "Belize",
          "Benin",
          "Bhutan",
          "Bolivia",
          "Bosnia and Herzegovina",
          "Botswana",
          "Brazil",
          "Brunei",
          "Bulgaria",
          "Burkina Faso",
          "Burma",
          "Burundi",
          "Cabo Verde",
          "Cambodia",
          "Cameroon",
          "Cameroon",
          "Canada",
          "Canada",
          "Canada",
          "Canada",
          "Canada",
          "Canada",
          "Canada",
          "Canada",
          "Canada",
          "Canada",
          "Canada",
          "Canada",
          "Canada",
          "Canada",
          "Canada",
          "Central African Republic",
          "Chad",
          "Chile",
          "China",
          "China",
          "China",
          "China",
          "China",
          "China",
          "China",
          "China",
          "China",
          "China",
          "China",
          "China",
          "China",
          "China",
          "China",
          "China",
          "China",
          "China",
          "China",
          "China",
          "China",
          "China",
          "China",
          "China",
          "China",
          "China",
          "China",
          "China",
          "China",
          "China",
          "China",
          "China",
          "China",
          "China",
          "China",
          "China",
          "China",
          "Colombia",
          "Comoros",
          "Congo (Brazzaville)",
          "Congo (Kinshasa)",
          "Costa Rica",
          "Cote d'Ivoire",
          "Croatia",
          "Cuba",
          "Cyprus",
          "Czechia",
          "Czechia",
          "Denmark",
          "Denmark",
          "Denmark",
          "Diamond Princess",
          "Djibouti",
          "Dominica",
          "Dominican Republic",
          "Ecuador",
          "Egypt",
          "Egypt",
          "El Salvador",
          "Equatorial Guinea",
          "Eritrea",
          "Estonia",
          "Eswatini",
          "Ethiopia",
          "Fiji",
          "Finland",
          "France",
          "France",
          "France",
          "France",
          "France",
          "France",
          "France",
          "France",
          "France",
          "France",
          "France",
          "France",
          "Gabon",
          "Gambia",
          "Georgia",
          "Germany",
          "Germany",
          "Ghana",
          "Greece",
          "Grenada",
          "Grenada",
          "Guatemala",
          "Guinea",
          "Guinea-Bissau",
          "Guyana",
          "Haiti",
          "Holy See",
          "Honduras",
          "Hungary",
          "Iceland",
          "India",
          "Indonesia",
          "Iran",
          "Iraq",
          "Ireland",
          "Israel",
          "Israel",
          "Italy",
          "Jamaica",
          "Japan",
          "Jordan",
          "Kazakhstan",
          "Kenya",
          "Korea, South",
          "Kosovo",
          "Kuwait",
          "Kuwait",
          "Kyrgyzstan",
          "Laos",
          "Laos",
          "Latvia",
          "Lebanon",
          "Lesotho",
          "Liberia",
          "Libya",
          "Liechtenstein",
          "Lithuania",
          "Luxembourg",
          "MS Zaandam",
          "Madagascar",
          "Madagascar",
          "Malawi",
          "Malaysia",
          "Malaysia",
          "Maldives",
          "Mali",
          "Malta",
          "Mauritania",
          "Mauritius",
          "Mauritius",
          "Mexico",
          "Moldova",
          "Monaco",
          "Mongolia",
          "Montenegro",
          "Morocco",
          "Mozambique",
          "Mozambique",
          "Namibia",
          "Nepal",
          "Netherlands",
          "Netherlands",
          "Netherlands",
          "Netherlands",
          "Netherlands",
          "New Zealand",
          "Nicaragua",
          "Niger",
          "Nigeria",
          "North Macedonia",
          "Norway",
          "Oman",
          "Pakistan",
          "Panama",
          "Papua New Guinea",
          "Paraguay",
          "Peru",
          "Philippines",
          "Philippines",
          "Poland",
          "Portugal",
          "Qatar",
          "Romania",
          "Russia",
          "Russia",
          "Rwanda",
          "Saint Kitts and Nevis",
          "Saint Lucia",
          "Saint Vincent and the Grenadines",
          "San Marino",
          "Sao Tome and Principe",
          "Saudi Arabia",
          "Senegal",
          "Serbia",
          "Seychelles",
          "Sierra Leone",
          "Singapore",
          "Slovakia",
          "Slovenia",
          "Somalia",
          "South Africa",
          "South Sudan",
          "South Sudan",
          "Spain",
          "Spain",
          "Sri Lanka",
          "Sudan",
          "Suriname",
          "Sweden",
          "Switzerland",
          "Syria",
          "Syria",
          "Taiwan*",
          "Tajikistan",
          "Tanzania",
          "Thailand",
          "Timor-Leste",
          "Timor-Leste",
          "Togo",
          "Trinidad and Tobago",
          "Tunisia",
          "Turkey",
          "US",
          "Uganda",
          "Ukraine",
          "United Arab Emirates",
          "United Arab Emirates",
          "United Kingdom",
          "United Kingdom",
          "United Kingdom",
          "United Kingdom",
          "United Kingdom",
          "United Kingdom",
          "United Kingdom",
          "United Kingdom",
          "United Kingdom",
          "United Kingdom",
          "United Kingdom",
          "United Kingdom",
          "Uruguay",
          "Uzbekistan",
          "Venezuela",
          "Vietnam",
          "Vietnam",
          "West Bank and Gaza",
          "Western Sahara",
          "Yemen",
          "Yemen",
          "Zambia",
          "Zimbabwe"
         ],
         "lat": [
          33.93911,
          41.1533,
          28.0339,
          42.5063,
          -11.2027,
          17.0608,
          -38.4161,
          40.0691,
          -42.8821,
          -37.8136,
          -35.4735,
          -34.9285,
          -33.8688,
          -31.9505,
          -27.4698,
          -12.4634,
          47.5162,
          40.1431,
          25.025885,
          26.0275,
          23.685,
          13.1939,
          53.7098,
          50.8333,
          17.1899,
          9.3077,
          27.5142,
          -16.2902,
          43.9159,
          -22.3285,
          -14.235,
          4.5353,
          42.7339,
          12.2383,
          21.9162,
          -3.3731,
          16.5388,
          11.55,
          3.848,
          3.8480000000000003,
          0,
          44.681999999999995,
          44.682,
          46.5107,
          46.5653,
          51.2538,
          52.9399,
          52.9399,
          53.1355,
          53.7267,
          53.7609,
          53.9333,
          56.1304,
          64.2823,
          64.8255,
          6.6111,
          15.4542,
          -35.6751,
          19.1959,
          22.1667,
          22.3,
          23.3417,
          23.8298,
          24.974,
          24.974,
          26.0789,
          26.8154,
          27.6104,
          27.614,
          29.1832,
          30.0572,
          30.6171,
          30.9756,
          31.201999999999998,
          31.202,
          31.6927,
          31.8257,
          32.9711,
          33.882,
          35.1917,
          35.7452,
          35.7518,
          36.3427,
          37.2692,
          37.5777,
          37.8957,
          39.3054,
          39.549,
          40.1824,
          41.1129,
          41.2956,
          43.6661,
          44.0935,
          47.861999999999995,
          47.862,
          4.5709,
          -11.6455,
          -0.228,
          -4.0383,
          9.7489,
          7.54,
          45.1,
          21.521757,
          35.1264,
          49.8175,
          49.8175,
          56.2639,
          61.8926,
          71.7069,
          0,
          11.8251,
          15.415,
          18.7357,
          -1.8312,
          26.820553000000004,
          26.820553000000004,
          13.7942,
          1.6508,
          15.1794,
          58.5953,
          -26.5225,
          9.145,
          -17.7134,
          61.92411,
          -21.1151,
          -20.904305,
          -20.904304999999997,
          -17.6797,
          -12.8275,
          3.9339,
          14.6415,
          16.265,
          17.9,
          18.0708,
          46.2276,
          46.8852,
          -0.8037,
          13.4432,
          42.3154,
          51.165690999999995,
          51.165691,
          7.9465,
          39.0742,
          12.1165,
          12.1165,
          15.7835,
          9.9456,
          11.8037,
          4.860416000000002,
          18.9712,
          41.9029,
          15.2,
          47.1625,
          64.9631,
          20.593684,
          -0.7893,
          32.427908,
          33.223191,
          53.1424,
          31.046051,
          31.046051000000002,
          41.87194,
          18.1096,
          36.204824,
          31.24,
          48.0196,
          -0.0236,
          35.90775700000001,
          42.602636,
          29.311659999999996,
          29.31166,
          41.20438,
          19.85627,
          19.856270000000002,
          56.8796,
          33.8547,
          -29.61,
          6.4280550000000005,
          26.3351,
          47.14,
          55.1694,
          49.8153,
          0,
          -18.766947000000002,
          -18.766947,
          -13.2543,
          4.210483999999999,
          4.210483999999999,
          3.2028,
          17.570692,
          35.9375,
          21.0079,
          -20.348404000000002,
          -20.348404,
          23.6345,
          47.4116,
          43.7333,
          46.8625,
          42.708678000000006,
          31.7917,
          -18.6657,
          -18.665695,
          -22.9576,
          28.1667,
          12.1696,
          12.1784,
          12.5211,
          18.0425,
          52.1326,
          -40.9006,
          12.865416,
          17.607789,
          9.082,
          41.6086,
          60.472,
          21.512583,
          30.3753,
          8.538,
          -6.314993,
          -23.4425,
          -9.19,
          12.879721,
          12.879721,
          51.9194,
          39.3999,
          25.3548,
          45.9432,
          61.52401,
          61.52401,
          -1.9403,
          17.357822,
          13.9094,
          12.9843,
          43.9424,
          0.1864,
          23.885942,
          14.4974,
          44.0165,
          -4.6796,
          8.460555000000001,
          1.2833,
          48.669,
          46.1512,
          5.152149,
          -30.5595,
          6.877000000000002,
          6.8770000000000024,
          40.463667,
          40.463667,
          7.873054,
          12.8628,
          3.9193,
          60.128161,
          46.8182,
          34.802075,
          34.8021,
          23.7,
          38.861,
          -6.369028,
          15.870032,
          -8.874217,
          -8.8742,
          8.6195,
          10.6918,
          33.886917,
          38.9637,
          40,
          1.373333,
          48.3794,
          23.424076,
          23.424076,
          -51.7963,
          16.742498,
          16.742498,
          18.2206,
          18.4207,
          19.3133,
          21.69400000000001,
          32.3078,
          36.1408,
          49.3723,
          54.2361,
          55.3781,
          -32.5228,
          41.377491,
          6.4238,
          14.058323999999999,
          14.058324,
          31.9522,
          24.2155,
          15.552726999999999,
          15.552727,
          -13.133897,
          -19.015438
         ],
         "legendgroup": "",
         "lon": [
          67.709953,
          20.1683,
          1.6596,
          1.5218,
          17.8739,
          -61.7964,
          -63.6167,
          45.0382,
          147.3272,
          144.9631,
          149.0124,
          138.6007,
          151.2093,
          115.8605,
          153.0251,
          130.8456,
          14.5501,
          47.5769,
          -78.035889,
          50.55,
          90.3563,
          -59.5432,
          27.9534,
          4.469936,
          -88.4976,
          2.3158,
          90.4336,
          -63.5887,
          17.6791,
          24.6849,
          -51.9253,
          114.7277,
          25.4858,
          -1.5616,
          95.956,
          29.9189,
          -23.0418,
          104.9167,
          11.5021,
          11.5021,
          0,
          -63.7443,
          -63.7443,
          -63.4168,
          -66.4619,
          -85.3232,
          -106.4509,
          -73.5491,
          -57.6604,
          -127.6476,
          -98.8139,
          -116.5765,
          -106.3468,
          -135,
          -124.8457,
          20.9394,
          18.7322,
          -71.543,
          109.7453,
          113.55,
          114.2,
          113.4244,
          108.7881,
          101.487,
          101.48700000000001,
          117.9874,
          106.8748,
          111.7088,
          115.7221,
          120.0934,
          107.874,
          102.7103,
          112.2707,
          121.4491,
          121.4491,
          88.0924,
          117.2264,
          119.455,
          113.61399999999999,
          108.8701,
          95.9956,
          104.2861,
          118.1498,
          106.1655,
          112.2922,
          114.9042,
          117.323,
          116.1306,
          116.4142,
          85.2401,
          122.6085,
          126.1923,
          113.9448,
          127.7615,
          127.7615,
          -74.2973,
          43.3333,
          15.8277,
          21.7587,
          -83.7534,
          -5.5471,
          15.2,
          -77.78116700000002,
          33.4299,
          15.472999999999999,
          15.473,
          9.5018,
          -6.9118,
          -42.6043,
          0,
          42.5903,
          -61.371,
          -70.1627,
          -78.1834,
          30.802497999999996,
          30.802498,
          -88.8965,
          10.2679,
          39.7823,
          25.0136,
          31.4659,
          40.4897,
          178.065,
          25.748151,
          55.5364,
          165.618042,
          165.618042,
          149.4068,
          45.166244,
          -53.1258,
          -61.0242,
          -61.551,
          -62.8333,
          -63.0501,
          2.2137,
          -56.3159,
          11.6094,
          -15.3101,
          43.3569,
          10.451526,
          10.451526,
          -1.0232,
          21.8243,
          -61.679,
          -61.678999999999995,
          -90.2308,
          -9.6966,
          -15.1804,
          -58.93018000000001,
          -72.2852,
          12.4534,
          -86.2419,
          19.5033,
          -19.0208,
          78.96288,
          113.9213,
          53.68804599999999,
          43.679291,
          -7.6921,
          34.851612,
          34.851612,
          12.56738,
          -77.2975,
          138.252924,
          36.51,
          66.9237,
          37.9062,
          127.766922,
          20.902977,
          47.481766,
          47.481766,
          74.766098,
          102.495496,
          102.495496,
          24.6032,
          35.8623,
          28.2336,
          -9.429499,
          17.228331,
          9.55,
          23.8813,
          6.1296,
          0,
          46.869107,
          46.869107,
          34.3015,
          101.975766,
          101.97576600000001,
          73.2207,
          -3.996166000000001,
          14.3754,
          -10.9408,
          57.552152,
          57.552152,
          -102.5528,
          28.3699,
          7.4167,
          103.8467,
          19.37439,
          -7.0926,
          35.5296,
          35.529562,
          18.4904,
          84.25,
          -68.99,
          -68.2385,
          -69.9683,
          -63.0548,
          5.2913,
          174.886,
          -85.207229,
          8.081666,
          8.6753,
          21.7453,
          8.4689,
          55.92325500000001,
          69.3451,
          -80.7821,
          143.95555,
          -58.4438,
          -75.0152,
          121.77401699999999,
          121.774017,
          19.1451,
          -8.2245,
          51.1839,
          24.9668,
          105.318756,
          105.31875600000001,
          29.8739,
          -62.782998,
          -60.9789,
          -61.2872,
          12.4578,
          6.6131,
          45.079162,
          -14.4524,
          21.0059,
          55.492,
          -11.779889,
          103.8333,
          19.699,
          14.9955,
          46.199616,
          22.9375,
          31.307,
          31.307,
          -3.74922,
          -3.7492199999999998,
          80.77179699999998,
          30.2176,
          -56.0278,
          18.643501,
          8.2275,
          38.99681500000001,
          38.9968,
          121,
          71.2761,
          34.888822,
          100.992541,
          125.727539,
          125.7275,
          0.8248,
          -61.2225,
          9.537499,
          35.2433,
          -100,
          32.290275,
          31.1656,
          53.847818,
          53.847818000000004,
          -59.5236,
          -62.187366000000004,
          -62.187366,
          -63.0686,
          -64.64,
          -81.2546,
          -71.7979,
          -64.7505,
          -5.3536,
          -2.3644,
          -4.5481,
          -3.4360000000000004,
          -55.7658,
          64.585262,
          -66.5897,
          108.277199,
          108.277199,
          35.2332,
          -12.8858,
          48.516388,
          48.516388,
          27.849332,
          29.154857
         ],
         "marker": {
          "color": [
           4095672,
           691980,
           3533365,
           159737,
           160134,
           9819,
           26310978,
           4030856,
           38359,
           1264309,
           19615,
           80571,
           613059,
           108002,
           192664,
           5412,
           3573756,
           3162615,
           118398,
           4668824,
           25618301,
           19743,
           8483407,
           11012931,
           47477,
           183782,
           15078,
           8305702,
           1443569,
           104896,
           297073968,
           26336,
           1291483,
           174670,
           107252,
           36046,
           293925,
           32216,
           0,
           1924299,
           2491,
           171822,
           0,
           5970,
           27291,
           5611031,
           163430,
           8493022,
           46343,
           606277,
           90855,
           1511647,
           0,
           2121,
           870,
           466148,
           121610,
           39776158,
           39331,
           8839,
           406608,
           366947,
           58954,
           0,
           43368,
           81387,
           33720,
           236724,
           216192,
           293574,
           135004,
           134516,
           15355641,
           149477,
           0,
           237,
           228984,
           150233,
           0,
           70349,
           4241,
           33411,
           179843,
           17207,
           41953,
           295336,
           43048,
           77241,
           161790,
           62816,
           40064,
           30324,
           44599,
           185984,
           0,
           37920864,
           39944,
           337081,
           989266,
           2500662,
           1618102,
           823921,
           431113,
           186677,
           2637217,
           0,
           2251041,
           44746,
           2305,
           156644,
           640846,
           3209,
           7649639,
           10743640,
           9724542,
           0,
           1798989,
           427881,
           29739,
           351623,
           299264,
           2801492,
           3918,
           1171595,
           148378,
           0,
           3795,
           34625,
           373774,
           730810,
           59103,
           93193,
           1705,
           14944,
           37611708,
           507,
           802564,
           136315,
           181776,
           34656130,
           0,
           3680328,
           887912,
           0,
           3832,
           5183932,
           913035,
           245922,
           84533,
           792171,
           2040,
           4455486,
           831580,
           339199,
           233508559,
           13513492,
           39969557,
           15333137,
           4202950,
           0,
           9229002,
           41931782,
           188504,
           5433930,
           216294,
           8276923,
           2233708,
           2694333,
           883453,
           7807018,
           0,
           2996619,
           0,
           3461,
           196241,
           1008750,
           64228,
           124627,
           814841,
           16070,
           345610,
           912234,
           1583,
           1013522,
           0,
           384561,
           0,
           1412311,
           569147,
           307424,
           163387,
           611843,
           59520,
           0,
           47197134,
           3133765,
           20591,
           34198,
           354510,
           4256606,
           0,
           270096,
           380172,
           2789358,
           7138,
           1751,
           109542,
           30138,
           9103852,
           272353,
           387205,
           168794,
           4558776,
           1220592,
           1619786,
           7404465,
           29509806,
           7341242,
           21677,
           1087882,
           52953127,
           13951245,
           0,
           6314891,
           7134777,
           13053893,
           6966137,
           0,
           100381759,
           262076,
           2745,
           3709,
           6142,
           115429,
           97658,
           29824806,
           1193626,
           3093019,
           11455,
           209442,
           6688803,
           395455,
           350606,
           394605,
           45255990,
           0,
           261662,
           0,
           52209984,
           338576,
           1312057,
           229647,
           9691315,
           6046305,
           152224,
           0,
           83365,
           859793,
           78340,
           560535,
           3964,
           0,
           121299,
           101153,
           355778,
           32922400,
           550597491,
           217982,
           9850634,
           0,
           7631773,
           2124,
           2045,
           0,
           532,
           2744,
           27573,
           26394,
           24104,
           33854,
           98500,
           56061,
           45714517,
           183402,
           2866127,
           2797999,
           94020,
           0,
           1455863,
           1471,
           175743,
           0,
           736186,
           387245
          ],
          "coloraxis": "coloraxis",
          "size": [
           4095672,
           691980,
           3533365,
           159737,
           160134,
           9819,
           26310978,
           4030856,
           38359,
           1264309,
           19615,
           80571,
           613059,
           108002,
           192664,
           5412,
           3573756,
           3162615,
           118398,
           4668824,
           25618301,
           19743,
           8483407,
           11012931,
           47477,
           183782,
           15078,
           8305702,
           1443569,
           104896,
           297073968,
           26336,
           1291483,
           174670,
           107252,
           36046,
           293925,
           32216,
           0,
           1924299,
           2491,
           171822,
           0,
           5970,
           27291,
           5611031,
           163430,
           8493022,
           46343,
           606277,
           90855,
           1511647,
           0,
           2121,
           870,
           466148,
           121610,
           39776158,
           39331,
           8839,
           406608,
           366947,
           58954,
           0,
           43368,
           81387,
           33720,
           236724,
           216192,
           293574,
           135004,
           134516,
           15355641,
           149477,
           0,
           237,
           228984,
           150233,
           0,
           70349,
           4241,
           33411,
           179843,
           17207,
           41953,
           295336,
           43048,
           77241,
           161790,
           62816,
           40064,
           30324,
           44599,
           185984,
           0,
           37920864,
           39944,
           337081,
           989266,
           2500662,
           1618102,
           823921,
           431113,
           186677,
           2637217,
           0,
           2251041,
           44746,
           2305,
           156644,
           640846,
           3209,
           7649639,
           10743640,
           9724542,
           0,
           1798989,
           427881,
           29739,
           351623,
           299264,
           2801492,
           3918,
           1171595,
           148378,
           0,
           3795,
           34625,
           373774,
           730810,
           59103,
           93193,
           1705,
           14944,
           37611708,
           507,
           802564,
           136315,
           181776,
           34656130,
           0,
           3680328,
           887912,
           0,
           3832,
           5183932,
           913035,
           245922,
           84533,
           792171,
           2040,
           4455486,
           831580,
           339199,
           233508559,
           13513492,
           39969557,
           15333137,
           4202950,
           0,
           9229002,
           41931782,
           188504,
           5433930,
           216294,
           8276923,
           2233708,
           2694333,
           883453,
           7807018,
           0,
           2996619,
           0,
           3461,
           196241,
           1008750,
           64228,
           124627,
           814841,
           16070,
           345610,
           912234,
           1583,
           1013522,
           0,
           384561,
           0,
           1412311,
           569147,
           307424,
           163387,
           611843,
           59520,
           0,
           47197134,
           3133765,
           20591,
           34198,
           354510,
           4256606,
           0,
           270096,
           380172,
           2789358,
           7138,
           1751,
           109542,
           30138,
           9103852,
           272353,
           387205,
           168794,
           4558776,
           1220592,
           1619786,
           7404465,
           29509806,
           7341242,
           21677,
           1087882,
           52953127,
           13951245,
           0,
           6314891,
           7134777,
           13053893,
           6966137,
           0,
           100381759,
           262076,
           2745,
           3709,
           6142,
           115429,
           97658,
           29824806,
           1193626,
           3093019,
           11455,
           209442,
           6688803,
           395455,
           350606,
           394605,
           45255990,
           0,
           261662,
           0,
           52209984,
           338576,
           1312057,
           229647,
           9691315,
           6046305,
           152224,
           0,
           83365,
           859793,
           78340,
           560535,
           3964,
           0,
           121299,
           101153,
           355778,
           32922400,
           550597491,
           217982,
           9850634,
           0,
           7631773,
           2124,
           2045,
           0,
           532,
           2744,
           27573,
           26394,
           24104,
           33854,
           98500,
           56061,
           45714517,
           183402,
           2866127,
           2797999,
           94020,
           0,
           1455863,
           1471,
           175743,
           0,
           736186,
           387245
          ],
          "sizemode": "area",
          "sizeref": 1376493.7275
         },
         "name": "",
         "showlegend": false,
         "type": "scattergeo"
        }
       ],
       "layout": {
        "coloraxis": {
         "colorbar": {
          "title": {
           "text": "Confirmed"
          }
         },
         "colorscale": [
          [
           0,
           "#0d0887"
          ],
          [
           0.1111111111111111,
           "#46039f"
          ],
          [
           0.2222222222222222,
           "#7201a8"
          ],
          [
           0.3333333333333333,
           "#9c179e"
          ],
          [
           0.4444444444444444,
           "#bd3786"
          ],
          [
           0.5555555555555556,
           "#d8576b"
          ],
          [
           0.6666666666666666,
           "#ed7953"
          ],
          [
           0.7777777777777778,
           "#fb9f3a"
          ],
          [
           0.8888888888888888,
           "#fdca26"
          ],
          [
           1,
           "#f0f921"
          ]
         ]
        },
        "geo": {
         "center": {},
         "domain": {
          "x": [
           0,
           1
          ],
          "y": [
           0,
           1
          ]
         },
         "projection": {
          "type": "natural earth"
         }
        },
        "legend": {
         "itemsizing": "constant",
         "tracegroupgap": 0
        },
        "margin": {
         "t": 60
        },
        "template": {
         "data": {
          "bar": [
           {
            "error_x": {
             "color": "#2a3f5f"
            },
            "error_y": {
             "color": "#2a3f5f"
            },
            "marker": {
             "line": {
              "color": "#E5ECF6",
              "width": 0.5
             }
            },
            "type": "bar"
           }
          ],
          "barpolar": [
           {
            "marker": {
             "line": {
              "color": "#E5ECF6",
              "width": 0.5
             }
            },
            "type": "barpolar"
           }
          ],
          "carpet": [
           {
            "aaxis": {
             "endlinecolor": "#2a3f5f",
             "gridcolor": "white",
             "linecolor": "white",
             "minorgridcolor": "white",
             "startlinecolor": "#2a3f5f"
            },
            "baxis": {
             "endlinecolor": "#2a3f5f",
             "gridcolor": "white",
             "linecolor": "white",
             "minorgridcolor": "white",
             "startlinecolor": "#2a3f5f"
            },
            "type": "carpet"
           }
          ],
          "choropleth": [
           {
            "colorbar": {
             "outlinewidth": 0,
             "ticks": ""
            },
            "type": "choropleth"
           }
          ],
          "contour": [
           {
            "colorbar": {
             "outlinewidth": 0,
             "ticks": ""
            },
            "colorscale": [
             [
              0,
              "#0d0887"
             ],
             [
              0.1111111111111111,
              "#46039f"
             ],
             [
              0.2222222222222222,
              "#7201a8"
             ],
             [
              0.3333333333333333,
              "#9c179e"
             ],
             [
              0.4444444444444444,
              "#bd3786"
             ],
             [
              0.5555555555555556,
              "#d8576b"
             ],
             [
              0.6666666666666666,
              "#ed7953"
             ],
             [
              0.7777777777777778,
              "#fb9f3a"
             ],
             [
              0.8888888888888888,
              "#fdca26"
             ],
             [
              1,
              "#f0f921"
             ]
            ],
            "type": "contour"
           }
          ],
          "contourcarpet": [
           {
            "colorbar": {
             "outlinewidth": 0,
             "ticks": ""
            },
            "type": "contourcarpet"
           }
          ],
          "heatmap": [
           {
            "colorbar": {
             "outlinewidth": 0,
             "ticks": ""
            },
            "colorscale": [
             [
              0,
              "#0d0887"
             ],
             [
              0.1111111111111111,
              "#46039f"
             ],
             [
              0.2222222222222222,
              "#7201a8"
             ],
             [
              0.3333333333333333,
              "#9c179e"
             ],
             [
              0.4444444444444444,
              "#bd3786"
             ],
             [
              0.5555555555555556,
              "#d8576b"
             ],
             [
              0.6666666666666666,
              "#ed7953"
             ],
             [
              0.7777777777777778,
              "#fb9f3a"
             ],
             [
              0.8888888888888888,
              "#fdca26"
             ],
             [
              1,
              "#f0f921"
             ]
            ],
            "type": "heatmap"
           }
          ],
          "heatmapgl": [
           {
            "colorbar": {
             "outlinewidth": 0,
             "ticks": ""
            },
            "colorscale": [
             [
              0,
              "#0d0887"
             ],
             [
              0.1111111111111111,
              "#46039f"
             ],
             [
              0.2222222222222222,
              "#7201a8"
             ],
             [
              0.3333333333333333,
              "#9c179e"
             ],
             [
              0.4444444444444444,
              "#bd3786"
             ],
             [
              0.5555555555555556,
              "#d8576b"
             ],
             [
              0.6666666666666666,
              "#ed7953"
             ],
             [
              0.7777777777777778,
              "#fb9f3a"
             ],
             [
              0.8888888888888888,
              "#fdca26"
             ],
             [
              1,
              "#f0f921"
             ]
            ],
            "type": "heatmapgl"
           }
          ],
          "histogram": [
           {
            "marker": {
             "colorbar": {
              "outlinewidth": 0,
              "ticks": ""
             }
            },
            "type": "histogram"
           }
          ],
          "histogram2d": [
           {
            "colorbar": {
             "outlinewidth": 0,
             "ticks": ""
            },
            "colorscale": [
             [
              0,
              "#0d0887"
             ],
             [
              0.1111111111111111,
              "#46039f"
             ],
             [
              0.2222222222222222,
              "#7201a8"
             ],
             [
              0.3333333333333333,
              "#9c179e"
             ],
             [
              0.4444444444444444,
              "#bd3786"
             ],
             [
              0.5555555555555556,
              "#d8576b"
             ],
             [
              0.6666666666666666,
              "#ed7953"
             ],
             [
              0.7777777777777778,
              "#fb9f3a"
             ],
             [
              0.8888888888888888,
              "#fdca26"
             ],
             [
              1,
              "#f0f921"
             ]
            ],
            "type": "histogram2d"
           }
          ],
          "histogram2dcontour": [
           {
            "colorbar": {
             "outlinewidth": 0,
             "ticks": ""
            },
            "colorscale": [
             [
              0,
              "#0d0887"
             ],
             [
              0.1111111111111111,
              "#46039f"
             ],
             [
              0.2222222222222222,
              "#7201a8"
             ],
             [
              0.3333333333333333,
              "#9c179e"
             ],
             [
              0.4444444444444444,
              "#bd3786"
             ],
             [
              0.5555555555555556,
              "#d8576b"
             ],
             [
              0.6666666666666666,
              "#ed7953"
             ],
             [
              0.7777777777777778,
              "#fb9f3a"
             ],
             [
              0.8888888888888888,
              "#fdca26"
             ],
             [
              1,
              "#f0f921"
             ]
            ],
            "type": "histogram2dcontour"
           }
          ],
          "mesh3d": [
           {
            "colorbar": {
             "outlinewidth": 0,
             "ticks": ""
            },
            "type": "mesh3d"
           }
          ],
          "parcoords": [
           {
            "line": {
             "colorbar": {
              "outlinewidth": 0,
              "ticks": ""
             }
            },
            "type": "parcoords"
           }
          ],
          "pie": [
           {
            "automargin": true,
            "type": "pie"
           }
          ],
          "scatter": [
           {
            "marker": {
             "colorbar": {
              "outlinewidth": 0,
              "ticks": ""
             }
            },
            "type": "scatter"
           }
          ],
          "scatter3d": [
           {
            "line": {
             "colorbar": {
              "outlinewidth": 0,
              "ticks": ""
             }
            },
            "marker": {
             "colorbar": {
              "outlinewidth": 0,
              "ticks": ""
             }
            },
            "type": "scatter3d"
           }
          ],
          "scattercarpet": [
           {
            "marker": {
             "colorbar": {
              "outlinewidth": 0,
              "ticks": ""
             }
            },
            "type": "scattercarpet"
           }
          ],
          "scattergeo": [
           {
            "marker": {
             "colorbar": {
              "outlinewidth": 0,
              "ticks": ""
             }
            },
            "type": "scattergeo"
           }
          ],
          "scattergl": [
           {
            "marker": {
             "colorbar": {
              "outlinewidth": 0,
              "ticks": ""
             }
            },
            "type": "scattergl"
           }
          ],
          "scattermapbox": [
           {
            "marker": {
             "colorbar": {
              "outlinewidth": 0,
              "ticks": ""
             }
            },
            "type": "scattermapbox"
           }
          ],
          "scatterpolar": [
           {
            "marker": {
             "colorbar": {
              "outlinewidth": 0,
              "ticks": ""
             }
            },
            "type": "scatterpolar"
           }
          ],
          "scatterpolargl": [
           {
            "marker": {
             "colorbar": {
              "outlinewidth": 0,
              "ticks": ""
             }
            },
            "type": "scatterpolargl"
           }
          ],
          "scatterternary": [
           {
            "marker": {
             "colorbar": {
              "outlinewidth": 0,
              "ticks": ""
             }
            },
            "type": "scatterternary"
           }
          ],
          "surface": [
           {
            "colorbar": {
             "outlinewidth": 0,
             "ticks": ""
            },
            "colorscale": [
             [
              0,
              "#0d0887"
             ],
             [
              0.1111111111111111,
              "#46039f"
             ],
             [
              0.2222222222222222,
              "#7201a8"
             ],
             [
              0.3333333333333333,
              "#9c179e"
             ],
             [
              0.4444444444444444,
              "#bd3786"
             ],
             [
              0.5555555555555556,
              "#d8576b"
             ],
             [
              0.6666666666666666,
              "#ed7953"
             ],
             [
              0.7777777777777778,
              "#fb9f3a"
             ],
             [
              0.8888888888888888,
              "#fdca26"
             ],
             [
              1,
              "#f0f921"
             ]
            ],
            "type": "surface"
           }
          ],
          "table": [
           {
            "cells": {
             "fill": {
              "color": "#EBF0F8"
             },
             "line": {
              "color": "white"
             }
            },
            "header": {
             "fill": {
              "color": "#C8D4E3"
             },
             "line": {
              "color": "white"
             }
            },
            "type": "table"
           }
          ]
         },
         "layout": {
          "annotationdefaults": {
           "arrowcolor": "#2a3f5f",
           "arrowhead": 0,
           "arrowwidth": 1
          },
          "coloraxis": {
           "colorbar": {
            "outlinewidth": 0,
            "ticks": ""
           }
          },
          "colorscale": {
           "diverging": [
            [
             0,
             "#8e0152"
            ],
            [
             0.1,
             "#c51b7d"
            ],
            [
             0.2,
             "#de77ae"
            ],
            [
             0.3,
             "#f1b6da"
            ],
            [
             0.4,
             "#fde0ef"
            ],
            [
             0.5,
             "#f7f7f7"
            ],
            [
             0.6,
             "#e6f5d0"
            ],
            [
             0.7,
             "#b8e186"
            ],
            [
             0.8,
             "#7fbc41"
            ],
            [
             0.9,
             "#4d9221"
            ],
            [
             1,
             "#276419"
            ]
           ],
           "sequential": [
            [
             0,
             "#0d0887"
            ],
            [
             0.1111111111111111,
             "#46039f"
            ],
            [
             0.2222222222222222,
             "#7201a8"
            ],
            [
             0.3333333333333333,
             "#9c179e"
            ],
            [
             0.4444444444444444,
             "#bd3786"
            ],
            [
             0.5555555555555556,
             "#d8576b"
            ],
            [
             0.6666666666666666,
             "#ed7953"
            ],
            [
             0.7777777777777778,
             "#fb9f3a"
            ],
            [
             0.8888888888888888,
             "#fdca26"
            ],
            [
             1,
             "#f0f921"
            ]
           ],
           "sequentialminus": [
            [
             0,
             "#0d0887"
            ],
            [
             0.1111111111111111,
             "#46039f"
            ],
            [
             0.2222222222222222,
             "#7201a8"
            ],
            [
             0.3333333333333333,
             "#9c179e"
            ],
            [
             0.4444444444444444,
             "#bd3786"
            ],
            [
             0.5555555555555556,
             "#d8576b"
            ],
            [
             0.6666666666666666,
             "#ed7953"
            ],
            [
             0.7777777777777778,
             "#fb9f3a"
            ],
            [
             0.8888888888888888,
             "#fdca26"
            ],
            [
             1,
             "#f0f921"
            ]
           ]
          },
          "colorway": [
           "#636efa",
           "#EF553B",
           "#00cc96",
           "#ab63fa",
           "#FFA15A",
           "#19d3f3",
           "#FF6692",
           "#B6E880",
           "#FF97FF",
           "#FECB52"
          ],
          "font": {
           "color": "#2a3f5f"
          },
          "geo": {
           "bgcolor": "white",
           "lakecolor": "white",
           "landcolor": "#E5ECF6",
           "showlakes": true,
           "showland": true,
           "subunitcolor": "white"
          },
          "hoverlabel": {
           "align": "left"
          },
          "hovermode": "closest",
          "mapbox": {
           "style": "light"
          },
          "paper_bgcolor": "white",
          "plot_bgcolor": "#E5ECF6",
          "polar": {
           "angularaxis": {
            "gridcolor": "white",
            "linecolor": "white",
            "ticks": ""
           },
           "bgcolor": "#E5ECF6",
           "radialaxis": {
            "gridcolor": "white",
            "linecolor": "white",
            "ticks": ""
           }
          },
          "scene": {
           "xaxis": {
            "backgroundcolor": "#E5ECF6",
            "gridcolor": "white",
            "gridwidth": 2,
            "linecolor": "white",
            "showbackground": true,
            "ticks": "",
            "zerolinecolor": "white"
           },
           "yaxis": {
            "backgroundcolor": "#E5ECF6",
            "gridcolor": "white",
            "gridwidth": 2,
            "linecolor": "white",
            "showbackground": true,
            "ticks": "",
            "zerolinecolor": "white"
           },
           "zaxis": {
            "backgroundcolor": "#E5ECF6",
            "gridcolor": "white",
            "gridwidth": 2,
            "linecolor": "white",
            "showbackground": true,
            "ticks": "",
            "zerolinecolor": "white"
           }
          },
          "shapedefaults": {
           "line": {
            "color": "#2a3f5f"
           }
          },
          "ternary": {
           "aaxis": {
            "gridcolor": "white",
            "linecolor": "white",
            "ticks": ""
           },
           "baxis": {
            "gridcolor": "white",
            "linecolor": "white",
            "ticks": ""
           },
           "bgcolor": "#E5ECF6",
           "caxis": {
            "gridcolor": "white",
            "linecolor": "white",
            "ticks": ""
           }
          },
          "title": {
           "x": 0.05
          },
          "xaxis": {
           "automargin": true,
           "gridcolor": "white",
           "linecolor": "white",
           "ticks": "",
           "title": {
            "standoff": 15
           },
           "zerolinecolor": "white",
           "zerolinewidth": 2
          },
          "yaxis": {
           "automargin": true,
           "gridcolor": "white",
           "linecolor": "white",
           "ticks": "",
           "title": {
            "standoff": 15
           },
           "zerolinecolor": "white",
           "zerolinewidth": 2
          }
         }
        }
       }
      },
      "text/html": [
       "<div>\n",
       "        \n",
       "        \n",
       "            <div id=\"2db9beed-53be-4ef1-9eb9-df8d5579ee12\" class=\"plotly-graph-div\" style=\"height:525px; width:100%;\"></div>\n",
       "            <script type=\"text/javascript\">\n",
       "                require([\"plotly\"], function(Plotly) {\n",
       "                    window.PLOTLYENV=window.PLOTLYENV || {};\n",
       "                    \n",
       "                if (document.getElementById(\"2db9beed-53be-4ef1-9eb9-df8d5579ee12\")) {\n",
       "                    Plotly.newPlot(\n",
       "                        '2db9beed-53be-4ef1-9eb9-df8d5579ee12',\n",
       "                        [{\"geo\": \"geo\", \"hovertemplate\": \"<b>%{hovertext}</b><br><br>Confirmed=%{marker.color}<br>Lat=%{lat}<br>Long=%{lon}<extra></extra>\", \"hovertext\": [\"Afghanistan\", \"Albania\", \"Algeria\", \"Andorra\", \"Angola\", \"Antigua and Barbuda\", \"Argentina\", \"Armenia\", \"Australia\", \"Australia\", \"Australia\", \"Australia\", \"Australia\", \"Australia\", \"Australia\", \"Australia\", \"Austria\", \"Azerbaijan\", \"Bahamas\", \"Bahrain\", \"Bangladesh\", \"Barbados\", \"Belarus\", \"Belgium\", \"Belize\", \"Benin\", \"Bhutan\", \"Bolivia\", \"Bosnia and Herzegovina\", \"Botswana\", \"Brazil\", \"Brunei\", \"Bulgaria\", \"Burkina Faso\", \"Burma\", \"Burundi\", \"Cabo Verde\", \"Cambodia\", \"Cameroon\", \"Cameroon\", \"Canada\", \"Canada\", \"Canada\", \"Canada\", \"Canada\", \"Canada\", \"Canada\", \"Canada\", \"Canada\", \"Canada\", \"Canada\", \"Canada\", \"Canada\", \"Canada\", \"Canada\", \"Central African Republic\", \"Chad\", \"Chile\", \"China\", \"China\", \"China\", \"China\", \"China\", \"China\", \"China\", \"China\", \"China\", \"China\", \"China\", \"China\", \"China\", \"China\", \"China\", \"China\", \"China\", \"China\", \"China\", \"China\", \"China\", \"China\", \"China\", \"China\", \"China\", \"China\", \"China\", \"China\", \"China\", \"China\", \"China\", \"China\", \"China\", \"China\", \"China\", \"China\", \"China\", \"Colombia\", \"Comoros\", \"Congo (Brazzaville)\", \"Congo (Kinshasa)\", \"Costa Rica\", \"Cote d'Ivoire\", \"Croatia\", \"Cuba\", \"Cyprus\", \"Czechia\", \"Czechia\", \"Denmark\", \"Denmark\", \"Denmark\", \"Diamond Princess\", \"Djibouti\", \"Dominica\", \"Dominican Republic\", \"Ecuador\", \"Egypt\", \"Egypt\", \"El Salvador\", \"Equatorial Guinea\", \"Eritrea\", \"Estonia\", \"Eswatini\", \"Ethiopia\", \"Fiji\", \"Finland\", \"France\", \"France\", \"France\", \"France\", \"France\", \"France\", \"France\", \"France\", \"France\", \"France\", \"France\", \"France\", \"Gabon\", \"Gambia\", \"Georgia\", \"Germany\", \"Germany\", \"Ghana\", \"Greece\", \"Grenada\", \"Grenada\", \"Guatemala\", \"Guinea\", \"Guinea-Bissau\", \"Guyana\", \"Haiti\", \"Holy See\", \"Honduras\", \"Hungary\", \"Iceland\", \"India\", \"Indonesia\", \"Iran\", \"Iraq\", \"Ireland\", \"Israel\", \"Israel\", \"Italy\", \"Jamaica\", \"Japan\", \"Jordan\", \"Kazakhstan\", \"Kenya\", \"Korea, South\", \"Kosovo\", \"Kuwait\", \"Kuwait\", \"Kyrgyzstan\", \"Laos\", \"Laos\", \"Latvia\", \"Lebanon\", \"Lesotho\", \"Liberia\", \"Libya\", \"Liechtenstein\", \"Lithuania\", \"Luxembourg\", \"MS Zaandam\", \"Madagascar\", \"Madagascar\", \"Malawi\", \"Malaysia\", \"Malaysia\", \"Maldives\", \"Mali\", \"Malta\", \"Mauritania\", \"Mauritius\", \"Mauritius\", \"Mexico\", \"Moldova\", \"Monaco\", \"Mongolia\", \"Montenegro\", \"Morocco\", \"Mozambique\", \"Mozambique\", \"Namibia\", \"Nepal\", \"Netherlands\", \"Netherlands\", \"Netherlands\", \"Netherlands\", \"Netherlands\", \"New Zealand\", \"Nicaragua\", \"Niger\", \"Nigeria\", \"North Macedonia\", \"Norway\", \"Oman\", \"Pakistan\", \"Panama\", \"Papua New Guinea\", \"Paraguay\", \"Peru\", \"Philippines\", \"Philippines\", \"Poland\", \"Portugal\", \"Qatar\", \"Romania\", \"Russia\", \"Russia\", \"Rwanda\", \"Saint Kitts and Nevis\", \"Saint Lucia\", \"Saint Vincent and the Grenadines\", \"San Marino\", \"Sao Tome and Principe\", \"Saudi Arabia\", \"Senegal\", \"Serbia\", \"Seychelles\", \"Sierra Leone\", \"Singapore\", \"Slovakia\", \"Slovenia\", \"Somalia\", \"South Africa\", \"South Sudan\", \"South Sudan\", \"Spain\", \"Spain\", \"Sri Lanka\", \"Sudan\", \"Suriname\", \"Sweden\", \"Switzerland\", \"Syria\", \"Syria\", \"Taiwan*\", \"Tajikistan\", \"Tanzania\", \"Thailand\", \"Timor-Leste\", \"Timor-Leste\", \"Togo\", \"Trinidad and Tobago\", \"Tunisia\", \"Turkey\", \"US\", \"Uganda\", \"Ukraine\", \"United Arab Emirates\", \"United Arab Emirates\", \"United Kingdom\", \"United Kingdom\", \"United Kingdom\", \"United Kingdom\", \"United Kingdom\", \"United Kingdom\", \"United Kingdom\", \"United Kingdom\", \"United Kingdom\", \"United Kingdom\", \"United Kingdom\", \"United Kingdom\", \"Uruguay\", \"Uzbekistan\", \"Venezuela\", \"Vietnam\", \"Vietnam\", \"West Bank and Gaza\", \"Western Sahara\", \"Yemen\", \"Yemen\", \"Zambia\", \"Zimbabwe\"], \"lat\": [33.93911, 41.1533, 28.0339, 42.5063, -11.2027, 17.0608, -38.4161, 40.0691, -42.8821, -37.8136, -35.4735, -34.9285, -33.8688, -31.9505, -27.4698, -12.4634, 47.5162, 40.1431, 25.025885, 26.0275, 23.685, 13.1939, 53.7098, 50.8333, 17.1899, 9.3077, 27.5142, -16.2902, 43.9159, -22.3285, -14.235, 4.5353, 42.7339, 12.2383, 21.9162, -3.3731, 16.5388, 11.55, 3.848, 3.8480000000000003, 0.0, 44.681999999999995, 44.682, 46.5107, 46.5653, 51.2538, 52.9399, 52.9399, 53.1355, 53.7267, 53.7609, 53.9333, 56.1304, 64.2823, 64.8255, 6.6111, 15.4542, -35.6751, 19.1959, 22.1667, 22.3, 23.3417, 23.8298, 24.974, 24.974, 26.0789, 26.8154, 27.6104, 27.614, 29.1832, 30.0572, 30.6171, 30.9756, 31.201999999999998, 31.202, 31.6927, 31.8257, 32.9711, 33.882, 35.1917, 35.7452, 35.7518, 36.3427, 37.2692, 37.5777, 37.8957, 39.3054, 39.549, 40.1824, 41.1129, 41.2956, 43.6661, 44.0935, 47.861999999999995, 47.862, 4.5709, -11.6455, -0.228, -4.0383, 9.7489, 7.54, 45.1, 21.521757, 35.1264, 49.8175, 49.8175, 56.2639, 61.8926, 71.7069, 0.0, 11.8251, 15.415, 18.7357, -1.8312, 26.820553000000004, 26.820553000000004, 13.7942, 1.6508, 15.1794, 58.5953, -26.5225, 9.145, -17.7134, 61.92411, -21.1151, -20.904305, -20.904304999999997, -17.6797, -12.8275, 3.9339, 14.6415, 16.265, 17.9, 18.0708, 46.2276, 46.8852, -0.8037, 13.4432, 42.3154, 51.165690999999995, 51.165691, 7.9465, 39.0742, 12.1165, 12.1165, 15.7835, 9.9456, 11.8037, 4.860416000000002, 18.9712, 41.9029, 15.2, 47.1625, 64.9631, 20.593684, -0.7893, 32.427908, 33.223191, 53.1424, 31.046051, 31.046051000000002, 41.87194, 18.1096, 36.204824, 31.24, 48.0196, -0.0236, 35.90775700000001, 42.602636, 29.311659999999996, 29.31166, 41.20438, 19.85627, 19.856270000000002, 56.8796, 33.8547, -29.61, 6.4280550000000005, 26.3351, 47.14, 55.1694, 49.8153, 0.0, -18.766947000000002, -18.766947, -13.2543, 4.210483999999999, 4.210483999999999, 3.2028, 17.570692, 35.9375, 21.0079, -20.348404000000002, -20.348404, 23.6345, 47.4116, 43.7333, 46.8625, 42.708678000000006, 31.7917, -18.6657, -18.665695, -22.9576, 28.1667, 12.1696, 12.1784, 12.5211, 18.0425, 52.1326, -40.9006, 12.865416, 17.607789, 9.082, 41.6086, 60.472, 21.512583, 30.3753, 8.538, -6.314993, -23.4425, -9.19, 12.879721, 12.879721, 51.9194, 39.3999, 25.3548, 45.9432, 61.52401, 61.52401, -1.9403, 17.357822, 13.9094, 12.9843, 43.9424, 0.1864, 23.885942, 14.4974, 44.0165, -4.6796, 8.460555000000001, 1.2833, 48.669, 46.1512, 5.152149, -30.5595, 6.877000000000002, 6.8770000000000024, 40.463667, 40.463667, 7.873054, 12.8628, 3.9193, 60.128161, 46.8182, 34.802075, 34.8021, 23.7, 38.861, -6.369028, 15.870032, -8.874217, -8.8742, 8.6195, 10.6918, 33.886917, 38.9637, 40.0, 1.373333, 48.3794, 23.424076, 23.424076, -51.7963, 16.742498, 16.742498, 18.2206, 18.4207, 19.3133, 21.69400000000001, 32.3078, 36.1408, 49.3723, 54.2361, 55.3781, -32.5228, 41.377491, 6.4238, 14.058323999999999, 14.058324, 31.9522, 24.2155, 15.552726999999999, 15.552727, -13.133897, -19.015438], \"legendgroup\": \"\", \"lon\": [67.709953, 20.1683, 1.6596, 1.5218, 17.8739, -61.7964, -63.6167, 45.0382, 147.3272, 144.9631, 149.0124, 138.6007, 151.2093, 115.8605, 153.0251, 130.8456, 14.5501, 47.5769, -78.035889, 50.55, 90.3563, -59.5432, 27.9534, 4.469936, -88.4976, 2.3158, 90.4336, -63.5887, 17.6791, 24.6849, -51.9253, 114.7277, 25.4858, -1.5616, 95.956, 29.9189, -23.0418, 104.9167, 11.5021, 11.5021, 0.0, -63.7443, -63.7443, -63.4168, -66.4619, -85.3232, -106.4509, -73.5491, -57.6604, -127.6476, -98.8139, -116.5765, -106.3468, -135.0, -124.8457, 20.9394, 18.7322, -71.543, 109.7453, 113.55, 114.2, 113.4244, 108.7881, 101.487, 101.48700000000001, 117.9874, 106.8748, 111.7088, 115.7221, 120.0934, 107.874, 102.7103, 112.2707, 121.4491, 121.4491, 88.0924, 117.2264, 119.455, 113.61399999999999, 108.8701, 95.9956, 104.2861, 118.1498, 106.1655, 112.2922, 114.9042, 117.323, 116.1306, 116.4142, 85.2401, 122.6085, 126.1923, 113.9448, 127.7615, 127.7615, -74.2973, 43.3333, 15.8277, 21.7587, -83.7534, -5.5471, 15.2, -77.78116700000002, 33.4299, 15.472999999999999, 15.473, 9.5018, -6.9118, -42.6043, 0.0, 42.5903, -61.371, -70.1627, -78.1834, 30.802497999999996, 30.802498, -88.8965, 10.2679, 39.7823, 25.0136, 31.4659, 40.4897, 178.065, 25.748151, 55.5364, 165.618042, 165.618042, 149.4068, 45.166244, -53.1258, -61.0242, -61.551, -62.8333, -63.0501, 2.2137, -56.3159, 11.6094, -15.3101, 43.3569, 10.451526, 10.451526, -1.0232, 21.8243, -61.679, -61.678999999999995, -90.2308, -9.6966, -15.1804, -58.93018000000001, -72.2852, 12.4534, -86.2419, 19.5033, -19.0208, 78.96288, 113.9213, 53.68804599999999, 43.679291, -7.6921, 34.851612, 34.851612, 12.56738, -77.2975, 138.252924, 36.51, 66.9237, 37.9062, 127.766922, 20.902977, 47.481766, 47.481766, 74.766098, 102.495496, 102.495496, 24.6032, 35.8623, 28.2336, -9.429499, 17.228331, 9.55, 23.8813, 6.1296, 0.0, 46.869107, 46.869107, 34.3015, 101.975766, 101.97576600000001, 73.2207, -3.996166000000001, 14.3754, -10.9408, 57.552152, 57.552152, -102.5528, 28.3699, 7.4167, 103.8467, 19.37439, -7.0926, 35.5296, 35.529562, 18.4904, 84.25, -68.99, -68.2385, -69.9683, -63.0548, 5.2913, 174.886, -85.207229, 8.081666, 8.6753, 21.7453, 8.4689, 55.92325500000001, 69.3451, -80.7821, 143.95555, -58.4438, -75.0152, 121.77401699999999, 121.774017, 19.1451, -8.2245, 51.1839, 24.9668, 105.318756, 105.31875600000001, 29.8739, -62.782998, -60.9789, -61.2872, 12.4578, 6.6131, 45.079162, -14.4524, 21.0059, 55.492, -11.779889, 103.8333, 19.699, 14.9955, 46.199616, 22.9375, 31.307, 31.307, -3.74922, -3.7492199999999998, 80.77179699999998, 30.2176, -56.0278, 18.643501, 8.2275, 38.99681500000001, 38.9968, 121.0, 71.2761, 34.888822, 100.992541, 125.727539, 125.7275, 0.8248, -61.2225, 9.537499, 35.2433, -100.0, 32.290275, 31.1656, 53.847818, 53.847818000000004, -59.5236, -62.187366000000004, -62.187366, -63.0686, -64.64, -81.2546, -71.7979, -64.7505, -5.3536, -2.3644, -4.5481, -3.4360000000000004, -55.7658, 64.585262, -66.5897, 108.277199, 108.277199, 35.2332, -12.8858, 48.516388, 48.516388, 27.849332, 29.154857], \"marker\": {\"color\": [4095672, 691980, 3533365, 159737, 160134, 9819, 26310978, 4030856, 38359, 1264309, 19615, 80571, 613059, 108002, 192664, 5412, 3573756, 3162615, 118398, 4668824, 25618301, 19743, 8483407, 11012931, 47477, 183782, 15078, 8305702, 1443569, 104896, 297073968, 26336, 1291483, 174670, 107252, 36046, 293925, 32216, 0, 1924299, 2491, 171822, 0, 5970, 27291, 5611031, 163430, 8493022, 46343, 606277, 90855, 1511647, 0, 2121, 870, 466148, 121610, 39776158, 39331, 8839, 406608, 366947, 58954, 0, 43368, 81387, 33720, 236724, 216192, 293574, 135004, 134516, 15355641, 149477, 0, 237, 228984, 150233, 0, 70349, 4241, 33411, 179843, 17207, 41953, 295336, 43048, 77241, 161790, 62816, 40064, 30324, 44599, 185984, 0, 37920864, 39944, 337081, 989266, 2500662, 1618102, 823921, 431113, 186677, 2637217, 0, 2251041, 44746, 2305, 156644, 640846, 3209, 7649639, 10743640, 9724542, 0, 1798989, 427881, 29739, 351623, 299264, 2801492, 3918, 1171595, 148378, 0, 3795, 34625, 373774, 730810, 59103, 93193, 1705, 14944, 37611708, 507, 802564, 136315, 181776, 34656130, 0, 3680328, 887912, 0, 3832, 5183932, 913035, 245922, 84533, 792171, 2040, 4455486, 831580, 339199, 233508559, 13513492, 39969557, 15333137, 4202950, 0, 9229002, 41931782, 188504, 5433930, 216294, 8276923, 2233708, 2694333, 883453, 7807018, 0, 2996619, 0, 3461, 196241, 1008750, 64228, 124627, 814841, 16070, 345610, 912234, 1583, 1013522, 0, 384561, 0, 1412311, 569147, 307424, 163387, 611843, 59520, 0, 47197134, 3133765, 20591, 34198, 354510, 4256606, 0, 270096, 380172, 2789358, 7138, 1751, 109542, 30138, 9103852, 272353, 387205, 168794, 4558776, 1220592, 1619786, 7404465, 29509806, 7341242, 21677, 1087882, 52953127, 13951245, 0, 6314891, 7134777, 13053893, 6966137, 0, 100381759, 262076, 2745, 3709, 6142, 115429, 97658, 29824806, 1193626, 3093019, 11455, 209442, 6688803, 395455, 350606, 394605, 45255990, 0, 261662, 0, 52209984, 338576, 1312057, 229647, 9691315, 6046305, 152224, 0, 83365, 859793, 78340, 560535, 3964, 0, 121299, 101153, 355778, 32922400, 550597491, 217982, 9850634, 0, 7631773, 2124, 2045, 0, 532, 2744, 27573, 26394, 24104, 33854, 98500, 56061, 45714517, 183402, 2866127, 2797999, 94020, 0, 1455863, 1471, 175743, 0, 736186, 387245], \"coloraxis\": \"coloraxis\", \"size\": [4095672, 691980, 3533365, 159737, 160134, 9819, 26310978, 4030856, 38359, 1264309, 19615, 80571, 613059, 108002, 192664, 5412, 3573756, 3162615, 118398, 4668824, 25618301, 19743, 8483407, 11012931, 47477, 183782, 15078, 8305702, 1443569, 104896, 297073968, 26336, 1291483, 174670, 107252, 36046, 293925, 32216, 0, 1924299, 2491, 171822, 0, 5970, 27291, 5611031, 163430, 8493022, 46343, 606277, 90855, 1511647, 0, 2121, 870, 466148, 121610, 39776158, 39331, 8839, 406608, 366947, 58954, 0, 43368, 81387, 33720, 236724, 216192, 293574, 135004, 134516, 15355641, 149477, 0, 237, 228984, 150233, 0, 70349, 4241, 33411, 179843, 17207, 41953, 295336, 43048, 77241, 161790, 62816, 40064, 30324, 44599, 185984, 0, 37920864, 39944, 337081, 989266, 2500662, 1618102, 823921, 431113, 186677, 2637217, 0, 2251041, 44746, 2305, 156644, 640846, 3209, 7649639, 10743640, 9724542, 0, 1798989, 427881, 29739, 351623, 299264, 2801492, 3918, 1171595, 148378, 0, 3795, 34625, 373774, 730810, 59103, 93193, 1705, 14944, 37611708, 507, 802564, 136315, 181776, 34656130, 0, 3680328, 887912, 0, 3832, 5183932, 913035, 245922, 84533, 792171, 2040, 4455486, 831580, 339199, 233508559, 13513492, 39969557, 15333137, 4202950, 0, 9229002, 41931782, 188504, 5433930, 216294, 8276923, 2233708, 2694333, 883453, 7807018, 0, 2996619, 0, 3461, 196241, 1008750, 64228, 124627, 814841, 16070, 345610, 912234, 1583, 1013522, 0, 384561, 0, 1412311, 569147, 307424, 163387, 611843, 59520, 0, 47197134, 3133765, 20591, 34198, 354510, 4256606, 0, 270096, 380172, 2789358, 7138, 1751, 109542, 30138, 9103852, 272353, 387205, 168794, 4558776, 1220592, 1619786, 7404465, 29509806, 7341242, 21677, 1087882, 52953127, 13951245, 0, 6314891, 7134777, 13053893, 6966137, 0, 100381759, 262076, 2745, 3709, 6142, 115429, 97658, 29824806, 1193626, 3093019, 11455, 209442, 6688803, 395455, 350606, 394605, 45255990, 0, 261662, 0, 52209984, 338576, 1312057, 229647, 9691315, 6046305, 152224, 0, 83365, 859793, 78340, 560535, 3964, 0, 121299, 101153, 355778, 32922400, 550597491, 217982, 9850634, 0, 7631773, 2124, 2045, 0, 532, 2744, 27573, 26394, 24104, 33854, 98500, 56061, 45714517, 183402, 2866127, 2797999, 94020, 0, 1455863, 1471, 175743, 0, 736186, 387245], \"sizemode\": \"area\", \"sizeref\": 1376493.7275}, \"name\": \"\", \"showlegend\": false, \"type\": \"scattergeo\"}],\n",
       "                        {\"coloraxis\": {\"colorbar\": {\"title\": {\"text\": \"Confirmed\"}}, \"colorscale\": [[0.0, \"#0d0887\"], [0.1111111111111111, \"#46039f\"], [0.2222222222222222, \"#7201a8\"], [0.3333333333333333, \"#9c179e\"], [0.4444444444444444, \"#bd3786\"], [0.5555555555555556, \"#d8576b\"], [0.6666666666666666, \"#ed7953\"], [0.7777777777777778, \"#fb9f3a\"], [0.8888888888888888, \"#fdca26\"], [1.0, \"#f0f921\"]]}, \"geo\": {\"center\": {}, \"domain\": {\"x\": [0.0, 1.0], \"y\": [0.0, 1.0]}, \"projection\": {\"type\": \"natural earth\"}}, \"legend\": {\"itemsizing\": \"constant\", \"tracegroupgap\": 0}, \"margin\": {\"t\": 60}, \"template\": {\"data\": {\"bar\": [{\"error_x\": {\"color\": \"#2a3f5f\"}, \"error_y\": {\"color\": \"#2a3f5f\"}, \"marker\": {\"line\": {\"color\": \"#E5ECF6\", \"width\": 0.5}}, \"type\": \"bar\"}], \"barpolar\": [{\"marker\": {\"line\": {\"color\": \"#E5ECF6\", \"width\": 0.5}}, \"type\": \"barpolar\"}], \"carpet\": [{\"aaxis\": {\"endlinecolor\": \"#2a3f5f\", \"gridcolor\": \"white\", \"linecolor\": \"white\", \"minorgridcolor\": \"white\", \"startlinecolor\": \"#2a3f5f\"}, \"baxis\": {\"endlinecolor\": \"#2a3f5f\", \"gridcolor\": \"white\", \"linecolor\": \"white\", \"minorgridcolor\": \"white\", \"startlinecolor\": \"#2a3f5f\"}, \"type\": \"carpet\"}], \"choropleth\": [{\"colorbar\": {\"outlinewidth\": 0, \"ticks\": \"\"}, \"type\": \"choropleth\"}], \"contour\": [{\"colorbar\": {\"outlinewidth\": 0, \"ticks\": \"\"}, \"colorscale\": [[0.0, \"#0d0887\"], [0.1111111111111111, \"#46039f\"], [0.2222222222222222, \"#7201a8\"], [0.3333333333333333, \"#9c179e\"], [0.4444444444444444, \"#bd3786\"], [0.5555555555555556, \"#d8576b\"], [0.6666666666666666, \"#ed7953\"], [0.7777777777777778, \"#fb9f3a\"], [0.8888888888888888, \"#fdca26\"], [1.0, \"#f0f921\"]], \"type\": \"contour\"}], \"contourcarpet\": [{\"colorbar\": {\"outlinewidth\": 0, \"ticks\": \"\"}, \"type\": \"contourcarpet\"}], \"heatmap\": [{\"colorbar\": {\"outlinewidth\": 0, \"ticks\": \"\"}, \"colorscale\": [[0.0, \"#0d0887\"], [0.1111111111111111, \"#46039f\"], [0.2222222222222222, \"#7201a8\"], [0.3333333333333333, \"#9c179e\"], [0.4444444444444444, \"#bd3786\"], [0.5555555555555556, \"#d8576b\"], [0.6666666666666666, \"#ed7953\"], [0.7777777777777778, \"#fb9f3a\"], [0.8888888888888888, \"#fdca26\"], [1.0, \"#f0f921\"]], \"type\": \"heatmap\"}], \"heatmapgl\": [{\"colorbar\": {\"outlinewidth\": 0, \"ticks\": \"\"}, \"colorscale\": [[0.0, \"#0d0887\"], [0.1111111111111111, \"#46039f\"], [0.2222222222222222, \"#7201a8\"], [0.3333333333333333, \"#9c179e\"], [0.4444444444444444, \"#bd3786\"], [0.5555555555555556, \"#d8576b\"], [0.6666666666666666, \"#ed7953\"], [0.7777777777777778, \"#fb9f3a\"], [0.8888888888888888, \"#fdca26\"], [1.0, \"#f0f921\"]], \"type\": \"heatmapgl\"}], \"histogram\": [{\"marker\": {\"colorbar\": {\"outlinewidth\": 0, \"ticks\": \"\"}}, \"type\": \"histogram\"}], \"histogram2d\": [{\"colorbar\": {\"outlinewidth\": 0, \"ticks\": \"\"}, \"colorscale\": [[0.0, \"#0d0887\"], [0.1111111111111111, \"#46039f\"], [0.2222222222222222, \"#7201a8\"], [0.3333333333333333, \"#9c179e\"], [0.4444444444444444, \"#bd3786\"], [0.5555555555555556, \"#d8576b\"], [0.6666666666666666, \"#ed7953\"], [0.7777777777777778, \"#fb9f3a\"], [0.8888888888888888, \"#fdca26\"], [1.0, \"#f0f921\"]], \"type\": \"histogram2d\"}], \"histogram2dcontour\": [{\"colorbar\": {\"outlinewidth\": 0, \"ticks\": \"\"}, \"colorscale\": [[0.0, \"#0d0887\"], [0.1111111111111111, \"#46039f\"], [0.2222222222222222, \"#7201a8\"], [0.3333333333333333, \"#9c179e\"], [0.4444444444444444, \"#bd3786\"], [0.5555555555555556, \"#d8576b\"], [0.6666666666666666, \"#ed7953\"], [0.7777777777777778, \"#fb9f3a\"], [0.8888888888888888, \"#fdca26\"], [1.0, \"#f0f921\"]], \"type\": \"histogram2dcontour\"}], \"mesh3d\": [{\"colorbar\": {\"outlinewidth\": 0, \"ticks\": \"\"}, \"type\": \"mesh3d\"}], \"parcoords\": [{\"line\": {\"colorbar\": {\"outlinewidth\": 0, \"ticks\": \"\"}}, \"type\": \"parcoords\"}], \"pie\": [{\"automargin\": true, \"type\": \"pie\"}], \"scatter\": [{\"marker\": {\"colorbar\": {\"outlinewidth\": 0, \"ticks\": \"\"}}, \"type\": \"scatter\"}], \"scatter3d\": [{\"line\": {\"colorbar\": {\"outlinewidth\": 0, \"ticks\": \"\"}}, \"marker\": {\"colorbar\": {\"outlinewidth\": 0, \"ticks\": \"\"}}, \"type\": \"scatter3d\"}], \"scattercarpet\": [{\"marker\": {\"colorbar\": {\"outlinewidth\": 0, \"ticks\": \"\"}}, \"type\": \"scattercarpet\"}], \"scattergeo\": [{\"marker\": {\"colorbar\": {\"outlinewidth\": 0, \"ticks\": \"\"}}, \"type\": \"scattergeo\"}], \"scattergl\": [{\"marker\": {\"colorbar\": {\"outlinewidth\": 0, \"ticks\": \"\"}}, \"type\": \"scattergl\"}], \"scattermapbox\": [{\"marker\": {\"colorbar\": {\"outlinewidth\": 0, \"ticks\": \"\"}}, \"type\": \"scattermapbox\"}], \"scatterpolar\": [{\"marker\": {\"colorbar\": {\"outlinewidth\": 0, \"ticks\": \"\"}}, \"type\": \"scatterpolar\"}], \"scatterpolargl\": [{\"marker\": {\"colorbar\": {\"outlinewidth\": 0, \"ticks\": \"\"}}, \"type\": \"scatterpolargl\"}], \"scatterternary\": [{\"marker\": {\"colorbar\": {\"outlinewidth\": 0, \"ticks\": \"\"}}, \"type\": \"scatterternary\"}], \"surface\": [{\"colorbar\": {\"outlinewidth\": 0, \"ticks\": \"\"}, \"colorscale\": [[0.0, \"#0d0887\"], [0.1111111111111111, \"#46039f\"], [0.2222222222222222, \"#7201a8\"], [0.3333333333333333, \"#9c179e\"], [0.4444444444444444, \"#bd3786\"], [0.5555555555555556, \"#d8576b\"], [0.6666666666666666, \"#ed7953\"], [0.7777777777777778, \"#fb9f3a\"], [0.8888888888888888, \"#fdca26\"], [1.0, \"#f0f921\"]], \"type\": \"surface\"}], \"table\": [{\"cells\": {\"fill\": {\"color\": \"#EBF0F8\"}, \"line\": {\"color\": \"white\"}}, \"header\": {\"fill\": {\"color\": \"#C8D4E3\"}, \"line\": {\"color\": \"white\"}}, \"type\": \"table\"}]}, \"layout\": {\"annotationdefaults\": {\"arrowcolor\": \"#2a3f5f\", \"arrowhead\": 0, \"arrowwidth\": 1}, \"coloraxis\": {\"colorbar\": {\"outlinewidth\": 0, \"ticks\": \"\"}}, \"colorscale\": {\"diverging\": [[0, \"#8e0152\"], [0.1, \"#c51b7d\"], [0.2, \"#de77ae\"], [0.3, \"#f1b6da\"], [0.4, \"#fde0ef\"], [0.5, \"#f7f7f7\"], [0.6, \"#e6f5d0\"], [0.7, \"#b8e186\"], [0.8, \"#7fbc41\"], [0.9, \"#4d9221\"], [1, \"#276419\"]], \"sequential\": [[0.0, \"#0d0887\"], [0.1111111111111111, \"#46039f\"], [0.2222222222222222, \"#7201a8\"], [0.3333333333333333, \"#9c179e\"], [0.4444444444444444, \"#bd3786\"], [0.5555555555555556, \"#d8576b\"], [0.6666666666666666, \"#ed7953\"], [0.7777777777777778, \"#fb9f3a\"], [0.8888888888888888, \"#fdca26\"], [1.0, \"#f0f921\"]], \"sequentialminus\": [[0.0, \"#0d0887\"], [0.1111111111111111, \"#46039f\"], [0.2222222222222222, \"#7201a8\"], [0.3333333333333333, \"#9c179e\"], [0.4444444444444444, \"#bd3786\"], [0.5555555555555556, \"#d8576b\"], [0.6666666666666666, \"#ed7953\"], [0.7777777777777778, \"#fb9f3a\"], [0.8888888888888888, \"#fdca26\"], [1.0, \"#f0f921\"]]}, \"colorway\": [\"#636efa\", \"#EF553B\", \"#00cc96\", \"#ab63fa\", \"#FFA15A\", \"#19d3f3\", \"#FF6692\", \"#B6E880\", \"#FF97FF\", \"#FECB52\"], \"font\": {\"color\": \"#2a3f5f\"}, \"geo\": {\"bgcolor\": \"white\", \"lakecolor\": \"white\", \"landcolor\": \"#E5ECF6\", \"showlakes\": true, \"showland\": true, \"subunitcolor\": \"white\"}, \"hoverlabel\": {\"align\": \"left\"}, \"hovermode\": \"closest\", \"mapbox\": {\"style\": \"light\"}, \"paper_bgcolor\": \"white\", \"plot_bgcolor\": \"#E5ECF6\", \"polar\": {\"angularaxis\": {\"gridcolor\": \"white\", \"linecolor\": \"white\", \"ticks\": \"\"}, \"bgcolor\": \"#E5ECF6\", \"radialaxis\": {\"gridcolor\": \"white\", \"linecolor\": \"white\", \"ticks\": \"\"}}, \"scene\": {\"xaxis\": {\"backgroundcolor\": \"#E5ECF6\", \"gridcolor\": \"white\", \"gridwidth\": 2, \"linecolor\": \"white\", \"showbackground\": true, \"ticks\": \"\", \"zerolinecolor\": \"white\"}, \"yaxis\": {\"backgroundcolor\": \"#E5ECF6\", \"gridcolor\": \"white\", \"gridwidth\": 2, \"linecolor\": \"white\", \"showbackground\": true, \"ticks\": \"\", \"zerolinecolor\": \"white\"}, \"zaxis\": {\"backgroundcolor\": \"#E5ECF6\", \"gridcolor\": \"white\", \"gridwidth\": 2, \"linecolor\": \"white\", \"showbackground\": true, \"ticks\": \"\", \"zerolinecolor\": \"white\"}}, \"shapedefaults\": {\"line\": {\"color\": \"#2a3f5f\"}}, \"ternary\": {\"aaxis\": {\"gridcolor\": \"white\", \"linecolor\": \"white\", \"ticks\": \"\"}, \"baxis\": {\"gridcolor\": \"white\", \"linecolor\": \"white\", \"ticks\": \"\"}, \"bgcolor\": \"#E5ECF6\", \"caxis\": {\"gridcolor\": \"white\", \"linecolor\": \"white\", \"ticks\": \"\"}}, \"title\": {\"x\": 0.05}, \"xaxis\": {\"automargin\": true, \"gridcolor\": \"white\", \"linecolor\": \"white\", \"ticks\": \"\", \"title\": {\"standoff\": 15}, \"zerolinecolor\": \"white\", \"zerolinewidth\": 2}, \"yaxis\": {\"automargin\": true, \"gridcolor\": \"white\", \"linecolor\": \"white\", \"ticks\": \"\", \"title\": {\"standoff\": 15}, \"zerolinecolor\": \"white\", \"zerolinewidth\": 2}}}},\n",
       "                        {\"responsive\": true}\n",
       "                    ).then(function(){\n",
       "                            \n",
       "var gd = document.getElementById('2db9beed-53be-4ef1-9eb9-df8d5579ee12');\n",
       "var x = new MutationObserver(function (mutations, observer) {{\n",
       "        var display = window.getComputedStyle(gd).display;\n",
       "        if (!display || display === 'none') {{\n",
       "            console.log([gd, 'removed!']);\n",
       "            Plotly.purge(gd);\n",
       "            observer.disconnect();\n",
       "        }}\n",
       "}});\n",
       "\n",
       "// Listen for the removal of the full notebook cells\n",
       "var notebookContainer = gd.closest('#notebook-container');\n",
       "if (notebookContainer) {{\n",
       "    x.observe(notebookContainer, {childList: true});\n",
       "}}\n",
       "\n",
       "// Listen for the clearing of the current output cell\n",
       "var outputEl = gd.closest('.output');\n",
       "if (outputEl) {{\n",
       "    x.observe(outputEl, {childList: true});\n",
       "}}\n",
       "\n",
       "                        })\n",
       "                };\n",
       "                });\n",
       "            </script>\n",
       "        </div>"
      ]
     },
     "metadata": {},
     "output_type": "display_data"
    }
   ],
   "source": [
    "fig = px.scatter_geo(confirme, lat='Lat', lon = 'Long', color=\"Confirmed\",\n",
    "                     hover_name=\"Country\", size=\"Confirmed\",\n",
    "                     projection=\"natural earth\")\n",
    "fig.show()"
   ]
  },
  {
   "cell_type": "code",
   "execution_count": 19,
   "metadata": {},
   "outputs": [
    {
     "data": {
      "text/html": [
       "<div>\n",
       "<style scoped>\n",
       "    .dataframe tbody tr th:only-of-type {\n",
       "        vertical-align: middle;\n",
       "    }\n",
       "\n",
       "    .dataframe tbody tr th {\n",
       "        vertical-align: top;\n",
       "    }\n",
       "\n",
       "    .dataframe thead th {\n",
       "        text-align: right;\n",
       "    }\n",
       "</style>\n",
       "<table border=\"1\" class=\"dataframe\">\n",
       "  <thead>\n",
       "    <tr style=\"text-align: right;\">\n",
       "      <th></th>\n",
       "      <th>Country</th>\n",
       "      <th>Lat</th>\n",
       "      <th>Long</th>\n",
       "      <th>Confirmed</th>\n",
       "    </tr>\n",
       "  </thead>\n",
       "  <tbody>\n",
       "    <tr>\n",
       "      <th>0</th>\n",
       "      <td>Afghanistan</td>\n",
       "      <td>33.93911</td>\n",
       "      <td>67.709953</td>\n",
       "      <td>4095672</td>\n",
       "    </tr>\n",
       "    <tr>\n",
       "      <th>1</th>\n",
       "      <td>Albania</td>\n",
       "      <td>41.15330</td>\n",
       "      <td>20.168300</td>\n",
       "      <td>691980</td>\n",
       "    </tr>\n",
       "    <tr>\n",
       "      <th>2</th>\n",
       "      <td>Algeria</td>\n",
       "      <td>28.03390</td>\n",
       "      <td>1.659600</td>\n",
       "      <td>3533365</td>\n",
       "    </tr>\n",
       "    <tr>\n",
       "      <th>3</th>\n",
       "      <td>Andorra</td>\n",
       "      <td>42.50630</td>\n",
       "      <td>1.521800</td>\n",
       "      <td>159737</td>\n",
       "    </tr>\n",
       "    <tr>\n",
       "      <th>4</th>\n",
       "      <td>Angola</td>\n",
       "      <td>-11.20270</td>\n",
       "      <td>17.873900</td>\n",
       "      <td>160134</td>\n",
       "    </tr>\n",
       "    <tr>\n",
       "      <th>5</th>\n",
       "      <td>Antigua and Barbuda</td>\n",
       "      <td>17.06080</td>\n",
       "      <td>-61.796400</td>\n",
       "      <td>9819</td>\n",
       "    </tr>\n",
       "    <tr>\n",
       "      <th>6</th>\n",
       "      <td>Argentina</td>\n",
       "      <td>-38.41610</td>\n",
       "      <td>-63.616700</td>\n",
       "      <td>26310978</td>\n",
       "    </tr>\n",
       "    <tr>\n",
       "      <th>7</th>\n",
       "      <td>Armenia</td>\n",
       "      <td>40.06910</td>\n",
       "      <td>45.038200</td>\n",
       "      <td>4030856</td>\n",
       "    </tr>\n",
       "    <tr>\n",
       "      <th>8</th>\n",
       "      <td>Australia</td>\n",
       "      <td>-42.88210</td>\n",
       "      <td>147.327200</td>\n",
       "      <td>38359</td>\n",
       "    </tr>\n",
       "    <tr>\n",
       "      <th>9</th>\n",
       "      <td>Australia</td>\n",
       "      <td>-37.81360</td>\n",
       "      <td>144.963100</td>\n",
       "      <td>1264309</td>\n",
       "    </tr>\n",
       "  </tbody>\n",
       "</table>\n",
       "</div>"
      ],
      "text/plain": [
       "               Country       Lat        Long  Confirmed\n",
       "0          Afghanistan  33.93911   67.709953    4095672\n",
       "1              Albania  41.15330   20.168300     691980\n",
       "2              Algeria  28.03390    1.659600    3533365\n",
       "3              Andorra  42.50630    1.521800     159737\n",
       "4               Angola -11.20270   17.873900     160134\n",
       "5  Antigua and Barbuda  17.06080  -61.796400       9819\n",
       "6            Argentina -38.41610  -63.616700   26310978\n",
       "7              Armenia  40.06910   45.038200    4030856\n",
       "8            Australia -42.88210  147.327200      38359\n",
       "9            Australia -37.81360  144.963100    1264309"
      ]
     },
     "execution_count": 19,
     "metadata": {},
     "output_type": "execute_result"
    }
   ],
   "source": [
    "confirme.head(10)"
   ]
  },
  {
   "cell_type": "code",
   "execution_count": 20,
   "metadata": {},
   "outputs": [
    {
     "data": {
      "text/html": [
       "<div>\n",
       "<style scoped>\n",
       "    .dataframe tbody tr th:only-of-type {\n",
       "        vertical-align: middle;\n",
       "    }\n",
       "\n",
       "    .dataframe tbody tr th {\n",
       "        vertical-align: top;\n",
       "    }\n",
       "\n",
       "    .dataframe thead th {\n",
       "        text-align: right;\n",
       "    }\n",
       "</style>\n",
       "<table border=\"1\" class=\"dataframe\">\n",
       "  <thead>\n",
       "    <tr style=\"text-align: right;\">\n",
       "      <th></th>\n",
       "      <th>name</th>\n",
       "      <th>pop</th>\n",
       "      <th>lat</th>\n",
       "      <th>lon</th>\n",
       "    </tr>\n",
       "  </thead>\n",
       "  <tbody>\n",
       "    <tr>\n",
       "      <th>0</th>\n",
       "      <td>New York</td>\n",
       "      <td>8287238</td>\n",
       "      <td>40.730599</td>\n",
       "      <td>-73.986581</td>\n",
       "    </tr>\n",
       "    <tr>\n",
       "      <th>1</th>\n",
       "      <td>Los Angeles</td>\n",
       "      <td>3826423</td>\n",
       "      <td>34.053717</td>\n",
       "      <td>-118.242727</td>\n",
       "    </tr>\n",
       "    <tr>\n",
       "      <th>2</th>\n",
       "      <td>Chicago</td>\n",
       "      <td>2705627</td>\n",
       "      <td>41.875555</td>\n",
       "      <td>-87.624421</td>\n",
       "    </tr>\n",
       "    <tr>\n",
       "      <th>3</th>\n",
       "      <td>Houston</td>\n",
       "      <td>2129784</td>\n",
       "      <td>29.758938</td>\n",
       "      <td>-95.367697</td>\n",
       "    </tr>\n",
       "    <tr>\n",
       "      <th>4</th>\n",
       "      <td>Philadelphia</td>\n",
       "      <td>1539313</td>\n",
       "      <td>39.952335</td>\n",
       "      <td>-75.163789</td>\n",
       "    </tr>\n",
       "  </tbody>\n",
       "</table>\n",
       "</div>"
      ],
      "text/plain": [
       "            name      pop        lat         lon\n",
       "0      New York   8287238  40.730599  -73.986581\n",
       "1   Los Angeles   3826423  34.053717 -118.242727\n",
       "2       Chicago   2705627  41.875555  -87.624421\n",
       "3       Houston   2129784  29.758938  -95.367697\n",
       "4  Philadelphia   1539313  39.952335  -75.163789"
      ]
     },
     "execution_count": 20,
     "metadata": {},
     "output_type": "execute_result"
    }
   ],
   "source": [
    "df = pd.read_csv('https://raw.githubusercontent.com/plotly/datasets/master/2014_us_cities.csv')\n",
    "df.head()"
   ]
  },
  {
   "cell_type": "code",
   "execution_count": 21,
   "metadata": {},
   "outputs": [
    {
     "name": "stdout",
     "output_type": "stream",
     "text": [
      "<class 'pandas.core.frame.DataFrame'>\n",
      "RangeIndex: 3228 entries, 0 to 3227\n",
      "Data columns (total 4 columns):\n",
      " #   Column  Non-Null Count  Dtype  \n",
      "---  ------  --------------  -----  \n",
      " 0   name    3228 non-null   object \n",
      " 1   pop     3228 non-null   int64  \n",
      " 2   lat     3228 non-null   float64\n",
      " 3   lon     3228 non-null   float64\n",
      "dtypes: float64(2), int64(1), object(1)\n",
      "memory usage: 101.0+ KB\n"
     ]
    }
   ],
   "source": [
    "df.info()"
   ]
  },
  {
   "cell_type": "code",
   "execution_count": 22,
   "metadata": {},
   "outputs": [
    {
     "name": "stdout",
     "output_type": "stream",
     "text": [
      "<class 'pandas.core.frame.DataFrame'>\n",
      "RangeIndex: 294 entries, 0 to 293\n",
      "Data columns (total 4 columns):\n",
      " #   Column     Non-Null Count  Dtype  \n",
      "---  ------     --------------  -----  \n",
      " 0   Country    294 non-null    object \n",
      " 1   Lat        294 non-null    float64\n",
      " 2   Long       294 non-null    float64\n",
      " 3   Confirmed  294 non-null    int64  \n",
      "dtypes: float64(2), int64(1), object(1)\n",
      "memory usage: 9.3+ KB\n"
     ]
    }
   ],
   "source": [
    "df = confirme\n",
    "confirme.info()"
   ]
  },
  {
   "cell_type": "code",
   "execution_count": 23,
   "metadata": {},
   "outputs": [
    {
     "data": {
      "application/vnd.plotly.v1+json": {
       "config": {
        "plotlyServerURL": "https://plot.ly"
       },
       "data": [
        {
         "lat": [
          33.93911,
          41.1533,
          28.0339,
          42.5063,
          -11.2027,
          17.0608,
          -38.4161,
          40.0691,
          -42.8821,
          -37.8136,
          -35.4735,
          -34.9285,
          -33.8688,
          -31.9505,
          -27.4698,
          -12.4634,
          47.5162,
          40.1431,
          25.025885,
          26.0275,
          23.685,
          13.1939,
          53.7098,
          50.8333,
          17.1899,
          9.3077,
          27.5142,
          -16.2902,
          43.9159,
          -22.3285,
          -14.235,
          4.5353,
          42.7339,
          12.2383,
          21.9162,
          -3.3731,
          16.5388,
          11.55,
          3.848,
          3.8480000000000003,
          0,
          44.681999999999995,
          44.682,
          46.5107,
          46.5653,
          51.2538,
          52.9399,
          52.9399,
          53.1355,
          53.7267,
          53.7609,
          53.9333,
          56.1304,
          64.2823,
          64.8255,
          6.6111,
          15.4542,
          -35.6751,
          19.1959,
          22.1667,
          22.3,
          23.3417,
          23.8298,
          24.974,
          24.974,
          26.0789,
          26.8154,
          27.6104,
          27.614,
          29.1832,
          30.0572,
          30.6171,
          30.9756,
          31.201999999999998,
          31.202,
          31.6927,
          31.8257,
          32.9711,
          33.882,
          35.1917
         ],
         "lon": [
          67.709953,
          20.1683,
          1.6596,
          1.5218,
          17.8739,
          -61.7964,
          -63.6167,
          45.0382,
          147.3272,
          144.9631,
          149.0124,
          138.6007,
          151.2093,
          115.8605,
          153.0251,
          130.8456,
          14.5501,
          47.5769,
          -78.035889,
          50.55,
          90.3563,
          -59.5432,
          27.9534,
          4.469936,
          -88.4976,
          2.3158,
          90.4336,
          -63.5887,
          17.6791,
          24.6849,
          -51.9253,
          114.7277,
          25.4858,
          -1.5616,
          95.956,
          29.9189,
          -23.0418,
          104.9167,
          11.5021,
          11.5021,
          0,
          -63.7443,
          -63.7443,
          -63.4168,
          -66.4619,
          -85.3232,
          -106.4509,
          -73.5491,
          -57.6604,
          -127.6476,
          -98.8139,
          -116.5765,
          -106.3468,
          -135,
          -124.8457,
          20.9394,
          18.7322,
          -71.543,
          109.7453,
          113.55,
          114.2,
          113.4244,
          108.7881,
          101.487,
          101.48700000000001,
          117.9874,
          106.8748,
          111.7088,
          115.7221,
          120.0934,
          107.874,
          102.7103,
          112.2707,
          121.4491,
          121.4491,
          88.0924,
          117.2264,
          119.455,
          113.61399999999999,
          108.8701
         ],
         "marker": {
          "color": "royalblue",
          "line": {
           "color": "rgb(40,40,40)",
           "width": 0.1
          },
          "size": [
           45.507466666666666,
           7.688666666666666,
           39.25961111111111,
           1.7748555555555556,
           1.7792666666666668,
           0.1091,
           292.3442,
           44.78728888888889,
           0.4262111111111111,
           14.047877777777778,
           0.21794444444444444,
           0.8952333333333333,
           6.811766666666666,
           1.2000222222222223,
           2.140711111111111,
           0.06013333333333333,
           39.7084,
           35.140166666666666,
           1.3155333333333334,
           51.87582222222222,
           284.6477888888889,
           0.21936666666666665,
           94.26007777777778,
           122.3659,
           0.5275222222222222,
           2.042022222222222,
           0.16753333333333334,
           92.28557777777777,
           16.039655555555555,
           1.1655111111111112,
           3300.8218666666667,
           0.29262222222222223,
           14.34981111111111,
           1.9407777777777777,
           1.1916888888888888,
           0.4005111111111111,
           3.265833333333333,
           0.3579555555555556,
           0,
           21.3811,
           0.027677777777777777,
           1.9091333333333333,
           0,
           0.06633333333333333,
           0.30323333333333335,
           62.344788888888885,
           1.8158888888888889,
           94.36691111111111,
           0.5149222222222222,
           6.736411111111111,
           1.0095,
           16.79607777777778,
           0,
           0.023566666666666666,
           0.009666666666666667,
           5.179422222222223,
           1.3512222222222223,
           441.9573111111111,
           0.43701111111111113,
           0.09821111111111111,
           4.5178666666666665,
           4.077188888888889,
           0.6550444444444444,
           0,
           0.48186666666666667,
           0.9043,
           0.37466666666666665,
           2.6302666666666665,
           2.4021333333333335,
           3.2619333333333334,
           1.5000444444444445,
           1.4946222222222223,
           170.61823333333334,
           1.6608555555555555,
           0,
           0.0026333333333333334,
           2.5442666666666667,
           1.6692555555555555,
           0,
           0.7816555555555555
          ],
          "sizemode": "area"
         },
         "name": "0 - 80",
         "text": [
          "Afghanistan<br>Confirmed Cases 4.095672",
          "Albania<br>Confirmed Cases 0.69198",
          "Algeria<br>Confirmed Cases 3.533365",
          "Andorra<br>Confirmed Cases 0.159737",
          "Angola<br>Confirmed Cases 0.160134",
          "Antigua and Barbuda<br>Confirmed Cases 0.009819",
          "Argentina<br>Confirmed Cases 26.310978",
          "Armenia<br>Confirmed Cases 4.030856",
          "Australia<br>Confirmed Cases 0.038359",
          "Australia<br>Confirmed Cases 1.264309",
          "Australia<br>Confirmed Cases 0.019615",
          "Australia<br>Confirmed Cases 0.080571",
          "Australia<br>Confirmed Cases 0.613059",
          "Australia<br>Confirmed Cases 0.108002",
          "Australia<br>Confirmed Cases 0.192664",
          "Australia<br>Confirmed Cases 0.005412",
          "Austria<br>Confirmed Cases 3.573756",
          "Azerbaijan<br>Confirmed Cases 3.162615",
          "Bahamas<br>Confirmed Cases 0.118398",
          "Bahrain<br>Confirmed Cases 4.668824",
          "Bangladesh<br>Confirmed Cases 25.618301",
          "Barbados<br>Confirmed Cases 0.019743",
          "Belarus<br>Confirmed Cases 8.483407",
          "Belgium<br>Confirmed Cases 11.012931",
          "Belize<br>Confirmed Cases 0.047477",
          "Benin<br>Confirmed Cases 0.183782",
          "Bhutan<br>Confirmed Cases 0.015078",
          "Bolivia<br>Confirmed Cases 8.305702",
          "Bosnia and Herzegovina<br>Confirmed Cases 1.443569",
          "Botswana<br>Confirmed Cases 0.104896",
          "Brazil<br>Confirmed Cases 297.073968",
          "Brunei<br>Confirmed Cases 0.026336",
          "Bulgaria<br>Confirmed Cases 1.291483",
          "Burkina Faso<br>Confirmed Cases 0.17467",
          "Burma<br>Confirmed Cases 0.107252",
          "Burundi<br>Confirmed Cases 0.036046",
          "Cabo Verde<br>Confirmed Cases 0.293925",
          "Cambodia<br>Confirmed Cases 0.032216",
          "Cameroon<br>Confirmed Cases 0.0",
          "Cameroon<br>Confirmed Cases 1.924299",
          "Canada<br>Confirmed Cases 0.002491",
          "Canada<br>Confirmed Cases 0.171822",
          "Canada<br>Confirmed Cases 0.0",
          "Canada<br>Confirmed Cases 0.00597",
          "Canada<br>Confirmed Cases 0.027291",
          "Canada<br>Confirmed Cases 5.611031",
          "Canada<br>Confirmed Cases 0.16343",
          "Canada<br>Confirmed Cases 8.493022",
          "Canada<br>Confirmed Cases 0.046343",
          "Canada<br>Confirmed Cases 0.606277",
          "Canada<br>Confirmed Cases 0.090855",
          "Canada<br>Confirmed Cases 1.511647",
          "Canada<br>Confirmed Cases 0.0",
          "Canada<br>Confirmed Cases 0.002121",
          "Canada<br>Confirmed Cases 0.00087",
          "Central African Republic<br>Confirmed Cases 0.466148",
          "Chad<br>Confirmed Cases 0.12161",
          "Chile<br>Confirmed Cases 39.776158",
          "China<br>Confirmed Cases 0.039331",
          "China<br>Confirmed Cases 0.008839",
          "China<br>Confirmed Cases 0.406608",
          "China<br>Confirmed Cases 0.366947",
          "China<br>Confirmed Cases 0.058954",
          "China<br>Confirmed Cases 0.0",
          "China<br>Confirmed Cases 0.043368",
          "China<br>Confirmed Cases 0.081387",
          "China<br>Confirmed Cases 0.03372",
          "China<br>Confirmed Cases 0.236724",
          "China<br>Confirmed Cases 0.216192",
          "China<br>Confirmed Cases 0.293574",
          "China<br>Confirmed Cases 0.135004",
          "China<br>Confirmed Cases 0.134516",
          "China<br>Confirmed Cases 15.355641",
          "China<br>Confirmed Cases 0.149477",
          "China<br>Confirmed Cases 0.0",
          "China<br>Confirmed Cases 0.000237",
          "China<br>Confirmed Cases 0.228984",
          "China<br>Confirmed Cases 0.150233",
          "China<br>Confirmed Cases 0.0",
          "China<br>Confirmed Cases 0.070349"
         ],
         "type": "scattergeo"
        },
        {
         "lat": [
          35.7518,
          36.3427,
          37.2692,
          37.5777,
          37.8957,
          39.3054,
          39.549,
          40.1824,
          41.1129,
          41.2956,
          43.6661,
          44.0935,
          47.861999999999995,
          47.862,
          4.5709,
          -11.6455,
          -0.228,
          -4.0383,
          9.7489,
          7.54,
          45.1,
          21.521757,
          35.1264,
          49.8175,
          49.8175,
          56.2639,
          61.8926,
          71.7069,
          0,
          11.8251,
          15.415,
          18.7357,
          -1.8312,
          26.820553000000004,
          26.820553000000004,
          13.7942,
          1.6508,
          15.1794,
          58.5953,
          -26.5225,
          9.145,
          -17.7134,
          61.92411,
          -21.1151,
          -20.904305,
          -20.904304999999997,
          -17.6797,
          -12.8275,
          3.9339,
          14.6415,
          16.265,
          17.9,
          18.0708,
          46.2276,
          46.8852,
          -0.8037,
          13.4432,
          42.3154,
          51.165690999999995,
          51.165691,
          7.9465,
          39.0742,
          12.1165,
          12.1165,
          15.7835,
          9.9456,
          11.8037,
          4.860416000000002,
          18.9712,
          41.9029,
          15.2,
          47.1625,
          64.9631,
          20.593684,
          -0.7893,
          32.427908,
          33.223191,
          53.1424,
          31.046051,
          31.046051000000002
         ],
         "lon": [
          104.2861,
          118.1498,
          106.1655,
          112.2922,
          114.9042,
          117.323,
          116.1306,
          116.4142,
          85.2401,
          122.6085,
          126.1923,
          113.9448,
          127.7615,
          127.7615,
          -74.2973,
          43.3333,
          15.8277,
          21.7587,
          -83.7534,
          -5.5471,
          15.2,
          -77.78116700000002,
          33.4299,
          15.472999999999999,
          15.473,
          9.5018,
          -6.9118,
          -42.6043,
          0,
          42.5903,
          -61.371,
          -70.1627,
          -78.1834,
          30.802497999999996,
          30.802498,
          -88.8965,
          10.2679,
          39.7823,
          25.0136,
          31.4659,
          40.4897,
          178.065,
          25.748151,
          55.5364,
          165.618042,
          165.618042,
          149.4068,
          45.166244,
          -53.1258,
          -61.0242,
          -61.551,
          -62.8333,
          -63.0501,
          2.2137,
          -56.3159,
          11.6094,
          -15.3101,
          43.3569,
          10.451526,
          10.451526,
          -1.0232,
          21.8243,
          -61.679,
          -61.678999999999995,
          -90.2308,
          -9.6966,
          -15.1804,
          -58.93018000000001,
          -72.2852,
          12.4534,
          -86.2419,
          19.5033,
          -19.0208,
          78.96288,
          113.9213,
          53.68804599999999,
          43.679291,
          -7.6921,
          34.851612,
          34.851612
         ],
         "marker": {
          "color": "green",
          "line": {
           "color": "rgb(40,40,40)",
           "width": 0.1
          },
          "size": [
           0.37123333333333336,
           1.9982555555555555,
           0.19118888888888888,
           0.4661444444444444,
           3.281511111111111,
           0.47831111111111113,
           0.8582333333333333,
           1.7976666666666667,
           0.6979555555555556,
           0.4451555555555556,
           0.3369333333333333,
           0.49554444444444445,
           2.066488888888889,
           0,
           421.34293333333335,
           0.44382222222222223,
           3.7453444444444446,
           10.991844444444444,
           27.785133333333334,
           17.97891111111111,
           9.154677777777778,
           4.7901444444444445,
           2.074188888888889,
           29.302411111111113,
           0,
           25.011566666666667,
           0.4971777777777778,
           0.025611111111111112,
           1.740488888888889,
           7.120511111111111,
           0.03565555555555556,
           84.99598888888889,
           119.37377777777778,
           108.05046666666667,
           0,
           19.988766666666667,
           4.7542333333333335,
           0.33043333333333336,
           3.906922222222222,
           3.3251555555555554,
           31.12768888888889,
           0.043533333333333334,
           13.017722222222222,
           1.6486444444444444,
           0,
           0.042166666666666665,
           0.38472222222222224,
           4.153044444444444,
           8.120111111111111,
           0.6567,
           1.0354777777777777,
           0.018944444444444444,
           0.16604444444444444,
           417.9078666666667,
           0.005633333333333333,
           8.917377777777778,
           1.5146111111111111,
           2.0197333333333334,
           385.06811111111114,
           0,
           40.89253333333333,
           9.865688888888888,
           0,
           0.04257777777777778,
           57.599244444444444,
           10.144833333333333,
           2.732466666666667,
           0.9392555555555555,
           8.8019,
           0.02266666666666667,
           49.5054,
           9.239777777777778,
           3.768877777777778,
           2594.5395444444443,
           150.14991111111112,
           444.1061888888889,
           170.36818888888888,
           46.699444444444445,
           0,
           102.54446666666666
          ],
          "sizemode": "area"
         },
         "name": "81 - 161",
         "text": [
          "China<br>Confirmed Cases 0.033411",
          "China<br>Confirmed Cases 0.179843",
          "China<br>Confirmed Cases 0.017207",
          "China<br>Confirmed Cases 0.041953",
          "China<br>Confirmed Cases 0.295336",
          "China<br>Confirmed Cases 0.043048",
          "China<br>Confirmed Cases 0.077241",
          "China<br>Confirmed Cases 0.16179",
          "China<br>Confirmed Cases 0.062816",
          "China<br>Confirmed Cases 0.040064",
          "China<br>Confirmed Cases 0.030324",
          "China<br>Confirmed Cases 0.044599",
          "China<br>Confirmed Cases 0.185984",
          "China<br>Confirmed Cases 0.0",
          "Colombia<br>Confirmed Cases 37.920864",
          "Comoros<br>Confirmed Cases 0.039944",
          "Congo (Brazzaville)<br>Confirmed Cases 0.337081",
          "Congo (Kinshasa)<br>Confirmed Cases 0.989266",
          "Costa Rica<br>Confirmed Cases 2.500662",
          "Cote d'Ivoire<br>Confirmed Cases 1.618102",
          "Croatia<br>Confirmed Cases 0.823921",
          "Cuba<br>Confirmed Cases 0.431113",
          "Cyprus<br>Confirmed Cases 0.186677",
          "Czechia<br>Confirmed Cases 2.637217",
          "Czechia<br>Confirmed Cases 0.0",
          "Denmark<br>Confirmed Cases 2.251041",
          "Denmark<br>Confirmed Cases 0.044746",
          "Denmark<br>Confirmed Cases 0.002305",
          "Diamond Princess<br>Confirmed Cases 0.156644",
          "Djibouti<br>Confirmed Cases 0.640846",
          "Dominica<br>Confirmed Cases 0.003209",
          "Dominican Republic<br>Confirmed Cases 7.649639",
          "Ecuador<br>Confirmed Cases 10.74364",
          "Egypt<br>Confirmed Cases 9.724542",
          "Egypt<br>Confirmed Cases 0.0",
          "El Salvador<br>Confirmed Cases 1.798989",
          "Equatorial Guinea<br>Confirmed Cases 0.427881",
          "Eritrea<br>Confirmed Cases 0.029739",
          "Estonia<br>Confirmed Cases 0.351623",
          "Eswatini<br>Confirmed Cases 0.299264",
          "Ethiopia<br>Confirmed Cases 2.801492",
          "Fiji<br>Confirmed Cases 0.003918",
          "Finland<br>Confirmed Cases 1.171595",
          "France<br>Confirmed Cases 0.148378",
          "France<br>Confirmed Cases 0.0",
          "France<br>Confirmed Cases 0.003795",
          "France<br>Confirmed Cases 0.034625",
          "France<br>Confirmed Cases 0.373774",
          "France<br>Confirmed Cases 0.73081",
          "France<br>Confirmed Cases 0.059103",
          "France<br>Confirmed Cases 0.093193",
          "France<br>Confirmed Cases 0.001705",
          "France<br>Confirmed Cases 0.014944",
          "France<br>Confirmed Cases 37.611708",
          "France<br>Confirmed Cases 0.000507",
          "Gabon<br>Confirmed Cases 0.802564",
          "Gambia<br>Confirmed Cases 0.136315",
          "Georgia<br>Confirmed Cases 0.181776",
          "Germany<br>Confirmed Cases 34.65613",
          "Germany<br>Confirmed Cases 0.0",
          "Ghana<br>Confirmed Cases 3.680328",
          "Greece<br>Confirmed Cases 0.887912",
          "Grenada<br>Confirmed Cases 0.0",
          "Grenada<br>Confirmed Cases 0.003832",
          "Guatemala<br>Confirmed Cases 5.183932",
          "Guinea<br>Confirmed Cases 0.913035",
          "Guinea-Bissau<br>Confirmed Cases 0.245922",
          "Guyana<br>Confirmed Cases 0.084533",
          "Haiti<br>Confirmed Cases 0.792171",
          "Holy See<br>Confirmed Cases 0.00204",
          "Honduras<br>Confirmed Cases 4.455486",
          "Hungary<br>Confirmed Cases 0.83158",
          "Iceland<br>Confirmed Cases 0.339199",
          "India<br>Confirmed Cases 233.508559",
          "Indonesia<br>Confirmed Cases 13.513492",
          "Iran<br>Confirmed Cases 39.969557",
          "Iraq<br>Confirmed Cases 15.333137",
          "Ireland<br>Confirmed Cases 4.20295",
          "Israel<br>Confirmed Cases 0.0",
          "Israel<br>Confirmed Cases 9.229002"
         ],
         "type": "scattergeo"
        },
        {
         "lat": [
          41.87194,
          18.1096,
          36.204824,
          31.24,
          48.0196,
          -0.0236,
          35.90775700000001,
          42.602636,
          29.311659999999996,
          29.31166,
          41.20438,
          19.85627,
          19.856270000000002,
          56.8796,
          33.8547,
          -29.61,
          6.4280550000000005,
          26.3351,
          47.14,
          55.1694,
          49.8153,
          0,
          -18.766947000000002,
          -18.766947,
          -13.2543,
          4.210483999999999,
          4.210483999999999,
          3.2028,
          17.570692,
          35.9375,
          21.0079,
          -20.348404000000002,
          -20.348404,
          23.6345,
          47.4116,
          43.7333,
          46.8625,
          42.708678000000006,
          31.7917,
          -18.6657,
          -18.665695,
          -22.9576,
          28.1667,
          12.1696,
          12.1784,
          12.5211,
          18.0425,
          52.1326,
          -40.9006,
          12.865416,
          17.607789,
          9.082,
          41.6086,
          60.472,
          21.512583,
          30.3753,
          8.538,
          -6.314993,
          -23.4425,
          -9.19,
          12.879721,
          12.879721,
          51.9194,
          39.3999,
          25.3548,
          45.9432,
          61.52401,
          61.52401,
          -1.9403,
          17.357822,
          13.9094,
          12.9843,
          43.9424,
          0.1864,
          23.885942,
          14.4974,
          44.0165,
          -4.6796,
          8.460555000000001,
          1.2833
         ],
         "lon": [
          12.56738,
          -77.2975,
          138.252924,
          36.51,
          66.9237,
          37.9062,
          127.766922,
          20.902977,
          47.481766,
          47.481766,
          74.766098,
          102.495496,
          102.495496,
          24.6032,
          35.8623,
          28.2336,
          -9.429499,
          17.228331,
          9.55,
          23.8813,
          6.1296,
          0,
          46.869107,
          46.869107,
          34.3015,
          101.975766,
          101.97576600000001,
          73.2207,
          -3.996166000000001,
          14.3754,
          -10.9408,
          57.552152,
          57.552152,
          -102.5528,
          28.3699,
          7.4167,
          103.8467,
          19.37439,
          -7.0926,
          35.5296,
          35.529562,
          18.4904,
          84.25,
          -68.99,
          -68.2385,
          -69.9683,
          -63.0548,
          5.2913,
          174.886,
          -85.207229,
          8.081666,
          8.6753,
          21.7453,
          8.4689,
          55.92325500000001,
          69.3451,
          -80.7821,
          143.95555,
          -58.4438,
          -75.0152,
          121.77401699999999,
          121.774017,
          19.1451,
          -8.2245,
          51.1839,
          24.9668,
          105.318756,
          105.31875600000001,
          29.8739,
          -62.782998,
          -60.9789,
          -61.2872,
          12.4578,
          6.6131,
          45.079162,
          -14.4524,
          21.0059,
          55.492,
          -11.779889,
          103.8333
         ],
         "marker": {
          "color": "blue",
          "line": {
           "color": "rgb(40,40,40)",
           "width": 0.1
          },
          "size": [
           465.9086888888889,
           2.094488888888889,
           60.377,
           2.4032666666666667,
           91.96581111111111,
           24.81897777777778,
           29.937033333333332,
           9.816144444444445,
           86.74464444444445,
           0,
           33.295766666666665,
           0,
           0.038455555555555555,
           2.1804555555555556,
           11.208333333333334,
           0.7136444444444444,
           1.3847444444444443,
           9.053788888888889,
           0.17855555555555555,
           3.8401111111111113,
           10.135933333333334,
           0.01758888888888889,
           11.261355555555555,
           0,
           4.2729,
           0,
           15.692344444444444,
           6.323855555555555,
           3.4158222222222223,
           1.815411111111111,
           6.7982555555555555,
           0.6613333333333333,
           0,
           524.4126,
           34.81961111111111,
           0.2287888888888889,
           0.3799777777777778,
           3.939,
           47.29562222222222,
           0,
           3.0010666666666665,
           4.2241333333333335,
           30.992866666666668,
           0.07931111111111111,
           0.019455555555555556,
           1.2171333333333334,
           0.33486666666666665,
           101.15391111111111,
           3.0261444444444443,
           4.302277777777777,
           1.875488888888889,
           50.65306666666667,
           13.562133333333334,
           17.997622222222223,
           82.27183333333333,
           327.8867333333333,
           81.56935555555556,
           0.24085555555555554,
           12.087577777777778,
           588.3680777777778,
           155.01383333333334,
           0,
           70.16545555555555,
           79.2753,
           145.04325555555556,
           77.40152222222223,
           0,
           1115.3528777777778,
           2.9119555555555556,
           0.0305,
           0.04121111111111111,
           0.06824444444444444,
           1.2825444444444445,
           1.085088888888889,
           331.3867333333333,
           13.262511111111111,
           34.36687777777778,
           0.12727777777777777,
           2.3271333333333333,
           74.32003333333333
          ],
          "sizemode": "area"
         },
         "name": "161 - 241",
         "text": [
          "Italy<br>Confirmed Cases 41.931782",
          "Jamaica<br>Confirmed Cases 0.188504",
          "Japan<br>Confirmed Cases 5.43393",
          "Jordan<br>Confirmed Cases 0.216294",
          "Kazakhstan<br>Confirmed Cases 8.276923",
          "Kenya<br>Confirmed Cases 2.233708",
          "Korea, South<br>Confirmed Cases 2.694333",
          "Kosovo<br>Confirmed Cases 0.883453",
          "Kuwait<br>Confirmed Cases 7.807018",
          "Kuwait<br>Confirmed Cases 0.0",
          "Kyrgyzstan<br>Confirmed Cases 2.996619",
          "Laos<br>Confirmed Cases 0.0",
          "Laos<br>Confirmed Cases 0.003461",
          "Latvia<br>Confirmed Cases 0.196241",
          "Lebanon<br>Confirmed Cases 1.00875",
          "Lesotho<br>Confirmed Cases 0.064228",
          "Liberia<br>Confirmed Cases 0.124627",
          "Libya<br>Confirmed Cases 0.814841",
          "Liechtenstein<br>Confirmed Cases 0.01607",
          "Lithuania<br>Confirmed Cases 0.34561",
          "Luxembourg<br>Confirmed Cases 0.912234",
          "MS Zaandam<br>Confirmed Cases 0.001583",
          "Madagascar<br>Confirmed Cases 1.013522",
          "Madagascar<br>Confirmed Cases 0.0",
          "Malawi<br>Confirmed Cases 0.384561",
          "Malaysia<br>Confirmed Cases 0.0",
          "Malaysia<br>Confirmed Cases 1.412311",
          "Maldives<br>Confirmed Cases 0.569147",
          "Mali<br>Confirmed Cases 0.307424",
          "Malta<br>Confirmed Cases 0.163387",
          "Mauritania<br>Confirmed Cases 0.611843",
          "Mauritius<br>Confirmed Cases 0.05952",
          "Mauritius<br>Confirmed Cases 0.0",
          "Mexico<br>Confirmed Cases 47.197134",
          "Moldova<br>Confirmed Cases 3.133765",
          "Monaco<br>Confirmed Cases 0.020591",
          "Mongolia<br>Confirmed Cases 0.034198",
          "Montenegro<br>Confirmed Cases 0.35451",
          "Morocco<br>Confirmed Cases 4.256606",
          "Mozambique<br>Confirmed Cases 0.0",
          "Mozambique<br>Confirmed Cases 0.270096",
          "Namibia<br>Confirmed Cases 0.380172",
          "Nepal<br>Confirmed Cases 2.789358",
          "Netherlands<br>Confirmed Cases 0.007138",
          "Netherlands<br>Confirmed Cases 0.001751",
          "Netherlands<br>Confirmed Cases 0.109542",
          "Netherlands<br>Confirmed Cases 0.030138",
          "Netherlands<br>Confirmed Cases 9.103852",
          "New Zealand<br>Confirmed Cases 0.272353",
          "Nicaragua<br>Confirmed Cases 0.387205",
          "Niger<br>Confirmed Cases 0.168794",
          "Nigeria<br>Confirmed Cases 4.558776",
          "North Macedonia<br>Confirmed Cases 1.220592",
          "Norway<br>Confirmed Cases 1.619786",
          "Oman<br>Confirmed Cases 7.404465",
          "Pakistan<br>Confirmed Cases 29.509806",
          "Panama<br>Confirmed Cases 7.341242",
          "Papua New Guinea<br>Confirmed Cases 0.021677",
          "Paraguay<br>Confirmed Cases 1.087882",
          "Peru<br>Confirmed Cases 52.953127",
          "Philippines<br>Confirmed Cases 13.951245",
          "Philippines<br>Confirmed Cases 0.0",
          "Poland<br>Confirmed Cases 6.314891",
          "Portugal<br>Confirmed Cases 7.134777",
          "Qatar<br>Confirmed Cases 13.053893",
          "Romania<br>Confirmed Cases 6.966137",
          "Russia<br>Confirmed Cases 0.0",
          "Russia<br>Confirmed Cases 100.381759",
          "Rwanda<br>Confirmed Cases 0.262076",
          "Saint Kitts and Nevis<br>Confirmed Cases 0.002745",
          "Saint Lucia<br>Confirmed Cases 0.003709",
          "Saint Vincent and the Grenadines<br>Confirmed Cases 0.006142",
          "San Marino<br>Confirmed Cases 0.115429",
          "Sao Tome and Principe<br>Confirmed Cases 0.097658",
          "Saudi Arabia<br>Confirmed Cases 29.824806",
          "Senegal<br>Confirmed Cases 1.193626",
          "Serbia<br>Confirmed Cases 3.093019",
          "Seychelles<br>Confirmed Cases 0.011455",
          "Sierra Leone<br>Confirmed Cases 0.209442",
          "Singapore<br>Confirmed Cases 6.688803"
         ],
         "type": "scattergeo"
        },
        {
         "lat": [
          46.1512,
          5.152149,
          -30.5595,
          6.877000000000002,
          6.8770000000000024,
          40.463667,
          40.463667,
          7.873054,
          12.8628,
          3.9193,
          60.128161,
          46.8182,
          34.802075,
          34.8021,
          23.7,
          38.861,
          -6.369028,
          15.870032,
          -8.874217,
          -8.8742,
          8.6195,
          10.6918,
          33.886917,
          38.9637,
          40,
          1.373333,
          48.3794,
          23.424076,
          23.424076,
          -51.7963,
          16.742498,
          16.742498,
          18.2206,
          18.4207,
          19.3133,
          21.69400000000001,
          32.3078,
          36.1408,
          49.3723,
          54.2361,
          55.3781,
          -32.5228,
          41.377491,
          6.4238,
          14.058323999999999,
          14.058324,
          31.9522,
          24.2155,
          15.552726999999999,
          15.552727,
          -13.133897,
          -19.015438
         ],
         "lon": [
          14.9955,
          46.199616,
          22.9375,
          31.307,
          31.307,
          -3.74922,
          -3.7492199999999998,
          80.77179699999998,
          30.2176,
          -56.0278,
          18.643501,
          8.2275,
          38.99681500000001,
          38.9968,
          121,
          71.2761,
          34.888822,
          100.992541,
          125.727539,
          125.7275,
          0.8248,
          -61.2225,
          9.537499,
          35.2433,
          -100,
          32.290275,
          31.1656,
          53.847818,
          53.847818000000004,
          -59.5236,
          -62.187366000000004,
          -62.187366,
          -63.0686,
          -64.64,
          -81.2546,
          -71.7979,
          -64.7505,
          -5.3536,
          -2.3644,
          -4.5481,
          -3.4360000000000004,
          -55.7658,
          64.585262,
          -66.5897,
          108.277199,
          108.277199,
          35.2332,
          -12.8858,
          48.516388,
          48.516388,
          27.849332,
          29.154857
         ],
         "marker": {
          "color": "orange",
          "line": {
           "color": "rgb(40,40,40)",
           "width": 0.1
          },
          "size": [
           3.8956222222222223,
           4.3845,
           502.84433333333334,
           0,
           2.9073555555555557,
           0,
           580.1109333333334,
           3.7619555555555557,
           14.57841111111111,
           2.551633333333333,
           107.68127777777778,
           67.18116666666667,
           1.6913777777777779,
           0,
           0.9262777777777778,
           9.553255555555555,
           0.8704444444444445,
           6.228166666666667,
           0.04404444444444444,
           0,
           1.3477666666666666,
           1.1239222222222223,
           3.953088888888889,
           365.80444444444447,
           6117.7499,
           2.422022222222222,
           109.45148888888889,
           0,
           84.79747777777777,
           0.0236,
           0.022722222222222224,
           0,
           0.005911111111111111,
           0.03048888888888889,
           0.3063666666666667,
           0.2932666666666667,
           0.26782222222222224,
           0.3761555555555556,
           1.0944444444444446,
           0.6229,
           507.93907777777775,
           2.0378,
           31.845855555555556,
           31.08887777777778,
           1.0446666666666666,
           0,
           16.176255555555556,
           0.016344444444444446,
           1.9527,
           0,
           8.179844444444445,
           4.302722222222222
          ],
          "sizemode": "area"
         },
         "name": "242 - 321",
         "text": [
          "Slovenia<br>Confirmed Cases 0.350606",
          "Somalia<br>Confirmed Cases 0.394605",
          "South Africa<br>Confirmed Cases 45.25599",
          "South Sudan<br>Confirmed Cases 0.0",
          "South Sudan<br>Confirmed Cases 0.261662",
          "Spain<br>Confirmed Cases 0.0",
          "Spain<br>Confirmed Cases 52.209984",
          "Sri Lanka<br>Confirmed Cases 0.338576",
          "Sudan<br>Confirmed Cases 1.312057",
          "Suriname<br>Confirmed Cases 0.229647",
          "Sweden<br>Confirmed Cases 9.691315",
          "Switzerland<br>Confirmed Cases 6.046305",
          "Syria<br>Confirmed Cases 0.152224",
          "Syria<br>Confirmed Cases 0.0",
          "Taiwan*<br>Confirmed Cases 0.083365",
          "Tajikistan<br>Confirmed Cases 0.859793",
          "Tanzania<br>Confirmed Cases 0.07834",
          "Thailand<br>Confirmed Cases 0.560535",
          "Timor-Leste<br>Confirmed Cases 0.003964",
          "Timor-Leste<br>Confirmed Cases 0.0",
          "Togo<br>Confirmed Cases 0.121299",
          "Trinidad and Tobago<br>Confirmed Cases 0.101153",
          "Tunisia<br>Confirmed Cases 0.355778",
          "Turkey<br>Confirmed Cases 32.9224",
          "US<br>Confirmed Cases 550.597491",
          "Uganda<br>Confirmed Cases 0.217982",
          "Ukraine<br>Confirmed Cases 9.850634",
          "United Arab Emirates<br>Confirmed Cases 0.0",
          "United Arab Emirates<br>Confirmed Cases 7.631773",
          "United Kingdom<br>Confirmed Cases 0.002124",
          "United Kingdom<br>Confirmed Cases 0.002045",
          "United Kingdom<br>Confirmed Cases 0.0",
          "United Kingdom<br>Confirmed Cases 0.000532",
          "United Kingdom<br>Confirmed Cases 0.002744",
          "United Kingdom<br>Confirmed Cases 0.027573",
          "United Kingdom<br>Confirmed Cases 0.026394",
          "United Kingdom<br>Confirmed Cases 0.024104",
          "United Kingdom<br>Confirmed Cases 0.033854",
          "United Kingdom<br>Confirmed Cases 0.0985",
          "United Kingdom<br>Confirmed Cases 0.056061",
          "United Kingdom<br>Confirmed Cases 45.714517",
          "Uruguay<br>Confirmed Cases 0.183402",
          "Uzbekistan<br>Confirmed Cases 2.866127",
          "Venezuela<br>Confirmed Cases 2.797999",
          "Vietnam<br>Confirmed Cases 0.09402",
          "Vietnam<br>Confirmed Cases 0.0",
          "West Bank and Gaza<br>Confirmed Cases 1.455863",
          "Western Sahara<br>Confirmed Cases 0.001471",
          "Yemen<br>Confirmed Cases 0.175743",
          "Yemen<br>Confirmed Cases 0.0",
          "Zambia<br>Confirmed Cases 0.736186",
          "Zimbabwe<br>Confirmed Cases 0.387245"
         ],
         "type": "scattergeo"
        },
        {
         "lat": [],
         "lon": [],
         "marker": {
          "color": "red",
          "line": {
           "color": "rgb(40,40,40)",
           "width": 0.1
          },
          "size": [],
          "sizemode": "area"
         },
         "name": "322 - 401",
         "text": [],
         "type": "scattergeo"
        },
        {
         "lat": [],
         "lon": [],
         "marker": {
          "color": "white",
          "line": {
           "color": "rgb(40,40,40)",
           "width": 0.1
          },
          "size": [],
          "sizemode": "area"
         },
         "name": "402 - 481",
         "text": [],
         "type": "scattergeo"
        },
        {
         "lat": [],
         "lon": [],
         "marker": {
          "color": "black",
          "line": {
           "color": "rgb(40,40,40)",
           "width": 0.1
          },
          "size": [],
          "sizemode": "area"
         },
         "name": "482 - 561",
         "text": [],
         "type": "scattergeo"
        }
       ],
       "layout": {
        "geo": {
         "landcolor": "rgb(217, 217, 217)",
         "scope": "asia"
        },
        "showlegend": true,
        "template": {
         "data": {
          "bar": [
           {
            "error_x": {
             "color": "#2a3f5f"
            },
            "error_y": {
             "color": "#2a3f5f"
            },
            "marker": {
             "line": {
              "color": "#E5ECF6",
              "width": 0.5
             }
            },
            "type": "bar"
           }
          ],
          "barpolar": [
           {
            "marker": {
             "line": {
              "color": "#E5ECF6",
              "width": 0.5
             }
            },
            "type": "barpolar"
           }
          ],
          "carpet": [
           {
            "aaxis": {
             "endlinecolor": "#2a3f5f",
             "gridcolor": "white",
             "linecolor": "white",
             "minorgridcolor": "white",
             "startlinecolor": "#2a3f5f"
            },
            "baxis": {
             "endlinecolor": "#2a3f5f",
             "gridcolor": "white",
             "linecolor": "white",
             "minorgridcolor": "white",
             "startlinecolor": "#2a3f5f"
            },
            "type": "carpet"
           }
          ],
          "choropleth": [
           {
            "colorbar": {
             "outlinewidth": 0,
             "ticks": ""
            },
            "type": "choropleth"
           }
          ],
          "contour": [
           {
            "colorbar": {
             "outlinewidth": 0,
             "ticks": ""
            },
            "colorscale": [
             [
              0,
              "#0d0887"
             ],
             [
              0.1111111111111111,
              "#46039f"
             ],
             [
              0.2222222222222222,
              "#7201a8"
             ],
             [
              0.3333333333333333,
              "#9c179e"
             ],
             [
              0.4444444444444444,
              "#bd3786"
             ],
             [
              0.5555555555555556,
              "#d8576b"
             ],
             [
              0.6666666666666666,
              "#ed7953"
             ],
             [
              0.7777777777777778,
              "#fb9f3a"
             ],
             [
              0.8888888888888888,
              "#fdca26"
             ],
             [
              1,
              "#f0f921"
             ]
            ],
            "type": "contour"
           }
          ],
          "contourcarpet": [
           {
            "colorbar": {
             "outlinewidth": 0,
             "ticks": ""
            },
            "type": "contourcarpet"
           }
          ],
          "heatmap": [
           {
            "colorbar": {
             "outlinewidth": 0,
             "ticks": ""
            },
            "colorscale": [
             [
              0,
              "#0d0887"
             ],
             [
              0.1111111111111111,
              "#46039f"
             ],
             [
              0.2222222222222222,
              "#7201a8"
             ],
             [
              0.3333333333333333,
              "#9c179e"
             ],
             [
              0.4444444444444444,
              "#bd3786"
             ],
             [
              0.5555555555555556,
              "#d8576b"
             ],
             [
              0.6666666666666666,
              "#ed7953"
             ],
             [
              0.7777777777777778,
              "#fb9f3a"
             ],
             [
              0.8888888888888888,
              "#fdca26"
             ],
             [
              1,
              "#f0f921"
             ]
            ],
            "type": "heatmap"
           }
          ],
          "heatmapgl": [
           {
            "colorbar": {
             "outlinewidth": 0,
             "ticks": ""
            },
            "colorscale": [
             [
              0,
              "#0d0887"
             ],
             [
              0.1111111111111111,
              "#46039f"
             ],
             [
              0.2222222222222222,
              "#7201a8"
             ],
             [
              0.3333333333333333,
              "#9c179e"
             ],
             [
              0.4444444444444444,
              "#bd3786"
             ],
             [
              0.5555555555555556,
              "#d8576b"
             ],
             [
              0.6666666666666666,
              "#ed7953"
             ],
             [
              0.7777777777777778,
              "#fb9f3a"
             ],
             [
              0.8888888888888888,
              "#fdca26"
             ],
             [
              1,
              "#f0f921"
             ]
            ],
            "type": "heatmapgl"
           }
          ],
          "histogram": [
           {
            "marker": {
             "colorbar": {
              "outlinewidth": 0,
              "ticks": ""
             }
            },
            "type": "histogram"
           }
          ],
          "histogram2d": [
           {
            "colorbar": {
             "outlinewidth": 0,
             "ticks": ""
            },
            "colorscale": [
             [
              0,
              "#0d0887"
             ],
             [
              0.1111111111111111,
              "#46039f"
             ],
             [
              0.2222222222222222,
              "#7201a8"
             ],
             [
              0.3333333333333333,
              "#9c179e"
             ],
             [
              0.4444444444444444,
              "#bd3786"
             ],
             [
              0.5555555555555556,
              "#d8576b"
             ],
             [
              0.6666666666666666,
              "#ed7953"
             ],
             [
              0.7777777777777778,
              "#fb9f3a"
             ],
             [
              0.8888888888888888,
              "#fdca26"
             ],
             [
              1,
              "#f0f921"
             ]
            ],
            "type": "histogram2d"
           }
          ],
          "histogram2dcontour": [
           {
            "colorbar": {
             "outlinewidth": 0,
             "ticks": ""
            },
            "colorscale": [
             [
              0,
              "#0d0887"
             ],
             [
              0.1111111111111111,
              "#46039f"
             ],
             [
              0.2222222222222222,
              "#7201a8"
             ],
             [
              0.3333333333333333,
              "#9c179e"
             ],
             [
              0.4444444444444444,
              "#bd3786"
             ],
             [
              0.5555555555555556,
              "#d8576b"
             ],
             [
              0.6666666666666666,
              "#ed7953"
             ],
             [
              0.7777777777777778,
              "#fb9f3a"
             ],
             [
              0.8888888888888888,
              "#fdca26"
             ],
             [
              1,
              "#f0f921"
             ]
            ],
            "type": "histogram2dcontour"
           }
          ],
          "mesh3d": [
           {
            "colorbar": {
             "outlinewidth": 0,
             "ticks": ""
            },
            "type": "mesh3d"
           }
          ],
          "parcoords": [
           {
            "line": {
             "colorbar": {
              "outlinewidth": 0,
              "ticks": ""
             }
            },
            "type": "parcoords"
           }
          ],
          "pie": [
           {
            "automargin": true,
            "type": "pie"
           }
          ],
          "scatter": [
           {
            "marker": {
             "colorbar": {
              "outlinewidth": 0,
              "ticks": ""
             }
            },
            "type": "scatter"
           }
          ],
          "scatter3d": [
           {
            "line": {
             "colorbar": {
              "outlinewidth": 0,
              "ticks": ""
             }
            },
            "marker": {
             "colorbar": {
              "outlinewidth": 0,
              "ticks": ""
             }
            },
            "type": "scatter3d"
           }
          ],
          "scattercarpet": [
           {
            "marker": {
             "colorbar": {
              "outlinewidth": 0,
              "ticks": ""
             }
            },
            "type": "scattercarpet"
           }
          ],
          "scattergeo": [
           {
            "marker": {
             "colorbar": {
              "outlinewidth": 0,
              "ticks": ""
             }
            },
            "type": "scattergeo"
           }
          ],
          "scattergl": [
           {
            "marker": {
             "colorbar": {
              "outlinewidth": 0,
              "ticks": ""
             }
            },
            "type": "scattergl"
           }
          ],
          "scattermapbox": [
           {
            "marker": {
             "colorbar": {
              "outlinewidth": 0,
              "ticks": ""
             }
            },
            "type": "scattermapbox"
           }
          ],
          "scatterpolar": [
           {
            "marker": {
             "colorbar": {
              "outlinewidth": 0,
              "ticks": ""
             }
            },
            "type": "scatterpolar"
           }
          ],
          "scatterpolargl": [
           {
            "marker": {
             "colorbar": {
              "outlinewidth": 0,
              "ticks": ""
             }
            },
            "type": "scatterpolargl"
           }
          ],
          "scatterternary": [
           {
            "marker": {
             "colorbar": {
              "outlinewidth": 0,
              "ticks": ""
             }
            },
            "type": "scatterternary"
           }
          ],
          "surface": [
           {
            "colorbar": {
             "outlinewidth": 0,
             "ticks": ""
            },
            "colorscale": [
             [
              0,
              "#0d0887"
             ],
             [
              0.1111111111111111,
              "#46039f"
             ],
             [
              0.2222222222222222,
              "#7201a8"
             ],
             [
              0.3333333333333333,
              "#9c179e"
             ],
             [
              0.4444444444444444,
              "#bd3786"
             ],
             [
              0.5555555555555556,
              "#d8576b"
             ],
             [
              0.6666666666666666,
              "#ed7953"
             ],
             [
              0.7777777777777778,
              "#fb9f3a"
             ],
             [
              0.8888888888888888,
              "#fdca26"
             ],
             [
              1,
              "#f0f921"
             ]
            ],
            "type": "surface"
           }
          ],
          "table": [
           {
            "cells": {
             "fill": {
              "color": "#EBF0F8"
             },
             "line": {
              "color": "white"
             }
            },
            "header": {
             "fill": {
              "color": "#C8D4E3"
             },
             "line": {
              "color": "white"
             }
            },
            "type": "table"
           }
          ]
         },
         "layout": {
          "annotationdefaults": {
           "arrowcolor": "#2a3f5f",
           "arrowhead": 0,
           "arrowwidth": 1
          },
          "coloraxis": {
           "colorbar": {
            "outlinewidth": 0,
            "ticks": ""
           }
          },
          "colorscale": {
           "diverging": [
            [
             0,
             "#8e0152"
            ],
            [
             0.1,
             "#c51b7d"
            ],
            [
             0.2,
             "#de77ae"
            ],
            [
             0.3,
             "#f1b6da"
            ],
            [
             0.4,
             "#fde0ef"
            ],
            [
             0.5,
             "#f7f7f7"
            ],
            [
             0.6,
             "#e6f5d0"
            ],
            [
             0.7,
             "#b8e186"
            ],
            [
             0.8,
             "#7fbc41"
            ],
            [
             0.9,
             "#4d9221"
            ],
            [
             1,
             "#276419"
            ]
           ],
           "sequential": [
            [
             0,
             "#0d0887"
            ],
            [
             0.1111111111111111,
             "#46039f"
            ],
            [
             0.2222222222222222,
             "#7201a8"
            ],
            [
             0.3333333333333333,
             "#9c179e"
            ],
            [
             0.4444444444444444,
             "#bd3786"
            ],
            [
             0.5555555555555556,
             "#d8576b"
            ],
            [
             0.6666666666666666,
             "#ed7953"
            ],
            [
             0.7777777777777778,
             "#fb9f3a"
            ],
            [
             0.8888888888888888,
             "#fdca26"
            ],
            [
             1,
             "#f0f921"
            ]
           ],
           "sequentialminus": [
            [
             0,
             "#0d0887"
            ],
            [
             0.1111111111111111,
             "#46039f"
            ],
            [
             0.2222222222222222,
             "#7201a8"
            ],
            [
             0.3333333333333333,
             "#9c179e"
            ],
            [
             0.4444444444444444,
             "#bd3786"
            ],
            [
             0.5555555555555556,
             "#d8576b"
            ],
            [
             0.6666666666666666,
             "#ed7953"
            ],
            [
             0.7777777777777778,
             "#fb9f3a"
            ],
            [
             0.8888888888888888,
             "#fdca26"
            ],
            [
             1,
             "#f0f921"
            ]
           ]
          },
          "colorway": [
           "#636efa",
           "#EF553B",
           "#00cc96",
           "#ab63fa",
           "#FFA15A",
           "#19d3f3",
           "#FF6692",
           "#B6E880",
           "#FF97FF",
           "#FECB52"
          ],
          "font": {
           "color": "#2a3f5f"
          },
          "geo": {
           "bgcolor": "white",
           "lakecolor": "white",
           "landcolor": "#E5ECF6",
           "showlakes": true,
           "showland": true,
           "subunitcolor": "white"
          },
          "hoverlabel": {
           "align": "left"
          },
          "hovermode": "closest",
          "mapbox": {
           "style": "light"
          },
          "paper_bgcolor": "white",
          "plot_bgcolor": "#E5ECF6",
          "polar": {
           "angularaxis": {
            "gridcolor": "white",
            "linecolor": "white",
            "ticks": ""
           },
           "bgcolor": "#E5ECF6",
           "radialaxis": {
            "gridcolor": "white",
            "linecolor": "white",
            "ticks": ""
           }
          },
          "scene": {
           "xaxis": {
            "backgroundcolor": "#E5ECF6",
            "gridcolor": "white",
            "gridwidth": 2,
            "linecolor": "white",
            "showbackground": true,
            "ticks": "",
            "zerolinecolor": "white"
           },
           "yaxis": {
            "backgroundcolor": "#E5ECF6",
            "gridcolor": "white",
            "gridwidth": 2,
            "linecolor": "white",
            "showbackground": true,
            "ticks": "",
            "zerolinecolor": "white"
           },
           "zaxis": {
            "backgroundcolor": "#E5ECF6",
            "gridcolor": "white",
            "gridwidth": 2,
            "linecolor": "white",
            "showbackground": true,
            "ticks": "",
            "zerolinecolor": "white"
           }
          },
          "shapedefaults": {
           "line": {
            "color": "#2a3f5f"
           }
          },
          "ternary": {
           "aaxis": {
            "gridcolor": "white",
            "linecolor": "white",
            "ticks": ""
           },
           "baxis": {
            "gridcolor": "white",
            "linecolor": "white",
            "ticks": ""
           },
           "bgcolor": "#E5ECF6",
           "caxis": {
            "gridcolor": "white",
            "linecolor": "white",
            "ticks": ""
           }
          },
          "title": {
           "x": 0.05
          },
          "xaxis": {
           "automargin": true,
           "gridcolor": "white",
           "linecolor": "white",
           "ticks": "",
           "title": {
            "standoff": 15
           },
           "zerolinecolor": "white",
           "zerolinewidth": 2
          },
          "yaxis": {
           "automargin": true,
           "gridcolor": "white",
           "linecolor": "white",
           "ticks": "",
           "title": {
            "standoff": 15
           },
           "zerolinecolor": "white",
           "zerolinewidth": 2
          }
         }
        },
        "title": {
         "text": "Confirmed Cases)"
        }
       }
      },
      "text/html": [
       "<div>\n",
       "        \n",
       "        \n",
       "            <div id=\"a4b55009-b775-471c-943b-0490c40f17fb\" class=\"plotly-graph-div\" style=\"height:525px; width:100%;\"></div>\n",
       "            <script type=\"text/javascript\">\n",
       "                require([\"plotly\"], function(Plotly) {\n",
       "                    window.PLOTLYENV=window.PLOTLYENV || {};\n",
       "                    \n",
       "                if (document.getElementById(\"a4b55009-b775-471c-943b-0490c40f17fb\")) {\n",
       "                    Plotly.newPlot(\n",
       "                        'a4b55009-b775-471c-943b-0490c40f17fb',\n",
       "                        [{\"lat\": [33.93911, 41.1533, 28.0339, 42.5063, -11.2027, 17.0608, -38.4161, 40.0691, -42.8821, -37.8136, -35.4735, -34.9285, -33.8688, -31.9505, -27.4698, -12.4634, 47.5162, 40.1431, 25.025885, 26.0275, 23.685, 13.1939, 53.7098, 50.8333, 17.1899, 9.3077, 27.5142, -16.2902, 43.9159, -22.3285, -14.235, 4.5353, 42.7339, 12.2383, 21.9162, -3.3731, 16.5388, 11.55, 3.848, 3.8480000000000003, 0.0, 44.681999999999995, 44.682, 46.5107, 46.5653, 51.2538, 52.9399, 52.9399, 53.1355, 53.7267, 53.7609, 53.9333, 56.1304, 64.2823, 64.8255, 6.6111, 15.4542, -35.6751, 19.1959, 22.1667, 22.3, 23.3417, 23.8298, 24.974, 24.974, 26.0789, 26.8154, 27.6104, 27.614, 29.1832, 30.0572, 30.6171, 30.9756, 31.201999999999998, 31.202, 31.6927, 31.8257, 32.9711, 33.882, 35.1917], \"lon\": [67.709953, 20.1683, 1.6596, 1.5218, 17.8739, -61.7964, -63.6167, 45.0382, 147.3272, 144.9631, 149.0124, 138.6007, 151.2093, 115.8605, 153.0251, 130.8456, 14.5501, 47.5769, -78.035889, 50.55, 90.3563, -59.5432, 27.9534, 4.469936, -88.4976, 2.3158, 90.4336, -63.5887, 17.6791, 24.6849, -51.9253, 114.7277, 25.4858, -1.5616, 95.956, 29.9189, -23.0418, 104.9167, 11.5021, 11.5021, 0.0, -63.7443, -63.7443, -63.4168, -66.4619, -85.3232, -106.4509, -73.5491, -57.6604, -127.6476, -98.8139, -116.5765, -106.3468, -135.0, -124.8457, 20.9394, 18.7322, -71.543, 109.7453, 113.55, 114.2, 113.4244, 108.7881, 101.487, 101.48700000000001, 117.9874, 106.8748, 111.7088, 115.7221, 120.0934, 107.874, 102.7103, 112.2707, 121.4491, 121.4491, 88.0924, 117.2264, 119.455, 113.61399999999999, 108.8701], \"marker\": {\"color\": \"royalblue\", \"line\": {\"color\": \"rgb(40,40,40)\", \"width\": 0.1}, \"size\": [45.507466666666666, 7.688666666666666, 39.25961111111111, 1.7748555555555556, 1.7792666666666668, 0.1091, 292.3442, 44.78728888888889, 0.4262111111111111, 14.047877777777778, 0.21794444444444444, 0.8952333333333333, 6.811766666666666, 1.2000222222222223, 2.140711111111111, 0.06013333333333333, 39.7084, 35.140166666666666, 1.3155333333333334, 51.87582222222222, 284.6477888888889, 0.21936666666666665, 94.26007777777778, 122.3659, 0.5275222222222222, 2.042022222222222, 0.16753333333333334, 92.28557777777777, 16.039655555555555, 1.1655111111111112, 3300.8218666666667, 0.29262222222222223, 14.34981111111111, 1.9407777777777777, 1.1916888888888888, 0.4005111111111111, 3.265833333333333, 0.3579555555555556, 0.0, 21.3811, 0.027677777777777777, 1.9091333333333333, 0.0, 0.06633333333333333, 0.30323333333333335, 62.344788888888885, 1.8158888888888889, 94.36691111111111, 0.5149222222222222, 6.736411111111111, 1.0095, 16.79607777777778, 0.0, 0.023566666666666666, 0.009666666666666667, 5.179422222222223, 1.3512222222222223, 441.9573111111111, 0.43701111111111113, 0.09821111111111111, 4.5178666666666665, 4.077188888888889, 0.6550444444444444, 0.0, 0.48186666666666667, 0.9043, 0.37466666666666665, 2.6302666666666665, 2.4021333333333335, 3.2619333333333334, 1.5000444444444445, 1.4946222222222223, 170.61823333333334, 1.6608555555555555, 0.0, 0.0026333333333333334, 2.5442666666666667, 1.6692555555555555, 0.0, 0.7816555555555555], \"sizemode\": \"area\"}, \"name\": \"0 - 80\", \"text\": [\"Afghanistan<br>Confirmed Cases 4.095672\", \"Albania<br>Confirmed Cases 0.69198\", \"Algeria<br>Confirmed Cases 3.533365\", \"Andorra<br>Confirmed Cases 0.159737\", \"Angola<br>Confirmed Cases 0.160134\", \"Antigua and Barbuda<br>Confirmed Cases 0.009819\", \"Argentina<br>Confirmed Cases 26.310978\", \"Armenia<br>Confirmed Cases 4.030856\", \"Australia<br>Confirmed Cases 0.038359\", \"Australia<br>Confirmed Cases 1.264309\", \"Australia<br>Confirmed Cases 0.019615\", \"Australia<br>Confirmed Cases 0.080571\", \"Australia<br>Confirmed Cases 0.613059\", \"Australia<br>Confirmed Cases 0.108002\", \"Australia<br>Confirmed Cases 0.192664\", \"Australia<br>Confirmed Cases 0.005412\", \"Austria<br>Confirmed Cases 3.573756\", \"Azerbaijan<br>Confirmed Cases 3.162615\", \"Bahamas<br>Confirmed Cases 0.118398\", \"Bahrain<br>Confirmed Cases 4.668824\", \"Bangladesh<br>Confirmed Cases 25.618301\", \"Barbados<br>Confirmed Cases 0.019743\", \"Belarus<br>Confirmed Cases 8.483407\", \"Belgium<br>Confirmed Cases 11.012931\", \"Belize<br>Confirmed Cases 0.047477\", \"Benin<br>Confirmed Cases 0.183782\", \"Bhutan<br>Confirmed Cases 0.015078\", \"Bolivia<br>Confirmed Cases 8.305702\", \"Bosnia and Herzegovina<br>Confirmed Cases 1.443569\", \"Botswana<br>Confirmed Cases 0.104896\", \"Brazil<br>Confirmed Cases 297.073968\", \"Brunei<br>Confirmed Cases 0.026336\", \"Bulgaria<br>Confirmed Cases 1.291483\", \"Burkina Faso<br>Confirmed Cases 0.17467\", \"Burma<br>Confirmed Cases 0.107252\", \"Burundi<br>Confirmed Cases 0.036046\", \"Cabo Verde<br>Confirmed Cases 0.293925\", \"Cambodia<br>Confirmed Cases 0.032216\", \"Cameroon<br>Confirmed Cases 0.0\", \"Cameroon<br>Confirmed Cases 1.924299\", \"Canada<br>Confirmed Cases 0.002491\", \"Canada<br>Confirmed Cases 0.171822\", \"Canada<br>Confirmed Cases 0.0\", \"Canada<br>Confirmed Cases 0.00597\", \"Canada<br>Confirmed Cases 0.027291\", \"Canada<br>Confirmed Cases 5.611031\", \"Canada<br>Confirmed Cases 0.16343\", \"Canada<br>Confirmed Cases 8.493022\", \"Canada<br>Confirmed Cases 0.046343\", \"Canada<br>Confirmed Cases 0.606277\", \"Canada<br>Confirmed Cases 0.090855\", \"Canada<br>Confirmed Cases 1.511647\", \"Canada<br>Confirmed Cases 0.0\", \"Canada<br>Confirmed Cases 0.002121\", \"Canada<br>Confirmed Cases 0.00087\", \"Central African Republic<br>Confirmed Cases 0.466148\", \"Chad<br>Confirmed Cases 0.12161\", \"Chile<br>Confirmed Cases 39.776158\", \"China<br>Confirmed Cases 0.039331\", \"China<br>Confirmed Cases 0.008839\", \"China<br>Confirmed Cases 0.406608\", \"China<br>Confirmed Cases 0.366947\", \"China<br>Confirmed Cases 0.058954\", \"China<br>Confirmed Cases 0.0\", \"China<br>Confirmed Cases 0.043368\", \"China<br>Confirmed Cases 0.081387\", \"China<br>Confirmed Cases 0.03372\", \"China<br>Confirmed Cases 0.236724\", \"China<br>Confirmed Cases 0.216192\", \"China<br>Confirmed Cases 0.293574\", \"China<br>Confirmed Cases 0.135004\", \"China<br>Confirmed Cases 0.134516\", \"China<br>Confirmed Cases 15.355641\", \"China<br>Confirmed Cases 0.149477\", \"China<br>Confirmed Cases 0.0\", \"China<br>Confirmed Cases 0.000237\", \"China<br>Confirmed Cases 0.228984\", \"China<br>Confirmed Cases 0.150233\", \"China<br>Confirmed Cases 0.0\", \"China<br>Confirmed Cases 0.070349\"], \"type\": \"scattergeo\"}, {\"lat\": [35.7518, 36.3427, 37.2692, 37.5777, 37.8957, 39.3054, 39.549, 40.1824, 41.1129, 41.2956, 43.6661, 44.0935, 47.861999999999995, 47.862, 4.5709, -11.6455, -0.228, -4.0383, 9.7489, 7.54, 45.1, 21.521757, 35.1264, 49.8175, 49.8175, 56.2639, 61.8926, 71.7069, 0.0, 11.8251, 15.415, 18.7357, -1.8312, 26.820553000000004, 26.820553000000004, 13.7942, 1.6508, 15.1794, 58.5953, -26.5225, 9.145, -17.7134, 61.92411, -21.1151, -20.904305, -20.904304999999997, -17.6797, -12.8275, 3.9339, 14.6415, 16.265, 17.9, 18.0708, 46.2276, 46.8852, -0.8037, 13.4432, 42.3154, 51.165690999999995, 51.165691, 7.9465, 39.0742, 12.1165, 12.1165, 15.7835, 9.9456, 11.8037, 4.860416000000002, 18.9712, 41.9029, 15.2, 47.1625, 64.9631, 20.593684, -0.7893, 32.427908, 33.223191, 53.1424, 31.046051, 31.046051000000002], \"lon\": [104.2861, 118.1498, 106.1655, 112.2922, 114.9042, 117.323, 116.1306, 116.4142, 85.2401, 122.6085, 126.1923, 113.9448, 127.7615, 127.7615, -74.2973, 43.3333, 15.8277, 21.7587, -83.7534, -5.5471, 15.2, -77.78116700000002, 33.4299, 15.472999999999999, 15.473, 9.5018, -6.9118, -42.6043, 0.0, 42.5903, -61.371, -70.1627, -78.1834, 30.802497999999996, 30.802498, -88.8965, 10.2679, 39.7823, 25.0136, 31.4659, 40.4897, 178.065, 25.748151, 55.5364, 165.618042, 165.618042, 149.4068, 45.166244, -53.1258, -61.0242, -61.551, -62.8333, -63.0501, 2.2137, -56.3159, 11.6094, -15.3101, 43.3569, 10.451526, 10.451526, -1.0232, 21.8243, -61.679, -61.678999999999995, -90.2308, -9.6966, -15.1804, -58.93018000000001, -72.2852, 12.4534, -86.2419, 19.5033, -19.0208, 78.96288, 113.9213, 53.68804599999999, 43.679291, -7.6921, 34.851612, 34.851612], \"marker\": {\"color\": \"green\", \"line\": {\"color\": \"rgb(40,40,40)\", \"width\": 0.1}, \"size\": [0.37123333333333336, 1.9982555555555555, 0.19118888888888888, 0.4661444444444444, 3.281511111111111, 0.47831111111111113, 0.8582333333333333, 1.7976666666666667, 0.6979555555555556, 0.4451555555555556, 0.3369333333333333, 0.49554444444444445, 2.066488888888889, 0.0, 421.34293333333335, 0.44382222222222223, 3.7453444444444446, 10.991844444444444, 27.785133333333334, 17.97891111111111, 9.154677777777778, 4.7901444444444445, 2.074188888888889, 29.302411111111113, 0.0, 25.011566666666667, 0.4971777777777778, 0.025611111111111112, 1.740488888888889, 7.120511111111111, 0.03565555555555556, 84.99598888888889, 119.37377777777778, 108.05046666666667, 0.0, 19.988766666666667, 4.7542333333333335, 0.33043333333333336, 3.906922222222222, 3.3251555555555554, 31.12768888888889, 0.043533333333333334, 13.017722222222222, 1.6486444444444444, 0.0, 0.042166666666666665, 0.38472222222222224, 4.153044444444444, 8.120111111111111, 0.6567, 1.0354777777777777, 0.018944444444444444, 0.16604444444444444, 417.9078666666667, 0.005633333333333333, 8.917377777777778, 1.5146111111111111, 2.0197333333333334, 385.06811111111114, 0.0, 40.89253333333333, 9.865688888888888, 0.0, 0.04257777777777778, 57.599244444444444, 10.144833333333333, 2.732466666666667, 0.9392555555555555, 8.8019, 0.02266666666666667, 49.5054, 9.239777777777778, 3.768877777777778, 2594.5395444444443, 150.14991111111112, 444.1061888888889, 170.36818888888888, 46.699444444444445, 0.0, 102.54446666666666], \"sizemode\": \"area\"}, \"name\": \"81 - 161\", \"text\": [\"China<br>Confirmed Cases 0.033411\", \"China<br>Confirmed Cases 0.179843\", \"China<br>Confirmed Cases 0.017207\", \"China<br>Confirmed Cases 0.041953\", \"China<br>Confirmed Cases 0.295336\", \"China<br>Confirmed Cases 0.043048\", \"China<br>Confirmed Cases 0.077241\", \"China<br>Confirmed Cases 0.16179\", \"China<br>Confirmed Cases 0.062816\", \"China<br>Confirmed Cases 0.040064\", \"China<br>Confirmed Cases 0.030324\", \"China<br>Confirmed Cases 0.044599\", \"China<br>Confirmed Cases 0.185984\", \"China<br>Confirmed Cases 0.0\", \"Colombia<br>Confirmed Cases 37.920864\", \"Comoros<br>Confirmed Cases 0.039944\", \"Congo (Brazzaville)<br>Confirmed Cases 0.337081\", \"Congo (Kinshasa)<br>Confirmed Cases 0.989266\", \"Costa Rica<br>Confirmed Cases 2.500662\", \"Cote d'Ivoire<br>Confirmed Cases 1.618102\", \"Croatia<br>Confirmed Cases 0.823921\", \"Cuba<br>Confirmed Cases 0.431113\", \"Cyprus<br>Confirmed Cases 0.186677\", \"Czechia<br>Confirmed Cases 2.637217\", \"Czechia<br>Confirmed Cases 0.0\", \"Denmark<br>Confirmed Cases 2.251041\", \"Denmark<br>Confirmed Cases 0.044746\", \"Denmark<br>Confirmed Cases 0.002305\", \"Diamond Princess<br>Confirmed Cases 0.156644\", \"Djibouti<br>Confirmed Cases 0.640846\", \"Dominica<br>Confirmed Cases 0.003209\", \"Dominican Republic<br>Confirmed Cases 7.649639\", \"Ecuador<br>Confirmed Cases 10.74364\", \"Egypt<br>Confirmed Cases 9.724542\", \"Egypt<br>Confirmed Cases 0.0\", \"El Salvador<br>Confirmed Cases 1.798989\", \"Equatorial Guinea<br>Confirmed Cases 0.427881\", \"Eritrea<br>Confirmed Cases 0.029739\", \"Estonia<br>Confirmed Cases 0.351623\", \"Eswatini<br>Confirmed Cases 0.299264\", \"Ethiopia<br>Confirmed Cases 2.801492\", \"Fiji<br>Confirmed Cases 0.003918\", \"Finland<br>Confirmed Cases 1.171595\", \"France<br>Confirmed Cases 0.148378\", \"France<br>Confirmed Cases 0.0\", \"France<br>Confirmed Cases 0.003795\", \"France<br>Confirmed Cases 0.034625\", \"France<br>Confirmed Cases 0.373774\", \"France<br>Confirmed Cases 0.73081\", \"France<br>Confirmed Cases 0.059103\", \"France<br>Confirmed Cases 0.093193\", \"France<br>Confirmed Cases 0.001705\", \"France<br>Confirmed Cases 0.014944\", \"France<br>Confirmed Cases 37.611708\", \"France<br>Confirmed Cases 0.000507\", \"Gabon<br>Confirmed Cases 0.802564\", \"Gambia<br>Confirmed Cases 0.136315\", \"Georgia<br>Confirmed Cases 0.181776\", \"Germany<br>Confirmed Cases 34.65613\", \"Germany<br>Confirmed Cases 0.0\", \"Ghana<br>Confirmed Cases 3.680328\", \"Greece<br>Confirmed Cases 0.887912\", \"Grenada<br>Confirmed Cases 0.0\", \"Grenada<br>Confirmed Cases 0.003832\", \"Guatemala<br>Confirmed Cases 5.183932\", \"Guinea<br>Confirmed Cases 0.913035\", \"Guinea-Bissau<br>Confirmed Cases 0.245922\", \"Guyana<br>Confirmed Cases 0.084533\", \"Haiti<br>Confirmed Cases 0.792171\", \"Holy See<br>Confirmed Cases 0.00204\", \"Honduras<br>Confirmed Cases 4.455486\", \"Hungary<br>Confirmed Cases 0.83158\", \"Iceland<br>Confirmed Cases 0.339199\", \"India<br>Confirmed Cases 233.508559\", \"Indonesia<br>Confirmed Cases 13.513492\", \"Iran<br>Confirmed Cases 39.969557\", \"Iraq<br>Confirmed Cases 15.333137\", \"Ireland<br>Confirmed Cases 4.20295\", \"Israel<br>Confirmed Cases 0.0\", \"Israel<br>Confirmed Cases 9.229002\"], \"type\": \"scattergeo\"}, {\"lat\": [41.87194, 18.1096, 36.204824, 31.24, 48.0196, -0.0236, 35.90775700000001, 42.602636, 29.311659999999996, 29.31166, 41.20438, 19.85627, 19.856270000000002, 56.8796, 33.8547, -29.61, 6.4280550000000005, 26.3351, 47.14, 55.1694, 49.8153, 0.0, -18.766947000000002, -18.766947, -13.2543, 4.210483999999999, 4.210483999999999, 3.2028, 17.570692, 35.9375, 21.0079, -20.348404000000002, -20.348404, 23.6345, 47.4116, 43.7333, 46.8625, 42.708678000000006, 31.7917, -18.6657, -18.665695, -22.9576, 28.1667, 12.1696, 12.1784, 12.5211, 18.0425, 52.1326, -40.9006, 12.865416, 17.607789, 9.082, 41.6086, 60.472, 21.512583, 30.3753, 8.538, -6.314993, -23.4425, -9.19, 12.879721, 12.879721, 51.9194, 39.3999, 25.3548, 45.9432, 61.52401, 61.52401, -1.9403, 17.357822, 13.9094, 12.9843, 43.9424, 0.1864, 23.885942, 14.4974, 44.0165, -4.6796, 8.460555000000001, 1.2833], \"lon\": [12.56738, -77.2975, 138.252924, 36.51, 66.9237, 37.9062, 127.766922, 20.902977, 47.481766, 47.481766, 74.766098, 102.495496, 102.495496, 24.6032, 35.8623, 28.2336, -9.429499, 17.228331, 9.55, 23.8813, 6.1296, 0.0, 46.869107, 46.869107, 34.3015, 101.975766, 101.97576600000001, 73.2207, -3.996166000000001, 14.3754, -10.9408, 57.552152, 57.552152, -102.5528, 28.3699, 7.4167, 103.8467, 19.37439, -7.0926, 35.5296, 35.529562, 18.4904, 84.25, -68.99, -68.2385, -69.9683, -63.0548, 5.2913, 174.886, -85.207229, 8.081666, 8.6753, 21.7453, 8.4689, 55.92325500000001, 69.3451, -80.7821, 143.95555, -58.4438, -75.0152, 121.77401699999999, 121.774017, 19.1451, -8.2245, 51.1839, 24.9668, 105.318756, 105.31875600000001, 29.8739, -62.782998, -60.9789, -61.2872, 12.4578, 6.6131, 45.079162, -14.4524, 21.0059, 55.492, -11.779889, 103.8333], \"marker\": {\"color\": \"blue\", \"line\": {\"color\": \"rgb(40,40,40)\", \"width\": 0.1}, \"size\": [465.9086888888889, 2.094488888888889, 60.377, 2.4032666666666667, 91.96581111111111, 24.81897777777778, 29.937033333333332, 9.816144444444445, 86.74464444444445, 0.0, 33.295766666666665, 0.0, 0.038455555555555555, 2.1804555555555556, 11.208333333333334, 0.7136444444444444, 1.3847444444444443, 9.053788888888889, 0.17855555555555555, 3.8401111111111113, 10.135933333333334, 0.01758888888888889, 11.261355555555555, 0.0, 4.2729, 0.0, 15.692344444444444, 6.323855555555555, 3.4158222222222223, 1.815411111111111, 6.7982555555555555, 0.6613333333333333, 0.0, 524.4126, 34.81961111111111, 0.2287888888888889, 0.3799777777777778, 3.939, 47.29562222222222, 0.0, 3.0010666666666665, 4.2241333333333335, 30.992866666666668, 0.07931111111111111, 0.019455555555555556, 1.2171333333333334, 0.33486666666666665, 101.15391111111111, 3.0261444444444443, 4.302277777777777, 1.875488888888889, 50.65306666666667, 13.562133333333334, 17.997622222222223, 82.27183333333333, 327.8867333333333, 81.56935555555556, 0.24085555555555554, 12.087577777777778, 588.3680777777778, 155.01383333333334, 0.0, 70.16545555555555, 79.2753, 145.04325555555556, 77.40152222222223, 0.0, 1115.3528777777778, 2.9119555555555556, 0.0305, 0.04121111111111111, 0.06824444444444444, 1.2825444444444445, 1.085088888888889, 331.3867333333333, 13.262511111111111, 34.36687777777778, 0.12727777777777777, 2.3271333333333333, 74.32003333333333], \"sizemode\": \"area\"}, \"name\": \"161 - 241\", \"text\": [\"Italy<br>Confirmed Cases 41.931782\", \"Jamaica<br>Confirmed Cases 0.188504\", \"Japan<br>Confirmed Cases 5.43393\", \"Jordan<br>Confirmed Cases 0.216294\", \"Kazakhstan<br>Confirmed Cases 8.276923\", \"Kenya<br>Confirmed Cases 2.233708\", \"Korea, South<br>Confirmed Cases 2.694333\", \"Kosovo<br>Confirmed Cases 0.883453\", \"Kuwait<br>Confirmed Cases 7.807018\", \"Kuwait<br>Confirmed Cases 0.0\", \"Kyrgyzstan<br>Confirmed Cases 2.996619\", \"Laos<br>Confirmed Cases 0.0\", \"Laos<br>Confirmed Cases 0.003461\", \"Latvia<br>Confirmed Cases 0.196241\", \"Lebanon<br>Confirmed Cases 1.00875\", \"Lesotho<br>Confirmed Cases 0.064228\", \"Liberia<br>Confirmed Cases 0.124627\", \"Libya<br>Confirmed Cases 0.814841\", \"Liechtenstein<br>Confirmed Cases 0.01607\", \"Lithuania<br>Confirmed Cases 0.34561\", \"Luxembourg<br>Confirmed Cases 0.912234\", \"MS Zaandam<br>Confirmed Cases 0.001583\", \"Madagascar<br>Confirmed Cases 1.013522\", \"Madagascar<br>Confirmed Cases 0.0\", \"Malawi<br>Confirmed Cases 0.384561\", \"Malaysia<br>Confirmed Cases 0.0\", \"Malaysia<br>Confirmed Cases 1.412311\", \"Maldives<br>Confirmed Cases 0.569147\", \"Mali<br>Confirmed Cases 0.307424\", \"Malta<br>Confirmed Cases 0.163387\", \"Mauritania<br>Confirmed Cases 0.611843\", \"Mauritius<br>Confirmed Cases 0.05952\", \"Mauritius<br>Confirmed Cases 0.0\", \"Mexico<br>Confirmed Cases 47.197134\", \"Moldova<br>Confirmed Cases 3.133765\", \"Monaco<br>Confirmed Cases 0.020591\", \"Mongolia<br>Confirmed Cases 0.034198\", \"Montenegro<br>Confirmed Cases 0.35451\", \"Morocco<br>Confirmed Cases 4.256606\", \"Mozambique<br>Confirmed Cases 0.0\", \"Mozambique<br>Confirmed Cases 0.270096\", \"Namibia<br>Confirmed Cases 0.380172\", \"Nepal<br>Confirmed Cases 2.789358\", \"Netherlands<br>Confirmed Cases 0.007138\", \"Netherlands<br>Confirmed Cases 0.001751\", \"Netherlands<br>Confirmed Cases 0.109542\", \"Netherlands<br>Confirmed Cases 0.030138\", \"Netherlands<br>Confirmed Cases 9.103852\", \"New Zealand<br>Confirmed Cases 0.272353\", \"Nicaragua<br>Confirmed Cases 0.387205\", \"Niger<br>Confirmed Cases 0.168794\", \"Nigeria<br>Confirmed Cases 4.558776\", \"North Macedonia<br>Confirmed Cases 1.220592\", \"Norway<br>Confirmed Cases 1.619786\", \"Oman<br>Confirmed Cases 7.404465\", \"Pakistan<br>Confirmed Cases 29.509806\", \"Panama<br>Confirmed Cases 7.341242\", \"Papua New Guinea<br>Confirmed Cases 0.021677\", \"Paraguay<br>Confirmed Cases 1.087882\", \"Peru<br>Confirmed Cases 52.953127\", \"Philippines<br>Confirmed Cases 13.951245\", \"Philippines<br>Confirmed Cases 0.0\", \"Poland<br>Confirmed Cases 6.314891\", \"Portugal<br>Confirmed Cases 7.134777\", \"Qatar<br>Confirmed Cases 13.053893\", \"Romania<br>Confirmed Cases 6.966137\", \"Russia<br>Confirmed Cases 0.0\", \"Russia<br>Confirmed Cases 100.381759\", \"Rwanda<br>Confirmed Cases 0.262076\", \"Saint Kitts and Nevis<br>Confirmed Cases 0.002745\", \"Saint Lucia<br>Confirmed Cases 0.003709\", \"Saint Vincent and the Grenadines<br>Confirmed Cases 0.006142\", \"San Marino<br>Confirmed Cases 0.115429\", \"Sao Tome and Principe<br>Confirmed Cases 0.097658\", \"Saudi Arabia<br>Confirmed Cases 29.824806\", \"Senegal<br>Confirmed Cases 1.193626\", \"Serbia<br>Confirmed Cases 3.093019\", \"Seychelles<br>Confirmed Cases 0.011455\", \"Sierra Leone<br>Confirmed Cases 0.209442\", \"Singapore<br>Confirmed Cases 6.688803\"], \"type\": \"scattergeo\"}, {\"lat\": [46.1512, 5.152149, -30.5595, 6.877000000000002, 6.8770000000000024, 40.463667, 40.463667, 7.873054, 12.8628, 3.9193, 60.128161, 46.8182, 34.802075, 34.8021, 23.7, 38.861, -6.369028, 15.870032, -8.874217, -8.8742, 8.6195, 10.6918, 33.886917, 38.9637, 40.0, 1.373333, 48.3794, 23.424076, 23.424076, -51.7963, 16.742498, 16.742498, 18.2206, 18.4207, 19.3133, 21.69400000000001, 32.3078, 36.1408, 49.3723, 54.2361, 55.3781, -32.5228, 41.377491, 6.4238, 14.058323999999999, 14.058324, 31.9522, 24.2155, 15.552726999999999, 15.552727, -13.133897, -19.015438], \"lon\": [14.9955, 46.199616, 22.9375, 31.307, 31.307, -3.74922, -3.7492199999999998, 80.77179699999998, 30.2176, -56.0278, 18.643501, 8.2275, 38.99681500000001, 38.9968, 121.0, 71.2761, 34.888822, 100.992541, 125.727539, 125.7275, 0.8248, -61.2225, 9.537499, 35.2433, -100.0, 32.290275, 31.1656, 53.847818, 53.847818000000004, -59.5236, -62.187366000000004, -62.187366, -63.0686, -64.64, -81.2546, -71.7979, -64.7505, -5.3536, -2.3644, -4.5481, -3.4360000000000004, -55.7658, 64.585262, -66.5897, 108.277199, 108.277199, 35.2332, -12.8858, 48.516388, 48.516388, 27.849332, 29.154857], \"marker\": {\"color\": \"orange\", \"line\": {\"color\": \"rgb(40,40,40)\", \"width\": 0.1}, \"size\": [3.8956222222222223, 4.3845, 502.84433333333334, 0.0, 2.9073555555555557, 0.0, 580.1109333333334, 3.7619555555555557, 14.57841111111111, 2.551633333333333, 107.68127777777778, 67.18116666666667, 1.6913777777777779, 0.0, 0.9262777777777778, 9.553255555555555, 0.8704444444444445, 6.228166666666667, 0.04404444444444444, 0.0, 1.3477666666666666, 1.1239222222222223, 3.953088888888889, 365.80444444444447, 6117.7499, 2.422022222222222, 109.45148888888889, 0.0, 84.79747777777777, 0.0236, 0.022722222222222224, 0.0, 0.005911111111111111, 0.03048888888888889, 0.3063666666666667, 0.2932666666666667, 0.26782222222222224, 0.3761555555555556, 1.0944444444444446, 0.6229, 507.93907777777775, 2.0378, 31.845855555555556, 31.08887777777778, 1.0446666666666666, 0.0, 16.176255555555556, 0.016344444444444446, 1.9527, 0.0, 8.179844444444445, 4.302722222222222], \"sizemode\": \"area\"}, \"name\": \"242 - 321\", \"text\": [\"Slovenia<br>Confirmed Cases 0.350606\", \"Somalia<br>Confirmed Cases 0.394605\", \"South Africa<br>Confirmed Cases 45.25599\", \"South Sudan<br>Confirmed Cases 0.0\", \"South Sudan<br>Confirmed Cases 0.261662\", \"Spain<br>Confirmed Cases 0.0\", \"Spain<br>Confirmed Cases 52.209984\", \"Sri Lanka<br>Confirmed Cases 0.338576\", \"Sudan<br>Confirmed Cases 1.312057\", \"Suriname<br>Confirmed Cases 0.229647\", \"Sweden<br>Confirmed Cases 9.691315\", \"Switzerland<br>Confirmed Cases 6.046305\", \"Syria<br>Confirmed Cases 0.152224\", \"Syria<br>Confirmed Cases 0.0\", \"Taiwan*<br>Confirmed Cases 0.083365\", \"Tajikistan<br>Confirmed Cases 0.859793\", \"Tanzania<br>Confirmed Cases 0.07834\", \"Thailand<br>Confirmed Cases 0.560535\", \"Timor-Leste<br>Confirmed Cases 0.003964\", \"Timor-Leste<br>Confirmed Cases 0.0\", \"Togo<br>Confirmed Cases 0.121299\", \"Trinidad and Tobago<br>Confirmed Cases 0.101153\", \"Tunisia<br>Confirmed Cases 0.355778\", \"Turkey<br>Confirmed Cases 32.9224\", \"US<br>Confirmed Cases 550.597491\", \"Uganda<br>Confirmed Cases 0.217982\", \"Ukraine<br>Confirmed Cases 9.850634\", \"United Arab Emirates<br>Confirmed Cases 0.0\", \"United Arab Emirates<br>Confirmed Cases 7.631773\", \"United Kingdom<br>Confirmed Cases 0.002124\", \"United Kingdom<br>Confirmed Cases 0.002045\", \"United Kingdom<br>Confirmed Cases 0.0\", \"United Kingdom<br>Confirmed Cases 0.000532\", \"United Kingdom<br>Confirmed Cases 0.002744\", \"United Kingdom<br>Confirmed Cases 0.027573\", \"United Kingdom<br>Confirmed Cases 0.026394\", \"United Kingdom<br>Confirmed Cases 0.024104\", \"United Kingdom<br>Confirmed Cases 0.033854\", \"United Kingdom<br>Confirmed Cases 0.0985\", \"United Kingdom<br>Confirmed Cases 0.056061\", \"United Kingdom<br>Confirmed Cases 45.714517\", \"Uruguay<br>Confirmed Cases 0.183402\", \"Uzbekistan<br>Confirmed Cases 2.866127\", \"Venezuela<br>Confirmed Cases 2.797999\", \"Vietnam<br>Confirmed Cases 0.09402\", \"Vietnam<br>Confirmed Cases 0.0\", \"West Bank and Gaza<br>Confirmed Cases 1.455863\", \"Western Sahara<br>Confirmed Cases 0.001471\", \"Yemen<br>Confirmed Cases 0.175743\", \"Yemen<br>Confirmed Cases 0.0\", \"Zambia<br>Confirmed Cases 0.736186\", \"Zimbabwe<br>Confirmed Cases 0.387245\"], \"type\": \"scattergeo\"}, {\"lat\": [], \"lon\": [], \"marker\": {\"color\": \"red\", \"line\": {\"color\": \"rgb(40,40,40)\", \"width\": 0.1}, \"size\": [], \"sizemode\": \"area\"}, \"name\": \"322 - 401\", \"text\": [], \"type\": \"scattergeo\"}, {\"lat\": [], \"lon\": [], \"marker\": {\"color\": \"white\", \"line\": {\"color\": \"rgb(40,40,40)\", \"width\": 0.1}, \"size\": [], \"sizemode\": \"area\"}, \"name\": \"402 - 481\", \"text\": [], \"type\": \"scattergeo\"}, {\"lat\": [], \"lon\": [], \"marker\": {\"color\": \"black\", \"line\": {\"color\": \"rgb(40,40,40)\", \"width\": 0.1}, \"size\": [], \"sizemode\": \"area\"}, \"name\": \"482 - 561\", \"text\": [], \"type\": \"scattergeo\"}],\n",
       "                        {\"geo\": {\"landcolor\": \"rgb(217, 217, 217)\", \"scope\": \"asia\"}, \"showlegend\": true, \"template\": {\"data\": {\"bar\": [{\"error_x\": {\"color\": \"#2a3f5f\"}, \"error_y\": {\"color\": \"#2a3f5f\"}, \"marker\": {\"line\": {\"color\": \"#E5ECF6\", \"width\": 0.5}}, \"type\": \"bar\"}], \"barpolar\": [{\"marker\": {\"line\": {\"color\": \"#E5ECF6\", \"width\": 0.5}}, \"type\": \"barpolar\"}], \"carpet\": [{\"aaxis\": {\"endlinecolor\": \"#2a3f5f\", \"gridcolor\": \"white\", \"linecolor\": \"white\", \"minorgridcolor\": \"white\", \"startlinecolor\": \"#2a3f5f\"}, \"baxis\": {\"endlinecolor\": \"#2a3f5f\", \"gridcolor\": \"white\", \"linecolor\": \"white\", \"minorgridcolor\": \"white\", \"startlinecolor\": \"#2a3f5f\"}, \"type\": \"carpet\"}], \"choropleth\": [{\"colorbar\": {\"outlinewidth\": 0, \"ticks\": \"\"}, \"type\": \"choropleth\"}], \"contour\": [{\"colorbar\": {\"outlinewidth\": 0, \"ticks\": \"\"}, \"colorscale\": [[0.0, \"#0d0887\"], [0.1111111111111111, \"#46039f\"], [0.2222222222222222, \"#7201a8\"], [0.3333333333333333, \"#9c179e\"], [0.4444444444444444, \"#bd3786\"], [0.5555555555555556, \"#d8576b\"], [0.6666666666666666, \"#ed7953\"], [0.7777777777777778, \"#fb9f3a\"], [0.8888888888888888, \"#fdca26\"], [1.0, \"#f0f921\"]], \"type\": \"contour\"}], \"contourcarpet\": [{\"colorbar\": {\"outlinewidth\": 0, \"ticks\": \"\"}, \"type\": \"contourcarpet\"}], \"heatmap\": [{\"colorbar\": {\"outlinewidth\": 0, \"ticks\": \"\"}, \"colorscale\": [[0.0, \"#0d0887\"], [0.1111111111111111, \"#46039f\"], [0.2222222222222222, \"#7201a8\"], [0.3333333333333333, \"#9c179e\"], [0.4444444444444444, \"#bd3786\"], [0.5555555555555556, \"#d8576b\"], [0.6666666666666666, \"#ed7953\"], [0.7777777777777778, \"#fb9f3a\"], [0.8888888888888888, \"#fdca26\"], [1.0, \"#f0f921\"]], \"type\": \"heatmap\"}], \"heatmapgl\": [{\"colorbar\": {\"outlinewidth\": 0, \"ticks\": \"\"}, \"colorscale\": [[0.0, \"#0d0887\"], [0.1111111111111111, \"#46039f\"], [0.2222222222222222, \"#7201a8\"], [0.3333333333333333, \"#9c179e\"], [0.4444444444444444, \"#bd3786\"], [0.5555555555555556, \"#d8576b\"], [0.6666666666666666, \"#ed7953\"], [0.7777777777777778, \"#fb9f3a\"], [0.8888888888888888, \"#fdca26\"], [1.0, \"#f0f921\"]], \"type\": \"heatmapgl\"}], \"histogram\": [{\"marker\": {\"colorbar\": {\"outlinewidth\": 0, \"ticks\": \"\"}}, \"type\": \"histogram\"}], \"histogram2d\": [{\"colorbar\": {\"outlinewidth\": 0, \"ticks\": \"\"}, \"colorscale\": [[0.0, \"#0d0887\"], [0.1111111111111111, \"#46039f\"], [0.2222222222222222, \"#7201a8\"], [0.3333333333333333, \"#9c179e\"], [0.4444444444444444, \"#bd3786\"], [0.5555555555555556, \"#d8576b\"], [0.6666666666666666, \"#ed7953\"], [0.7777777777777778, \"#fb9f3a\"], [0.8888888888888888, \"#fdca26\"], [1.0, \"#f0f921\"]], \"type\": \"histogram2d\"}], \"histogram2dcontour\": [{\"colorbar\": {\"outlinewidth\": 0, \"ticks\": \"\"}, \"colorscale\": [[0.0, \"#0d0887\"], [0.1111111111111111, \"#46039f\"], [0.2222222222222222, \"#7201a8\"], [0.3333333333333333, \"#9c179e\"], [0.4444444444444444, \"#bd3786\"], [0.5555555555555556, \"#d8576b\"], [0.6666666666666666, \"#ed7953\"], [0.7777777777777778, \"#fb9f3a\"], [0.8888888888888888, \"#fdca26\"], [1.0, \"#f0f921\"]], \"type\": \"histogram2dcontour\"}], \"mesh3d\": [{\"colorbar\": {\"outlinewidth\": 0, \"ticks\": \"\"}, \"type\": \"mesh3d\"}], \"parcoords\": [{\"line\": {\"colorbar\": {\"outlinewidth\": 0, \"ticks\": \"\"}}, \"type\": \"parcoords\"}], \"pie\": [{\"automargin\": true, \"type\": \"pie\"}], \"scatter\": [{\"marker\": {\"colorbar\": {\"outlinewidth\": 0, \"ticks\": \"\"}}, \"type\": \"scatter\"}], \"scatter3d\": [{\"line\": {\"colorbar\": {\"outlinewidth\": 0, \"ticks\": \"\"}}, \"marker\": {\"colorbar\": {\"outlinewidth\": 0, \"ticks\": \"\"}}, \"type\": \"scatter3d\"}], \"scattercarpet\": [{\"marker\": {\"colorbar\": {\"outlinewidth\": 0, \"ticks\": \"\"}}, \"type\": \"scattercarpet\"}], \"scattergeo\": [{\"marker\": {\"colorbar\": {\"outlinewidth\": 0, \"ticks\": \"\"}}, \"type\": \"scattergeo\"}], \"scattergl\": [{\"marker\": {\"colorbar\": {\"outlinewidth\": 0, \"ticks\": \"\"}}, \"type\": \"scattergl\"}], \"scattermapbox\": [{\"marker\": {\"colorbar\": {\"outlinewidth\": 0, \"ticks\": \"\"}}, \"type\": \"scattermapbox\"}], \"scatterpolar\": [{\"marker\": {\"colorbar\": {\"outlinewidth\": 0, \"ticks\": \"\"}}, \"type\": \"scatterpolar\"}], \"scatterpolargl\": [{\"marker\": {\"colorbar\": {\"outlinewidth\": 0, \"ticks\": \"\"}}, \"type\": \"scatterpolargl\"}], \"scatterternary\": [{\"marker\": {\"colorbar\": {\"outlinewidth\": 0, \"ticks\": \"\"}}, \"type\": \"scatterternary\"}], \"surface\": [{\"colorbar\": {\"outlinewidth\": 0, \"ticks\": \"\"}, \"colorscale\": [[0.0, \"#0d0887\"], [0.1111111111111111, \"#46039f\"], [0.2222222222222222, \"#7201a8\"], [0.3333333333333333, \"#9c179e\"], [0.4444444444444444, \"#bd3786\"], [0.5555555555555556, \"#d8576b\"], [0.6666666666666666, \"#ed7953\"], [0.7777777777777778, \"#fb9f3a\"], [0.8888888888888888, \"#fdca26\"], [1.0, \"#f0f921\"]], \"type\": \"surface\"}], \"table\": [{\"cells\": {\"fill\": {\"color\": \"#EBF0F8\"}, \"line\": {\"color\": \"white\"}}, \"header\": {\"fill\": {\"color\": \"#C8D4E3\"}, \"line\": {\"color\": \"white\"}}, \"type\": \"table\"}]}, \"layout\": {\"annotationdefaults\": {\"arrowcolor\": \"#2a3f5f\", \"arrowhead\": 0, \"arrowwidth\": 1}, \"coloraxis\": {\"colorbar\": {\"outlinewidth\": 0, \"ticks\": \"\"}}, \"colorscale\": {\"diverging\": [[0, \"#8e0152\"], [0.1, \"#c51b7d\"], [0.2, \"#de77ae\"], [0.3, \"#f1b6da\"], [0.4, \"#fde0ef\"], [0.5, \"#f7f7f7\"], [0.6, \"#e6f5d0\"], [0.7, \"#b8e186\"], [0.8, \"#7fbc41\"], [0.9, \"#4d9221\"], [1, \"#276419\"]], \"sequential\": [[0.0, \"#0d0887\"], [0.1111111111111111, \"#46039f\"], [0.2222222222222222, \"#7201a8\"], [0.3333333333333333, \"#9c179e\"], [0.4444444444444444, \"#bd3786\"], [0.5555555555555556, \"#d8576b\"], [0.6666666666666666, \"#ed7953\"], [0.7777777777777778, \"#fb9f3a\"], [0.8888888888888888, \"#fdca26\"], [1.0, \"#f0f921\"]], \"sequentialminus\": [[0.0, \"#0d0887\"], [0.1111111111111111, \"#46039f\"], [0.2222222222222222, \"#7201a8\"], [0.3333333333333333, \"#9c179e\"], [0.4444444444444444, \"#bd3786\"], [0.5555555555555556, \"#d8576b\"], [0.6666666666666666, \"#ed7953\"], [0.7777777777777778, \"#fb9f3a\"], [0.8888888888888888, \"#fdca26\"], [1.0, \"#f0f921\"]]}, \"colorway\": [\"#636efa\", \"#EF553B\", \"#00cc96\", \"#ab63fa\", \"#FFA15A\", \"#19d3f3\", \"#FF6692\", \"#B6E880\", \"#FF97FF\", \"#FECB52\"], \"font\": {\"color\": \"#2a3f5f\"}, \"geo\": {\"bgcolor\": \"white\", \"lakecolor\": \"white\", \"landcolor\": \"#E5ECF6\", \"showlakes\": true, \"showland\": true, \"subunitcolor\": \"white\"}, \"hoverlabel\": {\"align\": \"left\"}, \"hovermode\": \"closest\", \"mapbox\": {\"style\": \"light\"}, \"paper_bgcolor\": \"white\", \"plot_bgcolor\": \"#E5ECF6\", \"polar\": {\"angularaxis\": {\"gridcolor\": \"white\", \"linecolor\": \"white\", \"ticks\": \"\"}, \"bgcolor\": \"#E5ECF6\", \"radialaxis\": {\"gridcolor\": \"white\", \"linecolor\": \"white\", \"ticks\": \"\"}}, \"scene\": {\"xaxis\": {\"backgroundcolor\": \"#E5ECF6\", \"gridcolor\": \"white\", \"gridwidth\": 2, \"linecolor\": \"white\", \"showbackground\": true, \"ticks\": \"\", \"zerolinecolor\": \"white\"}, \"yaxis\": {\"backgroundcolor\": \"#E5ECF6\", \"gridcolor\": \"white\", \"gridwidth\": 2, \"linecolor\": \"white\", \"showbackground\": true, \"ticks\": \"\", \"zerolinecolor\": \"white\"}, \"zaxis\": {\"backgroundcolor\": \"#E5ECF6\", \"gridcolor\": \"white\", \"gridwidth\": 2, \"linecolor\": \"white\", \"showbackground\": true, \"ticks\": \"\", \"zerolinecolor\": \"white\"}}, \"shapedefaults\": {\"line\": {\"color\": \"#2a3f5f\"}}, \"ternary\": {\"aaxis\": {\"gridcolor\": \"white\", \"linecolor\": \"white\", \"ticks\": \"\"}, \"baxis\": {\"gridcolor\": \"white\", \"linecolor\": \"white\", \"ticks\": \"\"}, \"bgcolor\": \"#E5ECF6\", \"caxis\": {\"gridcolor\": \"white\", \"linecolor\": \"white\", \"ticks\": \"\"}}, \"title\": {\"x\": 0.05}, \"xaxis\": {\"automargin\": true, \"gridcolor\": \"white\", \"linecolor\": \"white\", \"ticks\": \"\", \"title\": {\"standoff\": 15}, \"zerolinecolor\": \"white\", \"zerolinewidth\": 2}, \"yaxis\": {\"automargin\": true, \"gridcolor\": \"white\", \"linecolor\": \"white\", \"ticks\": \"\", \"title\": {\"standoff\": 15}, \"zerolinecolor\": \"white\", \"zerolinewidth\": 2}}}, \"title\": {\"text\": \"Confirmed Cases)\"}},\n",
       "                        {\"responsive\": true}\n",
       "                    ).then(function(){\n",
       "                            \n",
       "var gd = document.getElementById('a4b55009-b775-471c-943b-0490c40f17fb');\n",
       "var x = new MutationObserver(function (mutations, observer) {{\n",
       "        var display = window.getComputedStyle(gd).display;\n",
       "        if (!display || display === 'none') {{\n",
       "            console.log([gd, 'removed!']);\n",
       "            Plotly.purge(gd);\n",
       "            observer.disconnect();\n",
       "        }}\n",
       "}});\n",
       "\n",
       "// Listen for the removal of the full notebook cells\n",
       "var notebookContainer = gd.closest('#notebook-container');\n",
       "if (notebookContainer) {{\n",
       "    x.observe(notebookContainer, {childList: true});\n",
       "}}\n",
       "\n",
       "// Listen for the clearing of the current output cell\n",
       "var outputEl = gd.closest('.output');\n",
       "if (outputEl) {{\n",
       "    x.observe(outputEl, {childList: true});\n",
       "}}\n",
       "\n",
       "                        })\n",
       "                };\n",
       "                });\n",
       "            </script>\n",
       "        </div>"
      ]
     },
     "metadata": {},
     "output_type": "display_data"
    }
   ],
   "source": [
    "import plotly.graph_objects as go\n",
    "df['text'] = df['Country'] +'<br>Confirmed Cases '+ (df['Confirmed']/1e6).astype(str)\n",
    "limits = [(0,80),(81,161),(161,241),(242,321),(322,401), (402,481), (482,561)]\n",
    "colors = [\"royalblue\",\"green\",\"blue\",\"orange\",\"red\", \"white\", \"black\"]\n",
    "cities = []\n",
    "scale = 90000\n",
    "\n",
    "fig = go.Figure()\n",
    "\n",
    "for i in range(len(limits)):\n",
    "    lim = limits[i]\n",
    "    df_sub = df[lim[0]:lim[1]]\n",
    "    fig.add_trace(go.Scattergeo(\n",
    "        lon = df_sub['Long'],\n",
    "        lat = df_sub['Lat'],\n",
    "        text = df_sub['text'],\n",
    "        marker = dict(\n",
    "            size = df_sub['Confirmed']/scale,\n",
    "            color = colors[i],\n",
    "            line_color='rgb(40,40,40)',\n",
    "            line_width=0.1,\n",
    "            sizemode = 'area'\n",
    "        ),\n",
    "        name = '{0} - {1}'.format(lim[0],lim[1])))\n",
    "\n",
    "fig.update_layout(\n",
    "        title_text = 'Confirmed Cases)',\n",
    "        showlegend = True,\n",
    "        geo = dict(\n",
    "            scope = 'asia',\n",
    "            landcolor = 'rgb(217, 217, 217)',\n",
    "        )\n",
    "    )\n",
    "\n",
    "fig.show()"
   ]
  },
  {
   "cell_type": "code",
   "execution_count": 24,
   "metadata": {},
   "outputs": [],
   "source": [
    "def read_data():\n",
    "    URL = \"https://raw.githubusercontent.com/CSSEGISandData/COVID-19/master/csse_covid_19_data/csse_covid_19_time_series\" \n",
    "    url_1 = f\"{URL}/time_series_covid19_confirmed_global.csv\"\n",
    "    url_2 = f\"{URL}/time_series_covid19_deaths_global.csv\"\n",
    "    url_3 = f\"{URL}/time_series_covid19_recovered_global.csv\"\n",
    "    \n",
    "    confirmed = pd.read_csv(url_1)\n",
    "    deaths = pd.read_csv(url_2)\n",
    "    recovered = pd.read_csv(url_3)\n",
    "    \n",
    "    return (confirmed, deaths, recovered)"
   ]
  },
  {
   "cell_type": "code",
   "execution_count": 25,
   "metadata": {},
   "outputs": [
    {
     "name": "stdout",
     "output_type": "stream",
     "text": [
      "<class 'pandas.core.frame.DataFrame'>\n",
      "RangeIndex: 266 entries, 0 to 265\n",
      "Columns: 249 entries, Province/State to 9/22/20\n",
      "dtypes: float64(2), int64(245), object(2)\n",
      "memory usage: 517.6+ KB\n"
     ]
    }
   ],
   "source": [
    "confirmed, deaths, recovered = read_data()\n",
    "confirmed.info()"
   ]
  },
  {
   "cell_type": "code",
   "execution_count": 26,
   "metadata": {},
   "outputs": [],
   "source": [
    "confirmed['Country/Region'].replace('Mainland China', 'China', inplace=True)\n",
    "deaths['Country/Region'].replace('Mainland China', 'China', inplace=True)\n",
    "recovered['Country/Region'].replace('Mainland China', 'China', inplace=True)"
   ]
  },
  {
   "cell_type": "code",
   "execution_count": 27,
   "metadata": {},
   "outputs": [
    {
     "data": {
      "text/plain": [
       "31517087"
      ]
     },
     "execution_count": 27,
     "metadata": {},
     "output_type": "execute_result"
    }
   ],
   "source": [
    "confirmed.iloc[:, 4:].sum().max()"
   ]
  },
  {
   "cell_type": "code",
   "execution_count": 28,
   "metadata": {},
   "outputs": [],
   "source": [
    "#Snapshot as of today.\n",
    "#Start by aggregating all the cases to see a snapshot for the world.\n",
    "covid_confirmed_count = confirmed.iloc[:, 4:].sum().max()\n",
    "covid_deaths_count = deaths.iloc[:, 4:].sum().max()\n",
    "covid_recovered_count = recovered.iloc[:, 4:].sum().max()"
   ]
  },
  {
   "cell_type": "code",
   "execution_count": 29,
   "metadata": {},
   "outputs": [
    {
     "name": "stdout",
     "output_type": "stream",
     "text": [
      "Total confirmed, dead, and recovered numbers in the world, respectively:  31517087 969541 21624434\n"
     ]
    }
   ],
   "source": [
    "print('Total confirmed, dead, and recovered numbers in the world, respectively: ', \n",
    "     covid_confirmed_count, covid_deaths_count, covid_recovered_count)"
   ]
  },
  {
   "cell_type": "code",
   "execution_count": 30,
   "metadata": {},
   "outputs": [
    {
     "data": {
      "text/html": [
       "<div>\n",
       "<style scoped>\n",
       "    .dataframe tbody tr th:only-of-type {\n",
       "        vertical-align: middle;\n",
       "    }\n",
       "\n",
       "    .dataframe tbody tr th {\n",
       "        vertical-align: top;\n",
       "    }\n",
       "\n",
       "    .dataframe thead th {\n",
       "        text-align: right;\n",
       "    }\n",
       "</style>\n",
       "<table border=\"1\" class=\"dataframe\">\n",
       "  <thead>\n",
       "    <tr style=\"text-align: right;\">\n",
       "      <th></th>\n",
       "      <th>confirmed</th>\n",
       "      <th>deaths</th>\n",
       "      <th>recovered</th>\n",
       "    </tr>\n",
       "  </thead>\n",
       "  <tbody>\n",
       "    <tr>\n",
       "      <th>0</th>\n",
       "      <td>31517087</td>\n",
       "      <td>969541</td>\n",
       "      <td>21624434</td>\n",
       "    </tr>\n",
       "  </tbody>\n",
       "</table>\n",
       "</div>"
      ],
      "text/plain": [
       "   confirmed  deaths  recovered\n",
       "0   31517087  969541   21624434"
      ]
     },
     "execution_count": 30,
     "metadata": {},
     "output_type": "execute_result"
    }
   ],
   "source": [
    "world_df = pd.DataFrame({\n",
    "    'confirmed': [covid_confirmed_count],\n",
    "    'deaths': [covid_deaths_count],\n",
    "    'recovered': [covid_recovered_count]\n",
    "})\n",
    "\n",
    "world_df"
   ]
  },
  {
   "cell_type": "code",
   "execution_count": 31,
   "metadata": {},
   "outputs": [
    {
     "data": {
      "text/html": [
       "<div>\n",
       "<style scoped>\n",
       "    .dataframe tbody tr th:only-of-type {\n",
       "        vertical-align: middle;\n",
       "    }\n",
       "\n",
       "    .dataframe tbody tr th {\n",
       "        vertical-align: top;\n",
       "    }\n",
       "\n",
       "    .dataframe thead th {\n",
       "        text-align: right;\n",
       "    }\n",
       "</style>\n",
       "<table border=\"1\" class=\"dataframe\">\n",
       "  <thead>\n",
       "    <tr style=\"text-align: right;\">\n",
       "      <th></th>\n",
       "      <th>status</th>\n",
       "      <th>count</th>\n",
       "    </tr>\n",
       "  </thead>\n",
       "  <tbody>\n",
       "    <tr>\n",
       "      <th>0</th>\n",
       "      <td>confirmed</td>\n",
       "      <td>31517087</td>\n",
       "    </tr>\n",
       "    <tr>\n",
       "      <th>1</th>\n",
       "      <td>deaths</td>\n",
       "      <td>969541</td>\n",
       "    </tr>\n",
       "    <tr>\n",
       "      <th>2</th>\n",
       "      <td>recovered</td>\n",
       "      <td>21624434</td>\n",
       "    </tr>\n",
       "  </tbody>\n",
       "</table>\n",
       "</div>"
      ],
      "text/plain": [
       "      status     count\n",
       "0  confirmed  31517087\n",
       "1     deaths    969541\n",
       "2  recovered  21624434"
      ]
     },
     "execution_count": 31,
     "metadata": {},
     "output_type": "execute_result"
    }
   ],
   "source": [
    "#Unpivot the DataFrame from wide to long format\n",
    "world_long_df = world_df.melt(value_vars=['confirmed', 'deaths', 'recovered'],\n",
    "                              var_name=\"status\",\n",
    "                              value_name=\"count\")\n",
    "world_long_df"
   ]
  },
  {
   "cell_type": "code",
   "execution_count": 32,
   "metadata": {},
   "outputs": [
    {
     "data": {
      "application/vnd.plotly.v1+json": {
       "config": {
        "plotlyServerURL": "https://plot.ly"
       },
       "data": [
        {
         "branchvalues": "total",
         "domain": {
          "x": [
           0,
           1
          ],
          "y": [
           0,
           1
          ]
         },
         "hovertemplate": "labels=%{label}<br>count=%{value}<br>parent=%{parent}<br>id=%{id}<extra></extra>",
         "ids": [
          "confirmed",
          "deaths",
          "recovered"
         ],
         "labels": [
          "confirmed",
          "deaths",
          "recovered"
         ],
         "name": "",
         "parents": [
          "",
          "",
          ""
         ],
         "type": "treemap",
         "values": [
          31517087,
          969541,
          21624434
         ]
        }
       ],
       "layout": {
        "legend": {
         "tracegroupgap": 0
        },
        "margin": {
         "t": 60
        },
        "template": {
         "data": {
          "bar": [
           {
            "error_x": {
             "color": "#f2f5fa"
            },
            "error_y": {
             "color": "#f2f5fa"
            },
            "marker": {
             "line": {
              "color": "rgb(17,17,17)",
              "width": 0.5
             }
            },
            "type": "bar"
           }
          ],
          "barpolar": [
           {
            "marker": {
             "line": {
              "color": "rgb(17,17,17)",
              "width": 0.5
             }
            },
            "type": "barpolar"
           }
          ],
          "carpet": [
           {
            "aaxis": {
             "endlinecolor": "#A2B1C6",
             "gridcolor": "#506784",
             "linecolor": "#506784",
             "minorgridcolor": "#506784",
             "startlinecolor": "#A2B1C6"
            },
            "baxis": {
             "endlinecolor": "#A2B1C6",
             "gridcolor": "#506784",
             "linecolor": "#506784",
             "minorgridcolor": "#506784",
             "startlinecolor": "#A2B1C6"
            },
            "type": "carpet"
           }
          ],
          "choropleth": [
           {
            "colorbar": {
             "outlinewidth": 0,
             "ticks": ""
            },
            "type": "choropleth"
           }
          ],
          "contour": [
           {
            "colorbar": {
             "outlinewidth": 0,
             "ticks": ""
            },
            "colorscale": [
             [
              0,
              "#0d0887"
             ],
             [
              0.1111111111111111,
              "#46039f"
             ],
             [
              0.2222222222222222,
              "#7201a8"
             ],
             [
              0.3333333333333333,
              "#9c179e"
             ],
             [
              0.4444444444444444,
              "#bd3786"
             ],
             [
              0.5555555555555556,
              "#d8576b"
             ],
             [
              0.6666666666666666,
              "#ed7953"
             ],
             [
              0.7777777777777778,
              "#fb9f3a"
             ],
             [
              0.8888888888888888,
              "#fdca26"
             ],
             [
              1,
              "#f0f921"
             ]
            ],
            "type": "contour"
           }
          ],
          "contourcarpet": [
           {
            "colorbar": {
             "outlinewidth": 0,
             "ticks": ""
            },
            "type": "contourcarpet"
           }
          ],
          "heatmap": [
           {
            "colorbar": {
             "outlinewidth": 0,
             "ticks": ""
            },
            "colorscale": [
             [
              0,
              "#0d0887"
             ],
             [
              0.1111111111111111,
              "#46039f"
             ],
             [
              0.2222222222222222,
              "#7201a8"
             ],
             [
              0.3333333333333333,
              "#9c179e"
             ],
             [
              0.4444444444444444,
              "#bd3786"
             ],
             [
              0.5555555555555556,
              "#d8576b"
             ],
             [
              0.6666666666666666,
              "#ed7953"
             ],
             [
              0.7777777777777778,
              "#fb9f3a"
             ],
             [
              0.8888888888888888,
              "#fdca26"
             ],
             [
              1,
              "#f0f921"
             ]
            ],
            "type": "heatmap"
           }
          ],
          "heatmapgl": [
           {
            "colorbar": {
             "outlinewidth": 0,
             "ticks": ""
            },
            "colorscale": [
             [
              0,
              "#0d0887"
             ],
             [
              0.1111111111111111,
              "#46039f"
             ],
             [
              0.2222222222222222,
              "#7201a8"
             ],
             [
              0.3333333333333333,
              "#9c179e"
             ],
             [
              0.4444444444444444,
              "#bd3786"
             ],
             [
              0.5555555555555556,
              "#d8576b"
             ],
             [
              0.6666666666666666,
              "#ed7953"
             ],
             [
              0.7777777777777778,
              "#fb9f3a"
             ],
             [
              0.8888888888888888,
              "#fdca26"
             ],
             [
              1,
              "#f0f921"
             ]
            ],
            "type": "heatmapgl"
           }
          ],
          "histogram": [
           {
            "marker": {
             "colorbar": {
              "outlinewidth": 0,
              "ticks": ""
             }
            },
            "type": "histogram"
           }
          ],
          "histogram2d": [
           {
            "colorbar": {
             "outlinewidth": 0,
             "ticks": ""
            },
            "colorscale": [
             [
              0,
              "#0d0887"
             ],
             [
              0.1111111111111111,
              "#46039f"
             ],
             [
              0.2222222222222222,
              "#7201a8"
             ],
             [
              0.3333333333333333,
              "#9c179e"
             ],
             [
              0.4444444444444444,
              "#bd3786"
             ],
             [
              0.5555555555555556,
              "#d8576b"
             ],
             [
              0.6666666666666666,
              "#ed7953"
             ],
             [
              0.7777777777777778,
              "#fb9f3a"
             ],
             [
              0.8888888888888888,
              "#fdca26"
             ],
             [
              1,
              "#f0f921"
             ]
            ],
            "type": "histogram2d"
           }
          ],
          "histogram2dcontour": [
           {
            "colorbar": {
             "outlinewidth": 0,
             "ticks": ""
            },
            "colorscale": [
             [
              0,
              "#0d0887"
             ],
             [
              0.1111111111111111,
              "#46039f"
             ],
             [
              0.2222222222222222,
              "#7201a8"
             ],
             [
              0.3333333333333333,
              "#9c179e"
             ],
             [
              0.4444444444444444,
              "#bd3786"
             ],
             [
              0.5555555555555556,
              "#d8576b"
             ],
             [
              0.6666666666666666,
              "#ed7953"
             ],
             [
              0.7777777777777778,
              "#fb9f3a"
             ],
             [
              0.8888888888888888,
              "#fdca26"
             ],
             [
              1,
              "#f0f921"
             ]
            ],
            "type": "histogram2dcontour"
           }
          ],
          "mesh3d": [
           {
            "colorbar": {
             "outlinewidth": 0,
             "ticks": ""
            },
            "type": "mesh3d"
           }
          ],
          "parcoords": [
           {
            "line": {
             "colorbar": {
              "outlinewidth": 0,
              "ticks": ""
             }
            },
            "type": "parcoords"
           }
          ],
          "pie": [
           {
            "automargin": true,
            "type": "pie"
           }
          ],
          "scatter": [
           {
            "marker": {
             "line": {
              "color": "#283442"
             }
            },
            "type": "scatter"
           }
          ],
          "scatter3d": [
           {
            "line": {
             "colorbar": {
              "outlinewidth": 0,
              "ticks": ""
             }
            },
            "marker": {
             "colorbar": {
              "outlinewidth": 0,
              "ticks": ""
             }
            },
            "type": "scatter3d"
           }
          ],
          "scattercarpet": [
           {
            "marker": {
             "colorbar": {
              "outlinewidth": 0,
              "ticks": ""
             }
            },
            "type": "scattercarpet"
           }
          ],
          "scattergeo": [
           {
            "marker": {
             "colorbar": {
              "outlinewidth": 0,
              "ticks": ""
             }
            },
            "type": "scattergeo"
           }
          ],
          "scattergl": [
           {
            "marker": {
             "line": {
              "color": "#283442"
             }
            },
            "type": "scattergl"
           }
          ],
          "scattermapbox": [
           {
            "marker": {
             "colorbar": {
              "outlinewidth": 0,
              "ticks": ""
             }
            },
            "type": "scattermapbox"
           }
          ],
          "scatterpolar": [
           {
            "marker": {
             "colorbar": {
              "outlinewidth": 0,
              "ticks": ""
             }
            },
            "type": "scatterpolar"
           }
          ],
          "scatterpolargl": [
           {
            "marker": {
             "colorbar": {
              "outlinewidth": 0,
              "ticks": ""
             }
            },
            "type": "scatterpolargl"
           }
          ],
          "scatterternary": [
           {
            "marker": {
             "colorbar": {
              "outlinewidth": 0,
              "ticks": ""
             }
            },
            "type": "scatterternary"
           }
          ],
          "surface": [
           {
            "colorbar": {
             "outlinewidth": 0,
             "ticks": ""
            },
            "colorscale": [
             [
              0,
              "#0d0887"
             ],
             [
              0.1111111111111111,
              "#46039f"
             ],
             [
              0.2222222222222222,
              "#7201a8"
             ],
             [
              0.3333333333333333,
              "#9c179e"
             ],
             [
              0.4444444444444444,
              "#bd3786"
             ],
             [
              0.5555555555555556,
              "#d8576b"
             ],
             [
              0.6666666666666666,
              "#ed7953"
             ],
             [
              0.7777777777777778,
              "#fb9f3a"
             ],
             [
              0.8888888888888888,
              "#fdca26"
             ],
             [
              1,
              "#f0f921"
             ]
            ],
            "type": "surface"
           }
          ],
          "table": [
           {
            "cells": {
             "fill": {
              "color": "#506784"
             },
             "line": {
              "color": "rgb(17,17,17)"
             }
            },
            "header": {
             "fill": {
              "color": "#2a3f5f"
             },
             "line": {
              "color": "rgb(17,17,17)"
             }
            },
            "type": "table"
           }
          ]
         },
         "layout": {
          "annotationdefaults": {
           "arrowcolor": "#f2f5fa",
           "arrowhead": 0,
           "arrowwidth": 1
          },
          "coloraxis": {
           "colorbar": {
            "outlinewidth": 0,
            "ticks": ""
           }
          },
          "colorscale": {
           "diverging": [
            [
             0,
             "#8e0152"
            ],
            [
             0.1,
             "#c51b7d"
            ],
            [
             0.2,
             "#de77ae"
            ],
            [
             0.3,
             "#f1b6da"
            ],
            [
             0.4,
             "#fde0ef"
            ],
            [
             0.5,
             "#f7f7f7"
            ],
            [
             0.6,
             "#e6f5d0"
            ],
            [
             0.7,
             "#b8e186"
            ],
            [
             0.8,
             "#7fbc41"
            ],
            [
             0.9,
             "#4d9221"
            ],
            [
             1,
             "#276419"
            ]
           ],
           "sequential": [
            [
             0,
             "#0d0887"
            ],
            [
             0.1111111111111111,
             "#46039f"
            ],
            [
             0.2222222222222222,
             "#7201a8"
            ],
            [
             0.3333333333333333,
             "#9c179e"
            ],
            [
             0.4444444444444444,
             "#bd3786"
            ],
            [
             0.5555555555555556,
             "#d8576b"
            ],
            [
             0.6666666666666666,
             "#ed7953"
            ],
            [
             0.7777777777777778,
             "#fb9f3a"
            ],
            [
             0.8888888888888888,
             "#fdca26"
            ],
            [
             1,
             "#f0f921"
            ]
           ],
           "sequentialminus": [
            [
             0,
             "#0d0887"
            ],
            [
             0.1111111111111111,
             "#46039f"
            ],
            [
             0.2222222222222222,
             "#7201a8"
            ],
            [
             0.3333333333333333,
             "#9c179e"
            ],
            [
             0.4444444444444444,
             "#bd3786"
            ],
            [
             0.5555555555555556,
             "#d8576b"
            ],
            [
             0.6666666666666666,
             "#ed7953"
            ],
            [
             0.7777777777777778,
             "#fb9f3a"
            ],
            [
             0.8888888888888888,
             "#fdca26"
            ],
            [
             1,
             "#f0f921"
            ]
           ]
          },
          "colorway": [
           "#636efa",
           "#EF553B",
           "#00cc96",
           "#ab63fa",
           "#FFA15A",
           "#19d3f3",
           "#FF6692",
           "#B6E880",
           "#FF97FF",
           "#FECB52"
          ],
          "font": {
           "color": "#f2f5fa"
          },
          "geo": {
           "bgcolor": "rgb(17,17,17)",
           "lakecolor": "rgb(17,17,17)",
           "landcolor": "rgb(17,17,17)",
           "showlakes": true,
           "showland": true,
           "subunitcolor": "#506784"
          },
          "hoverlabel": {
           "align": "left"
          },
          "hovermode": "closest",
          "mapbox": {
           "style": "dark"
          },
          "paper_bgcolor": "rgb(17,17,17)",
          "plot_bgcolor": "rgb(17,17,17)",
          "polar": {
           "angularaxis": {
            "gridcolor": "#506784",
            "linecolor": "#506784",
            "ticks": ""
           },
           "bgcolor": "rgb(17,17,17)",
           "radialaxis": {
            "gridcolor": "#506784",
            "linecolor": "#506784",
            "ticks": ""
           }
          },
          "scene": {
           "xaxis": {
            "backgroundcolor": "rgb(17,17,17)",
            "gridcolor": "#506784",
            "gridwidth": 2,
            "linecolor": "#506784",
            "showbackground": true,
            "ticks": "",
            "zerolinecolor": "#C8D4E3"
           },
           "yaxis": {
            "backgroundcolor": "rgb(17,17,17)",
            "gridcolor": "#506784",
            "gridwidth": 2,
            "linecolor": "#506784",
            "showbackground": true,
            "ticks": "",
            "zerolinecolor": "#C8D4E3"
           },
           "zaxis": {
            "backgroundcolor": "rgb(17,17,17)",
            "gridcolor": "#506784",
            "gridwidth": 2,
            "linecolor": "#506784",
            "showbackground": true,
            "ticks": "",
            "zerolinecolor": "#C8D4E3"
           }
          },
          "shapedefaults": {
           "line": {
            "color": "#f2f5fa"
           }
          },
          "sliderdefaults": {
           "bgcolor": "#C8D4E3",
           "bordercolor": "rgb(17,17,17)",
           "borderwidth": 1,
           "tickwidth": 0
          },
          "ternary": {
           "aaxis": {
            "gridcolor": "#506784",
            "linecolor": "#506784",
            "ticks": ""
           },
           "baxis": {
            "gridcolor": "#506784",
            "linecolor": "#506784",
            "ticks": ""
           },
           "bgcolor": "rgb(17,17,17)",
           "caxis": {
            "gridcolor": "#506784",
            "linecolor": "#506784",
            "ticks": ""
           }
          },
          "title": {
           "x": 0.05
          },
          "updatemenudefaults": {
           "bgcolor": "#506784",
           "borderwidth": 0
          },
          "xaxis": {
           "automargin": true,
           "gridcolor": "#283442",
           "linecolor": "#506784",
           "ticks": "",
           "title": {
            "standoff": 15
           },
           "zerolinecolor": "#283442",
           "zerolinewidth": 2
          },
          "yaxis": {
           "automargin": true,
           "gridcolor": "#283442",
           "linecolor": "#506784",
           "ticks": "",
           "title": {
            "standoff": 15
           },
           "zerolinecolor": "#283442",
           "zerolinewidth": 2
          }
         }
        },
        "treemapcolorway": [
         "#3498db",
         "#2ecc71",
         "#e74c3c"
        ]
       }
      },
      "text/html": [
       "<div>\n",
       "        \n",
       "        \n",
       "            <div id=\"d0b3112c-ee9a-4f21-b393-071e7177b02f\" class=\"plotly-graph-div\" style=\"height:525px; width:100%;\"></div>\n",
       "            <script type=\"text/javascript\">\n",
       "                require([\"plotly\"], function(Plotly) {\n",
       "                    window.PLOTLYENV=window.PLOTLYENV || {};\n",
       "                    \n",
       "                if (document.getElementById(\"d0b3112c-ee9a-4f21-b393-071e7177b02f\")) {\n",
       "                    Plotly.newPlot(\n",
       "                        'd0b3112c-ee9a-4f21-b393-071e7177b02f',\n",
       "                        [{\"branchvalues\": \"total\", \"domain\": {\"x\": [0.0, 1.0], \"y\": [0.0, 1.0]}, \"hovertemplate\": \"labels=%{label}<br>count=%{value}<br>parent=%{parent}<br>id=%{id}<extra></extra>\", \"ids\": [\"confirmed\", \"deaths\", \"recovered\"], \"labels\": [\"confirmed\", \"deaths\", \"recovered\"], \"name\": \"\", \"parents\": [\"\", \"\", \"\"], \"type\": \"treemap\", \"values\": [31517087, 969541, 21624434]}],\n",
       "                        {\"legend\": {\"tracegroupgap\": 0}, \"margin\": {\"t\": 60}, \"template\": {\"data\": {\"bar\": [{\"error_x\": {\"color\": \"#f2f5fa\"}, \"error_y\": {\"color\": \"#f2f5fa\"}, \"marker\": {\"line\": {\"color\": \"rgb(17,17,17)\", \"width\": 0.5}}, \"type\": \"bar\"}], \"barpolar\": [{\"marker\": {\"line\": {\"color\": \"rgb(17,17,17)\", \"width\": 0.5}}, \"type\": \"barpolar\"}], \"carpet\": [{\"aaxis\": {\"endlinecolor\": \"#A2B1C6\", \"gridcolor\": \"#506784\", \"linecolor\": \"#506784\", \"minorgridcolor\": \"#506784\", \"startlinecolor\": \"#A2B1C6\"}, \"baxis\": {\"endlinecolor\": \"#A2B1C6\", \"gridcolor\": \"#506784\", \"linecolor\": \"#506784\", \"minorgridcolor\": \"#506784\", \"startlinecolor\": \"#A2B1C6\"}, \"type\": \"carpet\"}], \"choropleth\": [{\"colorbar\": {\"outlinewidth\": 0, \"ticks\": \"\"}, \"type\": \"choropleth\"}], \"contour\": [{\"colorbar\": {\"outlinewidth\": 0, \"ticks\": \"\"}, \"colorscale\": [[0.0, \"#0d0887\"], [0.1111111111111111, \"#46039f\"], [0.2222222222222222, \"#7201a8\"], [0.3333333333333333, \"#9c179e\"], [0.4444444444444444, \"#bd3786\"], [0.5555555555555556, \"#d8576b\"], [0.6666666666666666, \"#ed7953\"], [0.7777777777777778, \"#fb9f3a\"], [0.8888888888888888, \"#fdca26\"], [1.0, \"#f0f921\"]], \"type\": \"contour\"}], \"contourcarpet\": [{\"colorbar\": {\"outlinewidth\": 0, \"ticks\": \"\"}, \"type\": \"contourcarpet\"}], \"heatmap\": [{\"colorbar\": {\"outlinewidth\": 0, \"ticks\": \"\"}, \"colorscale\": [[0.0, \"#0d0887\"], [0.1111111111111111, \"#46039f\"], [0.2222222222222222, \"#7201a8\"], [0.3333333333333333, \"#9c179e\"], [0.4444444444444444, \"#bd3786\"], [0.5555555555555556, \"#d8576b\"], [0.6666666666666666, \"#ed7953\"], [0.7777777777777778, \"#fb9f3a\"], [0.8888888888888888, \"#fdca26\"], [1.0, \"#f0f921\"]], \"type\": \"heatmap\"}], \"heatmapgl\": [{\"colorbar\": {\"outlinewidth\": 0, \"ticks\": \"\"}, \"colorscale\": [[0.0, \"#0d0887\"], [0.1111111111111111, \"#46039f\"], [0.2222222222222222, \"#7201a8\"], [0.3333333333333333, \"#9c179e\"], [0.4444444444444444, \"#bd3786\"], [0.5555555555555556, \"#d8576b\"], [0.6666666666666666, \"#ed7953\"], [0.7777777777777778, \"#fb9f3a\"], [0.8888888888888888, \"#fdca26\"], [1.0, \"#f0f921\"]], \"type\": \"heatmapgl\"}], \"histogram\": [{\"marker\": {\"colorbar\": {\"outlinewidth\": 0, \"ticks\": \"\"}}, \"type\": \"histogram\"}], \"histogram2d\": [{\"colorbar\": {\"outlinewidth\": 0, \"ticks\": \"\"}, \"colorscale\": [[0.0, \"#0d0887\"], [0.1111111111111111, \"#46039f\"], [0.2222222222222222, \"#7201a8\"], [0.3333333333333333, \"#9c179e\"], [0.4444444444444444, \"#bd3786\"], [0.5555555555555556, \"#d8576b\"], [0.6666666666666666, \"#ed7953\"], [0.7777777777777778, \"#fb9f3a\"], [0.8888888888888888, \"#fdca26\"], [1.0, \"#f0f921\"]], \"type\": \"histogram2d\"}], \"histogram2dcontour\": [{\"colorbar\": {\"outlinewidth\": 0, \"ticks\": \"\"}, \"colorscale\": [[0.0, \"#0d0887\"], [0.1111111111111111, \"#46039f\"], [0.2222222222222222, \"#7201a8\"], [0.3333333333333333, \"#9c179e\"], [0.4444444444444444, \"#bd3786\"], [0.5555555555555556, \"#d8576b\"], [0.6666666666666666, \"#ed7953\"], [0.7777777777777778, \"#fb9f3a\"], [0.8888888888888888, \"#fdca26\"], [1.0, \"#f0f921\"]], \"type\": \"histogram2dcontour\"}], \"mesh3d\": [{\"colorbar\": {\"outlinewidth\": 0, \"ticks\": \"\"}, \"type\": \"mesh3d\"}], \"parcoords\": [{\"line\": {\"colorbar\": {\"outlinewidth\": 0, \"ticks\": \"\"}}, \"type\": \"parcoords\"}], \"pie\": [{\"automargin\": true, \"type\": \"pie\"}], \"scatter\": [{\"marker\": {\"line\": {\"color\": \"#283442\"}}, \"type\": \"scatter\"}], \"scatter3d\": [{\"line\": {\"colorbar\": {\"outlinewidth\": 0, \"ticks\": \"\"}}, \"marker\": {\"colorbar\": {\"outlinewidth\": 0, \"ticks\": \"\"}}, \"type\": \"scatter3d\"}], \"scattercarpet\": [{\"marker\": {\"colorbar\": {\"outlinewidth\": 0, \"ticks\": \"\"}}, \"type\": \"scattercarpet\"}], \"scattergeo\": [{\"marker\": {\"colorbar\": {\"outlinewidth\": 0, \"ticks\": \"\"}}, \"type\": \"scattergeo\"}], \"scattergl\": [{\"marker\": {\"line\": {\"color\": \"#283442\"}}, \"type\": \"scattergl\"}], \"scattermapbox\": [{\"marker\": {\"colorbar\": {\"outlinewidth\": 0, \"ticks\": \"\"}}, \"type\": \"scattermapbox\"}], \"scatterpolar\": [{\"marker\": {\"colorbar\": {\"outlinewidth\": 0, \"ticks\": \"\"}}, \"type\": \"scatterpolar\"}], \"scatterpolargl\": [{\"marker\": {\"colorbar\": {\"outlinewidth\": 0, \"ticks\": \"\"}}, \"type\": \"scatterpolargl\"}], \"scatterternary\": [{\"marker\": {\"colorbar\": {\"outlinewidth\": 0, \"ticks\": \"\"}}, \"type\": \"scatterternary\"}], \"surface\": [{\"colorbar\": {\"outlinewidth\": 0, \"ticks\": \"\"}, \"colorscale\": [[0.0, \"#0d0887\"], [0.1111111111111111, \"#46039f\"], [0.2222222222222222, \"#7201a8\"], [0.3333333333333333, \"#9c179e\"], [0.4444444444444444, \"#bd3786\"], [0.5555555555555556, \"#d8576b\"], [0.6666666666666666, \"#ed7953\"], [0.7777777777777778, \"#fb9f3a\"], [0.8888888888888888, \"#fdca26\"], [1.0, \"#f0f921\"]], \"type\": \"surface\"}], \"table\": [{\"cells\": {\"fill\": {\"color\": \"#506784\"}, \"line\": {\"color\": \"rgb(17,17,17)\"}}, \"header\": {\"fill\": {\"color\": \"#2a3f5f\"}, \"line\": {\"color\": \"rgb(17,17,17)\"}}, \"type\": \"table\"}]}, \"layout\": {\"annotationdefaults\": {\"arrowcolor\": \"#f2f5fa\", \"arrowhead\": 0, \"arrowwidth\": 1}, \"coloraxis\": {\"colorbar\": {\"outlinewidth\": 0, \"ticks\": \"\"}}, \"colorscale\": {\"diverging\": [[0, \"#8e0152\"], [0.1, \"#c51b7d\"], [0.2, \"#de77ae\"], [0.3, \"#f1b6da\"], [0.4, \"#fde0ef\"], [0.5, \"#f7f7f7\"], [0.6, \"#e6f5d0\"], [0.7, \"#b8e186\"], [0.8, \"#7fbc41\"], [0.9, \"#4d9221\"], [1, \"#276419\"]], \"sequential\": [[0.0, \"#0d0887\"], [0.1111111111111111, \"#46039f\"], [0.2222222222222222, \"#7201a8\"], [0.3333333333333333, \"#9c179e\"], [0.4444444444444444, \"#bd3786\"], [0.5555555555555556, \"#d8576b\"], [0.6666666666666666, \"#ed7953\"], [0.7777777777777778, \"#fb9f3a\"], [0.8888888888888888, \"#fdca26\"], [1.0, \"#f0f921\"]], \"sequentialminus\": [[0.0, \"#0d0887\"], [0.1111111111111111, \"#46039f\"], [0.2222222222222222, \"#7201a8\"], [0.3333333333333333, \"#9c179e\"], [0.4444444444444444, \"#bd3786\"], [0.5555555555555556, \"#d8576b\"], [0.6666666666666666, \"#ed7953\"], [0.7777777777777778, \"#fb9f3a\"], [0.8888888888888888, \"#fdca26\"], [1.0, \"#f0f921\"]]}, \"colorway\": [\"#636efa\", \"#EF553B\", \"#00cc96\", \"#ab63fa\", \"#FFA15A\", \"#19d3f3\", \"#FF6692\", \"#B6E880\", \"#FF97FF\", \"#FECB52\"], \"font\": {\"color\": \"#f2f5fa\"}, \"geo\": {\"bgcolor\": \"rgb(17,17,17)\", \"lakecolor\": \"rgb(17,17,17)\", \"landcolor\": \"rgb(17,17,17)\", \"showlakes\": true, \"showland\": true, \"subunitcolor\": \"#506784\"}, \"hoverlabel\": {\"align\": \"left\"}, \"hovermode\": \"closest\", \"mapbox\": {\"style\": \"dark\"}, \"paper_bgcolor\": \"rgb(17,17,17)\", \"plot_bgcolor\": \"rgb(17,17,17)\", \"polar\": {\"angularaxis\": {\"gridcolor\": \"#506784\", \"linecolor\": \"#506784\", \"ticks\": \"\"}, \"bgcolor\": \"rgb(17,17,17)\", \"radialaxis\": {\"gridcolor\": \"#506784\", \"linecolor\": \"#506784\", \"ticks\": \"\"}}, \"scene\": {\"xaxis\": {\"backgroundcolor\": \"rgb(17,17,17)\", \"gridcolor\": \"#506784\", \"gridwidth\": 2, \"linecolor\": \"#506784\", \"showbackground\": true, \"ticks\": \"\", \"zerolinecolor\": \"#C8D4E3\"}, \"yaxis\": {\"backgroundcolor\": \"rgb(17,17,17)\", \"gridcolor\": \"#506784\", \"gridwidth\": 2, \"linecolor\": \"#506784\", \"showbackground\": true, \"ticks\": \"\", \"zerolinecolor\": \"#C8D4E3\"}, \"zaxis\": {\"backgroundcolor\": \"rgb(17,17,17)\", \"gridcolor\": \"#506784\", \"gridwidth\": 2, \"linecolor\": \"#506784\", \"showbackground\": true, \"ticks\": \"\", \"zerolinecolor\": \"#C8D4E3\"}}, \"shapedefaults\": {\"line\": {\"color\": \"#f2f5fa\"}}, \"sliderdefaults\": {\"bgcolor\": \"#C8D4E3\", \"bordercolor\": \"rgb(17,17,17)\", \"borderwidth\": 1, \"tickwidth\": 0}, \"ternary\": {\"aaxis\": {\"gridcolor\": \"#506784\", \"linecolor\": \"#506784\", \"ticks\": \"\"}, \"baxis\": {\"gridcolor\": \"#506784\", \"linecolor\": \"#506784\", \"ticks\": \"\"}, \"bgcolor\": \"rgb(17,17,17)\", \"caxis\": {\"gridcolor\": \"#506784\", \"linecolor\": \"#506784\", \"ticks\": \"\"}}, \"title\": {\"x\": 0.05}, \"updatemenudefaults\": {\"bgcolor\": \"#506784\", \"borderwidth\": 0}, \"xaxis\": {\"automargin\": true, \"gridcolor\": \"#283442\", \"linecolor\": \"#506784\", \"ticks\": \"\", \"title\": {\"standoff\": 15}, \"zerolinecolor\": \"#283442\", \"zerolinewidth\": 2}, \"yaxis\": {\"automargin\": true, \"gridcolor\": \"#283442\", \"linecolor\": \"#506784\", \"ticks\": \"\", \"title\": {\"standoff\": 15}, \"zerolinecolor\": \"#283442\", \"zerolinewidth\": 2}}}, \"treemapcolorway\": [\"#3498db\", \"#2ecc71\", \"#e74c3c\"]},\n",
       "                        {\"responsive\": true}\n",
       "                    ).then(function(){\n",
       "                            \n",
       "var gd = document.getElementById('d0b3112c-ee9a-4f21-b393-071e7177b02f');\n",
       "var x = new MutationObserver(function (mutations, observer) {{\n",
       "        var display = window.getComputedStyle(gd).display;\n",
       "        if (!display || display === 'none') {{\n",
       "            console.log([gd, 'removed!']);\n",
       "            Plotly.purge(gd);\n",
       "            observer.disconnect();\n",
       "        }}\n",
       "}});\n",
       "\n",
       "// Listen for the removal of the full notebook cells\n",
       "var notebookContainer = gd.closest('#notebook-container');\n",
       "if (notebookContainer) {{\n",
       "    x.observe(notebookContainer, {childList: true});\n",
       "}}\n",
       "\n",
       "// Listen for the clearing of the current output cell\n",
       "var outputEl = gd.closest('.output');\n",
       "if (outputEl) {{\n",
       "    x.observe(outputEl, {childList: true});\n",
       "}}\n",
       "\n",
       "                        })\n",
       "                };\n",
       "                });\n",
       "            </script>\n",
       "        </div>"
      ]
     },
     "metadata": {},
     "output_type": "display_data"
    }
   ],
   "source": [
    "fig = px.treemap(world_long_df, path=[\"status\"], values=\"count\",\n",
    "                 color_discrete_sequence=['#3498db', '#2ecc71', '#e74c3c'],\n",
    "                 template='plotly_dark')\n",
    "\n",
    "fig.show()"
   ]
  },
  {
   "cell_type": "code",
   "execution_count": 33,
   "metadata": {},
   "outputs": [
    {
     "data": {
      "text/plain": [
       "1/22/20     555\n",
       "1/23/20     654\n",
       "1/24/20     941\n",
       "1/25/20    1434\n",
       "1/26/20    2118\n",
       "dtype: int64"
      ]
     },
     "execution_count": 33,
     "metadata": {},
     "output_type": "execute_result"
    }
   ],
   "source": [
    "#Evolution of virus cases over time\n",
    "\n",
    "#Remove first 4 columns about state, country, etc. and sum numbers for all dates\n",
    "covid_worldwide_confirmed = confirmed.iloc[:, 4:].sum(axis=0)\n",
    "covid_worldwide_deaths = deaths.iloc[:, 4:].sum(axis=0)\n",
    "covid_worldwide_recovered = recovered.iloc[:, 4:].sum(axis=0)\n",
    "\n",
    "covid_worldwide_confirmed.head()"
   ]
  },
  {
   "cell_type": "code",
   "execution_count": 34,
   "metadata": {},
   "outputs": [
    {
     "data": {
      "image/png": "[encoded data removed]",
      "text/plain": [
       "<Figure size 1152x432 with 1 Axes>"
      ]
     },
     "metadata": {
      "needs_background": "light"
     },
     "output_type": "display_data"
    }
   ],
   "source": [
    "import matplotlib.pyplot as plt\n",
    "import seaborn as sns\n",
    "\n",
    "#Use Seaborn for plotting\n",
    "fig, ax = plt.subplots(figsize=(16, 6))\n",
    "\n",
    "sns.lineplot(x=covid_worldwide_confirmed.index, y=covid_worldwide_confirmed, sort=False, linewidth=2)\n",
    "sns.lineplot(x=covid_worldwide_deaths.index, y=covid_worldwide_deaths, sort=False, linewidth=2)\n",
    "sns.lineplot(x=covid_worldwide_recovered.index, y=covid_worldwide_recovered, sort=False, linewidth=2)\n",
    "\n",
    "ax.lines[0].set_linestyle(\"--\")  #Plot Confirmed cases in dashed lines\n",
    "\n",
    "plt.suptitle(\"Evolution of COVID-19 worldwide cases\", fontsize=16, fontweight='bold', color='black')\n",
    "\n",
    "plt.xticks(rotation=90)\n",
    "plt.ylabel('Number of cases')\n",
    "\n",
    "ax.legend(['Confirmed', 'Deaths', 'Recovered'])\n",
    "\n",
    "plt.show()"
   ]
  },
  {
   "cell_type": "code",
   "execution_count": 35,
   "metadata": {},
   "outputs": [
    {
     "data": {
      "text/html": [
       "<div>\n",
       "<style scoped>\n",
       "    .dataframe tbody tr th:only-of-type {\n",
       "        vertical-align: middle;\n",
       "    }\n",
       "\n",
       "    .dataframe tbody tr th {\n",
       "        vertical-align: top;\n",
       "    }\n",
       "\n",
       "    .dataframe thead th {\n",
       "        text-align: right;\n",
       "    }\n",
       "</style>\n",
       "<table border=\"1\" class=\"dataframe\">\n",
       "  <thead>\n",
       "    <tr style=\"text-align: right;\">\n",
       "      <th></th>\n",
       "      <th>confirmed</th>\n",
       "      <th>deaths</th>\n",
       "      <th>recovered</th>\n",
       "    </tr>\n",
       "  </thead>\n",
       "  <tbody>\n",
       "    <tr>\n",
       "      <th>9/18/20</th>\n",
       "      <td>30499534</td>\n",
       "      <td>951767</td>\n",
       "      <td>20778990</td>\n",
       "    </tr>\n",
       "    <tr>\n",
       "      <th>9/19/20</th>\n",
       "      <td>30780755</td>\n",
       "      <td>956999</td>\n",
       "      <td>21016801</td>\n",
       "    </tr>\n",
       "    <tr>\n",
       "      <th>9/20/20</th>\n",
       "      <td>31021972</td>\n",
       "      <td>960695</td>\n",
       "      <td>21252815</td>\n",
       "    </tr>\n",
       "    <tr>\n",
       "      <th>9/21/20</th>\n",
       "      <td>31320880</td>\n",
       "      <td>964746</td>\n",
       "      <td>21496061</td>\n",
       "    </tr>\n",
       "    <tr>\n",
       "      <th>9/22/20</th>\n",
       "      <td>31517087</td>\n",
       "      <td>969541</td>\n",
       "      <td>21624434</td>\n",
       "    </tr>\n",
       "  </tbody>\n",
       "</table>\n",
       "</div>"
      ],
      "text/plain": [
       "         confirmed  deaths  recovered\n",
       "9/18/20   30499534  951767   20778990\n",
       "9/19/20   30780755  956999   21016801\n",
       "9/20/20   31021972  960695   21252815\n",
       "9/21/20   31320880  964746   21496061\n",
       "9/22/20   31517087  969541   21624434"
      ]
     },
     "execution_count": 35,
     "metadata": {},
     "output_type": "execute_result"
    }
   ],
   "source": [
    "#Evolution of Mortality rate \n",
    "#Create a new data frame to capture all the numbers for confirmed, recovered, active, death.\n",
    "world_rate_df = pd.DataFrame({\n",
    "    'confirmed': covid_worldwide_confirmed,\n",
    "    'deaths': covid_worldwide_deaths,\n",
    "    'recovered': covid_worldwide_recovered\n",
    "}, index=covid_worldwide_confirmed.index)\n",
    "\n",
    "world_rate_df.tail()"
   ]
  },
  {
   "cell_type": "code",
   "execution_count": null,
   "metadata": {},
   "outputs": [],
   "source": []
  }
 ],
 "metadata": {
  "kernelspec": {
   "display_name": "Python 3",
   "language": "python",
   "name": "python3"
  },
  "language_info": {
   "codemirror_mode": {
    "name": "ipython",
    "version": 3
   },
   "file_extension": ".py",
   "mimetype": "text/x-python",
   "name": "python",
   "nbconvert_exporter": "python",
   "pygments_lexer": "ipython3",
   "version": "3.8.3"
  }
 },
 "nbformat": 4,
 "nbformat_minor": 4
}
