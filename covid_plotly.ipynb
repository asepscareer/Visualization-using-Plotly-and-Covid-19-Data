{
 "cells": [
  {
   "cell_type": "markdown",
   "metadata": {},
   "source": [
    "# <center>Visualization using Plotly and Covid-19 Data"
   ]
  },
  {
   "cell_type": "markdown",
   "metadata": {},
   "source": [
    "# Pengolahan data"
   ]
  },
  {
   "cell_type": "markdown",
   "metadata": {},
   "source": [
    "### Import Libraries"
   ]
  },
  {
   "cell_type": "code",
   "execution_count": 64,
   "metadata": {},
   "outputs": [],
   "source": [
    "import plotly.express as px\n",
    "from plotly.subplots import make_subplots\n",
    "import plotly.graph_objs as go \n",
    "\n",
    "import http.client\n",
    "import pandas as pd\n",
    "import requests\n",
    "import json\n",
    "from pandas.io.json import json_normalize"
   ]
  },
  {
   "cell_type": "markdown",
   "metadata": {},
   "source": [
    "### Access Data via API"
   ]
  },
  {
   "cell_type": "code",
   "execution_count": 65,
   "metadata": {},
   "outputs": [
    {
     "data": {
      "text/plain": [
       "'{\"Message\":\"\",\"Global\":{\"NewConfirmed\":236654,\"TotalConfirmed\":34199835,\"NewDeaths\":7602,\"TotalDeaths\":1021696,\"NewRecovered\":141523,\"TotalRecovered\":23774017},\"Countries\":[{\"Country\":\"Afghanistan\",\"CountryCode\":\"AF\",\"Slug\":\"afghanistan\",\"NewConfirmed\":17,\"TotalConfirmed\":39285,\"NewDeaths\":0,\"TotalDeaths\":1458,\"NewRecovered\":53,\"TotalRecovered\":32842,\"Date\":\"2020-10-02T08:00:38Z\",\"Premium\":{}},{\"Country\":\"Albania\",\"CountryCode\":\"AL\",\"Slug\":\"albania\",\"NewConfirmed\":157,\"TotalConfirmed\":13806,\"NewDeaths\":1,\"TotalDeaths\":388,\"NewRecovered\":230,\"TotalRecovered\":8077,\"Date\":\"2020-10-02T08:00:38Z\",\"Premium\":{}},{\"Country\":\"Algeria\",\"CountryCode\":\"DZ\",\"Slug\":\"algeria\",\"NewConfirmed\":160,\"TotalConfirmed\":51690,\"NewDeaths\":5,\"TotalDeaths\":1741,\"NewRecovered\":108,\"TotalRecovered\":36282,\"Date\":\"2020-10-02T08:00:38Z\",\"Premium\":{}},{\"Country\":\"Andorra\",\"CountryCode\":\"AD\",\"Slug\":\"andorra\",\"NewConfirmed\":0,\"TotalConfirmed\":2050,\"NewDeaths\":0,\"TotalDeaths\":53,\"NewRecovered\":0,\"TotalRecovered\":1432,\"Date\":\"2020-10-02T08:00:38Z\",\"Premium\":{}},{\"Country\":\"Angola\",\"CountryCode\":\"AO\",\"Slug\":\"angola\",\"NewConfirmed\":142,\"TotalConfirmed\":5114,\"NewDeaths\":2,\"TotalDeaths\":185,\"NewRecovered\":141,\"TotalRecovered\":2082,\"Date\":\"2020-10-02T08:00:38Z\",\"Premium\":{}},{\"Country\":\"Antigua and Barbuda\",\"CountryCode\":\"AG\",\"Slug\":\"antigua-and-barbuda\",\"NewConfirmed\":0,\"TotalConfirmed\":101,\"NewDeaths\":0,\"TotalDeaths\":3,\"NewRecovered\":0,\"TotalRecovered\":92,\"Date\":\"2020-10-02T08:00:38Z\",\"Premium\":{}},{\"Country\":\"Argentina\",\"CountryCode\":\"AR\",\"Slug\":\"argentina\",\"NewConfirmed\":14001,\"TotalConfirmed\":765002,\"NewDeaths\":3351,\"TotalDeaths\":20288,\"NewRecovered\":8495,\"TotalRecovered\":603140,\"Date\":\"2020-10-02T08:00:38Z\",\"Premium\":{}},{\"Country\":\"Armenia\",\"CountryCode\":\"AM\",\"Slug\":\"armenia\",\"NewConfirmed\":491,\"TotalConfirmed\":50850,\"NewDeaths\":4,\"TotalDeaths\":963,\"NewRecovered\":218,\"TotalRecovered\":44219,\"Date\":\"2020-10-02T08:00:38Z\",\"Premium\":{}},{\"Country\":\"Australia\",\"CountryCode\":\"AU\",\"Slug\":\"australia\",\"NewConfirmed\":13,\"TotalConfirmed\":27109,\"NewDeaths\":2,\"TotalDeaths\":890,\"NewRecovered\":4,\"TotalRecovered\":24786,\"Date\":\"2020-10-02T08:00:38Z\",\"Premium\":{}},{\"Country\":\"Austria\",\"CountryCode\":\"AT\",\"Slug\":\"austria\",\"NewConfirmed\":873,\"TotalConfirmed\":45686,\"NewDeaths\":3,\"TotalDeaths\":802,\"NewRecovered\":832,\"TotalRecovered\":36476,\"Date\":\"2020-10-02T08:00:38Z\",\"Premium\":{}},{\"Country\":\"Azerbaijan\",\"CountryCode\":\"AZ\",\"Slug\":\"azerbaijan\",\"NewConfirmed\":80,\"TotalConfirmed\":40309,\"NewDeaths\":2,\"TotalDeaths\":593,\"NewRecovered\":114,\"TotalRecovered\":38068,\"Date\":\"2020-10-02T08:00:38Z\",\"Premium\":{}},{\"Country\":\"Bahamas\",\"CountryCode\":\"BS\",\"Slug\":\"bahamas\",\"NewConfirmed\":0,\"TotalConfirmed\":4123,\"NewDeaths\":0,\"TotalDeaths\":96,\"NewRecovered\":0,\"TotalRecovered\":2206,\"Date\":\"2020-10-02T08:00:38Z\",\"Premium\":{}},{\"Country\":\"Bahrain\",\"CountryCode\":\"BH\",\"Slug\":\"bahrain\",\"NewConfirmed\":510,\"TotalConfirmed\":71374,\"NewDeaths\":3,\"TotalDeaths\":254,\"NewRecovered\":712,\"TotalRecovered\":65550,\"Date\":\"2020-10-02T08:00:38Z\",\"Premium\":{}},{\"Country\":\"Bangladesh\",\"CountryCode\":\"BD\",\"Slug\":\"bangladesh\",\"NewConfirmed\":1508,\"TotalConfirmed\":364987,\"NewDeaths\":21,\"TotalDeaths\":5272,\"NewRecovered\":1591,\"TotalRecovered\":277078,\"Date\":\"2020-10-02T08:00:38Z\",\"Premium\":{}},{\"Country\":\"Barbados\",\"CountryCode\":\"BB\",\"Slug\":\"barbados\",\"NewConfirmed\":3,\"TotalConfirmed\":193,\"NewDeaths\":0,\"TotalDeaths\":7,\"NewRecovered\":0,\"TotalRecovered\":179,\"Date\":\"2020-10-02T08:00:38Z\",\"Premium\":{}},{\"Country\":\"Belarus\",\"CountryCode\":\"BY\",\"Slug\":\"belarus\",\"NewConfirmed\":388,\"TotalConfirmed\":79019,\"NewDeaths\":6,\"TotalDeaths\":839,\"NewRecovered\":252,\"TotalRecovered\":74777,\"Date\":\"2020-10-02T08:00:38Z\",\"Premium\":{}},{\"Country\":\"Belgium\",\"CountryCode\":\"BE\",\"Slug\":\"belgium\",\"NewConfirmed\":2607,\"TotalConfirmed\":121059,\"NewDeaths\":7,\"TotalDeaths\":10023,\"NewRecovered\":67,\"TotalRecovered\":19521,\"Date\":\"2020-10-02T08:00:38Z\",\"Premium\":{}},{\"Country\":\"Belize\",\"CountryCode\":\"BZ\",\"Slug\":\"belize\",\"NewConfirmed\":0,\"TotalConfirmed\":1992,\"NewDeaths\":0,\"TotalDeaths\":27,\"NewRecovered\":0,\"TotalRecovered\":1246,\"Date\":\"2020-10-02T08:00:38Z\",\"Premium\":{}},{\"Country\":\"Benin\",\"CountryCode\":\"BJ\",\"Slug\":\"benin\",\"NewConfirmed\":0,\"TotalConfirmed\":2357,\"NewDeaths\":0,\"TotalDeaths\":41,\"NewRecovered\":0,\"TotalRecovered\":1973,\"Date\":\"2020-10-02T08:00:38Z\",\"Premium\":{}},{\"Country\":\"Bhutan\",\"CountryCode\":\"BT\",\"Slug\":\"bhutan\",\"NewConfirmed\":0,\"TotalConfirmed\":282,\"NewDeaths\":0,\"TotalDeaths\":0,\"NewRecovered\":3,\"TotalRecovered\":225,\"Date\":\"2020-10-02T08:00:38Z\",\"Premium\":{}},{\"Country\":\"Bolivia\",\"CountryCode\":\"BO\",\"Slug\":\"bolivia\",\"NewConfirmed\":405,\"TotalConfirmed\":135716,\"NewDeaths\":36,\"TotalDeaths\":8001,\"NewRecovered\":636,\"TotalRecovered\":96165,\"Date\":\"2020-10-02T08:00:38Z\",\"Premium\":{}},{\"Country\":\"Bosnia and Herzegovina\",\"CountryCode\":\"BA\",\"Slug\":\"bosnia-and-herzegovina\",\"NewConfirmed\":280,\"TotalConfirmed\":27749,\"NewDeaths\":5,\"TotalDeaths\":861,\"NewRecovered\":331,\"TotalRecovered\":20947,\"Date\":\"2020-10-02T08:00:38Z\",\"Premium\":{}},{\"Country\":\"Botswana\",\"CountryCode\":\"BW\",\"Slug\":\"botswana\",\"NewConfirmed\":0,\"TotalConfirmed\":3172,\"NewDeaths\":0,\"TotalDeaths\":16,\"NewRecovered\":0,\"TotalRecovered\":710,\"Date\":\"2020-10-02T08:00:38Z\",\"Premium\":{}},{\"Country\":\"Brazil\",\"CountryCode\":\"BR\",\"Slug\":\"brazil\",\"NewConfirmed\":36157,\"TotalConfirmed\":4847092,\"NewDeaths\":728,\"TotalDeaths\":144680,\"NewRecovered\":24885,\"TotalRecovered\":4299659,\"Date\":\"2020-10-02T08:00:38Z\",\"Premium\":{}},{\"Country\":\"Brunei Darussalam\",\"CountryCode\":\"BN\",\"Slug\":\"brunei\",\"NewConfirmed\":0,\"TotalConfirmed\":146,\"NewDeaths\":0,\"TotalDeaths\":3,\"NewRecovered\":0,\"TotalRecovered\":142,\"Date\":\"2020-10-02T08:00:38Z\",\"Premium\":{}},{\"Country\":\"Bulgaria\",\"CountryCode\":\"BG\",\"Slug\":\"bulgaria\",\"NewConfirmed\":0,\"TotalConfirmed\":20833,\"NewDeaths\":0,\"TotalDeaths\":825,\"NewRecovered\":0,\"TotalRecovered\":14634,\"Date\":\"2020-10-02T08:00:38Z\",\"Premium\":{}},{\"Country\":\"Burkina Faso\",\"CountryCode\":\"BF\",\"Slug\":\"burkina-faso\",\"NewConfirmed\":32,\"TotalConfirmed\":2088,\"NewDeaths\":0,\"TotalDeaths\":58,\"NewRecovered\":28,\"TotalRecovered\":1363,\"Date\":\"2020-10-02T08:00:38Z\",\"Premium\":{}},{\"Country\":\"Burundi\",\"CountryCode\":\"BI\",\"Slug\":\"burundi\",\"NewConfirmed\":2,\"TotalConfirmed\":510,\"NewDeaths\":0,\"TotalDeaths\":1,\"NewRecovered\":0,\"TotalRecovered\":472,\"Date\":\"2020-10-02T08:00:38Z\",\"Premium\":{}},{\"Country\":\"Cambodia\",\"CountryCode\":\"KH\",\"Slug\":\"cambodia\",\"NewConfirmed\":1,\"TotalConfirmed\":278,\"NewDeaths\":0,\"TotalDeaths\":0,\"NewRecovered\":0,\"TotalRecovered\":275,\"Date\":\"2020-10-02T08:00:38Z\",\"Premium\":{}},{\"Country\":\"Cameroon\",\"CountryCode\":\"CM\",\"Slug\":\"cameroon\",\"NewConfirmed\":0,\"TotalConfirmed\":20838,\"NewDeaths\":0,\"TotalDeaths\":418,\"NewRecovered\":0,\"TotalRecovered\":19440,\"Date\":\"2020-10-02T08:00:38Z\",\"Premium\":{}},{\"Country\":\"Canada\",\"CountryCode\":\"CA\",\"Slug\":\"canada\",\"NewConfirmed\":1823,\"TotalConfirmed\":162917,\"NewDeaths\":22,\"TotalDeaths\":9367,\"NewRecovered\":1367,\"TotalRecovered\":138548,\"Date\":\"2020-10-02T08:00:38Z\",\"Premium\":{}},{\"Country\":\"Cape Verde\",\"CountryCode\":\"CV\",\"Slug\":\"cape-verde\",\"NewConfirmed\":102,\"TotalConfirmed\":6126,\"NewDeaths\":1,\"TotalDeaths\":61,\"NewRecovered\":61,\"TotalRecovered\":5338,\"Date\":\"2020-10-02T08:00:38Z\",\"Premium\":{}},{\"Country\":\"Central African Republic\",\"CountryCode\":\"CF\",\"Slug\":\"central-african-republic\",\"NewConfirmed\":0,\"TotalConfirmed\":4829,\"NewDeaths\":0,\"TotalDeaths\":62,\"NewRecovered\":0,\"TotalRecovered\":1914,\"Date\":\"2020-10-02T08:00:38Z\",\"Premium\":{}},{\"Country\":\"Chad\",\"CountryCode\":\"TD\",\"Slug\":\"chad\",\"NewConfirmed\":3,\"TotalConfirmed\":1203,\"NewDeaths\":0,\"TotalDeaths\":85,\"NewRecovered\":60,\"TotalRecovered\":1067,\"Date\":\"2020-10-02T08:00:38Z\",\"Premium\":{}},{\"Country\":\"Chile\",\"CountryCode\":\"CL\",\"Slug\":\"chile\",\"NewConfirmed\":1759,\"TotalConfirmed\":464750,\"NewDeaths\":81,\"TotalDeaths\":12822,\"NewRecovered\":1559,\"TotalRecovered\":438148,\"Date\":\"2020-10-02T08:00:38Z\",\"Premium\":{}},{\"Country\":\"China\",\"CountryCode\":\"CN\",\"Slug\":\"china\",\"NewConfirmed\":22,\"TotalConfirmed\":90567,\"NewDeaths\":0,\"TotalDeaths\":4739,\"NewRecovered\":19,\"TotalRecovered\":85479,\"Date\":\"2020-10-02T08:00:38Z\",\"Premium\":{}},{\"Country\":\"Colombia\",\"CountryCode\":\"CO\",\"Slug\":\"colombia\",\"NewConfirmed\":5660,\"TotalConfirmed\":835339,\"NewDeaths\":198,\"TotalDeaths\":26196,\"NewRecovered\":8038,\"TotalRecovered\":751691,\"Date\":\"2020-10-02T08:00:38Z\",\"Premium\":{}},{\"Country\":\"Comoros\",\"CountryCode\":\"KM\",\"Slug\":\"comoros\",\"NewConfirmed\":5,\"TotalConfirmed\":484,\"NewDeaths\":0,\"TotalDeaths\":7,\"NewRecovered\":2,\"TotalRecovered\":466,\"Date\":\"2020-10-02T08:00:38Z\",\"Premium\":{}},{\"Country\":\"Congo (Brazzaville)\",\"CountryCode\":\"CG\",\"Slug\":\"congo-brazzaville\",\"NewConfirmed\":0,\"TotalConfirmed\":5089,\"NewDeaths\":0,\"TotalDeaths\":89,\"NewRecovered\":0,\"TotalRecovered\":3887,\"Date\":\"2020-10-02T08:00:38Z\",\"Premium\":{}},{\"Country\":\"Congo (Kinshasa)\",\"CountryCode\":\"CD\",\"Slug\":\"congo-kinshasa\",\"NewConfirmed\":26,\"TotalConfirmed\":10685,\"NewDeaths\":0,\"TotalDeaths\":272,\"NewRecovered\":26,\"TotalRecovered\":10165,\"Date\":\"2020-10-02T08:00:38Z\",\"Premium\":{}},{\"Country\":\"Costa Rica\",\"CountryCode\":\"CR\",\"Slug\":\"costa-rica\",\"NewConfirmed\":1068,\"TotalConfirmed\":76828,\"NewDeaths\":13,\"TotalDeaths\":917,\"NewRecovered\":2002,\"TotalRecovered\":39843,\"Date\":\"2020-10-02T08:00:38Z\",\"Premium\":{}},{\"Country\":\"Croatia\",\"CountryCode\":\"HR\",\"Slug\":\"croatia\",\"NewConfirmed\":234,\"TotalConfirmed\":16827,\"NewDeaths\":4,\"TotalDeaths\":284,\"NewRecovered\":161,\"TotalRecovered\":15218,\"Date\":\"2020-10-02T08:00:38Z\",\"Premium\":{}},{\"Country\":\"Cuba\",\"CountryCode\":\"CU\",\"Slug\":\"cuba\",\"NewConfirmed\":73,\"TotalConfirmed\":5670,\"NewDeaths\":0,\"TotalDeaths\":122,\"NewRecovered\":29,\"TotalRecovered\":4922,\"Date\":\"2020-10-02T08:00:38Z\",\"Premium\":{}},{\"Country\":\"Cyprus\",\"CountryCode\":\"CY\",\"Slug\":\"cyprus\",\"NewConfirmed\":17,\"TotalConfirmed\":1772,\"NewDeaths\":0,\"TotalDeaths\":22,\"NewRecovered\":0,\"TotalRecovered\":1369,\"Date\":\"2020-10-02T08:00:38Z\",\"Premium\":{}},{\"Country\":\"Czech Republic\",\"CountryCode\":\"CZ\",\"Slug\":\"czech-republic\",\"NewConfirmed\":5336,\"TotalConfirmed\":74255,\"NewDeaths\":23,\"TotalDeaths\":678,\"NewRecovered\":743,\"TotalRecovered\":34186,\"Date\":\"2020-10-02T08:00:38Z\",\"Premium\":{}},{\"Country\":\"Côte d\\'Ivoire\",\"CountryCode\":\"CI\",\"Slug\":\"cote-divoire\",\"NewConfirmed\":31,\"TotalConfirmed\":19755,\"NewDeaths\":0,\"TotalDeaths\":120,\"NewRecovered\":29,\"TotalRecovered\":19320,\"Date\":\"2020-10-02T08:00:38Z\",\"Premium\":{}},{\"Country\":\"Denmark\",\"CountryCode\":\"DK\",\"Slug\":\"denmark\",\"NewConfirmed\":403,\"TotalConfirmed\":28882,\"NewDeaths\":1,\"TotalDeaths\":651,\"NewRecovered\":555,\"TotalRecovered\":21752,\"Date\":\"2020-10-02T08:00:38Z\",\"Premium\":{}},{\"Country\":\"Djibouti\",\"CountryCode\":\"DJ\",\"Slug\":\"djibouti\",\"NewConfirmed\":1,\"TotalConfirmed\":5417,\"NewDeaths\":0,\"TotalDeaths\":61,\"NewRecovered\":2,\"TotalRecovered\":5346,\"Date\":\"2020-10-02T08:00:38Z\",\"Premium\":{}},{\"Country\":\"Dominica\",\"CountryCode\":\"DM\",\"Slug\":\"dominica\",\"NewConfirmed\":1,\"TotalConfirmed\":31,\"NewDeaths\":0,\"TotalDeaths\":0,\"NewRecovered\":0,\"TotalRecovered\":24,\"Date\":\"2020-10-02T08:00:38Z\",\"Premium\":{}},{\"Country\":\"Dominican Republic\",\"CountryCode\":\"DO\",\"Slug\":\"dominican-republic\",\"NewConfirmed\":519,\"TotalConfirmed\":112728,\"NewDeaths\":3,\"TotalDeaths\":2108,\"NewRecovered\":576,\"TotalRecovered\":88205,\"Date\":\"2020-10-02T08:00:38Z\",\"Premium\":{}},{\"Country\":\"Ecuador\",\"CountryCode\":\"EC\",\"Slug\":\"ecuador\",\"NewConfirmed\":1537,\"TotalConfirmed\":138584,\"NewDeaths\":78,\"TotalDeaths\":11433,\"NewRecovered\":0,\"TotalRecovered\":112296,\"Date\":\"2020-10-02T08:00:38Z\",\"Premium\":{}},{\"Country\":\"Egypt\",\"CountryCode\":\"EG\",\"Slug\":\"egypt\",\"NewConfirmed\":119,\"TotalConfirmed\":103317,\"NewDeaths\":16,\"TotalDeaths\":5946,\"NewRecovered\":361,\"TotalRecovered\":96855,\"Date\":\"2020-10-02T08:00:38Z\",\"Premium\":{}},{\"Country\":\"El Salvador\",\"CountryCode\":\"SV\",\"Slug\":\"el-salvador\",\"NewConfirmed\":98,\"TotalConfirmed\":29175,\"NewDeaths\":5,\"TotalDeaths\":848,\"NewRecovered\":117,\"TotalRecovered\":23930,\"Date\":\"2020-10-02T08:00:38Z\",\"Premium\":{}},{\"Country\":\"Equatorial Guinea\",\"CountryCode\":\"GQ\",\"Slug\":\"equatorial-guinea\",\"NewConfirmed\":15,\"TotalConfirmed\":5045,\"NewDeaths\":0,\"TotalDeaths\":83,\"NewRecovered\":110,\"TotalRecovered\":4879,\"Date\":\"2020-10-02T08:00:38Z\",\"Premium\":{}},{\"Country\":\"Eritrea\",\"CountryCode\":\"ER\",\"Slug\":\"eritrea\",\"NewConfirmed\":6,\"TotalConfirmed\":381,\"NewDeaths\":0,\"TotalDeaths\":0,\"NewRecovered\":12,\"TotalRecovered\":353,\"Date\":\"2020-10-02T08:00:38Z\",\"Premium\":{}},{\"Country\":\"Estonia\",\"CountryCode\":\"EE\",\"Slug\":\"estonia\",\"NewConfirmed\":79,\"TotalConfirmed\":3450,\"NewDeaths\":1,\"TotalDeaths\":65,\"NewRecovered\":38,\"TotalRecovered\":2643,\"Date\":\"2020-10-02T08:00:38Z\",\"Premium\":{}},{\"Country\":\"Ethiopia\",\"CountryCode\":\"ET\",\"Slug\":\"ethiopia\",\"NewConfirmed\":730,\"TotalConfirmed\":76098,\"NewDeaths\":7,\"TotalDeaths\":1205,\"NewRecovered\":226,\"TotalRecovered\":31430,\"Date\":\"2020-10-02T08:00:38Z\",\"Premium\":{}},{\"Country\":\"Fiji\",\"CountryCode\":\"FJ\",\"Slug\":\"fiji\",\"NewConfirmed\":0,\"TotalConfirmed\":32,\"NewDeaths\":0,\"TotalDeaths\":2,\"NewRecovered\":0,\"TotalRecovered\":28,\"Date\":\"2020-10-02T08:00:38Z\",\"Premium\":{}},{\"Country\":\"Finland\",\"CountryCode\":\"FI\",\"Slug\":\"finland\",\"NewConfirmed\":111,\"TotalConfirmed\":10103,\"NewDeaths\":0,\"TotalDeaths\":344,\"NewRecovered\":0,\"TotalRecovered\":8100,\"Date\":\"2020-10-02T08:00:38Z\",\"Premium\":{}},{\"Country\":\"France\",\"CountryCode\":\"FR\",\"Slug\":\"france\",\"NewConfirmed\":12955,\"TotalConfirmed\":616986,\"NewDeaths\":48,\"TotalDeaths\":32034,\"NewRecovered\":522,\"TotalRecovered\":99154,\"Date\":\"2020-10-02T08:00:38Z\",\"Premium\":{}},{\"Country\":\"Gabon\",\"CountryCode\":\"GA\",\"Slug\":\"gabon\",\"NewConfirmed\":0,\"TotalConfirmed\":8766,\"NewDeaths\":0,\"TotalDeaths\":54,\"NewRecovered\":0,\"TotalRecovered\":8005,\"Date\":\"2020-10-02T08:00:38Z\",\"Premium\":{}},{\"Country\":\"Gambia\",\"CountryCode\":\"GM\",\"Slug\":\"gambia\",\"NewConfirmed\":5,\"TotalConfirmed\":3584,\"NewDeaths\":1,\"TotalDeaths\":113,\"NewRecovered\":55,\"TotalRecovered\":2216,\"Date\":\"2020-10-02T08:00:38Z\",\"Premium\":{}},{\"Country\":\"Georgia\",\"CountryCode\":\"GE\",\"Slug\":\"georgia\",\"NewConfirmed\":448,\"TotalConfirmed\":6640,\"NewDeaths\":2,\"TotalDeaths\":41,\"NewRecovered\":299,\"TotalRecovered\":3419,\"Date\":\"2020-10-02T08:00:38Z\",\"Premium\":{}},{\"Country\":\"Germany\",\"CountryCode\":\"DE\",\"Slug\":\"germany\",\"NewConfirmed\":2626,\"TotalConfirmed\":295539,\"NewDeaths\":14,\"TotalDeaths\":9509,\"NewRecovered\":1359,\"TotalRecovered\":258220,\"Date\":\"2020-10-02T08:00:38Z\",\"Premium\":{}},{\"Country\":\"Ghana\",\"CountryCode\":\"GH\",\"Slug\":\"ghana\",\"NewConfirmed\":30,\"TotalConfirmed\":46656,\"NewDeaths\":0,\"TotalDeaths\":301,\"NewRecovered\":185,\"TotalRecovered\":45942,\"Date\":\"2020-10-02T08:00:38Z\",\"Premium\":{}},{\"Country\":\"Greece\",\"CountryCode\":\"GR\",\"Slug\":\"greece\",\"NewConfirmed\":411,\"TotalConfirmed\":18886,\"NewDeaths\":2,\"TotalDeaths\":393,\"NewRecovered\":0,\"TotalRecovered\":1347,\"Date\":\"2020-10-02T08:00:38Z\",\"Premium\":{}},{\"Country\":\"Grenada\",\"CountryCode\":\"GD\",\"Slug\":\"grenada\",\"NewConfirmed\":0,\"TotalConfirmed\":24,\"NewDeaths\":0,\"TotalDeaths\":0,\"NewRecovered\":0,\"TotalRecovered\":24,\"Date\":\"2020-10-02T08:00:38Z\",\"Premium\":{}},{\"Country\":\"Guatemala\",\"CountryCode\":\"GT\",\"Slug\":\"guatemala\",\"NewConfirmed\":663,\"TotalConfirmed\":92409,\"NewDeaths\":15,\"TotalDeaths\":3261,\"NewRecovered\":544,\"TotalRecovered\":80800,\"Date\":\"2020-10-02T08:00:38Z\",\"Premium\":{}},{\"Country\":\"Guinea\",\"CountryCode\":\"GN\",\"Slug\":\"guinea\",\"NewConfirmed\":0,\"TotalConfirmed\":10652,\"NewDeaths\":0,\"TotalDeaths\":66,\"NewRecovered\":0,\"TotalRecovered\":9996,\"Date\":\"2020-10-02T08:00:38Z\",\"Premium\":{}},{\"Country\":\"Guinea-Bissau\",\"CountryCode\":\"GW\",\"Slug\":\"guinea-bissau\",\"NewConfirmed\":0,\"TotalConfirmed\":2324,\"NewDeaths\":0,\"TotalDeaths\":39,\"NewRecovered\":0,\"TotalRecovered\":1549,\"Date\":\"2020-10-02T08:00:38Z\",\"Premium\":{}},{\"Country\":\"Guyana\",\"CountryCode\":\"GY\",\"Slug\":\"guyana\",\"NewConfirmed\":35,\"TotalConfirmed\":2929,\"NewDeaths\":2,\"TotalDeaths\":82,\"NewRecovered\":80,\"TotalRecovered\":1760,\"Date\":\"2020-10-02T08:00:38Z\",\"Premium\":{}},{\"Country\":\"Haiti\",\"CountryCode\":\"HT\",\"Slug\":\"haiti\",\"NewConfirmed\":15,\"TotalConfirmed\":8781,\"NewDeaths\":0,\"TotalDeaths\":229,\"NewRecovered\":78,\"TotalRecovered\":6907,\"Date\":\"2020-10-02T08:00:38Z\",\"Premium\":{}},{\"Country\":\"Holy See (Vatican City State)\",\"CountryCode\":\"VA\",\"Slug\":\"holy-see-vatican-city-state\",\"NewConfirmed\":0,\"TotalConfirmed\":12,\"NewDeaths\":0,\"TotalDeaths\":0,\"NewRecovered\":0,\"TotalRecovered\":12,\"Date\":\"2020-10-02T08:00:38Z\",\"Premium\":{}},{\"Country\":\"Honduras\",\"CountryCode\":\"HN\",\"Slug\":\"honduras\",\"NewConfirmed\":698,\"TotalConfirmed\":77598,\"NewDeaths\":27,\"TotalDeaths\":2380,\"NewRecovered\":595,\"TotalRecovered\":28517,\"Date\":\"2020-10-02T08:00:38Z\",\"Premium\":{}},{\"Country\":\"Hungary\",\"CountryCode\":\"HU\",\"Slug\":\"hungary\",\"NewConfirmed\":848,\"TotalConfirmed\":27309,\"NewDeaths\":16,\"TotalDeaths\":781,\"NewRecovered\":228,\"TotalRecovered\":6118,\"Date\":\"2020-10-02T08:00:38Z\",\"Premium\":{}},{\"Country\":\"Iceland\",\"CountryCode\":\"IS\",\"Slug\":\"iceland\",\"NewConfirmed\":41,\"TotalConfirmed\":2769,\"NewDeaths\":0,\"TotalDeaths\":10,\"NewRecovered\":10,\"TotalRecovered\":2177,\"Date\":\"2020-10-02T08:00:38Z\",\"Premium\":{}},{\"Country\":\"India\",\"CountryCode\":\"IN\",\"Slug\":\"india\",\"NewConfirmed\":0,\"TotalConfirmed\":6312584,\"NewDeaths\":0,\"TotalDeaths\":98678,\"NewRecovered\":0,\"TotalRecovered\":5273201,\"Date\":\"2020-10-02T08:00:38Z\",\"Premium\":{}},{\"Country\":\"Indonesia\",\"CountryCode\":\"ID\",\"Slug\":\"indonesia\",\"NewConfirmed\":4174,\"TotalConfirmed\":291182,\"NewDeaths\":116,\"TotalDeaths\":10856,\"NewRecovered\":3540,\"TotalRecovered\":218487,\"Date\":\"2020-10-02T08:00:38Z\",\"Premium\":{}},{\"Country\":\"Iran, Islamic Republic of\",\"CountryCode\":\"IR\",\"Slug\":\"iran\",\"NewConfirmed\":3825,\"TotalConfirmed\":461044,\"NewDeaths\":211,\"TotalDeaths\":26380,\"NewRecovered\":2412,\"TotalRecovered\":383368,\"Date\":\"2020-10-02T08:00:38Z\",\"Premium\":{}},{\"Country\":\"Iraq\",\"CountryCode\":\"IQ\",\"Slug\":\"iraq\",\"NewConfirmed\":4493,\"TotalConfirmed\":367474,\"NewDeaths\":50,\"TotalDeaths\":9231,\"NewRecovered\":3685,\"TotalRecovered\":295882,\"Date\":\"2020-10-02T08:00:38Z\",\"Premium\":{}},{\"Country\":\"Ireland\",\"CountryCode\":\"IE\",\"Slug\":\"ireland\",\"NewConfirmed\":442,\"TotalConfirmed\":36597,\"NewDeaths\":2,\"TotalDeaths\":1806,\"NewRecovered\":0,\"TotalRecovered\":23364,\"Date\":\"2020-10-02T08:00:38Z\",\"Premium\":{}},{\"Country\":\"Israel\",\"CountryCode\":\"IL\",\"Slug\":\"israel\",\"NewConfirmed\":7996,\"TotalConfirmed\":253490,\"NewDeaths\":53,\"TotalDeaths\":1622,\"NewRecovered\":4962,\"TotalRecovered\":179468,\"Date\":\"2020-10-02T08:00:38Z\",\"Premium\":{}},{\"Country\":\"Italy\",\"CountryCode\":\"IT\",\"Slug\":\"italy\",\"NewConfirmed\":2548,\"TotalConfirmed\":317409,\"NewDeaths\":24,\"TotalDeaths\":35918,\"NewRecovered\":1140,\"TotalRecovered\":228844,\"Date\":\"2020-10-02T08:00:38Z\",\"Premium\":{}},{\"Country\":\"Jamaica\",\"CountryCode\":\"JM\",\"Slug\":\"jamaica\",\"NewConfirmed\":73,\"TotalConfirmed\":6555,\"NewDeaths\":4,\"TotalDeaths\":111,\"NewRecovered\":124,\"TotalRecovered\":1991,\"Date\":\"2020-10-02T08:00:38Z\",\"Premium\":{}},{\"Country\":\"Japan\",\"CountryCode\":\"JP\",\"Slug\":\"japan\",\"NewConfirmed\":653,\"TotalConfirmed\":84244,\"NewDeaths\":5,\"TotalDeaths\":1580,\"NewRecovered\":559,\"TotalRecovered\":76081,\"Date\":\"2020-10-02T08:00:38Z\",\"Premium\":{}},{\"Country\":\"Jordan\",\"CountryCode\":\"JO\",\"Slug\":\"jordan\",\"NewConfirmed\":1276,\"TotalConfirmed\":13101,\"NewDeaths\":8,\"TotalDeaths\":69,\"NewRecovered\":126,\"TotalRecovered\":4752,\"Date\":\"2020-10-02T08:00:38Z\",\"Premium\":{}},{\"Country\":\"Kazakhstan\",\"CountryCode\":\"KZ\",\"Slug\":\"kazakhstan\",\"NewConfirmed\":65,\"TotalConfirmed\":108044,\"NewDeaths\":0,\"TotalDeaths\":1725,\"NewRecovered\":91,\"TotalRecovered\":103028,\"Date\":\"2020-10-02T08:00:38Z\",\"Premium\":{}},{\"Country\":\"Kenya\",\"CountryCode\":\"KE\",\"Slug\":\"kenya\",\"NewConfirmed\":184,\"TotalConfirmed\":38713,\"NewDeaths\":0,\"TotalDeaths\":711,\"NewRecovered\":0,\"TotalRecovered\":24908,\"Date\":\"2020-10-02T08:00:38Z\",\"Premium\":{}},{\"Country\":\"Korea (South)\",\"CountryCode\":\"KR\",\"Slug\":\"korea-south\",\"NewConfirmed\":63,\"TotalConfirmed\":23952,\"NewDeaths\":1,\"TotalDeaths\":416,\"NewRecovered\":67,\"TotalRecovered\":21733,\"Date\":\"2020-10-02T08:00:38Z\",\"Premium\":{}},{\"Country\":\"Kuwait\",\"CountryCode\":\"KW\",\"Slug\":\"kuwait\",\"NewConfirmed\":494,\"TotalConfirmed\":105676,\"NewDeaths\":2,\"TotalDeaths\":612,\"NewRecovered\":509,\"TotalRecovered\":97197,\"Date\":\"2020-10-02T08:00:38Z\",\"Premium\":{}},{\"Country\":\"Kyrgyzstan\",\"CountryCode\":\"KG\",\"Slug\":\"kyrgyzstan\",\"NewConfirmed\":172,\"TotalConfirmed\":46841,\"NewDeaths\":1,\"TotalDeaths\":1065,\"NewRecovered\":104,\"TotalRecovered\":42983,\"Date\":\"2020-10-02T08:00:38Z\",\"Premium\":{}},{\"Country\":\"Lao PDR\",\"CountryCode\":\"LA\",\"Slug\":\"lao-pdr\",\"NewConfirmed\":0,\"TotalConfirmed\":23,\"NewDeaths\":0,\"TotalDeaths\":0,\"NewRecovered\":0,\"TotalRecovered\":22,\"Date\":\"2020-10-02T08:00:38Z\",\"Premium\":{}},{\"Country\":\"Latvia\",\"CountryCode\":\"LV\",\"Slug\":\"latvia\",\"NewConfirmed\":44,\"TotalConfirmed\":1868,\"NewDeaths\":0,\"TotalDeaths\":37,\"NewRecovered\":0,\"TotalRecovered\":1307,\"Date\":\"2020-10-02T08:00:38Z\",\"Premium\":{}},{\"Country\":\"Lebanon\",\"CountryCode\":\"LB\",\"Slug\":\"lebanon\",\"NewConfirmed\":1248,\"TotalConfirmed\":40882,\"NewDeaths\":7,\"TotalDeaths\":374,\"NewRecovered\":538,\"TotalRecovered\":18103,\"Date\":\"2020-10-02T08:00:38Z\",\"Premium\":{}},{\"Country\":\"Lesotho\",\"CountryCode\":\"LS\",\"Slug\":\"lesotho\",\"NewConfirmed\":44,\"TotalConfirmed\":1639,\"NewDeaths\":2,\"TotalDeaths\":38,\"NewRecovered\":1,\"TotalRecovered\":874,\"Date\":\"2020-10-02T08:00:38Z\",\"Premium\":{}},{\"Country\":\"Liberia\",\"CountryCode\":\"LR\",\"Slug\":\"liberia\",\"NewConfirmed\":0,\"TotalConfirmed\":1343,\"NewDeaths\":0,\"TotalDeaths\":82,\"NewRecovered\":0,\"TotalRecovered\":1221,\"Date\":\"2020-10-02T08:00:38Z\",\"Premium\":{}},{\"Country\":\"Libya\",\"CountryCode\":\"LY\",\"Slug\":\"libya\",\"NewConfirmed\":683,\"TotalConfirmed\":35208,\"NewDeaths\":8,\"TotalDeaths\":559,\"NewRecovered\":533,\"TotalRecovered\":19894,\"Date\":\"2020-10-02T08:00:38Z\",\"Premium\":{}},{\"Country\":\"Liechtenstein\",\"CountryCode\":\"LI\",\"Slug\":\"liechtenstein\",\"NewConfirmed\":1,\"TotalConfirmed\":119,\"NewDeaths\":0,\"TotalDeaths\":1,\"NewRecovered\":1,\"TotalRecovered\":114,\"Date\":\"2020-10-02T08:00:38Z\",\"Premium\":{}},{\"Country\":\"Lithuania\",\"CountryCode\":\"LT\",\"Slug\":\"lithuania\",\"NewConfirmed\":91,\"TotalConfirmed\":4784,\"NewDeaths\":0,\"TotalDeaths\":92,\"NewRecovered\":59,\"TotalRecovered\":2424,\"Date\":\"2020-10-02T08:00:38Z\",\"Premium\":{}},{\"Country\":\"Luxembourg\",\"CountryCode\":\"LU\",\"Slug\":\"luxembourg\",\"NewConfirmed\":86,\"TotalConfirmed\":8595,\"NewDeaths\":1,\"TotalDeaths\":125,\"NewRecovered\":106,\"TotalRecovered\":7280,\"Date\":\"2020-10-02T08:00:38Z\",\"Premium\":{}},{\"Country\":\"Macao, SAR China\",\"CountryCode\":\"MO\",\"Slug\":\"macao-sar-china\",\"NewConfirmed\":0,\"TotalConfirmed\":0,\"NewDeaths\":0,\"TotalDeaths\":0,\"NewRecovered\":0,\"TotalRecovered\":0,\"Date\":\"2020-10-02T08:00:38Z\",\"Premium\":{}},{\"Country\":\"Macedonia, Republic of\",\"CountryCode\":\"MK\",\"Slug\":\"macedonia\",\"NewConfirmed\":161,\"TotalConfirmed\":18138,\"NewDeaths\":4,\"TotalDeaths\":743,\"NewRecovered\":109,\"TotalRecovered\":15068,\"Date\":\"2020-10-02T08:00:38Z\",\"Premium\":{}},{\"Country\":\"Madagascar\",\"CountryCode\":\"MG\",\"Slug\":\"madagascar\",\"NewConfirmed\":46,\"TotalConfirmed\":16454,\"NewDeaths\":2,\"TotalDeaths\":232,\"NewRecovered\":129,\"TotalRecovered\":15430,\"Date\":\"2020-10-02T08:00:38Z\",\"Premium\":{}},{\"Country\":\"Malawi\",\"CountryCode\":\"MW\",\"Slug\":\"malawi\",\"NewConfirmed\":6,\"TotalConfirmed\":5779,\"NewDeaths\":0,\"TotalDeaths\":179,\"NewRecovered\":251,\"TotalRecovered\":4514,\"Date\":\"2020-10-02T08:00:38Z\",\"Premium\":{}},{\"Country\":\"Malaysia\",\"CountryCode\":\"MY\",\"Slug\":\"malaysia\",\"NewConfirmed\":260,\"TotalConfirmed\":11484,\"NewDeaths\":0,\"TotalDeaths\":136,\"NewRecovered\":47,\"TotalRecovered\":10014,\"Date\":\"2020-10-02T08:00:38Z\",\"Premium\":{}},{\"Country\":\"Maldives\",\"CountryCode\":\"MV\",\"Slug\":\"maldives\",\"NewConfirmed\":63,\"TotalConfirmed\":10354,\"NewDeaths\":0,\"TotalDeaths\":34,\"NewRecovered\":79,\"TotalRecovered\":9187,\"Date\":\"2020-10-02T08:00:38Z\",\"Premium\":{}},{\"Country\":\"Mali\",\"CountryCode\":\"ML\",\"Slug\":\"mali\",\"NewConfirmed\":13,\"TotalConfirmed\":3131,\"NewDeaths\":0,\"TotalDeaths\":131,\"NewRecovered\":7,\"TotalRecovered\":2460,\"Date\":\"2020-10-02T08:00:38Z\",\"Premium\":{}},{\"Country\":\"Malta\",\"CountryCode\":\"MT\",\"Slug\":\"malta\",\"NewConfirmed\":37,\"TotalConfirmed\":3095,\"NewDeaths\":0,\"TotalDeaths\":35,\"NewRecovered\":43,\"TotalRecovered\":2605,\"Date\":\"2020-10-02T08:00:38Z\",\"Premium\":{}},{\"Country\":\"Mauritania\",\"CountryCode\":\"MR\",\"Slug\":\"mauritania\",\"NewConfirmed\":3,\"TotalConfirmed\":7505,\"NewDeaths\":0,\"TotalDeaths\":161,\"NewRecovered\":18,\"TotalRecovered\":7138,\"Date\":\"2020-10-02T08:00:38Z\",\"Premium\":{}},{\"Country\":\"Mauritius\",\"CountryCode\":\"MU\",\"Slug\":\"mauritius\",\"NewConfirmed\":0,\"TotalConfirmed\":381,\"NewDeaths\":0,\"TotalDeaths\":10,\"NewRecovered\":0,\"TotalRecovered\":344,\"Date\":\"2020-10-02T08:00:38Z\",\"Premium\":{}},{\"Country\":\"Mexico\",\"CountryCode\":\"MX\",\"Slug\":\"mexico\",\"NewConfirmed\":5099,\"TotalConfirmed\":748315,\"NewDeaths\":432,\"TotalDeaths\":78078,\"NewRecovered\":1623,\"TotalRecovered\":629630,\"Date\":\"2020-10-02T08:00:38Z\",\"Premium\":{}},{\"Country\":\"Moldova\",\"CountryCode\":\"MD\",\"Slug\":\"moldova\",\"NewConfirmed\":1022,\"TotalConfirmed\":54064,\"NewDeaths\":16,\"TotalDeaths\":1336,\"NewRecovered\":502,\"TotalRecovered\":39499,\"Date\":\"2020-10-02T08:00:38Z\",\"Premium\":{}},{\"Country\":\"Monaco\",\"CountryCode\":\"MC\",\"Slug\":\"monaco\",\"NewConfirmed\":1,\"TotalConfirmed\":219,\"NewDeaths\":0,\"TotalDeaths\":2,\"NewRecovered\":6,\"TotalRecovered\":187,\"Date\":\"2020-10-02T08:00:38Z\",\"Premium\":{}},{\"Country\":\"Mongolia\",\"CountryCode\":\"MN\",\"Slug\":\"mongolia\",\"NewConfirmed\":0,\"TotalConfirmed\":313,\"NewDeaths\":0,\"TotalDeaths\":0,\"NewRecovered\":0,\"TotalRecovered\":307,\"Date\":\"2020-10-02T08:00:38Z\",\"Premium\":{}},{\"Country\":\"Montenegro\",\"CountryCode\":\"ME\",\"Slug\":\"montenegro\",\"NewConfirmed\":215,\"TotalConfirmed\":10987,\"NewDeaths\":1,\"TotalDeaths\":170,\"NewRecovered\":205,\"TotalRecovered\":7397,\"Date\":\"2020-10-02T08:00:38Z\",\"Premium\":{}},{\"Country\":\"Morocco\",\"CountryCode\":\"MA\",\"Slug\":\"morocco\",\"NewConfirmed\":2391,\"TotalConfirmed\":126044,\"NewDeaths\":35,\"TotalDeaths\":2229,\"NewRecovered\":1421,\"TotalRecovered\":104136,\"Date\":\"2020-10-02T08:00:38Z\",\"Premium\":{}},{\"Country\":\"Mozambique\",\"CountryCode\":\"MZ\",\"Slug\":\"mozambique\",\"NewConfirmed\":160,\"TotalConfirmed\":8888,\"NewDeaths\":1,\"TotalDeaths\":62,\"NewRecovered\":341,\"TotalRecovered\":5573,\"Date\":\"2020-10-02T08:00:38Z\",\"Premium\":{}},{\"Country\":\"Myanmar\",\"CountryCode\":\"MM\",\"Slug\":\"myanmar\",\"NewConfirmed\":1010,\"TotalConfirmed\":14383,\"NewDeaths\":11,\"TotalDeaths\":321,\"NewRecovered\":401,\"TotalRecovered\":4156,\"Date\":\"2020-10-02T08:00:38Z\",\"Premium\":{}},{\"Country\":\"Namibia\",\"CountryCode\":\"NA\",\"Slug\":\"namibia\",\"NewConfirmed\":108,\"TotalConfirmed\":11373,\"NewDeaths\":2,\"TotalDeaths\":123,\"NewRecovered\":69,\"TotalRecovered\":9083,\"Date\":\"2020-10-02T08:00:38Z\",\"Premium\":{}},{\"Country\":\"Nepal\",\"CountryCode\":\"NP\",\"Slug\":\"nepal\",\"NewConfirmed\":1911,\"TotalConfirmed\":79728,\"NewDeaths\":11,\"TotalDeaths\":509,\"NewRecovered\":961,\"TotalRecovered\":57389,\"Date\":\"2020-10-02T08:00:38Z\",\"Premium\":{}},{\"Country\":\"Netherlands\",\"CountryCode\":\"NL\",\"Slug\":\"netherlands\",\"NewConfirmed\":3252,\"TotalConfirmed\":124097,\"NewDeaths\":13,\"TotalDeaths\":6419,\"NewRecovered\":0,\"TotalRecovered\":0,\"Date\":\"2020-10-02T08:00:38Z\",\"Premium\":{}},{\"Country\":\"New Zealand\",\"CountryCode\":\"NZ\",\"Slug\":\"new-zealand\",\"NewConfirmed\":0,\"TotalConfirmed\":1848,\"NewDeaths\":0,\"TotalDeaths\":25,\"NewRecovered\":10,\"TotalRecovered\":1780,\"Date\":\"2020-10-02T08:00:38Z\",\"Premium\":{}},{\"Country\":\"Nicaragua\",\"CountryCode\":\"NI\",\"Slug\":\"nicaragua\",\"NewConfirmed\":0,\"TotalConfirmed\":5170,\"NewDeaths\":0,\"TotalDeaths\":151,\"NewRecovered\":0,\"TotalRecovered\":2913,\"Date\":\"2020-10-02T08:00:38Z\",\"Premium\":{}},{\"Country\":\"Niger\",\"CountryCode\":\"NE\",\"Slug\":\"niger\",\"NewConfirmed\":0,\"TotalConfirmed\":1197,\"NewDeaths\":0,\"TotalDeaths\":69,\"NewRecovered\":0,\"TotalRecovered\":1114,\"Date\":\"2020-10-02T08:00:38Z\",\"Premium\":{}},{\"Country\":\"Nigeria\",\"CountryCode\":\"NG\",\"Slug\":\"nigeria\",\"NewConfirmed\":153,\"TotalConfirmed\":59001,\"NewDeaths\":0,\"TotalDeaths\":1112,\"NewRecovered\":94,\"TotalRecovered\":50452,\"Date\":\"2020-10-02T08:00:38Z\",\"Premium\":{}},{\"Country\":\"Norway\",\"CountryCode\":\"NO\",\"Slug\":\"norway\",\"NewConfirmed\":122,\"TotalConfirmed\":14149,\"NewDeaths\":0,\"TotalDeaths\":274,\"NewRecovered\":0,\"TotalRecovered\":11190,\"Date\":\"2020-10-02T08:00:38Z\",\"Premium\":{}},{\"Country\":\"Oman\",\"CountryCode\":\"OM\",\"Slug\":\"oman\",\"NewConfirmed\":0,\"TotalConfirmed\":98585,\"NewDeaths\":0,\"TotalDeaths\":935,\"NewRecovered\":0,\"TotalRecovered\":88528,\"Date\":\"2020-10-02T08:00:38Z\",\"Premium\":{}},{\"Country\":\"Pakistan\",\"CountryCode\":\"PK\",\"Slug\":\"pakistan\",\"NewConfirmed\":625,\"TotalConfirmed\":313431,\"NewDeaths\":15,\"TotalDeaths\":6499,\"NewRecovered\":558,\"TotalRecovered\":298055,\"Date\":\"2020-10-02T08:00:38Z\",\"Premium\":{}},{\"Country\":\"Palestinian Territory\",\"CountryCode\":\"PS\",\"Slug\":\"palestine\",\"NewConfirmed\":423,\"TotalConfirmed\":40322,\"NewDeaths\":7,\"TotalDeaths\":318,\"NewRecovered\":834,\"TotalRecovered\":32577,\"Date\":\"2020-10-02T08:00:38Z\",\"Premium\":{}},{\"Country\":\"Panama\",\"CountryCode\":\"PA\",\"Slug\":\"panama\",\"NewConfirmed\":747,\"TotalConfirmed\":113342,\"NewDeaths\":15,\"TotalDeaths\":2387,\"NewRecovered\":842,\"TotalRecovered\":89903,\"Date\":\"2020-10-02T08:00:38Z\",\"Premium\":{}},{\"Country\":\"Papua New Guinea\",\"CountryCode\":\"PG\",\"Slug\":\"papua-new-guinea\",\"NewConfirmed\":5,\"TotalConfirmed\":539,\"NewDeaths\":0,\"TotalDeaths\":7,\"NewRecovered\":3,\"TotalRecovered\":519,\"Date\":\"2020-10-02T08:00:38Z\",\"Premium\":{}},{\"Country\":\"Paraguay\",\"CountryCode\":\"PY\",\"Slug\":\"paraguay\",\"NewConfirmed\":1041,\"TotalConfirmed\":41799,\"NewDeaths\":12,\"TotalDeaths\":869,\"NewRecovered\":718,\"TotalRecovered\":25167,\"Date\":\"2020-10-02T08:00:38Z\",\"Premium\":{}},{\"Country\":\"Peru\",\"CountryCode\":\"PE\",\"Slug\":\"peru\",\"NewConfirmed\":3061,\"TotalConfirmed\":814829,\"NewDeaths\":67,\"TotalDeaths\":32463,\"NewRecovered\":13603,\"TotalRecovered\":690528,\"Date\":\"2020-10-02T08:00:38Z\",\"Premium\":{}},{\"Country\":\"Philippines\",\"CountryCode\":\"PH\",\"Slug\":\"philippines\",\"NewConfirmed\":2385,\"TotalConfirmed\":314079,\"NewDeaths\":58,\"TotalDeaths\":5562,\"NewRecovered\":735,\"TotalRecovered\":254223,\"Date\":\"2020-10-02T08:00:38Z\",\"Premium\":{}},{\"Country\":\"Poland\",\"CountryCode\":\"PL\",\"Slug\":\"poland\",\"NewConfirmed\":1967,\"TotalConfirmed\":93481,\"NewDeaths\":30,\"TotalDeaths\":2543,\"NewRecovered\":706,\"TotalRecovered\":70401,\"Date\":\"2020-10-02T08:00:38Z\",\"Premium\":{}},{\"Country\":\"Portugal\",\"CountryCode\":\"PT\",\"Slug\":\"portugal\",\"NewConfirmed\":854,\"TotalConfirmed\":76396,\"NewDeaths\":6,\"TotalDeaths\":1977,\"NewRecovered\":407,\"TotalRecovered\":48937,\"Date\":\"2020-10-02T08:00:38Z\",\"Premium\":{}},{\"Country\":\"Qatar\",\"CountryCode\":\"QA\",\"Slug\":\"qatar\",\"NewConfirmed\":199,\"TotalConfirmed\":125959,\"NewDeaths\":0,\"TotalDeaths\":214,\"NewRecovered\":212,\"TotalRecovered\":122911,\"Date\":\"2020-10-02T08:00:38Z\",\"Premium\":{}},{\"Country\":\"Republic of Kosovo\",\"CountryCode\":\"XK\",\"Slug\":\"kosovo\",\"NewConfirmed\":0,\"TotalConfirmed\":12683,\"NewDeaths\":0,\"TotalDeaths\":488,\"NewRecovered\":0,\"TotalRecovered\":8788,\"Date\":\"2020-10-02T08:00:38Z\",\"Premium\":{}},{\"Country\":\"Romania\",\"CountryCode\":\"RO\",\"Slug\":\"romania\",\"NewConfirmed\":2086,\"TotalConfirmed\":129658,\"NewDeaths\":37,\"TotalDeaths\":4862,\"NewRecovered\":1518,\"TotalRecovered\":103994,\"Date\":\"2020-10-02T08:00:38Z\",\"Premium\":{}},{\"Country\":\"Russian Federation\",\"CountryCode\":\"RU\",\"Slug\":\"russia\",\"NewConfirmed\":8835,\"TotalConfirmed\":1179634,\"NewDeaths\":166,\"TotalDeaths\":20796,\"NewRecovered\":5941,\"TotalRecovered\":960729,\"Date\":\"2020-10-02T08:00:38Z\",\"Premium\":{}},{\"Country\":\"Rwanda\",\"CountryCode\":\"RW\",\"Slug\":\"rwanda\",\"NewConfirmed\":3,\"TotalConfirmed\":4843,\"NewDeaths\":0,\"TotalDeaths\":29,\"NewRecovered\":27,\"TotalRecovered\":3181,\"Date\":\"2020-10-02T08:00:38Z\",\"Premium\":{}},{\"Country\":\"Réunion\",\"CountryCode\":\"RE\",\"Slug\":\"réunion\",\"NewConfirmed\":0,\"TotalConfirmed\":0,\"NewDeaths\":0,\"TotalDeaths\":0,\"NewRecovered\":0,\"TotalRecovered\":0,\"Date\":\"2020-10-02T08:00:38Z\",\"Premium\":{}},{\"Country\":\"Saint Kitts and Nevis\",\"CountryCode\":\"KN\",\"Slug\":\"saint-kitts-and-nevis\",\"NewConfirmed\":0,\"TotalConfirmed\":19,\"NewDeaths\":0,\"TotalDeaths\":0,\"NewRecovered\":0,\"TotalRecovered\":17,\"Date\":\"2020-10-02T08:00:38Z\",\"Premium\":{}},{\"Country\":\"Saint Lucia\",\"CountryCode\":\"LC\",\"Slug\":\"saint-lucia\",\"NewConfirmed\":0,\"TotalConfirmed\":27,\"NewDeaths\":0,\"TotalDeaths\":0,\"NewRecovered\":0,\"TotalRecovered\":27,\"Date\":\"2020-10-02T08:00:38Z\",\"Premium\":{}},{\"Country\":\"Saint Vincent and Grenadines\",\"CountryCode\":\"VC\",\"Slug\":\"saint-vincent-and-the-grenadines\",\"NewConfirmed\":0,\"TotalConfirmed\":64,\"NewDeaths\":0,\"TotalDeaths\":0,\"NewRecovered\":0,\"TotalRecovered\":64,\"Date\":\"2020-10-02T08:00:38Z\",\"Premium\":{}},{\"Country\":\"San Marino\",\"CountryCode\":\"SM\",\"Slug\":\"san-marino\",\"NewConfirmed\":0,\"TotalConfirmed\":732,\"NewDeaths\":0,\"TotalDeaths\":42,\"NewRecovered\":0,\"TotalRecovered\":680,\"Date\":\"2020-10-02T08:00:38Z\",\"Premium\":{}},{\"Country\":\"Sao Tome and Principe\",\"CountryCode\":\"ST\",\"Slug\":\"sao-tome-and-principe\",\"NewConfirmed\":0,\"TotalConfirmed\":911,\"NewDeaths\":0,\"TotalDeaths\":15,\"NewRecovered\":0,\"TotalRecovered\":886,\"Date\":\"2020-10-02T08:00:38Z\",\"Premium\":{}},{\"Country\":\"Saudi Arabia\",\"CountryCode\":\"SA\",\"Slug\":\"saudi-arabia\",\"NewConfirmed\":492,\"TotalConfirmed\":335097,\"NewDeaths\":26,\"TotalDeaths\":4794,\"NewRecovered\":592,\"TotalRecovered\":319746,\"Date\":\"2020-10-02T08:00:38Z\",\"Premium\":{}},{\"Country\":\"Senegal\",\"CountryCode\":\"SN\",\"Slug\":\"senegal\",\"NewConfirmed\":37,\"TotalConfirmed\":15019,\"NewDeaths\":0,\"TotalDeaths\":311,\"NewRecovered\":101,\"TotalRecovered\":12538,\"Date\":\"2020-10-02T08:00:38Z\",\"Premium\":{}},{\"Country\":\"Serbia\",\"CountryCode\":\"RS\",\"Slug\":\"serbia\",\"NewConfirmed\":111,\"TotalConfirmed\":33662,\"NewDeaths\":1,\"TotalDeaths\":750,\"NewRecovered\":0,\"TotalRecovered\":0,\"Date\":\"2020-10-02T08:00:38Z\",\"Premium\":{}},{\"Country\":\"Seychelles\",\"CountryCode\":\"SC\",\"Slug\":\"seychelles\",\"NewConfirmed\":0,\"TotalConfirmed\":144,\"NewDeaths\":0,\"TotalDeaths\":0,\"NewRecovered\":3,\"TotalRecovered\":143,\"Date\":\"2020-10-02T08:00:38Z\",\"Premium\":{}},{\"Country\":\"Sierra Leone\",\"CountryCode\":\"SL\",\"Slug\":\"sierra-leone\",\"NewConfirmed\":7,\"TotalConfirmed\":2238,\"NewDeaths\":0,\"TotalDeaths\":72,\"NewRecovered\":8,\"TotalRecovered\":1695,\"Date\":\"2020-10-02T08:00:38Z\",\"Premium\":{}},{\"Country\":\"Singapore\",\"CountryCode\":\"SG\",\"Slug\":\"singapore\",\"NewConfirmed\":19,\"TotalConfirmed\":57784,\"NewDeaths\":0,\"TotalDeaths\":27,\"NewRecovered\":24,\"TotalRecovered\":57512,\"Date\":\"2020-10-02T08:00:38Z\",\"Premium\":{}},{\"Country\":\"Slovakia\",\"CountryCode\":\"SK\",\"Slug\":\"slovakia\",\"NewConfirmed\":797,\"TotalConfirmed\":10938,\"NewDeaths\":0,\"TotalDeaths\":48,\"NewRecovered\":225,\"TotalRecovered\":4620,\"Date\":\"2020-10-02T08:00:38Z\",\"Premium\":{}},{\"Country\":\"Slovenia\",\"CountryCode\":\"SI\",\"Slug\":\"slovenia\",\"NewConfirmed\":175,\"TotalConfirmed\":5865,\"NewDeaths\":2,\"TotalDeaths\":152,\"NewRecovered\":102,\"TotalRecovered\":3906,\"Date\":\"2020-10-02T08:00:38Z\",\"Premium\":{}},{\"Country\":\"Somalia\",\"CountryCode\":\"SO\",\"Slug\":\"somalia\",\"NewConfirmed\":5,\"TotalConfirmed\":3593,\"NewDeaths\":0,\"TotalDeaths\":99,\"NewRecovered\":55,\"TotalRecovered\":3001,\"Date\":\"2020-10-02T08:00:38Z\",\"Premium\":{}},{\"Country\":\"South Africa\",\"CountryCode\":\"ZA\",\"Slug\":\"south-africa\",\"NewConfirmed\":1745,\"TotalConfirmed\":676084,\"NewDeaths\":132,\"TotalDeaths\":16866,\"NewRecovered\":1472,\"TotalRecovered\":609584,\"Date\":\"2020-10-02T08:00:38Z\",\"Premium\":{}},{\"Country\":\"South Sudan\",\"CountryCode\":\"SS\",\"Slug\":\"south-sudan\",\"NewConfirmed\":0,\"TotalConfirmed\":2704,\"NewDeaths\":0,\"TotalDeaths\":49,\"NewRecovered\":0,\"TotalRecovered\":1290,\"Date\":\"2020-10-02T08:00:38Z\",\"Premium\":{}},{\"Country\":\"Spain\",\"CountryCode\":\"ES\",\"Slug\":\"spain\",\"NewConfirmed\":9419,\"TotalConfirmed\":778607,\"NewDeaths\":182,\"TotalDeaths\":31973,\"NewRecovered\":0,\"TotalRecovered\":150376,\"Date\":\"2020-10-02T08:00:38Z\",\"Premium\":{}},{\"Country\":\"Sri Lanka\",\"CountryCode\":\"LK\",\"Slug\":\"sri-lanka\",\"NewConfirmed\":2,\"TotalConfirmed\":3382,\"NewDeaths\":0,\"TotalDeaths\":13,\"NewRecovered\":3,\"TotalRecovered\":3233,\"Date\":\"2020-10-02T08:00:38Z\",\"Premium\":{}},{\"Country\":\"Sudan\",\"CountryCode\":\"SD\",\"Slug\":\"sudan\",\"NewConfirmed\":13,\"TotalConfirmed\":13653,\"NewDeaths\":0,\"TotalDeaths\":836,\"NewRecovered\":0,\"TotalRecovered\":6764,\"Date\":\"2020-10-02T08:00:38Z\",\"Premium\":{}},{\"Country\":\"Suriname\",\"CountryCode\":\"SR\",\"Slug\":\"suriname\",\"NewConfirmed\":14,\"TotalConfirmed\":4891,\"NewDeaths\":1,\"TotalDeaths\":105,\"NewRecovered\":7,\"TotalRecovered\":4702,\"Date\":\"2020-10-02T08:00:38Z\",\"Premium\":{}},{\"Country\":\"Swaziland\",\"CountryCode\":\"SZ\",\"Slug\":\"swaziland\",\"NewConfirmed\":18,\"TotalConfirmed\":5500,\"NewDeaths\":2,\"TotalDeaths\":111,\"NewRecovered\":88,\"TotalRecovered\":5000,\"Date\":\"2020-10-02T08:00:38Z\",\"Premium\":{}},{\"Country\":\"Sweden\",\"CountryCode\":\"SE\",\"Slug\":\"sweden\",\"NewConfirmed\":752,\"TotalConfirmed\":93615,\"NewDeaths\":0,\"TotalDeaths\":5893,\"NewRecovered\":0,\"TotalRecovered\":0,\"Date\":\"2020-10-02T08:00:38Z\",\"Premium\":{}},{\"Country\":\"Switzerland\",\"CountryCode\":\"CH\",\"Slug\":\"switzerland\",\"NewConfirmed\":550,\"TotalConfirmed\":53832,\"NewDeaths\":0,\"TotalDeaths\":2074,\"NewRecovered\":2600,\"TotalRecovered\":45300,\"Date\":\"2020-10-02T08:00:38Z\",\"Premium\":{}},{\"Country\":\"Syrian Arab Republic (Syria)\",\"CountryCode\":\"SY\",\"Slug\":\"syria\",\"NewConfirmed\":47,\"TotalConfirmed\":4247,\"NewDeaths\":2,\"TotalDeaths\":202,\"NewRecovered\":14,\"TotalRecovered\":1117,\"Date\":\"2020-10-02T08:00:38Z\",\"Premium\":{}},{\"Country\":\"Taiwan, Republic of China\",\"CountryCode\":\"TW\",\"Slug\":\"taiwan\",\"NewConfirmed\":1,\"TotalConfirmed\":515,\"NewDeaths\":0,\"TotalDeaths\":7,\"NewRecovered\":1,\"TotalRecovered\":484,\"Date\":\"2020-10-02T08:00:38Z\",\"Premium\":{}},{\"Country\":\"Tajikistan\",\"CountryCode\":\"TJ\",\"Slug\":\"tajikistan\",\"NewConfirmed\":42,\"TotalConfirmed\":9811,\"NewDeaths\":1,\"TotalDeaths\":77,\"NewRecovered\":45,\"TotalRecovered\":8617,\"Date\":\"2020-10-02T08:00:38Z\",\"Premium\":{}},{\"Country\":\"Tanzania, United Republic of\",\"CountryCode\":\"TZ\",\"Slug\":\"tanzania\",\"NewConfirmed\":0,\"TotalConfirmed\":509,\"NewDeaths\":0,\"TotalDeaths\":21,\"NewRecovered\":0,\"TotalRecovered\":183,\"Date\":\"2020-10-02T08:00:38Z\",\"Premium\":{}},{\"Country\":\"Thailand\",\"CountryCode\":\"TH\",\"Slug\":\"thailand\",\"NewConfirmed\":6,\"TotalConfirmed\":3575,\"NewDeaths\":0,\"TotalDeaths\":59,\"NewRecovered\":5,\"TotalRecovered\":3384,\"Date\":\"2020-10-02T08:00:38Z\",\"Premium\":{}},{\"Country\":\"Timor-Leste\",\"CountryCode\":\"TL\",\"Slug\":\"timor-leste\",\"NewConfirmed\":0,\"TotalConfirmed\":28,\"NewDeaths\":0,\"TotalDeaths\":0,\"NewRecovered\":0,\"TotalRecovered\":28,\"Date\":\"2020-10-02T08:00:38Z\",\"Premium\":{}},{\"Country\":\"Togo\",\"CountryCode\":\"TG\",\"Slug\":\"togo\",\"NewConfirmed\":25,\"TotalConfirmed\":1809,\"NewDeaths\":0,\"TotalDeaths\":48,\"NewRecovered\":5,\"TotalRecovered\":1353,\"Date\":\"2020-10-02T08:00:38Z\",\"Premium\":{}},{\"Country\":\"Trinidad and Tobago\",\"CountryCode\":\"TT\",\"Slug\":\"trinidad-and-tobago\",\"NewConfirmed\":39,\"TotalConfirmed\":4570,\"NewDeaths\":0,\"TotalDeaths\":76,\"NewRecovered\":69,\"TotalRecovered\":2629,\"Date\":\"2020-10-02T08:00:38Z\",\"Premium\":{}},{\"Country\":\"Tunisia\",\"CountryCode\":\"TN\",\"Slug\":\"tunisia\",\"NewConfirmed\":0,\"TotalConfirmed\":18413,\"NewDeaths\":0,\"TotalDeaths\":265,\"NewRecovered\":0,\"TotalRecovered\":5032,\"Date\":\"2020-10-02T08:00:38Z\",\"Premium\":{}},{\"Country\":\"Turkey\",\"CountryCode\":\"TR\",\"Slug\":\"turkey\",\"NewConfirmed\":1407,\"TotalConfirmed\":320070,\"NewDeaths\":67,\"TotalDeaths\":8262,\"NewRecovered\":1402,\"TotalRecovered\":281151,\"Date\":\"2020-10-02T08:00:38Z\",\"Premium\":{}},{\"Country\":\"Uganda\",\"CountryCode\":\"UG\",\"Slug\":\"uganda\",\"NewConfirmed\":158,\"TotalConfirmed\":8287,\"NewDeaths\":0,\"TotalDeaths\":75,\"NewRecovered\":170,\"TotalRecovered\":4430,\"Date\":\"2020-10-02T08:00:38Z\",\"Premium\":{}},{\"Country\":\"Ukraine\",\"CountryCode\":\"UA\",\"Slug\":\"ukraine\",\"NewConfirmed\":4179,\"TotalConfirmed\":218625,\"NewDeaths\":67,\"TotalDeaths\":4288,\"NewRecovered\":2127,\"TotalRecovered\":97956,\"Date\":\"2020-10-02T08:00:38Z\",\"Premium\":{}},{\"Country\":\"United Arab Emirates\",\"CountryCode\":\"AE\",\"Slug\":\"united-arab-emirates\",\"NewConfirmed\":1158,\"TotalConfirmed\":95348,\"NewDeaths\":2,\"TotalDeaths\":421,\"NewRecovered\":1179,\"TotalRecovered\":84903,\"Date\":\"2020-10-02T08:00:38Z\",\"Premium\":{}},{\"Country\":\"United Kingdom\",\"CountryCode\":\"GB\",\"Slug\":\"united-kingdom\",\"NewConfirmed\":6929,\"TotalConfirmed\":462775,\"NewDeaths\":59,\"TotalDeaths\":42292,\"NewRecovered\":10,\"TotalRecovered\":2383,\"Date\":\"2020-10-02T08:00:38Z\",\"Premium\":{}},{\"Country\":\"United States of America\",\"CountryCode\":\"US\",\"Slug\":\"united-states\",\"NewConfirmed\":43752,\"TotalConfirmed\":7277759,\"NewDeaths\":857,\"TotalDeaths\":207789,\"NewRecovered\":19962,\"TotalRecovered\":2860650,\"Date\":\"2020-10-02T08:00:38Z\",\"Premium\":{}},{\"Country\":\"Uruguay\",\"CountryCode\":\"UY\",\"Slug\":\"uruguay\",\"NewConfirmed\":15,\"TotalConfirmed\":2061,\"NewDeaths\":0,\"TotalDeaths\":48,\"NewRecovered\":18,\"TotalRecovered\":1809,\"Date\":\"2020-10-02T08:00:38Z\",\"Premium\":{}},{\"Country\":\"Uzbekistan\",\"CountryCode\":\"UZ\",\"Slug\":\"uzbekistan\",\"NewConfirmed\":473,\"TotalConfirmed\":57190,\"NewDeaths\":1,\"TotalDeaths\":471,\"NewRecovered\":469,\"TotalRecovered\":53835,\"Date\":\"2020-10-02T08:00:38Z\",\"Premium\":{}},{\"Country\":\"Venezuela (Bolivarian Republic)\",\"CountryCode\":\"VE\",\"Slug\":\"venezuela\",\"NewConfirmed\":907,\"TotalConfirmed\":76029,\"NewDeaths\":7,\"TotalDeaths\":635,\"NewRecovered\":1020,\"TotalRecovered\":66245,\"Date\":\"2020-10-02T08:00:38Z\",\"Premium\":{}},{\"Country\":\"Viet Nam\",\"CountryCode\":\"VN\",\"Slug\":\"vietnam\",\"NewConfirmed\":1,\"TotalConfirmed\":1095,\"NewDeaths\":0,\"TotalDeaths\":35,\"NewRecovered\":0,\"TotalRecovered\":1010,\"Date\":\"2020-10-02T08:00:38Z\",\"Premium\":{}},{\"Country\":\"Western Sahara\",\"CountryCode\":\"EH\",\"Slug\":\"western-sahara\",\"NewConfirmed\":0,\"TotalConfirmed\":10,\"NewDeaths\":0,\"TotalDeaths\":1,\"NewRecovered\":0,\"TotalRecovered\":8,\"Date\":\"2020-10-02T08:00:38Z\",\"Premium\":{}},{\"Country\":\"Yemen\",\"CountryCode\":\"YE\",\"Slug\":\"yemen\",\"NewConfirmed\":5,\"TotalConfirmed\":2039,\"NewDeaths\":0,\"TotalDeaths\":587,\"NewRecovered\":11,\"TotalRecovered\":1297,\"Date\":\"2020-10-02T08:00:38Z\",\"Premium\":{}},{\"Country\":\"Zambia\",\"CountryCode\":\"ZM\",\"Slug\":\"zambia\",\"NewConfirmed\":43,\"TotalConfirmed\":14802,\"NewDeaths\":1,\"TotalDeaths\":333,\"NewRecovered\":2,\"TotalRecovered\":13961,\"Date\":\"2020-10-02T08:00:38Z\",\"Premium\":{}},{\"Country\":\"Zimbabwe\",\"CountryCode\":\"ZW\",\"Slug\":\"zimbabwe\",\"NewConfirmed\":12,\"TotalConfirmed\":7850,\"NewDeaths\":0,\"TotalDeaths\":228,\"NewRecovered\":9,\"TotalRecovered\":6312,\"Date\":\"2020-10-02T08:00:38Z\",\"Premium\":{}}],\"Date\":\"2020-10-02T08:00:38Z\"}\\n'"
      ]
     },
     "execution_count": 65,
     "metadata": {},
     "output_type": "execute_result"
    }
   ],
   "source": [
    "conn = http.client.HTTPSConnection(\"api.covid19api.com\")\n",
    "payload = \"\"\n",
    "headers = {}\n",
    "conn.request(\"GET\", \"/summary\", payload, headers)\n",
    "res = conn.getresponse()\n",
    "data = res.read().decode('UTF-8')\n",
    "data"
   ]
  },
  {
   "cell_type": "markdown",
   "metadata": {},
   "source": [
    "### Convert Data to JSON"
   ]
  },
  {
   "cell_type": "code",
   "execution_count": 66,
   "metadata": {},
   "outputs": [
    {
     "data": {
      "text/plain": [
       "{'Message': '',\n",
       " 'Global': {'NewConfirmed': 236654,\n",
       "  'TotalConfirmed': 34199835,\n",
       "  'NewDeaths': 7602,\n",
       "  'TotalDeaths': 1021696,\n",
       "  'NewRecovered': 141523,\n",
       "  'TotalRecovered': 23774017},\n",
       " 'Countries': [{'Country': 'Afghanistan',\n",
       "   'CountryCode': 'AF',\n",
       "   'Slug': 'afghanistan',\n",
       "   'NewConfirmed': 17,\n",
       "   'TotalConfirmed': 39285,\n",
       "   'NewDeaths': 0,\n",
       "   'TotalDeaths': 1458,\n",
       "   'NewRecovered': 53,\n",
       "   'TotalRecovered': 32842,\n",
       "   'Date': '2020-10-02T08:00:38Z',\n",
       "   'Premium': {}},\n",
       "  {'Country': 'Albania',\n",
       "   'CountryCode': 'AL',\n",
       "   'Slug': 'albania',\n",
       "   'NewConfirmed': 157,\n",
       "   'TotalConfirmed': 13806,\n",
       "   'NewDeaths': 1,\n",
       "   'TotalDeaths': 388,\n",
       "   'NewRecovered': 230,\n",
       "   'TotalRecovered': 8077,\n",
       "   'Date': '2020-10-02T08:00:38Z',\n",
       "   'Premium': {}},\n",
       "  {'Country': 'Algeria',\n",
       "   'CountryCode': 'DZ',\n",
       "   'Slug': 'algeria',\n",
       "   'NewConfirmed': 160,\n",
       "   'TotalConfirmed': 51690,\n",
       "   'NewDeaths': 5,\n",
       "   'TotalDeaths': 1741,\n",
       "   'NewRecovered': 108,\n",
       "   'TotalRecovered': 36282,\n",
       "   'Date': '2020-10-02T08:00:38Z',\n",
       "   'Premium': {}},\n",
       "  {'Country': 'Andorra',\n",
       "   'CountryCode': 'AD',\n",
       "   'Slug': 'andorra',\n",
       "   'NewConfirmed': 0,\n",
       "   'TotalConfirmed': 2050,\n",
       "   'NewDeaths': 0,\n",
       "   'TotalDeaths': 53,\n",
       "   'NewRecovered': 0,\n",
       "   'TotalRecovered': 1432,\n",
       "   'Date': '2020-10-02T08:00:38Z',\n",
       "   'Premium': {}},\n",
       "  {'Country': 'Angola',\n",
       "   'CountryCode': 'AO',\n",
       "   'Slug': 'angola',\n",
       "   'NewConfirmed': 142,\n",
       "   'TotalConfirmed': 5114,\n",
       "   'NewDeaths': 2,\n",
       "   'TotalDeaths': 185,\n",
       "   'NewRecovered': 141,\n",
       "   'TotalRecovered': 2082,\n",
       "   'Date': '2020-10-02T08:00:38Z',\n",
       "   'Premium': {}},\n",
       "  {'Country': 'Antigua and Barbuda',\n",
       "   'CountryCode': 'AG',\n",
       "   'Slug': 'antigua-and-barbuda',\n",
       "   'NewConfirmed': 0,\n",
       "   'TotalConfirmed': 101,\n",
       "   'NewDeaths': 0,\n",
       "   'TotalDeaths': 3,\n",
       "   'NewRecovered': 0,\n",
       "   'TotalRecovered': 92,\n",
       "   'Date': '2020-10-02T08:00:38Z',\n",
       "   'Premium': {}},\n",
       "  {'Country': 'Argentina',\n",
       "   'CountryCode': 'AR',\n",
       "   'Slug': 'argentina',\n",
       "   'NewConfirmed': 14001,\n",
       "   'TotalConfirmed': 765002,\n",
       "   'NewDeaths': 3351,\n",
       "   'TotalDeaths': 20288,\n",
       "   'NewRecovered': 8495,\n",
       "   'TotalRecovered': 603140,\n",
       "   'Date': '2020-10-02T08:00:38Z',\n",
       "   'Premium': {}},\n",
       "  {'Country': 'Armenia',\n",
       "   'CountryCode': 'AM',\n",
       "   'Slug': 'armenia',\n",
       "   'NewConfirmed': 491,\n",
       "   'TotalConfirmed': 50850,\n",
       "   'NewDeaths': 4,\n",
       "   'TotalDeaths': 963,\n",
       "   'NewRecovered': 218,\n",
       "   'TotalRecovered': 44219,\n",
       "   'Date': '2020-10-02T08:00:38Z',\n",
       "   'Premium': {}},\n",
       "  {'Country': 'Australia',\n",
       "   'CountryCode': 'AU',\n",
       "   'Slug': 'australia',\n",
       "   'NewConfirmed': 13,\n",
       "   'TotalConfirmed': 27109,\n",
       "   'NewDeaths': 2,\n",
       "   'TotalDeaths': 890,\n",
       "   'NewRecovered': 4,\n",
       "   'TotalRecovered': 24786,\n",
       "   'Date': '2020-10-02T08:00:38Z',\n",
       "   'Premium': {}},\n",
       "  {'Country': 'Austria',\n",
       "   'CountryCode': 'AT',\n",
       "   'Slug': 'austria',\n",
       "   'NewConfirmed': 873,\n",
       "   'TotalConfirmed': 45686,\n",
       "   'NewDeaths': 3,\n",
       "   'TotalDeaths': 802,\n",
       "   'NewRecovered': 832,\n",
       "   'TotalRecovered': 36476,\n",
       "   'Date': '2020-10-02T08:00:38Z',\n",
       "   'Premium': {}},\n",
       "  {'Country': 'Azerbaijan',\n",
       "   'CountryCode': 'AZ',\n",
       "   'Slug': 'azerbaijan',\n",
       "   'NewConfirmed': 80,\n",
       "   'TotalConfirmed': 40309,\n",
       "   'NewDeaths': 2,\n",
       "   'TotalDeaths': 593,\n",
       "   'NewRecovered': 114,\n",
       "   'TotalRecovered': 38068,\n",
       "   'Date': '2020-10-02T08:00:38Z',\n",
       "   'Premium': {}},\n",
       "  {'Country': 'Bahamas',\n",
       "   'CountryCode': 'BS',\n",
       "   'Slug': 'bahamas',\n",
       "   'NewConfirmed': 0,\n",
       "   'TotalConfirmed': 4123,\n",
       "   'NewDeaths': 0,\n",
       "   'TotalDeaths': 96,\n",
       "   'NewRecovered': 0,\n",
       "   'TotalRecovered': 2206,\n",
       "   'Date': '2020-10-02T08:00:38Z',\n",
       "   'Premium': {}},\n",
       "  {'Country': 'Bahrain',\n",
       "   'CountryCode': 'BH',\n",
       "   'Slug': 'bahrain',\n",
       "   'NewConfirmed': 510,\n",
       "   'TotalConfirmed': 71374,\n",
       "   'NewDeaths': 3,\n",
       "   'TotalDeaths': 254,\n",
       "   'NewRecovered': 712,\n",
       "   'TotalRecovered': 65550,\n",
       "   'Date': '2020-10-02T08:00:38Z',\n",
       "   'Premium': {}},\n",
       "  {'Country': 'Bangladesh',\n",
       "   'CountryCode': 'BD',\n",
       "   'Slug': 'bangladesh',\n",
       "   'NewConfirmed': 1508,\n",
       "   'TotalConfirmed': 364987,\n",
       "   'NewDeaths': 21,\n",
       "   'TotalDeaths': 5272,\n",
       "   'NewRecovered': 1591,\n",
       "   'TotalRecovered': 277078,\n",
       "   'Date': '2020-10-02T08:00:38Z',\n",
       "   'Premium': {}},\n",
       "  {'Country': 'Barbados',\n",
       "   'CountryCode': 'BB',\n",
       "   'Slug': 'barbados',\n",
       "   'NewConfirmed': 3,\n",
       "   'TotalConfirmed': 193,\n",
       "   'NewDeaths': 0,\n",
       "   'TotalDeaths': 7,\n",
       "   'NewRecovered': 0,\n",
       "   'TotalRecovered': 179,\n",
       "   'Date': '2020-10-02T08:00:38Z',\n",
       "   'Premium': {}},\n",
       "  {'Country': 'Belarus',\n",
       "   'CountryCode': 'BY',\n",
       "   'Slug': 'belarus',\n",
       "   'NewConfirmed': 388,\n",
       "   'TotalConfirmed': 79019,\n",
       "   'NewDeaths': 6,\n",
       "   'TotalDeaths': 839,\n",
       "   'NewRecovered': 252,\n",
       "   'TotalRecovered': 74777,\n",
       "   'Date': '2020-10-02T08:00:38Z',\n",
       "   'Premium': {}},\n",
       "  {'Country': 'Belgium',\n",
       "   'CountryCode': 'BE',\n",
       "   'Slug': 'belgium',\n",
       "   'NewConfirmed': 2607,\n",
       "   'TotalConfirmed': 121059,\n",
       "   'NewDeaths': 7,\n",
       "   'TotalDeaths': 10023,\n",
       "   'NewRecovered': 67,\n",
       "   'TotalRecovered': 19521,\n",
       "   'Date': '2020-10-02T08:00:38Z',\n",
       "   'Premium': {}},\n",
       "  {'Country': 'Belize',\n",
       "   'CountryCode': 'BZ',\n",
       "   'Slug': 'belize',\n",
       "   'NewConfirmed': 0,\n",
       "   'TotalConfirmed': 1992,\n",
       "   'NewDeaths': 0,\n",
       "   'TotalDeaths': 27,\n",
       "   'NewRecovered': 0,\n",
       "   'TotalRecovered': 1246,\n",
       "   'Date': '2020-10-02T08:00:38Z',\n",
       "   'Premium': {}},\n",
       "  {'Country': 'Benin',\n",
       "   'CountryCode': 'BJ',\n",
       "   'Slug': 'benin',\n",
       "   'NewConfirmed': 0,\n",
       "   'TotalConfirmed': 2357,\n",
       "   'NewDeaths': 0,\n",
       "   'TotalDeaths': 41,\n",
       "   'NewRecovered': 0,\n",
       "   'TotalRecovered': 1973,\n",
       "   'Date': '2020-10-02T08:00:38Z',\n",
       "   'Premium': {}},\n",
       "  {'Country': 'Bhutan',\n",
       "   'CountryCode': 'BT',\n",
       "   'Slug': 'bhutan',\n",
       "   'NewConfirmed': 0,\n",
       "   'TotalConfirmed': 282,\n",
       "   'NewDeaths': 0,\n",
       "   'TotalDeaths': 0,\n",
       "   'NewRecovered': 3,\n",
       "   'TotalRecovered': 225,\n",
       "   'Date': '2020-10-02T08:00:38Z',\n",
       "   'Premium': {}},\n",
       "  {'Country': 'Bolivia',\n",
       "   'CountryCode': 'BO',\n",
       "   'Slug': 'bolivia',\n",
       "   'NewConfirmed': 405,\n",
       "   'TotalConfirmed': 135716,\n",
       "   'NewDeaths': 36,\n",
       "   'TotalDeaths': 8001,\n",
       "   'NewRecovered': 636,\n",
       "   'TotalRecovered': 96165,\n",
       "   'Date': '2020-10-02T08:00:38Z',\n",
       "   'Premium': {}},\n",
       "  {'Country': 'Bosnia and Herzegovina',\n",
       "   'CountryCode': 'BA',\n",
       "   'Slug': 'bosnia-and-herzegovina',\n",
       "   'NewConfirmed': 280,\n",
       "   'TotalConfirmed': 27749,\n",
       "   'NewDeaths': 5,\n",
       "   'TotalDeaths': 861,\n",
       "   'NewRecovered': 331,\n",
       "   'TotalRecovered': 20947,\n",
       "   'Date': '2020-10-02T08:00:38Z',\n",
       "   'Premium': {}},\n",
       "  {'Country': 'Botswana',\n",
       "   'CountryCode': 'BW',\n",
       "   'Slug': 'botswana',\n",
       "   'NewConfirmed': 0,\n",
       "   'TotalConfirmed': 3172,\n",
       "   'NewDeaths': 0,\n",
       "   'TotalDeaths': 16,\n",
       "   'NewRecovered': 0,\n",
       "   'TotalRecovered': 710,\n",
       "   'Date': '2020-10-02T08:00:38Z',\n",
       "   'Premium': {}},\n",
       "  {'Country': 'Brazil',\n",
       "   'CountryCode': 'BR',\n",
       "   'Slug': 'brazil',\n",
       "   'NewConfirmed': 36157,\n",
       "   'TotalConfirmed': 4847092,\n",
       "   'NewDeaths': 728,\n",
       "   'TotalDeaths': 144680,\n",
       "   'NewRecovered': 24885,\n",
       "   'TotalRecovered': 4299659,\n",
       "   'Date': '2020-10-02T08:00:38Z',\n",
       "   'Premium': {}},\n",
       "  {'Country': 'Brunei Darussalam',\n",
       "   'CountryCode': 'BN',\n",
       "   'Slug': 'brunei',\n",
       "   'NewConfirmed': 0,\n",
       "   'TotalConfirmed': 146,\n",
       "   'NewDeaths': 0,\n",
       "   'TotalDeaths': 3,\n",
       "   'NewRecovered': 0,\n",
       "   'TotalRecovered': 142,\n",
       "   'Date': '2020-10-02T08:00:38Z',\n",
       "   'Premium': {}},\n",
       "  {'Country': 'Bulgaria',\n",
       "   'CountryCode': 'BG',\n",
       "   'Slug': 'bulgaria',\n",
       "   'NewConfirmed': 0,\n",
       "   'TotalConfirmed': 20833,\n",
       "   'NewDeaths': 0,\n",
       "   'TotalDeaths': 825,\n",
       "   'NewRecovered': 0,\n",
       "   'TotalRecovered': 14634,\n",
       "   'Date': '2020-10-02T08:00:38Z',\n",
       "   'Premium': {}},\n",
       "  {'Country': 'Burkina Faso',\n",
       "   'CountryCode': 'BF',\n",
       "   'Slug': 'burkina-faso',\n",
       "   'NewConfirmed': 32,\n",
       "   'TotalConfirmed': 2088,\n",
       "   'NewDeaths': 0,\n",
       "   'TotalDeaths': 58,\n",
       "   'NewRecovered': 28,\n",
       "   'TotalRecovered': 1363,\n",
       "   'Date': '2020-10-02T08:00:38Z',\n",
       "   'Premium': {}},\n",
       "  {'Country': 'Burundi',\n",
       "   'CountryCode': 'BI',\n",
       "   'Slug': 'burundi',\n",
       "   'NewConfirmed': 2,\n",
       "   'TotalConfirmed': 510,\n",
       "   'NewDeaths': 0,\n",
       "   'TotalDeaths': 1,\n",
       "   'NewRecovered': 0,\n",
       "   'TotalRecovered': 472,\n",
       "   'Date': '2020-10-02T08:00:38Z',\n",
       "   'Premium': {}},\n",
       "  {'Country': 'Cambodia',\n",
       "   'CountryCode': 'KH',\n",
       "   'Slug': 'cambodia',\n",
       "   'NewConfirmed': 1,\n",
       "   'TotalConfirmed': 278,\n",
       "   'NewDeaths': 0,\n",
       "   'TotalDeaths': 0,\n",
       "   'NewRecovered': 0,\n",
       "   'TotalRecovered': 275,\n",
       "   'Date': '2020-10-02T08:00:38Z',\n",
       "   'Premium': {}},\n",
       "  {'Country': 'Cameroon',\n",
       "   'CountryCode': 'CM',\n",
       "   'Slug': 'cameroon',\n",
       "   'NewConfirmed': 0,\n",
       "   'TotalConfirmed': 20838,\n",
       "   'NewDeaths': 0,\n",
       "   'TotalDeaths': 418,\n",
       "   'NewRecovered': 0,\n",
       "   'TotalRecovered': 19440,\n",
       "   'Date': '2020-10-02T08:00:38Z',\n",
       "   'Premium': {}},\n",
       "  {'Country': 'Canada',\n",
       "   'CountryCode': 'CA',\n",
       "   'Slug': 'canada',\n",
       "   'NewConfirmed': 1823,\n",
       "   'TotalConfirmed': 162917,\n",
       "   'NewDeaths': 22,\n",
       "   'TotalDeaths': 9367,\n",
       "   'NewRecovered': 1367,\n",
       "   'TotalRecovered': 138548,\n",
       "   'Date': '2020-10-02T08:00:38Z',\n",
       "   'Premium': {}},\n",
       "  {'Country': 'Cape Verde',\n",
       "   'CountryCode': 'CV',\n",
       "   'Slug': 'cape-verde',\n",
       "   'NewConfirmed': 102,\n",
       "   'TotalConfirmed': 6126,\n",
       "   'NewDeaths': 1,\n",
       "   'TotalDeaths': 61,\n",
       "   'NewRecovered': 61,\n",
       "   'TotalRecovered': 5338,\n",
       "   'Date': '2020-10-02T08:00:38Z',\n",
       "   'Premium': {}},\n",
       "  {'Country': 'Central African Republic',\n",
       "   'CountryCode': 'CF',\n",
       "   'Slug': 'central-african-republic',\n",
       "   'NewConfirmed': 0,\n",
       "   'TotalConfirmed': 4829,\n",
       "   'NewDeaths': 0,\n",
       "   'TotalDeaths': 62,\n",
       "   'NewRecovered': 0,\n",
       "   'TotalRecovered': 1914,\n",
       "   'Date': '2020-10-02T08:00:38Z',\n",
       "   'Premium': {}},\n",
       "  {'Country': 'Chad',\n",
       "   'CountryCode': 'TD',\n",
       "   'Slug': 'chad',\n",
       "   'NewConfirmed': 3,\n",
       "   'TotalConfirmed': 1203,\n",
       "   'NewDeaths': 0,\n",
       "   'TotalDeaths': 85,\n",
       "   'NewRecovered': 60,\n",
       "   'TotalRecovered': 1067,\n",
       "   'Date': '2020-10-02T08:00:38Z',\n",
       "   'Premium': {}},\n",
       "  {'Country': 'Chile',\n",
       "   'CountryCode': 'CL',\n",
       "   'Slug': 'chile',\n",
       "   'NewConfirmed': 1759,\n",
       "   'TotalConfirmed': 464750,\n",
       "   'NewDeaths': 81,\n",
       "   'TotalDeaths': 12822,\n",
       "   'NewRecovered': 1559,\n",
       "   'TotalRecovered': 438148,\n",
       "   'Date': '2020-10-02T08:00:38Z',\n",
       "   'Premium': {}},\n",
       "  {'Country': 'China',\n",
       "   'CountryCode': 'CN',\n",
       "   'Slug': 'china',\n",
       "   'NewConfirmed': 22,\n",
       "   'TotalConfirmed': 90567,\n",
       "   'NewDeaths': 0,\n",
       "   'TotalDeaths': 4739,\n",
       "   'NewRecovered': 19,\n",
       "   'TotalRecovered': 85479,\n",
       "   'Date': '2020-10-02T08:00:38Z',\n",
       "   'Premium': {}},\n",
       "  {'Country': 'Colombia',\n",
       "   'CountryCode': 'CO',\n",
       "   'Slug': 'colombia',\n",
       "   'NewConfirmed': 5660,\n",
       "   'TotalConfirmed': 835339,\n",
       "   'NewDeaths': 198,\n",
       "   'TotalDeaths': 26196,\n",
       "   'NewRecovered': 8038,\n",
       "   'TotalRecovered': 751691,\n",
       "   'Date': '2020-10-02T08:00:38Z',\n",
       "   'Premium': {}},\n",
       "  {'Country': 'Comoros',\n",
       "   'CountryCode': 'KM',\n",
       "   'Slug': 'comoros',\n",
       "   'NewConfirmed': 5,\n",
       "   'TotalConfirmed': 484,\n",
       "   'NewDeaths': 0,\n",
       "   'TotalDeaths': 7,\n",
       "   'NewRecovered': 2,\n",
       "   'TotalRecovered': 466,\n",
       "   'Date': '2020-10-02T08:00:38Z',\n",
       "   'Premium': {}},\n",
       "  {'Country': 'Congo (Brazzaville)',\n",
       "   'CountryCode': 'CG',\n",
       "   'Slug': 'congo-brazzaville',\n",
       "   'NewConfirmed': 0,\n",
       "   'TotalConfirmed': 5089,\n",
       "   'NewDeaths': 0,\n",
       "   'TotalDeaths': 89,\n",
       "   'NewRecovered': 0,\n",
       "   'TotalRecovered': 3887,\n",
       "   'Date': '2020-10-02T08:00:38Z',\n",
       "   'Premium': {}},\n",
       "  {'Country': 'Congo (Kinshasa)',\n",
       "   'CountryCode': 'CD',\n",
       "   'Slug': 'congo-kinshasa',\n",
       "   'NewConfirmed': 26,\n",
       "   'TotalConfirmed': 10685,\n",
       "   'NewDeaths': 0,\n",
       "   'TotalDeaths': 272,\n",
       "   'NewRecovered': 26,\n",
       "   'TotalRecovered': 10165,\n",
       "   'Date': '2020-10-02T08:00:38Z',\n",
       "   'Premium': {}},\n",
       "  {'Country': 'Costa Rica',\n",
       "   'CountryCode': 'CR',\n",
       "   'Slug': 'costa-rica',\n",
       "   'NewConfirmed': 1068,\n",
       "   'TotalConfirmed': 76828,\n",
       "   'NewDeaths': 13,\n",
       "   'TotalDeaths': 917,\n",
       "   'NewRecovered': 2002,\n",
       "   'TotalRecovered': 39843,\n",
       "   'Date': '2020-10-02T08:00:38Z',\n",
       "   'Premium': {}},\n",
       "  {'Country': 'Croatia',\n",
       "   'CountryCode': 'HR',\n",
       "   'Slug': 'croatia',\n",
       "   'NewConfirmed': 234,\n",
       "   'TotalConfirmed': 16827,\n",
       "   'NewDeaths': 4,\n",
       "   'TotalDeaths': 284,\n",
       "   'NewRecovered': 161,\n",
       "   'TotalRecovered': 15218,\n",
       "   'Date': '2020-10-02T08:00:38Z',\n",
       "   'Premium': {}},\n",
       "  {'Country': 'Cuba',\n",
       "   'CountryCode': 'CU',\n",
       "   'Slug': 'cuba',\n",
       "   'NewConfirmed': 73,\n",
       "   'TotalConfirmed': 5670,\n",
       "   'NewDeaths': 0,\n",
       "   'TotalDeaths': 122,\n",
       "   'NewRecovered': 29,\n",
       "   'TotalRecovered': 4922,\n",
       "   'Date': '2020-10-02T08:00:38Z',\n",
       "   'Premium': {}},\n",
       "  {'Country': 'Cyprus',\n",
       "   'CountryCode': 'CY',\n",
       "   'Slug': 'cyprus',\n",
       "   'NewConfirmed': 17,\n",
       "   'TotalConfirmed': 1772,\n",
       "   'NewDeaths': 0,\n",
       "   'TotalDeaths': 22,\n",
       "   'NewRecovered': 0,\n",
       "   'TotalRecovered': 1369,\n",
       "   'Date': '2020-10-02T08:00:38Z',\n",
       "   'Premium': {}},\n",
       "  {'Country': 'Czech Republic',\n",
       "   'CountryCode': 'CZ',\n",
       "   'Slug': 'czech-republic',\n",
       "   'NewConfirmed': 5336,\n",
       "   'TotalConfirmed': 74255,\n",
       "   'NewDeaths': 23,\n",
       "   'TotalDeaths': 678,\n",
       "   'NewRecovered': 743,\n",
       "   'TotalRecovered': 34186,\n",
       "   'Date': '2020-10-02T08:00:38Z',\n",
       "   'Premium': {}},\n",
       "  {'Country': \"Côte d'Ivoire\",\n",
       "   'CountryCode': 'CI',\n",
       "   'Slug': 'cote-divoire',\n",
       "   'NewConfirmed': 31,\n",
       "   'TotalConfirmed': 19755,\n",
       "   'NewDeaths': 0,\n",
       "   'TotalDeaths': 120,\n",
       "   'NewRecovered': 29,\n",
       "   'TotalRecovered': 19320,\n",
       "   'Date': '2020-10-02T08:00:38Z',\n",
       "   'Premium': {}},\n",
       "  {'Country': 'Denmark',\n",
       "   'CountryCode': 'DK',\n",
       "   'Slug': 'denmark',\n",
       "   'NewConfirmed': 403,\n",
       "   'TotalConfirmed': 28882,\n",
       "   'NewDeaths': 1,\n",
       "   'TotalDeaths': 651,\n",
       "   'NewRecovered': 555,\n",
       "   'TotalRecovered': 21752,\n",
       "   'Date': '2020-10-02T08:00:38Z',\n",
       "   'Premium': {}},\n",
       "  {'Country': 'Djibouti',\n",
       "   'CountryCode': 'DJ',\n",
       "   'Slug': 'djibouti',\n",
       "   'NewConfirmed': 1,\n",
       "   'TotalConfirmed': 5417,\n",
       "   'NewDeaths': 0,\n",
       "   'TotalDeaths': 61,\n",
       "   'NewRecovered': 2,\n",
       "   'TotalRecovered': 5346,\n",
       "   'Date': '2020-10-02T08:00:38Z',\n",
       "   'Premium': {}},\n",
       "  {'Country': 'Dominica',\n",
       "   'CountryCode': 'DM',\n",
       "   'Slug': 'dominica',\n",
       "   'NewConfirmed': 1,\n",
       "   'TotalConfirmed': 31,\n",
       "   'NewDeaths': 0,\n",
       "   'TotalDeaths': 0,\n",
       "   'NewRecovered': 0,\n",
       "   'TotalRecovered': 24,\n",
       "   'Date': '2020-10-02T08:00:38Z',\n",
       "   'Premium': {}},\n",
       "  {'Country': 'Dominican Republic',\n",
       "   'CountryCode': 'DO',\n",
       "   'Slug': 'dominican-republic',\n",
       "   'NewConfirmed': 519,\n",
       "   'TotalConfirmed': 112728,\n",
       "   'NewDeaths': 3,\n",
       "   'TotalDeaths': 2108,\n",
       "   'NewRecovered': 576,\n",
       "   'TotalRecovered': 88205,\n",
       "   'Date': '2020-10-02T08:00:38Z',\n",
       "   'Premium': {}},\n",
       "  {'Country': 'Ecuador',\n",
       "   'CountryCode': 'EC',\n",
       "   'Slug': 'ecuador',\n",
       "   'NewConfirmed': 1537,\n",
       "   'TotalConfirmed': 138584,\n",
       "   'NewDeaths': 78,\n",
       "   'TotalDeaths': 11433,\n",
       "   'NewRecovered': 0,\n",
       "   'TotalRecovered': 112296,\n",
       "   'Date': '2020-10-02T08:00:38Z',\n",
       "   'Premium': {}},\n",
       "  {'Country': 'Egypt',\n",
       "   'CountryCode': 'EG',\n",
       "   'Slug': 'egypt',\n",
       "   'NewConfirmed': 119,\n",
       "   'TotalConfirmed': 103317,\n",
       "   'NewDeaths': 16,\n",
       "   'TotalDeaths': 5946,\n",
       "   'NewRecovered': 361,\n",
       "   'TotalRecovered': 96855,\n",
       "   'Date': '2020-10-02T08:00:38Z',\n",
       "   'Premium': {}},\n",
       "  {'Country': 'El Salvador',\n",
       "   'CountryCode': 'SV',\n",
       "   'Slug': 'el-salvador',\n",
       "   'NewConfirmed': 98,\n",
       "   'TotalConfirmed': 29175,\n",
       "   'NewDeaths': 5,\n",
       "   'TotalDeaths': 848,\n",
       "   'NewRecovered': 117,\n",
       "   'TotalRecovered': 23930,\n",
       "   'Date': '2020-10-02T08:00:38Z',\n",
       "   'Premium': {}},\n",
       "  {'Country': 'Equatorial Guinea',\n",
       "   'CountryCode': 'GQ',\n",
       "   'Slug': 'equatorial-guinea',\n",
       "   'NewConfirmed': 15,\n",
       "   'TotalConfirmed': 5045,\n",
       "   'NewDeaths': 0,\n",
       "   'TotalDeaths': 83,\n",
       "   'NewRecovered': 110,\n",
       "   'TotalRecovered': 4879,\n",
       "   'Date': '2020-10-02T08:00:38Z',\n",
       "   'Premium': {}},\n",
       "  {'Country': 'Eritrea',\n",
       "   'CountryCode': 'ER',\n",
       "   'Slug': 'eritrea',\n",
       "   'NewConfirmed': 6,\n",
       "   'TotalConfirmed': 381,\n",
       "   'NewDeaths': 0,\n",
       "   'TotalDeaths': 0,\n",
       "   'NewRecovered': 12,\n",
       "   'TotalRecovered': 353,\n",
       "   'Date': '2020-10-02T08:00:38Z',\n",
       "   'Premium': {}},\n",
       "  {'Country': 'Estonia',\n",
       "   'CountryCode': 'EE',\n",
       "   'Slug': 'estonia',\n",
       "   'NewConfirmed': 79,\n",
       "   'TotalConfirmed': 3450,\n",
       "   'NewDeaths': 1,\n",
       "   'TotalDeaths': 65,\n",
       "   'NewRecovered': 38,\n",
       "   'TotalRecovered': 2643,\n",
       "   'Date': '2020-10-02T08:00:38Z',\n",
       "   'Premium': {}},\n",
       "  {'Country': 'Ethiopia',\n",
       "   'CountryCode': 'ET',\n",
       "   'Slug': 'ethiopia',\n",
       "   'NewConfirmed': 730,\n",
       "   'TotalConfirmed': 76098,\n",
       "   'NewDeaths': 7,\n",
       "   'TotalDeaths': 1205,\n",
       "   'NewRecovered': 226,\n",
       "   'TotalRecovered': 31430,\n",
       "   'Date': '2020-10-02T08:00:38Z',\n",
       "   'Premium': {}},\n",
       "  {'Country': 'Fiji',\n",
       "   'CountryCode': 'FJ',\n",
       "   'Slug': 'fiji',\n",
       "   'NewConfirmed': 0,\n",
       "   'TotalConfirmed': 32,\n",
       "   'NewDeaths': 0,\n",
       "   'TotalDeaths': 2,\n",
       "   'NewRecovered': 0,\n",
       "   'TotalRecovered': 28,\n",
       "   'Date': '2020-10-02T08:00:38Z',\n",
       "   'Premium': {}},\n",
       "  {'Country': 'Finland',\n",
       "   'CountryCode': 'FI',\n",
       "   'Slug': 'finland',\n",
       "   'NewConfirmed': 111,\n",
       "   'TotalConfirmed': 10103,\n",
       "   'NewDeaths': 0,\n",
       "   'TotalDeaths': 344,\n",
       "   'NewRecovered': 0,\n",
       "   'TotalRecovered': 8100,\n",
       "   'Date': '2020-10-02T08:00:38Z',\n",
       "   'Premium': {}},\n",
       "  {'Country': 'France',\n",
       "   'CountryCode': 'FR',\n",
       "   'Slug': 'france',\n",
       "   'NewConfirmed': 12955,\n",
       "   'TotalConfirmed': 616986,\n",
       "   'NewDeaths': 48,\n",
       "   'TotalDeaths': 32034,\n",
       "   'NewRecovered': 522,\n",
       "   'TotalRecovered': 99154,\n",
       "   'Date': '2020-10-02T08:00:38Z',\n",
       "   'Premium': {}},\n",
       "  {'Country': 'Gabon',\n",
       "   'CountryCode': 'GA',\n",
       "   'Slug': 'gabon',\n",
       "   'NewConfirmed': 0,\n",
       "   'TotalConfirmed': 8766,\n",
       "   'NewDeaths': 0,\n",
       "   'TotalDeaths': 54,\n",
       "   'NewRecovered': 0,\n",
       "   'TotalRecovered': 8005,\n",
       "   'Date': '2020-10-02T08:00:38Z',\n",
       "   'Premium': {}},\n",
       "  {'Country': 'Gambia',\n",
       "   'CountryCode': 'GM',\n",
       "   'Slug': 'gambia',\n",
       "   'NewConfirmed': 5,\n",
       "   'TotalConfirmed': 3584,\n",
       "   'NewDeaths': 1,\n",
       "   'TotalDeaths': 113,\n",
       "   'NewRecovered': 55,\n",
       "   'TotalRecovered': 2216,\n",
       "   'Date': '2020-10-02T08:00:38Z',\n",
       "   'Premium': {}},\n",
       "  {'Country': 'Georgia',\n",
       "   'CountryCode': 'GE',\n",
       "   'Slug': 'georgia',\n",
       "   'NewConfirmed': 448,\n",
       "   'TotalConfirmed': 6640,\n",
       "   'NewDeaths': 2,\n",
       "   'TotalDeaths': 41,\n",
       "   'NewRecovered': 299,\n",
       "   'TotalRecovered': 3419,\n",
       "   'Date': '2020-10-02T08:00:38Z',\n",
       "   'Premium': {}},\n",
       "  {'Country': 'Germany',\n",
       "   'CountryCode': 'DE',\n",
       "   'Slug': 'germany',\n",
       "   'NewConfirmed': 2626,\n",
       "   'TotalConfirmed': 295539,\n",
       "   'NewDeaths': 14,\n",
       "   'TotalDeaths': 9509,\n",
       "   'NewRecovered': 1359,\n",
       "   'TotalRecovered': 258220,\n",
       "   'Date': '2020-10-02T08:00:38Z',\n",
       "   'Premium': {}},\n",
       "  {'Country': 'Ghana',\n",
       "   'CountryCode': 'GH',\n",
       "   'Slug': 'ghana',\n",
       "   'NewConfirmed': 30,\n",
       "   'TotalConfirmed': 46656,\n",
       "   'NewDeaths': 0,\n",
       "   'TotalDeaths': 301,\n",
       "   'NewRecovered': 185,\n",
       "   'TotalRecovered': 45942,\n",
       "   'Date': '2020-10-02T08:00:38Z',\n",
       "   'Premium': {}},\n",
       "  {'Country': 'Greece',\n",
       "   'CountryCode': 'GR',\n",
       "   'Slug': 'greece',\n",
       "   'NewConfirmed': 411,\n",
       "   'TotalConfirmed': 18886,\n",
       "   'NewDeaths': 2,\n",
       "   'TotalDeaths': 393,\n",
       "   'NewRecovered': 0,\n",
       "   'TotalRecovered': 1347,\n",
       "   'Date': '2020-10-02T08:00:38Z',\n",
       "   'Premium': {}},\n",
       "  {'Country': 'Grenada',\n",
       "   'CountryCode': 'GD',\n",
       "   'Slug': 'grenada',\n",
       "   'NewConfirmed': 0,\n",
       "   'TotalConfirmed': 24,\n",
       "   'NewDeaths': 0,\n",
       "   'TotalDeaths': 0,\n",
       "   'NewRecovered': 0,\n",
       "   'TotalRecovered': 24,\n",
       "   'Date': '2020-10-02T08:00:38Z',\n",
       "   'Premium': {}},\n",
       "  {'Country': 'Guatemala',\n",
       "   'CountryCode': 'GT',\n",
       "   'Slug': 'guatemala',\n",
       "   'NewConfirmed': 663,\n",
       "   'TotalConfirmed': 92409,\n",
       "   'NewDeaths': 15,\n",
       "   'TotalDeaths': 3261,\n",
       "   'NewRecovered': 544,\n",
       "   'TotalRecovered': 80800,\n",
       "   'Date': '2020-10-02T08:00:38Z',\n",
       "   'Premium': {}},\n",
       "  {'Country': 'Guinea',\n",
       "   'CountryCode': 'GN',\n",
       "   'Slug': 'guinea',\n",
       "   'NewConfirmed': 0,\n",
       "   'TotalConfirmed': 10652,\n",
       "   'NewDeaths': 0,\n",
       "   'TotalDeaths': 66,\n",
       "   'NewRecovered': 0,\n",
       "   'TotalRecovered': 9996,\n",
       "   'Date': '2020-10-02T08:00:38Z',\n",
       "   'Premium': {}},\n",
       "  {'Country': 'Guinea-Bissau',\n",
       "   'CountryCode': 'GW',\n",
       "   'Slug': 'guinea-bissau',\n",
       "   'NewConfirmed': 0,\n",
       "   'TotalConfirmed': 2324,\n",
       "   'NewDeaths': 0,\n",
       "   'TotalDeaths': 39,\n",
       "   'NewRecovered': 0,\n",
       "   'TotalRecovered': 1549,\n",
       "   'Date': '2020-10-02T08:00:38Z',\n",
       "   'Premium': {}},\n",
       "  {'Country': 'Guyana',\n",
       "   'CountryCode': 'GY',\n",
       "   'Slug': 'guyana',\n",
       "   'NewConfirmed': 35,\n",
       "   'TotalConfirmed': 2929,\n",
       "   'NewDeaths': 2,\n",
       "   'TotalDeaths': 82,\n",
       "   'NewRecovered': 80,\n",
       "   'TotalRecovered': 1760,\n",
       "   'Date': '2020-10-02T08:00:38Z',\n",
       "   'Premium': {}},\n",
       "  {'Country': 'Haiti',\n",
       "   'CountryCode': 'HT',\n",
       "   'Slug': 'haiti',\n",
       "   'NewConfirmed': 15,\n",
       "   'TotalConfirmed': 8781,\n",
       "   'NewDeaths': 0,\n",
       "   'TotalDeaths': 229,\n",
       "   'NewRecovered': 78,\n",
       "   'TotalRecovered': 6907,\n",
       "   'Date': '2020-10-02T08:00:38Z',\n",
       "   'Premium': {}},\n",
       "  {'Country': 'Holy See (Vatican City State)',\n",
       "   'CountryCode': 'VA',\n",
       "   'Slug': 'holy-see-vatican-city-state',\n",
       "   'NewConfirmed': 0,\n",
       "   'TotalConfirmed': 12,\n",
       "   'NewDeaths': 0,\n",
       "   'TotalDeaths': 0,\n",
       "   'NewRecovered': 0,\n",
       "   'TotalRecovered': 12,\n",
       "   'Date': '2020-10-02T08:00:38Z',\n",
       "   'Premium': {}},\n",
       "  {'Country': 'Honduras',\n",
       "   'CountryCode': 'HN',\n",
       "   'Slug': 'honduras',\n",
       "   'NewConfirmed': 698,\n",
       "   'TotalConfirmed': 77598,\n",
       "   'NewDeaths': 27,\n",
       "   'TotalDeaths': 2380,\n",
       "   'NewRecovered': 595,\n",
       "   'TotalRecovered': 28517,\n",
       "   'Date': '2020-10-02T08:00:38Z',\n",
       "   'Premium': {}},\n",
       "  {'Country': 'Hungary',\n",
       "   'CountryCode': 'HU',\n",
       "   'Slug': 'hungary',\n",
       "   'NewConfirmed': 848,\n",
       "   'TotalConfirmed': 27309,\n",
       "   'NewDeaths': 16,\n",
       "   'TotalDeaths': 781,\n",
       "   'NewRecovered': 228,\n",
       "   'TotalRecovered': 6118,\n",
       "   'Date': '2020-10-02T08:00:38Z',\n",
       "   'Premium': {}},\n",
       "  {'Country': 'Iceland',\n",
       "   'CountryCode': 'IS',\n",
       "   'Slug': 'iceland',\n",
       "   'NewConfirmed': 41,\n",
       "   'TotalConfirmed': 2769,\n",
       "   'NewDeaths': 0,\n",
       "   'TotalDeaths': 10,\n",
       "   'NewRecovered': 10,\n",
       "   'TotalRecovered': 2177,\n",
       "   'Date': '2020-10-02T08:00:38Z',\n",
       "   'Premium': {}},\n",
       "  {'Country': 'India',\n",
       "   'CountryCode': 'IN',\n",
       "   'Slug': 'india',\n",
       "   'NewConfirmed': 0,\n",
       "   'TotalConfirmed': 6312584,\n",
       "   'NewDeaths': 0,\n",
       "   'TotalDeaths': 98678,\n",
       "   'NewRecovered': 0,\n",
       "   'TotalRecovered': 5273201,\n",
       "   'Date': '2020-10-02T08:00:38Z',\n",
       "   'Premium': {}},\n",
       "  {'Country': 'Indonesia',\n",
       "   'CountryCode': 'ID',\n",
       "   'Slug': 'indonesia',\n",
       "   'NewConfirmed': 4174,\n",
       "   'TotalConfirmed': 291182,\n",
       "   'NewDeaths': 116,\n",
       "   'TotalDeaths': 10856,\n",
       "   'NewRecovered': 3540,\n",
       "   'TotalRecovered': 218487,\n",
       "   'Date': '2020-10-02T08:00:38Z',\n",
       "   'Premium': {}},\n",
       "  {'Country': 'Iran, Islamic Republic of',\n",
       "   'CountryCode': 'IR',\n",
       "   'Slug': 'iran',\n",
       "   'NewConfirmed': 3825,\n",
       "   'TotalConfirmed': 461044,\n",
       "   'NewDeaths': 211,\n",
       "   'TotalDeaths': 26380,\n",
       "   'NewRecovered': 2412,\n",
       "   'TotalRecovered': 383368,\n",
       "   'Date': '2020-10-02T08:00:38Z',\n",
       "   'Premium': {}},\n",
       "  {'Country': 'Iraq',\n",
       "   'CountryCode': 'IQ',\n",
       "   'Slug': 'iraq',\n",
       "   'NewConfirmed': 4493,\n",
       "   'TotalConfirmed': 367474,\n",
       "   'NewDeaths': 50,\n",
       "   'TotalDeaths': 9231,\n",
       "   'NewRecovered': 3685,\n",
       "   'TotalRecovered': 295882,\n",
       "   'Date': '2020-10-02T08:00:38Z',\n",
       "   'Premium': {}},\n",
       "  {'Country': 'Ireland',\n",
       "   'CountryCode': 'IE',\n",
       "   'Slug': 'ireland',\n",
       "   'NewConfirmed': 442,\n",
       "   'TotalConfirmed': 36597,\n",
       "   'NewDeaths': 2,\n",
       "   'TotalDeaths': 1806,\n",
       "   'NewRecovered': 0,\n",
       "   'TotalRecovered': 23364,\n",
       "   'Date': '2020-10-02T08:00:38Z',\n",
       "   'Premium': {}},\n",
       "  {'Country': 'Israel',\n",
       "   'CountryCode': 'IL',\n",
       "   'Slug': 'israel',\n",
       "   'NewConfirmed': 7996,\n",
       "   'TotalConfirmed': 253490,\n",
       "   'NewDeaths': 53,\n",
       "   'TotalDeaths': 1622,\n",
       "   'NewRecovered': 4962,\n",
       "   'TotalRecovered': 179468,\n",
       "   'Date': '2020-10-02T08:00:38Z',\n",
       "   'Premium': {}},\n",
       "  {'Country': 'Italy',\n",
       "   'CountryCode': 'IT',\n",
       "   'Slug': 'italy',\n",
       "   'NewConfirmed': 2548,\n",
       "   'TotalConfirmed': 317409,\n",
       "   'NewDeaths': 24,\n",
       "   'TotalDeaths': 35918,\n",
       "   'NewRecovered': 1140,\n",
       "   'TotalRecovered': 228844,\n",
       "   'Date': '2020-10-02T08:00:38Z',\n",
       "   'Premium': {}},\n",
       "  {'Country': 'Jamaica',\n",
       "   'CountryCode': 'JM',\n",
       "   'Slug': 'jamaica',\n",
       "   'NewConfirmed': 73,\n",
       "   'TotalConfirmed': 6555,\n",
       "   'NewDeaths': 4,\n",
       "   'TotalDeaths': 111,\n",
       "   'NewRecovered': 124,\n",
       "   'TotalRecovered': 1991,\n",
       "   'Date': '2020-10-02T08:00:38Z',\n",
       "   'Premium': {}},\n",
       "  {'Country': 'Japan',\n",
       "   'CountryCode': 'JP',\n",
       "   'Slug': 'japan',\n",
       "   'NewConfirmed': 653,\n",
       "   'TotalConfirmed': 84244,\n",
       "   'NewDeaths': 5,\n",
       "   'TotalDeaths': 1580,\n",
       "   'NewRecovered': 559,\n",
       "   'TotalRecovered': 76081,\n",
       "   'Date': '2020-10-02T08:00:38Z',\n",
       "   'Premium': {}},\n",
       "  {'Country': 'Jordan',\n",
       "   'CountryCode': 'JO',\n",
       "   'Slug': 'jordan',\n",
       "   'NewConfirmed': 1276,\n",
       "   'TotalConfirmed': 13101,\n",
       "   'NewDeaths': 8,\n",
       "   'TotalDeaths': 69,\n",
       "   'NewRecovered': 126,\n",
       "   'TotalRecovered': 4752,\n",
       "   'Date': '2020-10-02T08:00:38Z',\n",
       "   'Premium': {}},\n",
       "  {'Country': 'Kazakhstan',\n",
       "   'CountryCode': 'KZ',\n",
       "   'Slug': 'kazakhstan',\n",
       "   'NewConfirmed': 65,\n",
       "   'TotalConfirmed': 108044,\n",
       "   'NewDeaths': 0,\n",
       "   'TotalDeaths': 1725,\n",
       "   'NewRecovered': 91,\n",
       "   'TotalRecovered': 103028,\n",
       "   'Date': '2020-10-02T08:00:38Z',\n",
       "   'Premium': {}},\n",
       "  {'Country': 'Kenya',\n",
       "   'CountryCode': 'KE',\n",
       "   'Slug': 'kenya',\n",
       "   'NewConfirmed': 184,\n",
       "   'TotalConfirmed': 38713,\n",
       "   'NewDeaths': 0,\n",
       "   'TotalDeaths': 711,\n",
       "   'NewRecovered': 0,\n",
       "   'TotalRecovered': 24908,\n",
       "   'Date': '2020-10-02T08:00:38Z',\n",
       "   'Premium': {}},\n",
       "  {'Country': 'Korea (South)',\n",
       "   'CountryCode': 'KR',\n",
       "   'Slug': 'korea-south',\n",
       "   'NewConfirmed': 63,\n",
       "   'TotalConfirmed': 23952,\n",
       "   'NewDeaths': 1,\n",
       "   'TotalDeaths': 416,\n",
       "   'NewRecovered': 67,\n",
       "   'TotalRecovered': 21733,\n",
       "   'Date': '2020-10-02T08:00:38Z',\n",
       "   'Premium': {}},\n",
       "  {'Country': 'Kuwait',\n",
       "   'CountryCode': 'KW',\n",
       "   'Slug': 'kuwait',\n",
       "   'NewConfirmed': 494,\n",
       "   'TotalConfirmed': 105676,\n",
       "   'NewDeaths': 2,\n",
       "   'TotalDeaths': 612,\n",
       "   'NewRecovered': 509,\n",
       "   'TotalRecovered': 97197,\n",
       "   'Date': '2020-10-02T08:00:38Z',\n",
       "   'Premium': {}},\n",
       "  {'Country': 'Kyrgyzstan',\n",
       "   'CountryCode': 'KG',\n",
       "   'Slug': 'kyrgyzstan',\n",
       "   'NewConfirmed': 172,\n",
       "   'TotalConfirmed': 46841,\n",
       "   'NewDeaths': 1,\n",
       "   'TotalDeaths': 1065,\n",
       "   'NewRecovered': 104,\n",
       "   'TotalRecovered': 42983,\n",
       "   'Date': '2020-10-02T08:00:38Z',\n",
       "   'Premium': {}},\n",
       "  {'Country': 'Lao PDR',\n",
       "   'CountryCode': 'LA',\n",
       "   'Slug': 'lao-pdr',\n",
       "   'NewConfirmed': 0,\n",
       "   'TotalConfirmed': 23,\n",
       "   'NewDeaths': 0,\n",
       "   'TotalDeaths': 0,\n",
       "   'NewRecovered': 0,\n",
       "   'TotalRecovered': 22,\n",
       "   'Date': '2020-10-02T08:00:38Z',\n",
       "   'Premium': {}},\n",
       "  {'Country': 'Latvia',\n",
       "   'CountryCode': 'LV',\n",
       "   'Slug': 'latvia',\n",
       "   'NewConfirmed': 44,\n",
       "   'TotalConfirmed': 1868,\n",
       "   'NewDeaths': 0,\n",
       "   'TotalDeaths': 37,\n",
       "   'NewRecovered': 0,\n",
       "   'TotalRecovered': 1307,\n",
       "   'Date': '2020-10-02T08:00:38Z',\n",
       "   'Premium': {}},\n",
       "  {'Country': 'Lebanon',\n",
       "   'CountryCode': 'LB',\n",
       "   'Slug': 'lebanon',\n",
       "   'NewConfirmed': 1248,\n",
       "   'TotalConfirmed': 40882,\n",
       "   'NewDeaths': 7,\n",
       "   'TotalDeaths': 374,\n",
       "   'NewRecovered': 538,\n",
       "   'TotalRecovered': 18103,\n",
       "   'Date': '2020-10-02T08:00:38Z',\n",
       "   'Premium': {}},\n",
       "  {'Country': 'Lesotho',\n",
       "   'CountryCode': 'LS',\n",
       "   'Slug': 'lesotho',\n",
       "   'NewConfirmed': 44,\n",
       "   'TotalConfirmed': 1639,\n",
       "   'NewDeaths': 2,\n",
       "   'TotalDeaths': 38,\n",
       "   'NewRecovered': 1,\n",
       "   'TotalRecovered': 874,\n",
       "   'Date': '2020-10-02T08:00:38Z',\n",
       "   'Premium': {}},\n",
       "  {'Country': 'Liberia',\n",
       "   'CountryCode': 'LR',\n",
       "   'Slug': 'liberia',\n",
       "   'NewConfirmed': 0,\n",
       "   'TotalConfirmed': 1343,\n",
       "   'NewDeaths': 0,\n",
       "   'TotalDeaths': 82,\n",
       "   'NewRecovered': 0,\n",
       "   'TotalRecovered': 1221,\n",
       "   'Date': '2020-10-02T08:00:38Z',\n",
       "   'Premium': {}},\n",
       "  {'Country': 'Libya',\n",
       "   'CountryCode': 'LY',\n",
       "   'Slug': 'libya',\n",
       "   'NewConfirmed': 683,\n",
       "   'TotalConfirmed': 35208,\n",
       "   'NewDeaths': 8,\n",
       "   'TotalDeaths': 559,\n",
       "   'NewRecovered': 533,\n",
       "   'TotalRecovered': 19894,\n",
       "   'Date': '2020-10-02T08:00:38Z',\n",
       "   'Premium': {}},\n",
       "  {'Country': 'Liechtenstein',\n",
       "   'CountryCode': 'LI',\n",
       "   'Slug': 'liechtenstein',\n",
       "   'NewConfirmed': 1,\n",
       "   'TotalConfirmed': 119,\n",
       "   'NewDeaths': 0,\n",
       "   'TotalDeaths': 1,\n",
       "   'NewRecovered': 1,\n",
       "   'TotalRecovered': 114,\n",
       "   'Date': '2020-10-02T08:00:38Z',\n",
       "   'Premium': {}},\n",
       "  {'Country': 'Lithuania',\n",
       "   'CountryCode': 'LT',\n",
       "   'Slug': 'lithuania',\n",
       "   'NewConfirmed': 91,\n",
       "   'TotalConfirmed': 4784,\n",
       "   'NewDeaths': 0,\n",
       "   'TotalDeaths': 92,\n",
       "   'NewRecovered': 59,\n",
       "   'TotalRecovered': 2424,\n",
       "   'Date': '2020-10-02T08:00:38Z',\n",
       "   'Premium': {}},\n",
       "  {'Country': 'Luxembourg',\n",
       "   'CountryCode': 'LU',\n",
       "   'Slug': 'luxembourg',\n",
       "   'NewConfirmed': 86,\n",
       "   'TotalConfirmed': 8595,\n",
       "   'NewDeaths': 1,\n",
       "   'TotalDeaths': 125,\n",
       "   'NewRecovered': 106,\n",
       "   'TotalRecovered': 7280,\n",
       "   'Date': '2020-10-02T08:00:38Z',\n",
       "   'Premium': {}},\n",
       "  {'Country': 'Macao, SAR China',\n",
       "   'CountryCode': 'MO',\n",
       "   'Slug': 'macao-sar-china',\n",
       "   'NewConfirmed': 0,\n",
       "   'TotalConfirmed': 0,\n",
       "   'NewDeaths': 0,\n",
       "   'TotalDeaths': 0,\n",
       "   'NewRecovered': 0,\n",
       "   'TotalRecovered': 0,\n",
       "   'Date': '2020-10-02T08:00:38Z',\n",
       "   'Premium': {}},\n",
       "  {'Country': 'Macedonia, Republic of',\n",
       "   'CountryCode': 'MK',\n",
       "   'Slug': 'macedonia',\n",
       "   'NewConfirmed': 161,\n",
       "   'TotalConfirmed': 18138,\n",
       "   'NewDeaths': 4,\n",
       "   'TotalDeaths': 743,\n",
       "   'NewRecovered': 109,\n",
       "   'TotalRecovered': 15068,\n",
       "   'Date': '2020-10-02T08:00:38Z',\n",
       "   'Premium': {}},\n",
       "  {'Country': 'Madagascar',\n",
       "   'CountryCode': 'MG',\n",
       "   'Slug': 'madagascar',\n",
       "   'NewConfirmed': 46,\n",
       "   'TotalConfirmed': 16454,\n",
       "   'NewDeaths': 2,\n",
       "   'TotalDeaths': 232,\n",
       "   'NewRecovered': 129,\n",
       "   'TotalRecovered': 15430,\n",
       "   'Date': '2020-10-02T08:00:38Z',\n",
       "   'Premium': {}},\n",
       "  {'Country': 'Malawi',\n",
       "   'CountryCode': 'MW',\n",
       "   'Slug': 'malawi',\n",
       "   'NewConfirmed': 6,\n",
       "   'TotalConfirmed': 5779,\n",
       "   'NewDeaths': 0,\n",
       "   'TotalDeaths': 179,\n",
       "   'NewRecovered': 251,\n",
       "   'TotalRecovered': 4514,\n",
       "   'Date': '2020-10-02T08:00:38Z',\n",
       "   'Premium': {}},\n",
       "  {'Country': 'Malaysia',\n",
       "   'CountryCode': 'MY',\n",
       "   'Slug': 'malaysia',\n",
       "   'NewConfirmed': 260,\n",
       "   'TotalConfirmed': 11484,\n",
       "   'NewDeaths': 0,\n",
       "   'TotalDeaths': 136,\n",
       "   'NewRecovered': 47,\n",
       "   'TotalRecovered': 10014,\n",
       "   'Date': '2020-10-02T08:00:38Z',\n",
       "   'Premium': {}},\n",
       "  {'Country': 'Maldives',\n",
       "   'CountryCode': 'MV',\n",
       "   'Slug': 'maldives',\n",
       "   'NewConfirmed': 63,\n",
       "   'TotalConfirmed': 10354,\n",
       "   'NewDeaths': 0,\n",
       "   'TotalDeaths': 34,\n",
       "   'NewRecovered': 79,\n",
       "   'TotalRecovered': 9187,\n",
       "   'Date': '2020-10-02T08:00:38Z',\n",
       "   'Premium': {}},\n",
       "  {'Country': 'Mali',\n",
       "   'CountryCode': 'ML',\n",
       "   'Slug': 'mali',\n",
       "   'NewConfirmed': 13,\n",
       "   'TotalConfirmed': 3131,\n",
       "   'NewDeaths': 0,\n",
       "   'TotalDeaths': 131,\n",
       "   'NewRecovered': 7,\n",
       "   'TotalRecovered': 2460,\n",
       "   'Date': '2020-10-02T08:00:38Z',\n",
       "   'Premium': {}},\n",
       "  {'Country': 'Malta',\n",
       "   'CountryCode': 'MT',\n",
       "   'Slug': 'malta',\n",
       "   'NewConfirmed': 37,\n",
       "   'TotalConfirmed': 3095,\n",
       "   'NewDeaths': 0,\n",
       "   'TotalDeaths': 35,\n",
       "   'NewRecovered': 43,\n",
       "   'TotalRecovered': 2605,\n",
       "   'Date': '2020-10-02T08:00:38Z',\n",
       "   'Premium': {}},\n",
       "  {'Country': 'Mauritania',\n",
       "   'CountryCode': 'MR',\n",
       "   'Slug': 'mauritania',\n",
       "   'NewConfirmed': 3,\n",
       "   'TotalConfirmed': 7505,\n",
       "   'NewDeaths': 0,\n",
       "   'TotalDeaths': 161,\n",
       "   'NewRecovered': 18,\n",
       "   'TotalRecovered': 7138,\n",
       "   'Date': '2020-10-02T08:00:38Z',\n",
       "   'Premium': {}},\n",
       "  {'Country': 'Mauritius',\n",
       "   'CountryCode': 'MU',\n",
       "   'Slug': 'mauritius',\n",
       "   'NewConfirmed': 0,\n",
       "   'TotalConfirmed': 381,\n",
       "   'NewDeaths': 0,\n",
       "   'TotalDeaths': 10,\n",
       "   'NewRecovered': 0,\n",
       "   'TotalRecovered': 344,\n",
       "   'Date': '2020-10-02T08:00:38Z',\n",
       "   'Premium': {}},\n",
       "  {'Country': 'Mexico',\n",
       "   'CountryCode': 'MX',\n",
       "   'Slug': 'mexico',\n",
       "   'NewConfirmed': 5099,\n",
       "   'TotalConfirmed': 748315,\n",
       "   'NewDeaths': 432,\n",
       "   'TotalDeaths': 78078,\n",
       "   'NewRecovered': 1623,\n",
       "   'TotalRecovered': 629630,\n",
       "   'Date': '2020-10-02T08:00:38Z',\n",
       "   'Premium': {}},\n",
       "  {'Country': 'Moldova',\n",
       "   'CountryCode': 'MD',\n",
       "   'Slug': 'moldova',\n",
       "   'NewConfirmed': 1022,\n",
       "   'TotalConfirmed': 54064,\n",
       "   'NewDeaths': 16,\n",
       "   'TotalDeaths': 1336,\n",
       "   'NewRecovered': 502,\n",
       "   'TotalRecovered': 39499,\n",
       "   'Date': '2020-10-02T08:00:38Z',\n",
       "   'Premium': {}},\n",
       "  {'Country': 'Monaco',\n",
       "   'CountryCode': 'MC',\n",
       "   'Slug': 'monaco',\n",
       "   'NewConfirmed': 1,\n",
       "   'TotalConfirmed': 219,\n",
       "   'NewDeaths': 0,\n",
       "   'TotalDeaths': 2,\n",
       "   'NewRecovered': 6,\n",
       "   'TotalRecovered': 187,\n",
       "   'Date': '2020-10-02T08:00:38Z',\n",
       "   'Premium': {}},\n",
       "  {'Country': 'Mongolia',\n",
       "   'CountryCode': 'MN',\n",
       "   'Slug': 'mongolia',\n",
       "   'NewConfirmed': 0,\n",
       "   'TotalConfirmed': 313,\n",
       "   'NewDeaths': 0,\n",
       "   'TotalDeaths': 0,\n",
       "   'NewRecovered': 0,\n",
       "   'TotalRecovered': 307,\n",
       "   'Date': '2020-10-02T08:00:38Z',\n",
       "   'Premium': {}},\n",
       "  {'Country': 'Montenegro',\n",
       "   'CountryCode': 'ME',\n",
       "   'Slug': 'montenegro',\n",
       "   'NewConfirmed': 215,\n",
       "   'TotalConfirmed': 10987,\n",
       "   'NewDeaths': 1,\n",
       "   'TotalDeaths': 170,\n",
       "   'NewRecovered': 205,\n",
       "   'TotalRecovered': 7397,\n",
       "   'Date': '2020-10-02T08:00:38Z',\n",
       "   'Premium': {}},\n",
       "  {'Country': 'Morocco',\n",
       "   'CountryCode': 'MA',\n",
       "   'Slug': 'morocco',\n",
       "   'NewConfirmed': 2391,\n",
       "   'TotalConfirmed': 126044,\n",
       "   'NewDeaths': 35,\n",
       "   'TotalDeaths': 2229,\n",
       "   'NewRecovered': 1421,\n",
       "   'TotalRecovered': 104136,\n",
       "   'Date': '2020-10-02T08:00:38Z',\n",
       "   'Premium': {}},\n",
       "  {'Country': 'Mozambique',\n",
       "   'CountryCode': 'MZ',\n",
       "   'Slug': 'mozambique',\n",
       "   'NewConfirmed': 160,\n",
       "   'TotalConfirmed': 8888,\n",
       "   'NewDeaths': 1,\n",
       "   'TotalDeaths': 62,\n",
       "   'NewRecovered': 341,\n",
       "   'TotalRecovered': 5573,\n",
       "   'Date': '2020-10-02T08:00:38Z',\n",
       "   'Premium': {}},\n",
       "  {'Country': 'Myanmar',\n",
       "   'CountryCode': 'MM',\n",
       "   'Slug': 'myanmar',\n",
       "   'NewConfirmed': 1010,\n",
       "   'TotalConfirmed': 14383,\n",
       "   'NewDeaths': 11,\n",
       "   'TotalDeaths': 321,\n",
       "   'NewRecovered': 401,\n",
       "   'TotalRecovered': 4156,\n",
       "   'Date': '2020-10-02T08:00:38Z',\n",
       "   'Premium': {}},\n",
       "  {'Country': 'Namibia',\n",
       "   'CountryCode': 'NA',\n",
       "   'Slug': 'namibia',\n",
       "   'NewConfirmed': 108,\n",
       "   'TotalConfirmed': 11373,\n",
       "   'NewDeaths': 2,\n",
       "   'TotalDeaths': 123,\n",
       "   'NewRecovered': 69,\n",
       "   'TotalRecovered': 9083,\n",
       "   'Date': '2020-10-02T08:00:38Z',\n",
       "   'Premium': {}},\n",
       "  {'Country': 'Nepal',\n",
       "   'CountryCode': 'NP',\n",
       "   'Slug': 'nepal',\n",
       "   'NewConfirmed': 1911,\n",
       "   'TotalConfirmed': 79728,\n",
       "   'NewDeaths': 11,\n",
       "   'TotalDeaths': 509,\n",
       "   'NewRecovered': 961,\n",
       "   'TotalRecovered': 57389,\n",
       "   'Date': '2020-10-02T08:00:38Z',\n",
       "   'Premium': {}},\n",
       "  {'Country': 'Netherlands',\n",
       "   'CountryCode': 'NL',\n",
       "   'Slug': 'netherlands',\n",
       "   'NewConfirmed': 3252,\n",
       "   'TotalConfirmed': 124097,\n",
       "   'NewDeaths': 13,\n",
       "   'TotalDeaths': 6419,\n",
       "   'NewRecovered': 0,\n",
       "   'TotalRecovered': 0,\n",
       "   'Date': '2020-10-02T08:00:38Z',\n",
       "   'Premium': {}},\n",
       "  {'Country': 'New Zealand',\n",
       "   'CountryCode': 'NZ',\n",
       "   'Slug': 'new-zealand',\n",
       "   'NewConfirmed': 0,\n",
       "   'TotalConfirmed': 1848,\n",
       "   'NewDeaths': 0,\n",
       "   'TotalDeaths': 25,\n",
       "   'NewRecovered': 10,\n",
       "   'TotalRecovered': 1780,\n",
       "   'Date': '2020-10-02T08:00:38Z',\n",
       "   'Premium': {}},\n",
       "  {'Country': 'Nicaragua',\n",
       "   'CountryCode': 'NI',\n",
       "   'Slug': 'nicaragua',\n",
       "   'NewConfirmed': 0,\n",
       "   'TotalConfirmed': 5170,\n",
       "   'NewDeaths': 0,\n",
       "   'TotalDeaths': 151,\n",
       "   'NewRecovered': 0,\n",
       "   'TotalRecovered': 2913,\n",
       "   'Date': '2020-10-02T08:00:38Z',\n",
       "   'Premium': {}},\n",
       "  {'Country': 'Niger',\n",
       "   'CountryCode': 'NE',\n",
       "   'Slug': 'niger',\n",
       "   'NewConfirmed': 0,\n",
       "   'TotalConfirmed': 1197,\n",
       "   'NewDeaths': 0,\n",
       "   'TotalDeaths': 69,\n",
       "   'NewRecovered': 0,\n",
       "   'TotalRecovered': 1114,\n",
       "   'Date': '2020-10-02T08:00:38Z',\n",
       "   'Premium': {}},\n",
       "  {'Country': 'Nigeria',\n",
       "   'CountryCode': 'NG',\n",
       "   'Slug': 'nigeria',\n",
       "   'NewConfirmed': 153,\n",
       "   'TotalConfirmed': 59001,\n",
       "   'NewDeaths': 0,\n",
       "   'TotalDeaths': 1112,\n",
       "   'NewRecovered': 94,\n",
       "   'TotalRecovered': 50452,\n",
       "   'Date': '2020-10-02T08:00:38Z',\n",
       "   'Premium': {}},\n",
       "  {'Country': 'Norway',\n",
       "   'CountryCode': 'NO',\n",
       "   'Slug': 'norway',\n",
       "   'NewConfirmed': 122,\n",
       "   'TotalConfirmed': 14149,\n",
       "   'NewDeaths': 0,\n",
       "   'TotalDeaths': 274,\n",
       "   'NewRecovered': 0,\n",
       "   'TotalRecovered': 11190,\n",
       "   'Date': '2020-10-02T08:00:38Z',\n",
       "   'Premium': {}},\n",
       "  {'Country': 'Oman',\n",
       "   'CountryCode': 'OM',\n",
       "   'Slug': 'oman',\n",
       "   'NewConfirmed': 0,\n",
       "   'TotalConfirmed': 98585,\n",
       "   'NewDeaths': 0,\n",
       "   'TotalDeaths': 935,\n",
       "   'NewRecovered': 0,\n",
       "   'TotalRecovered': 88528,\n",
       "   'Date': '2020-10-02T08:00:38Z',\n",
       "   'Premium': {}},\n",
       "  {'Country': 'Pakistan',\n",
       "   'CountryCode': 'PK',\n",
       "   'Slug': 'pakistan',\n",
       "   'NewConfirmed': 625,\n",
       "   'TotalConfirmed': 313431,\n",
       "   'NewDeaths': 15,\n",
       "   'TotalDeaths': 6499,\n",
       "   'NewRecovered': 558,\n",
       "   'TotalRecovered': 298055,\n",
       "   'Date': '2020-10-02T08:00:38Z',\n",
       "   'Premium': {}},\n",
       "  {'Country': 'Palestinian Territory',\n",
       "   'CountryCode': 'PS',\n",
       "   'Slug': 'palestine',\n",
       "   'NewConfirmed': 423,\n",
       "   'TotalConfirmed': 40322,\n",
       "   'NewDeaths': 7,\n",
       "   'TotalDeaths': 318,\n",
       "   'NewRecovered': 834,\n",
       "   'TotalRecovered': 32577,\n",
       "   'Date': '2020-10-02T08:00:38Z',\n",
       "   'Premium': {}},\n",
       "  {'Country': 'Panama',\n",
       "   'CountryCode': 'PA',\n",
       "   'Slug': 'panama',\n",
       "   'NewConfirmed': 747,\n",
       "   'TotalConfirmed': 113342,\n",
       "   'NewDeaths': 15,\n",
       "   'TotalDeaths': 2387,\n",
       "   'NewRecovered': 842,\n",
       "   'TotalRecovered': 89903,\n",
       "   'Date': '2020-10-02T08:00:38Z',\n",
       "   'Premium': {}},\n",
       "  {'Country': 'Papua New Guinea',\n",
       "   'CountryCode': 'PG',\n",
       "   'Slug': 'papua-new-guinea',\n",
       "   'NewConfirmed': 5,\n",
       "   'TotalConfirmed': 539,\n",
       "   'NewDeaths': 0,\n",
       "   'TotalDeaths': 7,\n",
       "   'NewRecovered': 3,\n",
       "   'TotalRecovered': 519,\n",
       "   'Date': '2020-10-02T08:00:38Z',\n",
       "   'Premium': {}},\n",
       "  {'Country': 'Paraguay',\n",
       "   'CountryCode': 'PY',\n",
       "   'Slug': 'paraguay',\n",
       "   'NewConfirmed': 1041,\n",
       "   'TotalConfirmed': 41799,\n",
       "   'NewDeaths': 12,\n",
       "   'TotalDeaths': 869,\n",
       "   'NewRecovered': 718,\n",
       "   'TotalRecovered': 25167,\n",
       "   'Date': '2020-10-02T08:00:38Z',\n",
       "   'Premium': {}},\n",
       "  {'Country': 'Peru',\n",
       "   'CountryCode': 'PE',\n",
       "   'Slug': 'peru',\n",
       "   'NewConfirmed': 3061,\n",
       "   'TotalConfirmed': 814829,\n",
       "   'NewDeaths': 67,\n",
       "   'TotalDeaths': 32463,\n",
       "   'NewRecovered': 13603,\n",
       "   'TotalRecovered': 690528,\n",
       "   'Date': '2020-10-02T08:00:38Z',\n",
       "   'Premium': {}},\n",
       "  {'Country': 'Philippines',\n",
       "   'CountryCode': 'PH',\n",
       "   'Slug': 'philippines',\n",
       "   'NewConfirmed': 2385,\n",
       "   'TotalConfirmed': 314079,\n",
       "   'NewDeaths': 58,\n",
       "   'TotalDeaths': 5562,\n",
       "   'NewRecovered': 735,\n",
       "   'TotalRecovered': 254223,\n",
       "   'Date': '2020-10-02T08:00:38Z',\n",
       "   'Premium': {}},\n",
       "  {'Country': 'Poland',\n",
       "   'CountryCode': 'PL',\n",
       "   'Slug': 'poland',\n",
       "   'NewConfirmed': 1967,\n",
       "   'TotalConfirmed': 93481,\n",
       "   'NewDeaths': 30,\n",
       "   'TotalDeaths': 2543,\n",
       "   'NewRecovered': 706,\n",
       "   'TotalRecovered': 70401,\n",
       "   'Date': '2020-10-02T08:00:38Z',\n",
       "   'Premium': {}},\n",
       "  {'Country': 'Portugal',\n",
       "   'CountryCode': 'PT',\n",
       "   'Slug': 'portugal',\n",
       "   'NewConfirmed': 854,\n",
       "   'TotalConfirmed': 76396,\n",
       "   'NewDeaths': 6,\n",
       "   'TotalDeaths': 1977,\n",
       "   'NewRecovered': 407,\n",
       "   'TotalRecovered': 48937,\n",
       "   'Date': '2020-10-02T08:00:38Z',\n",
       "   'Premium': {}},\n",
       "  {'Country': 'Qatar',\n",
       "   'CountryCode': 'QA',\n",
       "   'Slug': 'qatar',\n",
       "   'NewConfirmed': 199,\n",
       "   'TotalConfirmed': 125959,\n",
       "   'NewDeaths': 0,\n",
       "   'TotalDeaths': 214,\n",
       "   'NewRecovered': 212,\n",
       "   'TotalRecovered': 122911,\n",
       "   'Date': '2020-10-02T08:00:38Z',\n",
       "   'Premium': {}},\n",
       "  {'Country': 'Republic of Kosovo',\n",
       "   'CountryCode': 'XK',\n",
       "   'Slug': 'kosovo',\n",
       "   'NewConfirmed': 0,\n",
       "   'TotalConfirmed': 12683,\n",
       "   'NewDeaths': 0,\n",
       "   'TotalDeaths': 488,\n",
       "   'NewRecovered': 0,\n",
       "   'TotalRecovered': 8788,\n",
       "   'Date': '2020-10-02T08:00:38Z',\n",
       "   'Premium': {}},\n",
       "  {'Country': 'Romania',\n",
       "   'CountryCode': 'RO',\n",
       "   'Slug': 'romania',\n",
       "   'NewConfirmed': 2086,\n",
       "   'TotalConfirmed': 129658,\n",
       "   'NewDeaths': 37,\n",
       "   'TotalDeaths': 4862,\n",
       "   'NewRecovered': 1518,\n",
       "   'TotalRecovered': 103994,\n",
       "   'Date': '2020-10-02T08:00:38Z',\n",
       "   'Premium': {}},\n",
       "  {'Country': 'Russian Federation',\n",
       "   'CountryCode': 'RU',\n",
       "   'Slug': 'russia',\n",
       "   'NewConfirmed': 8835,\n",
       "   'TotalConfirmed': 1179634,\n",
       "   'NewDeaths': 166,\n",
       "   'TotalDeaths': 20796,\n",
       "   'NewRecovered': 5941,\n",
       "   'TotalRecovered': 960729,\n",
       "   'Date': '2020-10-02T08:00:38Z',\n",
       "   'Premium': {}},\n",
       "  {'Country': 'Rwanda',\n",
       "   'CountryCode': 'RW',\n",
       "   'Slug': 'rwanda',\n",
       "   'NewConfirmed': 3,\n",
       "   'TotalConfirmed': 4843,\n",
       "   'NewDeaths': 0,\n",
       "   'TotalDeaths': 29,\n",
       "   'NewRecovered': 27,\n",
       "   'TotalRecovered': 3181,\n",
       "   'Date': '2020-10-02T08:00:38Z',\n",
       "   'Premium': {}},\n",
       "  {'Country': 'Réunion',\n",
       "   'CountryCode': 'RE',\n",
       "   'Slug': 'réunion',\n",
       "   'NewConfirmed': 0,\n",
       "   'TotalConfirmed': 0,\n",
       "   'NewDeaths': 0,\n",
       "   'TotalDeaths': 0,\n",
       "   'NewRecovered': 0,\n",
       "   'TotalRecovered': 0,\n",
       "   'Date': '2020-10-02T08:00:38Z',\n",
       "   'Premium': {}},\n",
       "  {'Country': 'Saint Kitts and Nevis',\n",
       "   'CountryCode': 'KN',\n",
       "   'Slug': 'saint-kitts-and-nevis',\n",
       "   'NewConfirmed': 0,\n",
       "   'TotalConfirmed': 19,\n",
       "   'NewDeaths': 0,\n",
       "   'TotalDeaths': 0,\n",
       "   'NewRecovered': 0,\n",
       "   'TotalRecovered': 17,\n",
       "   'Date': '2020-10-02T08:00:38Z',\n",
       "   'Premium': {}},\n",
       "  {'Country': 'Saint Lucia',\n",
       "   'CountryCode': 'LC',\n",
       "   'Slug': 'saint-lucia',\n",
       "   'NewConfirmed': 0,\n",
       "   'TotalConfirmed': 27,\n",
       "   'NewDeaths': 0,\n",
       "   'TotalDeaths': 0,\n",
       "   'NewRecovered': 0,\n",
       "   'TotalRecovered': 27,\n",
       "   'Date': '2020-10-02T08:00:38Z',\n",
       "   'Premium': {}},\n",
       "  {'Country': 'Saint Vincent and Grenadines',\n",
       "   'CountryCode': 'VC',\n",
       "   'Slug': 'saint-vincent-and-the-grenadines',\n",
       "   'NewConfirmed': 0,\n",
       "   'TotalConfirmed': 64,\n",
       "   'NewDeaths': 0,\n",
       "   'TotalDeaths': 0,\n",
       "   'NewRecovered': 0,\n",
       "   'TotalRecovered': 64,\n",
       "   'Date': '2020-10-02T08:00:38Z',\n",
       "   'Premium': {}},\n",
       "  {'Country': 'San Marino',\n",
       "   'CountryCode': 'SM',\n",
       "   'Slug': 'san-marino',\n",
       "   'NewConfirmed': 0,\n",
       "   'TotalConfirmed': 732,\n",
       "   'NewDeaths': 0,\n",
       "   'TotalDeaths': 42,\n",
       "   'NewRecovered': 0,\n",
       "   'TotalRecovered': 680,\n",
       "   'Date': '2020-10-02T08:00:38Z',\n",
       "   'Premium': {}},\n",
       "  {'Country': 'Sao Tome and Principe',\n",
       "   'CountryCode': 'ST',\n",
       "   'Slug': 'sao-tome-and-principe',\n",
       "   'NewConfirmed': 0,\n",
       "   'TotalConfirmed': 911,\n",
       "   'NewDeaths': 0,\n",
       "   'TotalDeaths': 15,\n",
       "   'NewRecovered': 0,\n",
       "   'TotalRecovered': 886,\n",
       "   'Date': '2020-10-02T08:00:38Z',\n",
       "   'Premium': {}},\n",
       "  {'Country': 'Saudi Arabia',\n",
       "   'CountryCode': 'SA',\n",
       "   'Slug': 'saudi-arabia',\n",
       "   'NewConfirmed': 492,\n",
       "   'TotalConfirmed': 335097,\n",
       "   'NewDeaths': 26,\n",
       "   'TotalDeaths': 4794,\n",
       "   'NewRecovered': 592,\n",
       "   'TotalRecovered': 319746,\n",
       "   'Date': '2020-10-02T08:00:38Z',\n",
       "   'Premium': {}},\n",
       "  {'Country': 'Senegal',\n",
       "   'CountryCode': 'SN',\n",
       "   'Slug': 'senegal',\n",
       "   'NewConfirmed': 37,\n",
       "   'TotalConfirmed': 15019,\n",
       "   'NewDeaths': 0,\n",
       "   'TotalDeaths': 311,\n",
       "   'NewRecovered': 101,\n",
       "   'TotalRecovered': 12538,\n",
       "   'Date': '2020-10-02T08:00:38Z',\n",
       "   'Premium': {}},\n",
       "  {'Country': 'Serbia',\n",
       "   'CountryCode': 'RS',\n",
       "   'Slug': 'serbia',\n",
       "   'NewConfirmed': 111,\n",
       "   'TotalConfirmed': 33662,\n",
       "   'NewDeaths': 1,\n",
       "   'TotalDeaths': 750,\n",
       "   'NewRecovered': 0,\n",
       "   'TotalRecovered': 0,\n",
       "   'Date': '2020-10-02T08:00:38Z',\n",
       "   'Premium': {}},\n",
       "  {'Country': 'Seychelles',\n",
       "   'CountryCode': 'SC',\n",
       "   'Slug': 'seychelles',\n",
       "   'NewConfirmed': 0,\n",
       "   'TotalConfirmed': 144,\n",
       "   'NewDeaths': 0,\n",
       "   'TotalDeaths': 0,\n",
       "   'NewRecovered': 3,\n",
       "   'TotalRecovered': 143,\n",
       "   'Date': '2020-10-02T08:00:38Z',\n",
       "   'Premium': {}},\n",
       "  {'Country': 'Sierra Leone',\n",
       "   'CountryCode': 'SL',\n",
       "   'Slug': 'sierra-leone',\n",
       "   'NewConfirmed': 7,\n",
       "   'TotalConfirmed': 2238,\n",
       "   'NewDeaths': 0,\n",
       "   'TotalDeaths': 72,\n",
       "   'NewRecovered': 8,\n",
       "   'TotalRecovered': 1695,\n",
       "   'Date': '2020-10-02T08:00:38Z',\n",
       "   'Premium': {}},\n",
       "  {'Country': 'Singapore',\n",
       "   'CountryCode': 'SG',\n",
       "   'Slug': 'singapore',\n",
       "   'NewConfirmed': 19,\n",
       "   'TotalConfirmed': 57784,\n",
       "   'NewDeaths': 0,\n",
       "   'TotalDeaths': 27,\n",
       "   'NewRecovered': 24,\n",
       "   'TotalRecovered': 57512,\n",
       "   'Date': '2020-10-02T08:00:38Z',\n",
       "   'Premium': {}},\n",
       "  {'Country': 'Slovakia',\n",
       "   'CountryCode': 'SK',\n",
       "   'Slug': 'slovakia',\n",
       "   'NewConfirmed': 797,\n",
       "   'TotalConfirmed': 10938,\n",
       "   'NewDeaths': 0,\n",
       "   'TotalDeaths': 48,\n",
       "   'NewRecovered': 225,\n",
       "   'TotalRecovered': 4620,\n",
       "   'Date': '2020-10-02T08:00:38Z',\n",
       "   'Premium': {}},\n",
       "  {'Country': 'Slovenia',\n",
       "   'CountryCode': 'SI',\n",
       "   'Slug': 'slovenia',\n",
       "   'NewConfirmed': 175,\n",
       "   'TotalConfirmed': 5865,\n",
       "   'NewDeaths': 2,\n",
       "   'TotalDeaths': 152,\n",
       "   'NewRecovered': 102,\n",
       "   'TotalRecovered': 3906,\n",
       "   'Date': '2020-10-02T08:00:38Z',\n",
       "   'Premium': {}},\n",
       "  {'Country': 'Somalia',\n",
       "   'CountryCode': 'SO',\n",
       "   'Slug': 'somalia',\n",
       "   'NewConfirmed': 5,\n",
       "   'TotalConfirmed': 3593,\n",
       "   'NewDeaths': 0,\n",
       "   'TotalDeaths': 99,\n",
       "   'NewRecovered': 55,\n",
       "   'TotalRecovered': 3001,\n",
       "   'Date': '2020-10-02T08:00:38Z',\n",
       "   'Premium': {}},\n",
       "  {'Country': 'South Africa',\n",
       "   'CountryCode': 'ZA',\n",
       "   'Slug': 'south-africa',\n",
       "   'NewConfirmed': 1745,\n",
       "   'TotalConfirmed': 676084,\n",
       "   'NewDeaths': 132,\n",
       "   'TotalDeaths': 16866,\n",
       "   'NewRecovered': 1472,\n",
       "   'TotalRecovered': 609584,\n",
       "   'Date': '2020-10-02T08:00:38Z',\n",
       "   'Premium': {}},\n",
       "  {'Country': 'South Sudan',\n",
       "   'CountryCode': 'SS',\n",
       "   'Slug': 'south-sudan',\n",
       "   'NewConfirmed': 0,\n",
       "   'TotalConfirmed': 2704,\n",
       "   'NewDeaths': 0,\n",
       "   'TotalDeaths': 49,\n",
       "   'NewRecovered': 0,\n",
       "   'TotalRecovered': 1290,\n",
       "   'Date': '2020-10-02T08:00:38Z',\n",
       "   'Premium': {}},\n",
       "  {'Country': 'Spain',\n",
       "   'CountryCode': 'ES',\n",
       "   'Slug': 'spain',\n",
       "   'NewConfirmed': 9419,\n",
       "   'TotalConfirmed': 778607,\n",
       "   'NewDeaths': 182,\n",
       "   'TotalDeaths': 31973,\n",
       "   'NewRecovered': 0,\n",
       "   'TotalRecovered': 150376,\n",
       "   'Date': '2020-10-02T08:00:38Z',\n",
       "   'Premium': {}},\n",
       "  {'Country': 'Sri Lanka',\n",
       "   'CountryCode': 'LK',\n",
       "   'Slug': 'sri-lanka',\n",
       "   'NewConfirmed': 2,\n",
       "   'TotalConfirmed': 3382,\n",
       "   'NewDeaths': 0,\n",
       "   'TotalDeaths': 13,\n",
       "   'NewRecovered': 3,\n",
       "   'TotalRecovered': 3233,\n",
       "   'Date': '2020-10-02T08:00:38Z',\n",
       "   'Premium': {}},\n",
       "  {'Country': 'Sudan',\n",
       "   'CountryCode': 'SD',\n",
       "   'Slug': 'sudan',\n",
       "   'NewConfirmed': 13,\n",
       "   'TotalConfirmed': 13653,\n",
       "   'NewDeaths': 0,\n",
       "   'TotalDeaths': 836,\n",
       "   'NewRecovered': 0,\n",
       "   'TotalRecovered': 6764,\n",
       "   'Date': '2020-10-02T08:00:38Z',\n",
       "   'Premium': {}},\n",
       "  {'Country': 'Suriname',\n",
       "   'CountryCode': 'SR',\n",
       "   'Slug': 'suriname',\n",
       "   'NewConfirmed': 14,\n",
       "   'TotalConfirmed': 4891,\n",
       "   'NewDeaths': 1,\n",
       "   'TotalDeaths': 105,\n",
       "   'NewRecovered': 7,\n",
       "   'TotalRecovered': 4702,\n",
       "   'Date': '2020-10-02T08:00:38Z',\n",
       "   'Premium': {}},\n",
       "  {'Country': 'Swaziland',\n",
       "   'CountryCode': 'SZ',\n",
       "   'Slug': 'swaziland',\n",
       "   'NewConfirmed': 18,\n",
       "   'TotalConfirmed': 5500,\n",
       "   'NewDeaths': 2,\n",
       "   'TotalDeaths': 111,\n",
       "   'NewRecovered': 88,\n",
       "   'TotalRecovered': 5000,\n",
       "   'Date': '2020-10-02T08:00:38Z',\n",
       "   'Premium': {}},\n",
       "  {'Country': 'Sweden',\n",
       "   'CountryCode': 'SE',\n",
       "   'Slug': 'sweden',\n",
       "   'NewConfirmed': 752,\n",
       "   'TotalConfirmed': 93615,\n",
       "   'NewDeaths': 0,\n",
       "   'TotalDeaths': 5893,\n",
       "   'NewRecovered': 0,\n",
       "   'TotalRecovered': 0,\n",
       "   'Date': '2020-10-02T08:00:38Z',\n",
       "   'Premium': {}},\n",
       "  {'Country': 'Switzerland',\n",
       "   'CountryCode': 'CH',\n",
       "   'Slug': 'switzerland',\n",
       "   'NewConfirmed': 550,\n",
       "   'TotalConfirmed': 53832,\n",
       "   'NewDeaths': 0,\n",
       "   'TotalDeaths': 2074,\n",
       "   'NewRecovered': 2600,\n",
       "   'TotalRecovered': 45300,\n",
       "   'Date': '2020-10-02T08:00:38Z',\n",
       "   'Premium': {}},\n",
       "  {'Country': 'Syrian Arab Republic (Syria)',\n",
       "   'CountryCode': 'SY',\n",
       "   'Slug': 'syria',\n",
       "   'NewConfirmed': 47,\n",
       "   'TotalConfirmed': 4247,\n",
       "   'NewDeaths': 2,\n",
       "   'TotalDeaths': 202,\n",
       "   'NewRecovered': 14,\n",
       "   'TotalRecovered': 1117,\n",
       "   'Date': '2020-10-02T08:00:38Z',\n",
       "   'Premium': {}},\n",
       "  {'Country': 'Taiwan, Republic of China',\n",
       "   'CountryCode': 'TW',\n",
       "   'Slug': 'taiwan',\n",
       "   'NewConfirmed': 1,\n",
       "   'TotalConfirmed': 515,\n",
       "   'NewDeaths': 0,\n",
       "   'TotalDeaths': 7,\n",
       "   'NewRecovered': 1,\n",
       "   'TotalRecovered': 484,\n",
       "   'Date': '2020-10-02T08:00:38Z',\n",
       "   'Premium': {}},\n",
       "  {'Country': 'Tajikistan',\n",
       "   'CountryCode': 'TJ',\n",
       "   'Slug': 'tajikistan',\n",
       "   'NewConfirmed': 42,\n",
       "   'TotalConfirmed': 9811,\n",
       "   'NewDeaths': 1,\n",
       "   'TotalDeaths': 77,\n",
       "   'NewRecovered': 45,\n",
       "   'TotalRecovered': 8617,\n",
       "   'Date': '2020-10-02T08:00:38Z',\n",
       "   'Premium': {}},\n",
       "  {'Country': 'Tanzania, United Republic of',\n",
       "   'CountryCode': 'TZ',\n",
       "   'Slug': 'tanzania',\n",
       "   'NewConfirmed': 0,\n",
       "   'TotalConfirmed': 509,\n",
       "   'NewDeaths': 0,\n",
       "   'TotalDeaths': 21,\n",
       "   'NewRecovered': 0,\n",
       "   'TotalRecovered': 183,\n",
       "   'Date': '2020-10-02T08:00:38Z',\n",
       "   'Premium': {}},\n",
       "  {'Country': 'Thailand',\n",
       "   'CountryCode': 'TH',\n",
       "   'Slug': 'thailand',\n",
       "   'NewConfirmed': 6,\n",
       "   'TotalConfirmed': 3575,\n",
       "   'NewDeaths': 0,\n",
       "   'TotalDeaths': 59,\n",
       "   'NewRecovered': 5,\n",
       "   'TotalRecovered': 3384,\n",
       "   'Date': '2020-10-02T08:00:38Z',\n",
       "   'Premium': {}},\n",
       "  {'Country': 'Timor-Leste',\n",
       "   'CountryCode': 'TL',\n",
       "   'Slug': 'timor-leste',\n",
       "   'NewConfirmed': 0,\n",
       "   'TotalConfirmed': 28,\n",
       "   'NewDeaths': 0,\n",
       "   'TotalDeaths': 0,\n",
       "   'NewRecovered': 0,\n",
       "   'TotalRecovered': 28,\n",
       "   'Date': '2020-10-02T08:00:38Z',\n",
       "   'Premium': {}},\n",
       "  {'Country': 'Togo',\n",
       "   'CountryCode': 'TG',\n",
       "   'Slug': 'togo',\n",
       "   'NewConfirmed': 25,\n",
       "   'TotalConfirmed': 1809,\n",
       "   'NewDeaths': 0,\n",
       "   'TotalDeaths': 48,\n",
       "   'NewRecovered': 5,\n",
       "   'TotalRecovered': 1353,\n",
       "   'Date': '2020-10-02T08:00:38Z',\n",
       "   'Premium': {}},\n",
       "  {'Country': 'Trinidad and Tobago',\n",
       "   'CountryCode': 'TT',\n",
       "   'Slug': 'trinidad-and-tobago',\n",
       "   'NewConfirmed': 39,\n",
       "   'TotalConfirmed': 4570,\n",
       "   'NewDeaths': 0,\n",
       "   'TotalDeaths': 76,\n",
       "   'NewRecovered': 69,\n",
       "   'TotalRecovered': 2629,\n",
       "   'Date': '2020-10-02T08:00:38Z',\n",
       "   'Premium': {}},\n",
       "  {'Country': 'Tunisia',\n",
       "   'CountryCode': 'TN',\n",
       "   'Slug': 'tunisia',\n",
       "   'NewConfirmed': 0,\n",
       "   'TotalConfirmed': 18413,\n",
       "   'NewDeaths': 0,\n",
       "   'TotalDeaths': 265,\n",
       "   'NewRecovered': 0,\n",
       "   'TotalRecovered': 5032,\n",
       "   'Date': '2020-10-02T08:00:38Z',\n",
       "   'Premium': {}},\n",
       "  {'Country': 'Turkey',\n",
       "   'CountryCode': 'TR',\n",
       "   'Slug': 'turkey',\n",
       "   'NewConfirmed': 1407,\n",
       "   'TotalConfirmed': 320070,\n",
       "   'NewDeaths': 67,\n",
       "   'TotalDeaths': 8262,\n",
       "   'NewRecovered': 1402,\n",
       "   'TotalRecovered': 281151,\n",
       "   'Date': '2020-10-02T08:00:38Z',\n",
       "   'Premium': {}},\n",
       "  {'Country': 'Uganda',\n",
       "   'CountryCode': 'UG',\n",
       "   'Slug': 'uganda',\n",
       "   'NewConfirmed': 158,\n",
       "   'TotalConfirmed': 8287,\n",
       "   'NewDeaths': 0,\n",
       "   'TotalDeaths': 75,\n",
       "   'NewRecovered': 170,\n",
       "   'TotalRecovered': 4430,\n",
       "   'Date': '2020-10-02T08:00:38Z',\n",
       "   'Premium': {}},\n",
       "  {'Country': 'Ukraine',\n",
       "   'CountryCode': 'UA',\n",
       "   'Slug': 'ukraine',\n",
       "   'NewConfirmed': 4179,\n",
       "   'TotalConfirmed': 218625,\n",
       "   'NewDeaths': 67,\n",
       "   'TotalDeaths': 4288,\n",
       "   'NewRecovered': 2127,\n",
       "   'TotalRecovered': 97956,\n",
       "   'Date': '2020-10-02T08:00:38Z',\n",
       "   'Premium': {}},\n",
       "  {'Country': 'United Arab Emirates',\n",
       "   'CountryCode': 'AE',\n",
       "   'Slug': 'united-arab-emirates',\n",
       "   'NewConfirmed': 1158,\n",
       "   'TotalConfirmed': 95348,\n",
       "   'NewDeaths': 2,\n",
       "   'TotalDeaths': 421,\n",
       "   'NewRecovered': 1179,\n",
       "   'TotalRecovered': 84903,\n",
       "   'Date': '2020-10-02T08:00:38Z',\n",
       "   'Premium': {}},\n",
       "  {'Country': 'United Kingdom',\n",
       "   'CountryCode': 'GB',\n",
       "   'Slug': 'united-kingdom',\n",
       "   'NewConfirmed': 6929,\n",
       "   'TotalConfirmed': 462775,\n",
       "   'NewDeaths': 59,\n",
       "   'TotalDeaths': 42292,\n",
       "   'NewRecovered': 10,\n",
       "   'TotalRecovered': 2383,\n",
       "   'Date': '2020-10-02T08:00:38Z',\n",
       "   'Premium': {}},\n",
       "  {'Country': 'United States of America',\n",
       "   'CountryCode': 'US',\n",
       "   'Slug': 'united-states',\n",
       "   'NewConfirmed': 43752,\n",
       "   'TotalConfirmed': 7277759,\n",
       "   'NewDeaths': 857,\n",
       "   'TotalDeaths': 207789,\n",
       "   'NewRecovered': 19962,\n",
       "   'TotalRecovered': 2860650,\n",
       "   'Date': '2020-10-02T08:00:38Z',\n",
       "   'Premium': {}},\n",
       "  {'Country': 'Uruguay',\n",
       "   'CountryCode': 'UY',\n",
       "   'Slug': 'uruguay',\n",
       "   'NewConfirmed': 15,\n",
       "   'TotalConfirmed': 2061,\n",
       "   'NewDeaths': 0,\n",
       "   'TotalDeaths': 48,\n",
       "   'NewRecovered': 18,\n",
       "   'TotalRecovered': 1809,\n",
       "   'Date': '2020-10-02T08:00:38Z',\n",
       "   'Premium': {}},\n",
       "  {'Country': 'Uzbekistan',\n",
       "   'CountryCode': 'UZ',\n",
       "   'Slug': 'uzbekistan',\n",
       "   'NewConfirmed': 473,\n",
       "   'TotalConfirmed': 57190,\n",
       "   'NewDeaths': 1,\n",
       "   'TotalDeaths': 471,\n",
       "   'NewRecovered': 469,\n",
       "   'TotalRecovered': 53835,\n",
       "   'Date': '2020-10-02T08:00:38Z',\n",
       "   'Premium': {}},\n",
       "  {'Country': 'Venezuela (Bolivarian Republic)',\n",
       "   'CountryCode': 'VE',\n",
       "   'Slug': 'venezuela',\n",
       "   'NewConfirmed': 907,\n",
       "   'TotalConfirmed': 76029,\n",
       "   'NewDeaths': 7,\n",
       "   'TotalDeaths': 635,\n",
       "   'NewRecovered': 1020,\n",
       "   'TotalRecovered': 66245,\n",
       "   'Date': '2020-10-02T08:00:38Z',\n",
       "   'Premium': {}},\n",
       "  {'Country': 'Viet Nam',\n",
       "   'CountryCode': 'VN',\n",
       "   'Slug': 'vietnam',\n",
       "   'NewConfirmed': 1,\n",
       "   'TotalConfirmed': 1095,\n",
       "   'NewDeaths': 0,\n",
       "   'TotalDeaths': 35,\n",
       "   'NewRecovered': 0,\n",
       "   'TotalRecovered': 1010,\n",
       "   'Date': '2020-10-02T08:00:38Z',\n",
       "   'Premium': {}},\n",
       "  {'Country': 'Western Sahara',\n",
       "   'CountryCode': 'EH',\n",
       "   'Slug': 'western-sahara',\n",
       "   'NewConfirmed': 0,\n",
       "   'TotalConfirmed': 10,\n",
       "   'NewDeaths': 0,\n",
       "   'TotalDeaths': 1,\n",
       "   'NewRecovered': 0,\n",
       "   'TotalRecovered': 8,\n",
       "   'Date': '2020-10-02T08:00:38Z',\n",
       "   'Premium': {}},\n",
       "  {'Country': 'Yemen',\n",
       "   'CountryCode': 'YE',\n",
       "   'Slug': 'yemen',\n",
       "   'NewConfirmed': 5,\n",
       "   'TotalConfirmed': 2039,\n",
       "   'NewDeaths': 0,\n",
       "   'TotalDeaths': 587,\n",
       "   'NewRecovered': 11,\n",
       "   'TotalRecovered': 1297,\n",
       "   'Date': '2020-10-02T08:00:38Z',\n",
       "   'Premium': {}},\n",
       "  {'Country': 'Zambia',\n",
       "   'CountryCode': 'ZM',\n",
       "   'Slug': 'zambia',\n",
       "   'NewConfirmed': 43,\n",
       "   'TotalConfirmed': 14802,\n",
       "   'NewDeaths': 1,\n",
       "   'TotalDeaths': 333,\n",
       "   'NewRecovered': 2,\n",
       "   'TotalRecovered': 13961,\n",
       "   'Date': '2020-10-02T08:00:38Z',\n",
       "   'Premium': {}},\n",
       "  {'Country': 'Zimbabwe',\n",
       "   'CountryCode': 'ZW',\n",
       "   'Slug': 'zimbabwe',\n",
       "   'NewConfirmed': 12,\n",
       "   'TotalConfirmed': 7850,\n",
       "   'NewDeaths': 0,\n",
       "   'TotalDeaths': 228,\n",
       "   'NewRecovered': 9,\n",
       "   'TotalRecovered': 6312,\n",
       "   'Date': '2020-10-02T08:00:38Z',\n",
       "   'Premium': {}}],\n",
       " 'Date': '2020-10-02T08:00:38Z'}"
      ]
     },
     "execution_count": 66,
     "metadata": {},
     "output_type": "execute_result"
    }
   ],
   "source": [
    "covid_json = json.loads(data)\n",
    "covid_json"
   ]
  },
  {
   "cell_type": "markdown",
   "metadata": {},
   "source": [
    "### Normalize Data "
   ]
  },
  {
   "cell_type": "code",
   "execution_count": 67,
   "metadata": {
    "scrolled": true
   },
   "outputs": [
    {
     "data": {
      "text/html": [
       "<div>\n",
       "<style scoped>\n",
       "    .dataframe tbody tr th:only-of-type {\n",
       "        vertical-align: middle;\n",
       "    }\n",
       "\n",
       "    .dataframe tbody tr th {\n",
       "        vertical-align: top;\n",
       "    }\n",
       "\n",
       "    .dataframe thead th {\n",
       "        text-align: right;\n",
       "    }\n",
       "</style>\n",
       "<table border=\"1\" class=\"dataframe\">\n",
       "  <thead>\n",
       "    <tr style=\"text-align: right;\">\n",
       "      <th></th>\n",
       "      <th>Country</th>\n",
       "      <th>CountryCode</th>\n",
       "      <th>Slug</th>\n",
       "      <th>NewConfirmed</th>\n",
       "      <th>TotalConfirmed</th>\n",
       "      <th>NewDeaths</th>\n",
       "      <th>TotalDeaths</th>\n",
       "      <th>NewRecovered</th>\n",
       "      <th>TotalRecovered</th>\n",
       "      <th>Date</th>\n",
       "    </tr>\n",
       "  </thead>\n",
       "  <tbody>\n",
       "    <tr>\n",
       "      <th>0</th>\n",
       "      <td>Afghanistan</td>\n",
       "      <td>AF</td>\n",
       "      <td>afghanistan</td>\n",
       "      <td>17</td>\n",
       "      <td>39285</td>\n",
       "      <td>0</td>\n",
       "      <td>1458</td>\n",
       "      <td>53</td>\n",
       "      <td>32842</td>\n",
       "      <td>2020-10-02T08:00:38Z</td>\n",
       "    </tr>\n",
       "    <tr>\n",
       "      <th>1</th>\n",
       "      <td>Albania</td>\n",
       "      <td>AL</td>\n",
       "      <td>albania</td>\n",
       "      <td>157</td>\n",
       "      <td>13806</td>\n",
       "      <td>1</td>\n",
       "      <td>388</td>\n",
       "      <td>230</td>\n",
       "      <td>8077</td>\n",
       "      <td>2020-10-02T08:00:38Z</td>\n",
       "    </tr>\n",
       "    <tr>\n",
       "      <th>2</th>\n",
       "      <td>Algeria</td>\n",
       "      <td>DZ</td>\n",
       "      <td>algeria</td>\n",
       "      <td>160</td>\n",
       "      <td>51690</td>\n",
       "      <td>5</td>\n",
       "      <td>1741</td>\n",
       "      <td>108</td>\n",
       "      <td>36282</td>\n",
       "      <td>2020-10-02T08:00:38Z</td>\n",
       "    </tr>\n",
       "    <tr>\n",
       "      <th>3</th>\n",
       "      <td>Andorra</td>\n",
       "      <td>AD</td>\n",
       "      <td>andorra</td>\n",
       "      <td>0</td>\n",
       "      <td>2050</td>\n",
       "      <td>0</td>\n",
       "      <td>53</td>\n",
       "      <td>0</td>\n",
       "      <td>1432</td>\n",
       "      <td>2020-10-02T08:00:38Z</td>\n",
       "    </tr>\n",
       "    <tr>\n",
       "      <th>4</th>\n",
       "      <td>Angola</td>\n",
       "      <td>AO</td>\n",
       "      <td>angola</td>\n",
       "      <td>142</td>\n",
       "      <td>5114</td>\n",
       "      <td>2</td>\n",
       "      <td>185</td>\n",
       "      <td>141</td>\n",
       "      <td>2082</td>\n",
       "      <td>2020-10-02T08:00:38Z</td>\n",
       "    </tr>\n",
       "    <tr>\n",
       "      <th>...</th>\n",
       "      <td>...</td>\n",
       "      <td>...</td>\n",
       "      <td>...</td>\n",
       "      <td>...</td>\n",
       "      <td>...</td>\n",
       "      <td>...</td>\n",
       "      <td>...</td>\n",
       "      <td>...</td>\n",
       "      <td>...</td>\n",
       "      <td>...</td>\n",
       "    </tr>\n",
       "    <tr>\n",
       "      <th>183</th>\n",
       "      <td>Viet Nam</td>\n",
       "      <td>VN</td>\n",
       "      <td>vietnam</td>\n",
       "      <td>1</td>\n",
       "      <td>1095</td>\n",
       "      <td>0</td>\n",
       "      <td>35</td>\n",
       "      <td>0</td>\n",
       "      <td>1010</td>\n",
       "      <td>2020-10-02T08:00:38Z</td>\n",
       "    </tr>\n",
       "    <tr>\n",
       "      <th>184</th>\n",
       "      <td>Western Sahara</td>\n",
       "      <td>EH</td>\n",
       "      <td>western-sahara</td>\n",
       "      <td>0</td>\n",
       "      <td>10</td>\n",
       "      <td>0</td>\n",
       "      <td>1</td>\n",
       "      <td>0</td>\n",
       "      <td>8</td>\n",
       "      <td>2020-10-02T08:00:38Z</td>\n",
       "    </tr>\n",
       "    <tr>\n",
       "      <th>185</th>\n",
       "      <td>Yemen</td>\n",
       "      <td>YE</td>\n",
       "      <td>yemen</td>\n",
       "      <td>5</td>\n",
       "      <td>2039</td>\n",
       "      <td>0</td>\n",
       "      <td>587</td>\n",
       "      <td>11</td>\n",
       "      <td>1297</td>\n",
       "      <td>2020-10-02T08:00:38Z</td>\n",
       "    </tr>\n",
       "    <tr>\n",
       "      <th>186</th>\n",
       "      <td>Zambia</td>\n",
       "      <td>ZM</td>\n",
       "      <td>zambia</td>\n",
       "      <td>43</td>\n",
       "      <td>14802</td>\n",
       "      <td>1</td>\n",
       "      <td>333</td>\n",
       "      <td>2</td>\n",
       "      <td>13961</td>\n",
       "      <td>2020-10-02T08:00:38Z</td>\n",
       "    </tr>\n",
       "    <tr>\n",
       "      <th>187</th>\n",
       "      <td>Zimbabwe</td>\n",
       "      <td>ZW</td>\n",
       "      <td>zimbabwe</td>\n",
       "      <td>12</td>\n",
       "      <td>7850</td>\n",
       "      <td>0</td>\n",
       "      <td>228</td>\n",
       "      <td>9</td>\n",
       "      <td>6312</td>\n",
       "      <td>2020-10-02T08:00:38Z</td>\n",
       "    </tr>\n",
       "  </tbody>\n",
       "</table>\n",
       "<p>188 rows × 10 columns</p>\n",
       "</div>"
      ],
      "text/plain": [
       "            Country CountryCode            Slug  NewConfirmed  TotalConfirmed  \\\n",
       "0       Afghanistan          AF     afghanistan            17           39285   \n",
       "1           Albania          AL         albania           157           13806   \n",
       "2           Algeria          DZ         algeria           160           51690   \n",
       "3           Andorra          AD         andorra             0            2050   \n",
       "4            Angola          AO          angola           142            5114   \n",
       "..              ...         ...             ...           ...             ...   \n",
       "183        Viet Nam          VN         vietnam             1            1095   \n",
       "184  Western Sahara          EH  western-sahara             0              10   \n",
       "185           Yemen          YE           yemen             5            2039   \n",
       "186          Zambia          ZM          zambia            43           14802   \n",
       "187        Zimbabwe          ZW        zimbabwe            12            7850   \n",
       "\n",
       "     NewDeaths  TotalDeaths  NewRecovered  TotalRecovered  \\\n",
       "0            0         1458            53           32842   \n",
       "1            1          388           230            8077   \n",
       "2            5         1741           108           36282   \n",
       "3            0           53             0            1432   \n",
       "4            2          185           141            2082   \n",
       "..         ...          ...           ...             ...   \n",
       "183          0           35             0            1010   \n",
       "184          0            1             0               8   \n",
       "185          0          587            11            1297   \n",
       "186          1          333             2           13961   \n",
       "187          0          228             9            6312   \n",
       "\n",
       "                     Date  \n",
       "0    2020-10-02T08:00:38Z  \n",
       "1    2020-10-02T08:00:38Z  \n",
       "2    2020-10-02T08:00:38Z  \n",
       "3    2020-10-02T08:00:38Z  \n",
       "4    2020-10-02T08:00:38Z  \n",
       "..                    ...  \n",
       "183  2020-10-02T08:00:38Z  \n",
       "184  2020-10-02T08:00:38Z  \n",
       "185  2020-10-02T08:00:38Z  \n",
       "186  2020-10-02T08:00:38Z  \n",
       "187  2020-10-02T08:00:38Z  \n",
       "\n",
       "[188 rows x 10 columns]"
      ]
     },
     "execution_count": 67,
     "metadata": {},
     "output_type": "execute_result"
    }
   ],
   "source": [
    "pd.json_normalize(covid_json['Countries'], sep=\",\")"
   ]
  },
  {
   "cell_type": "markdown",
   "metadata": {},
   "source": [
    "### Convert to Pandas DataFrame"
   ]
  },
  {
   "cell_type": "code",
   "execution_count": 68,
   "metadata": {
    "scrolled": true
   },
   "outputs": [
    {
     "data": {
      "text/html": [
       "<div>\n",
       "<style scoped>\n",
       "    .dataframe tbody tr th:only-of-type {\n",
       "        vertical-align: middle;\n",
       "    }\n",
       "\n",
       "    .dataframe tbody tr th {\n",
       "        vertical-align: top;\n",
       "    }\n",
       "\n",
       "    .dataframe thead th {\n",
       "        text-align: right;\n",
       "    }\n",
       "</style>\n",
       "<table border=\"1\" class=\"dataframe\">\n",
       "  <thead>\n",
       "    <tr style=\"text-align: right;\">\n",
       "      <th></th>\n",
       "      <th>Country</th>\n",
       "      <th>CountryCode</th>\n",
       "      <th>Slug</th>\n",
       "      <th>NewConfirmed</th>\n",
       "      <th>TotalConfirmed</th>\n",
       "      <th>NewDeaths</th>\n",
       "      <th>TotalDeaths</th>\n",
       "      <th>NewRecovered</th>\n",
       "      <th>TotalRecovered</th>\n",
       "      <th>Date</th>\n",
       "      <th>Premium</th>\n",
       "    </tr>\n",
       "  </thead>\n",
       "  <tbody>\n",
       "    <tr>\n",
       "      <th>0</th>\n",
       "      <td>Afghanistan</td>\n",
       "      <td>AF</td>\n",
       "      <td>afghanistan</td>\n",
       "      <td>17</td>\n",
       "      <td>39285</td>\n",
       "      <td>0</td>\n",
       "      <td>1458</td>\n",
       "      <td>53</td>\n",
       "      <td>32842</td>\n",
       "      <td>2020-10-02T08:00:38Z</td>\n",
       "      <td>{}</td>\n",
       "    </tr>\n",
       "    <tr>\n",
       "      <th>1</th>\n",
       "      <td>Albania</td>\n",
       "      <td>AL</td>\n",
       "      <td>albania</td>\n",
       "      <td>157</td>\n",
       "      <td>13806</td>\n",
       "      <td>1</td>\n",
       "      <td>388</td>\n",
       "      <td>230</td>\n",
       "      <td>8077</td>\n",
       "      <td>2020-10-02T08:00:38Z</td>\n",
       "      <td>{}</td>\n",
       "    </tr>\n",
       "    <tr>\n",
       "      <th>2</th>\n",
       "      <td>Algeria</td>\n",
       "      <td>DZ</td>\n",
       "      <td>algeria</td>\n",
       "      <td>160</td>\n",
       "      <td>51690</td>\n",
       "      <td>5</td>\n",
       "      <td>1741</td>\n",
       "      <td>108</td>\n",
       "      <td>36282</td>\n",
       "      <td>2020-10-02T08:00:38Z</td>\n",
       "      <td>{}</td>\n",
       "    </tr>\n",
       "    <tr>\n",
       "      <th>3</th>\n",
       "      <td>Andorra</td>\n",
       "      <td>AD</td>\n",
       "      <td>andorra</td>\n",
       "      <td>0</td>\n",
       "      <td>2050</td>\n",
       "      <td>0</td>\n",
       "      <td>53</td>\n",
       "      <td>0</td>\n",
       "      <td>1432</td>\n",
       "      <td>2020-10-02T08:00:38Z</td>\n",
       "      <td>{}</td>\n",
       "    </tr>\n",
       "    <tr>\n",
       "      <th>4</th>\n",
       "      <td>Angola</td>\n",
       "      <td>AO</td>\n",
       "      <td>angola</td>\n",
       "      <td>142</td>\n",
       "      <td>5114</td>\n",
       "      <td>2</td>\n",
       "      <td>185</td>\n",
       "      <td>141</td>\n",
       "      <td>2082</td>\n",
       "      <td>2020-10-02T08:00:38Z</td>\n",
       "      <td>{}</td>\n",
       "    </tr>\n",
       "  </tbody>\n",
       "</table>\n",
       "</div>"
      ],
      "text/plain": [
       "       Country CountryCode         Slug  NewConfirmed  TotalConfirmed  \\\n",
       "0  Afghanistan          AF  afghanistan            17           39285   \n",
       "1      Albania          AL      albania           157           13806   \n",
       "2      Algeria          DZ      algeria           160           51690   \n",
       "3      Andorra          AD      andorra             0            2050   \n",
       "4       Angola          AO       angola           142            5114   \n",
       "\n",
       "   NewDeaths  TotalDeaths  NewRecovered  TotalRecovered                  Date  \\\n",
       "0          0         1458            53           32842  2020-10-02T08:00:38Z   \n",
       "1          1          388           230            8077  2020-10-02T08:00:38Z   \n",
       "2          5         1741           108           36282  2020-10-02T08:00:38Z   \n",
       "3          0           53             0            1432  2020-10-02T08:00:38Z   \n",
       "4          2          185           141            2082  2020-10-02T08:00:38Z   \n",
       "\n",
       "  Premium  \n",
       "0      {}  \n",
       "1      {}  \n",
       "2      {}  \n",
       "3      {}  \n",
       "4      {}  "
      ]
     },
     "execution_count": 68,
     "metadata": {},
     "output_type": "execute_result"
    }
   ],
   "source": [
    "df = pd.DataFrame(covid_json['Countries'])\n",
    "df.head()"
   ]
  },
  {
   "cell_type": "markdown",
   "metadata": {},
   "source": [
    "### View Missing value and Drop Columns"
   ]
  },
  {
   "cell_type": "code",
   "execution_count": 37,
   "metadata": {},
   "outputs": [
    {
     "data": {
      "text/plain": [
       "Country           0\n",
       "CountryCode       0\n",
       "Slug              0\n",
       "NewConfirmed      0\n",
       "TotalConfirmed    0\n",
       "NewDeaths         0\n",
       "TotalDeaths       0\n",
       "NewRecovered      0\n",
       "TotalRecovered    0\n",
       "Date              0\n",
       "Premium           0\n",
       "dtype: int64"
      ]
     },
     "execution_count": 37,
     "metadata": {},
     "output_type": "execute_result"
    }
   ],
   "source": [
    "df.isnull().sum()"
   ]
  },
  {
   "cell_type": "code",
   "execution_count": 69,
   "metadata": {},
   "outputs": [
    {
     "data": {
      "text/html": [
       "<div>\n",
       "<style scoped>\n",
       "    .dataframe tbody tr th:only-of-type {\n",
       "        vertical-align: middle;\n",
       "    }\n",
       "\n",
       "    .dataframe tbody tr th {\n",
       "        vertical-align: top;\n",
       "    }\n",
       "\n",
       "    .dataframe thead th {\n",
       "        text-align: right;\n",
       "    }\n",
       "</style>\n",
       "<table border=\"1\" class=\"dataframe\">\n",
       "  <thead>\n",
       "    <tr style=\"text-align: right;\">\n",
       "      <th></th>\n",
       "      <th>Country</th>\n",
       "      <th>CountryCode</th>\n",
       "      <th>NewConfirmed</th>\n",
       "      <th>TotalConfirmed</th>\n",
       "      <th>NewDeaths</th>\n",
       "      <th>TotalDeaths</th>\n",
       "      <th>NewRecovered</th>\n",
       "      <th>TotalRecovered</th>\n",
       "    </tr>\n",
       "  </thead>\n",
       "  <tbody>\n",
       "    <tr>\n",
       "      <th>0</th>\n",
       "      <td>Afghanistan</td>\n",
       "      <td>AF</td>\n",
       "      <td>17</td>\n",
       "      <td>39285</td>\n",
       "      <td>0</td>\n",
       "      <td>1458</td>\n",
       "      <td>53</td>\n",
       "      <td>32842</td>\n",
       "    </tr>\n",
       "    <tr>\n",
       "      <th>1</th>\n",
       "      <td>Albania</td>\n",
       "      <td>AL</td>\n",
       "      <td>157</td>\n",
       "      <td>13806</td>\n",
       "      <td>1</td>\n",
       "      <td>388</td>\n",
       "      <td>230</td>\n",
       "      <td>8077</td>\n",
       "    </tr>\n",
       "    <tr>\n",
       "      <th>2</th>\n",
       "      <td>Algeria</td>\n",
       "      <td>DZ</td>\n",
       "      <td>160</td>\n",
       "      <td>51690</td>\n",
       "      <td>5</td>\n",
       "      <td>1741</td>\n",
       "      <td>108</td>\n",
       "      <td>36282</td>\n",
       "    </tr>\n",
       "    <tr>\n",
       "      <th>3</th>\n",
       "      <td>Andorra</td>\n",
       "      <td>AD</td>\n",
       "      <td>0</td>\n",
       "      <td>2050</td>\n",
       "      <td>0</td>\n",
       "      <td>53</td>\n",
       "      <td>0</td>\n",
       "      <td>1432</td>\n",
       "    </tr>\n",
       "    <tr>\n",
       "      <th>4</th>\n",
       "      <td>Angola</td>\n",
       "      <td>AO</td>\n",
       "      <td>142</td>\n",
       "      <td>5114</td>\n",
       "      <td>2</td>\n",
       "      <td>185</td>\n",
       "      <td>141</td>\n",
       "      <td>2082</td>\n",
       "    </tr>\n",
       "  </tbody>\n",
       "</table>\n",
       "</div>"
      ],
      "text/plain": [
       "       Country CountryCode  NewConfirmed  TotalConfirmed  NewDeaths  \\\n",
       "0  Afghanistan          AF            17           39285          0   \n",
       "1      Albania          AL           157           13806          1   \n",
       "2      Algeria          DZ           160           51690          5   \n",
       "3      Andorra          AD             0            2050          0   \n",
       "4       Angola          AO           142            5114          2   \n",
       "\n",
       "   TotalDeaths  NewRecovered  TotalRecovered  \n",
       "0         1458            53           32842  \n",
       "1          388           230            8077  \n",
       "2         1741           108           36282  \n",
       "3           53             0            1432  \n",
       "4          185           141            2082  "
      ]
     },
     "execution_count": 69,
     "metadata": {},
     "output_type": "execute_result"
    }
   ],
   "source": [
    "# df.isnull().sum()\n",
    "df_drop = df.drop(columns=['Slug', 'Date', 'Premium'], axis=1)\n",
    "\n",
    "df_drop.head()"
   ]
  },
  {
   "cell_type": "markdown",
   "metadata": {},
   "source": [
    "### Import data kedua untuk mendapatkan Lat dan Long setiap negara"
   ]
  },
  {
   "cell_type": "code",
   "execution_count": 70,
   "metadata": {},
   "outputs": [],
   "source": [
    "coordinates = pd.read_csv(\"C:/Users/User/Videos/PYTHON/Streamlit/deployment/covid19/Geo/country-coordinates-world.csv\")"
   ]
  },
  {
   "cell_type": "markdown",
   "metadata": {},
   "source": [
    "### Merge data"
   ]
  },
  {
   "cell_type": "code",
   "execution_count": 71,
   "metadata": {},
   "outputs": [
    {
     "data": {
      "text/html": [
       "<div>\n",
       "<style scoped>\n",
       "    .dataframe tbody tr th:only-of-type {\n",
       "        vertical-align: middle;\n",
       "    }\n",
       "\n",
       "    .dataframe tbody tr th {\n",
       "        vertical-align: top;\n",
       "    }\n",
       "\n",
       "    .dataframe thead th {\n",
       "        text-align: right;\n",
       "    }\n",
       "</style>\n",
       "<table border=\"1\" class=\"dataframe\">\n",
       "  <thead>\n",
       "    <tr style=\"text-align: right;\">\n",
       "      <th></th>\n",
       "      <th>Country</th>\n",
       "      <th>CountryCode</th>\n",
       "      <th>NewConfirmed</th>\n",
       "      <th>TotalConfirmed</th>\n",
       "      <th>NewDeaths</th>\n",
       "      <th>TotalDeaths</th>\n",
       "      <th>NewRecovered</th>\n",
       "      <th>TotalRecovered</th>\n",
       "      <th>latitude</th>\n",
       "      <th>longitude</th>\n",
       "    </tr>\n",
       "  </thead>\n",
       "  <tbody>\n",
       "    <tr>\n",
       "      <th>0</th>\n",
       "      <td>Afghanistan</td>\n",
       "      <td>AF</td>\n",
       "      <td>17</td>\n",
       "      <td>39285</td>\n",
       "      <td>0</td>\n",
       "      <td>1458</td>\n",
       "      <td>53</td>\n",
       "      <td>32842</td>\n",
       "      <td>33.939110</td>\n",
       "      <td>67.709953</td>\n",
       "    </tr>\n",
       "    <tr>\n",
       "      <th>1</th>\n",
       "      <td>Albania</td>\n",
       "      <td>AL</td>\n",
       "      <td>157</td>\n",
       "      <td>13806</td>\n",
       "      <td>1</td>\n",
       "      <td>388</td>\n",
       "      <td>230</td>\n",
       "      <td>8077</td>\n",
       "      <td>41.153332</td>\n",
       "      <td>20.168331</td>\n",
       "    </tr>\n",
       "    <tr>\n",
       "      <th>2</th>\n",
       "      <td>Algeria</td>\n",
       "      <td>DZ</td>\n",
       "      <td>160</td>\n",
       "      <td>51690</td>\n",
       "      <td>5</td>\n",
       "      <td>1741</td>\n",
       "      <td>108</td>\n",
       "      <td>36282</td>\n",
       "      <td>28.033886</td>\n",
       "      <td>1.659626</td>\n",
       "    </tr>\n",
       "    <tr>\n",
       "      <th>3</th>\n",
       "      <td>Andorra</td>\n",
       "      <td>AD</td>\n",
       "      <td>0</td>\n",
       "      <td>2050</td>\n",
       "      <td>0</td>\n",
       "      <td>53</td>\n",
       "      <td>0</td>\n",
       "      <td>1432</td>\n",
       "      <td>42.546245</td>\n",
       "      <td>1.601554</td>\n",
       "    </tr>\n",
       "    <tr>\n",
       "      <th>4</th>\n",
       "      <td>Angola</td>\n",
       "      <td>AO</td>\n",
       "      <td>142</td>\n",
       "      <td>5114</td>\n",
       "      <td>2</td>\n",
       "      <td>185</td>\n",
       "      <td>141</td>\n",
       "      <td>2082</td>\n",
       "      <td>-11.202692</td>\n",
       "      <td>17.873887</td>\n",
       "    </tr>\n",
       "    <tr>\n",
       "      <th>...</th>\n",
       "      <td>...</td>\n",
       "      <td>...</td>\n",
       "      <td>...</td>\n",
       "      <td>...</td>\n",
       "      <td>...</td>\n",
       "      <td>...</td>\n",
       "      <td>...</td>\n",
       "      <td>...</td>\n",
       "      <td>...</td>\n",
       "      <td>...</td>\n",
       "    </tr>\n",
       "    <tr>\n",
       "      <th>162</th>\n",
       "      <td>Uzbekistan</td>\n",
       "      <td>UZ</td>\n",
       "      <td>473</td>\n",
       "      <td>57190</td>\n",
       "      <td>1</td>\n",
       "      <td>471</td>\n",
       "      <td>469</td>\n",
       "      <td>53835</td>\n",
       "      <td>41.377491</td>\n",
       "      <td>64.585262</td>\n",
       "    </tr>\n",
       "    <tr>\n",
       "      <th>163</th>\n",
       "      <td>Western Sahara</td>\n",
       "      <td>EH</td>\n",
       "      <td>0</td>\n",
       "      <td>10</td>\n",
       "      <td>0</td>\n",
       "      <td>1</td>\n",
       "      <td>0</td>\n",
       "      <td>8</td>\n",
       "      <td>24.215527</td>\n",
       "      <td>-12.885834</td>\n",
       "    </tr>\n",
       "    <tr>\n",
       "      <th>164</th>\n",
       "      <td>Yemen</td>\n",
       "      <td>YE</td>\n",
       "      <td>5</td>\n",
       "      <td>2039</td>\n",
       "      <td>0</td>\n",
       "      <td>587</td>\n",
       "      <td>11</td>\n",
       "      <td>1297</td>\n",
       "      <td>15.552727</td>\n",
       "      <td>48.516388</td>\n",
       "    </tr>\n",
       "    <tr>\n",
       "      <th>165</th>\n",
       "      <td>Zambia</td>\n",
       "      <td>ZM</td>\n",
       "      <td>43</td>\n",
       "      <td>14802</td>\n",
       "      <td>1</td>\n",
       "      <td>333</td>\n",
       "      <td>2</td>\n",
       "      <td>13961</td>\n",
       "      <td>-13.133897</td>\n",
       "      <td>27.849332</td>\n",
       "    </tr>\n",
       "    <tr>\n",
       "      <th>166</th>\n",
       "      <td>Zimbabwe</td>\n",
       "      <td>ZW</td>\n",
       "      <td>12</td>\n",
       "      <td>7850</td>\n",
       "      <td>0</td>\n",
       "      <td>228</td>\n",
       "      <td>9</td>\n",
       "      <td>6312</td>\n",
       "      <td>-19.015438</td>\n",
       "      <td>29.154857</td>\n",
       "    </tr>\n",
       "  </tbody>\n",
       "</table>\n",
       "<p>167 rows × 10 columns</p>\n",
       "</div>"
      ],
      "text/plain": [
       "            Country CountryCode  NewConfirmed  TotalConfirmed  NewDeaths  \\\n",
       "0       Afghanistan          AF            17           39285          0   \n",
       "1           Albania          AL           157           13806          1   \n",
       "2           Algeria          DZ           160           51690          5   \n",
       "3           Andorra          AD             0            2050          0   \n",
       "4            Angola          AO           142            5114          2   \n",
       "..              ...         ...           ...             ...        ...   \n",
       "162      Uzbekistan          UZ           473           57190          1   \n",
       "163  Western Sahara          EH             0              10          0   \n",
       "164           Yemen          YE             5            2039          0   \n",
       "165          Zambia          ZM            43           14802          1   \n",
       "166        Zimbabwe          ZW            12            7850          0   \n",
       "\n",
       "     TotalDeaths  NewRecovered  TotalRecovered   latitude  longitude  \n",
       "0           1458            53           32842  33.939110  67.709953  \n",
       "1            388           230            8077  41.153332  20.168331  \n",
       "2           1741           108           36282  28.033886   1.659626  \n",
       "3             53             0            1432  42.546245   1.601554  \n",
       "4            185           141            2082 -11.202692  17.873887  \n",
       "..           ...           ...             ...        ...        ...  \n",
       "162          471           469           53835  41.377491  64.585262  \n",
       "163            1             0               8  24.215527 -12.885834  \n",
       "164          587            11            1297  15.552727  48.516388  \n",
       "165          333             2           13961 -13.133897  27.849332  \n",
       "166          228             9            6312 -19.015438  29.154857  \n",
       "\n",
       "[167 rows x 10 columns]"
      ]
     },
     "execution_count": 71,
     "metadata": {},
     "output_type": "execute_result"
    }
   ],
   "source": [
    "covid_merged = pd.merge(df_drop, coordinates, on = 'Country')\n",
    "covid_merged"
   ]
  },
  {
   "cell_type": "markdown",
   "metadata": {},
   "source": [
    "### import data continent"
   ]
  },
  {
   "cell_type": "code",
   "execution_count": 72,
   "metadata": {},
   "outputs": [
    {
     "data": {
      "text/html": [
       "<div>\n",
       "<style scoped>\n",
       "    .dataframe tbody tr th:only-of-type {\n",
       "        vertical-align: middle;\n",
       "    }\n",
       "\n",
       "    .dataframe tbody tr th {\n",
       "        vertical-align: top;\n",
       "    }\n",
       "\n",
       "    .dataframe thead th {\n",
       "        text-align: right;\n",
       "    }\n",
       "</style>\n",
       "<table border=\"1\" class=\"dataframe\">\n",
       "  <thead>\n",
       "    <tr style=\"text-align: right;\">\n",
       "      <th></th>\n",
       "      <th>Continent</th>\n",
       "      <th>CountryCode</th>\n",
       "    </tr>\n",
       "  </thead>\n",
       "  <tbody>\n",
       "    <tr>\n",
       "      <th>0</th>\n",
       "      <td>Asia</td>\n",
       "      <td>AF</td>\n",
       "    </tr>\n",
       "    <tr>\n",
       "      <th>1</th>\n",
       "      <td>Europe</td>\n",
       "      <td>AL</td>\n",
       "    </tr>\n",
       "    <tr>\n",
       "      <th>2</th>\n",
       "      <td>Antarctica</td>\n",
       "      <td>AQ</td>\n",
       "    </tr>\n",
       "    <tr>\n",
       "      <th>3</th>\n",
       "      <td>Africa</td>\n",
       "      <td>DZ</td>\n",
       "    </tr>\n",
       "    <tr>\n",
       "      <th>4</th>\n",
       "      <td>Oceania</td>\n",
       "      <td>AS</td>\n",
       "    </tr>\n",
       "  </tbody>\n",
       "</table>\n",
       "</div>"
      ],
      "text/plain": [
       "    Continent CountryCode\n",
       "0        Asia          AF\n",
       "1      Europe          AL\n",
       "2  Antarctica          AQ\n",
       "3      Africa          DZ\n",
       "4     Oceania          AS"
      ]
     },
     "execution_count": 72,
     "metadata": {},
     "output_type": "execute_result"
    }
   ],
   "source": [
    "continent = pd.read_csv('https://raw.githubusercontent.com/asepscareer/country-coordinates-world/main/iso2_continent.csv')\n",
    "continent.head()"
   ]
  },
  {
   "cell_type": "code",
   "execution_count": 73,
   "metadata": {},
   "outputs": [
    {
     "data": {
      "text/html": [
       "<div>\n",
       "<style scoped>\n",
       "    .dataframe tbody tr th:only-of-type {\n",
       "        vertical-align: middle;\n",
       "    }\n",
       "\n",
       "    .dataframe tbody tr th {\n",
       "        vertical-align: top;\n",
       "    }\n",
       "\n",
       "    .dataframe thead th {\n",
       "        text-align: right;\n",
       "    }\n",
       "</style>\n",
       "<table border=\"1\" class=\"dataframe\">\n",
       "  <thead>\n",
       "    <tr style=\"text-align: right;\">\n",
       "      <th></th>\n",
       "      <th>Country</th>\n",
       "      <th>CountryCode</th>\n",
       "      <th>NewConfirmed</th>\n",
       "      <th>TotalConfirmed</th>\n",
       "      <th>NewDeaths</th>\n",
       "      <th>TotalDeaths</th>\n",
       "      <th>NewRecovered</th>\n",
       "      <th>TotalRecovered</th>\n",
       "      <th>latitude</th>\n",
       "      <th>longitude</th>\n",
       "      <th>Continent</th>\n",
       "    </tr>\n",
       "  </thead>\n",
       "  <tbody>\n",
       "    <tr>\n",
       "      <th>0</th>\n",
       "      <td>Afghanistan</td>\n",
       "      <td>AF</td>\n",
       "      <td>17</td>\n",
       "      <td>39285</td>\n",
       "      <td>0</td>\n",
       "      <td>1458</td>\n",
       "      <td>53</td>\n",
       "      <td>32842</td>\n",
       "      <td>33.939110</td>\n",
       "      <td>67.709953</td>\n",
       "      <td>Asia</td>\n",
       "    </tr>\n",
       "    <tr>\n",
       "      <th>1</th>\n",
       "      <td>Albania</td>\n",
       "      <td>AL</td>\n",
       "      <td>157</td>\n",
       "      <td>13806</td>\n",
       "      <td>1</td>\n",
       "      <td>388</td>\n",
       "      <td>230</td>\n",
       "      <td>8077</td>\n",
       "      <td>41.153332</td>\n",
       "      <td>20.168331</td>\n",
       "      <td>Europe</td>\n",
       "    </tr>\n",
       "    <tr>\n",
       "      <th>2</th>\n",
       "      <td>Algeria</td>\n",
       "      <td>DZ</td>\n",
       "      <td>160</td>\n",
       "      <td>51690</td>\n",
       "      <td>5</td>\n",
       "      <td>1741</td>\n",
       "      <td>108</td>\n",
       "      <td>36282</td>\n",
       "      <td>28.033886</td>\n",
       "      <td>1.659626</td>\n",
       "      <td>Africa</td>\n",
       "    </tr>\n",
       "    <tr>\n",
       "      <th>3</th>\n",
       "      <td>Andorra</td>\n",
       "      <td>AD</td>\n",
       "      <td>0</td>\n",
       "      <td>2050</td>\n",
       "      <td>0</td>\n",
       "      <td>53</td>\n",
       "      <td>0</td>\n",
       "      <td>1432</td>\n",
       "      <td>42.546245</td>\n",
       "      <td>1.601554</td>\n",
       "      <td>Europe</td>\n",
       "    </tr>\n",
       "    <tr>\n",
       "      <th>4</th>\n",
       "      <td>Angola</td>\n",
       "      <td>AO</td>\n",
       "      <td>142</td>\n",
       "      <td>5114</td>\n",
       "      <td>2</td>\n",
       "      <td>185</td>\n",
       "      <td>141</td>\n",
       "      <td>2082</td>\n",
       "      <td>-11.202692</td>\n",
       "      <td>17.873887</td>\n",
       "      <td>Africa</td>\n",
       "    </tr>\n",
       "    <tr>\n",
       "      <th>...</th>\n",
       "      <td>...</td>\n",
       "      <td>...</td>\n",
       "      <td>...</td>\n",
       "      <td>...</td>\n",
       "      <td>...</td>\n",
       "      <td>...</td>\n",
       "      <td>...</td>\n",
       "      <td>...</td>\n",
       "      <td>...</td>\n",
       "      <td>...</td>\n",
       "      <td>...</td>\n",
       "    </tr>\n",
       "    <tr>\n",
       "      <th>167</th>\n",
       "      <td>Uzbekistan</td>\n",
       "      <td>UZ</td>\n",
       "      <td>473</td>\n",
       "      <td>57190</td>\n",
       "      <td>1</td>\n",
       "      <td>471</td>\n",
       "      <td>469</td>\n",
       "      <td>53835</td>\n",
       "      <td>41.377491</td>\n",
       "      <td>64.585262</td>\n",
       "      <td>Asia</td>\n",
       "    </tr>\n",
       "    <tr>\n",
       "      <th>168</th>\n",
       "      <td>Western Sahara</td>\n",
       "      <td>EH</td>\n",
       "      <td>0</td>\n",
       "      <td>10</td>\n",
       "      <td>0</td>\n",
       "      <td>1</td>\n",
       "      <td>0</td>\n",
       "      <td>8</td>\n",
       "      <td>24.215527</td>\n",
       "      <td>-12.885834</td>\n",
       "      <td>Africa</td>\n",
       "    </tr>\n",
       "    <tr>\n",
       "      <th>169</th>\n",
       "      <td>Yemen</td>\n",
       "      <td>YE</td>\n",
       "      <td>5</td>\n",
       "      <td>2039</td>\n",
       "      <td>0</td>\n",
       "      <td>587</td>\n",
       "      <td>11</td>\n",
       "      <td>1297</td>\n",
       "      <td>15.552727</td>\n",
       "      <td>48.516388</td>\n",
       "      <td>Asia</td>\n",
       "    </tr>\n",
       "    <tr>\n",
       "      <th>170</th>\n",
       "      <td>Zambia</td>\n",
       "      <td>ZM</td>\n",
       "      <td>43</td>\n",
       "      <td>14802</td>\n",
       "      <td>1</td>\n",
       "      <td>333</td>\n",
       "      <td>2</td>\n",
       "      <td>13961</td>\n",
       "      <td>-13.133897</td>\n",
       "      <td>27.849332</td>\n",
       "      <td>Africa</td>\n",
       "    </tr>\n",
       "    <tr>\n",
       "      <th>171</th>\n",
       "      <td>Zimbabwe</td>\n",
       "      <td>ZW</td>\n",
       "      <td>12</td>\n",
       "      <td>7850</td>\n",
       "      <td>0</td>\n",
       "      <td>228</td>\n",
       "      <td>9</td>\n",
       "      <td>6312</td>\n",
       "      <td>-19.015438</td>\n",
       "      <td>29.154857</td>\n",
       "      <td>Africa</td>\n",
       "    </tr>\n",
       "  </tbody>\n",
       "</table>\n",
       "<p>172 rows × 11 columns</p>\n",
       "</div>"
      ],
      "text/plain": [
       "            Country CountryCode  NewConfirmed  TotalConfirmed  NewDeaths  \\\n",
       "0       Afghanistan          AF            17           39285          0   \n",
       "1           Albania          AL           157           13806          1   \n",
       "2           Algeria          DZ           160           51690          5   \n",
       "3           Andorra          AD             0            2050          0   \n",
       "4            Angola          AO           142            5114          2   \n",
       "..              ...         ...           ...             ...        ...   \n",
       "167      Uzbekistan          UZ           473           57190          1   \n",
       "168  Western Sahara          EH             0              10          0   \n",
       "169           Yemen          YE             5            2039          0   \n",
       "170          Zambia          ZM            43           14802          1   \n",
       "171        Zimbabwe          ZW            12            7850          0   \n",
       "\n",
       "     TotalDeaths  NewRecovered  TotalRecovered   latitude  longitude Continent  \n",
       "0           1458            53           32842  33.939110  67.709953      Asia  \n",
       "1            388           230            8077  41.153332  20.168331    Europe  \n",
       "2           1741           108           36282  28.033886   1.659626    Africa  \n",
       "3             53             0            1432  42.546245   1.601554    Europe  \n",
       "4            185           141            2082 -11.202692  17.873887    Africa  \n",
       "..           ...           ...             ...        ...        ...       ...  \n",
       "167          471           469           53835  41.377491  64.585262      Asia  \n",
       "168            1             0               8  24.215527 -12.885834    Africa  \n",
       "169          587            11            1297  15.552727  48.516388      Asia  \n",
       "170          333             2           13961 -13.133897  27.849332    Africa  \n",
       "171          228             9            6312 -19.015438  29.154857    Africa  \n",
       "\n",
       "[172 rows x 11 columns]"
      ]
     },
     "execution_count": 73,
     "metadata": {},
     "output_type": "execute_result"
    }
   ],
   "source": [
    "#merged\n",
    "covid_fix = pd.merge(covid_merged, continent, on = 'CountryCode')\n",
    "covid_fix"
   ]
  },
  {
   "cell_type": "markdown",
   "metadata": {},
   "source": [
    "# Analisis data"
   ]
  },
  {
   "cell_type": "code",
   "execution_count": 74,
   "metadata": {},
   "outputs": [
    {
     "data": {
      "text/html": [
       "<div>\n",
       "<style scoped>\n",
       "    .dataframe tbody tr th:only-of-type {\n",
       "        vertical-align: middle;\n",
       "    }\n",
       "\n",
       "    .dataframe tbody tr th {\n",
       "        vertical-align: top;\n",
       "    }\n",
       "\n",
       "    .dataframe thead th {\n",
       "        text-align: right;\n",
       "    }\n",
       "</style>\n",
       "<table border=\"1\" class=\"dataframe\">\n",
       "  <thead>\n",
       "    <tr style=\"text-align: right;\">\n",
       "      <th></th>\n",
       "      <th>Country</th>\n",
       "      <th>CountryCode</th>\n",
       "      <th>NewConfirmed</th>\n",
       "      <th>TotalConfirmed</th>\n",
       "      <th>NewDeaths</th>\n",
       "      <th>TotalDeaths</th>\n",
       "      <th>NewRecovered</th>\n",
       "      <th>TotalRecovered</th>\n",
       "      <th>latitude</th>\n",
       "      <th>longitude</th>\n",
       "      <th>Continent</th>\n",
       "    </tr>\n",
       "  </thead>\n",
       "  <tbody>\n",
       "    <tr>\n",
       "      <th>165</th>\n",
       "      <td>United States of America</td>\n",
       "      <td>US</td>\n",
       "      <td>43752</td>\n",
       "      <td>7277759</td>\n",
       "      <td>857</td>\n",
       "      <td>207789</td>\n",
       "      <td>19962</td>\n",
       "      <td>2860650</td>\n",
       "      <td>37.090240</td>\n",
       "      <td>-95.712891</td>\n",
       "      <td>North America</td>\n",
       "    </tr>\n",
       "    <tr>\n",
       "      <th>76</th>\n",
       "      <td>India</td>\n",
       "      <td>IN</td>\n",
       "      <td>0</td>\n",
       "      <td>6312584</td>\n",
       "      <td>0</td>\n",
       "      <td>98678</td>\n",
       "      <td>0</td>\n",
       "      <td>5273201</td>\n",
       "      <td>20.593684</td>\n",
       "      <td>78.962880</td>\n",
       "      <td>Asia</td>\n",
       "    </tr>\n",
       "    <tr>\n",
       "      <th>25</th>\n",
       "      <td>Brazil</td>\n",
       "      <td>BR</td>\n",
       "      <td>36157</td>\n",
       "      <td>4847092</td>\n",
       "      <td>728</td>\n",
       "      <td>144680</td>\n",
       "      <td>24885</td>\n",
       "      <td>4299659</td>\n",
       "      <td>-14.235004</td>\n",
       "      <td>-51.925280</td>\n",
       "      <td>South America</td>\n",
       "    </tr>\n",
       "    <tr>\n",
       "      <th>37</th>\n",
       "      <td>Colombia</td>\n",
       "      <td>CO</td>\n",
       "      <td>5660</td>\n",
       "      <td>835339</td>\n",
       "      <td>198</td>\n",
       "      <td>26196</td>\n",
       "      <td>8038</td>\n",
       "      <td>751691</td>\n",
       "      <td>4.570868</td>\n",
       "      <td>-74.297333</td>\n",
       "      <td>South America</td>\n",
       "    </tr>\n",
       "    <tr>\n",
       "      <th>125</th>\n",
       "      <td>Peru</td>\n",
       "      <td>PE</td>\n",
       "      <td>3061</td>\n",
       "      <td>814829</td>\n",
       "      <td>67</td>\n",
       "      <td>32463</td>\n",
       "      <td>13603</td>\n",
       "      <td>690528</td>\n",
       "      <td>-9.189967</td>\n",
       "      <td>-75.015152</td>\n",
       "      <td>South America</td>\n",
       "    </tr>\n",
       "    <tr>\n",
       "      <th>146</th>\n",
       "      <td>Spain</td>\n",
       "      <td>ES</td>\n",
       "      <td>9419</td>\n",
       "      <td>778607</td>\n",
       "      <td>182</td>\n",
       "      <td>31973</td>\n",
       "      <td>0</td>\n",
       "      <td>150376</td>\n",
       "      <td>40.463667</td>\n",
       "      <td>-3.749220</td>\n",
       "      <td>Europe</td>\n",
       "    </tr>\n",
       "    <tr>\n",
       "      <th>6</th>\n",
       "      <td>Argentina</td>\n",
       "      <td>AR</td>\n",
       "      <td>14001</td>\n",
       "      <td>765002</td>\n",
       "      <td>3351</td>\n",
       "      <td>20288</td>\n",
       "      <td>8495</td>\n",
       "      <td>603140</td>\n",
       "      <td>-38.416097</td>\n",
       "      <td>-63.616672</td>\n",
       "      <td>South America</td>\n",
       "    </tr>\n",
       "    <tr>\n",
       "      <th>106</th>\n",
       "      <td>Mexico</td>\n",
       "      <td>MX</td>\n",
       "      <td>5099</td>\n",
       "      <td>748315</td>\n",
       "      <td>432</td>\n",
       "      <td>78078</td>\n",
       "      <td>1623</td>\n",
       "      <td>629630</td>\n",
       "      <td>23.634501</td>\n",
       "      <td>-102.552784</td>\n",
       "      <td>North America</td>\n",
       "    </tr>\n",
       "    <tr>\n",
       "      <th>145</th>\n",
       "      <td>South Africa</td>\n",
       "      <td>ZA</td>\n",
       "      <td>1745</td>\n",
       "      <td>676084</td>\n",
       "      <td>132</td>\n",
       "      <td>16866</td>\n",
       "      <td>1472</td>\n",
       "      <td>609584</td>\n",
       "      <td>-30.559482</td>\n",
       "      <td>22.937506</td>\n",
       "      <td>Africa</td>\n",
       "    </tr>\n",
       "    <tr>\n",
       "      <th>59</th>\n",
       "      <td>France</td>\n",
       "      <td>FR</td>\n",
       "      <td>12955</td>\n",
       "      <td>616986</td>\n",
       "      <td>48</td>\n",
       "      <td>32034</td>\n",
       "      <td>522</td>\n",
       "      <td>99154</td>\n",
       "      <td>46.227638</td>\n",
       "      <td>2.213749</td>\n",
       "      <td>Europe</td>\n",
       "    </tr>\n",
       "  </tbody>\n",
       "</table>\n",
       "</div>"
      ],
      "text/plain": [
       "                      Country CountryCode  NewConfirmed  TotalConfirmed  \\\n",
       "165  United States of America          US         43752         7277759   \n",
       "76                      India          IN             0         6312584   \n",
       "25                     Brazil          BR         36157         4847092   \n",
       "37                   Colombia          CO          5660          835339   \n",
       "125                      Peru          PE          3061          814829   \n",
       "146                     Spain          ES          9419          778607   \n",
       "6                   Argentina          AR         14001          765002   \n",
       "106                    Mexico          MX          5099          748315   \n",
       "145              South Africa          ZA          1745          676084   \n",
       "59                     France          FR         12955          616986   \n",
       "\n",
       "     NewDeaths  TotalDeaths  NewRecovered  TotalRecovered   latitude  \\\n",
       "165        857       207789         19962         2860650  37.090240   \n",
       "76           0        98678             0         5273201  20.593684   \n",
       "25         728       144680         24885         4299659 -14.235004   \n",
       "37         198        26196          8038          751691   4.570868   \n",
       "125         67        32463         13603          690528  -9.189967   \n",
       "146        182        31973             0          150376  40.463667   \n",
       "6         3351        20288          8495          603140 -38.416097   \n",
       "106        432        78078          1623          629630  23.634501   \n",
       "145        132        16866          1472          609584 -30.559482   \n",
       "59          48        32034           522           99154  46.227638   \n",
       "\n",
       "      longitude      Continent  \n",
       "165  -95.712891  North America  \n",
       "76    78.962880           Asia  \n",
       "25   -51.925280  South America  \n",
       "37   -74.297333  South America  \n",
       "125  -75.015152  South America  \n",
       "146   -3.749220         Europe  \n",
       "6    -63.616672  South America  \n",
       "106 -102.552784  North America  \n",
       "145   22.937506         Africa  \n",
       "59     2.213749         Europe  "
      ]
     },
     "execution_count": 74,
     "metadata": {},
     "output_type": "execute_result"
    }
   ],
   "source": [
    "kasus_tertinggi = covid_fix.sort_values(by='TotalConfirmed', ascending=False).head(10)\n",
    "kasus_tertinggi"
   ]
  },
  {
   "cell_type": "markdown",
   "metadata": {},
   "source": [
    "### Bar Chart"
   ]
  },
  {
   "cell_type": "code",
   "execution_count": 76,
   "metadata": {},
   "outputs": [
    {
     "data": {
      "application/vnd.plotly.v1+json": {
       "config": {
        "plotlyServerURL": "https://plotly.com"
       },
       "data": [
        {
         "alignmentgroup": "True",
         "customdata": [
          [
           43752,
           "North America"
          ],
          [
           0,
           "Asia"
          ],
          [
           36157,
           "South America"
          ],
          [
           5660,
           "South America"
          ],
          [
           3061,
           "South America"
          ],
          [
           9419,
           "Europe"
          ],
          [
           14001,
           "South America"
          ],
          [
           5099,
           "North America"
          ],
          [
           1745,
           "Africa"
          ],
          [
           12955,
           "Europe"
          ]
         ],
         "hovertemplate": "<b>%{hovertext}</b><br><br>Country=%{x}<br>TotalConfirmed=%{marker.color}<br>NewConfirmed=%{customdata[0]}<br>Continent=%{customdata[1]}<extra></extra>",
         "hovertext": [
          "United States of America",
          "India",
          "Brazil",
          "Colombia",
          "Peru",
          "Spain",
          "Argentina",
          "Mexico",
          "South Africa",
          "France"
         ],
         "legendgroup": "",
         "marker": {
          "color": [
           7277759,
           6312584,
           4847092,
           835339,
           814829,
           778607,
           765002,
           748315,
           676084,
           616986
          ],
          "coloraxis": "coloraxis"
         },
         "name": "",
         "offsetgroup": "",
         "orientation": "v",
         "showlegend": false,
         "text": [
          7277759,
          6312584,
          4847092,
          835339,
          814829,
          778607,
          765002,
          748315,
          676084,
          616986
         ],
         "textposition": "outside",
         "texttemplate": "%{text:}",
         "type": "bar",
         "x": [
          "United States of America",
          "India",
          "Brazil",
          "Colombia",
          "Peru",
          "Spain",
          "Argentina",
          "Mexico",
          "South Africa",
          "France"
         ],
         "xaxis": "x",
         "y": [
          7277759,
          6312584,
          4847092,
          835339,
          814829,
          778607,
          765002,
          748315,
          676084,
          616986
         ],
         "yaxis": "y"
        }
       ],
       "layout": {
        "barmode": "relative",
        "coloraxis": {
         "colorbar": {
          "title": {
           "text": "TotalConfirmed"
          }
         },
         "colorscale": [
          [
           0,
           "#0d0887"
          ],
          [
           0.1111111111111111,
           "#46039f"
          ],
          [
           0.2222222222222222,
           "#7201a8"
          ],
          [
           0.3333333333333333,
           "#9c179e"
          ],
          [
           0.4444444444444444,
           "#bd3786"
          ],
          [
           0.5555555555555556,
           "#d8576b"
          ],
          [
           0.6666666666666666,
           "#ed7953"
          ],
          [
           0.7777777777777778,
           "#fb9f3a"
          ],
          [
           0.8888888888888888,
           "#fdca26"
          ],
          [
           1,
           "#f0f921"
          ]
         ]
        },
        "height": 600,
        "legend": {
         "tracegroupgap": 0
        },
        "margin": {
         "t": 60
        },
        "template": {
         "data": {
          "bar": [
           {
            "error_x": {
             "color": "#2a3f5f"
            },
            "error_y": {
             "color": "#2a3f5f"
            },
            "marker": {
             "line": {
              "color": "#E5ECF6",
              "width": 0.5
             }
            },
            "type": "bar"
           }
          ],
          "barpolar": [
           {
            "marker": {
             "line": {
              "color": "#E5ECF6",
              "width": 0.5
             }
            },
            "type": "barpolar"
           }
          ],
          "carpet": [
           {
            "aaxis": {
             "endlinecolor": "#2a3f5f",
             "gridcolor": "white",
             "linecolor": "white",
             "minorgridcolor": "white",
             "startlinecolor": "#2a3f5f"
            },
            "baxis": {
             "endlinecolor": "#2a3f5f",
             "gridcolor": "white",
             "linecolor": "white",
             "minorgridcolor": "white",
             "startlinecolor": "#2a3f5f"
            },
            "type": "carpet"
           }
          ],
          "choropleth": [
           {
            "colorbar": {
             "outlinewidth": 0,
             "ticks": ""
            },
            "type": "choropleth"
           }
          ],
          "contour": [
           {
            "colorbar": {
             "outlinewidth": 0,
             "ticks": ""
            },
            "colorscale": [
             [
              0,
              "#0d0887"
             ],
             [
              0.1111111111111111,
              "#46039f"
             ],
             [
              0.2222222222222222,
              "#7201a8"
             ],
             [
              0.3333333333333333,
              "#9c179e"
             ],
             [
              0.4444444444444444,
              "#bd3786"
             ],
             [
              0.5555555555555556,
              "#d8576b"
             ],
             [
              0.6666666666666666,
              "#ed7953"
             ],
             [
              0.7777777777777778,
              "#fb9f3a"
             ],
             [
              0.8888888888888888,
              "#fdca26"
             ],
             [
              1,
              "#f0f921"
             ]
            ],
            "type": "contour"
           }
          ],
          "contourcarpet": [
           {
            "colorbar": {
             "outlinewidth": 0,
             "ticks": ""
            },
            "type": "contourcarpet"
           }
          ],
          "heatmap": [
           {
            "colorbar": {
             "outlinewidth": 0,
             "ticks": ""
            },
            "colorscale": [
             [
              0,
              "#0d0887"
             ],
             [
              0.1111111111111111,
              "#46039f"
             ],
             [
              0.2222222222222222,
              "#7201a8"
             ],
             [
              0.3333333333333333,
              "#9c179e"
             ],
             [
              0.4444444444444444,
              "#bd3786"
             ],
             [
              0.5555555555555556,
              "#d8576b"
             ],
             [
              0.6666666666666666,
              "#ed7953"
             ],
             [
              0.7777777777777778,
              "#fb9f3a"
             ],
             [
              0.8888888888888888,
              "#fdca26"
             ],
             [
              1,
              "#f0f921"
             ]
            ],
            "type": "heatmap"
           }
          ],
          "heatmapgl": [
           {
            "colorbar": {
             "outlinewidth": 0,
             "ticks": ""
            },
            "colorscale": [
             [
              0,
              "#0d0887"
             ],
             [
              0.1111111111111111,
              "#46039f"
             ],
             [
              0.2222222222222222,
              "#7201a8"
             ],
             [
              0.3333333333333333,
              "#9c179e"
             ],
             [
              0.4444444444444444,
              "#bd3786"
             ],
             [
              0.5555555555555556,
              "#d8576b"
             ],
             [
              0.6666666666666666,
              "#ed7953"
             ],
             [
              0.7777777777777778,
              "#fb9f3a"
             ],
             [
              0.8888888888888888,
              "#fdca26"
             ],
             [
              1,
              "#f0f921"
             ]
            ],
            "type": "heatmapgl"
           }
          ],
          "histogram": [
           {
            "marker": {
             "colorbar": {
              "outlinewidth": 0,
              "ticks": ""
             }
            },
            "type": "histogram"
           }
          ],
          "histogram2d": [
           {
            "colorbar": {
             "outlinewidth": 0,
             "ticks": ""
            },
            "colorscale": [
             [
              0,
              "#0d0887"
             ],
             [
              0.1111111111111111,
              "#46039f"
             ],
             [
              0.2222222222222222,
              "#7201a8"
             ],
             [
              0.3333333333333333,
              "#9c179e"
             ],
             [
              0.4444444444444444,
              "#bd3786"
             ],
             [
              0.5555555555555556,
              "#d8576b"
             ],
             [
              0.6666666666666666,
              "#ed7953"
             ],
             [
              0.7777777777777778,
              "#fb9f3a"
             ],
             [
              0.8888888888888888,
              "#fdca26"
             ],
             [
              1,
              "#f0f921"
             ]
            ],
            "type": "histogram2d"
           }
          ],
          "histogram2dcontour": [
           {
            "colorbar": {
             "outlinewidth": 0,
             "ticks": ""
            },
            "colorscale": [
             [
              0,
              "#0d0887"
             ],
             [
              0.1111111111111111,
              "#46039f"
             ],
             [
              0.2222222222222222,
              "#7201a8"
             ],
             [
              0.3333333333333333,
              "#9c179e"
             ],
             [
              0.4444444444444444,
              "#bd3786"
             ],
             [
              0.5555555555555556,
              "#d8576b"
             ],
             [
              0.6666666666666666,
              "#ed7953"
             ],
             [
              0.7777777777777778,
              "#fb9f3a"
             ],
             [
              0.8888888888888888,
              "#fdca26"
             ],
             [
              1,
              "#f0f921"
             ]
            ],
            "type": "histogram2dcontour"
           }
          ],
          "mesh3d": [
           {
            "colorbar": {
             "outlinewidth": 0,
             "ticks": ""
            },
            "type": "mesh3d"
           }
          ],
          "parcoords": [
           {
            "line": {
             "colorbar": {
              "outlinewidth": 0,
              "ticks": ""
             }
            },
            "type": "parcoords"
           }
          ],
          "pie": [
           {
            "automargin": true,
            "type": "pie"
           }
          ],
          "scatter": [
           {
            "marker": {
             "colorbar": {
              "outlinewidth": 0,
              "ticks": ""
             }
            },
            "type": "scatter"
           }
          ],
          "scatter3d": [
           {
            "line": {
             "colorbar": {
              "outlinewidth": 0,
              "ticks": ""
             }
            },
            "marker": {
             "colorbar": {
              "outlinewidth": 0,
              "ticks": ""
             }
            },
            "type": "scatter3d"
           }
          ],
          "scattercarpet": [
           {
            "marker": {
             "colorbar": {
              "outlinewidth": 0,
              "ticks": ""
             }
            },
            "type": "scattercarpet"
           }
          ],
          "scattergeo": [
           {
            "marker": {
             "colorbar": {
              "outlinewidth": 0,
              "ticks": ""
             }
            },
            "type": "scattergeo"
           }
          ],
          "scattergl": [
           {
            "marker": {
             "colorbar": {
              "outlinewidth": 0,
              "ticks": ""
             }
            },
            "type": "scattergl"
           }
          ],
          "scattermapbox": [
           {
            "marker": {
             "colorbar": {
              "outlinewidth": 0,
              "ticks": ""
             }
            },
            "type": "scattermapbox"
           }
          ],
          "scatterpolar": [
           {
            "marker": {
             "colorbar": {
              "outlinewidth": 0,
              "ticks": ""
             }
            },
            "type": "scatterpolar"
           }
          ],
          "scatterpolargl": [
           {
            "marker": {
             "colorbar": {
              "outlinewidth": 0,
              "ticks": ""
             }
            },
            "type": "scatterpolargl"
           }
          ],
          "scatterternary": [
           {
            "marker": {
             "colorbar": {
              "outlinewidth": 0,
              "ticks": ""
             }
            },
            "type": "scatterternary"
           }
          ],
          "surface": [
           {
            "colorbar": {
             "outlinewidth": 0,
             "ticks": ""
            },
            "colorscale": [
             [
              0,
              "#0d0887"
             ],
             [
              0.1111111111111111,
              "#46039f"
             ],
             [
              0.2222222222222222,
              "#7201a8"
             ],
             [
              0.3333333333333333,
              "#9c179e"
             ],
             [
              0.4444444444444444,
              "#bd3786"
             ],
             [
              0.5555555555555556,
              "#d8576b"
             ],
             [
              0.6666666666666666,
              "#ed7953"
             ],
             [
              0.7777777777777778,
              "#fb9f3a"
             ],
             [
              0.8888888888888888,
              "#fdca26"
             ],
             [
              1,
              "#f0f921"
             ]
            ],
            "type": "surface"
           }
          ],
          "table": [
           {
            "cells": {
             "fill": {
              "color": "#EBF0F8"
             },
             "line": {
              "color": "white"
             }
            },
            "header": {
             "fill": {
              "color": "#C8D4E3"
             },
             "line": {
              "color": "white"
             }
            },
            "type": "table"
           }
          ]
         },
         "layout": {
          "annotationdefaults": {
           "arrowcolor": "#2a3f5f",
           "arrowhead": 0,
           "arrowwidth": 1
          },
          "coloraxis": {
           "colorbar": {
            "outlinewidth": 0,
            "ticks": ""
           }
          },
          "colorscale": {
           "diverging": [
            [
             0,
             "#8e0152"
            ],
            [
             0.1,
             "#c51b7d"
            ],
            [
             0.2,
             "#de77ae"
            ],
            [
             0.3,
             "#f1b6da"
            ],
            [
             0.4,
             "#fde0ef"
            ],
            [
             0.5,
             "#f7f7f7"
            ],
            [
             0.6,
             "#e6f5d0"
            ],
            [
             0.7,
             "#b8e186"
            ],
            [
             0.8,
             "#7fbc41"
            ],
            [
             0.9,
             "#4d9221"
            ],
            [
             1,
             "#276419"
            ]
           ],
           "sequential": [
            [
             0,
             "#0d0887"
            ],
            [
             0.1111111111111111,
             "#46039f"
            ],
            [
             0.2222222222222222,
             "#7201a8"
            ],
            [
             0.3333333333333333,
             "#9c179e"
            ],
            [
             0.4444444444444444,
             "#bd3786"
            ],
            [
             0.5555555555555556,
             "#d8576b"
            ],
            [
             0.6666666666666666,
             "#ed7953"
            ],
            [
             0.7777777777777778,
             "#fb9f3a"
            ],
            [
             0.8888888888888888,
             "#fdca26"
            ],
            [
             1,
             "#f0f921"
            ]
           ],
           "sequentialminus": [
            [
             0,
             "#0d0887"
            ],
            [
             0.1111111111111111,
             "#46039f"
            ],
            [
             0.2222222222222222,
             "#7201a8"
            ],
            [
             0.3333333333333333,
             "#9c179e"
            ],
            [
             0.4444444444444444,
             "#bd3786"
            ],
            [
             0.5555555555555556,
             "#d8576b"
            ],
            [
             0.6666666666666666,
             "#ed7953"
            ],
            [
             0.7777777777777778,
             "#fb9f3a"
            ],
            [
             0.8888888888888888,
             "#fdca26"
            ],
            [
             1,
             "#f0f921"
            ]
           ]
          },
          "colorway": [
           "#636efa",
           "#EF553B",
           "#00cc96",
           "#ab63fa",
           "#FFA15A",
           "#19d3f3",
           "#FF6692",
           "#B6E880",
           "#FF97FF",
           "#FECB52"
          ],
          "font": {
           "color": "#2a3f5f"
          },
          "geo": {
           "bgcolor": "white",
           "lakecolor": "white",
           "landcolor": "#E5ECF6",
           "showlakes": true,
           "showland": true,
           "subunitcolor": "white"
          },
          "hoverlabel": {
           "align": "left"
          },
          "hovermode": "closest",
          "mapbox": {
           "style": "light"
          },
          "paper_bgcolor": "white",
          "plot_bgcolor": "#E5ECF6",
          "polar": {
           "angularaxis": {
            "gridcolor": "white",
            "linecolor": "white",
            "ticks": ""
           },
           "bgcolor": "#E5ECF6",
           "radialaxis": {
            "gridcolor": "white",
            "linecolor": "white",
            "ticks": ""
           }
          },
          "scene": {
           "xaxis": {
            "backgroundcolor": "#E5ECF6",
            "gridcolor": "white",
            "gridwidth": 2,
            "linecolor": "white",
            "showbackground": true,
            "ticks": "",
            "zerolinecolor": "white"
           },
           "yaxis": {
            "backgroundcolor": "#E5ECF6",
            "gridcolor": "white",
            "gridwidth": 2,
            "linecolor": "white",
            "showbackground": true,
            "ticks": "",
            "zerolinecolor": "white"
           },
           "zaxis": {
            "backgroundcolor": "#E5ECF6",
            "gridcolor": "white",
            "gridwidth": 2,
            "linecolor": "white",
            "showbackground": true,
            "ticks": "",
            "zerolinecolor": "white"
           }
          },
          "shapedefaults": {
           "line": {
            "color": "#2a3f5f"
           }
          },
          "ternary": {
           "aaxis": {
            "gridcolor": "white",
            "linecolor": "white",
            "ticks": ""
           },
           "baxis": {
            "gridcolor": "white",
            "linecolor": "white",
            "ticks": ""
           },
           "bgcolor": "#E5ECF6",
           "caxis": {
            "gridcolor": "white",
            "linecolor": "white",
            "ticks": ""
           }
          },
          "title": {
           "x": 0.05
          },
          "xaxis": {
           "automargin": true,
           "gridcolor": "white",
           "linecolor": "white",
           "ticks": "",
           "title": {
            "standoff": 15
           },
           "zerolinecolor": "white",
           "zerolinewidth": 2
          },
          "yaxis": {
           "automargin": true,
           "gridcolor": "white",
           "linecolor": "white",
           "ticks": "",
           "title": {
            "standoff": 15
           },
           "zerolinecolor": "white",
           "zerolinewidth": 2
          }
         }
        },
        "title": {
         "text": "Negara kasus terkonfirmasi tertinggi di dunia",
         "x": 0.5,
         "xanchor": "center",
         "y": 0.95,
         "yanchor": "top"
        },
        "uniformtext": {
         "minsize": 2,
         "mode": "hide"
        },
        "xaxis": {
         "anchor": "y",
         "domain": [
          0,
          1
         ],
         "title": {
          "text": "Negara"
         }
        },
        "yaxis": {
         "anchor": "x",
         "domain": [
          0,
          1
         ],
         "title": {
          "text": "Total"
         }
        }
       }
      },
      "text/html": [
       "<div>\n",
       "        \n",
       "        \n",
       "            <div id=\"a0301628-e5ca-4d75-bc7d-ef05f0fcad40\" class=\"plotly-graph-div\" style=\"height:600px; width:100%;\"></div>\n",
       "            <script type=\"text/javascript\">\n",
       "                require([\"plotly\"], function(Plotly) {\n",
       "                    window.PLOTLYENV=window.PLOTLYENV || {};\n",
       "                    \n",
       "                if (document.getElementById(\"a0301628-e5ca-4d75-bc7d-ef05f0fcad40\")) {\n",
       "                    Plotly.newPlot(\n",
       "                        'a0301628-e5ca-4d75-bc7d-ef05f0fcad40',\n",
       "                        [{\"alignmentgroup\": \"True\", \"customdata\": [[43752, \"North America\"], [0, \"Asia\"], [36157, \"South America\"], [5660, \"South America\"], [3061, \"South America\"], [9419, \"Europe\"], [14001, \"South America\"], [5099, \"North America\"], [1745, \"Africa\"], [12955, \"Europe\"]], \"hovertemplate\": \"<b>%{hovertext}</b><br><br>Country=%{x}<br>TotalConfirmed=%{marker.color}<br>NewConfirmed=%{customdata[0]}<br>Continent=%{customdata[1]}<extra></extra>\", \"hovertext\": [\"United States of America\", \"India\", \"Brazil\", \"Colombia\", \"Peru\", \"Spain\", \"Argentina\", \"Mexico\", \"South Africa\", \"France\"], \"legendgroup\": \"\", \"marker\": {\"color\": [7277759, 6312584, 4847092, 835339, 814829, 778607, 765002, 748315, 676084, 616986], \"coloraxis\": \"coloraxis\"}, \"name\": \"\", \"offsetgroup\": \"\", \"orientation\": \"v\", \"showlegend\": false, \"text\": [7277759.0, 6312584.0, 4847092.0, 835339.0, 814829.0, 778607.0, 765002.0, 748315.0, 676084.0, 616986.0], \"textposition\": \"outside\", \"texttemplate\": \"%{text:}\", \"type\": \"bar\", \"x\": [\"United States of America\", \"India\", \"Brazil\", \"Colombia\", \"Peru\", \"Spain\", \"Argentina\", \"Mexico\", \"South Africa\", \"France\"], \"xaxis\": \"x\", \"y\": [7277759, 6312584, 4847092, 835339, 814829, 778607, 765002, 748315, 676084, 616986], \"yaxis\": \"y\"}],\n",
       "                        {\"barmode\": \"relative\", \"coloraxis\": {\"colorbar\": {\"title\": {\"text\": \"TotalConfirmed\"}}, \"colorscale\": [[0.0, \"#0d0887\"], [0.1111111111111111, \"#46039f\"], [0.2222222222222222, \"#7201a8\"], [0.3333333333333333, \"#9c179e\"], [0.4444444444444444, \"#bd3786\"], [0.5555555555555556, \"#d8576b\"], [0.6666666666666666, \"#ed7953\"], [0.7777777777777778, \"#fb9f3a\"], [0.8888888888888888, \"#fdca26\"], [1.0, \"#f0f921\"]]}, \"height\": 600, \"legend\": {\"tracegroupgap\": 0}, \"margin\": {\"t\": 60}, \"template\": {\"data\": {\"bar\": [{\"error_x\": {\"color\": \"#2a3f5f\"}, \"error_y\": {\"color\": \"#2a3f5f\"}, \"marker\": {\"line\": {\"color\": \"#E5ECF6\", \"width\": 0.5}}, \"type\": \"bar\"}], \"barpolar\": [{\"marker\": {\"line\": {\"color\": \"#E5ECF6\", \"width\": 0.5}}, \"type\": \"barpolar\"}], \"carpet\": [{\"aaxis\": {\"endlinecolor\": \"#2a3f5f\", \"gridcolor\": \"white\", \"linecolor\": \"white\", \"minorgridcolor\": \"white\", \"startlinecolor\": \"#2a3f5f\"}, \"baxis\": {\"endlinecolor\": \"#2a3f5f\", \"gridcolor\": \"white\", \"linecolor\": \"white\", \"minorgridcolor\": \"white\", \"startlinecolor\": \"#2a3f5f\"}, \"type\": \"carpet\"}], \"choropleth\": [{\"colorbar\": {\"outlinewidth\": 0, \"ticks\": \"\"}, \"type\": \"choropleth\"}], \"contour\": [{\"colorbar\": {\"outlinewidth\": 0, \"ticks\": \"\"}, \"colorscale\": [[0.0, \"#0d0887\"], [0.1111111111111111, \"#46039f\"], [0.2222222222222222, \"#7201a8\"], [0.3333333333333333, \"#9c179e\"], [0.4444444444444444, \"#bd3786\"], [0.5555555555555556, \"#d8576b\"], [0.6666666666666666, \"#ed7953\"], [0.7777777777777778, \"#fb9f3a\"], [0.8888888888888888, \"#fdca26\"], [1.0, \"#f0f921\"]], \"type\": \"contour\"}], \"contourcarpet\": [{\"colorbar\": {\"outlinewidth\": 0, \"ticks\": \"\"}, \"type\": \"contourcarpet\"}], \"heatmap\": [{\"colorbar\": {\"outlinewidth\": 0, \"ticks\": \"\"}, \"colorscale\": [[0.0, \"#0d0887\"], [0.1111111111111111, \"#46039f\"], [0.2222222222222222, \"#7201a8\"], [0.3333333333333333, \"#9c179e\"], [0.4444444444444444, \"#bd3786\"], [0.5555555555555556, \"#d8576b\"], [0.6666666666666666, \"#ed7953\"], [0.7777777777777778, \"#fb9f3a\"], [0.8888888888888888, \"#fdca26\"], [1.0, \"#f0f921\"]], \"type\": \"heatmap\"}], \"heatmapgl\": [{\"colorbar\": {\"outlinewidth\": 0, \"ticks\": \"\"}, \"colorscale\": [[0.0, \"#0d0887\"], [0.1111111111111111, \"#46039f\"], [0.2222222222222222, \"#7201a8\"], [0.3333333333333333, \"#9c179e\"], [0.4444444444444444, \"#bd3786\"], [0.5555555555555556, \"#d8576b\"], [0.6666666666666666, \"#ed7953\"], [0.7777777777777778, \"#fb9f3a\"], [0.8888888888888888, \"#fdca26\"], [1.0, \"#f0f921\"]], \"type\": \"heatmapgl\"}], \"histogram\": [{\"marker\": {\"colorbar\": {\"outlinewidth\": 0, \"ticks\": \"\"}}, \"type\": \"histogram\"}], \"histogram2d\": [{\"colorbar\": {\"outlinewidth\": 0, \"ticks\": \"\"}, \"colorscale\": [[0.0, \"#0d0887\"], [0.1111111111111111, \"#46039f\"], [0.2222222222222222, \"#7201a8\"], [0.3333333333333333, \"#9c179e\"], [0.4444444444444444, \"#bd3786\"], [0.5555555555555556, \"#d8576b\"], [0.6666666666666666, \"#ed7953\"], [0.7777777777777778, \"#fb9f3a\"], [0.8888888888888888, \"#fdca26\"], [1.0, \"#f0f921\"]], \"type\": \"histogram2d\"}], \"histogram2dcontour\": [{\"colorbar\": {\"outlinewidth\": 0, \"ticks\": \"\"}, \"colorscale\": [[0.0, \"#0d0887\"], [0.1111111111111111, \"#46039f\"], [0.2222222222222222, \"#7201a8\"], [0.3333333333333333, \"#9c179e\"], [0.4444444444444444, \"#bd3786\"], [0.5555555555555556, \"#d8576b\"], [0.6666666666666666, \"#ed7953\"], [0.7777777777777778, \"#fb9f3a\"], [0.8888888888888888, \"#fdca26\"], [1.0, \"#f0f921\"]], \"type\": \"histogram2dcontour\"}], \"mesh3d\": [{\"colorbar\": {\"outlinewidth\": 0, \"ticks\": \"\"}, \"type\": \"mesh3d\"}], \"parcoords\": [{\"line\": {\"colorbar\": {\"outlinewidth\": 0, \"ticks\": \"\"}}, \"type\": \"parcoords\"}], \"pie\": [{\"automargin\": true, \"type\": \"pie\"}], \"scatter\": [{\"marker\": {\"colorbar\": {\"outlinewidth\": 0, \"ticks\": \"\"}}, \"type\": \"scatter\"}], \"scatter3d\": [{\"line\": {\"colorbar\": {\"outlinewidth\": 0, \"ticks\": \"\"}}, \"marker\": {\"colorbar\": {\"outlinewidth\": 0, \"ticks\": \"\"}}, \"type\": \"scatter3d\"}], \"scattercarpet\": [{\"marker\": {\"colorbar\": {\"outlinewidth\": 0, \"ticks\": \"\"}}, \"type\": \"scattercarpet\"}], \"scattergeo\": [{\"marker\": {\"colorbar\": {\"outlinewidth\": 0, \"ticks\": \"\"}}, \"type\": \"scattergeo\"}], \"scattergl\": [{\"marker\": {\"colorbar\": {\"outlinewidth\": 0, \"ticks\": \"\"}}, \"type\": \"scattergl\"}], \"scattermapbox\": [{\"marker\": {\"colorbar\": {\"outlinewidth\": 0, \"ticks\": \"\"}}, \"type\": \"scattermapbox\"}], \"scatterpolar\": [{\"marker\": {\"colorbar\": {\"outlinewidth\": 0, \"ticks\": \"\"}}, \"type\": \"scatterpolar\"}], \"scatterpolargl\": [{\"marker\": {\"colorbar\": {\"outlinewidth\": 0, \"ticks\": \"\"}}, \"type\": \"scatterpolargl\"}], \"scatterternary\": [{\"marker\": {\"colorbar\": {\"outlinewidth\": 0, \"ticks\": \"\"}}, \"type\": \"scatterternary\"}], \"surface\": [{\"colorbar\": {\"outlinewidth\": 0, \"ticks\": \"\"}, \"colorscale\": [[0.0, \"#0d0887\"], [0.1111111111111111, \"#46039f\"], [0.2222222222222222, \"#7201a8\"], [0.3333333333333333, \"#9c179e\"], [0.4444444444444444, \"#bd3786\"], [0.5555555555555556, \"#d8576b\"], [0.6666666666666666, \"#ed7953\"], [0.7777777777777778, \"#fb9f3a\"], [0.8888888888888888, \"#fdca26\"], [1.0, \"#f0f921\"]], \"type\": \"surface\"}], \"table\": [{\"cells\": {\"fill\": {\"color\": \"#EBF0F8\"}, \"line\": {\"color\": \"white\"}}, \"header\": {\"fill\": {\"color\": \"#C8D4E3\"}, \"line\": {\"color\": \"white\"}}, \"type\": \"table\"}]}, \"layout\": {\"annotationdefaults\": {\"arrowcolor\": \"#2a3f5f\", \"arrowhead\": 0, \"arrowwidth\": 1}, \"coloraxis\": {\"colorbar\": {\"outlinewidth\": 0, \"ticks\": \"\"}}, \"colorscale\": {\"diverging\": [[0, \"#8e0152\"], [0.1, \"#c51b7d\"], [0.2, \"#de77ae\"], [0.3, \"#f1b6da\"], [0.4, \"#fde0ef\"], [0.5, \"#f7f7f7\"], [0.6, \"#e6f5d0\"], [0.7, \"#b8e186\"], [0.8, \"#7fbc41\"], [0.9, \"#4d9221\"], [1, \"#276419\"]], \"sequential\": [[0.0, \"#0d0887\"], [0.1111111111111111, \"#46039f\"], [0.2222222222222222, \"#7201a8\"], [0.3333333333333333, \"#9c179e\"], [0.4444444444444444, \"#bd3786\"], [0.5555555555555556, \"#d8576b\"], [0.6666666666666666, \"#ed7953\"], [0.7777777777777778, \"#fb9f3a\"], [0.8888888888888888, \"#fdca26\"], [1.0, \"#f0f921\"]], \"sequentialminus\": [[0.0, \"#0d0887\"], [0.1111111111111111, \"#46039f\"], [0.2222222222222222, \"#7201a8\"], [0.3333333333333333, \"#9c179e\"], [0.4444444444444444, \"#bd3786\"], [0.5555555555555556, \"#d8576b\"], [0.6666666666666666, \"#ed7953\"], [0.7777777777777778, \"#fb9f3a\"], [0.8888888888888888, \"#fdca26\"], [1.0, \"#f0f921\"]]}, \"colorway\": [\"#636efa\", \"#EF553B\", \"#00cc96\", \"#ab63fa\", \"#FFA15A\", \"#19d3f3\", \"#FF6692\", \"#B6E880\", \"#FF97FF\", \"#FECB52\"], \"font\": {\"color\": \"#2a3f5f\"}, \"geo\": {\"bgcolor\": \"white\", \"lakecolor\": \"white\", \"landcolor\": \"#E5ECF6\", \"showlakes\": true, \"showland\": true, \"subunitcolor\": \"white\"}, \"hoverlabel\": {\"align\": \"left\"}, \"hovermode\": \"closest\", \"mapbox\": {\"style\": \"light\"}, \"paper_bgcolor\": \"white\", \"plot_bgcolor\": \"#E5ECF6\", \"polar\": {\"angularaxis\": {\"gridcolor\": \"white\", \"linecolor\": \"white\", \"ticks\": \"\"}, \"bgcolor\": \"#E5ECF6\", \"radialaxis\": {\"gridcolor\": \"white\", \"linecolor\": \"white\", \"ticks\": \"\"}}, \"scene\": {\"xaxis\": {\"backgroundcolor\": \"#E5ECF6\", \"gridcolor\": \"white\", \"gridwidth\": 2, \"linecolor\": \"white\", \"showbackground\": true, \"ticks\": \"\", \"zerolinecolor\": \"white\"}, \"yaxis\": {\"backgroundcolor\": \"#E5ECF6\", \"gridcolor\": \"white\", \"gridwidth\": 2, \"linecolor\": \"white\", \"showbackground\": true, \"ticks\": \"\", \"zerolinecolor\": \"white\"}, \"zaxis\": {\"backgroundcolor\": \"#E5ECF6\", \"gridcolor\": \"white\", \"gridwidth\": 2, \"linecolor\": \"white\", \"showbackground\": true, \"ticks\": \"\", \"zerolinecolor\": \"white\"}}, \"shapedefaults\": {\"line\": {\"color\": \"#2a3f5f\"}}, \"ternary\": {\"aaxis\": {\"gridcolor\": \"white\", \"linecolor\": \"white\", \"ticks\": \"\"}, \"baxis\": {\"gridcolor\": \"white\", \"linecolor\": \"white\", \"ticks\": \"\"}, \"bgcolor\": \"#E5ECF6\", \"caxis\": {\"gridcolor\": \"white\", \"linecolor\": \"white\", \"ticks\": \"\"}}, \"title\": {\"x\": 0.05}, \"xaxis\": {\"automargin\": true, \"gridcolor\": \"white\", \"linecolor\": \"white\", \"ticks\": \"\", \"title\": {\"standoff\": 15}, \"zerolinecolor\": \"white\", \"zerolinewidth\": 2}, \"yaxis\": {\"automargin\": true, \"gridcolor\": \"white\", \"linecolor\": \"white\", \"ticks\": \"\", \"title\": {\"standoff\": 15}, \"zerolinecolor\": \"white\", \"zerolinewidth\": 2}}}, \"title\": {\"text\": \"Negara kasus terkonfirmasi tertinggi di dunia\", \"x\": 0.5, \"xanchor\": \"center\", \"y\": 0.95, \"yanchor\": \"top\"}, \"uniformtext\": {\"minsize\": 2, \"mode\": \"hide\"}, \"xaxis\": {\"anchor\": \"y\", \"domain\": [0.0, 1.0], \"title\": {\"text\": \"Negara\"}}, \"yaxis\": {\"anchor\": \"x\", \"domain\": [0.0, 1.0], \"title\": {\"text\": \"Total\"}}},\n",
       "                        {\"responsive\": true}\n",
       "                    ).then(function(){\n",
       "                            \n",
       "var gd = document.getElementById('a0301628-e5ca-4d75-bc7d-ef05f0fcad40');\n",
       "var x = new MutationObserver(function (mutations, observer) {{\n",
       "        var display = window.getComputedStyle(gd).display;\n",
       "        if (!display || display === 'none') {{\n",
       "            console.log([gd, 'removed!']);\n",
       "            Plotly.purge(gd);\n",
       "            observer.disconnect();\n",
       "        }}\n",
       "}});\n",
       "\n",
       "// Listen for the removal of the full notebook cells\n",
       "var notebookContainer = gd.closest('#notebook-container');\n",
       "if (notebookContainer) {{\n",
       "    x.observe(notebookContainer, {childList: true});\n",
       "}}\n",
       "\n",
       "// Listen for the clearing of the current output cell\n",
       "var outputEl = gd.closest('.output');\n",
       "if (outputEl) {{\n",
       "    x.observe(outputEl, {childList: true});\n",
       "}}\n",
       "\n",
       "                        })\n",
       "                };\n",
       "                });\n",
       "            </script>\n",
       "        </div>"
      ]
     },
     "metadata": {},
     "output_type": "display_data"
    },
    {
     "data": {
      "text/plain": [
       "'https://plotly.com/~asepsaputra/30/'"
      ]
     },
     "execution_count": 76,
     "metadata": {},
     "output_type": "execute_result"
    }
   ],
   "source": [
    "fig1 = px.bar(kasus_tertinggi, x='Country', y='TotalConfirmed',\n",
    "              hover_name='Country',\n",
    "              hover_data=['NewConfirmed','Continent'],\n",
    "              color='TotalConfirmed', text= 'TotalConfirmed', height=400)\n",
    "fig1.update_traces(texttemplate='%{text:}', textposition='outside')\n",
    "fig1.update_layout(title={\n",
    "        'text': \"Negara kasus terkonfirmasi tertinggi di dunia\",\n",
    "        'y':0.95,\n",
    "        'x':0.5,\n",
    "        'xanchor': 'center',\n",
    "        'yanchor': 'top'},\n",
    "                   uniformtext_minsize=2, uniformtext_mode='hide',\n",
    "                   xaxis_title=\"Negara\", yaxis_title=\"Total\", height=600)\n",
    "\n",
    "fig1.show()"
   ]
  },
  {
   "cell_type": "markdown",
   "metadata": {},
   "source": [
    "### Pie Chart"
   ]
  },
  {
   "cell_type": "code",
   "execution_count": 77,
   "metadata": {},
   "outputs": [
    {
     "data": {
      "application/vnd.plotly.v1+json": {
       "config": {
        "plotlyServerURL": "https://plotly.com"
       },
       "data": [
        {
         "insidetextorientation": "radial",
         "labels": [
          "Asia",
          "Europe",
          "Africa",
          "Europe",
          "Africa",
          "North America",
          "South America",
          "Europe",
          "Asia",
          "Oceania",
          "Europe",
          "Europe",
          "Asia",
          "North America",
          "Asia",
          "Asia",
          "North America",
          "Europe",
          "Europe",
          "North America",
          "Africa",
          "Asia",
          "South America",
          "Europe",
          "Africa",
          "South America",
          "Europe",
          "Africa",
          "Africa",
          "Asia",
          "Africa",
          "North America",
          "Africa",
          "Africa",
          "Africa",
          "South America",
          "Asia",
          "South America",
          "Africa",
          "North America",
          "Europe",
          "North America",
          "Europe",
          "Asia",
          "Europe",
          "Africa",
          "Europe",
          "Africa",
          "North America",
          "North America",
          "South America",
          "Africa",
          "North America",
          "Africa",
          "Africa",
          "Europe",
          "Africa",
          "Oceania",
          "Europe",
          "Europe",
          "Africa",
          "Africa",
          "Europe",
          "Asia",
          "Europe",
          "Africa",
          "Europe",
          "North America",
          "North America",
          "Africa",
          "Africa",
          "South America",
          "North America",
          "North America",
          "Europe",
          "Europe",
          "Asia",
          "Asia",
          "Asia",
          "Europe",
          "Asia",
          "Europe",
          "North America",
          "Asia",
          "Asia",
          "Europe",
          "Asia",
          "Africa",
          "Asia",
          "Asia",
          "Europe",
          "Asia",
          "Africa",
          "Africa",
          "Africa",
          "Europe",
          "Europe",
          "Europe",
          "Africa",
          "Africa",
          "Asia",
          "Asia",
          "Africa",
          "Europe",
          "Africa",
          "Africa",
          "North America",
          "Europe",
          "Europe",
          "Asia",
          "Europe",
          "Africa",
          "Africa",
          "Asia",
          "Europe",
          "Oceania",
          "North America",
          "Africa",
          "Africa",
          "Europe",
          "Asia",
          "Asia",
          "North America",
          "Oceania",
          "South America",
          "South America",
          "Asia",
          "Europe",
          "Europe",
          "Asia",
          "Europe",
          "Africa",
          "Africa",
          "North America",
          "North America",
          "Europe",
          "Asia",
          "Africa",
          "Europe",
          "Africa",
          "Africa",
          "Asia",
          "Europe",
          "Europe",
          "Africa",
          "Africa",
          "Europe",
          "Asia",
          "Africa",
          "South America",
          "Africa",
          "Europe",
          "Europe",
          "Asia",
          "Asia",
          "Asia",
          "Africa",
          "North America",
          "Africa",
          "Europe",
          "Asia",
          "Africa",
          "Europe",
          "Asia",
          "Europe",
          "North America",
          "South America",
          "Asia",
          "Africa",
          "Asia",
          "Africa",
          "Africa"
         ],
         "pull": [
          0.1,
          0,
          0,
          0,
          0,
          0
         ],
         "textinfo": "percent+label",
         "type": "pie",
         "values": [
          17,
          157,
          160,
          0,
          142,
          0,
          14001,
          491,
          491,
          13,
          873,
          80,
          80,
          0,
          510,
          1508,
          3,
          388,
          2607,
          0,
          0,
          0,
          405,
          280,
          0,
          36157,
          0,
          32,
          2,
          1,
          0,
          1823,
          102,
          0,
          3,
          1759,
          22,
          5660,
          5,
          1068,
          234,
          73,
          17,
          17,
          5336,
          31,
          403,
          1,
          1,
          519,
          1537,
          119,
          98,
          15,
          6,
          79,
          730,
          0,
          111,
          12955,
          0,
          5,
          448,
          448,
          2626,
          30,
          411,
          0,
          663,
          0,
          0,
          35,
          15,
          698,
          848,
          41,
          0,
          4174,
          4493,
          442,
          7996,
          2548,
          73,
          653,
          1276,
          65,
          65,
          184,
          494,
          172,
          44,
          1248,
          44,
          0,
          683,
          1,
          91,
          86,
          46,
          6,
          260,
          63,
          13,
          37,
          3,
          0,
          5099,
          1022,
          1,
          0,
          215,
          2391,
          160,
          1911,
          3252,
          0,
          0,
          0,
          153,
          122,
          0,
          625,
          747,
          5,
          1041,
          3061,
          2385,
          1967,
          854,
          199,
          2086,
          3,
          0,
          0,
          0,
          0,
          492,
          37,
          111,
          0,
          7,
          19,
          797,
          175,
          5,
          1745,
          9419,
          2,
          13,
          14,
          18,
          752,
          550,
          42,
          6,
          0,
          25,
          39,
          0,
          1407,
          1407,
          158,
          4179,
          1158,
          6929,
          43752,
          15,
          473,
          0,
          5,
          43,
          12
         ]
        }
       ],
       "layout": {
        "template": {
         "data": {
          "bar": [
           {
            "error_x": {
             "color": "#2a3f5f"
            },
            "error_y": {
             "color": "#2a3f5f"
            },
            "marker": {
             "line": {
              "color": "#E5ECF6",
              "width": 0.5
             }
            },
            "type": "bar"
           }
          ],
          "barpolar": [
           {
            "marker": {
             "line": {
              "color": "#E5ECF6",
              "width": 0.5
             }
            },
            "type": "barpolar"
           }
          ],
          "carpet": [
           {
            "aaxis": {
             "endlinecolor": "#2a3f5f",
             "gridcolor": "white",
             "linecolor": "white",
             "minorgridcolor": "white",
             "startlinecolor": "#2a3f5f"
            },
            "baxis": {
             "endlinecolor": "#2a3f5f",
             "gridcolor": "white",
             "linecolor": "white",
             "minorgridcolor": "white",
             "startlinecolor": "#2a3f5f"
            },
            "type": "carpet"
           }
          ],
          "choropleth": [
           {
            "colorbar": {
             "outlinewidth": 0,
             "ticks": ""
            },
            "type": "choropleth"
           }
          ],
          "contour": [
           {
            "colorbar": {
             "outlinewidth": 0,
             "ticks": ""
            },
            "colorscale": [
             [
              0,
              "#0d0887"
             ],
             [
              0.1111111111111111,
              "#46039f"
             ],
             [
              0.2222222222222222,
              "#7201a8"
             ],
             [
              0.3333333333333333,
              "#9c179e"
             ],
             [
              0.4444444444444444,
              "#bd3786"
             ],
             [
              0.5555555555555556,
              "#d8576b"
             ],
             [
              0.6666666666666666,
              "#ed7953"
             ],
             [
              0.7777777777777778,
              "#fb9f3a"
             ],
             [
              0.8888888888888888,
              "#fdca26"
             ],
             [
              1,
              "#f0f921"
             ]
            ],
            "type": "contour"
           }
          ],
          "contourcarpet": [
           {
            "colorbar": {
             "outlinewidth": 0,
             "ticks": ""
            },
            "type": "contourcarpet"
           }
          ],
          "heatmap": [
           {
            "colorbar": {
             "outlinewidth": 0,
             "ticks": ""
            },
            "colorscale": [
             [
              0,
              "#0d0887"
             ],
             [
              0.1111111111111111,
              "#46039f"
             ],
             [
              0.2222222222222222,
              "#7201a8"
             ],
             [
              0.3333333333333333,
              "#9c179e"
             ],
             [
              0.4444444444444444,
              "#bd3786"
             ],
             [
              0.5555555555555556,
              "#d8576b"
             ],
             [
              0.6666666666666666,
              "#ed7953"
             ],
             [
              0.7777777777777778,
              "#fb9f3a"
             ],
             [
              0.8888888888888888,
              "#fdca26"
             ],
             [
              1,
              "#f0f921"
             ]
            ],
            "type": "heatmap"
           }
          ],
          "heatmapgl": [
           {
            "colorbar": {
             "outlinewidth": 0,
             "ticks": ""
            },
            "colorscale": [
             [
              0,
              "#0d0887"
             ],
             [
              0.1111111111111111,
              "#46039f"
             ],
             [
              0.2222222222222222,
              "#7201a8"
             ],
             [
              0.3333333333333333,
              "#9c179e"
             ],
             [
              0.4444444444444444,
              "#bd3786"
             ],
             [
              0.5555555555555556,
              "#d8576b"
             ],
             [
              0.6666666666666666,
              "#ed7953"
             ],
             [
              0.7777777777777778,
              "#fb9f3a"
             ],
             [
              0.8888888888888888,
              "#fdca26"
             ],
             [
              1,
              "#f0f921"
             ]
            ],
            "type": "heatmapgl"
           }
          ],
          "histogram": [
           {
            "marker": {
             "colorbar": {
              "outlinewidth": 0,
              "ticks": ""
             }
            },
            "type": "histogram"
           }
          ],
          "histogram2d": [
           {
            "colorbar": {
             "outlinewidth": 0,
             "ticks": ""
            },
            "colorscale": [
             [
              0,
              "#0d0887"
             ],
             [
              0.1111111111111111,
              "#46039f"
             ],
             [
              0.2222222222222222,
              "#7201a8"
             ],
             [
              0.3333333333333333,
              "#9c179e"
             ],
             [
              0.4444444444444444,
              "#bd3786"
             ],
             [
              0.5555555555555556,
              "#d8576b"
             ],
             [
              0.6666666666666666,
              "#ed7953"
             ],
             [
              0.7777777777777778,
              "#fb9f3a"
             ],
             [
              0.8888888888888888,
              "#fdca26"
             ],
             [
              1,
              "#f0f921"
             ]
            ],
            "type": "histogram2d"
           }
          ],
          "histogram2dcontour": [
           {
            "colorbar": {
             "outlinewidth": 0,
             "ticks": ""
            },
            "colorscale": [
             [
              0,
              "#0d0887"
             ],
             [
              0.1111111111111111,
              "#46039f"
             ],
             [
              0.2222222222222222,
              "#7201a8"
             ],
             [
              0.3333333333333333,
              "#9c179e"
             ],
             [
              0.4444444444444444,
              "#bd3786"
             ],
             [
              0.5555555555555556,
              "#d8576b"
             ],
             [
              0.6666666666666666,
              "#ed7953"
             ],
             [
              0.7777777777777778,
              "#fb9f3a"
             ],
             [
              0.8888888888888888,
              "#fdca26"
             ],
             [
              1,
              "#f0f921"
             ]
            ],
            "type": "histogram2dcontour"
           }
          ],
          "mesh3d": [
           {
            "colorbar": {
             "outlinewidth": 0,
             "ticks": ""
            },
            "type": "mesh3d"
           }
          ],
          "parcoords": [
           {
            "line": {
             "colorbar": {
              "outlinewidth": 0,
              "ticks": ""
             }
            },
            "type": "parcoords"
           }
          ],
          "pie": [
           {
            "automargin": true,
            "type": "pie"
           }
          ],
          "scatter": [
           {
            "marker": {
             "colorbar": {
              "outlinewidth": 0,
              "ticks": ""
             }
            },
            "type": "scatter"
           }
          ],
          "scatter3d": [
           {
            "line": {
             "colorbar": {
              "outlinewidth": 0,
              "ticks": ""
             }
            },
            "marker": {
             "colorbar": {
              "outlinewidth": 0,
              "ticks": ""
             }
            },
            "type": "scatter3d"
           }
          ],
          "scattercarpet": [
           {
            "marker": {
             "colorbar": {
              "outlinewidth": 0,
              "ticks": ""
             }
            },
            "type": "scattercarpet"
           }
          ],
          "scattergeo": [
           {
            "marker": {
             "colorbar": {
              "outlinewidth": 0,
              "ticks": ""
             }
            },
            "type": "scattergeo"
           }
          ],
          "scattergl": [
           {
            "marker": {
             "colorbar": {
              "outlinewidth": 0,
              "ticks": ""
             }
            },
            "type": "scattergl"
           }
          ],
          "scattermapbox": [
           {
            "marker": {
             "colorbar": {
              "outlinewidth": 0,
              "ticks": ""
             }
            },
            "type": "scattermapbox"
           }
          ],
          "scatterpolar": [
           {
            "marker": {
             "colorbar": {
              "outlinewidth": 0,
              "ticks": ""
             }
            },
            "type": "scatterpolar"
           }
          ],
          "scatterpolargl": [
           {
            "marker": {
             "colorbar": {
              "outlinewidth": 0,
              "ticks": ""
             }
            },
            "type": "scatterpolargl"
           }
          ],
          "scatterternary": [
           {
            "marker": {
             "colorbar": {
              "outlinewidth": 0,
              "ticks": ""
             }
            },
            "type": "scatterternary"
           }
          ],
          "surface": [
           {
            "colorbar": {
             "outlinewidth": 0,
             "ticks": ""
            },
            "colorscale": [
             [
              0,
              "#0d0887"
             ],
             [
              0.1111111111111111,
              "#46039f"
             ],
             [
              0.2222222222222222,
              "#7201a8"
             ],
             [
              0.3333333333333333,
              "#9c179e"
             ],
             [
              0.4444444444444444,
              "#bd3786"
             ],
             [
              0.5555555555555556,
              "#d8576b"
             ],
             [
              0.6666666666666666,
              "#ed7953"
             ],
             [
              0.7777777777777778,
              "#fb9f3a"
             ],
             [
              0.8888888888888888,
              "#fdca26"
             ],
             [
              1,
              "#f0f921"
             ]
            ],
            "type": "surface"
           }
          ],
          "table": [
           {
            "cells": {
             "fill": {
              "color": "#EBF0F8"
             },
             "line": {
              "color": "white"
             }
            },
            "header": {
             "fill": {
              "color": "#C8D4E3"
             },
             "line": {
              "color": "white"
             }
            },
            "type": "table"
           }
          ]
         },
         "layout": {
          "annotationdefaults": {
           "arrowcolor": "#2a3f5f",
           "arrowhead": 0,
           "arrowwidth": 1
          },
          "coloraxis": {
           "colorbar": {
            "outlinewidth": 0,
            "ticks": ""
           }
          },
          "colorscale": {
           "diverging": [
            [
             0,
             "#8e0152"
            ],
            [
             0.1,
             "#c51b7d"
            ],
            [
             0.2,
             "#de77ae"
            ],
            [
             0.3,
             "#f1b6da"
            ],
            [
             0.4,
             "#fde0ef"
            ],
            [
             0.5,
             "#f7f7f7"
            ],
            [
             0.6,
             "#e6f5d0"
            ],
            [
             0.7,
             "#b8e186"
            ],
            [
             0.8,
             "#7fbc41"
            ],
            [
             0.9,
             "#4d9221"
            ],
            [
             1,
             "#276419"
            ]
           ],
           "sequential": [
            [
             0,
             "#0d0887"
            ],
            [
             0.1111111111111111,
             "#46039f"
            ],
            [
             0.2222222222222222,
             "#7201a8"
            ],
            [
             0.3333333333333333,
             "#9c179e"
            ],
            [
             0.4444444444444444,
             "#bd3786"
            ],
            [
             0.5555555555555556,
             "#d8576b"
            ],
            [
             0.6666666666666666,
             "#ed7953"
            ],
            [
             0.7777777777777778,
             "#fb9f3a"
            ],
            [
             0.8888888888888888,
             "#fdca26"
            ],
            [
             1,
             "#f0f921"
            ]
           ],
           "sequentialminus": [
            [
             0,
             "#0d0887"
            ],
            [
             0.1111111111111111,
             "#46039f"
            ],
            [
             0.2222222222222222,
             "#7201a8"
            ],
            [
             0.3333333333333333,
             "#9c179e"
            ],
            [
             0.4444444444444444,
             "#bd3786"
            ],
            [
             0.5555555555555556,
             "#d8576b"
            ],
            [
             0.6666666666666666,
             "#ed7953"
            ],
            [
             0.7777777777777778,
             "#fb9f3a"
            ],
            [
             0.8888888888888888,
             "#fdca26"
            ],
            [
             1,
             "#f0f921"
            ]
           ]
          },
          "colorway": [
           "#636efa",
           "#EF553B",
           "#00cc96",
           "#ab63fa",
           "#FFA15A",
           "#19d3f3",
           "#FF6692",
           "#B6E880",
           "#FF97FF",
           "#FECB52"
          ],
          "font": {
           "color": "#2a3f5f"
          },
          "geo": {
           "bgcolor": "white",
           "lakecolor": "white",
           "landcolor": "#E5ECF6",
           "showlakes": true,
           "showland": true,
           "subunitcolor": "white"
          },
          "hoverlabel": {
           "align": "left"
          },
          "hovermode": "closest",
          "mapbox": {
           "style": "light"
          },
          "paper_bgcolor": "white",
          "plot_bgcolor": "#E5ECF6",
          "polar": {
           "angularaxis": {
            "gridcolor": "white",
            "linecolor": "white",
            "ticks": ""
           },
           "bgcolor": "#E5ECF6",
           "radialaxis": {
            "gridcolor": "white",
            "linecolor": "white",
            "ticks": ""
           }
          },
          "scene": {
           "xaxis": {
            "backgroundcolor": "#E5ECF6",
            "gridcolor": "white",
            "gridwidth": 2,
            "linecolor": "white",
            "showbackground": true,
            "ticks": "",
            "zerolinecolor": "white"
           },
           "yaxis": {
            "backgroundcolor": "#E5ECF6",
            "gridcolor": "white",
            "gridwidth": 2,
            "linecolor": "white",
            "showbackground": true,
            "ticks": "",
            "zerolinecolor": "white"
           },
           "zaxis": {
            "backgroundcolor": "#E5ECF6",
            "gridcolor": "white",
            "gridwidth": 2,
            "linecolor": "white",
            "showbackground": true,
            "ticks": "",
            "zerolinecolor": "white"
           }
          },
          "shapedefaults": {
           "line": {
            "color": "#2a3f5f"
           }
          },
          "ternary": {
           "aaxis": {
            "gridcolor": "white",
            "linecolor": "white",
            "ticks": ""
           },
           "baxis": {
            "gridcolor": "white",
            "linecolor": "white",
            "ticks": ""
           },
           "bgcolor": "#E5ECF6",
           "caxis": {
            "gridcolor": "white",
            "linecolor": "white",
            "ticks": ""
           }
          },
          "title": {
           "x": 0.05
          },
          "xaxis": {
           "automargin": true,
           "gridcolor": "white",
           "linecolor": "white",
           "ticks": "",
           "title": {
            "standoff": 15
           },
           "zerolinecolor": "white",
           "zerolinewidth": 2
          },
          "yaxis": {
           "automargin": true,
           "gridcolor": "white",
           "linecolor": "white",
           "ticks": "",
           "title": {
            "standoff": 15
           },
           "zerolinecolor": "white",
           "zerolinewidth": 2
          }
         }
        }
       }
      },
      "text/html": [
       "<div>\n",
       "        \n",
       "        \n",
       "            <div id=\"22476c15-d6e2-48d4-ac95-5b4999b16b73\" class=\"plotly-graph-div\" style=\"height:525px; width:100%;\"></div>\n",
       "            <script type=\"text/javascript\">\n",
       "                require([\"plotly\"], function(Plotly) {\n",
       "                    window.PLOTLYENV=window.PLOTLYENV || {};\n",
       "                    \n",
       "                if (document.getElementById(\"22476c15-d6e2-48d4-ac95-5b4999b16b73\")) {\n",
       "                    Plotly.newPlot(\n",
       "                        '22476c15-d6e2-48d4-ac95-5b4999b16b73',\n",
       "                        [{\"insidetextorientation\": \"radial\", \"labels\": [\"Asia\", \"Europe\", \"Africa\", \"Europe\", \"Africa\", \"North America\", \"South America\", \"Europe\", \"Asia\", \"Oceania\", \"Europe\", \"Europe\", \"Asia\", \"North America\", \"Asia\", \"Asia\", \"North America\", \"Europe\", \"Europe\", \"North America\", \"Africa\", \"Asia\", \"South America\", \"Europe\", \"Africa\", \"South America\", \"Europe\", \"Africa\", \"Africa\", \"Asia\", \"Africa\", \"North America\", \"Africa\", \"Africa\", \"Africa\", \"South America\", \"Asia\", \"South America\", \"Africa\", \"North America\", \"Europe\", \"North America\", \"Europe\", \"Asia\", \"Europe\", \"Africa\", \"Europe\", \"Africa\", \"North America\", \"North America\", \"South America\", \"Africa\", \"North America\", \"Africa\", \"Africa\", \"Europe\", \"Africa\", \"Oceania\", \"Europe\", \"Europe\", \"Africa\", \"Africa\", \"Europe\", \"Asia\", \"Europe\", \"Africa\", \"Europe\", \"North America\", \"North America\", \"Africa\", \"Africa\", \"South America\", \"North America\", \"North America\", \"Europe\", \"Europe\", \"Asia\", \"Asia\", \"Asia\", \"Europe\", \"Asia\", \"Europe\", \"North America\", \"Asia\", \"Asia\", \"Europe\", \"Asia\", \"Africa\", \"Asia\", \"Asia\", \"Europe\", \"Asia\", \"Africa\", \"Africa\", \"Africa\", \"Europe\", \"Europe\", \"Europe\", \"Africa\", \"Africa\", \"Asia\", \"Asia\", \"Africa\", \"Europe\", \"Africa\", \"Africa\", \"North America\", \"Europe\", \"Europe\", \"Asia\", \"Europe\", \"Africa\", \"Africa\", \"Asia\", \"Europe\", \"Oceania\", \"North America\", \"Africa\", \"Africa\", \"Europe\", \"Asia\", \"Asia\", \"North America\", \"Oceania\", \"South America\", \"South America\", \"Asia\", \"Europe\", \"Europe\", \"Asia\", \"Europe\", \"Africa\", \"Africa\", \"North America\", \"North America\", \"Europe\", \"Asia\", \"Africa\", \"Europe\", \"Africa\", \"Africa\", \"Asia\", \"Europe\", \"Europe\", \"Africa\", \"Africa\", \"Europe\", \"Asia\", \"Africa\", \"South America\", \"Africa\", \"Europe\", \"Europe\", \"Asia\", \"Asia\", \"Asia\", \"Africa\", \"North America\", \"Africa\", \"Europe\", \"Asia\", \"Africa\", \"Europe\", \"Asia\", \"Europe\", \"North America\", \"South America\", \"Asia\", \"Africa\", \"Asia\", \"Africa\", \"Africa\"], \"pull\": [0.1, 0, 0, 0, 0, 0], \"textinfo\": \"percent+label\", \"type\": \"pie\", \"values\": [17, 157, 160, 0, 142, 0, 14001, 491, 491, 13, 873, 80, 80, 0, 510, 1508, 3, 388, 2607, 0, 0, 0, 405, 280, 0, 36157, 0, 32, 2, 1, 0, 1823, 102, 0, 3, 1759, 22, 5660, 5, 1068, 234, 73, 17, 17, 5336, 31, 403, 1, 1, 519, 1537, 119, 98, 15, 6, 79, 730, 0, 111, 12955, 0, 5, 448, 448, 2626, 30, 411, 0, 663, 0, 0, 35, 15, 698, 848, 41, 0, 4174, 4493, 442, 7996, 2548, 73, 653, 1276, 65, 65, 184, 494, 172, 44, 1248, 44, 0, 683, 1, 91, 86, 46, 6, 260, 63, 13, 37, 3, 0, 5099, 1022, 1, 0, 215, 2391, 160, 1911, 3252, 0, 0, 0, 153, 122, 0, 625, 747, 5, 1041, 3061, 2385, 1967, 854, 199, 2086, 3, 0, 0, 0, 0, 492, 37, 111, 0, 7, 19, 797, 175, 5, 1745, 9419, 2, 13, 14, 18, 752, 550, 42, 6, 0, 25, 39, 0, 1407, 1407, 158, 4179, 1158, 6929, 43752, 15, 473, 0, 5, 43, 12]}],\n",
       "                        {\"template\": {\"data\": {\"bar\": [{\"error_x\": {\"color\": \"#2a3f5f\"}, \"error_y\": {\"color\": \"#2a3f5f\"}, \"marker\": {\"line\": {\"color\": \"#E5ECF6\", \"width\": 0.5}}, \"type\": \"bar\"}], \"barpolar\": [{\"marker\": {\"line\": {\"color\": \"#E5ECF6\", \"width\": 0.5}}, \"type\": \"barpolar\"}], \"carpet\": [{\"aaxis\": {\"endlinecolor\": \"#2a3f5f\", \"gridcolor\": \"white\", \"linecolor\": \"white\", \"minorgridcolor\": \"white\", \"startlinecolor\": \"#2a3f5f\"}, \"baxis\": {\"endlinecolor\": \"#2a3f5f\", \"gridcolor\": \"white\", \"linecolor\": \"white\", \"minorgridcolor\": \"white\", \"startlinecolor\": \"#2a3f5f\"}, \"type\": \"carpet\"}], \"choropleth\": [{\"colorbar\": {\"outlinewidth\": 0, \"ticks\": \"\"}, \"type\": \"choropleth\"}], \"contour\": [{\"colorbar\": {\"outlinewidth\": 0, \"ticks\": \"\"}, \"colorscale\": [[0.0, \"#0d0887\"], [0.1111111111111111, \"#46039f\"], [0.2222222222222222, \"#7201a8\"], [0.3333333333333333, \"#9c179e\"], [0.4444444444444444, \"#bd3786\"], [0.5555555555555556, \"#d8576b\"], [0.6666666666666666, \"#ed7953\"], [0.7777777777777778, \"#fb9f3a\"], [0.8888888888888888, \"#fdca26\"], [1.0, \"#f0f921\"]], \"type\": \"contour\"}], \"contourcarpet\": [{\"colorbar\": {\"outlinewidth\": 0, \"ticks\": \"\"}, \"type\": \"contourcarpet\"}], \"heatmap\": [{\"colorbar\": {\"outlinewidth\": 0, \"ticks\": \"\"}, \"colorscale\": [[0.0, \"#0d0887\"], [0.1111111111111111, \"#46039f\"], [0.2222222222222222, \"#7201a8\"], [0.3333333333333333, \"#9c179e\"], [0.4444444444444444, \"#bd3786\"], [0.5555555555555556, \"#d8576b\"], [0.6666666666666666, \"#ed7953\"], [0.7777777777777778, \"#fb9f3a\"], [0.8888888888888888, \"#fdca26\"], [1.0, \"#f0f921\"]], \"type\": \"heatmap\"}], \"heatmapgl\": [{\"colorbar\": {\"outlinewidth\": 0, \"ticks\": \"\"}, \"colorscale\": [[0.0, \"#0d0887\"], [0.1111111111111111, \"#46039f\"], [0.2222222222222222, \"#7201a8\"], [0.3333333333333333, \"#9c179e\"], [0.4444444444444444, \"#bd3786\"], [0.5555555555555556, \"#d8576b\"], [0.6666666666666666, \"#ed7953\"], [0.7777777777777778, \"#fb9f3a\"], [0.8888888888888888, \"#fdca26\"], [1.0, \"#f0f921\"]], \"type\": \"heatmapgl\"}], \"histogram\": [{\"marker\": {\"colorbar\": {\"outlinewidth\": 0, \"ticks\": \"\"}}, \"type\": \"histogram\"}], \"histogram2d\": [{\"colorbar\": {\"outlinewidth\": 0, \"ticks\": \"\"}, \"colorscale\": [[0.0, \"#0d0887\"], [0.1111111111111111, \"#46039f\"], [0.2222222222222222, \"#7201a8\"], [0.3333333333333333, \"#9c179e\"], [0.4444444444444444, \"#bd3786\"], [0.5555555555555556, \"#d8576b\"], [0.6666666666666666, \"#ed7953\"], [0.7777777777777778, \"#fb9f3a\"], [0.8888888888888888, \"#fdca26\"], [1.0, \"#f0f921\"]], \"type\": \"histogram2d\"}], \"histogram2dcontour\": [{\"colorbar\": {\"outlinewidth\": 0, \"ticks\": \"\"}, \"colorscale\": [[0.0, \"#0d0887\"], [0.1111111111111111, \"#46039f\"], [0.2222222222222222, \"#7201a8\"], [0.3333333333333333, \"#9c179e\"], [0.4444444444444444, \"#bd3786\"], [0.5555555555555556, \"#d8576b\"], [0.6666666666666666, \"#ed7953\"], [0.7777777777777778, \"#fb9f3a\"], [0.8888888888888888, \"#fdca26\"], [1.0, \"#f0f921\"]], \"type\": \"histogram2dcontour\"}], \"mesh3d\": [{\"colorbar\": {\"outlinewidth\": 0, \"ticks\": \"\"}, \"type\": \"mesh3d\"}], \"parcoords\": [{\"line\": {\"colorbar\": {\"outlinewidth\": 0, \"ticks\": \"\"}}, \"type\": \"parcoords\"}], \"pie\": [{\"automargin\": true, \"type\": \"pie\"}], \"scatter\": [{\"marker\": {\"colorbar\": {\"outlinewidth\": 0, \"ticks\": \"\"}}, \"type\": \"scatter\"}], \"scatter3d\": [{\"line\": {\"colorbar\": {\"outlinewidth\": 0, \"ticks\": \"\"}}, \"marker\": {\"colorbar\": {\"outlinewidth\": 0, \"ticks\": \"\"}}, \"type\": \"scatter3d\"}], \"scattercarpet\": [{\"marker\": {\"colorbar\": {\"outlinewidth\": 0, \"ticks\": \"\"}}, \"type\": \"scattercarpet\"}], \"scattergeo\": [{\"marker\": {\"colorbar\": {\"outlinewidth\": 0, \"ticks\": \"\"}}, \"type\": \"scattergeo\"}], \"scattergl\": [{\"marker\": {\"colorbar\": {\"outlinewidth\": 0, \"ticks\": \"\"}}, \"type\": \"scattergl\"}], \"scattermapbox\": [{\"marker\": {\"colorbar\": {\"outlinewidth\": 0, \"ticks\": \"\"}}, \"type\": \"scattermapbox\"}], \"scatterpolar\": [{\"marker\": {\"colorbar\": {\"outlinewidth\": 0, \"ticks\": \"\"}}, \"type\": \"scatterpolar\"}], \"scatterpolargl\": [{\"marker\": {\"colorbar\": {\"outlinewidth\": 0, \"ticks\": \"\"}}, \"type\": \"scatterpolargl\"}], \"scatterternary\": [{\"marker\": {\"colorbar\": {\"outlinewidth\": 0, \"ticks\": \"\"}}, \"type\": \"scatterternary\"}], \"surface\": [{\"colorbar\": {\"outlinewidth\": 0, \"ticks\": \"\"}, \"colorscale\": [[0.0, \"#0d0887\"], [0.1111111111111111, \"#46039f\"], [0.2222222222222222, \"#7201a8\"], [0.3333333333333333, \"#9c179e\"], [0.4444444444444444, \"#bd3786\"], [0.5555555555555556, \"#d8576b\"], [0.6666666666666666, \"#ed7953\"], [0.7777777777777778, \"#fb9f3a\"], [0.8888888888888888, \"#fdca26\"], [1.0, \"#f0f921\"]], \"type\": \"surface\"}], \"table\": [{\"cells\": {\"fill\": {\"color\": \"#EBF0F8\"}, \"line\": {\"color\": \"white\"}}, \"header\": {\"fill\": {\"color\": \"#C8D4E3\"}, \"line\": {\"color\": \"white\"}}, \"type\": \"table\"}]}, \"layout\": {\"annotationdefaults\": {\"arrowcolor\": \"#2a3f5f\", \"arrowhead\": 0, \"arrowwidth\": 1}, \"coloraxis\": {\"colorbar\": {\"outlinewidth\": 0, \"ticks\": \"\"}}, \"colorscale\": {\"diverging\": [[0, \"#8e0152\"], [0.1, \"#c51b7d\"], [0.2, \"#de77ae\"], [0.3, \"#f1b6da\"], [0.4, \"#fde0ef\"], [0.5, \"#f7f7f7\"], [0.6, \"#e6f5d0\"], [0.7, \"#b8e186\"], [0.8, \"#7fbc41\"], [0.9, \"#4d9221\"], [1, \"#276419\"]], \"sequential\": [[0.0, \"#0d0887\"], [0.1111111111111111, \"#46039f\"], [0.2222222222222222, \"#7201a8\"], [0.3333333333333333, \"#9c179e\"], [0.4444444444444444, \"#bd3786\"], [0.5555555555555556, \"#d8576b\"], [0.6666666666666666, \"#ed7953\"], [0.7777777777777778, \"#fb9f3a\"], [0.8888888888888888, \"#fdca26\"], [1.0, \"#f0f921\"]], \"sequentialminus\": [[0.0, \"#0d0887\"], [0.1111111111111111, \"#46039f\"], [0.2222222222222222, \"#7201a8\"], [0.3333333333333333, \"#9c179e\"], [0.4444444444444444, \"#bd3786\"], [0.5555555555555556, \"#d8576b\"], [0.6666666666666666, \"#ed7953\"], [0.7777777777777778, \"#fb9f3a\"], [0.8888888888888888, \"#fdca26\"], [1.0, \"#f0f921\"]]}, \"colorway\": [\"#636efa\", \"#EF553B\", \"#00cc96\", \"#ab63fa\", \"#FFA15A\", \"#19d3f3\", \"#FF6692\", \"#B6E880\", \"#FF97FF\", \"#FECB52\"], \"font\": {\"color\": \"#2a3f5f\"}, \"geo\": {\"bgcolor\": \"white\", \"lakecolor\": \"white\", \"landcolor\": \"#E5ECF6\", \"showlakes\": true, \"showland\": true, \"subunitcolor\": \"white\"}, \"hoverlabel\": {\"align\": \"left\"}, \"hovermode\": \"closest\", \"mapbox\": {\"style\": \"light\"}, \"paper_bgcolor\": \"white\", \"plot_bgcolor\": \"#E5ECF6\", \"polar\": {\"angularaxis\": {\"gridcolor\": \"white\", \"linecolor\": \"white\", \"ticks\": \"\"}, \"bgcolor\": \"#E5ECF6\", \"radialaxis\": {\"gridcolor\": \"white\", \"linecolor\": \"white\", \"ticks\": \"\"}}, \"scene\": {\"xaxis\": {\"backgroundcolor\": \"#E5ECF6\", \"gridcolor\": \"white\", \"gridwidth\": 2, \"linecolor\": \"white\", \"showbackground\": true, \"ticks\": \"\", \"zerolinecolor\": \"white\"}, \"yaxis\": {\"backgroundcolor\": \"#E5ECF6\", \"gridcolor\": \"white\", \"gridwidth\": 2, \"linecolor\": \"white\", \"showbackground\": true, \"ticks\": \"\", \"zerolinecolor\": \"white\"}, \"zaxis\": {\"backgroundcolor\": \"#E5ECF6\", \"gridcolor\": \"white\", \"gridwidth\": 2, \"linecolor\": \"white\", \"showbackground\": true, \"ticks\": \"\", \"zerolinecolor\": \"white\"}}, \"shapedefaults\": {\"line\": {\"color\": \"#2a3f5f\"}}, \"ternary\": {\"aaxis\": {\"gridcolor\": \"white\", \"linecolor\": \"white\", \"ticks\": \"\"}, \"baxis\": {\"gridcolor\": \"white\", \"linecolor\": \"white\", \"ticks\": \"\"}, \"bgcolor\": \"#E5ECF6\", \"caxis\": {\"gridcolor\": \"white\", \"linecolor\": \"white\", \"ticks\": \"\"}}, \"title\": {\"x\": 0.05}, \"xaxis\": {\"automargin\": true, \"gridcolor\": \"white\", \"linecolor\": \"white\", \"ticks\": \"\", \"title\": {\"standoff\": 15}, \"zerolinecolor\": \"white\", \"zerolinewidth\": 2}, \"yaxis\": {\"automargin\": true, \"gridcolor\": \"white\", \"linecolor\": \"white\", \"ticks\": \"\", \"title\": {\"standoff\": 15}, \"zerolinecolor\": \"white\", \"zerolinewidth\": 2}}}},\n",
       "                        {\"responsive\": true}\n",
       "                    ).then(function(){\n",
       "                            \n",
       "var gd = document.getElementById('22476c15-d6e2-48d4-ac95-5b4999b16b73');\n",
       "var x = new MutationObserver(function (mutations, observer) {{\n",
       "        var display = window.getComputedStyle(gd).display;\n",
       "        if (!display || display === 'none') {{\n",
       "            console.log([gd, 'removed!']);\n",
       "            Plotly.purge(gd);\n",
       "            observer.disconnect();\n",
       "        }}\n",
       "}});\n",
       "\n",
       "// Listen for the removal of the full notebook cells\n",
       "var notebookContainer = gd.closest('#notebook-container');\n",
       "if (notebookContainer) {{\n",
       "    x.observe(notebookContainer, {childList: true});\n",
       "}}\n",
       "\n",
       "// Listen for the clearing of the current output cell\n",
       "var outputEl = gd.closest('.output');\n",
       "if (outputEl) {{\n",
       "    x.observe(outputEl, {childList: true});\n",
       "}}\n",
       "\n",
       "                        })\n",
       "                };\n",
       "                });\n",
       "            </script>\n",
       "        </div>"
      ]
     },
     "metadata": {},
     "output_type": "display_data"
    },
    {
     "data": {
      "text/plain": [
       "'https://plotly.com/~asepsaputra/44/'"
      ]
     },
     "execution_count": 77,
     "metadata": {},
     "output_type": "execute_result"
    }
   ],
   "source": [
    "# fig2 = px.pie(covid_fix, values='TotalConfirmed', names='Continent',\n",
    "#                hover_data=['TotalConfirmed', 'NewConfirmed', 'TotalRecovered', 'NewRecovered', 'TotalDeaths', 'NewDeaths'],\n",
    "#                labels={'TotalConfirmed':'Total teronfirmasi'})\n",
    "# fig2.update_traces(textinfo='percent+label')\n",
    "\n",
    "# fig2.show()\n",
    "fig2 = go.Figure(data=[go.Pie(labels=covid_fix['Continent'], values=covid_fix['NewConfirmed'],\n",
    "                               insidetextorientation='radial',\n",
    "                               pull=[0.1, 0, 0, 0, 0, 0])])\n",
    "fig2.update_traces(textinfo='percent+label')\n",
    "\n",
    "fig2.show()"
   ]
  },
  {
   "cell_type": "markdown",
   "metadata": {},
   "source": [
    "### Donut Chart"
   ]
  },
  {
   "cell_type": "code",
   "execution_count": 91,
   "metadata": {},
   "outputs": [
    {
     "data": {
      "application/vnd.plotly.v1+json": {
       "config": {
        "plotlyServerURL": "https://plotly.com"
       },
       "data": [
        {
         "domain": {
          "x": [
           0,
           0.2888888888888889
          ],
          "y": [
           0,
           1
          ]
         },
         "hole": 0.4,
         "hoverinfo": "label+percent+name",
         "labels": [
          "Asia",
          "Europe",
          "Africa",
          "Europe",
          "Africa",
          "North America",
          "South America",
          "Europe",
          "Asia",
          "Oceania",
          "Europe",
          "Europe",
          "Asia",
          "North America",
          "Asia",
          "Asia",
          "North America",
          "Europe",
          "Europe",
          "North America",
          "Africa",
          "Asia",
          "South America",
          "Europe",
          "Africa",
          "South America",
          "Europe",
          "Africa",
          "Africa",
          "Asia",
          "Africa",
          "North America",
          "Africa",
          "Africa",
          "Africa",
          "South America",
          "Asia",
          "South America",
          "Africa",
          "North America",
          "Europe",
          "North America",
          "Europe",
          "Asia",
          "Europe",
          "Africa",
          "Europe",
          "Africa",
          "North America",
          "North America",
          "South America",
          "Africa",
          "North America",
          "Africa",
          "Africa",
          "Europe",
          "Africa",
          "Oceania",
          "Europe",
          "Europe",
          "Africa",
          "Africa",
          "Europe",
          "Asia",
          "Europe",
          "Africa",
          "Europe",
          "North America",
          "North America",
          "Africa",
          "Africa",
          "South America",
          "North America",
          "North America",
          "Europe",
          "Europe",
          "Asia",
          "Asia",
          "Asia",
          "Europe",
          "Asia",
          "Europe",
          "North America",
          "Asia",
          "Asia",
          "Europe",
          "Asia",
          "Africa",
          "Asia",
          "Asia",
          "Europe",
          "Asia",
          "Africa",
          "Africa",
          "Africa",
          "Europe",
          "Europe",
          "Europe",
          "Africa",
          "Africa",
          "Asia",
          "Asia",
          "Africa",
          "Europe",
          "Africa",
          "Africa",
          "North America",
          "Europe",
          "Europe",
          "Asia",
          "Europe",
          "Africa",
          "Africa",
          "Asia",
          "Europe",
          "Oceania",
          "North America",
          "Africa",
          "Africa",
          "Europe",
          "Asia",
          "Asia",
          "North America",
          "Oceania",
          "South America",
          "South America",
          "Asia",
          "Europe",
          "Europe",
          "Asia",
          "Europe",
          "Africa",
          "Africa",
          "North America",
          "North America",
          "Europe",
          "Asia",
          "Africa",
          "Europe",
          "Africa",
          "Africa",
          "Asia",
          "Europe",
          "Europe",
          "Africa",
          "Africa",
          "Europe",
          "Asia",
          "Africa",
          "South America",
          "Africa",
          "Europe",
          "Europe",
          "Asia",
          "Asia",
          "Asia",
          "Africa",
          "North America",
          "Africa",
          "Europe",
          "Asia",
          "Africa",
          "Europe",
          "Asia",
          "Europe",
          "North America",
          "South America",
          "Asia",
          "Africa",
          "Asia",
          "Africa",
          "Africa"
         ],
         "name": "Terkonfirmasi",
         "type": "pie",
         "values": [
          39285,
          13806,
          51690,
          2050,
          5114,
          101,
          765002,
          50850,
          50850,
          27109,
          45686,
          40309,
          40309,
          4123,
          71374,
          364987,
          193,
          79019,
          121059,
          1992,
          2357,
          282,
          135716,
          27749,
          3172,
          4847092,
          20833,
          2088,
          510,
          278,
          20838,
          162917,
          6126,
          4829,
          1203,
          464750,
          90567,
          835339,
          484,
          76828,
          16827,
          5670,
          1772,
          1772,
          74255,
          19755,
          28882,
          5417,
          31,
          112728,
          138584,
          103317,
          29175,
          5045,
          381,
          3450,
          76098,
          32,
          10103,
          616986,
          8766,
          3584,
          6640,
          6640,
          295539,
          46656,
          18886,
          24,
          92409,
          10652,
          2324,
          2929,
          8781,
          77598,
          27309,
          2769,
          6312584,
          291182,
          367474,
          36597,
          253490,
          317409,
          6555,
          84244,
          13101,
          108044,
          108044,
          38713,
          105676,
          46841,
          1868,
          40882,
          1639,
          1343,
          35208,
          119,
          4784,
          8595,
          16454,
          5779,
          11484,
          10354,
          3131,
          3095,
          7505,
          381,
          748315,
          54064,
          219,
          313,
          10987,
          126044,
          8888,
          79728,
          124097,
          1848,
          5170,
          1197,
          59001,
          14149,
          98585,
          313431,
          113342,
          539,
          41799,
          814829,
          314079,
          93481,
          76396,
          125959,
          129658,
          4843,
          0,
          19,
          27,
          732,
          335097,
          15019,
          33662,
          144,
          2238,
          57784,
          10938,
          5865,
          3593,
          676084,
          778607,
          3382,
          13653,
          4891,
          5500,
          93615,
          53832,
          9811,
          3575,
          28,
          1809,
          4570,
          18413,
          320070,
          320070,
          8287,
          218625,
          95348,
          462775,
          7277759,
          2061,
          57190,
          10,
          2039,
          14802,
          7850
         ]
        },
        {
         "domain": {
          "x": [
           0.35555555555555557,
           0.6444444444444445
          ],
          "y": [
           0,
           1
          ]
         },
         "hole": 0.4,
         "hoverinfo": "label+percent+name",
         "labels": [
          "Asia",
          "Europe",
          "Africa",
          "Europe",
          "Africa",
          "North America",
          "South America",
          "Europe",
          "Asia",
          "Oceania",
          "Europe",
          "Europe",
          "Asia",
          "North America",
          "Asia",
          "Asia",
          "North America",
          "Europe",
          "Europe",
          "North America",
          "Africa",
          "Asia",
          "South America",
          "Europe",
          "Africa",
          "South America",
          "Europe",
          "Africa",
          "Africa",
          "Asia",
          "Africa",
          "North America",
          "Africa",
          "Africa",
          "Africa",
          "South America",
          "Asia",
          "South America",
          "Africa",
          "North America",
          "Europe",
          "North America",
          "Europe",
          "Asia",
          "Europe",
          "Africa",
          "Europe",
          "Africa",
          "North America",
          "North America",
          "South America",
          "Africa",
          "North America",
          "Africa",
          "Africa",
          "Europe",
          "Africa",
          "Oceania",
          "Europe",
          "Europe",
          "Africa",
          "Africa",
          "Europe",
          "Asia",
          "Europe",
          "Africa",
          "Europe",
          "North America",
          "North America",
          "Africa",
          "Africa",
          "South America",
          "North America",
          "North America",
          "Europe",
          "Europe",
          "Asia",
          "Asia",
          "Asia",
          "Europe",
          "Asia",
          "Europe",
          "North America",
          "Asia",
          "Asia",
          "Europe",
          "Asia",
          "Africa",
          "Asia",
          "Asia",
          "Europe",
          "Asia",
          "Africa",
          "Africa",
          "Africa",
          "Europe",
          "Europe",
          "Europe",
          "Africa",
          "Africa",
          "Asia",
          "Asia",
          "Africa",
          "Europe",
          "Africa",
          "Africa",
          "North America",
          "Europe",
          "Europe",
          "Asia",
          "Europe",
          "Africa",
          "Africa",
          "Asia",
          "Europe",
          "Oceania",
          "North America",
          "Africa",
          "Africa",
          "Europe",
          "Asia",
          "Asia",
          "North America",
          "Oceania",
          "South America",
          "South America",
          "Asia",
          "Europe",
          "Europe",
          "Asia",
          "Europe",
          "Africa",
          "Africa",
          "North America",
          "North America",
          "Europe",
          "Asia",
          "Africa",
          "Europe",
          "Africa",
          "Africa",
          "Asia",
          "Europe",
          "Europe",
          "Africa",
          "Africa",
          "Europe",
          "Asia",
          "Africa",
          "South America",
          "Africa",
          "Europe",
          "Europe",
          "Asia",
          "Asia",
          "Asia",
          "Africa",
          "North America",
          "Africa",
          "Europe",
          "Asia",
          "Africa",
          "Europe",
          "Asia",
          "Europe",
          "North America",
          "South America",
          "Asia",
          "Africa",
          "Asia",
          "Africa",
          "Africa"
         ],
         "name": "Sembuh",
         "type": "pie",
         "values": [
          32842,
          8077,
          36282,
          1432,
          2082,
          92,
          603140,
          44219,
          44219,
          24786,
          36476,
          38068,
          38068,
          2206,
          65550,
          277078,
          179,
          74777,
          19521,
          1246,
          1973,
          225,
          96165,
          20947,
          710,
          4299659,
          14634,
          1363,
          472,
          275,
          19440,
          138548,
          5338,
          1914,
          1067,
          438148,
          85479,
          751691,
          466,
          39843,
          15218,
          4922,
          1369,
          1369,
          34186,
          19320,
          21752,
          5346,
          24,
          88205,
          112296,
          96855,
          23930,
          4879,
          353,
          2643,
          31430,
          28,
          8100,
          99154,
          8005,
          2216,
          3419,
          3419,
          258220,
          45942,
          1347,
          24,
          80800,
          9996,
          1549,
          1760,
          6907,
          28517,
          6118,
          2177,
          5273201,
          218487,
          295882,
          23364,
          179468,
          228844,
          1991,
          76081,
          4752,
          103028,
          103028,
          24908,
          97197,
          42983,
          1307,
          18103,
          874,
          1221,
          19894,
          114,
          2424,
          7280,
          15430,
          4514,
          10014,
          9187,
          2460,
          2605,
          7138,
          344,
          629630,
          39499,
          187,
          307,
          7397,
          104136,
          5573,
          57389,
          0,
          1780,
          2913,
          1114,
          50452,
          11190,
          88528,
          298055,
          89903,
          519,
          25167,
          690528,
          254223,
          70401,
          48937,
          122911,
          103994,
          3181,
          0,
          17,
          27,
          680,
          319746,
          12538,
          0,
          143,
          1695,
          57512,
          4620,
          3906,
          3001,
          609584,
          150376,
          3233,
          6764,
          4702,
          5000,
          0,
          45300,
          8617,
          3384,
          28,
          1353,
          2629,
          5032,
          281151,
          281151,
          4430,
          97956,
          84903,
          2383,
          2860650,
          1809,
          53835,
          8,
          1297,
          13961,
          6312
         ]
        },
        {
         "domain": {
          "x": [
           0.7111111111111111,
           1
          ],
          "y": [
           0,
           1
          ]
         },
         "hole": 0.4,
         "hoverinfo": "label+percent+name",
         "labels": [
          "Asia",
          "Europe",
          "Africa",
          "Europe",
          "Africa",
          "North America",
          "South America",
          "Europe",
          "Asia",
          "Oceania",
          "Europe",
          "Europe",
          "Asia",
          "North America",
          "Asia",
          "Asia",
          "North America",
          "Europe",
          "Europe",
          "North America",
          "Africa",
          "Asia",
          "South America",
          "Europe",
          "Africa",
          "South America",
          "Europe",
          "Africa",
          "Africa",
          "Asia",
          "Africa",
          "North America",
          "Africa",
          "Africa",
          "Africa",
          "South America",
          "Asia",
          "South America",
          "Africa",
          "North America",
          "Europe",
          "North America",
          "Europe",
          "Asia",
          "Europe",
          "Africa",
          "Europe",
          "Africa",
          "North America",
          "North America",
          "South America",
          "Africa",
          "North America",
          "Africa",
          "Africa",
          "Europe",
          "Africa",
          "Oceania",
          "Europe",
          "Europe",
          "Africa",
          "Africa",
          "Europe",
          "Asia",
          "Europe",
          "Africa",
          "Europe",
          "North America",
          "North America",
          "Africa",
          "Africa",
          "South America",
          "North America",
          "North America",
          "Europe",
          "Europe",
          "Asia",
          "Asia",
          "Asia",
          "Europe",
          "Asia",
          "Europe",
          "North America",
          "Asia",
          "Asia",
          "Europe",
          "Asia",
          "Africa",
          "Asia",
          "Asia",
          "Europe",
          "Asia",
          "Africa",
          "Africa",
          "Africa",
          "Europe",
          "Europe",
          "Europe",
          "Africa",
          "Africa",
          "Asia",
          "Asia",
          "Africa",
          "Europe",
          "Africa",
          "Africa",
          "North America",
          "Europe",
          "Europe",
          "Asia",
          "Europe",
          "Africa",
          "Africa",
          "Asia",
          "Europe",
          "Oceania",
          "North America",
          "Africa",
          "Africa",
          "Europe",
          "Asia",
          "Asia",
          "North America",
          "Oceania",
          "South America",
          "South America",
          "Asia",
          "Europe",
          "Europe",
          "Asia",
          "Europe",
          "Africa",
          "Africa",
          "North America",
          "North America",
          "Europe",
          "Asia",
          "Africa",
          "Europe",
          "Africa",
          "Africa",
          "Asia",
          "Europe",
          "Europe",
          "Africa",
          "Africa",
          "Europe",
          "Asia",
          "Africa",
          "South America",
          "Africa",
          "Europe",
          "Europe",
          "Asia",
          "Asia",
          "Asia",
          "Africa",
          "North America",
          "Africa",
          "Europe",
          "Asia",
          "Africa",
          "Europe",
          "Asia",
          "Europe",
          "North America",
          "South America",
          "Asia",
          "Africa",
          "Asia",
          "Africa",
          "Africa"
         ],
         "name": "Meninggal",
         "type": "pie",
         "values": [
          1458,
          388,
          1741,
          53,
          185,
          3,
          20288,
          963,
          963,
          890,
          802,
          593,
          593,
          96,
          254,
          5272,
          7,
          839,
          10023,
          27,
          41,
          0,
          8001,
          861,
          16,
          144680,
          825,
          58,
          1,
          0,
          418,
          9367,
          61,
          62,
          85,
          12822,
          4739,
          26196,
          7,
          917,
          284,
          122,
          22,
          22,
          678,
          120,
          651,
          61,
          0,
          2108,
          11433,
          5946,
          848,
          83,
          0,
          65,
          1205,
          2,
          344,
          32034,
          54,
          113,
          41,
          41,
          9509,
          301,
          393,
          0,
          3261,
          66,
          39,
          82,
          229,
          2380,
          781,
          10,
          98678,
          10856,
          9231,
          1806,
          1622,
          35918,
          111,
          1580,
          69,
          1725,
          1725,
          711,
          612,
          1065,
          37,
          374,
          38,
          82,
          559,
          1,
          92,
          125,
          232,
          179,
          136,
          34,
          131,
          35,
          161,
          10,
          78078,
          1336,
          2,
          0,
          170,
          2229,
          62,
          509,
          6419,
          25,
          151,
          69,
          1112,
          274,
          935,
          6499,
          2387,
          7,
          869,
          32463,
          5562,
          2543,
          1977,
          214,
          4862,
          29,
          0,
          0,
          0,
          42,
          4794,
          311,
          750,
          0,
          72,
          27,
          48,
          152,
          99,
          16866,
          31973,
          13,
          836,
          105,
          111,
          5893,
          2074,
          77,
          59,
          0,
          48,
          76,
          265,
          8262,
          8262,
          75,
          4288,
          421,
          42292,
          207789,
          48,
          471,
          1,
          587,
          333,
          228
         ]
        }
       ],
       "layout": {
        "annotations": [
         {
          "font": {
           "size": 8
          },
          "showarrow": false,
          "text": "Terkonfirmasi",
          "x": 0.105,
          "y": 0.5
         },
         {
          "font": {
           "size": 8
          },
          "showarrow": false,
          "text": "Sembuh",
          "x": 0.5,
          "y": 0.5
         },
         {
          "font": {
           "size": 8
          },
          "showarrow": false,
          "text": "Meninggal",
          "x": 0.89,
          "y": 0.5
         }
        ],
        "template": {
         "data": {
          "bar": [
           {
            "error_x": {
             "color": "#2a3f5f"
            },
            "error_y": {
             "color": "#2a3f5f"
            },
            "marker": {
             "line": {
              "color": "#E5ECF6",
              "width": 0.5
             }
            },
            "type": "bar"
           }
          ],
          "barpolar": [
           {
            "marker": {
             "line": {
              "color": "#E5ECF6",
              "width": 0.5
             }
            },
            "type": "barpolar"
           }
          ],
          "carpet": [
           {
            "aaxis": {
             "endlinecolor": "#2a3f5f",
             "gridcolor": "white",
             "linecolor": "white",
             "minorgridcolor": "white",
             "startlinecolor": "#2a3f5f"
            },
            "baxis": {
             "endlinecolor": "#2a3f5f",
             "gridcolor": "white",
             "linecolor": "white",
             "minorgridcolor": "white",
             "startlinecolor": "#2a3f5f"
            },
            "type": "carpet"
           }
          ],
          "choropleth": [
           {
            "colorbar": {
             "outlinewidth": 0,
             "ticks": ""
            },
            "type": "choropleth"
           }
          ],
          "contour": [
           {
            "colorbar": {
             "outlinewidth": 0,
             "ticks": ""
            },
            "colorscale": [
             [
              0,
              "#0d0887"
             ],
             [
              0.1111111111111111,
              "#46039f"
             ],
             [
              0.2222222222222222,
              "#7201a8"
             ],
             [
              0.3333333333333333,
              "#9c179e"
             ],
             [
              0.4444444444444444,
              "#bd3786"
             ],
             [
              0.5555555555555556,
              "#d8576b"
             ],
             [
              0.6666666666666666,
              "#ed7953"
             ],
             [
              0.7777777777777778,
              "#fb9f3a"
             ],
             [
              0.8888888888888888,
              "#fdca26"
             ],
             [
              1,
              "#f0f921"
             ]
            ],
            "type": "contour"
           }
          ],
          "contourcarpet": [
           {
            "colorbar": {
             "outlinewidth": 0,
             "ticks": ""
            },
            "type": "contourcarpet"
           }
          ],
          "heatmap": [
           {
            "colorbar": {
             "outlinewidth": 0,
             "ticks": ""
            },
            "colorscale": [
             [
              0,
              "#0d0887"
             ],
             [
              0.1111111111111111,
              "#46039f"
             ],
             [
              0.2222222222222222,
              "#7201a8"
             ],
             [
              0.3333333333333333,
              "#9c179e"
             ],
             [
              0.4444444444444444,
              "#bd3786"
             ],
             [
              0.5555555555555556,
              "#d8576b"
             ],
             [
              0.6666666666666666,
              "#ed7953"
             ],
             [
              0.7777777777777778,
              "#fb9f3a"
             ],
             [
              0.8888888888888888,
              "#fdca26"
             ],
             [
              1,
              "#f0f921"
             ]
            ],
            "type": "heatmap"
           }
          ],
          "heatmapgl": [
           {
            "colorbar": {
             "outlinewidth": 0,
             "ticks": ""
            },
            "colorscale": [
             [
              0,
              "#0d0887"
             ],
             [
              0.1111111111111111,
              "#46039f"
             ],
             [
              0.2222222222222222,
              "#7201a8"
             ],
             [
              0.3333333333333333,
              "#9c179e"
             ],
             [
              0.4444444444444444,
              "#bd3786"
             ],
             [
              0.5555555555555556,
              "#d8576b"
             ],
             [
              0.6666666666666666,
              "#ed7953"
             ],
             [
              0.7777777777777778,
              "#fb9f3a"
             ],
             [
              0.8888888888888888,
              "#fdca26"
             ],
             [
              1,
              "#f0f921"
             ]
            ],
            "type": "heatmapgl"
           }
          ],
          "histogram": [
           {
            "marker": {
             "colorbar": {
              "outlinewidth": 0,
              "ticks": ""
             }
            },
            "type": "histogram"
           }
          ],
          "histogram2d": [
           {
            "colorbar": {
             "outlinewidth": 0,
             "ticks": ""
            },
            "colorscale": [
             [
              0,
              "#0d0887"
             ],
             [
              0.1111111111111111,
              "#46039f"
             ],
             [
              0.2222222222222222,
              "#7201a8"
             ],
             [
              0.3333333333333333,
              "#9c179e"
             ],
             [
              0.4444444444444444,
              "#bd3786"
             ],
             [
              0.5555555555555556,
              "#d8576b"
             ],
             [
              0.6666666666666666,
              "#ed7953"
             ],
             [
              0.7777777777777778,
              "#fb9f3a"
             ],
             [
              0.8888888888888888,
              "#fdca26"
             ],
             [
              1,
              "#f0f921"
             ]
            ],
            "type": "histogram2d"
           }
          ],
          "histogram2dcontour": [
           {
            "colorbar": {
             "outlinewidth": 0,
             "ticks": ""
            },
            "colorscale": [
             [
              0,
              "#0d0887"
             ],
             [
              0.1111111111111111,
              "#46039f"
             ],
             [
              0.2222222222222222,
              "#7201a8"
             ],
             [
              0.3333333333333333,
              "#9c179e"
             ],
             [
              0.4444444444444444,
              "#bd3786"
             ],
             [
              0.5555555555555556,
              "#d8576b"
             ],
             [
              0.6666666666666666,
              "#ed7953"
             ],
             [
              0.7777777777777778,
              "#fb9f3a"
             ],
             [
              0.8888888888888888,
              "#fdca26"
             ],
             [
              1,
              "#f0f921"
             ]
            ],
            "type": "histogram2dcontour"
           }
          ],
          "mesh3d": [
           {
            "colorbar": {
             "outlinewidth": 0,
             "ticks": ""
            },
            "type": "mesh3d"
           }
          ],
          "parcoords": [
           {
            "line": {
             "colorbar": {
              "outlinewidth": 0,
              "ticks": ""
             }
            },
            "type": "parcoords"
           }
          ],
          "pie": [
           {
            "automargin": true,
            "type": "pie"
           }
          ],
          "scatter": [
           {
            "marker": {
             "colorbar": {
              "outlinewidth": 0,
              "ticks": ""
             }
            },
            "type": "scatter"
           }
          ],
          "scatter3d": [
           {
            "line": {
             "colorbar": {
              "outlinewidth": 0,
              "ticks": ""
             }
            },
            "marker": {
             "colorbar": {
              "outlinewidth": 0,
              "ticks": ""
             }
            },
            "type": "scatter3d"
           }
          ],
          "scattercarpet": [
           {
            "marker": {
             "colorbar": {
              "outlinewidth": 0,
              "ticks": ""
             }
            },
            "type": "scattercarpet"
           }
          ],
          "scattergeo": [
           {
            "marker": {
             "colorbar": {
              "outlinewidth": 0,
              "ticks": ""
             }
            },
            "type": "scattergeo"
           }
          ],
          "scattergl": [
           {
            "marker": {
             "colorbar": {
              "outlinewidth": 0,
              "ticks": ""
             }
            },
            "type": "scattergl"
           }
          ],
          "scattermapbox": [
           {
            "marker": {
             "colorbar": {
              "outlinewidth": 0,
              "ticks": ""
             }
            },
            "type": "scattermapbox"
           }
          ],
          "scatterpolar": [
           {
            "marker": {
             "colorbar": {
              "outlinewidth": 0,
              "ticks": ""
             }
            },
            "type": "scatterpolar"
           }
          ],
          "scatterpolargl": [
           {
            "marker": {
             "colorbar": {
              "outlinewidth": 0,
              "ticks": ""
             }
            },
            "type": "scatterpolargl"
           }
          ],
          "scatterternary": [
           {
            "marker": {
             "colorbar": {
              "outlinewidth": 0,
              "ticks": ""
             }
            },
            "type": "scatterternary"
           }
          ],
          "surface": [
           {
            "colorbar": {
             "outlinewidth": 0,
             "ticks": ""
            },
            "colorscale": [
             [
              0,
              "#0d0887"
             ],
             [
              0.1111111111111111,
              "#46039f"
             ],
             [
              0.2222222222222222,
              "#7201a8"
             ],
             [
              0.3333333333333333,
              "#9c179e"
             ],
             [
              0.4444444444444444,
              "#bd3786"
             ],
             [
              0.5555555555555556,
              "#d8576b"
             ],
             [
              0.6666666666666666,
              "#ed7953"
             ],
             [
              0.7777777777777778,
              "#fb9f3a"
             ],
             [
              0.8888888888888888,
              "#fdca26"
             ],
             [
              1,
              "#f0f921"
             ]
            ],
            "type": "surface"
           }
          ],
          "table": [
           {
            "cells": {
             "fill": {
              "color": "#EBF0F8"
             },
             "line": {
              "color": "white"
             }
            },
            "header": {
             "fill": {
              "color": "#C8D4E3"
             },
             "line": {
              "color": "white"
             }
            },
            "type": "table"
           }
          ]
         },
         "layout": {
          "annotationdefaults": {
           "arrowcolor": "#2a3f5f",
           "arrowhead": 0,
           "arrowwidth": 1
          },
          "coloraxis": {
           "colorbar": {
            "outlinewidth": 0,
            "ticks": ""
           }
          },
          "colorscale": {
           "diverging": [
            [
             0,
             "#8e0152"
            ],
            [
             0.1,
             "#c51b7d"
            ],
            [
             0.2,
             "#de77ae"
            ],
            [
             0.3,
             "#f1b6da"
            ],
            [
             0.4,
             "#fde0ef"
            ],
            [
             0.5,
             "#f7f7f7"
            ],
            [
             0.6,
             "#e6f5d0"
            ],
            [
             0.7,
             "#b8e186"
            ],
            [
             0.8,
             "#7fbc41"
            ],
            [
             0.9,
             "#4d9221"
            ],
            [
             1,
             "#276419"
            ]
           ],
           "sequential": [
            [
             0,
             "#0d0887"
            ],
            [
             0.1111111111111111,
             "#46039f"
            ],
            [
             0.2222222222222222,
             "#7201a8"
            ],
            [
             0.3333333333333333,
             "#9c179e"
            ],
            [
             0.4444444444444444,
             "#bd3786"
            ],
            [
             0.5555555555555556,
             "#d8576b"
            ],
            [
             0.6666666666666666,
             "#ed7953"
            ],
            [
             0.7777777777777778,
             "#fb9f3a"
            ],
            [
             0.8888888888888888,
             "#fdca26"
            ],
            [
             1,
             "#f0f921"
            ]
           ],
           "sequentialminus": [
            [
             0,
             "#0d0887"
            ],
            [
             0.1111111111111111,
             "#46039f"
            ],
            [
             0.2222222222222222,
             "#7201a8"
            ],
            [
             0.3333333333333333,
             "#9c179e"
            ],
            [
             0.4444444444444444,
             "#bd3786"
            ],
            [
             0.5555555555555556,
             "#d8576b"
            ],
            [
             0.6666666666666666,
             "#ed7953"
            ],
            [
             0.7777777777777778,
             "#fb9f3a"
            ],
            [
             0.8888888888888888,
             "#fdca26"
            ],
            [
             1,
             "#f0f921"
            ]
           ]
          },
          "colorway": [
           "#636efa",
           "#EF553B",
           "#00cc96",
           "#ab63fa",
           "#FFA15A",
           "#19d3f3",
           "#FF6692",
           "#B6E880",
           "#FF97FF",
           "#FECB52"
          ],
          "font": {
           "color": "#2a3f5f"
          },
          "geo": {
           "bgcolor": "white",
           "lakecolor": "white",
           "landcolor": "#E5ECF6",
           "showlakes": true,
           "showland": true,
           "subunitcolor": "white"
          },
          "hoverlabel": {
           "align": "left"
          },
          "hovermode": "closest",
          "mapbox": {
           "style": "light"
          },
          "paper_bgcolor": "white",
          "plot_bgcolor": "#E5ECF6",
          "polar": {
           "angularaxis": {
            "gridcolor": "white",
            "linecolor": "white",
            "ticks": ""
           },
           "bgcolor": "#E5ECF6",
           "radialaxis": {
            "gridcolor": "white",
            "linecolor": "white",
            "ticks": ""
           }
          },
          "scene": {
           "xaxis": {
            "backgroundcolor": "#E5ECF6",
            "gridcolor": "white",
            "gridwidth": 2,
            "linecolor": "white",
            "showbackground": true,
            "ticks": "",
            "zerolinecolor": "white"
           },
           "yaxis": {
            "backgroundcolor": "#E5ECF6",
            "gridcolor": "white",
            "gridwidth": 2,
            "linecolor": "white",
            "showbackground": true,
            "ticks": "",
            "zerolinecolor": "white"
           },
           "zaxis": {
            "backgroundcolor": "#E5ECF6",
            "gridcolor": "white",
            "gridwidth": 2,
            "linecolor": "white",
            "showbackground": true,
            "ticks": "",
            "zerolinecolor": "white"
           }
          },
          "shapedefaults": {
           "line": {
            "color": "#2a3f5f"
           }
          },
          "ternary": {
           "aaxis": {
            "gridcolor": "white",
            "linecolor": "white",
            "ticks": ""
           },
           "baxis": {
            "gridcolor": "white",
            "linecolor": "white",
            "ticks": ""
           },
           "bgcolor": "#E5ECF6",
           "caxis": {
            "gridcolor": "white",
            "linecolor": "white",
            "ticks": ""
           }
          },
          "title": {
           "x": 0.05
          },
          "xaxis": {
           "automargin": true,
           "gridcolor": "white",
           "linecolor": "white",
           "ticks": "",
           "title": {
            "standoff": 15
           },
           "zerolinecolor": "white",
           "zerolinewidth": 2
          },
          "yaxis": {
           "automargin": true,
           "gridcolor": "white",
           "linecolor": "white",
           "ticks": "",
           "title": {
            "standoff": 15
           },
           "zerolinecolor": "white",
           "zerolinewidth": 2
          }
         }
        }
       }
      },
      "text/html": [
       "<div>\n",
       "        \n",
       "        \n",
       "            <div id=\"54358ca0-0c92-4797-b349-e95c22996c27\" class=\"plotly-graph-div\" style=\"height:525px; width:100%;\"></div>\n",
       "            <script type=\"text/javascript\">\n",
       "                require([\"plotly\"], function(Plotly) {\n",
       "                    window.PLOTLYENV=window.PLOTLYENV || {};\n",
       "                    \n",
       "                if (document.getElementById(\"54358ca0-0c92-4797-b349-e95c22996c27\")) {\n",
       "                    Plotly.newPlot(\n",
       "                        '54358ca0-0c92-4797-b349-e95c22996c27',\n",
       "                        [{\"domain\": {\"x\": [0.0, 0.2888888888888889], \"y\": [0.0, 1.0]}, \"hole\": 0.4, \"hoverinfo\": \"label+percent+name\", \"labels\": [\"Asia\", \"Europe\", \"Africa\", \"Europe\", \"Africa\", \"North America\", \"South America\", \"Europe\", \"Asia\", \"Oceania\", \"Europe\", \"Europe\", \"Asia\", \"North America\", \"Asia\", \"Asia\", \"North America\", \"Europe\", \"Europe\", \"North America\", \"Africa\", \"Asia\", \"South America\", \"Europe\", \"Africa\", \"South America\", \"Europe\", \"Africa\", \"Africa\", \"Asia\", \"Africa\", \"North America\", \"Africa\", \"Africa\", \"Africa\", \"South America\", \"Asia\", \"South America\", \"Africa\", \"North America\", \"Europe\", \"North America\", \"Europe\", \"Asia\", \"Europe\", \"Africa\", \"Europe\", \"Africa\", \"North America\", \"North America\", \"South America\", \"Africa\", \"North America\", \"Africa\", \"Africa\", \"Europe\", \"Africa\", \"Oceania\", \"Europe\", \"Europe\", \"Africa\", \"Africa\", \"Europe\", \"Asia\", \"Europe\", \"Africa\", \"Europe\", \"North America\", \"North America\", \"Africa\", \"Africa\", \"South America\", \"North America\", \"North America\", \"Europe\", \"Europe\", \"Asia\", \"Asia\", \"Asia\", \"Europe\", \"Asia\", \"Europe\", \"North America\", \"Asia\", \"Asia\", \"Europe\", \"Asia\", \"Africa\", \"Asia\", \"Asia\", \"Europe\", \"Asia\", \"Africa\", \"Africa\", \"Africa\", \"Europe\", \"Europe\", \"Europe\", \"Africa\", \"Africa\", \"Asia\", \"Asia\", \"Africa\", \"Europe\", \"Africa\", \"Africa\", \"North America\", \"Europe\", \"Europe\", \"Asia\", \"Europe\", \"Africa\", \"Africa\", \"Asia\", \"Europe\", \"Oceania\", \"North America\", \"Africa\", \"Africa\", \"Europe\", \"Asia\", \"Asia\", \"North America\", \"Oceania\", \"South America\", \"South America\", \"Asia\", \"Europe\", \"Europe\", \"Asia\", \"Europe\", \"Africa\", \"Africa\", \"North America\", \"North America\", \"Europe\", \"Asia\", \"Africa\", \"Europe\", \"Africa\", \"Africa\", \"Asia\", \"Europe\", \"Europe\", \"Africa\", \"Africa\", \"Europe\", \"Asia\", \"Africa\", \"South America\", \"Africa\", \"Europe\", \"Europe\", \"Asia\", \"Asia\", \"Asia\", \"Africa\", \"North America\", \"Africa\", \"Europe\", \"Asia\", \"Africa\", \"Europe\", \"Asia\", \"Europe\", \"North America\", \"South America\", \"Asia\", \"Africa\", \"Asia\", \"Africa\", \"Africa\"], \"name\": \"Terkonfirmasi\", \"type\": \"pie\", \"values\": [39285, 13806, 51690, 2050, 5114, 101, 765002, 50850, 50850, 27109, 45686, 40309, 40309, 4123, 71374, 364987, 193, 79019, 121059, 1992, 2357, 282, 135716, 27749, 3172, 4847092, 20833, 2088, 510, 278, 20838, 162917, 6126, 4829, 1203, 464750, 90567, 835339, 484, 76828, 16827, 5670, 1772, 1772, 74255, 19755, 28882, 5417, 31, 112728, 138584, 103317, 29175, 5045, 381, 3450, 76098, 32, 10103, 616986, 8766, 3584, 6640, 6640, 295539, 46656, 18886, 24, 92409, 10652, 2324, 2929, 8781, 77598, 27309, 2769, 6312584, 291182, 367474, 36597, 253490, 317409, 6555, 84244, 13101, 108044, 108044, 38713, 105676, 46841, 1868, 40882, 1639, 1343, 35208, 119, 4784, 8595, 16454, 5779, 11484, 10354, 3131, 3095, 7505, 381, 748315, 54064, 219, 313, 10987, 126044, 8888, 79728, 124097, 1848, 5170, 1197, 59001, 14149, 98585, 313431, 113342, 539, 41799, 814829, 314079, 93481, 76396, 125959, 129658, 4843, 0, 19, 27, 732, 335097, 15019, 33662, 144, 2238, 57784, 10938, 5865, 3593, 676084, 778607, 3382, 13653, 4891, 5500, 93615, 53832, 9811, 3575, 28, 1809, 4570, 18413, 320070, 320070, 8287, 218625, 95348, 462775, 7277759, 2061, 57190, 10, 2039, 14802, 7850]}, {\"domain\": {\"x\": [0.35555555555555557, 0.6444444444444445], \"y\": [0.0, 1.0]}, \"hole\": 0.4, \"hoverinfo\": \"label+percent+name\", \"labels\": [\"Asia\", \"Europe\", \"Africa\", \"Europe\", \"Africa\", \"North America\", \"South America\", \"Europe\", \"Asia\", \"Oceania\", \"Europe\", \"Europe\", \"Asia\", \"North America\", \"Asia\", \"Asia\", \"North America\", \"Europe\", \"Europe\", \"North America\", \"Africa\", \"Asia\", \"South America\", \"Europe\", \"Africa\", \"South America\", \"Europe\", \"Africa\", \"Africa\", \"Asia\", \"Africa\", \"North America\", \"Africa\", \"Africa\", \"Africa\", \"South America\", \"Asia\", \"South America\", \"Africa\", \"North America\", \"Europe\", \"North America\", \"Europe\", \"Asia\", \"Europe\", \"Africa\", \"Europe\", \"Africa\", \"North America\", \"North America\", \"South America\", \"Africa\", \"North America\", \"Africa\", \"Africa\", \"Europe\", \"Africa\", \"Oceania\", \"Europe\", \"Europe\", \"Africa\", \"Africa\", \"Europe\", \"Asia\", \"Europe\", \"Africa\", \"Europe\", \"North America\", \"North America\", \"Africa\", \"Africa\", \"South America\", \"North America\", \"North America\", \"Europe\", \"Europe\", \"Asia\", \"Asia\", \"Asia\", \"Europe\", \"Asia\", \"Europe\", \"North America\", \"Asia\", \"Asia\", \"Europe\", \"Asia\", \"Africa\", \"Asia\", \"Asia\", \"Europe\", \"Asia\", \"Africa\", \"Africa\", \"Africa\", \"Europe\", \"Europe\", \"Europe\", \"Africa\", \"Africa\", \"Asia\", \"Asia\", \"Africa\", \"Europe\", \"Africa\", \"Africa\", \"North America\", \"Europe\", \"Europe\", \"Asia\", \"Europe\", \"Africa\", \"Africa\", \"Asia\", \"Europe\", \"Oceania\", \"North America\", \"Africa\", \"Africa\", \"Europe\", \"Asia\", \"Asia\", \"North America\", \"Oceania\", \"South America\", \"South America\", \"Asia\", \"Europe\", \"Europe\", \"Asia\", \"Europe\", \"Africa\", \"Africa\", \"North America\", \"North America\", \"Europe\", \"Asia\", \"Africa\", \"Europe\", \"Africa\", \"Africa\", \"Asia\", \"Europe\", \"Europe\", \"Africa\", \"Africa\", \"Europe\", \"Asia\", \"Africa\", \"South America\", \"Africa\", \"Europe\", \"Europe\", \"Asia\", \"Asia\", \"Asia\", \"Africa\", \"North America\", \"Africa\", \"Europe\", \"Asia\", \"Africa\", \"Europe\", \"Asia\", \"Europe\", \"North America\", \"South America\", \"Asia\", \"Africa\", \"Asia\", \"Africa\", \"Africa\"], \"name\": \"Sembuh\", \"type\": \"pie\", \"values\": [32842, 8077, 36282, 1432, 2082, 92, 603140, 44219, 44219, 24786, 36476, 38068, 38068, 2206, 65550, 277078, 179, 74777, 19521, 1246, 1973, 225, 96165, 20947, 710, 4299659, 14634, 1363, 472, 275, 19440, 138548, 5338, 1914, 1067, 438148, 85479, 751691, 466, 39843, 15218, 4922, 1369, 1369, 34186, 19320, 21752, 5346, 24, 88205, 112296, 96855, 23930, 4879, 353, 2643, 31430, 28, 8100, 99154, 8005, 2216, 3419, 3419, 258220, 45942, 1347, 24, 80800, 9996, 1549, 1760, 6907, 28517, 6118, 2177, 5273201, 218487, 295882, 23364, 179468, 228844, 1991, 76081, 4752, 103028, 103028, 24908, 97197, 42983, 1307, 18103, 874, 1221, 19894, 114, 2424, 7280, 15430, 4514, 10014, 9187, 2460, 2605, 7138, 344, 629630, 39499, 187, 307, 7397, 104136, 5573, 57389, 0, 1780, 2913, 1114, 50452, 11190, 88528, 298055, 89903, 519, 25167, 690528, 254223, 70401, 48937, 122911, 103994, 3181, 0, 17, 27, 680, 319746, 12538, 0, 143, 1695, 57512, 4620, 3906, 3001, 609584, 150376, 3233, 6764, 4702, 5000, 0, 45300, 8617, 3384, 28, 1353, 2629, 5032, 281151, 281151, 4430, 97956, 84903, 2383, 2860650, 1809, 53835, 8, 1297, 13961, 6312]}, {\"domain\": {\"x\": [0.7111111111111111, 1.0], \"y\": [0.0, 1.0]}, \"hole\": 0.4, \"hoverinfo\": \"label+percent+name\", \"labels\": [\"Asia\", \"Europe\", \"Africa\", \"Europe\", \"Africa\", \"North America\", \"South America\", \"Europe\", \"Asia\", \"Oceania\", \"Europe\", \"Europe\", \"Asia\", \"North America\", \"Asia\", \"Asia\", \"North America\", \"Europe\", \"Europe\", \"North America\", \"Africa\", \"Asia\", \"South America\", \"Europe\", \"Africa\", \"South America\", \"Europe\", \"Africa\", \"Africa\", \"Asia\", \"Africa\", \"North America\", \"Africa\", \"Africa\", \"Africa\", \"South America\", \"Asia\", \"South America\", \"Africa\", \"North America\", \"Europe\", \"North America\", \"Europe\", \"Asia\", \"Europe\", \"Africa\", \"Europe\", \"Africa\", \"North America\", \"North America\", \"South America\", \"Africa\", \"North America\", \"Africa\", \"Africa\", \"Europe\", \"Africa\", \"Oceania\", \"Europe\", \"Europe\", \"Africa\", \"Africa\", \"Europe\", \"Asia\", \"Europe\", \"Africa\", \"Europe\", \"North America\", \"North America\", \"Africa\", \"Africa\", \"South America\", \"North America\", \"North America\", \"Europe\", \"Europe\", \"Asia\", \"Asia\", \"Asia\", \"Europe\", \"Asia\", \"Europe\", \"North America\", \"Asia\", \"Asia\", \"Europe\", \"Asia\", \"Africa\", \"Asia\", \"Asia\", \"Europe\", \"Asia\", \"Africa\", \"Africa\", \"Africa\", \"Europe\", \"Europe\", \"Europe\", \"Africa\", \"Africa\", \"Asia\", \"Asia\", \"Africa\", \"Europe\", \"Africa\", \"Africa\", \"North America\", \"Europe\", \"Europe\", \"Asia\", \"Europe\", \"Africa\", \"Africa\", \"Asia\", \"Europe\", \"Oceania\", \"North America\", \"Africa\", \"Africa\", \"Europe\", \"Asia\", \"Asia\", \"North America\", \"Oceania\", \"South America\", \"South America\", \"Asia\", \"Europe\", \"Europe\", \"Asia\", \"Europe\", \"Africa\", \"Africa\", \"North America\", \"North America\", \"Europe\", \"Asia\", \"Africa\", \"Europe\", \"Africa\", \"Africa\", \"Asia\", \"Europe\", \"Europe\", \"Africa\", \"Africa\", \"Europe\", \"Asia\", \"Africa\", \"South America\", \"Africa\", \"Europe\", \"Europe\", \"Asia\", \"Asia\", \"Asia\", \"Africa\", \"North America\", \"Africa\", \"Europe\", \"Asia\", \"Africa\", \"Europe\", \"Asia\", \"Europe\", \"North America\", \"South America\", \"Asia\", \"Africa\", \"Asia\", \"Africa\", \"Africa\"], \"name\": \"Meninggal\", \"type\": \"pie\", \"values\": [1458, 388, 1741, 53, 185, 3, 20288, 963, 963, 890, 802, 593, 593, 96, 254, 5272, 7, 839, 10023, 27, 41, 0, 8001, 861, 16, 144680, 825, 58, 1, 0, 418, 9367, 61, 62, 85, 12822, 4739, 26196, 7, 917, 284, 122, 22, 22, 678, 120, 651, 61, 0, 2108, 11433, 5946, 848, 83, 0, 65, 1205, 2, 344, 32034, 54, 113, 41, 41, 9509, 301, 393, 0, 3261, 66, 39, 82, 229, 2380, 781, 10, 98678, 10856, 9231, 1806, 1622, 35918, 111, 1580, 69, 1725, 1725, 711, 612, 1065, 37, 374, 38, 82, 559, 1, 92, 125, 232, 179, 136, 34, 131, 35, 161, 10, 78078, 1336, 2, 0, 170, 2229, 62, 509, 6419, 25, 151, 69, 1112, 274, 935, 6499, 2387, 7, 869, 32463, 5562, 2543, 1977, 214, 4862, 29, 0, 0, 0, 42, 4794, 311, 750, 0, 72, 27, 48, 152, 99, 16866, 31973, 13, 836, 105, 111, 5893, 2074, 77, 59, 0, 48, 76, 265, 8262, 8262, 75, 4288, 421, 42292, 207789, 48, 471, 1, 587, 333, 228]}],\n",
       "                        {\"annotations\": [{\"font\": {\"size\": 8}, \"showarrow\": false, \"text\": \"Terkonfirmasi\", \"x\": 0.105, \"y\": 0.5}, {\"font\": {\"size\": 8}, \"showarrow\": false, \"text\": \"Sembuh\", \"x\": 0.5, \"y\": 0.5}, {\"font\": {\"size\": 8}, \"showarrow\": false, \"text\": \"Meninggal\", \"x\": 0.89, \"y\": 0.5}], \"template\": {\"data\": {\"bar\": [{\"error_x\": {\"color\": \"#2a3f5f\"}, \"error_y\": {\"color\": \"#2a3f5f\"}, \"marker\": {\"line\": {\"color\": \"#E5ECF6\", \"width\": 0.5}}, \"type\": \"bar\"}], \"barpolar\": [{\"marker\": {\"line\": {\"color\": \"#E5ECF6\", \"width\": 0.5}}, \"type\": \"barpolar\"}], \"carpet\": [{\"aaxis\": {\"endlinecolor\": \"#2a3f5f\", \"gridcolor\": \"white\", \"linecolor\": \"white\", \"minorgridcolor\": \"white\", \"startlinecolor\": \"#2a3f5f\"}, \"baxis\": {\"endlinecolor\": \"#2a3f5f\", \"gridcolor\": \"white\", \"linecolor\": \"white\", \"minorgridcolor\": \"white\", \"startlinecolor\": \"#2a3f5f\"}, \"type\": \"carpet\"}], \"choropleth\": [{\"colorbar\": {\"outlinewidth\": 0, \"ticks\": \"\"}, \"type\": \"choropleth\"}], \"contour\": [{\"colorbar\": {\"outlinewidth\": 0, \"ticks\": \"\"}, \"colorscale\": [[0.0, \"#0d0887\"], [0.1111111111111111, \"#46039f\"], [0.2222222222222222, \"#7201a8\"], [0.3333333333333333, \"#9c179e\"], [0.4444444444444444, \"#bd3786\"], [0.5555555555555556, \"#d8576b\"], [0.6666666666666666, \"#ed7953\"], [0.7777777777777778, \"#fb9f3a\"], [0.8888888888888888, \"#fdca26\"], [1.0, \"#f0f921\"]], \"type\": \"contour\"}], \"contourcarpet\": [{\"colorbar\": {\"outlinewidth\": 0, \"ticks\": \"\"}, \"type\": \"contourcarpet\"}], \"heatmap\": [{\"colorbar\": {\"outlinewidth\": 0, \"ticks\": \"\"}, \"colorscale\": [[0.0, \"#0d0887\"], [0.1111111111111111, \"#46039f\"], [0.2222222222222222, \"#7201a8\"], [0.3333333333333333, \"#9c179e\"], [0.4444444444444444, \"#bd3786\"], [0.5555555555555556, \"#d8576b\"], [0.6666666666666666, \"#ed7953\"], [0.7777777777777778, \"#fb9f3a\"], [0.8888888888888888, \"#fdca26\"], [1.0, \"#f0f921\"]], \"type\": \"heatmap\"}], \"heatmapgl\": [{\"colorbar\": {\"outlinewidth\": 0, \"ticks\": \"\"}, \"colorscale\": [[0.0, \"#0d0887\"], [0.1111111111111111, \"#46039f\"], [0.2222222222222222, \"#7201a8\"], [0.3333333333333333, \"#9c179e\"], [0.4444444444444444, \"#bd3786\"], [0.5555555555555556, \"#d8576b\"], [0.6666666666666666, \"#ed7953\"], [0.7777777777777778, \"#fb9f3a\"], [0.8888888888888888, \"#fdca26\"], [1.0, \"#f0f921\"]], \"type\": \"heatmapgl\"}], \"histogram\": [{\"marker\": {\"colorbar\": {\"outlinewidth\": 0, \"ticks\": \"\"}}, \"type\": \"histogram\"}], \"histogram2d\": [{\"colorbar\": {\"outlinewidth\": 0, \"ticks\": \"\"}, \"colorscale\": [[0.0, \"#0d0887\"], [0.1111111111111111, \"#46039f\"], [0.2222222222222222, \"#7201a8\"], [0.3333333333333333, \"#9c179e\"], [0.4444444444444444, \"#bd3786\"], [0.5555555555555556, \"#d8576b\"], [0.6666666666666666, \"#ed7953\"], [0.7777777777777778, \"#fb9f3a\"], [0.8888888888888888, \"#fdca26\"], [1.0, \"#f0f921\"]], \"type\": \"histogram2d\"}], \"histogram2dcontour\": [{\"colorbar\": {\"outlinewidth\": 0, \"ticks\": \"\"}, \"colorscale\": [[0.0, \"#0d0887\"], [0.1111111111111111, \"#46039f\"], [0.2222222222222222, \"#7201a8\"], [0.3333333333333333, \"#9c179e\"], [0.4444444444444444, \"#bd3786\"], [0.5555555555555556, \"#d8576b\"], [0.6666666666666666, \"#ed7953\"], [0.7777777777777778, \"#fb9f3a\"], [0.8888888888888888, \"#fdca26\"], [1.0, \"#f0f921\"]], \"type\": \"histogram2dcontour\"}], \"mesh3d\": [{\"colorbar\": {\"outlinewidth\": 0, \"ticks\": \"\"}, \"type\": \"mesh3d\"}], \"parcoords\": [{\"line\": {\"colorbar\": {\"outlinewidth\": 0, \"ticks\": \"\"}}, \"type\": \"parcoords\"}], \"pie\": [{\"automargin\": true, \"type\": \"pie\"}], \"scatter\": [{\"marker\": {\"colorbar\": {\"outlinewidth\": 0, \"ticks\": \"\"}}, \"type\": \"scatter\"}], \"scatter3d\": [{\"line\": {\"colorbar\": {\"outlinewidth\": 0, \"ticks\": \"\"}}, \"marker\": {\"colorbar\": {\"outlinewidth\": 0, \"ticks\": \"\"}}, \"type\": \"scatter3d\"}], \"scattercarpet\": [{\"marker\": {\"colorbar\": {\"outlinewidth\": 0, \"ticks\": \"\"}}, \"type\": \"scattercarpet\"}], \"scattergeo\": [{\"marker\": {\"colorbar\": {\"outlinewidth\": 0, \"ticks\": \"\"}}, \"type\": \"scattergeo\"}], \"scattergl\": [{\"marker\": {\"colorbar\": {\"outlinewidth\": 0, \"ticks\": \"\"}}, \"type\": \"scattergl\"}], \"scattermapbox\": [{\"marker\": {\"colorbar\": {\"outlinewidth\": 0, \"ticks\": \"\"}}, \"type\": \"scattermapbox\"}], \"scatterpolar\": [{\"marker\": {\"colorbar\": {\"outlinewidth\": 0, \"ticks\": \"\"}}, \"type\": \"scatterpolar\"}], \"scatterpolargl\": [{\"marker\": {\"colorbar\": {\"outlinewidth\": 0, \"ticks\": \"\"}}, \"type\": \"scatterpolargl\"}], \"scatterternary\": [{\"marker\": {\"colorbar\": {\"outlinewidth\": 0, \"ticks\": \"\"}}, \"type\": \"scatterternary\"}], \"surface\": [{\"colorbar\": {\"outlinewidth\": 0, \"ticks\": \"\"}, \"colorscale\": [[0.0, \"#0d0887\"], [0.1111111111111111, \"#46039f\"], [0.2222222222222222, \"#7201a8\"], [0.3333333333333333, \"#9c179e\"], [0.4444444444444444, \"#bd3786\"], [0.5555555555555556, \"#d8576b\"], [0.6666666666666666, \"#ed7953\"], [0.7777777777777778, \"#fb9f3a\"], [0.8888888888888888, \"#fdca26\"], [1.0, \"#f0f921\"]], \"type\": \"surface\"}], \"table\": [{\"cells\": {\"fill\": {\"color\": \"#EBF0F8\"}, \"line\": {\"color\": \"white\"}}, \"header\": {\"fill\": {\"color\": \"#C8D4E3\"}, \"line\": {\"color\": \"white\"}}, \"type\": \"table\"}]}, \"layout\": {\"annotationdefaults\": {\"arrowcolor\": \"#2a3f5f\", \"arrowhead\": 0, \"arrowwidth\": 1}, \"coloraxis\": {\"colorbar\": {\"outlinewidth\": 0, \"ticks\": \"\"}}, \"colorscale\": {\"diverging\": [[0, \"#8e0152\"], [0.1, \"#c51b7d\"], [0.2, \"#de77ae\"], [0.3, \"#f1b6da\"], [0.4, \"#fde0ef\"], [0.5, \"#f7f7f7\"], [0.6, \"#e6f5d0\"], [0.7, \"#b8e186\"], [0.8, \"#7fbc41\"], [0.9, \"#4d9221\"], [1, \"#276419\"]], \"sequential\": [[0.0, \"#0d0887\"], [0.1111111111111111, \"#46039f\"], [0.2222222222222222, \"#7201a8\"], [0.3333333333333333, \"#9c179e\"], [0.4444444444444444, \"#bd3786\"], [0.5555555555555556, \"#d8576b\"], [0.6666666666666666, \"#ed7953\"], [0.7777777777777778, \"#fb9f3a\"], [0.8888888888888888, \"#fdca26\"], [1.0, \"#f0f921\"]], \"sequentialminus\": [[0.0, \"#0d0887\"], [0.1111111111111111, \"#46039f\"], [0.2222222222222222, \"#7201a8\"], [0.3333333333333333, \"#9c179e\"], [0.4444444444444444, \"#bd3786\"], [0.5555555555555556, \"#d8576b\"], [0.6666666666666666, \"#ed7953\"], [0.7777777777777778, \"#fb9f3a\"], [0.8888888888888888, \"#fdca26\"], [1.0, \"#f0f921\"]]}, \"colorway\": [\"#636efa\", \"#EF553B\", \"#00cc96\", \"#ab63fa\", \"#FFA15A\", \"#19d3f3\", \"#FF6692\", \"#B6E880\", \"#FF97FF\", \"#FECB52\"], \"font\": {\"color\": \"#2a3f5f\"}, \"geo\": {\"bgcolor\": \"white\", \"lakecolor\": \"white\", \"landcolor\": \"#E5ECF6\", \"showlakes\": true, \"showland\": true, \"subunitcolor\": \"white\"}, \"hoverlabel\": {\"align\": \"left\"}, \"hovermode\": \"closest\", \"mapbox\": {\"style\": \"light\"}, \"paper_bgcolor\": \"white\", \"plot_bgcolor\": \"#E5ECF6\", \"polar\": {\"angularaxis\": {\"gridcolor\": \"white\", \"linecolor\": \"white\", \"ticks\": \"\"}, \"bgcolor\": \"#E5ECF6\", \"radialaxis\": {\"gridcolor\": \"white\", \"linecolor\": \"white\", \"ticks\": \"\"}}, \"scene\": {\"xaxis\": {\"backgroundcolor\": \"#E5ECF6\", \"gridcolor\": \"white\", \"gridwidth\": 2, \"linecolor\": \"white\", \"showbackground\": true, \"ticks\": \"\", \"zerolinecolor\": \"white\"}, \"yaxis\": {\"backgroundcolor\": \"#E5ECF6\", \"gridcolor\": \"white\", \"gridwidth\": 2, \"linecolor\": \"white\", \"showbackground\": true, \"ticks\": \"\", \"zerolinecolor\": \"white\"}, \"zaxis\": {\"backgroundcolor\": \"#E5ECF6\", \"gridcolor\": \"white\", \"gridwidth\": 2, \"linecolor\": \"white\", \"showbackground\": true, \"ticks\": \"\", \"zerolinecolor\": \"white\"}}, \"shapedefaults\": {\"line\": {\"color\": \"#2a3f5f\"}}, \"ternary\": {\"aaxis\": {\"gridcolor\": \"white\", \"linecolor\": \"white\", \"ticks\": \"\"}, \"baxis\": {\"gridcolor\": \"white\", \"linecolor\": \"white\", \"ticks\": \"\"}, \"bgcolor\": \"#E5ECF6\", \"caxis\": {\"gridcolor\": \"white\", \"linecolor\": \"white\", \"ticks\": \"\"}}, \"title\": {\"x\": 0.05}, \"xaxis\": {\"automargin\": true, \"gridcolor\": \"white\", \"linecolor\": \"white\", \"ticks\": \"\", \"title\": {\"standoff\": 15}, \"zerolinecolor\": \"white\", \"zerolinewidth\": 2}, \"yaxis\": {\"automargin\": true, \"gridcolor\": \"white\", \"linecolor\": \"white\", \"ticks\": \"\", \"title\": {\"standoff\": 15}, \"zerolinecolor\": \"white\", \"zerolinewidth\": 2}}}},\n",
       "                        {\"responsive\": true}\n",
       "                    ).then(function(){\n",
       "                            \n",
       "var gd = document.getElementById('54358ca0-0c92-4797-b349-e95c22996c27');\n",
       "var x = new MutationObserver(function (mutations, observer) {{\n",
       "        var display = window.getComputedStyle(gd).display;\n",
       "        if (!display || display === 'none') {{\n",
       "            console.log([gd, 'removed!']);\n",
       "            Plotly.purge(gd);\n",
       "            observer.disconnect();\n",
       "        }}\n",
       "}});\n",
       "\n",
       "// Listen for the removal of the full notebook cells\n",
       "var notebookContainer = gd.closest('#notebook-container');\n",
       "if (notebookContainer) {{\n",
       "    x.observe(notebookContainer, {childList: true});\n",
       "}}\n",
       "\n",
       "// Listen for the clearing of the current output cell\n",
       "var outputEl = gd.closest('.output');\n",
       "if (outputEl) {{\n",
       "    x.observe(outputEl, {childList: true});\n",
       "}}\n",
       "\n",
       "                        })\n",
       "                };\n",
       "                });\n",
       "            </script>\n",
       "        </div>"
      ]
     },
     "metadata": {},
     "output_type": "display_data"
    },
    {
     "data": {
      "text/plain": [
       "'https://plotly.com/~asepsaputra/46/'"
      ]
     },
     "execution_count": 91,
     "metadata": {},
     "output_type": "execute_result"
    }
   ],
   "source": [
    "fig3 = make_subplots(rows=1, cols=3, specs=[[{'type':'domain'}, {'type':'domain'}, {'type':'domain'}]])\n",
    "fig3.add_trace(go.Pie(labels=covid_fix['Continent'], values= covid_fix['TotalConfirmed'], name=\"Terkonfirmasi\"),\n",
    "              1, 1)\n",
    "fig3.add_trace(go.Pie(labels=covid_fix['Continent'], values=covid_fix['TotalRecovered'], name=\"Sembuh\"),\n",
    "              1, 2)\n",
    "fig3.add_trace(go.Pie(labels=covid_fix['Continent'], values=covid_fix['TotalDeaths'], name=\"Meninggal\"),\n",
    "              1, 3)\n",
    "\n",
    "\n",
    "fig3.update_traces(hole=.4, hoverinfo=\"label+percent+name\")\n",
    "\n",
    "fig3.update_layout(\n",
    "    annotations=[dict(text='Terkonfirmasi', x=0.105, y=0.5, font_size=8, showarrow=False),\n",
    "                 dict(text='Sembuh', x=0.50, y=0.5, font_size=8, showarrow=False),\n",
    "                 dict(text='Meninggal', x=0.89, y=0.5, font_size=8, showarrow=False)])\n",
    "fig3.show()"
   ]
  },
  {
   "cell_type": "markdown",
   "metadata": {},
   "source": [
    "### Sunburst chart"
   ]
  },
  {
   "cell_type": "code",
   "execution_count": 92,
   "metadata": {},
   "outputs": [
    {
     "data": {
      "application/vnd.plotly.v1+json": {
       "config": {
        "plotlyServerURL": "https://plotly.com"
       },
       "data": [
        {
         "branchvalues": "total",
         "domain": {
          "x": [
           0,
           1
          ],
          "y": [
           0,
           1
          ]
         },
         "hovertemplate": "labels=%{label}<br>TotalConfirmed=%{value}<br>parent=%{parent}<br>id=%{id}<extra></extra>",
         "ids": [
          "Asia/Afghanistan",
          "Europe/Albania",
          "Africa/Algeria",
          "Europe/Andorra",
          "Africa/Angola",
          "North America/Antigua and Barbuda",
          "South America/Argentina",
          "Asia/Armenia",
          "Europe/Armenia",
          "Oceania/Australia",
          "Europe/Austria",
          "Asia/Azerbaijan",
          "Europe/Azerbaijan",
          "North America/Bahamas",
          "Asia/Bahrain",
          "Asia/Bangladesh",
          "North America/Barbados",
          "Europe/Belarus",
          "Europe/Belgium",
          "North America/Belize",
          "Africa/Benin",
          "Asia/Bhutan",
          "South America/Bolivia",
          "Europe/Bosnia and Herzegovina",
          "Africa/Botswana",
          "South America/Brazil",
          "Europe/Bulgaria",
          "Africa/Burkina Faso",
          "Africa/Burundi",
          "Asia/Cambodia",
          "Africa/Cameroon",
          "North America/Canada",
          "Africa/Cape Verde",
          "Africa/Central African Republic",
          "Africa/Chad",
          "South America/Chile",
          "Asia/China",
          "South America/Colombia",
          "Africa/Comoros",
          "North America/Costa Rica",
          "Europe/Croatia",
          "North America/Cuba",
          "Asia/Cyprus",
          "Europe/Cyprus",
          "Europe/Czech Republic",
          "Africa/Côte d'Ivoire",
          "Europe/Denmark",
          "Africa/Djibouti",
          "North America/Dominica",
          "North America/Dominican Republic",
          "South America/Ecuador",
          "Africa/Egypt",
          "North America/El Salvador",
          "Africa/Equatorial Guinea",
          "Africa/Eritrea",
          "Europe/Estonia",
          "Africa/Ethiopia",
          "Oceania/Fiji",
          "Europe/Finland",
          "Europe/France",
          "Africa/Gabon",
          "Africa/Gambia",
          "Asia/Georgia",
          "Europe/Georgia",
          "Europe/Germany",
          "Africa/Ghana",
          "Europe/Greece",
          "North America/Grenada",
          "North America/Guatemala",
          "Africa/Guinea",
          "Africa/Guinea-Bissau",
          "South America/Guyana",
          "North America/Haiti",
          "North America/Honduras",
          "Europe/Hungary",
          "Europe/Iceland",
          "Asia/India",
          "Asia/Indonesia",
          "Asia/Iraq",
          "Europe/Ireland",
          "Asia/Israel",
          "Europe/Italy",
          "North America/Jamaica",
          "Asia/Japan",
          "Asia/Jordan",
          "Asia/Kazakhstan",
          "Europe/Kazakhstan",
          "Africa/Kenya",
          "Asia/Kuwait",
          "Asia/Kyrgyzstan",
          "Europe/Latvia",
          "Asia/Lebanon",
          "Africa/Lesotho",
          "Africa/Liberia",
          "Africa/Libya",
          "Europe/Liechtenstein",
          "Europe/Lithuania",
          "Europe/Luxembourg",
          "Africa/Madagascar",
          "Africa/Malawi",
          "Asia/Malaysia",
          "Asia/Maldives",
          "Africa/Mali",
          "Europe/Malta",
          "Africa/Mauritania",
          "Africa/Mauritius",
          "North America/Mexico",
          "Europe/Moldova",
          "Europe/Monaco",
          "Asia/Mongolia",
          "Europe/Montenegro",
          "Africa/Morocco",
          "Africa/Mozambique",
          "Asia/Nepal",
          "Europe/Netherlands",
          "Oceania/New Zealand",
          "North America/Nicaragua",
          "Africa/Niger",
          "Africa/Nigeria",
          "Europe/Norway",
          "Asia/Oman",
          "Asia/Pakistan",
          "North America/Panama",
          "Oceania/Papua New Guinea",
          "South America/Paraguay",
          "South America/Peru",
          "Asia/Philippines",
          "Europe/Poland",
          "Europe/Portugal",
          "Asia/Qatar",
          "Europe/Romania",
          "Africa/Rwanda",
          "Africa/Réunion",
          "North America/Saint Kitts and Nevis",
          "North America/Saint Lucia",
          "Europe/San Marino",
          "Asia/Saudi Arabia",
          "Africa/Senegal",
          "Europe/Serbia",
          "Africa/Seychelles",
          "Africa/Sierra Leone",
          "Asia/Singapore",
          "Europe/Slovakia",
          "Europe/Slovenia",
          "Africa/Somalia",
          "Africa/South Africa",
          "Europe/Spain",
          "Asia/Sri Lanka",
          "Africa/Sudan",
          "South America/Suriname",
          "Africa/Swaziland",
          "Europe/Sweden",
          "Europe/Switzerland",
          "Asia/Tajikistan",
          "Asia/Thailand",
          "Asia/Timor-Leste",
          "Africa/Togo",
          "North America/Trinidad and Tobago",
          "Africa/Tunisia",
          "Asia/Turkey",
          "Europe/Turkey",
          "Africa/Uganda",
          "Europe/Ukraine",
          "Asia/United Arab Emirates",
          "Europe/United Kingdom",
          "North America/United States of America",
          "South America/Uruguay",
          "Asia/Uzbekistan",
          "Africa/Western Sahara",
          "Asia/Yemen",
          "Africa/Zambia",
          "Africa/Zimbabwe",
          "Africa",
          "Asia",
          "Europe",
          "North America",
          "Oceania",
          "South America"
         ],
         "labels": [
          "Afghanistan",
          "Albania",
          "Algeria",
          "Andorra",
          "Angola",
          "Antigua and Barbuda",
          "Argentina",
          "Armenia",
          "Armenia",
          "Australia",
          "Austria",
          "Azerbaijan",
          "Azerbaijan",
          "Bahamas",
          "Bahrain",
          "Bangladesh",
          "Barbados",
          "Belarus",
          "Belgium",
          "Belize",
          "Benin",
          "Bhutan",
          "Bolivia",
          "Bosnia and Herzegovina",
          "Botswana",
          "Brazil",
          "Bulgaria",
          "Burkina Faso",
          "Burundi",
          "Cambodia",
          "Cameroon",
          "Canada",
          "Cape Verde",
          "Central African Republic",
          "Chad",
          "Chile",
          "China",
          "Colombia",
          "Comoros",
          "Costa Rica",
          "Croatia",
          "Cuba",
          "Cyprus",
          "Cyprus",
          "Czech Republic",
          "Côte d'Ivoire",
          "Denmark",
          "Djibouti",
          "Dominica",
          "Dominican Republic",
          "Ecuador",
          "Egypt",
          "El Salvador",
          "Equatorial Guinea",
          "Eritrea",
          "Estonia",
          "Ethiopia",
          "Fiji",
          "Finland",
          "France",
          "Gabon",
          "Gambia",
          "Georgia",
          "Georgia",
          "Germany",
          "Ghana",
          "Greece",
          "Grenada",
          "Guatemala",
          "Guinea",
          "Guinea-Bissau",
          "Guyana",
          "Haiti",
          "Honduras",
          "Hungary",
          "Iceland",
          "India",
          "Indonesia",
          "Iraq",
          "Ireland",
          "Israel",
          "Italy",
          "Jamaica",
          "Japan",
          "Jordan",
          "Kazakhstan",
          "Kazakhstan",
          "Kenya",
          "Kuwait",
          "Kyrgyzstan",
          "Latvia",
          "Lebanon",
          "Lesotho",
          "Liberia",
          "Libya",
          "Liechtenstein",
          "Lithuania",
          "Luxembourg",
          "Madagascar",
          "Malawi",
          "Malaysia",
          "Maldives",
          "Mali",
          "Malta",
          "Mauritania",
          "Mauritius",
          "Mexico",
          "Moldova",
          "Monaco",
          "Mongolia",
          "Montenegro",
          "Morocco",
          "Mozambique",
          "Nepal",
          "Netherlands",
          "New Zealand",
          "Nicaragua",
          "Niger",
          "Nigeria",
          "Norway",
          "Oman",
          "Pakistan",
          "Panama",
          "Papua New Guinea",
          "Paraguay",
          "Peru",
          "Philippines",
          "Poland",
          "Portugal",
          "Qatar",
          "Romania",
          "Rwanda",
          "Réunion",
          "Saint Kitts and Nevis",
          "Saint Lucia",
          "San Marino",
          "Saudi Arabia",
          "Senegal",
          "Serbia",
          "Seychelles",
          "Sierra Leone",
          "Singapore",
          "Slovakia",
          "Slovenia",
          "Somalia",
          "South Africa",
          "Spain",
          "Sri Lanka",
          "Sudan",
          "Suriname",
          "Swaziland",
          "Sweden",
          "Switzerland",
          "Tajikistan",
          "Thailand",
          "Timor-Leste",
          "Togo",
          "Trinidad and Tobago",
          "Tunisia",
          "Turkey",
          "Turkey",
          "Uganda",
          "Ukraine",
          "United Arab Emirates",
          "United Kingdom",
          "United States of America",
          "Uruguay",
          "Uzbekistan",
          "Western Sahara",
          "Yemen",
          "Zambia",
          "Zimbabwe",
          "Africa",
          "Asia",
          "Europe",
          "North America",
          "Oceania",
          "South America"
         ],
         "name": "",
         "parents": [
          "Asia",
          "Europe",
          "Africa",
          "Europe",
          "Africa",
          "North America",
          "South America",
          "Asia",
          "Europe",
          "Oceania",
          "Europe",
          "Asia",
          "Europe",
          "North America",
          "Asia",
          "Asia",
          "North America",
          "Europe",
          "Europe",
          "North America",
          "Africa",
          "Asia",
          "South America",
          "Europe",
          "Africa",
          "South America",
          "Europe",
          "Africa",
          "Africa",
          "Asia",
          "Africa",
          "North America",
          "Africa",
          "Africa",
          "Africa",
          "South America",
          "Asia",
          "South America",
          "Africa",
          "North America",
          "Europe",
          "North America",
          "Asia",
          "Europe",
          "Europe",
          "Africa",
          "Europe",
          "Africa",
          "North America",
          "North America",
          "South America",
          "Africa",
          "North America",
          "Africa",
          "Africa",
          "Europe",
          "Africa",
          "Oceania",
          "Europe",
          "Europe",
          "Africa",
          "Africa",
          "Asia",
          "Europe",
          "Europe",
          "Africa",
          "Europe",
          "North America",
          "North America",
          "Africa",
          "Africa",
          "South America",
          "North America",
          "North America",
          "Europe",
          "Europe",
          "Asia",
          "Asia",
          "Asia",
          "Europe",
          "Asia",
          "Europe",
          "North America",
          "Asia",
          "Asia",
          "Asia",
          "Europe",
          "Africa",
          "Asia",
          "Asia",
          "Europe",
          "Asia",
          "Africa",
          "Africa",
          "Africa",
          "Europe",
          "Europe",
          "Europe",
          "Africa",
          "Africa",
          "Asia",
          "Asia",
          "Africa",
          "Europe",
          "Africa",
          "Africa",
          "North America",
          "Europe",
          "Europe",
          "Asia",
          "Europe",
          "Africa",
          "Africa",
          "Asia",
          "Europe",
          "Oceania",
          "North America",
          "Africa",
          "Africa",
          "Europe",
          "Asia",
          "Asia",
          "North America",
          "Oceania",
          "South America",
          "South America",
          "Asia",
          "Europe",
          "Europe",
          "Asia",
          "Europe",
          "Africa",
          "Africa",
          "North America",
          "North America",
          "Europe",
          "Asia",
          "Africa",
          "Europe",
          "Africa",
          "Africa",
          "Asia",
          "Europe",
          "Europe",
          "Africa",
          "Africa",
          "Europe",
          "Asia",
          "Africa",
          "South America",
          "Africa",
          "Europe",
          "Europe",
          "Asia",
          "Asia",
          "Asia",
          "Africa",
          "North America",
          "Africa",
          "Asia",
          "Europe",
          "Africa",
          "Europe",
          "Asia",
          "Europe",
          "North America",
          "South America",
          "Asia",
          "Africa",
          "Asia",
          "Africa",
          "Africa",
          "",
          "",
          "",
          "",
          "",
          ""
         ],
         "type": "sunburst",
         "values": [
          39285,
          13806,
          51690,
          2050,
          5114,
          101,
          765002,
          50850,
          50850,
          27109,
          45686,
          40309,
          40309,
          4123,
          71374,
          364987,
          193,
          79019,
          121059,
          1992,
          2357,
          282,
          135716,
          27749,
          3172,
          4847092,
          20833,
          2088,
          510,
          278,
          20838,
          162917,
          6126,
          4829,
          1203,
          464750,
          90567,
          835339,
          484,
          76828,
          16827,
          5670,
          1772,
          1772,
          74255,
          19755,
          28882,
          5417,
          31,
          112728,
          138584,
          103317,
          29175,
          5045,
          381,
          3450,
          76098,
          32,
          10103,
          616986,
          8766,
          3584,
          6640,
          6640,
          295539,
          46656,
          18886,
          24,
          92409,
          10652,
          2324,
          2929,
          8781,
          77598,
          27309,
          2769,
          6312584,
          291182,
          367474,
          36597,
          253490,
          317409,
          6555,
          84244,
          13101,
          108044,
          108044,
          38713,
          105676,
          46841,
          1868,
          40882,
          1639,
          1343,
          35208,
          119,
          4784,
          8595,
          16454,
          5779,
          11484,
          10354,
          3131,
          3095,
          7505,
          381,
          748315,
          54064,
          219,
          313,
          10987,
          126044,
          8888,
          79728,
          124097,
          1848,
          5170,
          1197,
          59001,
          14149,
          98585,
          313431,
          113342,
          539,
          41799,
          814829,
          314079,
          93481,
          76396,
          125959,
          129658,
          4843,
          0,
          19,
          27,
          732,
          335097,
          15019,
          33662,
          144,
          2238,
          57784,
          10938,
          5865,
          3593,
          676084,
          778607,
          3382,
          13653,
          4891,
          5500,
          93615,
          53832,
          9811,
          3575,
          28,
          1809,
          4570,
          18413,
          320070,
          320070,
          8287,
          218625,
          95348,
          462775,
          7277759,
          2061,
          57190,
          10,
          2039,
          14802,
          7850,
          1457934,
          10128119,
          4467062,
          8728327,
          29528,
          8052992
         ]
        }
       ],
       "layout": {
        "legend": {
         "tracegroupgap": 0
        },
        "margin": {
         "t": 60
        },
        "template": {
         "data": {
          "bar": [
           {
            "error_x": {
             "color": "#2a3f5f"
            },
            "error_y": {
             "color": "#2a3f5f"
            },
            "marker": {
             "line": {
              "color": "#E5ECF6",
              "width": 0.5
             }
            },
            "type": "bar"
           }
          ],
          "barpolar": [
           {
            "marker": {
             "line": {
              "color": "#E5ECF6",
              "width": 0.5
             }
            },
            "type": "barpolar"
           }
          ],
          "carpet": [
           {
            "aaxis": {
             "endlinecolor": "#2a3f5f",
             "gridcolor": "white",
             "linecolor": "white",
             "minorgridcolor": "white",
             "startlinecolor": "#2a3f5f"
            },
            "baxis": {
             "endlinecolor": "#2a3f5f",
             "gridcolor": "white",
             "linecolor": "white",
             "minorgridcolor": "white",
             "startlinecolor": "#2a3f5f"
            },
            "type": "carpet"
           }
          ],
          "choropleth": [
           {
            "colorbar": {
             "outlinewidth": 0,
             "ticks": ""
            },
            "type": "choropleth"
           }
          ],
          "contour": [
           {
            "colorbar": {
             "outlinewidth": 0,
             "ticks": ""
            },
            "colorscale": [
             [
              0,
              "#0d0887"
             ],
             [
              0.1111111111111111,
              "#46039f"
             ],
             [
              0.2222222222222222,
              "#7201a8"
             ],
             [
              0.3333333333333333,
              "#9c179e"
             ],
             [
              0.4444444444444444,
              "#bd3786"
             ],
             [
              0.5555555555555556,
              "#d8576b"
             ],
             [
              0.6666666666666666,
              "#ed7953"
             ],
             [
              0.7777777777777778,
              "#fb9f3a"
             ],
             [
              0.8888888888888888,
              "#fdca26"
             ],
             [
              1,
              "#f0f921"
             ]
            ],
            "type": "contour"
           }
          ],
          "contourcarpet": [
           {
            "colorbar": {
             "outlinewidth": 0,
             "ticks": ""
            },
            "type": "contourcarpet"
           }
          ],
          "heatmap": [
           {
            "colorbar": {
             "outlinewidth": 0,
             "ticks": ""
            },
            "colorscale": [
             [
              0,
              "#0d0887"
             ],
             [
              0.1111111111111111,
              "#46039f"
             ],
             [
              0.2222222222222222,
              "#7201a8"
             ],
             [
              0.3333333333333333,
              "#9c179e"
             ],
             [
              0.4444444444444444,
              "#bd3786"
             ],
             [
              0.5555555555555556,
              "#d8576b"
             ],
             [
              0.6666666666666666,
              "#ed7953"
             ],
             [
              0.7777777777777778,
              "#fb9f3a"
             ],
             [
              0.8888888888888888,
              "#fdca26"
             ],
             [
              1,
              "#f0f921"
             ]
            ],
            "type": "heatmap"
           }
          ],
          "heatmapgl": [
           {
            "colorbar": {
             "outlinewidth": 0,
             "ticks": ""
            },
            "colorscale": [
             [
              0,
              "#0d0887"
             ],
             [
              0.1111111111111111,
              "#46039f"
             ],
             [
              0.2222222222222222,
              "#7201a8"
             ],
             [
              0.3333333333333333,
              "#9c179e"
             ],
             [
              0.4444444444444444,
              "#bd3786"
             ],
             [
              0.5555555555555556,
              "#d8576b"
             ],
             [
              0.6666666666666666,
              "#ed7953"
             ],
             [
              0.7777777777777778,
              "#fb9f3a"
             ],
             [
              0.8888888888888888,
              "#fdca26"
             ],
             [
              1,
              "#f0f921"
             ]
            ],
            "type": "heatmapgl"
           }
          ],
          "histogram": [
           {
            "marker": {
             "colorbar": {
              "outlinewidth": 0,
              "ticks": ""
             }
            },
            "type": "histogram"
           }
          ],
          "histogram2d": [
           {
            "colorbar": {
             "outlinewidth": 0,
             "ticks": ""
            },
            "colorscale": [
             [
              0,
              "#0d0887"
             ],
             [
              0.1111111111111111,
              "#46039f"
             ],
             [
              0.2222222222222222,
              "#7201a8"
             ],
             [
              0.3333333333333333,
              "#9c179e"
             ],
             [
              0.4444444444444444,
              "#bd3786"
             ],
             [
              0.5555555555555556,
              "#d8576b"
             ],
             [
              0.6666666666666666,
              "#ed7953"
             ],
             [
              0.7777777777777778,
              "#fb9f3a"
             ],
             [
              0.8888888888888888,
              "#fdca26"
             ],
             [
              1,
              "#f0f921"
             ]
            ],
            "type": "histogram2d"
           }
          ],
          "histogram2dcontour": [
           {
            "colorbar": {
             "outlinewidth": 0,
             "ticks": ""
            },
            "colorscale": [
             [
              0,
              "#0d0887"
             ],
             [
              0.1111111111111111,
              "#46039f"
             ],
             [
              0.2222222222222222,
              "#7201a8"
             ],
             [
              0.3333333333333333,
              "#9c179e"
             ],
             [
              0.4444444444444444,
              "#bd3786"
             ],
             [
              0.5555555555555556,
              "#d8576b"
             ],
             [
              0.6666666666666666,
              "#ed7953"
             ],
             [
              0.7777777777777778,
              "#fb9f3a"
             ],
             [
              0.8888888888888888,
              "#fdca26"
             ],
             [
              1,
              "#f0f921"
             ]
            ],
            "type": "histogram2dcontour"
           }
          ],
          "mesh3d": [
           {
            "colorbar": {
             "outlinewidth": 0,
             "ticks": ""
            },
            "type": "mesh3d"
           }
          ],
          "parcoords": [
           {
            "line": {
             "colorbar": {
              "outlinewidth": 0,
              "ticks": ""
             }
            },
            "type": "parcoords"
           }
          ],
          "pie": [
           {
            "automargin": true,
            "type": "pie"
           }
          ],
          "scatter": [
           {
            "marker": {
             "colorbar": {
              "outlinewidth": 0,
              "ticks": ""
             }
            },
            "type": "scatter"
           }
          ],
          "scatter3d": [
           {
            "line": {
             "colorbar": {
              "outlinewidth": 0,
              "ticks": ""
             }
            },
            "marker": {
             "colorbar": {
              "outlinewidth": 0,
              "ticks": ""
             }
            },
            "type": "scatter3d"
           }
          ],
          "scattercarpet": [
           {
            "marker": {
             "colorbar": {
              "outlinewidth": 0,
              "ticks": ""
             }
            },
            "type": "scattercarpet"
           }
          ],
          "scattergeo": [
           {
            "marker": {
             "colorbar": {
              "outlinewidth": 0,
              "ticks": ""
             }
            },
            "type": "scattergeo"
           }
          ],
          "scattergl": [
           {
            "marker": {
             "colorbar": {
              "outlinewidth": 0,
              "ticks": ""
             }
            },
            "type": "scattergl"
           }
          ],
          "scattermapbox": [
           {
            "marker": {
             "colorbar": {
              "outlinewidth": 0,
              "ticks": ""
             }
            },
            "type": "scattermapbox"
           }
          ],
          "scatterpolar": [
           {
            "marker": {
             "colorbar": {
              "outlinewidth": 0,
              "ticks": ""
             }
            },
            "type": "scatterpolar"
           }
          ],
          "scatterpolargl": [
           {
            "marker": {
             "colorbar": {
              "outlinewidth": 0,
              "ticks": ""
             }
            },
            "type": "scatterpolargl"
           }
          ],
          "scatterternary": [
           {
            "marker": {
             "colorbar": {
              "outlinewidth": 0,
              "ticks": ""
             }
            },
            "type": "scatterternary"
           }
          ],
          "surface": [
           {
            "colorbar": {
             "outlinewidth": 0,
             "ticks": ""
            },
            "colorscale": [
             [
              0,
              "#0d0887"
             ],
             [
              0.1111111111111111,
              "#46039f"
             ],
             [
              0.2222222222222222,
              "#7201a8"
             ],
             [
              0.3333333333333333,
              "#9c179e"
             ],
             [
              0.4444444444444444,
              "#bd3786"
             ],
             [
              0.5555555555555556,
              "#d8576b"
             ],
             [
              0.6666666666666666,
              "#ed7953"
             ],
             [
              0.7777777777777778,
              "#fb9f3a"
             ],
             [
              0.8888888888888888,
              "#fdca26"
             ],
             [
              1,
              "#f0f921"
             ]
            ],
            "type": "surface"
           }
          ],
          "table": [
           {
            "cells": {
             "fill": {
              "color": "#EBF0F8"
             },
             "line": {
              "color": "white"
             }
            },
            "header": {
             "fill": {
              "color": "#C8D4E3"
             },
             "line": {
              "color": "white"
             }
            },
            "type": "table"
           }
          ]
         },
         "layout": {
          "annotationdefaults": {
           "arrowcolor": "#2a3f5f",
           "arrowhead": 0,
           "arrowwidth": 1
          },
          "coloraxis": {
           "colorbar": {
            "outlinewidth": 0,
            "ticks": ""
           }
          },
          "colorscale": {
           "diverging": [
            [
             0,
             "#8e0152"
            ],
            [
             0.1,
             "#c51b7d"
            ],
            [
             0.2,
             "#de77ae"
            ],
            [
             0.3,
             "#f1b6da"
            ],
            [
             0.4,
             "#fde0ef"
            ],
            [
             0.5,
             "#f7f7f7"
            ],
            [
             0.6,
             "#e6f5d0"
            ],
            [
             0.7,
             "#b8e186"
            ],
            [
             0.8,
             "#7fbc41"
            ],
            [
             0.9,
             "#4d9221"
            ],
            [
             1,
             "#276419"
            ]
           ],
           "sequential": [
            [
             0,
             "#0d0887"
            ],
            [
             0.1111111111111111,
             "#46039f"
            ],
            [
             0.2222222222222222,
             "#7201a8"
            ],
            [
             0.3333333333333333,
             "#9c179e"
            ],
            [
             0.4444444444444444,
             "#bd3786"
            ],
            [
             0.5555555555555556,
             "#d8576b"
            ],
            [
             0.6666666666666666,
             "#ed7953"
            ],
            [
             0.7777777777777778,
             "#fb9f3a"
            ],
            [
             0.8888888888888888,
             "#fdca26"
            ],
            [
             1,
             "#f0f921"
            ]
           ],
           "sequentialminus": [
            [
             0,
             "#0d0887"
            ],
            [
             0.1111111111111111,
             "#46039f"
            ],
            [
             0.2222222222222222,
             "#7201a8"
            ],
            [
             0.3333333333333333,
             "#9c179e"
            ],
            [
             0.4444444444444444,
             "#bd3786"
            ],
            [
             0.5555555555555556,
             "#d8576b"
            ],
            [
             0.6666666666666666,
             "#ed7953"
            ],
            [
             0.7777777777777778,
             "#fb9f3a"
            ],
            [
             0.8888888888888888,
             "#fdca26"
            ],
            [
             1,
             "#f0f921"
            ]
           ]
          },
          "colorway": [
           "#636efa",
           "#EF553B",
           "#00cc96",
           "#ab63fa",
           "#FFA15A",
           "#19d3f3",
           "#FF6692",
           "#B6E880",
           "#FF97FF",
           "#FECB52"
          ],
          "font": {
           "color": "#2a3f5f"
          },
          "geo": {
           "bgcolor": "white",
           "lakecolor": "white",
           "landcolor": "#E5ECF6",
           "showlakes": true,
           "showland": true,
           "subunitcolor": "white"
          },
          "hoverlabel": {
           "align": "left"
          },
          "hovermode": "closest",
          "mapbox": {
           "style": "light"
          },
          "paper_bgcolor": "white",
          "plot_bgcolor": "#E5ECF6",
          "polar": {
           "angularaxis": {
            "gridcolor": "white",
            "linecolor": "white",
            "ticks": ""
           },
           "bgcolor": "#E5ECF6",
           "radialaxis": {
            "gridcolor": "white",
            "linecolor": "white",
            "ticks": ""
           }
          },
          "scene": {
           "xaxis": {
            "backgroundcolor": "#E5ECF6",
            "gridcolor": "white",
            "gridwidth": 2,
            "linecolor": "white",
            "showbackground": true,
            "ticks": "",
            "zerolinecolor": "white"
           },
           "yaxis": {
            "backgroundcolor": "#E5ECF6",
            "gridcolor": "white",
            "gridwidth": 2,
            "linecolor": "white",
            "showbackground": true,
            "ticks": "",
            "zerolinecolor": "white"
           },
           "zaxis": {
            "backgroundcolor": "#E5ECF6",
            "gridcolor": "white",
            "gridwidth": 2,
            "linecolor": "white",
            "showbackground": true,
            "ticks": "",
            "zerolinecolor": "white"
           }
          },
          "shapedefaults": {
           "line": {
            "color": "#2a3f5f"
           }
          },
          "ternary": {
           "aaxis": {
            "gridcolor": "white",
            "linecolor": "white",
            "ticks": ""
           },
           "baxis": {
            "gridcolor": "white",
            "linecolor": "white",
            "ticks": ""
           },
           "bgcolor": "#E5ECF6",
           "caxis": {
            "gridcolor": "white",
            "linecolor": "white",
            "ticks": ""
           }
          },
          "title": {
           "x": 0.05
          },
          "xaxis": {
           "automargin": true,
           "gridcolor": "white",
           "linecolor": "white",
           "ticks": "",
           "title": {
            "standoff": 15
           },
           "zerolinecolor": "white",
           "zerolinewidth": 2
          },
          "yaxis": {
           "automargin": true,
           "gridcolor": "white",
           "linecolor": "white",
           "ticks": "",
           "title": {
            "standoff": 15
           },
           "zerolinecolor": "white",
           "zerolinewidth": 2
          }
         }
        }
       }
      },
      "text/html": [
       "<div>\n",
       "        \n",
       "        \n",
       "            <div id=\"afc3365a-2e38-4833-b7b1-04a046e21563\" class=\"plotly-graph-div\" style=\"height:525px; width:100%;\"></div>\n",
       "            <script type=\"text/javascript\">\n",
       "                require([\"plotly\"], function(Plotly) {\n",
       "                    window.PLOTLYENV=window.PLOTLYENV || {};\n",
       "                    \n",
       "                if (document.getElementById(\"afc3365a-2e38-4833-b7b1-04a046e21563\")) {\n",
       "                    Plotly.newPlot(\n",
       "                        'afc3365a-2e38-4833-b7b1-04a046e21563',\n",
       "                        [{\"branchvalues\": \"total\", \"domain\": {\"x\": [0.0, 1.0], \"y\": [0.0, 1.0]}, \"hovertemplate\": \"labels=%{label}<br>TotalConfirmed=%{value}<br>parent=%{parent}<br>id=%{id}<extra></extra>\", \"ids\": [\"Asia/Afghanistan\", \"Europe/Albania\", \"Africa/Algeria\", \"Europe/Andorra\", \"Africa/Angola\", \"North America/Antigua and Barbuda\", \"South America/Argentina\", \"Asia/Armenia\", \"Europe/Armenia\", \"Oceania/Australia\", \"Europe/Austria\", \"Asia/Azerbaijan\", \"Europe/Azerbaijan\", \"North America/Bahamas\", \"Asia/Bahrain\", \"Asia/Bangladesh\", \"North America/Barbados\", \"Europe/Belarus\", \"Europe/Belgium\", \"North America/Belize\", \"Africa/Benin\", \"Asia/Bhutan\", \"South America/Bolivia\", \"Europe/Bosnia and Herzegovina\", \"Africa/Botswana\", \"South America/Brazil\", \"Europe/Bulgaria\", \"Africa/Burkina Faso\", \"Africa/Burundi\", \"Asia/Cambodia\", \"Africa/Cameroon\", \"North America/Canada\", \"Africa/Cape Verde\", \"Africa/Central African Republic\", \"Africa/Chad\", \"South America/Chile\", \"Asia/China\", \"South America/Colombia\", \"Africa/Comoros\", \"North America/Costa Rica\", \"Europe/Croatia\", \"North America/Cuba\", \"Asia/Cyprus\", \"Europe/Cyprus\", \"Europe/Czech Republic\", \"Africa/C\\u00f4te d'Ivoire\", \"Europe/Denmark\", \"Africa/Djibouti\", \"North America/Dominica\", \"North America/Dominican Republic\", \"South America/Ecuador\", \"Africa/Egypt\", \"North America/El Salvador\", \"Africa/Equatorial Guinea\", \"Africa/Eritrea\", \"Europe/Estonia\", \"Africa/Ethiopia\", \"Oceania/Fiji\", \"Europe/Finland\", \"Europe/France\", \"Africa/Gabon\", \"Africa/Gambia\", \"Asia/Georgia\", \"Europe/Georgia\", \"Europe/Germany\", \"Africa/Ghana\", \"Europe/Greece\", \"North America/Grenada\", \"North America/Guatemala\", \"Africa/Guinea\", \"Africa/Guinea-Bissau\", \"South America/Guyana\", \"North America/Haiti\", \"North America/Honduras\", \"Europe/Hungary\", \"Europe/Iceland\", \"Asia/India\", \"Asia/Indonesia\", \"Asia/Iraq\", \"Europe/Ireland\", \"Asia/Israel\", \"Europe/Italy\", \"North America/Jamaica\", \"Asia/Japan\", \"Asia/Jordan\", \"Asia/Kazakhstan\", \"Europe/Kazakhstan\", \"Africa/Kenya\", \"Asia/Kuwait\", \"Asia/Kyrgyzstan\", \"Europe/Latvia\", \"Asia/Lebanon\", \"Africa/Lesotho\", \"Africa/Liberia\", \"Africa/Libya\", \"Europe/Liechtenstein\", \"Europe/Lithuania\", \"Europe/Luxembourg\", \"Africa/Madagascar\", \"Africa/Malawi\", \"Asia/Malaysia\", \"Asia/Maldives\", \"Africa/Mali\", \"Europe/Malta\", \"Africa/Mauritania\", \"Africa/Mauritius\", \"North America/Mexico\", \"Europe/Moldova\", \"Europe/Monaco\", \"Asia/Mongolia\", \"Europe/Montenegro\", \"Africa/Morocco\", \"Africa/Mozambique\", \"Asia/Nepal\", \"Europe/Netherlands\", \"Oceania/New Zealand\", \"North America/Nicaragua\", \"Africa/Niger\", \"Africa/Nigeria\", \"Europe/Norway\", \"Asia/Oman\", \"Asia/Pakistan\", \"North America/Panama\", \"Oceania/Papua New Guinea\", \"South America/Paraguay\", \"South America/Peru\", \"Asia/Philippines\", \"Europe/Poland\", \"Europe/Portugal\", \"Asia/Qatar\", \"Europe/Romania\", \"Africa/Rwanda\", \"Africa/R\\u00e9union\", \"North America/Saint Kitts and Nevis\", \"North America/Saint Lucia\", \"Europe/San Marino\", \"Asia/Saudi Arabia\", \"Africa/Senegal\", \"Europe/Serbia\", \"Africa/Seychelles\", \"Africa/Sierra Leone\", \"Asia/Singapore\", \"Europe/Slovakia\", \"Europe/Slovenia\", \"Africa/Somalia\", \"Africa/South Africa\", \"Europe/Spain\", \"Asia/Sri Lanka\", \"Africa/Sudan\", \"South America/Suriname\", \"Africa/Swaziland\", \"Europe/Sweden\", \"Europe/Switzerland\", \"Asia/Tajikistan\", \"Asia/Thailand\", \"Asia/Timor-Leste\", \"Africa/Togo\", \"North America/Trinidad and Tobago\", \"Africa/Tunisia\", \"Asia/Turkey\", \"Europe/Turkey\", \"Africa/Uganda\", \"Europe/Ukraine\", \"Asia/United Arab Emirates\", \"Europe/United Kingdom\", \"North America/United States of America\", \"South America/Uruguay\", \"Asia/Uzbekistan\", \"Africa/Western Sahara\", \"Asia/Yemen\", \"Africa/Zambia\", \"Africa/Zimbabwe\", \"Africa\", \"Asia\", \"Europe\", \"North America\", \"Oceania\", \"South America\"], \"labels\": [\"Afghanistan\", \"Albania\", \"Algeria\", \"Andorra\", \"Angola\", \"Antigua and Barbuda\", \"Argentina\", \"Armenia\", \"Armenia\", \"Australia\", \"Austria\", \"Azerbaijan\", \"Azerbaijan\", \"Bahamas\", \"Bahrain\", \"Bangladesh\", \"Barbados\", \"Belarus\", \"Belgium\", \"Belize\", \"Benin\", \"Bhutan\", \"Bolivia\", \"Bosnia and Herzegovina\", \"Botswana\", \"Brazil\", \"Bulgaria\", \"Burkina Faso\", \"Burundi\", \"Cambodia\", \"Cameroon\", \"Canada\", \"Cape Verde\", \"Central African Republic\", \"Chad\", \"Chile\", \"China\", \"Colombia\", \"Comoros\", \"Costa Rica\", \"Croatia\", \"Cuba\", \"Cyprus\", \"Cyprus\", \"Czech Republic\", \"C\\u00f4te d'Ivoire\", \"Denmark\", \"Djibouti\", \"Dominica\", \"Dominican Republic\", \"Ecuador\", \"Egypt\", \"El Salvador\", \"Equatorial Guinea\", \"Eritrea\", \"Estonia\", \"Ethiopia\", \"Fiji\", \"Finland\", \"France\", \"Gabon\", \"Gambia\", \"Georgia\", \"Georgia\", \"Germany\", \"Ghana\", \"Greece\", \"Grenada\", \"Guatemala\", \"Guinea\", \"Guinea-Bissau\", \"Guyana\", \"Haiti\", \"Honduras\", \"Hungary\", \"Iceland\", \"India\", \"Indonesia\", \"Iraq\", \"Ireland\", \"Israel\", \"Italy\", \"Jamaica\", \"Japan\", \"Jordan\", \"Kazakhstan\", \"Kazakhstan\", \"Kenya\", \"Kuwait\", \"Kyrgyzstan\", \"Latvia\", \"Lebanon\", \"Lesotho\", \"Liberia\", \"Libya\", \"Liechtenstein\", \"Lithuania\", \"Luxembourg\", \"Madagascar\", \"Malawi\", \"Malaysia\", \"Maldives\", \"Mali\", \"Malta\", \"Mauritania\", \"Mauritius\", \"Mexico\", \"Moldova\", \"Monaco\", \"Mongolia\", \"Montenegro\", \"Morocco\", \"Mozambique\", \"Nepal\", \"Netherlands\", \"New Zealand\", \"Nicaragua\", \"Niger\", \"Nigeria\", \"Norway\", \"Oman\", \"Pakistan\", \"Panama\", \"Papua New Guinea\", \"Paraguay\", \"Peru\", \"Philippines\", \"Poland\", \"Portugal\", \"Qatar\", \"Romania\", \"Rwanda\", \"R\\u00e9union\", \"Saint Kitts and Nevis\", \"Saint Lucia\", \"San Marino\", \"Saudi Arabia\", \"Senegal\", \"Serbia\", \"Seychelles\", \"Sierra Leone\", \"Singapore\", \"Slovakia\", \"Slovenia\", \"Somalia\", \"South Africa\", \"Spain\", \"Sri Lanka\", \"Sudan\", \"Suriname\", \"Swaziland\", \"Sweden\", \"Switzerland\", \"Tajikistan\", \"Thailand\", \"Timor-Leste\", \"Togo\", \"Trinidad and Tobago\", \"Tunisia\", \"Turkey\", \"Turkey\", \"Uganda\", \"Ukraine\", \"United Arab Emirates\", \"United Kingdom\", \"United States of America\", \"Uruguay\", \"Uzbekistan\", \"Western Sahara\", \"Yemen\", \"Zambia\", \"Zimbabwe\", \"Africa\", \"Asia\", \"Europe\", \"North America\", \"Oceania\", \"South America\"], \"name\": \"\", \"parents\": [\"Asia\", \"Europe\", \"Africa\", \"Europe\", \"Africa\", \"North America\", \"South America\", \"Asia\", \"Europe\", \"Oceania\", \"Europe\", \"Asia\", \"Europe\", \"North America\", \"Asia\", \"Asia\", \"North America\", \"Europe\", \"Europe\", \"North America\", \"Africa\", \"Asia\", \"South America\", \"Europe\", \"Africa\", \"South America\", \"Europe\", \"Africa\", \"Africa\", \"Asia\", \"Africa\", \"North America\", \"Africa\", \"Africa\", \"Africa\", \"South America\", \"Asia\", \"South America\", \"Africa\", \"North America\", \"Europe\", \"North America\", \"Asia\", \"Europe\", \"Europe\", \"Africa\", \"Europe\", \"Africa\", \"North America\", \"North America\", \"South America\", \"Africa\", \"North America\", \"Africa\", \"Africa\", \"Europe\", \"Africa\", \"Oceania\", \"Europe\", \"Europe\", \"Africa\", \"Africa\", \"Asia\", \"Europe\", \"Europe\", \"Africa\", \"Europe\", \"North America\", \"North America\", \"Africa\", \"Africa\", \"South America\", \"North America\", \"North America\", \"Europe\", \"Europe\", \"Asia\", \"Asia\", \"Asia\", \"Europe\", \"Asia\", \"Europe\", \"North America\", \"Asia\", \"Asia\", \"Asia\", \"Europe\", \"Africa\", \"Asia\", \"Asia\", \"Europe\", \"Asia\", \"Africa\", \"Africa\", \"Africa\", \"Europe\", \"Europe\", \"Europe\", \"Africa\", \"Africa\", \"Asia\", \"Asia\", \"Africa\", \"Europe\", \"Africa\", \"Africa\", \"North America\", \"Europe\", \"Europe\", \"Asia\", \"Europe\", \"Africa\", \"Africa\", \"Asia\", \"Europe\", \"Oceania\", \"North America\", \"Africa\", \"Africa\", \"Europe\", \"Asia\", \"Asia\", \"North America\", \"Oceania\", \"South America\", \"South America\", \"Asia\", \"Europe\", \"Europe\", \"Asia\", \"Europe\", \"Africa\", \"Africa\", \"North America\", \"North America\", \"Europe\", \"Asia\", \"Africa\", \"Europe\", \"Africa\", \"Africa\", \"Asia\", \"Europe\", \"Europe\", \"Africa\", \"Africa\", \"Europe\", \"Asia\", \"Africa\", \"South America\", \"Africa\", \"Europe\", \"Europe\", \"Asia\", \"Asia\", \"Asia\", \"Africa\", \"North America\", \"Africa\", \"Asia\", \"Europe\", \"Africa\", \"Europe\", \"Asia\", \"Europe\", \"North America\", \"South America\", \"Asia\", \"Africa\", \"Asia\", \"Africa\", \"Africa\", \"\", \"\", \"\", \"\", \"\", \"\"], \"type\": \"sunburst\", \"values\": [39285, 13806, 51690, 2050, 5114, 101, 765002, 50850, 50850, 27109, 45686, 40309, 40309, 4123, 71374, 364987, 193, 79019, 121059, 1992, 2357, 282, 135716, 27749, 3172, 4847092, 20833, 2088, 510, 278, 20838, 162917, 6126, 4829, 1203, 464750, 90567, 835339, 484, 76828, 16827, 5670, 1772, 1772, 74255, 19755, 28882, 5417, 31, 112728, 138584, 103317, 29175, 5045, 381, 3450, 76098, 32, 10103, 616986, 8766, 3584, 6640, 6640, 295539, 46656, 18886, 24, 92409, 10652, 2324, 2929, 8781, 77598, 27309, 2769, 6312584, 291182, 367474, 36597, 253490, 317409, 6555, 84244, 13101, 108044, 108044, 38713, 105676, 46841, 1868, 40882, 1639, 1343, 35208, 119, 4784, 8595, 16454, 5779, 11484, 10354, 3131, 3095, 7505, 381, 748315, 54064, 219, 313, 10987, 126044, 8888, 79728, 124097, 1848, 5170, 1197, 59001, 14149, 98585, 313431, 113342, 539, 41799, 814829, 314079, 93481, 76396, 125959, 129658, 4843, 0, 19, 27, 732, 335097, 15019, 33662, 144, 2238, 57784, 10938, 5865, 3593, 676084, 778607, 3382, 13653, 4891, 5500, 93615, 53832, 9811, 3575, 28, 1809, 4570, 18413, 320070, 320070, 8287, 218625, 95348, 462775, 7277759, 2061, 57190, 10, 2039, 14802, 7850, 1457934, 10128119, 4467062, 8728327, 29528, 8052992]}],\n",
       "                        {\"legend\": {\"tracegroupgap\": 0}, \"margin\": {\"t\": 60}, \"template\": {\"data\": {\"bar\": [{\"error_x\": {\"color\": \"#2a3f5f\"}, \"error_y\": {\"color\": \"#2a3f5f\"}, \"marker\": {\"line\": {\"color\": \"#E5ECF6\", \"width\": 0.5}}, \"type\": \"bar\"}], \"barpolar\": [{\"marker\": {\"line\": {\"color\": \"#E5ECF6\", \"width\": 0.5}}, \"type\": \"barpolar\"}], \"carpet\": [{\"aaxis\": {\"endlinecolor\": \"#2a3f5f\", \"gridcolor\": \"white\", \"linecolor\": \"white\", \"minorgridcolor\": \"white\", \"startlinecolor\": \"#2a3f5f\"}, \"baxis\": {\"endlinecolor\": \"#2a3f5f\", \"gridcolor\": \"white\", \"linecolor\": \"white\", \"minorgridcolor\": \"white\", \"startlinecolor\": \"#2a3f5f\"}, \"type\": \"carpet\"}], \"choropleth\": [{\"colorbar\": {\"outlinewidth\": 0, \"ticks\": \"\"}, \"type\": \"choropleth\"}], \"contour\": [{\"colorbar\": {\"outlinewidth\": 0, \"ticks\": \"\"}, \"colorscale\": [[0.0, \"#0d0887\"], [0.1111111111111111, \"#46039f\"], [0.2222222222222222, \"#7201a8\"], [0.3333333333333333, \"#9c179e\"], [0.4444444444444444, \"#bd3786\"], [0.5555555555555556, \"#d8576b\"], [0.6666666666666666, \"#ed7953\"], [0.7777777777777778, \"#fb9f3a\"], [0.8888888888888888, \"#fdca26\"], [1.0, \"#f0f921\"]], \"type\": \"contour\"}], \"contourcarpet\": [{\"colorbar\": {\"outlinewidth\": 0, \"ticks\": \"\"}, \"type\": \"contourcarpet\"}], \"heatmap\": [{\"colorbar\": {\"outlinewidth\": 0, \"ticks\": \"\"}, \"colorscale\": [[0.0, \"#0d0887\"], [0.1111111111111111, \"#46039f\"], [0.2222222222222222, \"#7201a8\"], [0.3333333333333333, \"#9c179e\"], [0.4444444444444444, \"#bd3786\"], [0.5555555555555556, \"#d8576b\"], [0.6666666666666666, \"#ed7953\"], [0.7777777777777778, \"#fb9f3a\"], [0.8888888888888888, \"#fdca26\"], [1.0, \"#f0f921\"]], \"type\": \"heatmap\"}], \"heatmapgl\": [{\"colorbar\": {\"outlinewidth\": 0, \"ticks\": \"\"}, \"colorscale\": [[0.0, \"#0d0887\"], [0.1111111111111111, \"#46039f\"], [0.2222222222222222, \"#7201a8\"], [0.3333333333333333, \"#9c179e\"], [0.4444444444444444, \"#bd3786\"], [0.5555555555555556, \"#d8576b\"], [0.6666666666666666, \"#ed7953\"], [0.7777777777777778, \"#fb9f3a\"], [0.8888888888888888, \"#fdca26\"], [1.0, \"#f0f921\"]], \"type\": \"heatmapgl\"}], \"histogram\": [{\"marker\": {\"colorbar\": {\"outlinewidth\": 0, \"ticks\": \"\"}}, \"type\": \"histogram\"}], \"histogram2d\": [{\"colorbar\": {\"outlinewidth\": 0, \"ticks\": \"\"}, \"colorscale\": [[0.0, \"#0d0887\"], [0.1111111111111111, \"#46039f\"], [0.2222222222222222, \"#7201a8\"], [0.3333333333333333, \"#9c179e\"], [0.4444444444444444, \"#bd3786\"], [0.5555555555555556, \"#d8576b\"], [0.6666666666666666, \"#ed7953\"], [0.7777777777777778, \"#fb9f3a\"], [0.8888888888888888, \"#fdca26\"], [1.0, \"#f0f921\"]], \"type\": \"histogram2d\"}], \"histogram2dcontour\": [{\"colorbar\": {\"outlinewidth\": 0, \"ticks\": \"\"}, \"colorscale\": [[0.0, \"#0d0887\"], [0.1111111111111111, \"#46039f\"], [0.2222222222222222, \"#7201a8\"], [0.3333333333333333, \"#9c179e\"], [0.4444444444444444, \"#bd3786\"], [0.5555555555555556, \"#d8576b\"], [0.6666666666666666, \"#ed7953\"], [0.7777777777777778, \"#fb9f3a\"], [0.8888888888888888, \"#fdca26\"], [1.0, \"#f0f921\"]], \"type\": \"histogram2dcontour\"}], \"mesh3d\": [{\"colorbar\": {\"outlinewidth\": 0, \"ticks\": \"\"}, \"type\": \"mesh3d\"}], \"parcoords\": [{\"line\": {\"colorbar\": {\"outlinewidth\": 0, \"ticks\": \"\"}}, \"type\": \"parcoords\"}], \"pie\": [{\"automargin\": true, \"type\": \"pie\"}], \"scatter\": [{\"marker\": {\"colorbar\": {\"outlinewidth\": 0, \"ticks\": \"\"}}, \"type\": \"scatter\"}], \"scatter3d\": [{\"line\": {\"colorbar\": {\"outlinewidth\": 0, \"ticks\": \"\"}}, \"marker\": {\"colorbar\": {\"outlinewidth\": 0, \"ticks\": \"\"}}, \"type\": \"scatter3d\"}], \"scattercarpet\": [{\"marker\": {\"colorbar\": {\"outlinewidth\": 0, \"ticks\": \"\"}}, \"type\": \"scattercarpet\"}], \"scattergeo\": [{\"marker\": {\"colorbar\": {\"outlinewidth\": 0, \"ticks\": \"\"}}, \"type\": \"scattergeo\"}], \"scattergl\": [{\"marker\": {\"colorbar\": {\"outlinewidth\": 0, \"ticks\": \"\"}}, \"type\": \"scattergl\"}], \"scattermapbox\": [{\"marker\": {\"colorbar\": {\"outlinewidth\": 0, \"ticks\": \"\"}}, \"type\": \"scattermapbox\"}], \"scatterpolar\": [{\"marker\": {\"colorbar\": {\"outlinewidth\": 0, \"ticks\": \"\"}}, \"type\": \"scatterpolar\"}], \"scatterpolargl\": [{\"marker\": {\"colorbar\": {\"outlinewidth\": 0, \"ticks\": \"\"}}, \"type\": \"scatterpolargl\"}], \"scatterternary\": [{\"marker\": {\"colorbar\": {\"outlinewidth\": 0, \"ticks\": \"\"}}, \"type\": \"scatterternary\"}], \"surface\": [{\"colorbar\": {\"outlinewidth\": 0, \"ticks\": \"\"}, \"colorscale\": [[0.0, \"#0d0887\"], [0.1111111111111111, \"#46039f\"], [0.2222222222222222, \"#7201a8\"], [0.3333333333333333, \"#9c179e\"], [0.4444444444444444, \"#bd3786\"], [0.5555555555555556, \"#d8576b\"], [0.6666666666666666, \"#ed7953\"], [0.7777777777777778, \"#fb9f3a\"], [0.8888888888888888, \"#fdca26\"], [1.0, \"#f0f921\"]], \"type\": \"surface\"}], \"table\": [{\"cells\": {\"fill\": {\"color\": \"#EBF0F8\"}, \"line\": {\"color\": \"white\"}}, \"header\": {\"fill\": {\"color\": \"#C8D4E3\"}, \"line\": {\"color\": \"white\"}}, \"type\": \"table\"}]}, \"layout\": {\"annotationdefaults\": {\"arrowcolor\": \"#2a3f5f\", \"arrowhead\": 0, \"arrowwidth\": 1}, \"coloraxis\": {\"colorbar\": {\"outlinewidth\": 0, \"ticks\": \"\"}}, \"colorscale\": {\"diverging\": [[0, \"#8e0152\"], [0.1, \"#c51b7d\"], [0.2, \"#de77ae\"], [0.3, \"#f1b6da\"], [0.4, \"#fde0ef\"], [0.5, \"#f7f7f7\"], [0.6, \"#e6f5d0\"], [0.7, \"#b8e186\"], [0.8, \"#7fbc41\"], [0.9, \"#4d9221\"], [1, \"#276419\"]], \"sequential\": [[0.0, \"#0d0887\"], [0.1111111111111111, \"#46039f\"], [0.2222222222222222, \"#7201a8\"], [0.3333333333333333, \"#9c179e\"], [0.4444444444444444, \"#bd3786\"], [0.5555555555555556, \"#d8576b\"], [0.6666666666666666, \"#ed7953\"], [0.7777777777777778, \"#fb9f3a\"], [0.8888888888888888, \"#fdca26\"], [1.0, \"#f0f921\"]], \"sequentialminus\": [[0.0, \"#0d0887\"], [0.1111111111111111, \"#46039f\"], [0.2222222222222222, \"#7201a8\"], [0.3333333333333333, \"#9c179e\"], [0.4444444444444444, \"#bd3786\"], [0.5555555555555556, \"#d8576b\"], [0.6666666666666666, \"#ed7953\"], [0.7777777777777778, \"#fb9f3a\"], [0.8888888888888888, \"#fdca26\"], [1.0, \"#f0f921\"]]}, \"colorway\": [\"#636efa\", \"#EF553B\", \"#00cc96\", \"#ab63fa\", \"#FFA15A\", \"#19d3f3\", \"#FF6692\", \"#B6E880\", \"#FF97FF\", \"#FECB52\"], \"font\": {\"color\": \"#2a3f5f\"}, \"geo\": {\"bgcolor\": \"white\", \"lakecolor\": \"white\", \"landcolor\": \"#E5ECF6\", \"showlakes\": true, \"showland\": true, \"subunitcolor\": \"white\"}, \"hoverlabel\": {\"align\": \"left\"}, \"hovermode\": \"closest\", \"mapbox\": {\"style\": \"light\"}, \"paper_bgcolor\": \"white\", \"plot_bgcolor\": \"#E5ECF6\", \"polar\": {\"angularaxis\": {\"gridcolor\": \"white\", \"linecolor\": \"white\", \"ticks\": \"\"}, \"bgcolor\": \"#E5ECF6\", \"radialaxis\": {\"gridcolor\": \"white\", \"linecolor\": \"white\", \"ticks\": \"\"}}, \"scene\": {\"xaxis\": {\"backgroundcolor\": \"#E5ECF6\", \"gridcolor\": \"white\", \"gridwidth\": 2, \"linecolor\": \"white\", \"showbackground\": true, \"ticks\": \"\", \"zerolinecolor\": \"white\"}, \"yaxis\": {\"backgroundcolor\": \"#E5ECF6\", \"gridcolor\": \"white\", \"gridwidth\": 2, \"linecolor\": \"white\", \"showbackground\": true, \"ticks\": \"\", \"zerolinecolor\": \"white\"}, \"zaxis\": {\"backgroundcolor\": \"#E5ECF6\", \"gridcolor\": \"white\", \"gridwidth\": 2, \"linecolor\": \"white\", \"showbackground\": true, \"ticks\": \"\", \"zerolinecolor\": \"white\"}}, \"shapedefaults\": {\"line\": {\"color\": \"#2a3f5f\"}}, \"ternary\": {\"aaxis\": {\"gridcolor\": \"white\", \"linecolor\": \"white\", \"ticks\": \"\"}, \"baxis\": {\"gridcolor\": \"white\", \"linecolor\": \"white\", \"ticks\": \"\"}, \"bgcolor\": \"#E5ECF6\", \"caxis\": {\"gridcolor\": \"white\", \"linecolor\": \"white\", \"ticks\": \"\"}}, \"title\": {\"x\": 0.05}, \"xaxis\": {\"automargin\": true, \"gridcolor\": \"white\", \"linecolor\": \"white\", \"ticks\": \"\", \"title\": {\"standoff\": 15}, \"zerolinecolor\": \"white\", \"zerolinewidth\": 2}, \"yaxis\": {\"automargin\": true, \"gridcolor\": \"white\", \"linecolor\": \"white\", \"ticks\": \"\", \"title\": {\"standoff\": 15}, \"zerolinecolor\": \"white\", \"zerolinewidth\": 2}}}},\n",
       "                        {\"responsive\": true}\n",
       "                    ).then(function(){\n",
       "                            \n",
       "var gd = document.getElementById('afc3365a-2e38-4833-b7b1-04a046e21563');\n",
       "var x = new MutationObserver(function (mutations, observer) {{\n",
       "        var display = window.getComputedStyle(gd).display;\n",
       "        if (!display || display === 'none') {{\n",
       "            console.log([gd, 'removed!']);\n",
       "            Plotly.purge(gd);\n",
       "            observer.disconnect();\n",
       "        }}\n",
       "}});\n",
       "\n",
       "// Listen for the removal of the full notebook cells\n",
       "var notebookContainer = gd.closest('#notebook-container');\n",
       "if (notebookContainer) {{\n",
       "    x.observe(notebookContainer, {childList: true});\n",
       "}}\n",
       "\n",
       "// Listen for the clearing of the current output cell\n",
       "var outputEl = gd.closest('.output');\n",
       "if (outputEl) {{\n",
       "    x.observe(outputEl, {childList: true});\n",
       "}}\n",
       "\n",
       "                        })\n",
       "                };\n",
       "                });\n",
       "            </script>\n",
       "        </div>"
      ]
     },
     "metadata": {},
     "output_type": "display_data"
    },
    {
     "data": {
      "text/plain": [
       "'https://plotly.com/~asepsaputra/61/'"
      ]
     },
     "execution_count": 92,
     "metadata": {},
     "output_type": "execute_result"
    }
   ],
   "source": [
    "fig4 =px.sunburst(\n",
    "    covid_fix,\n",
    "    path=['Continent', 'Country'],\n",
    "    values= 'TotalConfirmed',\n",
    ")\n",
    "\n",
    "fig4.show()"
   ]
  },
  {
   "cell_type": "markdown",
   "metadata": {},
   "source": [
    "### Bubble chart - Scatter"
   ]
  },
  {
   "cell_type": "code",
   "execution_count": 93,
   "metadata": {},
   "outputs": [
    {
     "data": {
      "application/vnd.plotly.v1+json": {
       "config": {
        "plotlyServerURL": "https://plotly.com"
       },
       "data": [
        {
         "hovertemplate": "<b>%{hovertext}</b><br><br>Benua=Asia<br>Recovery rate=%{x}<br>Mortality rate=%{y}<br>TotalConfirmed=%{marker.size}<extra></extra>",
         "hovertext": [
          "Afghanistan",
          "Armenia",
          "Azerbaijan",
          "Bahrain",
          "Bangladesh",
          "Bhutan",
          "Cambodia",
          "China",
          "Cyprus",
          "Georgia",
          "India",
          "Indonesia",
          "Iraq",
          "Israel",
          "Japan",
          "Jordan",
          "Kazakhstan",
          "Kuwait",
          "Kyrgyzstan",
          "Lebanon",
          "Malaysia",
          "Maldives",
          "Mongolia",
          "Nepal",
          "Oman",
          "Pakistan",
          "Philippines",
          "Qatar",
          "Saudi Arabia",
          "Singapore",
          "Sri Lanka",
          "Tajikistan",
          "Thailand",
          "Timor-Leste",
          "Turkey",
          "United Arab Emirates",
          "Uzbekistan",
          "Yemen"
         ],
         "legendgroup": "Asia",
         "marker": {
          "color": "#636efa",
          "size": [
           39285,
           50850,
           40309,
           71374,
           364987,
           282,
           278,
           90567,
           1772,
           6640,
           6312584,
           291182,
           367474,
           253490,
           84244,
           13101,
           108044,
           105676,
           46841,
           40882,
           11484,
           10354,
           313,
           79728,
           98585,
           313431,
           314079,
           125959,
           335097,
           57784,
           3382,
           9811,
           3575,
           28,
           320070,
           95348,
           57190,
           2039
          ],
          "sizemode": "area",
          "sizeref": 8086.398888888889,
          "symbol": "circle"
         },
         "mode": "markers",
         "name": "Asia",
         "orientation": "v",
         "showlegend": true,
         "type": "scatter",
         "x": [
          0.8359933816978491,
          0.8695968534906588,
          0.944404475427324,
          0.9184016588673747,
          0.7591448462547982,
          0.7978723404255319,
          0.9892086330935251,
          0.9438205969061578,
          0.7725733634311512,
          0.5149096385542169,
          0.8353474583466929,
          0.7503451449608836,
          0.8051780534133027,
          0.7079884808079214,
          0.9031028916005888,
          0.36272040302267,
          0.9535744696605086,
          0.9197641848669518,
          0.9176362588330735,
          0.4428110170735287,
          0.8719958202716823,
          0.8872899362565192,
          0.9808306709265175,
          0.7198098535019065,
          0.897986509103819,
          0.9509429507610926,
          0.8094237437077932,
          0.9758016497431704,
          0.9541893839694178,
          0.995292814619964,
          0.9559432288586636,
          0.8782998674956681,
          0.9465734265734266,
          1,
          0.8784047239666323,
          0.8904539161807274,
          0.9413358978842455,
          0.636096125551741
         ],
         "xaxis": "x",
         "y": [
          0.03711340206185567,
          0.018938053097345132,
          0.01471135478429135,
          0.0035587188612099642,
          0.014444350072742317,
          0,
          0,
          0.052325902370620646,
          0.012415349887133182,
          0.006174698795180723,
          0.01563195040256098,
          0.037282524331861175,
          0.025120144554444668,
          0.0063986745039252045,
          0.018755044869664308,
          0.005266773528738264,
          0.015965717670578652,
          0.00579128657405655,
          0.022736491535193526,
          0.009148280416809354,
          0.011842563566701497,
          0.003283755070504153,
          0,
          0.006384206301424844,
          0.009484201450524928,
          0.02073502620991542,
          0.01770892036716877,
          0.0016989655364047032,
          0.014306305338454239,
          0.00046725737228298493,
          0.00384387936132466,
          0.007848333503210682,
          0.016503496503496504,
          0,
          0.02581310338363483,
          0.004415404623064983,
          0.008235705542927085,
          0.28788621873467385
         ],
         "yaxis": "y"
        },
        {
         "hovertemplate": "<b>%{hovertext}</b><br><br>Benua=Europe<br>Recovery rate=%{x}<br>Mortality rate=%{y}<br>TotalConfirmed=%{marker.size}<extra></extra>",
         "hovertext": [
          "Albania",
          "Andorra",
          "Armenia",
          "Austria",
          "Azerbaijan",
          "Belarus",
          "Belgium",
          "Bosnia and Herzegovina",
          "Bulgaria",
          "Croatia",
          "Cyprus",
          "Czech Republic",
          "Denmark",
          "Estonia",
          "Finland",
          "France",
          "Georgia",
          "Germany",
          "Greece",
          "Hungary",
          "Iceland",
          "Ireland",
          "Italy",
          "Kazakhstan",
          "Latvia",
          "Liechtenstein",
          "Lithuania",
          "Luxembourg",
          "Malta",
          "Moldova",
          "Monaco",
          "Montenegro",
          "Netherlands",
          "Norway",
          "Poland",
          "Portugal",
          "Romania",
          "San Marino",
          "Serbia",
          "Slovakia",
          "Slovenia",
          "Spain",
          "Sweden",
          "Switzerland",
          "Turkey",
          "Ukraine",
          "United Kingdom"
         ],
         "legendgroup": "Europe",
         "marker": {
          "color": "#EF553B",
          "size": [
           13806,
           2050,
           50850,
           45686,
           40309,
           79019,
           121059,
           27749,
           20833,
           16827,
           1772,
           74255,
           28882,
           3450,
           10103,
           616986,
           6640,
           295539,
           18886,
           27309,
           2769,
           36597,
           317409,
           108044,
           1868,
           119,
           4784,
           8595,
           3095,
           54064,
           219,
           10987,
           124097,
           14149,
           93481,
           76396,
           129658,
           732,
           33662,
           10938,
           5865,
           778607,
           93615,
           53832,
           320070,
           218625,
           462775
          ],
          "sizemode": "area",
          "sizeref": 8086.398888888889,
          "symbol": "circle"
         },
         "mode": "markers",
         "name": "Europe",
         "orientation": "v",
         "showlegend": true,
         "type": "scatter",
         "x": [
          0.5850354918151528,
          0.6985365853658536,
          0.8695968534906588,
          0.7984065140305564,
          0.944404475427324,
          0.9463167086396943,
          0.16125195152776745,
          0.7548740495152978,
          0.7024432390918255,
          0.9043798656920425,
          0.7725733634311512,
          0.46038650595919467,
          0.7531334395124991,
          0.7660869565217391,
          0.8017420568148075,
          0.1607070500789321,
          0.5149096385542169,
          0.8737256335035308,
          0.07132267287938156,
          0.22402870848438244,
          0.7862044059227158,
          0.6384129846708747,
          0.7209751456322915,
          0.9535744696605086,
          0.699678800856531,
          0.957983193277311,
          0.5066889632107023,
          0.8470040721349622,
          0.8416801292407108,
          0.7305970701390944,
          0.8538812785388128,
          0.6732502047874761,
          0,
          0.7908686126228002,
          0.753104909018945,
          0.6405701869207812,
          0.8020638911598205,
          0.9289617486338798,
          0,
          0.4223806911684037,
          0.6659846547314578,
          0.1931346622879065,
          0,
          0.8415069103878734,
          0.8784047239666323,
          0.4480548885077187,
          0.005149370644481659
         ],
         "xaxis": "x",
         "y": [
          0.028103723018977258,
          0.025853658536585365,
          0.018938053097345132,
          0.017554611916123102,
          0.01471135478429135,
          0.010617699540616813,
          0.08279433994994176,
          0.031028145158384087,
          0.03960063361013776,
          0.016877637130801686,
          0.012415349887133182,
          0.009130698269476803,
          0.022539990305380515,
          0.01884057971014493,
          0.034049292289418984,
          0.05192014081356789,
          0.006174698795180723,
          0.03217511056070434,
          0.020809064915810655,
          0.02859863048811747,
          0.0036114120621162874,
          0.04934830723829822,
          0.11315999231275736,
          0.015965717670578652,
          0.01980728051391863,
          0.008403361344537815,
          0.019230769230769232,
          0.014543339150668994,
          0.011308562197092083,
          0.024711453092630956,
          0.0091324200913242,
          0.015472831528169655,
          0.05172566621272069,
          0.01936532617146088,
          0.02720338892395246,
          0.02587831823655689,
          0.0374986502953925,
          0.05737704918032787,
          0.022280316083417503,
          0.004388370817334065,
          0.025916453537936913,
          0.04106436238050775,
          0.06294931367836351,
          0.038527270025263786,
          0.02581310338363483,
          0.01961349342481418,
          0.09138782345632326
         ],
         "yaxis": "y"
        },
        {
         "hovertemplate": "<b>%{hovertext}</b><br><br>Benua=Africa<br>Recovery rate=%{x}<br>Mortality rate=%{y}<br>TotalConfirmed=%{marker.size}<extra></extra>",
         "hovertext": [
          "Algeria",
          "Angola",
          "Benin",
          "Botswana",
          "Burkina Faso",
          "Burundi",
          "Cameroon",
          "Cape Verde",
          "Central African Republic",
          "Chad",
          "Comoros",
          "Côte d'Ivoire",
          "Djibouti",
          "Egypt",
          "Equatorial Guinea",
          "Eritrea",
          "Ethiopia",
          "Gabon",
          "Gambia",
          "Ghana",
          "Guinea",
          "Guinea-Bissau",
          "Kenya",
          "Lesotho",
          "Liberia",
          "Libya",
          "Madagascar",
          "Malawi",
          "Mali",
          "Mauritania",
          "Mauritius",
          "Morocco",
          "Mozambique",
          "Niger",
          "Nigeria",
          "Rwanda",
          "Réunion",
          "Senegal",
          "Seychelles",
          "Sierra Leone",
          "Somalia",
          "South Africa",
          "Sudan",
          "Swaziland",
          "Togo",
          "Tunisia",
          "Uganda",
          "Western Sahara",
          "Zambia",
          "Zimbabwe"
         ],
         "legendgroup": "Africa",
         "marker": {
          "color": "#00cc96",
          "size": [
           51690,
           5114,
           2357,
           3172,
           2088,
           510,
           20838,
           6126,
           4829,
           1203,
           484,
           19755,
           5417,
           103317,
           5045,
           381,
           76098,
           8766,
           3584,
           46656,
           10652,
           2324,
           38713,
           1639,
           1343,
           35208,
           16454,
           5779,
           3131,
           7505,
           381,
           126044,
           8888,
           1197,
           59001,
           4843,
           0,
           15019,
           144,
           2238,
           3593,
           676084,
           13653,
           5500,
           1809,
           18413,
           8287,
           10,
           14802,
           7850
          ],
          "sizemode": "area",
          "sizeref": 8086.398888888889,
          "symbol": "circle"
         },
         "mode": "markers",
         "name": "Africa",
         "orientation": "v",
         "showlegend": true,
         "type": "scatter",
         "x": [
          0.7019152640742891,
          0.40711771607352365,
          0.8370810352142554,
          0.22383354350567466,
          0.6527777777777778,
          0.9254901960784314,
          0.9329110279297438,
          0.871367939928175,
          0.39635535307517084,
          0.8869492934330839,
          0.9628099173553719,
          0.9779802581624905,
          0.9868931142698911,
          0.9374546299253753,
          0.9670961347869177,
          0.926509186351706,
          0.4130200530894373,
          0.9131873146246863,
          0.6183035714285714,
          0.9846965020576132,
          0.9384153210664664,
          0.6665232358003442,
          0.6434014413762819,
          0.5332519829164124,
          0.9091586001489204,
          0.5650420359009316,
          0.9377658927920263,
          0.7811039972313549,
          0.7856914723730437,
          0.9510992671552299,
          0.9028871391076115,
          0.8261876804925264,
          0.6270252025202521,
          0.9306599832915622,
          0.8551041507771054,
          0.6568242824695437,
          null,
          0.8348092416272721,
          0.9930555555555556,
          0.7573726541554959,
          0.835235179515725,
          0.9016394412528621,
          0.4954222515198125,
          0.9090909090909091,
          0.7479270315091211,
          0.27328517894965515,
          0.5345722215518282,
          0.8,
          0.9431833536008647,
          0.8040764331210191
         ],
         "xaxis": "x",
         "y": [
          0.03368156316502225,
          0.03617520531873289,
          0.017394993635977938,
          0.005044136191677175,
          0.027777777777777776,
          0.00196078431372549,
          0.02005950667050581,
          0.009957557949722494,
          0.012839097121557258,
          0.07065669160432253,
          0.014462809917355372,
          0.006074411541381929,
          0.011260845486431604,
          0.05755103225993786,
          0.01645193260654113,
          0,
          0.015834844542563536,
          0.006160164271047228,
          0.031529017857142856,
          0.0064514746227709195,
          0.006196019526849418,
          0.016781411359724614,
          0.018365923591558392,
          0.023184868822452714,
          0.06105733432613552,
          0.015877073392410814,
          0.014099914914306552,
          0.030974216992559266,
          0.04183966783775152,
          0.02145236508994004,
          0.026246719160104987,
          0.017684300720383357,
          0.006975697569756975,
          0.05764411027568922,
          0.018847138184098576,
          0.005988023952095809,
          null,
          0.020707104334509622,
          0,
          0.032171581769437,
          0.027553576398552743,
          0.024946604268108696,
          0.061231963670988064,
          0.020181818181818183,
          0.026533996683250415,
          0.014392005648183348,
          0.009050319777965488,
          0.1,
          0.0224969598702878,
          0.029044585987261146
         ],
         "yaxis": "y"
        },
        {
         "hovertemplate": "<b>%{hovertext}</b><br><br>Benua=North America<br>Recovery rate=%{x}<br>Mortality rate=%{y}<br>TotalConfirmed=%{marker.size}<extra></extra>",
         "hovertext": [
          "Antigua and Barbuda",
          "Bahamas",
          "Barbados",
          "Belize",
          "Canada",
          "Costa Rica",
          "Cuba",
          "Dominica",
          "Dominican Republic",
          "El Salvador",
          "Grenada",
          "Guatemala",
          "Haiti",
          "Honduras",
          "Jamaica",
          "Mexico",
          "Nicaragua",
          "Panama",
          "Saint Kitts and Nevis",
          "Saint Lucia",
          "Trinidad and Tobago",
          "United States of America"
         ],
         "legendgroup": "North America",
         "marker": {
          "color": "#ab63fa",
          "size": [
           101,
           4123,
           193,
           1992,
           162917,
           76828,
           5670,
           31,
           112728,
           29175,
           24,
           92409,
           8781,
           77598,
           6555,
           748315,
           5170,
           113342,
           19,
           27,
           4570,
           7277759
          ],
          "sizemode": "area",
          "sizeref": 8086.398888888889,
          "symbol": "circle"
         },
         "mode": "markers",
         "name": "North America",
         "orientation": "v",
         "showlegend": true,
         "type": "scatter",
         "x": [
          0.9108910891089109,
          0.5350472956585011,
          0.927461139896373,
          0.6255020080321285,
          0.850420766402524,
          0.5185999895871297,
          0.8680776014109347,
          0.7741935483870968,
          0.7824586615570223,
          0.820222793487575,
          1,
          0.8743737081885964,
          0.786584671449721,
          0.36749658496353,
          0.30373760488176965,
          0.841397005271844,
          0.5634429400386847,
          0.7932011081505532,
          0.8947368421052632,
          1,
          0.5752735229759299,
          0.3930674263877108
         ],
         "xaxis": "x",
         "y": [
          0.0297029702970297,
          0.023284016492845016,
          0.03626943005181347,
          0.01355421686746988,
          0.05749553453599072,
          0.01193575259020149,
          0.021516754850088183,
          0,
          0.01869987935561706,
          0.02906598114824336,
          0,
          0.03528877057429471,
          0.026079034278555974,
          0.030670893579731438,
          0.016933638443935927,
          0.10433841363596881,
          0.02920696324951644,
          0.021060154223500556,
          0,
          0,
          0.01663019693654267,
          0.028551233971886126
         ],
         "yaxis": "y"
        },
        {
         "hovertemplate": "<b>%{hovertext}</b><br><br>Benua=South America<br>Recovery rate=%{x}<br>Mortality rate=%{y}<br>TotalConfirmed=%{marker.size}<extra></extra>",
         "hovertext": [
          "Argentina",
          "Bolivia",
          "Brazil",
          "Chile",
          "Colombia",
          "Ecuador",
          "Guyana",
          "Paraguay",
          "Peru",
          "Suriname",
          "Uruguay"
         ],
         "legendgroup": "South America",
         "marker": {
          "color": "#FFA15A",
          "size": [
           765002,
           135716,
           4847092,
           464750,
           835339,
           138584,
           2929,
           41799,
           814829,
           4891,
           2061
          ],
          "sizemode": "area",
          "sizeref": 8086.398888888889,
          "symbol": "circle"
         },
         "mode": "markers",
         "name": "South America",
         "orientation": "v",
         "showlegend": true,
         "type": "scatter",
         "x": [
          0.7884162394346681,
          0.7085752601019777,
          0.8870594987675084,
          0.9427606239913933,
          0.8998634087478258,
          0.8103099924955262,
          0.600887674974394,
          0.6020957439173186,
          0.8474514284592227,
          0.9613575955837252,
          0.8777292576419214
         ],
         "xaxis": "x",
         "y": [
          0.02652019210407293,
          0.05895399216009903,
          0.029848824821150494,
          0.027589026358257128,
          0.03135972341767833,
          0.08249870114876176,
          0.02799590303857972,
          0.02078997105193904,
          0.03984026096272961,
          0.021468002453485995,
          0.023289665211062592
         ],
         "yaxis": "y"
        },
        {
         "hovertemplate": "<b>%{hovertext}</b><br><br>Benua=Oceania<br>Recovery rate=%{x}<br>Mortality rate=%{y}<br>TotalConfirmed=%{marker.size}<extra></extra>",
         "hovertext": [
          "Australia",
          "Fiji",
          "New Zealand",
          "Papua New Guinea"
         ],
         "legendgroup": "Oceania",
         "marker": {
          "color": "#19d3f3",
          "size": [
           27109,
           32,
           1848,
           539
          ],
          "sizemode": "area",
          "sizeref": 8086.398888888889,
          "symbol": "circle"
         },
         "mode": "markers",
         "name": "Oceania",
         "orientation": "v",
         "showlegend": true,
         "type": "scatter",
         "x": [
          0.9143089011029547,
          0.875,
          0.9632034632034632,
          0.9628942486085343
         ],
         "xaxis": "x",
         "y": [
          0.03283042532000443,
          0.0625,
          0.013528138528138528,
          0.012987012987012988
         ],
         "yaxis": "y"
        }
       ],
       "layout": {
        "legend": {
         "itemsizing": "constant",
         "title": {
          "text": "Benua"
         },
         "tracegroupgap": 0
        },
        "margin": {
         "t": 60
        },
        "template": {
         "data": {
          "bar": [
           {
            "error_x": {
             "color": "#2a3f5f"
            },
            "error_y": {
             "color": "#2a3f5f"
            },
            "marker": {
             "line": {
              "color": "#E5ECF6",
              "width": 0.5
             }
            },
            "type": "bar"
           }
          ],
          "barpolar": [
           {
            "marker": {
             "line": {
              "color": "#E5ECF6",
              "width": 0.5
             }
            },
            "type": "barpolar"
           }
          ],
          "carpet": [
           {
            "aaxis": {
             "endlinecolor": "#2a3f5f",
             "gridcolor": "white",
             "linecolor": "white",
             "minorgridcolor": "white",
             "startlinecolor": "#2a3f5f"
            },
            "baxis": {
             "endlinecolor": "#2a3f5f",
             "gridcolor": "white",
             "linecolor": "white",
             "minorgridcolor": "white",
             "startlinecolor": "#2a3f5f"
            },
            "type": "carpet"
           }
          ],
          "choropleth": [
           {
            "colorbar": {
             "outlinewidth": 0,
             "ticks": ""
            },
            "type": "choropleth"
           }
          ],
          "contour": [
           {
            "colorbar": {
             "outlinewidth": 0,
             "ticks": ""
            },
            "colorscale": [
             [
              0,
              "#0d0887"
             ],
             [
              0.1111111111111111,
              "#46039f"
             ],
             [
              0.2222222222222222,
              "#7201a8"
             ],
             [
              0.3333333333333333,
              "#9c179e"
             ],
             [
              0.4444444444444444,
              "#bd3786"
             ],
             [
              0.5555555555555556,
              "#d8576b"
             ],
             [
              0.6666666666666666,
              "#ed7953"
             ],
             [
              0.7777777777777778,
              "#fb9f3a"
             ],
             [
              0.8888888888888888,
              "#fdca26"
             ],
             [
              1,
              "#f0f921"
             ]
            ],
            "type": "contour"
           }
          ],
          "contourcarpet": [
           {
            "colorbar": {
             "outlinewidth": 0,
             "ticks": ""
            },
            "type": "contourcarpet"
           }
          ],
          "heatmap": [
           {
            "colorbar": {
             "outlinewidth": 0,
             "ticks": ""
            },
            "colorscale": [
             [
              0,
              "#0d0887"
             ],
             [
              0.1111111111111111,
              "#46039f"
             ],
             [
              0.2222222222222222,
              "#7201a8"
             ],
             [
              0.3333333333333333,
              "#9c179e"
             ],
             [
              0.4444444444444444,
              "#bd3786"
             ],
             [
              0.5555555555555556,
              "#d8576b"
             ],
             [
              0.6666666666666666,
              "#ed7953"
             ],
             [
              0.7777777777777778,
              "#fb9f3a"
             ],
             [
              0.8888888888888888,
              "#fdca26"
             ],
             [
              1,
              "#f0f921"
             ]
            ],
            "type": "heatmap"
           }
          ],
          "heatmapgl": [
           {
            "colorbar": {
             "outlinewidth": 0,
             "ticks": ""
            },
            "colorscale": [
             [
              0,
              "#0d0887"
             ],
             [
              0.1111111111111111,
              "#46039f"
             ],
             [
              0.2222222222222222,
              "#7201a8"
             ],
             [
              0.3333333333333333,
              "#9c179e"
             ],
             [
              0.4444444444444444,
              "#bd3786"
             ],
             [
              0.5555555555555556,
              "#d8576b"
             ],
             [
              0.6666666666666666,
              "#ed7953"
             ],
             [
              0.7777777777777778,
              "#fb9f3a"
             ],
             [
              0.8888888888888888,
              "#fdca26"
             ],
             [
              1,
              "#f0f921"
             ]
            ],
            "type": "heatmapgl"
           }
          ],
          "histogram": [
           {
            "marker": {
             "colorbar": {
              "outlinewidth": 0,
              "ticks": ""
             }
            },
            "type": "histogram"
           }
          ],
          "histogram2d": [
           {
            "colorbar": {
             "outlinewidth": 0,
             "ticks": ""
            },
            "colorscale": [
             [
              0,
              "#0d0887"
             ],
             [
              0.1111111111111111,
              "#46039f"
             ],
             [
              0.2222222222222222,
              "#7201a8"
             ],
             [
              0.3333333333333333,
              "#9c179e"
             ],
             [
              0.4444444444444444,
              "#bd3786"
             ],
             [
              0.5555555555555556,
              "#d8576b"
             ],
             [
              0.6666666666666666,
              "#ed7953"
             ],
             [
              0.7777777777777778,
              "#fb9f3a"
             ],
             [
              0.8888888888888888,
              "#fdca26"
             ],
             [
              1,
              "#f0f921"
             ]
            ],
            "type": "histogram2d"
           }
          ],
          "histogram2dcontour": [
           {
            "colorbar": {
             "outlinewidth": 0,
             "ticks": ""
            },
            "colorscale": [
             [
              0,
              "#0d0887"
             ],
             [
              0.1111111111111111,
              "#46039f"
             ],
             [
              0.2222222222222222,
              "#7201a8"
             ],
             [
              0.3333333333333333,
              "#9c179e"
             ],
             [
              0.4444444444444444,
              "#bd3786"
             ],
             [
              0.5555555555555556,
              "#d8576b"
             ],
             [
              0.6666666666666666,
              "#ed7953"
             ],
             [
              0.7777777777777778,
              "#fb9f3a"
             ],
             [
              0.8888888888888888,
              "#fdca26"
             ],
             [
              1,
              "#f0f921"
             ]
            ],
            "type": "histogram2dcontour"
           }
          ],
          "mesh3d": [
           {
            "colorbar": {
             "outlinewidth": 0,
             "ticks": ""
            },
            "type": "mesh3d"
           }
          ],
          "parcoords": [
           {
            "line": {
             "colorbar": {
              "outlinewidth": 0,
              "ticks": ""
             }
            },
            "type": "parcoords"
           }
          ],
          "pie": [
           {
            "automargin": true,
            "type": "pie"
           }
          ],
          "scatter": [
           {
            "marker": {
             "colorbar": {
              "outlinewidth": 0,
              "ticks": ""
             }
            },
            "type": "scatter"
           }
          ],
          "scatter3d": [
           {
            "line": {
             "colorbar": {
              "outlinewidth": 0,
              "ticks": ""
             }
            },
            "marker": {
             "colorbar": {
              "outlinewidth": 0,
              "ticks": ""
             }
            },
            "type": "scatter3d"
           }
          ],
          "scattercarpet": [
           {
            "marker": {
             "colorbar": {
              "outlinewidth": 0,
              "ticks": ""
             }
            },
            "type": "scattercarpet"
           }
          ],
          "scattergeo": [
           {
            "marker": {
             "colorbar": {
              "outlinewidth": 0,
              "ticks": ""
             }
            },
            "type": "scattergeo"
           }
          ],
          "scattergl": [
           {
            "marker": {
             "colorbar": {
              "outlinewidth": 0,
              "ticks": ""
             }
            },
            "type": "scattergl"
           }
          ],
          "scattermapbox": [
           {
            "marker": {
             "colorbar": {
              "outlinewidth": 0,
              "ticks": ""
             }
            },
            "type": "scattermapbox"
           }
          ],
          "scatterpolar": [
           {
            "marker": {
             "colorbar": {
              "outlinewidth": 0,
              "ticks": ""
             }
            },
            "type": "scatterpolar"
           }
          ],
          "scatterpolargl": [
           {
            "marker": {
             "colorbar": {
              "outlinewidth": 0,
              "ticks": ""
             }
            },
            "type": "scatterpolargl"
           }
          ],
          "scatterternary": [
           {
            "marker": {
             "colorbar": {
              "outlinewidth": 0,
              "ticks": ""
             }
            },
            "type": "scatterternary"
           }
          ],
          "surface": [
           {
            "colorbar": {
             "outlinewidth": 0,
             "ticks": ""
            },
            "colorscale": [
             [
              0,
              "#0d0887"
             ],
             [
              0.1111111111111111,
              "#46039f"
             ],
             [
              0.2222222222222222,
              "#7201a8"
             ],
             [
              0.3333333333333333,
              "#9c179e"
             ],
             [
              0.4444444444444444,
              "#bd3786"
             ],
             [
              0.5555555555555556,
              "#d8576b"
             ],
             [
              0.6666666666666666,
              "#ed7953"
             ],
             [
              0.7777777777777778,
              "#fb9f3a"
             ],
             [
              0.8888888888888888,
              "#fdca26"
             ],
             [
              1,
              "#f0f921"
             ]
            ],
            "type": "surface"
           }
          ],
          "table": [
           {
            "cells": {
             "fill": {
              "color": "#EBF0F8"
             },
             "line": {
              "color": "white"
             }
            },
            "header": {
             "fill": {
              "color": "#C8D4E3"
             },
             "line": {
              "color": "white"
             }
            },
            "type": "table"
           }
          ]
         },
         "layout": {
          "annotationdefaults": {
           "arrowcolor": "#2a3f5f",
           "arrowhead": 0,
           "arrowwidth": 1
          },
          "coloraxis": {
           "colorbar": {
            "outlinewidth": 0,
            "ticks": ""
           }
          },
          "colorscale": {
           "diverging": [
            [
             0,
             "#8e0152"
            ],
            [
             0.1,
             "#c51b7d"
            ],
            [
             0.2,
             "#de77ae"
            ],
            [
             0.3,
             "#f1b6da"
            ],
            [
             0.4,
             "#fde0ef"
            ],
            [
             0.5,
             "#f7f7f7"
            ],
            [
             0.6,
             "#e6f5d0"
            ],
            [
             0.7,
             "#b8e186"
            ],
            [
             0.8,
             "#7fbc41"
            ],
            [
             0.9,
             "#4d9221"
            ],
            [
             1,
             "#276419"
            ]
           ],
           "sequential": [
            [
             0,
             "#0d0887"
            ],
            [
             0.1111111111111111,
             "#46039f"
            ],
            [
             0.2222222222222222,
             "#7201a8"
            ],
            [
             0.3333333333333333,
             "#9c179e"
            ],
            [
             0.4444444444444444,
             "#bd3786"
            ],
            [
             0.5555555555555556,
             "#d8576b"
            ],
            [
             0.6666666666666666,
             "#ed7953"
            ],
            [
             0.7777777777777778,
             "#fb9f3a"
            ],
            [
             0.8888888888888888,
             "#fdca26"
            ],
            [
             1,
             "#f0f921"
            ]
           ],
           "sequentialminus": [
            [
             0,
             "#0d0887"
            ],
            [
             0.1111111111111111,
             "#46039f"
            ],
            [
             0.2222222222222222,
             "#7201a8"
            ],
            [
             0.3333333333333333,
             "#9c179e"
            ],
            [
             0.4444444444444444,
             "#bd3786"
            ],
            [
             0.5555555555555556,
             "#d8576b"
            ],
            [
             0.6666666666666666,
             "#ed7953"
            ],
            [
             0.7777777777777778,
             "#fb9f3a"
            ],
            [
             0.8888888888888888,
             "#fdca26"
            ],
            [
             1,
             "#f0f921"
            ]
           ]
          },
          "colorway": [
           "#636efa",
           "#EF553B",
           "#00cc96",
           "#ab63fa",
           "#FFA15A",
           "#19d3f3",
           "#FF6692",
           "#B6E880",
           "#FF97FF",
           "#FECB52"
          ],
          "font": {
           "color": "#2a3f5f"
          },
          "geo": {
           "bgcolor": "white",
           "lakecolor": "white",
           "landcolor": "#E5ECF6",
           "showlakes": true,
           "showland": true,
           "subunitcolor": "white"
          },
          "hoverlabel": {
           "align": "left"
          },
          "hovermode": "closest",
          "mapbox": {
           "style": "light"
          },
          "paper_bgcolor": "white",
          "plot_bgcolor": "#E5ECF6",
          "polar": {
           "angularaxis": {
            "gridcolor": "white",
            "linecolor": "white",
            "ticks": ""
           },
           "bgcolor": "#E5ECF6",
           "radialaxis": {
            "gridcolor": "white",
            "linecolor": "white",
            "ticks": ""
           }
          },
          "scene": {
           "xaxis": {
            "backgroundcolor": "#E5ECF6",
            "gridcolor": "white",
            "gridwidth": 2,
            "linecolor": "white",
            "showbackground": true,
            "ticks": "",
            "zerolinecolor": "white"
           },
           "yaxis": {
            "backgroundcolor": "#E5ECF6",
            "gridcolor": "white",
            "gridwidth": 2,
            "linecolor": "white",
            "showbackground": true,
            "ticks": "",
            "zerolinecolor": "white"
           },
           "zaxis": {
            "backgroundcolor": "#E5ECF6",
            "gridcolor": "white",
            "gridwidth": 2,
            "linecolor": "white",
            "showbackground": true,
            "ticks": "",
            "zerolinecolor": "white"
           }
          },
          "shapedefaults": {
           "line": {
            "color": "#2a3f5f"
           }
          },
          "ternary": {
           "aaxis": {
            "gridcolor": "white",
            "linecolor": "white",
            "ticks": ""
           },
           "baxis": {
            "gridcolor": "white",
            "linecolor": "white",
            "ticks": ""
           },
           "bgcolor": "#E5ECF6",
           "caxis": {
            "gridcolor": "white",
            "linecolor": "white",
            "ticks": ""
           }
          },
          "title": {
           "x": 0.05
          },
          "xaxis": {
           "automargin": true,
           "gridcolor": "white",
           "linecolor": "white",
           "ticks": "",
           "title": {
            "standoff": 15
           },
           "zerolinecolor": "white",
           "zerolinewidth": 2
          },
          "yaxis": {
           "automargin": true,
           "gridcolor": "white",
           "linecolor": "white",
           "ticks": "",
           "title": {
            "standoff": 15
           },
           "zerolinecolor": "white",
           "zerolinewidth": 2
          }
         }
        },
        "xaxis": {
         "anchor": "y",
         "domain": [
          0,
          1
         ],
         "title": {
          "text": "Recovery rate"
         }
        },
        "yaxis": {
         "anchor": "x",
         "domain": [
          0,
          1
         ],
         "title": {
          "text": "Mortality rate"
         }
        }
       }
      },
      "text/html": [
       "<div>\n",
       "        \n",
       "        \n",
       "            <div id=\"cd133cfe-2a1d-4988-bbbd-224438c4cd3d\" class=\"plotly-graph-div\" style=\"height:525px; width:100%;\"></div>\n",
       "            <script type=\"text/javascript\">\n",
       "                require([\"plotly\"], function(Plotly) {\n",
       "                    window.PLOTLYENV=window.PLOTLYENV || {};\n",
       "                    \n",
       "                if (document.getElementById(\"cd133cfe-2a1d-4988-bbbd-224438c4cd3d\")) {\n",
       "                    Plotly.newPlot(\n",
       "                        'cd133cfe-2a1d-4988-bbbd-224438c4cd3d',\n",
       "                        [{\"hovertemplate\": \"<b>%{hovertext}</b><br><br>Benua=Asia<br>Recovery rate=%{x}<br>Mortality rate=%{y}<br>TotalConfirmed=%{marker.size}<extra></extra>\", \"hovertext\": [\"Afghanistan\", \"Armenia\", \"Azerbaijan\", \"Bahrain\", \"Bangladesh\", \"Bhutan\", \"Cambodia\", \"China\", \"Cyprus\", \"Georgia\", \"India\", \"Indonesia\", \"Iraq\", \"Israel\", \"Japan\", \"Jordan\", \"Kazakhstan\", \"Kuwait\", \"Kyrgyzstan\", \"Lebanon\", \"Malaysia\", \"Maldives\", \"Mongolia\", \"Nepal\", \"Oman\", \"Pakistan\", \"Philippines\", \"Qatar\", \"Saudi Arabia\", \"Singapore\", \"Sri Lanka\", \"Tajikistan\", \"Thailand\", \"Timor-Leste\", \"Turkey\", \"United Arab Emirates\", \"Uzbekistan\", \"Yemen\"], \"legendgroup\": \"Asia\", \"marker\": {\"color\": \"#636efa\", \"size\": [39285, 50850, 40309, 71374, 364987, 282, 278, 90567, 1772, 6640, 6312584, 291182, 367474, 253490, 84244, 13101, 108044, 105676, 46841, 40882, 11484, 10354, 313, 79728, 98585, 313431, 314079, 125959, 335097, 57784, 3382, 9811, 3575, 28, 320070, 95348, 57190, 2039], \"sizemode\": \"area\", \"sizeref\": 8086.398888888889, \"symbol\": \"circle\"}, \"mode\": \"markers\", \"name\": \"Asia\", \"orientation\": \"v\", \"showlegend\": true, \"type\": \"scatter\", \"x\": [0.8359933816978491, 0.8695968534906588, 0.944404475427324, 0.9184016588673747, 0.7591448462547982, 0.7978723404255319, 0.9892086330935251, 0.9438205969061578, 0.7725733634311512, 0.5149096385542169, 0.8353474583466929, 0.7503451449608836, 0.8051780534133027, 0.7079884808079214, 0.9031028916005888, 0.36272040302267, 0.9535744696605086, 0.9197641848669518, 0.9176362588330735, 0.4428110170735287, 0.8719958202716823, 0.8872899362565192, 0.9808306709265175, 0.7198098535019065, 0.897986509103819, 0.9509429507610926, 0.8094237437077932, 0.9758016497431704, 0.9541893839694178, 0.995292814619964, 0.9559432288586636, 0.8782998674956681, 0.9465734265734266, 1.0, 0.8784047239666323, 0.8904539161807274, 0.9413358978842455, 0.636096125551741], \"xaxis\": \"x\", \"y\": [0.03711340206185567, 0.018938053097345132, 0.01471135478429135, 0.0035587188612099642, 0.014444350072742317, 0.0, 0.0, 0.052325902370620646, 0.012415349887133182, 0.006174698795180723, 0.01563195040256098, 0.037282524331861175, 0.025120144554444668, 0.0063986745039252045, 0.018755044869664308, 0.005266773528738264, 0.015965717670578652, 0.00579128657405655, 0.022736491535193526, 0.009148280416809354, 0.011842563566701497, 0.003283755070504153, 0.0, 0.006384206301424844, 0.009484201450524928, 0.02073502620991542, 0.01770892036716877, 0.0016989655364047032, 0.014306305338454239, 0.00046725737228298493, 0.00384387936132466, 0.007848333503210682, 0.016503496503496504, 0.0, 0.02581310338363483, 0.004415404623064983, 0.008235705542927085, 0.28788621873467385], \"yaxis\": \"y\"}, {\"hovertemplate\": \"<b>%{hovertext}</b><br><br>Benua=Europe<br>Recovery rate=%{x}<br>Mortality rate=%{y}<br>TotalConfirmed=%{marker.size}<extra></extra>\", \"hovertext\": [\"Albania\", \"Andorra\", \"Armenia\", \"Austria\", \"Azerbaijan\", \"Belarus\", \"Belgium\", \"Bosnia and Herzegovina\", \"Bulgaria\", \"Croatia\", \"Cyprus\", \"Czech Republic\", \"Denmark\", \"Estonia\", \"Finland\", \"France\", \"Georgia\", \"Germany\", \"Greece\", \"Hungary\", \"Iceland\", \"Ireland\", \"Italy\", \"Kazakhstan\", \"Latvia\", \"Liechtenstein\", \"Lithuania\", \"Luxembourg\", \"Malta\", \"Moldova\", \"Monaco\", \"Montenegro\", \"Netherlands\", \"Norway\", \"Poland\", \"Portugal\", \"Romania\", \"San Marino\", \"Serbia\", \"Slovakia\", \"Slovenia\", \"Spain\", \"Sweden\", \"Switzerland\", \"Turkey\", \"Ukraine\", \"United Kingdom\"], \"legendgroup\": \"Europe\", \"marker\": {\"color\": \"#EF553B\", \"size\": [13806, 2050, 50850, 45686, 40309, 79019, 121059, 27749, 20833, 16827, 1772, 74255, 28882, 3450, 10103, 616986, 6640, 295539, 18886, 27309, 2769, 36597, 317409, 108044, 1868, 119, 4784, 8595, 3095, 54064, 219, 10987, 124097, 14149, 93481, 76396, 129658, 732, 33662, 10938, 5865, 778607, 93615, 53832, 320070, 218625, 462775], \"sizemode\": \"area\", \"sizeref\": 8086.398888888889, \"symbol\": \"circle\"}, \"mode\": \"markers\", \"name\": \"Europe\", \"orientation\": \"v\", \"showlegend\": true, \"type\": \"scatter\", \"x\": [0.5850354918151528, 0.6985365853658536, 0.8695968534906588, 0.7984065140305564, 0.944404475427324, 0.9463167086396943, 0.16125195152776745, 0.7548740495152978, 0.7024432390918255, 0.9043798656920425, 0.7725733634311512, 0.46038650595919467, 0.7531334395124991, 0.7660869565217391, 0.8017420568148075, 0.1607070500789321, 0.5149096385542169, 0.8737256335035308, 0.07132267287938156, 0.22402870848438244, 0.7862044059227158, 0.6384129846708747, 0.7209751456322915, 0.9535744696605086, 0.699678800856531, 0.957983193277311, 0.5066889632107023, 0.8470040721349622, 0.8416801292407108, 0.7305970701390944, 0.8538812785388128, 0.6732502047874761, 0.0, 0.7908686126228002, 0.753104909018945, 0.6405701869207812, 0.8020638911598205, 0.9289617486338798, 0.0, 0.4223806911684037, 0.6659846547314578, 0.1931346622879065, 0.0, 0.8415069103878734, 0.8784047239666323, 0.4480548885077187, 0.005149370644481659], \"xaxis\": \"x\", \"y\": [0.028103723018977258, 0.025853658536585365, 0.018938053097345132, 0.017554611916123102, 0.01471135478429135, 0.010617699540616813, 0.08279433994994176, 0.031028145158384087, 0.03960063361013776, 0.016877637130801686, 0.012415349887133182, 0.009130698269476803, 0.022539990305380515, 0.01884057971014493, 0.034049292289418984, 0.05192014081356789, 0.006174698795180723, 0.03217511056070434, 0.020809064915810655, 0.02859863048811747, 0.0036114120621162874, 0.04934830723829822, 0.11315999231275736, 0.015965717670578652, 0.01980728051391863, 0.008403361344537815, 0.019230769230769232, 0.014543339150668994, 0.011308562197092083, 0.024711453092630956, 0.0091324200913242, 0.015472831528169655, 0.05172566621272069, 0.01936532617146088, 0.02720338892395246, 0.02587831823655689, 0.0374986502953925, 0.05737704918032787, 0.022280316083417503, 0.004388370817334065, 0.025916453537936913, 0.04106436238050775, 0.06294931367836351, 0.038527270025263786, 0.02581310338363483, 0.01961349342481418, 0.09138782345632326], \"yaxis\": \"y\"}, {\"hovertemplate\": \"<b>%{hovertext}</b><br><br>Benua=Africa<br>Recovery rate=%{x}<br>Mortality rate=%{y}<br>TotalConfirmed=%{marker.size}<extra></extra>\", \"hovertext\": [\"Algeria\", \"Angola\", \"Benin\", \"Botswana\", \"Burkina Faso\", \"Burundi\", \"Cameroon\", \"Cape Verde\", \"Central African Republic\", \"Chad\", \"Comoros\", \"C\\u00f4te d'Ivoire\", \"Djibouti\", \"Egypt\", \"Equatorial Guinea\", \"Eritrea\", \"Ethiopia\", \"Gabon\", \"Gambia\", \"Ghana\", \"Guinea\", \"Guinea-Bissau\", \"Kenya\", \"Lesotho\", \"Liberia\", \"Libya\", \"Madagascar\", \"Malawi\", \"Mali\", \"Mauritania\", \"Mauritius\", \"Morocco\", \"Mozambique\", \"Niger\", \"Nigeria\", \"Rwanda\", \"R\\u00e9union\", \"Senegal\", \"Seychelles\", \"Sierra Leone\", \"Somalia\", \"South Africa\", \"Sudan\", \"Swaziland\", \"Togo\", \"Tunisia\", \"Uganda\", \"Western Sahara\", \"Zambia\", \"Zimbabwe\"], \"legendgroup\": \"Africa\", \"marker\": {\"color\": \"#00cc96\", \"size\": [51690, 5114, 2357, 3172, 2088, 510, 20838, 6126, 4829, 1203, 484, 19755, 5417, 103317, 5045, 381, 76098, 8766, 3584, 46656, 10652, 2324, 38713, 1639, 1343, 35208, 16454, 5779, 3131, 7505, 381, 126044, 8888, 1197, 59001, 4843, 0, 15019, 144, 2238, 3593, 676084, 13653, 5500, 1809, 18413, 8287, 10, 14802, 7850], \"sizemode\": \"area\", \"sizeref\": 8086.398888888889, \"symbol\": \"circle\"}, \"mode\": \"markers\", \"name\": \"Africa\", \"orientation\": \"v\", \"showlegend\": true, \"type\": \"scatter\", \"x\": [0.7019152640742891, 0.40711771607352365, 0.8370810352142554, 0.22383354350567466, 0.6527777777777778, 0.9254901960784314, 0.9329110279297438, 0.871367939928175, 0.39635535307517084, 0.8869492934330839, 0.9628099173553719, 0.9779802581624905, 0.9868931142698911, 0.9374546299253753, 0.9670961347869177, 0.926509186351706, 0.4130200530894373, 0.9131873146246863, 0.6183035714285714, 0.9846965020576132, 0.9384153210664664, 0.6665232358003442, 0.6434014413762819, 0.5332519829164124, 0.9091586001489204, 0.5650420359009316, 0.9377658927920263, 0.7811039972313549, 0.7856914723730437, 0.9510992671552299, 0.9028871391076115, 0.8261876804925264, 0.6270252025202521, 0.9306599832915622, 0.8551041507771054, 0.6568242824695437, null, 0.8348092416272721, 0.9930555555555556, 0.7573726541554959, 0.835235179515725, 0.9016394412528621, 0.4954222515198125, 0.9090909090909091, 0.7479270315091211, 0.27328517894965515, 0.5345722215518282, 0.8, 0.9431833536008647, 0.8040764331210191], \"xaxis\": \"x\", \"y\": [0.03368156316502225, 0.03617520531873289, 0.017394993635977938, 0.005044136191677175, 0.027777777777777776, 0.00196078431372549, 0.02005950667050581, 0.009957557949722494, 0.012839097121557258, 0.07065669160432253, 0.014462809917355372, 0.006074411541381929, 0.011260845486431604, 0.05755103225993786, 0.01645193260654113, 0.0, 0.015834844542563536, 0.006160164271047228, 0.031529017857142856, 0.0064514746227709195, 0.006196019526849418, 0.016781411359724614, 0.018365923591558392, 0.023184868822452714, 0.06105733432613552, 0.015877073392410814, 0.014099914914306552, 0.030974216992559266, 0.04183966783775152, 0.02145236508994004, 0.026246719160104987, 0.017684300720383357, 0.006975697569756975, 0.05764411027568922, 0.018847138184098576, 0.005988023952095809, null, 0.020707104334509622, 0.0, 0.032171581769437, 0.027553576398552743, 0.024946604268108696, 0.061231963670988064, 0.020181818181818183, 0.026533996683250415, 0.014392005648183348, 0.009050319777965488, 0.1, 0.0224969598702878, 0.029044585987261146], \"yaxis\": \"y\"}, {\"hovertemplate\": \"<b>%{hovertext}</b><br><br>Benua=North America<br>Recovery rate=%{x}<br>Mortality rate=%{y}<br>TotalConfirmed=%{marker.size}<extra></extra>\", \"hovertext\": [\"Antigua and Barbuda\", \"Bahamas\", \"Barbados\", \"Belize\", \"Canada\", \"Costa Rica\", \"Cuba\", \"Dominica\", \"Dominican Republic\", \"El Salvador\", \"Grenada\", \"Guatemala\", \"Haiti\", \"Honduras\", \"Jamaica\", \"Mexico\", \"Nicaragua\", \"Panama\", \"Saint Kitts and Nevis\", \"Saint Lucia\", \"Trinidad and Tobago\", \"United States of America\"], \"legendgroup\": \"North America\", \"marker\": {\"color\": \"#ab63fa\", \"size\": [101, 4123, 193, 1992, 162917, 76828, 5670, 31, 112728, 29175, 24, 92409, 8781, 77598, 6555, 748315, 5170, 113342, 19, 27, 4570, 7277759], \"sizemode\": \"area\", \"sizeref\": 8086.398888888889, \"symbol\": \"circle\"}, \"mode\": \"markers\", \"name\": \"North America\", \"orientation\": \"v\", \"showlegend\": true, \"type\": \"scatter\", \"x\": [0.9108910891089109, 0.5350472956585011, 0.927461139896373, 0.6255020080321285, 0.850420766402524, 0.5185999895871297, 0.8680776014109347, 0.7741935483870968, 0.7824586615570223, 0.820222793487575, 1.0, 0.8743737081885964, 0.786584671449721, 0.36749658496353, 0.30373760488176965, 0.841397005271844, 0.5634429400386847, 0.7932011081505532, 0.8947368421052632, 1.0, 0.5752735229759299, 0.3930674263877108], \"xaxis\": \"x\", \"y\": [0.0297029702970297, 0.023284016492845016, 0.03626943005181347, 0.01355421686746988, 0.05749553453599072, 0.01193575259020149, 0.021516754850088183, 0.0, 0.01869987935561706, 0.02906598114824336, 0.0, 0.03528877057429471, 0.026079034278555974, 0.030670893579731438, 0.016933638443935927, 0.10433841363596881, 0.02920696324951644, 0.021060154223500556, 0.0, 0.0, 0.01663019693654267, 0.028551233971886126], \"yaxis\": \"y\"}, {\"hovertemplate\": \"<b>%{hovertext}</b><br><br>Benua=South America<br>Recovery rate=%{x}<br>Mortality rate=%{y}<br>TotalConfirmed=%{marker.size}<extra></extra>\", \"hovertext\": [\"Argentina\", \"Bolivia\", \"Brazil\", \"Chile\", \"Colombia\", \"Ecuador\", \"Guyana\", \"Paraguay\", \"Peru\", \"Suriname\", \"Uruguay\"], \"legendgroup\": \"South America\", \"marker\": {\"color\": \"#FFA15A\", \"size\": [765002, 135716, 4847092, 464750, 835339, 138584, 2929, 41799, 814829, 4891, 2061], \"sizemode\": \"area\", \"sizeref\": 8086.398888888889, \"symbol\": \"circle\"}, \"mode\": \"markers\", \"name\": \"South America\", \"orientation\": \"v\", \"showlegend\": true, \"type\": \"scatter\", \"x\": [0.7884162394346681, 0.7085752601019777, 0.8870594987675084, 0.9427606239913933, 0.8998634087478258, 0.8103099924955262, 0.600887674974394, 0.6020957439173186, 0.8474514284592227, 0.9613575955837252, 0.8777292576419214], \"xaxis\": \"x\", \"y\": [0.02652019210407293, 0.05895399216009903, 0.029848824821150494, 0.027589026358257128, 0.03135972341767833, 0.08249870114876176, 0.02799590303857972, 0.02078997105193904, 0.03984026096272961, 0.021468002453485995, 0.023289665211062592], \"yaxis\": \"y\"}, {\"hovertemplate\": \"<b>%{hovertext}</b><br><br>Benua=Oceania<br>Recovery rate=%{x}<br>Mortality rate=%{y}<br>TotalConfirmed=%{marker.size}<extra></extra>\", \"hovertext\": [\"Australia\", \"Fiji\", \"New Zealand\", \"Papua New Guinea\"], \"legendgroup\": \"Oceania\", \"marker\": {\"color\": \"#19d3f3\", \"size\": [27109, 32, 1848, 539], \"sizemode\": \"area\", \"sizeref\": 8086.398888888889, \"symbol\": \"circle\"}, \"mode\": \"markers\", \"name\": \"Oceania\", \"orientation\": \"v\", \"showlegend\": true, \"type\": \"scatter\", \"x\": [0.9143089011029547, 0.875, 0.9632034632034632, 0.9628942486085343], \"xaxis\": \"x\", \"y\": [0.03283042532000443, 0.0625, 0.013528138528138528, 0.012987012987012988], \"yaxis\": \"y\"}],\n",
       "                        {\"legend\": {\"itemsizing\": \"constant\", \"title\": {\"text\": \"Benua\"}, \"tracegroupgap\": 0}, \"margin\": {\"t\": 60}, \"template\": {\"data\": {\"bar\": [{\"error_x\": {\"color\": \"#2a3f5f\"}, \"error_y\": {\"color\": \"#2a3f5f\"}, \"marker\": {\"line\": {\"color\": \"#E5ECF6\", \"width\": 0.5}}, \"type\": \"bar\"}], \"barpolar\": [{\"marker\": {\"line\": {\"color\": \"#E5ECF6\", \"width\": 0.5}}, \"type\": \"barpolar\"}], \"carpet\": [{\"aaxis\": {\"endlinecolor\": \"#2a3f5f\", \"gridcolor\": \"white\", \"linecolor\": \"white\", \"minorgridcolor\": \"white\", \"startlinecolor\": \"#2a3f5f\"}, \"baxis\": {\"endlinecolor\": \"#2a3f5f\", \"gridcolor\": \"white\", \"linecolor\": \"white\", \"minorgridcolor\": \"white\", \"startlinecolor\": \"#2a3f5f\"}, \"type\": \"carpet\"}], \"choropleth\": [{\"colorbar\": {\"outlinewidth\": 0, \"ticks\": \"\"}, \"type\": \"choropleth\"}], \"contour\": [{\"colorbar\": {\"outlinewidth\": 0, \"ticks\": \"\"}, \"colorscale\": [[0.0, \"#0d0887\"], [0.1111111111111111, \"#46039f\"], [0.2222222222222222, \"#7201a8\"], [0.3333333333333333, \"#9c179e\"], [0.4444444444444444, \"#bd3786\"], [0.5555555555555556, \"#d8576b\"], [0.6666666666666666, \"#ed7953\"], [0.7777777777777778, \"#fb9f3a\"], [0.8888888888888888, \"#fdca26\"], [1.0, \"#f0f921\"]], \"type\": \"contour\"}], \"contourcarpet\": [{\"colorbar\": {\"outlinewidth\": 0, \"ticks\": \"\"}, \"type\": \"contourcarpet\"}], \"heatmap\": [{\"colorbar\": {\"outlinewidth\": 0, \"ticks\": \"\"}, \"colorscale\": [[0.0, \"#0d0887\"], [0.1111111111111111, \"#46039f\"], [0.2222222222222222, \"#7201a8\"], [0.3333333333333333, \"#9c179e\"], [0.4444444444444444, \"#bd3786\"], [0.5555555555555556, \"#d8576b\"], [0.6666666666666666, \"#ed7953\"], [0.7777777777777778, \"#fb9f3a\"], [0.8888888888888888, \"#fdca26\"], [1.0, \"#f0f921\"]], \"type\": \"heatmap\"}], \"heatmapgl\": [{\"colorbar\": {\"outlinewidth\": 0, \"ticks\": \"\"}, \"colorscale\": [[0.0, \"#0d0887\"], [0.1111111111111111, \"#46039f\"], [0.2222222222222222, \"#7201a8\"], [0.3333333333333333, \"#9c179e\"], [0.4444444444444444, \"#bd3786\"], [0.5555555555555556, \"#d8576b\"], [0.6666666666666666, \"#ed7953\"], [0.7777777777777778, \"#fb9f3a\"], [0.8888888888888888, \"#fdca26\"], [1.0, \"#f0f921\"]], \"type\": \"heatmapgl\"}], \"histogram\": [{\"marker\": {\"colorbar\": {\"outlinewidth\": 0, \"ticks\": \"\"}}, \"type\": \"histogram\"}], \"histogram2d\": [{\"colorbar\": {\"outlinewidth\": 0, \"ticks\": \"\"}, \"colorscale\": [[0.0, \"#0d0887\"], [0.1111111111111111, \"#46039f\"], [0.2222222222222222, \"#7201a8\"], [0.3333333333333333, \"#9c179e\"], [0.4444444444444444, \"#bd3786\"], [0.5555555555555556, \"#d8576b\"], [0.6666666666666666, \"#ed7953\"], [0.7777777777777778, \"#fb9f3a\"], [0.8888888888888888, \"#fdca26\"], [1.0, \"#f0f921\"]], \"type\": \"histogram2d\"}], \"histogram2dcontour\": [{\"colorbar\": {\"outlinewidth\": 0, \"ticks\": \"\"}, \"colorscale\": [[0.0, \"#0d0887\"], [0.1111111111111111, \"#46039f\"], [0.2222222222222222, \"#7201a8\"], [0.3333333333333333, \"#9c179e\"], [0.4444444444444444, \"#bd3786\"], [0.5555555555555556, \"#d8576b\"], [0.6666666666666666, \"#ed7953\"], [0.7777777777777778, \"#fb9f3a\"], [0.8888888888888888, \"#fdca26\"], [1.0, \"#f0f921\"]], \"type\": \"histogram2dcontour\"}], \"mesh3d\": [{\"colorbar\": {\"outlinewidth\": 0, \"ticks\": \"\"}, \"type\": \"mesh3d\"}], \"parcoords\": [{\"line\": {\"colorbar\": {\"outlinewidth\": 0, \"ticks\": \"\"}}, \"type\": \"parcoords\"}], \"pie\": [{\"automargin\": true, \"type\": \"pie\"}], \"scatter\": [{\"marker\": {\"colorbar\": {\"outlinewidth\": 0, \"ticks\": \"\"}}, \"type\": \"scatter\"}], \"scatter3d\": [{\"line\": {\"colorbar\": {\"outlinewidth\": 0, \"ticks\": \"\"}}, \"marker\": {\"colorbar\": {\"outlinewidth\": 0, \"ticks\": \"\"}}, \"type\": \"scatter3d\"}], \"scattercarpet\": [{\"marker\": {\"colorbar\": {\"outlinewidth\": 0, \"ticks\": \"\"}}, \"type\": \"scattercarpet\"}], \"scattergeo\": [{\"marker\": {\"colorbar\": {\"outlinewidth\": 0, \"ticks\": \"\"}}, \"type\": \"scattergeo\"}], \"scattergl\": [{\"marker\": {\"colorbar\": {\"outlinewidth\": 0, \"ticks\": \"\"}}, \"type\": \"scattergl\"}], \"scattermapbox\": [{\"marker\": {\"colorbar\": {\"outlinewidth\": 0, \"ticks\": \"\"}}, \"type\": \"scattermapbox\"}], \"scatterpolar\": [{\"marker\": {\"colorbar\": {\"outlinewidth\": 0, \"ticks\": \"\"}}, \"type\": \"scatterpolar\"}], \"scatterpolargl\": [{\"marker\": {\"colorbar\": {\"outlinewidth\": 0, \"ticks\": \"\"}}, \"type\": \"scatterpolargl\"}], \"scatterternary\": [{\"marker\": {\"colorbar\": {\"outlinewidth\": 0, \"ticks\": \"\"}}, \"type\": \"scatterternary\"}], \"surface\": [{\"colorbar\": {\"outlinewidth\": 0, \"ticks\": \"\"}, \"colorscale\": [[0.0, \"#0d0887\"], [0.1111111111111111, \"#46039f\"], [0.2222222222222222, \"#7201a8\"], [0.3333333333333333, \"#9c179e\"], [0.4444444444444444, \"#bd3786\"], [0.5555555555555556, \"#d8576b\"], [0.6666666666666666, \"#ed7953\"], [0.7777777777777778, \"#fb9f3a\"], [0.8888888888888888, \"#fdca26\"], [1.0, \"#f0f921\"]], \"type\": \"surface\"}], \"table\": [{\"cells\": {\"fill\": {\"color\": \"#EBF0F8\"}, \"line\": {\"color\": \"white\"}}, \"header\": {\"fill\": {\"color\": \"#C8D4E3\"}, \"line\": {\"color\": \"white\"}}, \"type\": \"table\"}]}, \"layout\": {\"annotationdefaults\": {\"arrowcolor\": \"#2a3f5f\", \"arrowhead\": 0, \"arrowwidth\": 1}, \"coloraxis\": {\"colorbar\": {\"outlinewidth\": 0, \"ticks\": \"\"}}, \"colorscale\": {\"diverging\": [[0, \"#8e0152\"], [0.1, \"#c51b7d\"], [0.2, \"#de77ae\"], [0.3, \"#f1b6da\"], [0.4, \"#fde0ef\"], [0.5, \"#f7f7f7\"], [0.6, \"#e6f5d0\"], [0.7, \"#b8e186\"], [0.8, \"#7fbc41\"], [0.9, \"#4d9221\"], [1, \"#276419\"]], \"sequential\": [[0.0, \"#0d0887\"], [0.1111111111111111, \"#46039f\"], [0.2222222222222222, \"#7201a8\"], [0.3333333333333333, \"#9c179e\"], [0.4444444444444444, \"#bd3786\"], [0.5555555555555556, \"#d8576b\"], [0.6666666666666666, \"#ed7953\"], [0.7777777777777778, \"#fb9f3a\"], [0.8888888888888888, \"#fdca26\"], [1.0, \"#f0f921\"]], \"sequentialminus\": [[0.0, \"#0d0887\"], [0.1111111111111111, \"#46039f\"], [0.2222222222222222, \"#7201a8\"], [0.3333333333333333, \"#9c179e\"], [0.4444444444444444, \"#bd3786\"], [0.5555555555555556, \"#d8576b\"], [0.6666666666666666, \"#ed7953\"], [0.7777777777777778, \"#fb9f3a\"], [0.8888888888888888, \"#fdca26\"], [1.0, \"#f0f921\"]]}, \"colorway\": [\"#636efa\", \"#EF553B\", \"#00cc96\", \"#ab63fa\", \"#FFA15A\", \"#19d3f3\", \"#FF6692\", \"#B6E880\", \"#FF97FF\", \"#FECB52\"], \"font\": {\"color\": \"#2a3f5f\"}, \"geo\": {\"bgcolor\": \"white\", \"lakecolor\": \"white\", \"landcolor\": \"#E5ECF6\", \"showlakes\": true, \"showland\": true, \"subunitcolor\": \"white\"}, \"hoverlabel\": {\"align\": \"left\"}, \"hovermode\": \"closest\", \"mapbox\": {\"style\": \"light\"}, \"paper_bgcolor\": \"white\", \"plot_bgcolor\": \"#E5ECF6\", \"polar\": {\"angularaxis\": {\"gridcolor\": \"white\", \"linecolor\": \"white\", \"ticks\": \"\"}, \"bgcolor\": \"#E5ECF6\", \"radialaxis\": {\"gridcolor\": \"white\", \"linecolor\": \"white\", \"ticks\": \"\"}}, \"scene\": {\"xaxis\": {\"backgroundcolor\": \"#E5ECF6\", \"gridcolor\": \"white\", \"gridwidth\": 2, \"linecolor\": \"white\", \"showbackground\": true, \"ticks\": \"\", \"zerolinecolor\": \"white\"}, \"yaxis\": {\"backgroundcolor\": \"#E5ECF6\", \"gridcolor\": \"white\", \"gridwidth\": 2, \"linecolor\": \"white\", \"showbackground\": true, \"ticks\": \"\", \"zerolinecolor\": \"white\"}, \"zaxis\": {\"backgroundcolor\": \"#E5ECF6\", \"gridcolor\": \"white\", \"gridwidth\": 2, \"linecolor\": \"white\", \"showbackground\": true, \"ticks\": \"\", \"zerolinecolor\": \"white\"}}, \"shapedefaults\": {\"line\": {\"color\": \"#2a3f5f\"}}, \"ternary\": {\"aaxis\": {\"gridcolor\": \"white\", \"linecolor\": \"white\", \"ticks\": \"\"}, \"baxis\": {\"gridcolor\": \"white\", \"linecolor\": \"white\", \"ticks\": \"\"}, \"bgcolor\": \"#E5ECF6\", \"caxis\": {\"gridcolor\": \"white\", \"linecolor\": \"white\", \"ticks\": \"\"}}, \"title\": {\"x\": 0.05}, \"xaxis\": {\"automargin\": true, \"gridcolor\": \"white\", \"linecolor\": \"white\", \"ticks\": \"\", \"title\": {\"standoff\": 15}, \"zerolinecolor\": \"white\", \"zerolinewidth\": 2}, \"yaxis\": {\"automargin\": true, \"gridcolor\": \"white\", \"linecolor\": \"white\", \"ticks\": \"\", \"title\": {\"standoff\": 15}, \"zerolinecolor\": \"white\", \"zerolinewidth\": 2}}}, \"xaxis\": {\"anchor\": \"y\", \"domain\": [0.0, 1.0], \"title\": {\"text\": \"Recovery rate\"}}, \"yaxis\": {\"anchor\": \"x\", \"domain\": [0.0, 1.0], \"title\": {\"text\": \"Mortality rate\"}}},\n",
       "                        {\"responsive\": true}\n",
       "                    ).then(function(){\n",
       "                            \n",
       "var gd = document.getElementById('cd133cfe-2a1d-4988-bbbd-224438c4cd3d');\n",
       "var x = new MutationObserver(function (mutations, observer) {{\n",
       "        var display = window.getComputedStyle(gd).display;\n",
       "        if (!display || display === 'none') {{\n",
       "            console.log([gd, 'removed!']);\n",
       "            Plotly.purge(gd);\n",
       "            observer.disconnect();\n",
       "        }}\n",
       "}});\n",
       "\n",
       "// Listen for the removal of the full notebook cells\n",
       "var notebookContainer = gd.closest('#notebook-container');\n",
       "if (notebookContainer) {{\n",
       "    x.observe(notebookContainer, {childList: true});\n",
       "}}\n",
       "\n",
       "// Listen for the clearing of the current output cell\n",
       "var outputEl = gd.closest('.output');\n",
       "if (outputEl) {{\n",
       "    x.observe(outputEl, {childList: true});\n",
       "}}\n",
       "\n",
       "                        })\n",
       "                };\n",
       "                });\n",
       "            </script>\n",
       "        </div>"
      ]
     },
     "metadata": {},
     "output_type": "display_data"
    },
    {
     "data": {
      "text/plain": [
       "'https://plotly.com/~asepsaputra/63/'"
      ]
     },
     "execution_count": 93,
     "metadata": {},
     "output_type": "execute_result"
    }
   ],
   "source": [
    "covid_fix['Recovery rate'] = covid_fix['TotalRecovered'] / covid_fix['TotalConfirmed']\n",
    "covid_fix['Mortality rate'] = covid_fix['TotalDeaths'] / covid_fix['TotalConfirmed']\n",
    "covid_fix.index = covid_fix.index\n",
    "\n",
    "fig5 = px.scatter(covid_fix, x='Recovery rate', y='Mortality rate',\n",
    "                  color='Continent', size='TotalConfirmed', hover_name='Country',\n",
    "                  labels=dict(Continent=\"Benua\"),\n",
    "                  size_max=30)\n",
    "fig5.show()"
   ]
  },
  {
   "cell_type": "markdown",
   "metadata": {},
   "source": [
    "### Line Geo"
   ]
  },
  {
   "cell_type": "code",
   "execution_count": 95,
   "metadata": {},
   "outputs": [
    {
     "data": {
      "application/vnd.plotly.v1+json": {
       "config": {
        "plotlyServerURL": "https://plotly.com"
       },
       "data": [
        {
         "lat": [
          33.93911,
          41.153332,
          28.033886,
          42.546245,
          -11.202691999999999,
          17.060816,
          -38.416097,
          40.069099,
          40.069099,
          -25.274398,
          47.516231,
          40.143105,
          40.143105,
          25.03428,
          25.93041400000001,
          23.684994,
          13.193887,
          53.709807,
          50.503887,
          17.189877,
          9.30769,
          27.514162,
          -16.290154,
          43.915886,
          -22.328474,
          -14.235004,
          42.733883,
          12.238333,
          -3.3730559999999996,
          12.565679,
          7.369722,
          56.130366,
          16.002082,
          6.611111,
          15.454166,
          -35.675146999999996,
          35.86166,
          4.570868,
          -11.875001,
          9.748917,
          45.1,
          21.521757,
          35.126413,
          35.126413,
          49.817492,
          7.539989,
          56.26392,
          11.825138,
          15.414999,
          18.735692999999998,
          -1.8312389999999998,
          26.820553000000004,
          13.794185,
          1.6508009999999995,
          15.179383999999999,
          58.595271999999994,
          9.145,
          -16.578193,
          61.92411,
          46.227638,
          -0.803689,
          13.443182,
          42.315407,
          42.315407,
          51.165690999999995,
          7.9465270000000015,
          39.074208,
          12.262775999999999,
          15.783470999999999,
          9.945587,
          11.803749,
          4.860416000000002,
          18.971187,
          15.199998999999998,
          47.162494,
          64.96305100000001,
          20.593684,
          -0.789275,
          33.223191,
          53.41291,
          31.046051000000002,
          41.87194,
          18.109581,
          36.204824,
          30.585164000000002,
          48.019573,
          48.019573,
          -0.023559,
          29.311659999999996,
          41.20438,
          56.879635,
          33.854721000000005,
          -29.609988,
          6.4280550000000005,
          26.3351,
          47.166000000000004,
          55.169438,
          49.815273,
          -18.766947000000002,
          -13.254307999999998,
          4.210483999999999,
          3.202778,
          17.570692,
          35.937496,
          21.00789,
          -20.348404000000002,
          23.634501,
          47.411631,
          43.750298,
          46.862496,
          42.708678000000006,
          31.791702,
          -18.665695,
          28.394857000000002,
          52.132633,
          -40.900557,
          12.865416,
          17.607789,
          9.081999,
          60.472024,
          21.512583,
          30.375321000000003,
          8.537981,
          -6.314993,
          -23.442503,
          -9.189967,
          12.879721,
          51.919438,
          39.399871999999995,
          25.354826,
          45.943160999999996,
          -1.940278,
          -21.115141,
          17.357822,
          13.909444,
          43.94236,
          23.885942,
          14.497401000000002,
          44.016521000000004,
          -4.679574,
          8.460555000000001,
          1.352083,
          48.669026,
          46.151241,
          5.152149,
          -30.559482,
          40.463667,
          7.873054,
          12.862807,
          3.9193050000000014,
          -26.522503000000004,
          60.128161,
          46.818188,
          38.861034000000004,
          15.870032,
          -8.874217,
          8.619543,
          10.691803,
          33.886917,
          38.963745,
          38.963745,
          1.373333,
          48.379433,
          23.424076,
          55.378051,
          37.09024,
          -32.522779,
          41.377491,
          24.215526999999998,
          15.552726999999999,
          -13.133897,
          -19.015438
         ],
         "line": {
          "color": "rgb(213,62,79)",
          "width": 2
         },
         "lon": [
          67.709953,
          20.168331,
          1.6596259999999998,
          1.6015540000000001,
          17.873887,
          -61.79642800000001,
          -63.616671999999994,
          45.038189,
          45.038189,
          133.775136,
          14.550072,
          47.57692700000001,
          47.57692700000001,
          -77.39628,
          50.637772,
          90.35633100000001,
          -59.543198,
          27.953389,
          4.469936,
          -88.49765,
          2.315834,
          90.433601,
          -63.588653,
          17.679076000000006,
          24.684866,
          -51.92528,
          25.48583,
          -1.561593,
          29.918885999999997,
          104.990963,
          12.354722,
          -106.34677099999999,
          -24.013197,
          20.939444,
          18.732207,
          -71.542969,
          104.195397,
          -74.297333,
          43.872219,
          -83.753428,
          15.2,
          -77.78116700000002,
          33.429859,
          33.429859,
          15.472961999999999,
          -5.54708,
          9.501785,
          42.590275,
          -61.370976,
          -70.162651,
          -78.183406,
          30.802497999999996,
          -88.89653,
          10.267895,
          39.78233400000001,
          25.013607,
          40.489672999999996,
          179.414413,
          25.748151,
          2.213749,
          11.609444,
          -15.310139000000001,
          43.356891999999995,
          43.356891999999995,
          10.451526,
          -1.0231940000000002,
          21.824312,
          -61.604170999999994,
          -90.23075899999999,
          -9.696645,
          -15.180413,
          -58.93018000000001,
          -72.28521500000002,
          -86.241905,
          19.503304,
          -19.020835,
          78.96288,
          113.921327,
          43.679291,
          -8.243889999999999,
          34.851612,
          12.56738,
          -77.297508,
          138.252924,
          36.238414,
          66.923684,
          66.923684,
          37.906193,
          47.481766,
          74.766098,
          24.603189,
          35.862285,
          28.233608,
          -9.429499,
          17.228331,
          9.555373,
          23.881275,
          6.129583,
          46.869107,
          34.301525,
          101.97576600000001,
          73.22068,
          -3.996166000000001,
          14.375416,
          -10.940835,
          57.552152,
          -102.552784,
          28.369884999999996,
          7.412841,
          103.84665600000001,
          19.37439,
          -7.09262,
          35.529562,
          84.12400799999998,
          5.291266,
          174.88597099999996,
          -85.207229,
          8.081666,
          8.675277000000001,
          8.468946,
          55.92325500000001,
          69.345116,
          -80.782127,
          143.95555,
          -58.44383199999999,
          -75.015152,
          121.77401699999999,
          19.145135999999997,
          -8.224454,
          51.183884,
          24.96676,
          29.873888,
          55.536384,
          -62.782998,
          -60.97889300000001,
          12.457777,
          45.079162,
          -14.452361999999999,
          21.005859,
          55.491977,
          -11.779889,
          103.819836,
          19.699023999999998,
          14.995463,
          46.199616,
          22.937506,
          -3.7492199999999998,
          80.77179699999998,
          30.217636,
          -56.02778299999999,
          31.465866,
          18.643501,
          8.227511999999999,
          71.276093,
          100.992541,
          125.727539,
          0.824782,
          -61.222503,
          9.537499,
          35.243322,
          35.243322,
          32.290275,
          31.16558,
          53.847818000000004,
          -3.435973,
          -95.712891,
          -55.765834999999996,
          64.585262,
          -12.885834,
          48.516388,
          27.849332,
          29.154857
         ],
         "mode": "lines",
         "type": "scattergeo"
        },
        {
         "lat": [
          33.93911,
          41.153332,
          28.033886,
          42.546245,
          -11.202691999999999,
          17.060816,
          -38.416097,
          40.069099,
          40.069099,
          -25.274398,
          47.516231,
          40.143105,
          40.143105,
          25.03428,
          25.93041400000001,
          23.684994,
          13.193887,
          53.709807,
          50.503887,
          17.189877,
          9.30769,
          27.514162,
          -16.290154,
          43.915886,
          -22.328474,
          -14.235004,
          42.733883,
          12.238333,
          -3.3730559999999996,
          12.565679,
          7.369722,
          56.130366,
          16.002082,
          6.611111,
          15.454166,
          -35.675146999999996,
          35.86166,
          4.570868,
          -11.875001,
          9.748917,
          45.1,
          21.521757,
          35.126413,
          35.126413,
          49.817492,
          7.539989,
          56.26392,
          11.825138,
          15.414999,
          18.735692999999998,
          -1.8312389999999998,
          26.820553000000004,
          13.794185,
          1.6508009999999995,
          15.179383999999999,
          58.595271999999994,
          9.145,
          -16.578193,
          61.92411,
          46.227638,
          -0.803689,
          13.443182,
          42.315407,
          42.315407,
          51.165690999999995,
          7.9465270000000015,
          39.074208,
          12.262775999999999,
          15.783470999999999,
          9.945587,
          11.803749,
          4.860416000000002,
          18.971187,
          15.199998999999998,
          47.162494,
          64.96305100000001,
          20.593684,
          -0.789275,
          33.223191,
          53.41291,
          31.046051000000002,
          41.87194,
          18.109581,
          36.204824,
          30.585164000000002,
          48.019573,
          48.019573,
          -0.023559,
          29.311659999999996,
          41.20438,
          56.879635,
          33.854721000000005,
          -29.609988,
          6.4280550000000005,
          26.3351,
          47.166000000000004,
          55.169438,
          49.815273,
          -18.766947000000002,
          -13.254307999999998,
          4.210483999999999,
          3.202778,
          17.570692,
          35.937496,
          21.00789,
          -20.348404000000002,
          23.634501,
          47.411631,
          43.750298,
          46.862496,
          42.708678000000006,
          31.791702,
          -18.665695,
          28.394857000000002,
          52.132633,
          -40.900557,
          12.865416,
          17.607789,
          9.081999,
          60.472024,
          21.512583,
          30.375321000000003,
          8.537981,
          -6.314993,
          -23.442503,
          -9.189967,
          12.879721,
          51.919438,
          39.399871999999995,
          25.354826,
          45.943160999999996,
          -1.940278,
          -21.115141,
          17.357822,
          13.909444,
          43.94236,
          23.885942,
          14.497401000000002,
          44.016521000000004,
          -4.679574,
          8.460555000000001,
          1.352083,
          48.669026,
          46.151241,
          5.152149,
          -30.559482,
          40.463667,
          7.873054,
          12.862807,
          3.9193050000000014,
          -26.522503000000004,
          60.128161,
          46.818188,
          38.861034000000004,
          15.870032,
          -8.874217,
          8.619543,
          10.691803,
          33.886917,
          38.963745,
          38.963745,
          1.373333,
          48.379433,
          23.424076,
          55.378051,
          37.09024,
          -32.522779,
          41.377491,
          24.215526999999998,
          15.552726999999999,
          -13.133897,
          -19.015438
         ],
         "line": {
          "color": "rgb(244,109,67)",
          "width": 2
         },
         "lon": [
          67.709953,
          20.168331,
          1.6596259999999998,
          1.6015540000000001,
          17.873887,
          -61.79642800000001,
          -63.616671999999994,
          45.038189,
          45.038189,
          133.775136,
          14.550072,
          47.57692700000001,
          47.57692700000001,
          -77.39628,
          50.637772,
          90.35633100000001,
          -59.543198,
          27.953389,
          4.469936,
          -88.49765,
          2.315834,
          90.433601,
          -63.588653,
          17.679076000000006,
          24.684866,
          -51.92528,
          25.48583,
          -1.561593,
          29.918885999999997,
          104.990963,
          12.354722,
          -106.34677099999999,
          -24.013197,
          20.939444,
          18.732207,
          -71.542969,
          104.195397,
          -74.297333,
          43.872219,
          -83.753428,
          15.2,
          -77.78116700000002,
          33.429859,
          33.429859,
          15.472961999999999,
          -5.54708,
          9.501785,
          42.590275,
          -61.370976,
          -70.162651,
          -78.183406,
          30.802497999999996,
          -88.89653,
          10.267895,
          39.78233400000001,
          25.013607,
          40.489672999999996,
          179.414413,
          25.748151,
          2.213749,
          11.609444,
          -15.310139000000001,
          43.356891999999995,
          43.356891999999995,
          10.451526,
          -1.0231940000000002,
          21.824312,
          -61.604170999999994,
          -90.23075899999999,
          -9.696645,
          -15.180413,
          -58.93018000000001,
          -72.28521500000002,
          -86.241905,
          19.503304,
          -19.020835,
          78.96288,
          113.921327,
          43.679291,
          -8.243889999999999,
          34.851612,
          12.56738,
          -77.297508,
          138.252924,
          36.238414,
          66.923684,
          66.923684,
          37.906193,
          47.481766,
          74.766098,
          24.603189,
          35.862285,
          28.233608,
          -9.429499,
          17.228331,
          9.555373,
          23.881275,
          6.129583,
          46.869107,
          34.301525,
          101.97576600000001,
          73.22068,
          -3.996166000000001,
          14.375416,
          -10.940835,
          57.552152,
          -102.552784,
          28.369884999999996,
          7.412841,
          103.84665600000001,
          19.37439,
          -7.09262,
          35.529562,
          84.12400799999998,
          5.291266,
          174.88597099999996,
          -85.207229,
          8.081666,
          8.675277000000001,
          8.468946,
          55.92325500000001,
          69.345116,
          -80.782127,
          143.95555,
          -58.44383199999999,
          -75.015152,
          121.77401699999999,
          19.145135999999997,
          -8.224454,
          51.183884,
          24.96676,
          29.873888,
          55.536384,
          -62.782998,
          -60.97889300000001,
          12.457777,
          45.079162,
          -14.452361999999999,
          21.005859,
          55.491977,
          -11.779889,
          103.819836,
          19.699023999999998,
          14.995463,
          46.199616,
          22.937506,
          -3.7492199999999998,
          80.77179699999998,
          30.217636,
          -56.02778299999999,
          31.465866,
          18.643501,
          8.227511999999999,
          71.276093,
          100.992541,
          125.727539,
          0.824782,
          -61.222503,
          9.537499,
          35.243322,
          35.243322,
          32.290275,
          31.16558,
          53.847818000000004,
          -3.435973,
          -95.712891,
          -55.765834999999996,
          64.585262,
          -12.885834,
          48.516388,
          27.849332,
          29.154857
         ],
         "mode": "lines",
         "type": "scattergeo"
        },
        {
         "lat": [
          33.93911,
          41.153332,
          28.033886,
          42.546245,
          -11.202691999999999,
          17.060816,
          -38.416097,
          40.069099,
          40.069099,
          -25.274398,
          47.516231,
          40.143105,
          40.143105,
          25.03428,
          25.93041400000001,
          23.684994,
          13.193887,
          53.709807,
          50.503887,
          17.189877,
          9.30769,
          27.514162,
          -16.290154,
          43.915886,
          -22.328474,
          -14.235004,
          42.733883,
          12.238333,
          -3.3730559999999996,
          12.565679,
          7.369722,
          56.130366,
          16.002082,
          6.611111,
          15.454166,
          -35.675146999999996,
          35.86166,
          4.570868,
          -11.875001,
          9.748917,
          45.1,
          21.521757,
          35.126413,
          35.126413,
          49.817492,
          7.539989,
          56.26392,
          11.825138,
          15.414999,
          18.735692999999998,
          -1.8312389999999998,
          26.820553000000004,
          13.794185,
          1.6508009999999995,
          15.179383999999999,
          58.595271999999994,
          9.145,
          -16.578193,
          61.92411,
          46.227638,
          -0.803689,
          13.443182,
          42.315407,
          42.315407,
          51.165690999999995,
          7.9465270000000015,
          39.074208,
          12.262775999999999,
          15.783470999999999,
          9.945587,
          11.803749,
          4.860416000000002,
          18.971187,
          15.199998999999998,
          47.162494,
          64.96305100000001,
          20.593684,
          -0.789275,
          33.223191,
          53.41291,
          31.046051000000002,
          41.87194,
          18.109581,
          36.204824,
          30.585164000000002,
          48.019573,
          48.019573,
          -0.023559,
          29.311659999999996,
          41.20438,
          56.879635,
          33.854721000000005,
          -29.609988,
          6.4280550000000005,
          26.3351,
          47.166000000000004,
          55.169438,
          49.815273,
          -18.766947000000002,
          -13.254307999999998,
          4.210483999999999,
          3.202778,
          17.570692,
          35.937496,
          21.00789,
          -20.348404000000002,
          23.634501,
          47.411631,
          43.750298,
          46.862496,
          42.708678000000006,
          31.791702,
          -18.665695,
          28.394857000000002,
          52.132633,
          -40.900557,
          12.865416,
          17.607789,
          9.081999,
          60.472024,
          21.512583,
          30.375321000000003,
          8.537981,
          -6.314993,
          -23.442503,
          -9.189967,
          12.879721,
          51.919438,
          39.399871999999995,
          25.354826,
          45.943160999999996,
          -1.940278,
          -21.115141,
          17.357822,
          13.909444,
          43.94236,
          23.885942,
          14.497401000000002,
          44.016521000000004,
          -4.679574,
          8.460555000000001,
          1.352083,
          48.669026,
          46.151241,
          5.152149,
          -30.559482,
          40.463667,
          7.873054,
          12.862807,
          3.9193050000000014,
          -26.522503000000004,
          60.128161,
          46.818188,
          38.861034000000004,
          15.870032,
          -8.874217,
          8.619543,
          10.691803,
          33.886917,
          38.963745,
          38.963745,
          1.373333,
          48.379433,
          23.424076,
          55.378051,
          37.09024,
          -32.522779,
          41.377491,
          24.215526999999998,
          15.552726999999999,
          -13.133897,
          -19.015438
         ],
         "line": {
          "color": "rgb(253,174,97)",
          "width": 2
         },
         "lon": [
          67.709953,
          20.168331,
          1.6596259999999998,
          1.6015540000000001,
          17.873887,
          -61.79642800000001,
          -63.616671999999994,
          45.038189,
          45.038189,
          133.775136,
          14.550072,
          47.57692700000001,
          47.57692700000001,
          -77.39628,
          50.637772,
          90.35633100000001,
          -59.543198,
          27.953389,
          4.469936,
          -88.49765,
          2.315834,
          90.433601,
          -63.588653,
          17.679076000000006,
          24.684866,
          -51.92528,
          25.48583,
          -1.561593,
          29.918885999999997,
          104.990963,
          12.354722,
          -106.34677099999999,
          -24.013197,
          20.939444,
          18.732207,
          -71.542969,
          104.195397,
          -74.297333,
          43.872219,
          -83.753428,
          15.2,
          -77.78116700000002,
          33.429859,
          33.429859,
          15.472961999999999,
          -5.54708,
          9.501785,
          42.590275,
          -61.370976,
          -70.162651,
          -78.183406,
          30.802497999999996,
          -88.89653,
          10.267895,
          39.78233400000001,
          25.013607,
          40.489672999999996,
          179.414413,
          25.748151,
          2.213749,
          11.609444,
          -15.310139000000001,
          43.356891999999995,
          43.356891999999995,
          10.451526,
          -1.0231940000000002,
          21.824312,
          -61.604170999999994,
          -90.23075899999999,
          -9.696645,
          -15.180413,
          -58.93018000000001,
          -72.28521500000002,
          -86.241905,
          19.503304,
          -19.020835,
          78.96288,
          113.921327,
          43.679291,
          -8.243889999999999,
          34.851612,
          12.56738,
          -77.297508,
          138.252924,
          36.238414,
          66.923684,
          66.923684,
          37.906193,
          47.481766,
          74.766098,
          24.603189,
          35.862285,
          28.233608,
          -9.429499,
          17.228331,
          9.555373,
          23.881275,
          6.129583,
          46.869107,
          34.301525,
          101.97576600000001,
          73.22068,
          -3.996166000000001,
          14.375416,
          -10.940835,
          57.552152,
          -102.552784,
          28.369884999999996,
          7.412841,
          103.84665600000001,
          19.37439,
          -7.09262,
          35.529562,
          84.12400799999998,
          5.291266,
          174.88597099999996,
          -85.207229,
          8.081666,
          8.675277000000001,
          8.468946,
          55.92325500000001,
          69.345116,
          -80.782127,
          143.95555,
          -58.44383199999999,
          -75.015152,
          121.77401699999999,
          19.145135999999997,
          -8.224454,
          51.183884,
          24.96676,
          29.873888,
          55.536384,
          -62.782998,
          -60.97889300000001,
          12.457777,
          45.079162,
          -14.452361999999999,
          21.005859,
          55.491977,
          -11.779889,
          103.819836,
          19.699023999999998,
          14.995463,
          46.199616,
          22.937506,
          -3.7492199999999998,
          80.77179699999998,
          30.217636,
          -56.02778299999999,
          31.465866,
          18.643501,
          8.227511999999999,
          71.276093,
          100.992541,
          125.727539,
          0.824782,
          -61.222503,
          9.537499,
          35.243322,
          35.243322,
          32.290275,
          31.16558,
          53.847818000000004,
          -3.435973,
          -95.712891,
          -55.765834999999996,
          64.585262,
          -12.885834,
          48.516388,
          27.849332,
          29.154857
         ],
         "mode": "lines",
         "type": "scattergeo"
        },
        {
         "lat": [
          33.93911,
          41.153332,
          28.033886,
          42.546245,
          -11.202691999999999,
          17.060816,
          -38.416097,
          40.069099,
          40.069099,
          -25.274398,
          47.516231,
          40.143105,
          40.143105,
          25.03428,
          25.93041400000001,
          23.684994,
          13.193887,
          53.709807,
          50.503887,
          17.189877,
          9.30769,
          27.514162,
          -16.290154,
          43.915886,
          -22.328474,
          -14.235004,
          42.733883,
          12.238333,
          -3.3730559999999996,
          12.565679,
          7.369722,
          56.130366,
          16.002082,
          6.611111,
          15.454166,
          -35.675146999999996,
          35.86166,
          4.570868,
          -11.875001,
          9.748917,
          45.1,
          21.521757,
          35.126413,
          35.126413,
          49.817492,
          7.539989,
          56.26392,
          11.825138,
          15.414999,
          18.735692999999998,
          -1.8312389999999998,
          26.820553000000004,
          13.794185,
          1.6508009999999995,
          15.179383999999999,
          58.595271999999994,
          9.145,
          -16.578193,
          61.92411,
          46.227638,
          -0.803689,
          13.443182,
          42.315407,
          42.315407,
          51.165690999999995,
          7.9465270000000015,
          39.074208,
          12.262775999999999,
          15.783470999999999,
          9.945587,
          11.803749,
          4.860416000000002,
          18.971187,
          15.199998999999998,
          47.162494,
          64.96305100000001,
          20.593684,
          -0.789275,
          33.223191,
          53.41291,
          31.046051000000002,
          41.87194,
          18.109581,
          36.204824,
          30.585164000000002,
          48.019573,
          48.019573,
          -0.023559,
          29.311659999999996,
          41.20438,
          56.879635,
          33.854721000000005,
          -29.609988,
          6.4280550000000005,
          26.3351,
          47.166000000000004,
          55.169438,
          49.815273,
          -18.766947000000002,
          -13.254307999999998,
          4.210483999999999,
          3.202778,
          17.570692,
          35.937496,
          21.00789,
          -20.348404000000002,
          23.634501,
          47.411631,
          43.750298,
          46.862496,
          42.708678000000006,
          31.791702,
          -18.665695,
          28.394857000000002,
          52.132633,
          -40.900557,
          12.865416,
          17.607789,
          9.081999,
          60.472024,
          21.512583,
          30.375321000000003,
          8.537981,
          -6.314993,
          -23.442503,
          -9.189967,
          12.879721,
          51.919438,
          39.399871999999995,
          25.354826,
          45.943160999999996,
          -1.940278,
          -21.115141,
          17.357822,
          13.909444,
          43.94236,
          23.885942,
          14.497401000000002,
          44.016521000000004,
          -4.679574,
          8.460555000000001,
          1.352083,
          48.669026,
          46.151241,
          5.152149,
          -30.559482,
          40.463667,
          7.873054,
          12.862807,
          3.9193050000000014,
          -26.522503000000004,
          60.128161,
          46.818188,
          38.861034000000004,
          15.870032,
          -8.874217,
          8.619543,
          10.691803,
          33.886917,
          38.963745,
          38.963745,
          1.373333,
          48.379433,
          23.424076,
          55.378051,
          37.09024,
          -32.522779,
          41.377491,
          24.215526999999998,
          15.552726999999999,
          -13.133897,
          -19.015438
         ],
         "line": {
          "color": "rgb(254,224,139)",
          "width": 2
         },
         "lon": [
          67.709953,
          20.168331,
          1.6596259999999998,
          1.6015540000000001,
          17.873887,
          -61.79642800000001,
          -63.616671999999994,
          45.038189,
          45.038189,
          133.775136,
          14.550072,
          47.57692700000001,
          47.57692700000001,
          -77.39628,
          50.637772,
          90.35633100000001,
          -59.543198,
          27.953389,
          4.469936,
          -88.49765,
          2.315834,
          90.433601,
          -63.588653,
          17.679076000000006,
          24.684866,
          -51.92528,
          25.48583,
          -1.561593,
          29.918885999999997,
          104.990963,
          12.354722,
          -106.34677099999999,
          -24.013197,
          20.939444,
          18.732207,
          -71.542969,
          104.195397,
          -74.297333,
          43.872219,
          -83.753428,
          15.2,
          -77.78116700000002,
          33.429859,
          33.429859,
          15.472961999999999,
          -5.54708,
          9.501785,
          42.590275,
          -61.370976,
          -70.162651,
          -78.183406,
          30.802497999999996,
          -88.89653,
          10.267895,
          39.78233400000001,
          25.013607,
          40.489672999999996,
          179.414413,
          25.748151,
          2.213749,
          11.609444,
          -15.310139000000001,
          43.356891999999995,
          43.356891999999995,
          10.451526,
          -1.0231940000000002,
          21.824312,
          -61.604170999999994,
          -90.23075899999999,
          -9.696645,
          -15.180413,
          -58.93018000000001,
          -72.28521500000002,
          -86.241905,
          19.503304,
          -19.020835,
          78.96288,
          113.921327,
          43.679291,
          -8.243889999999999,
          34.851612,
          12.56738,
          -77.297508,
          138.252924,
          36.238414,
          66.923684,
          66.923684,
          37.906193,
          47.481766,
          74.766098,
          24.603189,
          35.862285,
          28.233608,
          -9.429499,
          17.228331,
          9.555373,
          23.881275,
          6.129583,
          46.869107,
          34.301525,
          101.97576600000001,
          73.22068,
          -3.996166000000001,
          14.375416,
          -10.940835,
          57.552152,
          -102.552784,
          28.369884999999996,
          7.412841,
          103.84665600000001,
          19.37439,
          -7.09262,
          35.529562,
          84.12400799999998,
          5.291266,
          174.88597099999996,
          -85.207229,
          8.081666,
          8.675277000000001,
          8.468946,
          55.92325500000001,
          69.345116,
          -80.782127,
          143.95555,
          -58.44383199999999,
          -75.015152,
          121.77401699999999,
          19.145135999999997,
          -8.224454,
          51.183884,
          24.96676,
          29.873888,
          55.536384,
          -62.782998,
          -60.97889300000001,
          12.457777,
          45.079162,
          -14.452361999999999,
          21.005859,
          55.491977,
          -11.779889,
          103.819836,
          19.699023999999998,
          14.995463,
          46.199616,
          22.937506,
          -3.7492199999999998,
          80.77179699999998,
          30.217636,
          -56.02778299999999,
          31.465866,
          18.643501,
          8.227511999999999,
          71.276093,
          100.992541,
          125.727539,
          0.824782,
          -61.222503,
          9.537499,
          35.243322,
          35.243322,
          32.290275,
          31.16558,
          53.847818000000004,
          -3.435973,
          -95.712891,
          -55.765834999999996,
          64.585262,
          -12.885834,
          48.516388,
          27.849332,
          29.154857
         ],
         "mode": "lines",
         "type": "scattergeo"
        },
        {
         "lat": [
          33.93911,
          41.153332,
          28.033886,
          42.546245,
          -11.202691999999999,
          17.060816,
          -38.416097,
          40.069099,
          40.069099,
          -25.274398,
          47.516231,
          40.143105,
          40.143105,
          25.03428,
          25.93041400000001,
          23.684994,
          13.193887,
          53.709807,
          50.503887,
          17.189877,
          9.30769,
          27.514162,
          -16.290154,
          43.915886,
          -22.328474,
          -14.235004,
          42.733883,
          12.238333,
          -3.3730559999999996,
          12.565679,
          7.369722,
          56.130366,
          16.002082,
          6.611111,
          15.454166,
          -35.675146999999996,
          35.86166,
          4.570868,
          -11.875001,
          9.748917,
          45.1,
          21.521757,
          35.126413,
          35.126413,
          49.817492,
          7.539989,
          56.26392,
          11.825138,
          15.414999,
          18.735692999999998,
          -1.8312389999999998,
          26.820553000000004,
          13.794185,
          1.6508009999999995,
          15.179383999999999,
          58.595271999999994,
          9.145,
          -16.578193,
          61.92411,
          46.227638,
          -0.803689,
          13.443182,
          42.315407,
          42.315407,
          51.165690999999995,
          7.9465270000000015,
          39.074208,
          12.262775999999999,
          15.783470999999999,
          9.945587,
          11.803749,
          4.860416000000002,
          18.971187,
          15.199998999999998,
          47.162494,
          64.96305100000001,
          20.593684,
          -0.789275,
          33.223191,
          53.41291,
          31.046051000000002,
          41.87194,
          18.109581,
          36.204824,
          30.585164000000002,
          48.019573,
          48.019573,
          -0.023559,
          29.311659999999996,
          41.20438,
          56.879635,
          33.854721000000005,
          -29.609988,
          6.4280550000000005,
          26.3351,
          47.166000000000004,
          55.169438,
          49.815273,
          -18.766947000000002,
          -13.254307999999998,
          4.210483999999999,
          3.202778,
          17.570692,
          35.937496,
          21.00789,
          -20.348404000000002,
          23.634501,
          47.411631,
          43.750298,
          46.862496,
          42.708678000000006,
          31.791702,
          -18.665695,
          28.394857000000002,
          52.132633,
          -40.900557,
          12.865416,
          17.607789,
          9.081999,
          60.472024,
          21.512583,
          30.375321000000003,
          8.537981,
          -6.314993,
          -23.442503,
          -9.189967,
          12.879721,
          51.919438,
          39.399871999999995,
          25.354826,
          45.943160999999996,
          -1.940278,
          -21.115141,
          17.357822,
          13.909444,
          43.94236,
          23.885942,
          14.497401000000002,
          44.016521000000004,
          -4.679574,
          8.460555000000001,
          1.352083,
          48.669026,
          46.151241,
          5.152149,
          -30.559482,
          40.463667,
          7.873054,
          12.862807,
          3.9193050000000014,
          -26.522503000000004,
          60.128161,
          46.818188,
          38.861034000000004,
          15.870032,
          -8.874217,
          8.619543,
          10.691803,
          33.886917,
          38.963745,
          38.963745,
          1.373333,
          48.379433,
          23.424076,
          55.378051,
          37.09024,
          -32.522779,
          41.377491,
          24.215526999999998,
          15.552726999999999,
          -13.133897,
          -19.015438
         ],
         "line": {
          "color": "rgb(255,255,191)",
          "width": 2
         },
         "lon": [
          67.709953,
          20.168331,
          1.6596259999999998,
          1.6015540000000001,
          17.873887,
          -61.79642800000001,
          -63.616671999999994,
          45.038189,
          45.038189,
          133.775136,
          14.550072,
          47.57692700000001,
          47.57692700000001,
          -77.39628,
          50.637772,
          90.35633100000001,
          -59.543198,
          27.953389,
          4.469936,
          -88.49765,
          2.315834,
          90.433601,
          -63.588653,
          17.679076000000006,
          24.684866,
          -51.92528,
          25.48583,
          -1.561593,
          29.918885999999997,
          104.990963,
          12.354722,
          -106.34677099999999,
          -24.013197,
          20.939444,
          18.732207,
          -71.542969,
          104.195397,
          -74.297333,
          43.872219,
          -83.753428,
          15.2,
          -77.78116700000002,
          33.429859,
          33.429859,
          15.472961999999999,
          -5.54708,
          9.501785,
          42.590275,
          -61.370976,
          -70.162651,
          -78.183406,
          30.802497999999996,
          -88.89653,
          10.267895,
          39.78233400000001,
          25.013607,
          40.489672999999996,
          179.414413,
          25.748151,
          2.213749,
          11.609444,
          -15.310139000000001,
          43.356891999999995,
          43.356891999999995,
          10.451526,
          -1.0231940000000002,
          21.824312,
          -61.604170999999994,
          -90.23075899999999,
          -9.696645,
          -15.180413,
          -58.93018000000001,
          -72.28521500000002,
          -86.241905,
          19.503304,
          -19.020835,
          78.96288,
          113.921327,
          43.679291,
          -8.243889999999999,
          34.851612,
          12.56738,
          -77.297508,
          138.252924,
          36.238414,
          66.923684,
          66.923684,
          37.906193,
          47.481766,
          74.766098,
          24.603189,
          35.862285,
          28.233608,
          -9.429499,
          17.228331,
          9.555373,
          23.881275,
          6.129583,
          46.869107,
          34.301525,
          101.97576600000001,
          73.22068,
          -3.996166000000001,
          14.375416,
          -10.940835,
          57.552152,
          -102.552784,
          28.369884999999996,
          7.412841,
          103.84665600000001,
          19.37439,
          -7.09262,
          35.529562,
          84.12400799999998,
          5.291266,
          174.88597099999996,
          -85.207229,
          8.081666,
          8.675277000000001,
          8.468946,
          55.92325500000001,
          69.345116,
          -80.782127,
          143.95555,
          -58.44383199999999,
          -75.015152,
          121.77401699999999,
          19.145135999999997,
          -8.224454,
          51.183884,
          24.96676,
          29.873888,
          55.536384,
          -62.782998,
          -60.97889300000001,
          12.457777,
          45.079162,
          -14.452361999999999,
          21.005859,
          55.491977,
          -11.779889,
          103.819836,
          19.699023999999998,
          14.995463,
          46.199616,
          22.937506,
          -3.7492199999999998,
          80.77179699999998,
          30.217636,
          -56.02778299999999,
          31.465866,
          18.643501,
          8.227511999999999,
          71.276093,
          100.992541,
          125.727539,
          0.824782,
          -61.222503,
          9.537499,
          35.243322,
          35.243322,
          32.290275,
          31.16558,
          53.847818000000004,
          -3.435973,
          -95.712891,
          -55.765834999999996,
          64.585262,
          -12.885834,
          48.516388,
          27.849332,
          29.154857
         ],
         "mode": "lines",
         "type": "scattergeo"
        }
       ],
       "layout": {
        "geo": {
         "countrywidth": 0.5,
         "lakecolor": "rgb(0, 255, 255)",
         "landcolor": "rgb(230, 145, 56)",
         "lataxis": {
          "gridcolor": "rgb(102, 102, 102)",
          "gridwidth": 0.5,
          "showgrid": true
         },
         "lonaxis": {
          "gridcolor": "rgb(102, 102, 102)",
          "gridwidth": 0.5,
          "showgrid": true
         },
         "oceancolor": "rgb(0, 255, 255)",
         "projection": {
          "rotation": {
           "lat": 40,
           "lon": -100,
           "roll": 0
          },
          "type": "orthographic"
         },
         "showcountries": true,
         "showland": true,
         "showocean": true
        },
        "showlegend": false,
        "template": {
         "data": {
          "bar": [
           {
            "error_x": {
             "color": "#2a3f5f"
            },
            "error_y": {
             "color": "#2a3f5f"
            },
            "marker": {
             "line": {
              "color": "#E5ECF6",
              "width": 0.5
             }
            },
            "type": "bar"
           }
          ],
          "barpolar": [
           {
            "marker": {
             "line": {
              "color": "#E5ECF6",
              "width": 0.5
             }
            },
            "type": "barpolar"
           }
          ],
          "carpet": [
           {
            "aaxis": {
             "endlinecolor": "#2a3f5f",
             "gridcolor": "white",
             "linecolor": "white",
             "minorgridcolor": "white",
             "startlinecolor": "#2a3f5f"
            },
            "baxis": {
             "endlinecolor": "#2a3f5f",
             "gridcolor": "white",
             "linecolor": "white",
             "minorgridcolor": "white",
             "startlinecolor": "#2a3f5f"
            },
            "type": "carpet"
           }
          ],
          "choropleth": [
           {
            "colorbar": {
             "outlinewidth": 0,
             "ticks": ""
            },
            "type": "choropleth"
           }
          ],
          "contour": [
           {
            "colorbar": {
             "outlinewidth": 0,
             "ticks": ""
            },
            "colorscale": [
             [
              0,
              "#0d0887"
             ],
             [
              0.1111111111111111,
              "#46039f"
             ],
             [
              0.2222222222222222,
              "#7201a8"
             ],
             [
              0.3333333333333333,
              "#9c179e"
             ],
             [
              0.4444444444444444,
              "#bd3786"
             ],
             [
              0.5555555555555556,
              "#d8576b"
             ],
             [
              0.6666666666666666,
              "#ed7953"
             ],
             [
              0.7777777777777778,
              "#fb9f3a"
             ],
             [
              0.8888888888888888,
              "#fdca26"
             ],
             [
              1,
              "#f0f921"
             ]
            ],
            "type": "contour"
           }
          ],
          "contourcarpet": [
           {
            "colorbar": {
             "outlinewidth": 0,
             "ticks": ""
            },
            "type": "contourcarpet"
           }
          ],
          "heatmap": [
           {
            "colorbar": {
             "outlinewidth": 0,
             "ticks": ""
            },
            "colorscale": [
             [
              0,
              "#0d0887"
             ],
             [
              0.1111111111111111,
              "#46039f"
             ],
             [
              0.2222222222222222,
              "#7201a8"
             ],
             [
              0.3333333333333333,
              "#9c179e"
             ],
             [
              0.4444444444444444,
              "#bd3786"
             ],
             [
              0.5555555555555556,
              "#d8576b"
             ],
             [
              0.6666666666666666,
              "#ed7953"
             ],
             [
              0.7777777777777778,
              "#fb9f3a"
             ],
             [
              0.8888888888888888,
              "#fdca26"
             ],
             [
              1,
              "#f0f921"
             ]
            ],
            "type": "heatmap"
           }
          ],
          "heatmapgl": [
           {
            "colorbar": {
             "outlinewidth": 0,
             "ticks": ""
            },
            "colorscale": [
             [
              0,
              "#0d0887"
             ],
             [
              0.1111111111111111,
              "#46039f"
             ],
             [
              0.2222222222222222,
              "#7201a8"
             ],
             [
              0.3333333333333333,
              "#9c179e"
             ],
             [
              0.4444444444444444,
              "#bd3786"
             ],
             [
              0.5555555555555556,
              "#d8576b"
             ],
             [
              0.6666666666666666,
              "#ed7953"
             ],
             [
              0.7777777777777778,
              "#fb9f3a"
             ],
             [
              0.8888888888888888,
              "#fdca26"
             ],
             [
              1,
              "#f0f921"
             ]
            ],
            "type": "heatmapgl"
           }
          ],
          "histogram": [
           {
            "marker": {
             "colorbar": {
              "outlinewidth": 0,
              "ticks": ""
             }
            },
            "type": "histogram"
           }
          ],
          "histogram2d": [
           {
            "colorbar": {
             "outlinewidth": 0,
             "ticks": ""
            },
            "colorscale": [
             [
              0,
              "#0d0887"
             ],
             [
              0.1111111111111111,
              "#46039f"
             ],
             [
              0.2222222222222222,
              "#7201a8"
             ],
             [
              0.3333333333333333,
              "#9c179e"
             ],
             [
              0.4444444444444444,
              "#bd3786"
             ],
             [
              0.5555555555555556,
              "#d8576b"
             ],
             [
              0.6666666666666666,
              "#ed7953"
             ],
             [
              0.7777777777777778,
              "#fb9f3a"
             ],
             [
              0.8888888888888888,
              "#fdca26"
             ],
             [
              1,
              "#f0f921"
             ]
            ],
            "type": "histogram2d"
           }
          ],
          "histogram2dcontour": [
           {
            "colorbar": {
             "outlinewidth": 0,
             "ticks": ""
            },
            "colorscale": [
             [
              0,
              "#0d0887"
             ],
             [
              0.1111111111111111,
              "#46039f"
             ],
             [
              0.2222222222222222,
              "#7201a8"
             ],
             [
              0.3333333333333333,
              "#9c179e"
             ],
             [
              0.4444444444444444,
              "#bd3786"
             ],
             [
              0.5555555555555556,
              "#d8576b"
             ],
             [
              0.6666666666666666,
              "#ed7953"
             ],
             [
              0.7777777777777778,
              "#fb9f3a"
             ],
             [
              0.8888888888888888,
              "#fdca26"
             ],
             [
              1,
              "#f0f921"
             ]
            ],
            "type": "histogram2dcontour"
           }
          ],
          "mesh3d": [
           {
            "colorbar": {
             "outlinewidth": 0,
             "ticks": ""
            },
            "type": "mesh3d"
           }
          ],
          "parcoords": [
           {
            "line": {
             "colorbar": {
              "outlinewidth": 0,
              "ticks": ""
             }
            },
            "type": "parcoords"
           }
          ],
          "pie": [
           {
            "automargin": true,
            "type": "pie"
           }
          ],
          "scatter": [
           {
            "marker": {
             "colorbar": {
              "outlinewidth": 0,
              "ticks": ""
             }
            },
            "type": "scatter"
           }
          ],
          "scatter3d": [
           {
            "line": {
             "colorbar": {
              "outlinewidth": 0,
              "ticks": ""
             }
            },
            "marker": {
             "colorbar": {
              "outlinewidth": 0,
              "ticks": ""
             }
            },
            "type": "scatter3d"
           }
          ],
          "scattercarpet": [
           {
            "marker": {
             "colorbar": {
              "outlinewidth": 0,
              "ticks": ""
             }
            },
            "type": "scattercarpet"
           }
          ],
          "scattergeo": [
           {
            "marker": {
             "colorbar": {
              "outlinewidth": 0,
              "ticks": ""
             }
            },
            "type": "scattergeo"
           }
          ],
          "scattergl": [
           {
            "marker": {
             "colorbar": {
              "outlinewidth": 0,
              "ticks": ""
             }
            },
            "type": "scattergl"
           }
          ],
          "scattermapbox": [
           {
            "marker": {
             "colorbar": {
              "outlinewidth": 0,
              "ticks": ""
             }
            },
            "type": "scattermapbox"
           }
          ],
          "scatterpolar": [
           {
            "marker": {
             "colorbar": {
              "outlinewidth": 0,
              "ticks": ""
             }
            },
            "type": "scatterpolar"
           }
          ],
          "scatterpolargl": [
           {
            "marker": {
             "colorbar": {
              "outlinewidth": 0,
              "ticks": ""
             }
            },
            "type": "scatterpolargl"
           }
          ],
          "scatterternary": [
           {
            "marker": {
             "colorbar": {
              "outlinewidth": 0,
              "ticks": ""
             }
            },
            "type": "scatterternary"
           }
          ],
          "surface": [
           {
            "colorbar": {
             "outlinewidth": 0,
             "ticks": ""
            },
            "colorscale": [
             [
              0,
              "#0d0887"
             ],
             [
              0.1111111111111111,
              "#46039f"
             ],
             [
              0.2222222222222222,
              "#7201a8"
             ],
             [
              0.3333333333333333,
              "#9c179e"
             ],
             [
              0.4444444444444444,
              "#bd3786"
             ],
             [
              0.5555555555555556,
              "#d8576b"
             ],
             [
              0.6666666666666666,
              "#ed7953"
             ],
             [
              0.7777777777777778,
              "#fb9f3a"
             ],
             [
              0.8888888888888888,
              "#fdca26"
             ],
             [
              1,
              "#f0f921"
             ]
            ],
            "type": "surface"
           }
          ],
          "table": [
           {
            "cells": {
             "fill": {
              "color": "#EBF0F8"
             },
             "line": {
              "color": "white"
             }
            },
            "header": {
             "fill": {
              "color": "#C8D4E3"
             },
             "line": {
              "color": "white"
             }
            },
            "type": "table"
           }
          ]
         },
         "layout": {
          "annotationdefaults": {
           "arrowcolor": "#2a3f5f",
           "arrowhead": 0,
           "arrowwidth": 1
          },
          "coloraxis": {
           "colorbar": {
            "outlinewidth": 0,
            "ticks": ""
           }
          },
          "colorscale": {
           "diverging": [
            [
             0,
             "#8e0152"
            ],
            [
             0.1,
             "#c51b7d"
            ],
            [
             0.2,
             "#de77ae"
            ],
            [
             0.3,
             "#f1b6da"
            ],
            [
             0.4,
             "#fde0ef"
            ],
            [
             0.5,
             "#f7f7f7"
            ],
            [
             0.6,
             "#e6f5d0"
            ],
            [
             0.7,
             "#b8e186"
            ],
            [
             0.8,
             "#7fbc41"
            ],
            [
             0.9,
             "#4d9221"
            ],
            [
             1,
             "#276419"
            ]
           ],
           "sequential": [
            [
             0,
             "#0d0887"
            ],
            [
             0.1111111111111111,
             "#46039f"
            ],
            [
             0.2222222222222222,
             "#7201a8"
            ],
            [
             0.3333333333333333,
             "#9c179e"
            ],
            [
             0.4444444444444444,
             "#bd3786"
            ],
            [
             0.5555555555555556,
             "#d8576b"
            ],
            [
             0.6666666666666666,
             "#ed7953"
            ],
            [
             0.7777777777777778,
             "#fb9f3a"
            ],
            [
             0.8888888888888888,
             "#fdca26"
            ],
            [
             1,
             "#f0f921"
            ]
           ],
           "sequentialminus": [
            [
             0,
             "#0d0887"
            ],
            [
             0.1111111111111111,
             "#46039f"
            ],
            [
             0.2222222222222222,
             "#7201a8"
            ],
            [
             0.3333333333333333,
             "#9c179e"
            ],
            [
             0.4444444444444444,
             "#bd3786"
            ],
            [
             0.5555555555555556,
             "#d8576b"
            ],
            [
             0.6666666666666666,
             "#ed7953"
            ],
            [
             0.7777777777777778,
             "#fb9f3a"
            ],
            [
             0.8888888888888888,
             "#fdca26"
            ],
            [
             1,
             "#f0f921"
            ]
           ]
          },
          "colorway": [
           "#636efa",
           "#EF553B",
           "#00cc96",
           "#ab63fa",
           "#FFA15A",
           "#19d3f3",
           "#FF6692",
           "#B6E880",
           "#FF97FF",
           "#FECB52"
          ],
          "font": {
           "color": "#2a3f5f"
          },
          "geo": {
           "bgcolor": "white",
           "lakecolor": "white",
           "landcolor": "#E5ECF6",
           "showlakes": true,
           "showland": true,
           "subunitcolor": "white"
          },
          "hoverlabel": {
           "align": "left"
          },
          "hovermode": "closest",
          "mapbox": {
           "style": "light"
          },
          "paper_bgcolor": "white",
          "plot_bgcolor": "#E5ECF6",
          "polar": {
           "angularaxis": {
            "gridcolor": "white",
            "linecolor": "white",
            "ticks": ""
           },
           "bgcolor": "#E5ECF6",
           "radialaxis": {
            "gridcolor": "white",
            "linecolor": "white",
            "ticks": ""
           }
          },
          "scene": {
           "xaxis": {
            "backgroundcolor": "#E5ECF6",
            "gridcolor": "white",
            "gridwidth": 2,
            "linecolor": "white",
            "showbackground": true,
            "ticks": "",
            "zerolinecolor": "white"
           },
           "yaxis": {
            "backgroundcolor": "#E5ECF6",
            "gridcolor": "white",
            "gridwidth": 2,
            "linecolor": "white",
            "showbackground": true,
            "ticks": "",
            "zerolinecolor": "white"
           },
           "zaxis": {
            "backgroundcolor": "#E5ECF6",
            "gridcolor": "white",
            "gridwidth": 2,
            "linecolor": "white",
            "showbackground": true,
            "ticks": "",
            "zerolinecolor": "white"
           }
          },
          "shapedefaults": {
           "line": {
            "color": "#2a3f5f"
           }
          },
          "ternary": {
           "aaxis": {
            "gridcolor": "white",
            "linecolor": "white",
            "ticks": ""
           },
           "baxis": {
            "gridcolor": "white",
            "linecolor": "white",
            "ticks": ""
           },
           "bgcolor": "#E5ECF6",
           "caxis": {
            "gridcolor": "white",
            "linecolor": "white",
            "ticks": ""
           }
          },
          "title": {
           "x": 0.05
          },
          "xaxis": {
           "automargin": true,
           "gridcolor": "white",
           "linecolor": "white",
           "ticks": "",
           "title": {
            "standoff": 15
           },
           "zerolinecolor": "white",
           "zerolinewidth": 2
          },
          "yaxis": {
           "automargin": true,
           "gridcolor": "white",
           "linecolor": "white",
           "ticks": "",
           "title": {
            "standoff": 15
           },
           "zerolinecolor": "white",
           "zerolinewidth": 2
          }
         }
        }
       }
      },
      "text/html": [
       "<div>\n",
       "        \n",
       "        \n",
       "            <div id=\"7fc06c03-9c38-429e-920a-3c8577c93f17\" class=\"plotly-graph-div\" style=\"height:525px; width:100%;\"></div>\n",
       "            <script type=\"text/javascript\">\n",
       "                require([\"plotly\"], function(Plotly) {\n",
       "                    window.PLOTLYENV=window.PLOTLYENV || {};\n",
       "                    \n",
       "                if (document.getElementById(\"7fc06c03-9c38-429e-920a-3c8577c93f17\")) {\n",
       "                    Plotly.newPlot(\n",
       "                        '7fc06c03-9c38-429e-920a-3c8577c93f17',\n",
       "                        [{\"lat\": [33.93911, 41.153332, 28.033886, 42.546245, -11.202691999999999, 17.060816, -38.416097, 40.069099, 40.069099, -25.274398, 47.516231, 40.143105, 40.143105, 25.03428, 25.93041400000001, 23.684994, 13.193887, 53.709807, 50.503887, 17.189877, 9.30769, 27.514162, -16.290154, 43.915886, -22.328474, -14.235004, 42.733883, 12.238333, -3.3730559999999996, 12.565679, 7.369722, 56.130366, 16.002082, 6.611111, 15.454166, -35.675146999999996, 35.86166, 4.570868, -11.875001, 9.748917, 45.1, 21.521757, 35.126413, 35.126413, 49.817492, 7.539989, 56.26392, 11.825138, 15.414999, 18.735692999999998, -1.8312389999999998, 26.820553000000004, 13.794185, 1.6508009999999995, 15.179383999999999, 58.595271999999994, 9.145, -16.578193, 61.92411, 46.227638, -0.803689, 13.443182, 42.315407, 42.315407, 51.165690999999995, 7.9465270000000015, 39.074208, 12.262775999999999, 15.783470999999999, 9.945587, 11.803749, 4.860416000000002, 18.971187, 15.199998999999998, 47.162494, 64.96305100000001, 20.593684, -0.789275, 33.223191, 53.41291, 31.046051000000002, 41.87194, 18.109581, 36.204824, 30.585164000000002, 48.019573, 48.019573, -0.023559, 29.311659999999996, 41.20438, 56.879635, 33.854721000000005, -29.609988, 6.4280550000000005, 26.3351, 47.166000000000004, 55.169438, 49.815273, -18.766947000000002, -13.254307999999998, 4.210483999999999, 3.202778, 17.570692, 35.937496, 21.00789, -20.348404000000002, 23.634501, 47.411631, 43.750298, 46.862496, 42.708678000000006, 31.791702, -18.665695, 28.394857000000002, 52.132633, -40.900557, 12.865416, 17.607789, 9.081999, 60.472024, 21.512583, 30.375321000000003, 8.537981, -6.314993, -23.442503, -9.189967, 12.879721, 51.919438, 39.399871999999995, 25.354826, 45.943160999999996, -1.940278, -21.115141, 17.357822, 13.909444, 43.94236, 23.885942, 14.497401000000002, 44.016521000000004, -4.679574, 8.460555000000001, 1.352083, 48.669026, 46.151241, 5.152149, -30.559482, 40.463667, 7.873054, 12.862807, 3.9193050000000014, -26.522503000000004, 60.128161, 46.818188, 38.861034000000004, 15.870032, -8.874217, 8.619543, 10.691803, 33.886917, 38.963745, 38.963745, 1.373333, 48.379433, 23.424076, 55.378051, 37.09024, -32.522779, 41.377491, 24.215526999999998, 15.552726999999999, -13.133897, -19.015438], \"line\": {\"color\": \"rgb(213,62,79)\", \"width\": 2}, \"lon\": [67.709953, 20.168331, 1.6596259999999998, 1.6015540000000001, 17.873887, -61.79642800000001, -63.616671999999994, 45.038189, 45.038189, 133.775136, 14.550072, 47.57692700000001, 47.57692700000001, -77.39628, 50.637772, 90.35633100000001, -59.543198, 27.953389, 4.469936, -88.49765, 2.315834, 90.433601, -63.588653, 17.679076000000006, 24.684866, -51.92528, 25.48583, -1.561593, 29.918885999999997, 104.990963, 12.354722, -106.34677099999999, -24.013197, 20.939444, 18.732207, -71.542969, 104.195397, -74.297333, 43.872219, -83.753428, 15.2, -77.78116700000002, 33.429859, 33.429859, 15.472961999999999, -5.54708, 9.501785, 42.590275, -61.370976, -70.162651, -78.183406, 30.802497999999996, -88.89653, 10.267895, 39.78233400000001, 25.013607, 40.489672999999996, 179.414413, 25.748151, 2.213749, 11.609444, -15.310139000000001, 43.356891999999995, 43.356891999999995, 10.451526, -1.0231940000000002, 21.824312, -61.604170999999994, -90.23075899999999, -9.696645, -15.180413, -58.93018000000001, -72.28521500000002, -86.241905, 19.503304, -19.020835, 78.96288, 113.921327, 43.679291, -8.243889999999999, 34.851612, 12.56738, -77.297508, 138.252924, 36.238414, 66.923684, 66.923684, 37.906193, 47.481766, 74.766098, 24.603189, 35.862285, 28.233608, -9.429499, 17.228331, 9.555373, 23.881275, 6.129583, 46.869107, 34.301525, 101.97576600000001, 73.22068, -3.996166000000001, 14.375416, -10.940835, 57.552152, -102.552784, 28.369884999999996, 7.412841, 103.84665600000001, 19.37439, -7.09262, 35.529562, 84.12400799999998, 5.291266, 174.88597099999996, -85.207229, 8.081666, 8.675277000000001, 8.468946, 55.92325500000001, 69.345116, -80.782127, 143.95555, -58.44383199999999, -75.015152, 121.77401699999999, 19.145135999999997, -8.224454, 51.183884, 24.96676, 29.873888, 55.536384, -62.782998, -60.97889300000001, 12.457777, 45.079162, -14.452361999999999, 21.005859, 55.491977, -11.779889, 103.819836, 19.699023999999998, 14.995463, 46.199616, 22.937506, -3.7492199999999998, 80.77179699999998, 30.217636, -56.02778299999999, 31.465866, 18.643501, 8.227511999999999, 71.276093, 100.992541, 125.727539, 0.824782, -61.222503, 9.537499, 35.243322, 35.243322, 32.290275, 31.16558, 53.847818000000004, -3.435973, -95.712891, -55.765834999999996, 64.585262, -12.885834, 48.516388, 27.849332, 29.154857], \"mode\": \"lines\", \"type\": \"scattergeo\"}, {\"lat\": [33.93911, 41.153332, 28.033886, 42.546245, -11.202691999999999, 17.060816, -38.416097, 40.069099, 40.069099, -25.274398, 47.516231, 40.143105, 40.143105, 25.03428, 25.93041400000001, 23.684994, 13.193887, 53.709807, 50.503887, 17.189877, 9.30769, 27.514162, -16.290154, 43.915886, -22.328474, -14.235004, 42.733883, 12.238333, -3.3730559999999996, 12.565679, 7.369722, 56.130366, 16.002082, 6.611111, 15.454166, -35.675146999999996, 35.86166, 4.570868, -11.875001, 9.748917, 45.1, 21.521757, 35.126413, 35.126413, 49.817492, 7.539989, 56.26392, 11.825138, 15.414999, 18.735692999999998, -1.8312389999999998, 26.820553000000004, 13.794185, 1.6508009999999995, 15.179383999999999, 58.595271999999994, 9.145, -16.578193, 61.92411, 46.227638, -0.803689, 13.443182, 42.315407, 42.315407, 51.165690999999995, 7.9465270000000015, 39.074208, 12.262775999999999, 15.783470999999999, 9.945587, 11.803749, 4.860416000000002, 18.971187, 15.199998999999998, 47.162494, 64.96305100000001, 20.593684, -0.789275, 33.223191, 53.41291, 31.046051000000002, 41.87194, 18.109581, 36.204824, 30.585164000000002, 48.019573, 48.019573, -0.023559, 29.311659999999996, 41.20438, 56.879635, 33.854721000000005, -29.609988, 6.4280550000000005, 26.3351, 47.166000000000004, 55.169438, 49.815273, -18.766947000000002, -13.254307999999998, 4.210483999999999, 3.202778, 17.570692, 35.937496, 21.00789, -20.348404000000002, 23.634501, 47.411631, 43.750298, 46.862496, 42.708678000000006, 31.791702, -18.665695, 28.394857000000002, 52.132633, -40.900557, 12.865416, 17.607789, 9.081999, 60.472024, 21.512583, 30.375321000000003, 8.537981, -6.314993, -23.442503, -9.189967, 12.879721, 51.919438, 39.399871999999995, 25.354826, 45.943160999999996, -1.940278, -21.115141, 17.357822, 13.909444, 43.94236, 23.885942, 14.497401000000002, 44.016521000000004, -4.679574, 8.460555000000001, 1.352083, 48.669026, 46.151241, 5.152149, -30.559482, 40.463667, 7.873054, 12.862807, 3.9193050000000014, -26.522503000000004, 60.128161, 46.818188, 38.861034000000004, 15.870032, -8.874217, 8.619543, 10.691803, 33.886917, 38.963745, 38.963745, 1.373333, 48.379433, 23.424076, 55.378051, 37.09024, -32.522779, 41.377491, 24.215526999999998, 15.552726999999999, -13.133897, -19.015438], \"line\": {\"color\": \"rgb(244,109,67)\", \"width\": 2}, \"lon\": [67.709953, 20.168331, 1.6596259999999998, 1.6015540000000001, 17.873887, -61.79642800000001, -63.616671999999994, 45.038189, 45.038189, 133.775136, 14.550072, 47.57692700000001, 47.57692700000001, -77.39628, 50.637772, 90.35633100000001, -59.543198, 27.953389, 4.469936, -88.49765, 2.315834, 90.433601, -63.588653, 17.679076000000006, 24.684866, -51.92528, 25.48583, -1.561593, 29.918885999999997, 104.990963, 12.354722, -106.34677099999999, -24.013197, 20.939444, 18.732207, -71.542969, 104.195397, -74.297333, 43.872219, -83.753428, 15.2, -77.78116700000002, 33.429859, 33.429859, 15.472961999999999, -5.54708, 9.501785, 42.590275, -61.370976, -70.162651, -78.183406, 30.802497999999996, -88.89653, 10.267895, 39.78233400000001, 25.013607, 40.489672999999996, 179.414413, 25.748151, 2.213749, 11.609444, -15.310139000000001, 43.356891999999995, 43.356891999999995, 10.451526, -1.0231940000000002, 21.824312, -61.604170999999994, -90.23075899999999, -9.696645, -15.180413, -58.93018000000001, -72.28521500000002, -86.241905, 19.503304, -19.020835, 78.96288, 113.921327, 43.679291, -8.243889999999999, 34.851612, 12.56738, -77.297508, 138.252924, 36.238414, 66.923684, 66.923684, 37.906193, 47.481766, 74.766098, 24.603189, 35.862285, 28.233608, -9.429499, 17.228331, 9.555373, 23.881275, 6.129583, 46.869107, 34.301525, 101.97576600000001, 73.22068, -3.996166000000001, 14.375416, -10.940835, 57.552152, -102.552784, 28.369884999999996, 7.412841, 103.84665600000001, 19.37439, -7.09262, 35.529562, 84.12400799999998, 5.291266, 174.88597099999996, -85.207229, 8.081666, 8.675277000000001, 8.468946, 55.92325500000001, 69.345116, -80.782127, 143.95555, -58.44383199999999, -75.015152, 121.77401699999999, 19.145135999999997, -8.224454, 51.183884, 24.96676, 29.873888, 55.536384, -62.782998, -60.97889300000001, 12.457777, 45.079162, -14.452361999999999, 21.005859, 55.491977, -11.779889, 103.819836, 19.699023999999998, 14.995463, 46.199616, 22.937506, -3.7492199999999998, 80.77179699999998, 30.217636, -56.02778299999999, 31.465866, 18.643501, 8.227511999999999, 71.276093, 100.992541, 125.727539, 0.824782, -61.222503, 9.537499, 35.243322, 35.243322, 32.290275, 31.16558, 53.847818000000004, -3.435973, -95.712891, -55.765834999999996, 64.585262, -12.885834, 48.516388, 27.849332, 29.154857], \"mode\": \"lines\", \"type\": \"scattergeo\"}, {\"lat\": [33.93911, 41.153332, 28.033886, 42.546245, -11.202691999999999, 17.060816, -38.416097, 40.069099, 40.069099, -25.274398, 47.516231, 40.143105, 40.143105, 25.03428, 25.93041400000001, 23.684994, 13.193887, 53.709807, 50.503887, 17.189877, 9.30769, 27.514162, -16.290154, 43.915886, -22.328474, -14.235004, 42.733883, 12.238333, -3.3730559999999996, 12.565679, 7.369722, 56.130366, 16.002082, 6.611111, 15.454166, -35.675146999999996, 35.86166, 4.570868, -11.875001, 9.748917, 45.1, 21.521757, 35.126413, 35.126413, 49.817492, 7.539989, 56.26392, 11.825138, 15.414999, 18.735692999999998, -1.8312389999999998, 26.820553000000004, 13.794185, 1.6508009999999995, 15.179383999999999, 58.595271999999994, 9.145, -16.578193, 61.92411, 46.227638, -0.803689, 13.443182, 42.315407, 42.315407, 51.165690999999995, 7.9465270000000015, 39.074208, 12.262775999999999, 15.783470999999999, 9.945587, 11.803749, 4.860416000000002, 18.971187, 15.199998999999998, 47.162494, 64.96305100000001, 20.593684, -0.789275, 33.223191, 53.41291, 31.046051000000002, 41.87194, 18.109581, 36.204824, 30.585164000000002, 48.019573, 48.019573, -0.023559, 29.311659999999996, 41.20438, 56.879635, 33.854721000000005, -29.609988, 6.4280550000000005, 26.3351, 47.166000000000004, 55.169438, 49.815273, -18.766947000000002, -13.254307999999998, 4.210483999999999, 3.202778, 17.570692, 35.937496, 21.00789, -20.348404000000002, 23.634501, 47.411631, 43.750298, 46.862496, 42.708678000000006, 31.791702, -18.665695, 28.394857000000002, 52.132633, -40.900557, 12.865416, 17.607789, 9.081999, 60.472024, 21.512583, 30.375321000000003, 8.537981, -6.314993, -23.442503, -9.189967, 12.879721, 51.919438, 39.399871999999995, 25.354826, 45.943160999999996, -1.940278, -21.115141, 17.357822, 13.909444, 43.94236, 23.885942, 14.497401000000002, 44.016521000000004, -4.679574, 8.460555000000001, 1.352083, 48.669026, 46.151241, 5.152149, -30.559482, 40.463667, 7.873054, 12.862807, 3.9193050000000014, -26.522503000000004, 60.128161, 46.818188, 38.861034000000004, 15.870032, -8.874217, 8.619543, 10.691803, 33.886917, 38.963745, 38.963745, 1.373333, 48.379433, 23.424076, 55.378051, 37.09024, -32.522779, 41.377491, 24.215526999999998, 15.552726999999999, -13.133897, -19.015438], \"line\": {\"color\": \"rgb(253,174,97)\", \"width\": 2}, \"lon\": [67.709953, 20.168331, 1.6596259999999998, 1.6015540000000001, 17.873887, -61.79642800000001, -63.616671999999994, 45.038189, 45.038189, 133.775136, 14.550072, 47.57692700000001, 47.57692700000001, -77.39628, 50.637772, 90.35633100000001, -59.543198, 27.953389, 4.469936, -88.49765, 2.315834, 90.433601, -63.588653, 17.679076000000006, 24.684866, -51.92528, 25.48583, -1.561593, 29.918885999999997, 104.990963, 12.354722, -106.34677099999999, -24.013197, 20.939444, 18.732207, -71.542969, 104.195397, -74.297333, 43.872219, -83.753428, 15.2, -77.78116700000002, 33.429859, 33.429859, 15.472961999999999, -5.54708, 9.501785, 42.590275, -61.370976, -70.162651, -78.183406, 30.802497999999996, -88.89653, 10.267895, 39.78233400000001, 25.013607, 40.489672999999996, 179.414413, 25.748151, 2.213749, 11.609444, -15.310139000000001, 43.356891999999995, 43.356891999999995, 10.451526, -1.0231940000000002, 21.824312, -61.604170999999994, -90.23075899999999, -9.696645, -15.180413, -58.93018000000001, -72.28521500000002, -86.241905, 19.503304, -19.020835, 78.96288, 113.921327, 43.679291, -8.243889999999999, 34.851612, 12.56738, -77.297508, 138.252924, 36.238414, 66.923684, 66.923684, 37.906193, 47.481766, 74.766098, 24.603189, 35.862285, 28.233608, -9.429499, 17.228331, 9.555373, 23.881275, 6.129583, 46.869107, 34.301525, 101.97576600000001, 73.22068, -3.996166000000001, 14.375416, -10.940835, 57.552152, -102.552784, 28.369884999999996, 7.412841, 103.84665600000001, 19.37439, -7.09262, 35.529562, 84.12400799999998, 5.291266, 174.88597099999996, -85.207229, 8.081666, 8.675277000000001, 8.468946, 55.92325500000001, 69.345116, -80.782127, 143.95555, -58.44383199999999, -75.015152, 121.77401699999999, 19.145135999999997, -8.224454, 51.183884, 24.96676, 29.873888, 55.536384, -62.782998, -60.97889300000001, 12.457777, 45.079162, -14.452361999999999, 21.005859, 55.491977, -11.779889, 103.819836, 19.699023999999998, 14.995463, 46.199616, 22.937506, -3.7492199999999998, 80.77179699999998, 30.217636, -56.02778299999999, 31.465866, 18.643501, 8.227511999999999, 71.276093, 100.992541, 125.727539, 0.824782, -61.222503, 9.537499, 35.243322, 35.243322, 32.290275, 31.16558, 53.847818000000004, -3.435973, -95.712891, -55.765834999999996, 64.585262, -12.885834, 48.516388, 27.849332, 29.154857], \"mode\": \"lines\", \"type\": \"scattergeo\"}, {\"lat\": [33.93911, 41.153332, 28.033886, 42.546245, -11.202691999999999, 17.060816, -38.416097, 40.069099, 40.069099, -25.274398, 47.516231, 40.143105, 40.143105, 25.03428, 25.93041400000001, 23.684994, 13.193887, 53.709807, 50.503887, 17.189877, 9.30769, 27.514162, -16.290154, 43.915886, -22.328474, -14.235004, 42.733883, 12.238333, -3.3730559999999996, 12.565679, 7.369722, 56.130366, 16.002082, 6.611111, 15.454166, -35.675146999999996, 35.86166, 4.570868, -11.875001, 9.748917, 45.1, 21.521757, 35.126413, 35.126413, 49.817492, 7.539989, 56.26392, 11.825138, 15.414999, 18.735692999999998, -1.8312389999999998, 26.820553000000004, 13.794185, 1.6508009999999995, 15.179383999999999, 58.595271999999994, 9.145, -16.578193, 61.92411, 46.227638, -0.803689, 13.443182, 42.315407, 42.315407, 51.165690999999995, 7.9465270000000015, 39.074208, 12.262775999999999, 15.783470999999999, 9.945587, 11.803749, 4.860416000000002, 18.971187, 15.199998999999998, 47.162494, 64.96305100000001, 20.593684, -0.789275, 33.223191, 53.41291, 31.046051000000002, 41.87194, 18.109581, 36.204824, 30.585164000000002, 48.019573, 48.019573, -0.023559, 29.311659999999996, 41.20438, 56.879635, 33.854721000000005, -29.609988, 6.4280550000000005, 26.3351, 47.166000000000004, 55.169438, 49.815273, -18.766947000000002, -13.254307999999998, 4.210483999999999, 3.202778, 17.570692, 35.937496, 21.00789, -20.348404000000002, 23.634501, 47.411631, 43.750298, 46.862496, 42.708678000000006, 31.791702, -18.665695, 28.394857000000002, 52.132633, -40.900557, 12.865416, 17.607789, 9.081999, 60.472024, 21.512583, 30.375321000000003, 8.537981, -6.314993, -23.442503, -9.189967, 12.879721, 51.919438, 39.399871999999995, 25.354826, 45.943160999999996, -1.940278, -21.115141, 17.357822, 13.909444, 43.94236, 23.885942, 14.497401000000002, 44.016521000000004, -4.679574, 8.460555000000001, 1.352083, 48.669026, 46.151241, 5.152149, -30.559482, 40.463667, 7.873054, 12.862807, 3.9193050000000014, -26.522503000000004, 60.128161, 46.818188, 38.861034000000004, 15.870032, -8.874217, 8.619543, 10.691803, 33.886917, 38.963745, 38.963745, 1.373333, 48.379433, 23.424076, 55.378051, 37.09024, -32.522779, 41.377491, 24.215526999999998, 15.552726999999999, -13.133897, -19.015438], \"line\": {\"color\": \"rgb(254,224,139)\", \"width\": 2}, \"lon\": [67.709953, 20.168331, 1.6596259999999998, 1.6015540000000001, 17.873887, -61.79642800000001, -63.616671999999994, 45.038189, 45.038189, 133.775136, 14.550072, 47.57692700000001, 47.57692700000001, -77.39628, 50.637772, 90.35633100000001, -59.543198, 27.953389, 4.469936, -88.49765, 2.315834, 90.433601, -63.588653, 17.679076000000006, 24.684866, -51.92528, 25.48583, -1.561593, 29.918885999999997, 104.990963, 12.354722, -106.34677099999999, -24.013197, 20.939444, 18.732207, -71.542969, 104.195397, -74.297333, 43.872219, -83.753428, 15.2, -77.78116700000002, 33.429859, 33.429859, 15.472961999999999, -5.54708, 9.501785, 42.590275, -61.370976, -70.162651, -78.183406, 30.802497999999996, -88.89653, 10.267895, 39.78233400000001, 25.013607, 40.489672999999996, 179.414413, 25.748151, 2.213749, 11.609444, -15.310139000000001, 43.356891999999995, 43.356891999999995, 10.451526, -1.0231940000000002, 21.824312, -61.604170999999994, -90.23075899999999, -9.696645, -15.180413, -58.93018000000001, -72.28521500000002, -86.241905, 19.503304, -19.020835, 78.96288, 113.921327, 43.679291, -8.243889999999999, 34.851612, 12.56738, -77.297508, 138.252924, 36.238414, 66.923684, 66.923684, 37.906193, 47.481766, 74.766098, 24.603189, 35.862285, 28.233608, -9.429499, 17.228331, 9.555373, 23.881275, 6.129583, 46.869107, 34.301525, 101.97576600000001, 73.22068, -3.996166000000001, 14.375416, -10.940835, 57.552152, -102.552784, 28.369884999999996, 7.412841, 103.84665600000001, 19.37439, -7.09262, 35.529562, 84.12400799999998, 5.291266, 174.88597099999996, -85.207229, 8.081666, 8.675277000000001, 8.468946, 55.92325500000001, 69.345116, -80.782127, 143.95555, -58.44383199999999, -75.015152, 121.77401699999999, 19.145135999999997, -8.224454, 51.183884, 24.96676, 29.873888, 55.536384, -62.782998, -60.97889300000001, 12.457777, 45.079162, -14.452361999999999, 21.005859, 55.491977, -11.779889, 103.819836, 19.699023999999998, 14.995463, 46.199616, 22.937506, -3.7492199999999998, 80.77179699999998, 30.217636, -56.02778299999999, 31.465866, 18.643501, 8.227511999999999, 71.276093, 100.992541, 125.727539, 0.824782, -61.222503, 9.537499, 35.243322, 35.243322, 32.290275, 31.16558, 53.847818000000004, -3.435973, -95.712891, -55.765834999999996, 64.585262, -12.885834, 48.516388, 27.849332, 29.154857], \"mode\": \"lines\", \"type\": \"scattergeo\"}, {\"lat\": [33.93911, 41.153332, 28.033886, 42.546245, -11.202691999999999, 17.060816, -38.416097, 40.069099, 40.069099, -25.274398, 47.516231, 40.143105, 40.143105, 25.03428, 25.93041400000001, 23.684994, 13.193887, 53.709807, 50.503887, 17.189877, 9.30769, 27.514162, -16.290154, 43.915886, -22.328474, -14.235004, 42.733883, 12.238333, -3.3730559999999996, 12.565679, 7.369722, 56.130366, 16.002082, 6.611111, 15.454166, -35.675146999999996, 35.86166, 4.570868, -11.875001, 9.748917, 45.1, 21.521757, 35.126413, 35.126413, 49.817492, 7.539989, 56.26392, 11.825138, 15.414999, 18.735692999999998, -1.8312389999999998, 26.820553000000004, 13.794185, 1.6508009999999995, 15.179383999999999, 58.595271999999994, 9.145, -16.578193, 61.92411, 46.227638, -0.803689, 13.443182, 42.315407, 42.315407, 51.165690999999995, 7.9465270000000015, 39.074208, 12.262775999999999, 15.783470999999999, 9.945587, 11.803749, 4.860416000000002, 18.971187, 15.199998999999998, 47.162494, 64.96305100000001, 20.593684, -0.789275, 33.223191, 53.41291, 31.046051000000002, 41.87194, 18.109581, 36.204824, 30.585164000000002, 48.019573, 48.019573, -0.023559, 29.311659999999996, 41.20438, 56.879635, 33.854721000000005, -29.609988, 6.4280550000000005, 26.3351, 47.166000000000004, 55.169438, 49.815273, -18.766947000000002, -13.254307999999998, 4.210483999999999, 3.202778, 17.570692, 35.937496, 21.00789, -20.348404000000002, 23.634501, 47.411631, 43.750298, 46.862496, 42.708678000000006, 31.791702, -18.665695, 28.394857000000002, 52.132633, -40.900557, 12.865416, 17.607789, 9.081999, 60.472024, 21.512583, 30.375321000000003, 8.537981, -6.314993, -23.442503, -9.189967, 12.879721, 51.919438, 39.399871999999995, 25.354826, 45.943160999999996, -1.940278, -21.115141, 17.357822, 13.909444, 43.94236, 23.885942, 14.497401000000002, 44.016521000000004, -4.679574, 8.460555000000001, 1.352083, 48.669026, 46.151241, 5.152149, -30.559482, 40.463667, 7.873054, 12.862807, 3.9193050000000014, -26.522503000000004, 60.128161, 46.818188, 38.861034000000004, 15.870032, -8.874217, 8.619543, 10.691803, 33.886917, 38.963745, 38.963745, 1.373333, 48.379433, 23.424076, 55.378051, 37.09024, -32.522779, 41.377491, 24.215526999999998, 15.552726999999999, -13.133897, -19.015438], \"line\": {\"color\": \"rgb(255,255,191)\", \"width\": 2}, \"lon\": [67.709953, 20.168331, 1.6596259999999998, 1.6015540000000001, 17.873887, -61.79642800000001, -63.616671999999994, 45.038189, 45.038189, 133.775136, 14.550072, 47.57692700000001, 47.57692700000001, -77.39628, 50.637772, 90.35633100000001, -59.543198, 27.953389, 4.469936, -88.49765, 2.315834, 90.433601, -63.588653, 17.679076000000006, 24.684866, -51.92528, 25.48583, -1.561593, 29.918885999999997, 104.990963, 12.354722, -106.34677099999999, -24.013197, 20.939444, 18.732207, -71.542969, 104.195397, -74.297333, 43.872219, -83.753428, 15.2, -77.78116700000002, 33.429859, 33.429859, 15.472961999999999, -5.54708, 9.501785, 42.590275, -61.370976, -70.162651, -78.183406, 30.802497999999996, -88.89653, 10.267895, 39.78233400000001, 25.013607, 40.489672999999996, 179.414413, 25.748151, 2.213749, 11.609444, -15.310139000000001, 43.356891999999995, 43.356891999999995, 10.451526, -1.0231940000000002, 21.824312, -61.604170999999994, -90.23075899999999, -9.696645, -15.180413, -58.93018000000001, -72.28521500000002, -86.241905, 19.503304, -19.020835, 78.96288, 113.921327, 43.679291, -8.243889999999999, 34.851612, 12.56738, -77.297508, 138.252924, 36.238414, 66.923684, 66.923684, 37.906193, 47.481766, 74.766098, 24.603189, 35.862285, 28.233608, -9.429499, 17.228331, 9.555373, 23.881275, 6.129583, 46.869107, 34.301525, 101.97576600000001, 73.22068, -3.996166000000001, 14.375416, -10.940835, 57.552152, -102.552784, 28.369884999999996, 7.412841, 103.84665600000001, 19.37439, -7.09262, 35.529562, 84.12400799999998, 5.291266, 174.88597099999996, -85.207229, 8.081666, 8.675277000000001, 8.468946, 55.92325500000001, 69.345116, -80.782127, 143.95555, -58.44383199999999, -75.015152, 121.77401699999999, 19.145135999999997, -8.224454, 51.183884, 24.96676, 29.873888, 55.536384, -62.782998, -60.97889300000001, 12.457777, 45.079162, -14.452361999999999, 21.005859, 55.491977, -11.779889, 103.819836, 19.699023999999998, 14.995463, 46.199616, 22.937506, -3.7492199999999998, 80.77179699999998, 30.217636, -56.02778299999999, 31.465866, 18.643501, 8.227511999999999, 71.276093, 100.992541, 125.727539, 0.824782, -61.222503, 9.537499, 35.243322, 35.243322, 32.290275, 31.16558, 53.847818000000004, -3.435973, -95.712891, -55.765834999999996, 64.585262, -12.885834, 48.516388, 27.849332, 29.154857], \"mode\": \"lines\", \"type\": \"scattergeo\"}],\n",
       "                        {\"geo\": {\"countrywidth\": 0.5, \"lakecolor\": \"rgb(0, 255, 255)\", \"landcolor\": \"rgb(230, 145, 56)\", \"lataxis\": {\"gridcolor\": \"rgb(102, 102, 102)\", \"gridwidth\": 0.5, \"showgrid\": true}, \"lonaxis\": {\"gridcolor\": \"rgb(102, 102, 102)\", \"gridwidth\": 0.5, \"showgrid\": true}, \"oceancolor\": \"rgb(0, 255, 255)\", \"projection\": {\"rotation\": {\"lat\": 40, \"lon\": -100, \"roll\": 0}, \"type\": \"orthographic\"}, \"showcountries\": true, \"showland\": true, \"showocean\": true}, \"showlegend\": false, \"template\": {\"data\": {\"bar\": [{\"error_x\": {\"color\": \"#2a3f5f\"}, \"error_y\": {\"color\": \"#2a3f5f\"}, \"marker\": {\"line\": {\"color\": \"#E5ECF6\", \"width\": 0.5}}, \"type\": \"bar\"}], \"barpolar\": [{\"marker\": {\"line\": {\"color\": \"#E5ECF6\", \"width\": 0.5}}, \"type\": \"barpolar\"}], \"carpet\": [{\"aaxis\": {\"endlinecolor\": \"#2a3f5f\", \"gridcolor\": \"white\", \"linecolor\": \"white\", \"minorgridcolor\": \"white\", \"startlinecolor\": \"#2a3f5f\"}, \"baxis\": {\"endlinecolor\": \"#2a3f5f\", \"gridcolor\": \"white\", \"linecolor\": \"white\", \"minorgridcolor\": \"white\", \"startlinecolor\": \"#2a3f5f\"}, \"type\": \"carpet\"}], \"choropleth\": [{\"colorbar\": {\"outlinewidth\": 0, \"ticks\": \"\"}, \"type\": \"choropleth\"}], \"contour\": [{\"colorbar\": {\"outlinewidth\": 0, \"ticks\": \"\"}, \"colorscale\": [[0.0, \"#0d0887\"], [0.1111111111111111, \"#46039f\"], [0.2222222222222222, \"#7201a8\"], [0.3333333333333333, \"#9c179e\"], [0.4444444444444444, \"#bd3786\"], [0.5555555555555556, \"#d8576b\"], [0.6666666666666666, \"#ed7953\"], [0.7777777777777778, \"#fb9f3a\"], [0.8888888888888888, \"#fdca26\"], [1.0, \"#f0f921\"]], \"type\": \"contour\"}], \"contourcarpet\": [{\"colorbar\": {\"outlinewidth\": 0, \"ticks\": \"\"}, \"type\": \"contourcarpet\"}], \"heatmap\": [{\"colorbar\": {\"outlinewidth\": 0, \"ticks\": \"\"}, \"colorscale\": [[0.0, \"#0d0887\"], [0.1111111111111111, \"#46039f\"], [0.2222222222222222, \"#7201a8\"], [0.3333333333333333, \"#9c179e\"], [0.4444444444444444, \"#bd3786\"], [0.5555555555555556, \"#d8576b\"], [0.6666666666666666, \"#ed7953\"], [0.7777777777777778, \"#fb9f3a\"], [0.8888888888888888, \"#fdca26\"], [1.0, \"#f0f921\"]], \"type\": \"heatmap\"}], \"heatmapgl\": [{\"colorbar\": {\"outlinewidth\": 0, \"ticks\": \"\"}, \"colorscale\": [[0.0, \"#0d0887\"], [0.1111111111111111, \"#46039f\"], [0.2222222222222222, \"#7201a8\"], [0.3333333333333333, \"#9c179e\"], [0.4444444444444444, \"#bd3786\"], [0.5555555555555556, \"#d8576b\"], [0.6666666666666666, \"#ed7953\"], [0.7777777777777778, \"#fb9f3a\"], [0.8888888888888888, \"#fdca26\"], [1.0, \"#f0f921\"]], \"type\": \"heatmapgl\"}], \"histogram\": [{\"marker\": {\"colorbar\": {\"outlinewidth\": 0, \"ticks\": \"\"}}, \"type\": \"histogram\"}], \"histogram2d\": [{\"colorbar\": {\"outlinewidth\": 0, \"ticks\": \"\"}, \"colorscale\": [[0.0, \"#0d0887\"], [0.1111111111111111, \"#46039f\"], [0.2222222222222222, \"#7201a8\"], [0.3333333333333333, \"#9c179e\"], [0.4444444444444444, \"#bd3786\"], [0.5555555555555556, \"#d8576b\"], [0.6666666666666666, \"#ed7953\"], [0.7777777777777778, \"#fb9f3a\"], [0.8888888888888888, \"#fdca26\"], [1.0, \"#f0f921\"]], \"type\": \"histogram2d\"}], \"histogram2dcontour\": [{\"colorbar\": {\"outlinewidth\": 0, \"ticks\": \"\"}, \"colorscale\": [[0.0, \"#0d0887\"], [0.1111111111111111, \"#46039f\"], [0.2222222222222222, \"#7201a8\"], [0.3333333333333333, \"#9c179e\"], [0.4444444444444444, \"#bd3786\"], [0.5555555555555556, \"#d8576b\"], [0.6666666666666666, \"#ed7953\"], [0.7777777777777778, \"#fb9f3a\"], [0.8888888888888888, \"#fdca26\"], [1.0, \"#f0f921\"]], \"type\": \"histogram2dcontour\"}], \"mesh3d\": [{\"colorbar\": {\"outlinewidth\": 0, \"ticks\": \"\"}, \"type\": \"mesh3d\"}], \"parcoords\": [{\"line\": {\"colorbar\": {\"outlinewidth\": 0, \"ticks\": \"\"}}, \"type\": \"parcoords\"}], \"pie\": [{\"automargin\": true, \"type\": \"pie\"}], \"scatter\": [{\"marker\": {\"colorbar\": {\"outlinewidth\": 0, \"ticks\": \"\"}}, \"type\": \"scatter\"}], \"scatter3d\": [{\"line\": {\"colorbar\": {\"outlinewidth\": 0, \"ticks\": \"\"}}, \"marker\": {\"colorbar\": {\"outlinewidth\": 0, \"ticks\": \"\"}}, \"type\": \"scatter3d\"}], \"scattercarpet\": [{\"marker\": {\"colorbar\": {\"outlinewidth\": 0, \"ticks\": \"\"}}, \"type\": \"scattercarpet\"}], \"scattergeo\": [{\"marker\": {\"colorbar\": {\"outlinewidth\": 0, \"ticks\": \"\"}}, \"type\": \"scattergeo\"}], \"scattergl\": [{\"marker\": {\"colorbar\": {\"outlinewidth\": 0, \"ticks\": \"\"}}, \"type\": \"scattergl\"}], \"scattermapbox\": [{\"marker\": {\"colorbar\": {\"outlinewidth\": 0, \"ticks\": \"\"}}, \"type\": \"scattermapbox\"}], \"scatterpolar\": [{\"marker\": {\"colorbar\": {\"outlinewidth\": 0, \"ticks\": \"\"}}, \"type\": \"scatterpolar\"}], \"scatterpolargl\": [{\"marker\": {\"colorbar\": {\"outlinewidth\": 0, \"ticks\": \"\"}}, \"type\": \"scatterpolargl\"}], \"scatterternary\": [{\"marker\": {\"colorbar\": {\"outlinewidth\": 0, \"ticks\": \"\"}}, \"type\": \"scatterternary\"}], \"surface\": [{\"colorbar\": {\"outlinewidth\": 0, \"ticks\": \"\"}, \"colorscale\": [[0.0, \"#0d0887\"], [0.1111111111111111, \"#46039f\"], [0.2222222222222222, \"#7201a8\"], [0.3333333333333333, \"#9c179e\"], [0.4444444444444444, \"#bd3786\"], [0.5555555555555556, \"#d8576b\"], [0.6666666666666666, \"#ed7953\"], [0.7777777777777778, \"#fb9f3a\"], [0.8888888888888888, \"#fdca26\"], [1.0, \"#f0f921\"]], \"type\": \"surface\"}], \"table\": [{\"cells\": {\"fill\": {\"color\": \"#EBF0F8\"}, \"line\": {\"color\": \"white\"}}, \"header\": {\"fill\": {\"color\": \"#C8D4E3\"}, \"line\": {\"color\": \"white\"}}, \"type\": \"table\"}]}, \"layout\": {\"annotationdefaults\": {\"arrowcolor\": \"#2a3f5f\", \"arrowhead\": 0, \"arrowwidth\": 1}, \"coloraxis\": {\"colorbar\": {\"outlinewidth\": 0, \"ticks\": \"\"}}, \"colorscale\": {\"diverging\": [[0, \"#8e0152\"], [0.1, \"#c51b7d\"], [0.2, \"#de77ae\"], [0.3, \"#f1b6da\"], [0.4, \"#fde0ef\"], [0.5, \"#f7f7f7\"], [0.6, \"#e6f5d0\"], [0.7, \"#b8e186\"], [0.8, \"#7fbc41\"], [0.9, \"#4d9221\"], [1, \"#276419\"]], \"sequential\": [[0.0, \"#0d0887\"], [0.1111111111111111, \"#46039f\"], [0.2222222222222222, \"#7201a8\"], [0.3333333333333333, \"#9c179e\"], [0.4444444444444444, \"#bd3786\"], [0.5555555555555556, \"#d8576b\"], [0.6666666666666666, \"#ed7953\"], [0.7777777777777778, \"#fb9f3a\"], [0.8888888888888888, \"#fdca26\"], [1.0, \"#f0f921\"]], \"sequentialminus\": [[0.0, \"#0d0887\"], [0.1111111111111111, \"#46039f\"], [0.2222222222222222, \"#7201a8\"], [0.3333333333333333, \"#9c179e\"], [0.4444444444444444, \"#bd3786\"], [0.5555555555555556, \"#d8576b\"], [0.6666666666666666, \"#ed7953\"], [0.7777777777777778, \"#fb9f3a\"], [0.8888888888888888, \"#fdca26\"], [1.0, \"#f0f921\"]]}, \"colorway\": [\"#636efa\", \"#EF553B\", \"#00cc96\", \"#ab63fa\", \"#FFA15A\", \"#19d3f3\", \"#FF6692\", \"#B6E880\", \"#FF97FF\", \"#FECB52\"], \"font\": {\"color\": \"#2a3f5f\"}, \"geo\": {\"bgcolor\": \"white\", \"lakecolor\": \"white\", \"landcolor\": \"#E5ECF6\", \"showlakes\": true, \"showland\": true, \"subunitcolor\": \"white\"}, \"hoverlabel\": {\"align\": \"left\"}, \"hovermode\": \"closest\", \"mapbox\": {\"style\": \"light\"}, \"paper_bgcolor\": \"white\", \"plot_bgcolor\": \"#E5ECF6\", \"polar\": {\"angularaxis\": {\"gridcolor\": \"white\", \"linecolor\": \"white\", \"ticks\": \"\"}, \"bgcolor\": \"#E5ECF6\", \"radialaxis\": {\"gridcolor\": \"white\", \"linecolor\": \"white\", \"ticks\": \"\"}}, \"scene\": {\"xaxis\": {\"backgroundcolor\": \"#E5ECF6\", \"gridcolor\": \"white\", \"gridwidth\": 2, \"linecolor\": \"white\", \"showbackground\": true, \"ticks\": \"\", \"zerolinecolor\": \"white\"}, \"yaxis\": {\"backgroundcolor\": \"#E5ECF6\", \"gridcolor\": \"white\", \"gridwidth\": 2, \"linecolor\": \"white\", \"showbackground\": true, \"ticks\": \"\", \"zerolinecolor\": \"white\"}, \"zaxis\": {\"backgroundcolor\": \"#E5ECF6\", \"gridcolor\": \"white\", \"gridwidth\": 2, \"linecolor\": \"white\", \"showbackground\": true, \"ticks\": \"\", \"zerolinecolor\": \"white\"}}, \"shapedefaults\": {\"line\": {\"color\": \"#2a3f5f\"}}, \"ternary\": {\"aaxis\": {\"gridcolor\": \"white\", \"linecolor\": \"white\", \"ticks\": \"\"}, \"baxis\": {\"gridcolor\": \"white\", \"linecolor\": \"white\", \"ticks\": \"\"}, \"bgcolor\": \"#E5ECF6\", \"caxis\": {\"gridcolor\": \"white\", \"linecolor\": \"white\", \"ticks\": \"\"}}, \"title\": {\"x\": 0.05}, \"xaxis\": {\"automargin\": true, \"gridcolor\": \"white\", \"linecolor\": \"white\", \"ticks\": \"\", \"title\": {\"standoff\": 15}, \"zerolinecolor\": \"white\", \"zerolinewidth\": 2}, \"yaxis\": {\"automargin\": true, \"gridcolor\": \"white\", \"linecolor\": \"white\", \"ticks\": \"\", \"title\": {\"standoff\": 15}, \"zerolinecolor\": \"white\", \"zerolinewidth\": 2}}}},\n",
       "                        {\"responsive\": true}\n",
       "                    ).then(function(){\n",
       "                            \n",
       "var gd = document.getElementById('7fc06c03-9c38-429e-920a-3c8577c93f17');\n",
       "var x = new MutationObserver(function (mutations, observer) {{\n",
       "        var display = window.getComputedStyle(gd).display;\n",
       "        if (!display || display === 'none') {{\n",
       "            console.log([gd, 'removed!']);\n",
       "            Plotly.purge(gd);\n",
       "            observer.disconnect();\n",
       "        }}\n",
       "}});\n",
       "\n",
       "// Listen for the removal of the full notebook cells\n",
       "var notebookContainer = gd.closest('#notebook-container');\n",
       "if (notebookContainer) {{\n",
       "    x.observe(notebookContainer, {childList: true});\n",
       "}}\n",
       "\n",
       "// Listen for the clearing of the current output cell\n",
       "var outputEl = gd.closest('.output');\n",
       "if (outputEl) {{\n",
       "    x.observe(outputEl, {childList: true});\n",
       "}}\n",
       "\n",
       "                        })\n",
       "                };\n",
       "                });\n",
       "            </script>\n",
       "        </div>"
      ]
     },
     "metadata": {},
     "output_type": "display_data"
    },
    {
     "data": {
      "text/plain": [
       "'https://plotly.com/~asepsaputra/65/'"
      ]
     },
     "execution_count": 95,
     "metadata": {},
     "output_type": "execute_result"
    }
   ],
   "source": [
    "# create a map using line_geo()\n",
    "# fig6 = px.line_geo(covid_fix, lat='latitude', lon= 'longitude', color='Continent', projection='orthographic')\n",
    "# fig6.show()\n",
    "\n",
    "scl = ['rgb(213,62,79)', 'rgb(244,109,67)', 'rgb(253,174,97)', \\\n",
    "    'rgb(254,224,139)', 'rgb(255,255,191)', 'rgb(230,245,152)', \\\n",
    "    'rgb(171,221,164)', 'rgb(102,194,165)', 'rgb(50,136,189)'\n",
    "]\n",
    "n_colors = len(scl)\n",
    "\n",
    "fig6 = go.Figure()\n",
    "\n",
    "for i, (lat, lon) in enumerate(zip(covid_fix.columns[::2], df.columns[1::2])):\n",
    "    fig6.add_trace(go.Scattergeo(\n",
    "        lon = covid_fix['longitude'],\n",
    "        lat = covid_fix['latitude'],\n",
    "        mode = 'lines',\n",
    "        line = dict(width = 2, color = scl[i % n_colors]\n",
    "        )))\n",
    "\n",
    "fig6.update_layout(\n",
    "    showlegend = False,\n",
    "    geo = dict(\n",
    "        showland = True,\n",
    "        showcountries = True,\n",
    "        showocean = True,\n",
    "        countrywidth = 0.5,\n",
    "        landcolor = 'rgb(230, 145, 56)',\n",
    "        lakecolor = 'rgb(0, 255, 255)',\n",
    "        oceancolor = 'rgb(0, 255, 255)',\n",
    "        projection = dict(\n",
    "            type = 'orthographic',\n",
    "            rotation = dict(\n",
    "                lon = -100,\n",
    "                lat = 40,\n",
    "                roll = 0\n",
    "            )\n",
    "        ),\n",
    "        lonaxis = dict(\n",
    "            showgrid = True,\n",
    "            gridcolor = 'rgb(102, 102, 102)',\n",
    "            gridwidth = 0.5\n",
    "        ),\n",
    "        lataxis = dict(\n",
    "            showgrid = True,\n",
    "            gridcolor = 'rgb(102, 102, 102)',\n",
    "            gridwidth = 0.5\n",
    "        )\n",
    "    )\n",
    ")\n",
    "\n",
    "fig6.show()"
   ]
  },
  {
   "cell_type": "markdown",
   "metadata": {},
   "source": [
    "### Choropleth Maps"
   ]
  },
  {
   "cell_type": "code",
   "execution_count": 97,
   "metadata": {},
   "outputs": [
    {
     "data": {
      "application/vnd.plotly.v1+json": {
       "config": {
        "plotlyServerURL": "https://plotly.com"
       },
       "data": [
        {
         "colorscale": [
          [
           0,
           "#636efa"
          ],
          [
           1,
           "#636efa"
          ]
         ],
         "geo": "geo",
         "hovertemplate": "<b>%{hovertext}</b><br><br>Continent=Asia<br>Country=%{location}<extra></extra>",
         "hovertext": [
          "Afghanistan",
          "Armenia",
          "Azerbaijan",
          "Bahrain",
          "Bangladesh",
          "Bhutan",
          "Cambodia",
          "China",
          "Cyprus",
          "Georgia",
          "India",
          "Indonesia",
          "Iraq",
          "Israel",
          "Japan",
          "Jordan",
          "Kazakhstan",
          "Kuwait",
          "Kyrgyzstan",
          "Lebanon",
          "Malaysia",
          "Maldives",
          "Mongolia",
          "Nepal",
          "Oman",
          "Pakistan",
          "Philippines",
          "Qatar",
          "Saudi Arabia",
          "Singapore",
          "Sri Lanka",
          "Tajikistan",
          "Thailand",
          "Timor-Leste",
          "Turkey",
          "United Arab Emirates",
          "Uzbekistan",
          "Yemen"
         ],
         "locationmode": "country names",
         "locations": [
          "Afghanistan",
          "Armenia",
          "Azerbaijan",
          "Bahrain",
          "Bangladesh",
          "Bhutan",
          "Cambodia",
          "China",
          "Cyprus",
          "Georgia",
          "India",
          "Indonesia",
          "Iraq",
          "Israel",
          "Japan",
          "Jordan",
          "Kazakhstan",
          "Kuwait",
          "Kyrgyzstan",
          "Lebanon",
          "Malaysia",
          "Maldives",
          "Mongolia",
          "Nepal",
          "Oman",
          "Pakistan",
          "Philippines",
          "Qatar",
          "Saudi Arabia",
          "Singapore",
          "Sri Lanka",
          "Tajikistan",
          "Thailand",
          "Timor-Leste",
          "Turkey",
          "United Arab Emirates",
          "Uzbekistan",
          "Yemen"
         ],
         "name": "Asia",
         "showlegend": true,
         "showscale": false,
         "type": "choropleth",
         "z": [
          1,
          1,
          1,
          1,
          1,
          1,
          1,
          1,
          1,
          1,
          1,
          1,
          1,
          1,
          1,
          1,
          1,
          1,
          1,
          1,
          1,
          1,
          1,
          1,
          1,
          1,
          1,
          1,
          1,
          1,
          1,
          1,
          1,
          1,
          1,
          1,
          1,
          1
         ]
        },
        {
         "colorscale": [
          [
           0,
           "#EF553B"
          ],
          [
           1,
           "#EF553B"
          ]
         ],
         "geo": "geo",
         "hovertemplate": "<b>%{hovertext}</b><br><br>Continent=Europe<br>Country=%{location}<extra></extra>",
         "hovertext": [
          "Albania",
          "Andorra",
          "Armenia",
          "Austria",
          "Azerbaijan",
          "Belarus",
          "Belgium",
          "Bosnia and Herzegovina",
          "Bulgaria",
          "Croatia",
          "Cyprus",
          "Czech Republic",
          "Denmark",
          "Estonia",
          "Finland",
          "France",
          "Georgia",
          "Germany",
          "Greece",
          "Hungary",
          "Iceland",
          "Ireland",
          "Italy",
          "Kazakhstan",
          "Latvia",
          "Liechtenstein",
          "Lithuania",
          "Luxembourg",
          "Malta",
          "Moldova",
          "Monaco",
          "Montenegro",
          "Netherlands",
          "Norway",
          "Poland",
          "Portugal",
          "Romania",
          "San Marino",
          "Serbia",
          "Slovakia",
          "Slovenia",
          "Spain",
          "Sweden",
          "Switzerland",
          "Turkey",
          "Ukraine",
          "United Kingdom"
         ],
         "locationmode": "country names",
         "locations": [
          "Albania",
          "Andorra",
          "Armenia",
          "Austria",
          "Azerbaijan",
          "Belarus",
          "Belgium",
          "Bosnia and Herzegovina",
          "Bulgaria",
          "Croatia",
          "Cyprus",
          "Czech Republic",
          "Denmark",
          "Estonia",
          "Finland",
          "France",
          "Georgia",
          "Germany",
          "Greece",
          "Hungary",
          "Iceland",
          "Ireland",
          "Italy",
          "Kazakhstan",
          "Latvia",
          "Liechtenstein",
          "Lithuania",
          "Luxembourg",
          "Malta",
          "Moldova",
          "Monaco",
          "Montenegro",
          "Netherlands",
          "Norway",
          "Poland",
          "Portugal",
          "Romania",
          "San Marino",
          "Serbia",
          "Slovakia",
          "Slovenia",
          "Spain",
          "Sweden",
          "Switzerland",
          "Turkey",
          "Ukraine",
          "United Kingdom"
         ],
         "name": "Europe",
         "showlegend": true,
         "showscale": false,
         "type": "choropleth",
         "z": [
          1,
          1,
          1,
          1,
          1,
          1,
          1,
          1,
          1,
          1,
          1,
          1,
          1,
          1,
          1,
          1,
          1,
          1,
          1,
          1,
          1,
          1,
          1,
          1,
          1,
          1,
          1,
          1,
          1,
          1,
          1,
          1,
          1,
          1,
          1,
          1,
          1,
          1,
          1,
          1,
          1,
          1,
          1,
          1,
          1,
          1,
          1
         ]
        },
        {
         "colorscale": [
          [
           0,
           "#00cc96"
          ],
          [
           1,
           "#00cc96"
          ]
         ],
         "geo": "geo",
         "hovertemplate": "<b>%{hovertext}</b><br><br>Continent=Africa<br>Country=%{location}<extra></extra>",
         "hovertext": [
          "Algeria",
          "Angola",
          "Benin",
          "Botswana",
          "Burkina Faso",
          "Burundi",
          "Cameroon",
          "Cape Verde",
          "Central African Republic",
          "Chad",
          "Comoros",
          "Côte d'Ivoire",
          "Djibouti",
          "Egypt",
          "Equatorial Guinea",
          "Eritrea",
          "Ethiopia",
          "Gabon",
          "Gambia",
          "Ghana",
          "Guinea",
          "Guinea-Bissau",
          "Kenya",
          "Lesotho",
          "Liberia",
          "Libya",
          "Madagascar",
          "Malawi",
          "Mali",
          "Mauritania",
          "Mauritius",
          "Morocco",
          "Mozambique",
          "Niger",
          "Nigeria",
          "Rwanda",
          "Réunion",
          "Senegal",
          "Seychelles",
          "Sierra Leone",
          "Somalia",
          "South Africa",
          "Sudan",
          "Swaziland",
          "Togo",
          "Tunisia",
          "Uganda",
          "Western Sahara",
          "Zambia",
          "Zimbabwe"
         ],
         "locationmode": "country names",
         "locations": [
          "Algeria",
          "Angola",
          "Benin",
          "Botswana",
          "Burkina Faso",
          "Burundi",
          "Cameroon",
          "Cape Verde",
          "Central African Republic",
          "Chad",
          "Comoros",
          "Côte d'Ivoire",
          "Djibouti",
          "Egypt",
          "Equatorial Guinea",
          "Eritrea",
          "Ethiopia",
          "Gabon",
          "Gambia",
          "Ghana",
          "Guinea",
          "Guinea-Bissau",
          "Kenya",
          "Lesotho",
          "Liberia",
          "Libya",
          "Madagascar",
          "Malawi",
          "Mali",
          "Mauritania",
          "Mauritius",
          "Morocco",
          "Mozambique",
          "Niger",
          "Nigeria",
          "Rwanda",
          "Réunion",
          "Senegal",
          "Seychelles",
          "Sierra Leone",
          "Somalia",
          "South Africa",
          "Sudan",
          "Swaziland",
          "Togo",
          "Tunisia",
          "Uganda",
          "Western Sahara",
          "Zambia",
          "Zimbabwe"
         ],
         "name": "Africa",
         "showlegend": true,
         "showscale": false,
         "type": "choropleth",
         "z": [
          1,
          1,
          1,
          1,
          1,
          1,
          1,
          1,
          1,
          1,
          1,
          1,
          1,
          1,
          1,
          1,
          1,
          1,
          1,
          1,
          1,
          1,
          1,
          1,
          1,
          1,
          1,
          1,
          1,
          1,
          1,
          1,
          1,
          1,
          1,
          1,
          1,
          1,
          1,
          1,
          1,
          1,
          1,
          1,
          1,
          1,
          1,
          1,
          1,
          1
         ]
        },
        {
         "colorscale": [
          [
           0,
           "#ab63fa"
          ],
          [
           1,
           "#ab63fa"
          ]
         ],
         "geo": "geo",
         "hovertemplate": "<b>%{hovertext}</b><br><br>Continent=North America<br>Country=%{location}<extra></extra>",
         "hovertext": [
          "Antigua and Barbuda",
          "Bahamas",
          "Barbados",
          "Belize",
          "Canada",
          "Costa Rica",
          "Cuba",
          "Dominica",
          "Dominican Republic",
          "El Salvador",
          "Grenada",
          "Guatemala",
          "Haiti",
          "Honduras",
          "Jamaica",
          "Mexico",
          "Nicaragua",
          "Panama",
          "Saint Kitts and Nevis",
          "Saint Lucia",
          "Trinidad and Tobago",
          "United States of America"
         ],
         "locationmode": "country names",
         "locations": [
          "Antigua and Barbuda",
          "Bahamas",
          "Barbados",
          "Belize",
          "Canada",
          "Costa Rica",
          "Cuba",
          "Dominica",
          "Dominican Republic",
          "El Salvador",
          "Grenada",
          "Guatemala",
          "Haiti",
          "Honduras",
          "Jamaica",
          "Mexico",
          "Nicaragua",
          "Panama",
          "Saint Kitts and Nevis",
          "Saint Lucia",
          "Trinidad and Tobago",
          "United States of America"
         ],
         "name": "North America",
         "showlegend": true,
         "showscale": false,
         "type": "choropleth",
         "z": [
          1,
          1,
          1,
          1,
          1,
          1,
          1,
          1,
          1,
          1,
          1,
          1,
          1,
          1,
          1,
          1,
          1,
          1,
          1,
          1,
          1,
          1
         ]
        },
        {
         "colorscale": [
          [
           0,
           "#FFA15A"
          ],
          [
           1,
           "#FFA15A"
          ]
         ],
         "geo": "geo",
         "hovertemplate": "<b>%{hovertext}</b><br><br>Continent=South America<br>Country=%{location}<extra></extra>",
         "hovertext": [
          "Argentina",
          "Bolivia",
          "Brazil",
          "Chile",
          "Colombia",
          "Ecuador",
          "Guyana",
          "Paraguay",
          "Peru",
          "Suriname",
          "Uruguay"
         ],
         "locationmode": "country names",
         "locations": [
          "Argentina",
          "Bolivia",
          "Brazil",
          "Chile",
          "Colombia",
          "Ecuador",
          "Guyana",
          "Paraguay",
          "Peru",
          "Suriname",
          "Uruguay"
         ],
         "name": "South America",
         "showlegend": true,
         "showscale": false,
         "type": "choropleth",
         "z": [
          1,
          1,
          1,
          1,
          1,
          1,
          1,
          1,
          1,
          1,
          1
         ]
        },
        {
         "colorscale": [
          [
           0,
           "#19d3f3"
          ],
          [
           1,
           "#19d3f3"
          ]
         ],
         "geo": "geo",
         "hovertemplate": "<b>%{hovertext}</b><br><br>Continent=Oceania<br>Country=%{location}<extra></extra>",
         "hovertext": [
          "Australia",
          "Fiji",
          "New Zealand",
          "Papua New Guinea"
         ],
         "locationmode": "country names",
         "locations": [
          "Australia",
          "Fiji",
          "New Zealand",
          "Papua New Guinea"
         ],
         "name": "Oceania",
         "showlegend": true,
         "showscale": false,
         "type": "choropleth",
         "z": [
          1,
          1,
          1,
          1
         ]
        }
       ],
       "layout": {
        "geo": {
         "center": {},
         "domain": {
          "x": [
           0,
           1
          ],
          "y": [
           0,
           1
          ]
         },
         "scope": "world"
        },
        "legend": {
         "title": {
          "text": "Continent"
         },
         "tracegroupgap": 0
        },
        "margin": {
         "t": 60
        },
        "template": {
         "data": {
          "bar": [
           {
            "error_x": {
             "color": "#2a3f5f"
            },
            "error_y": {
             "color": "#2a3f5f"
            },
            "marker": {
             "line": {
              "color": "#E5ECF6",
              "width": 0.5
             }
            },
            "type": "bar"
           }
          ],
          "barpolar": [
           {
            "marker": {
             "line": {
              "color": "#E5ECF6",
              "width": 0.5
             }
            },
            "type": "barpolar"
           }
          ],
          "carpet": [
           {
            "aaxis": {
             "endlinecolor": "#2a3f5f",
             "gridcolor": "white",
             "linecolor": "white",
             "minorgridcolor": "white",
             "startlinecolor": "#2a3f5f"
            },
            "baxis": {
             "endlinecolor": "#2a3f5f",
             "gridcolor": "white",
             "linecolor": "white",
             "minorgridcolor": "white",
             "startlinecolor": "#2a3f5f"
            },
            "type": "carpet"
           }
          ],
          "choropleth": [
           {
            "colorbar": {
             "outlinewidth": 0,
             "ticks": ""
            },
            "type": "choropleth"
           }
          ],
          "contour": [
           {
            "colorbar": {
             "outlinewidth": 0,
             "ticks": ""
            },
            "colorscale": [
             [
              0,
              "#0d0887"
             ],
             [
              0.1111111111111111,
              "#46039f"
             ],
             [
              0.2222222222222222,
              "#7201a8"
             ],
             [
              0.3333333333333333,
              "#9c179e"
             ],
             [
              0.4444444444444444,
              "#bd3786"
             ],
             [
              0.5555555555555556,
              "#d8576b"
             ],
             [
              0.6666666666666666,
              "#ed7953"
             ],
             [
              0.7777777777777778,
              "#fb9f3a"
             ],
             [
              0.8888888888888888,
              "#fdca26"
             ],
             [
              1,
              "#f0f921"
             ]
            ],
            "type": "contour"
           }
          ],
          "contourcarpet": [
           {
            "colorbar": {
             "outlinewidth": 0,
             "ticks": ""
            },
            "type": "contourcarpet"
           }
          ],
          "heatmap": [
           {
            "colorbar": {
             "outlinewidth": 0,
             "ticks": ""
            },
            "colorscale": [
             [
              0,
              "#0d0887"
             ],
             [
              0.1111111111111111,
              "#46039f"
             ],
             [
              0.2222222222222222,
              "#7201a8"
             ],
             [
              0.3333333333333333,
              "#9c179e"
             ],
             [
              0.4444444444444444,
              "#bd3786"
             ],
             [
              0.5555555555555556,
              "#d8576b"
             ],
             [
              0.6666666666666666,
              "#ed7953"
             ],
             [
              0.7777777777777778,
              "#fb9f3a"
             ],
             [
              0.8888888888888888,
              "#fdca26"
             ],
             [
              1,
              "#f0f921"
             ]
            ],
            "type": "heatmap"
           }
          ],
          "heatmapgl": [
           {
            "colorbar": {
             "outlinewidth": 0,
             "ticks": ""
            },
            "colorscale": [
             [
              0,
              "#0d0887"
             ],
             [
              0.1111111111111111,
              "#46039f"
             ],
             [
              0.2222222222222222,
              "#7201a8"
             ],
             [
              0.3333333333333333,
              "#9c179e"
             ],
             [
              0.4444444444444444,
              "#bd3786"
             ],
             [
              0.5555555555555556,
              "#d8576b"
             ],
             [
              0.6666666666666666,
              "#ed7953"
             ],
             [
              0.7777777777777778,
              "#fb9f3a"
             ],
             [
              0.8888888888888888,
              "#fdca26"
             ],
             [
              1,
              "#f0f921"
             ]
            ],
            "type": "heatmapgl"
           }
          ],
          "histogram": [
           {
            "marker": {
             "colorbar": {
              "outlinewidth": 0,
              "ticks": ""
             }
            },
            "type": "histogram"
           }
          ],
          "histogram2d": [
           {
            "colorbar": {
             "outlinewidth": 0,
             "ticks": ""
            },
            "colorscale": [
             [
              0,
              "#0d0887"
             ],
             [
              0.1111111111111111,
              "#46039f"
             ],
             [
              0.2222222222222222,
              "#7201a8"
             ],
             [
              0.3333333333333333,
              "#9c179e"
             ],
             [
              0.4444444444444444,
              "#bd3786"
             ],
             [
              0.5555555555555556,
              "#d8576b"
             ],
             [
              0.6666666666666666,
              "#ed7953"
             ],
             [
              0.7777777777777778,
              "#fb9f3a"
             ],
             [
              0.8888888888888888,
              "#fdca26"
             ],
             [
              1,
              "#f0f921"
             ]
            ],
            "type": "histogram2d"
           }
          ],
          "histogram2dcontour": [
           {
            "colorbar": {
             "outlinewidth": 0,
             "ticks": ""
            },
            "colorscale": [
             [
              0,
              "#0d0887"
             ],
             [
              0.1111111111111111,
              "#46039f"
             ],
             [
              0.2222222222222222,
              "#7201a8"
             ],
             [
              0.3333333333333333,
              "#9c179e"
             ],
             [
              0.4444444444444444,
              "#bd3786"
             ],
             [
              0.5555555555555556,
              "#d8576b"
             ],
             [
              0.6666666666666666,
              "#ed7953"
             ],
             [
              0.7777777777777778,
              "#fb9f3a"
             ],
             [
              0.8888888888888888,
              "#fdca26"
             ],
             [
              1,
              "#f0f921"
             ]
            ],
            "type": "histogram2dcontour"
           }
          ],
          "mesh3d": [
           {
            "colorbar": {
             "outlinewidth": 0,
             "ticks": ""
            },
            "type": "mesh3d"
           }
          ],
          "parcoords": [
           {
            "line": {
             "colorbar": {
              "outlinewidth": 0,
              "ticks": ""
             }
            },
            "type": "parcoords"
           }
          ],
          "pie": [
           {
            "automargin": true,
            "type": "pie"
           }
          ],
          "scatter": [
           {
            "marker": {
             "colorbar": {
              "outlinewidth": 0,
              "ticks": ""
             }
            },
            "type": "scatter"
           }
          ],
          "scatter3d": [
           {
            "line": {
             "colorbar": {
              "outlinewidth": 0,
              "ticks": ""
             }
            },
            "marker": {
             "colorbar": {
              "outlinewidth": 0,
              "ticks": ""
             }
            },
            "type": "scatter3d"
           }
          ],
          "scattercarpet": [
           {
            "marker": {
             "colorbar": {
              "outlinewidth": 0,
              "ticks": ""
             }
            },
            "type": "scattercarpet"
           }
          ],
          "scattergeo": [
           {
            "marker": {
             "colorbar": {
              "outlinewidth": 0,
              "ticks": ""
             }
            },
            "type": "scattergeo"
           }
          ],
          "scattergl": [
           {
            "marker": {
             "colorbar": {
              "outlinewidth": 0,
              "ticks": ""
             }
            },
            "type": "scattergl"
           }
          ],
          "scattermapbox": [
           {
            "marker": {
             "colorbar": {
              "outlinewidth": 0,
              "ticks": ""
             }
            },
            "type": "scattermapbox"
           }
          ],
          "scatterpolar": [
           {
            "marker": {
             "colorbar": {
              "outlinewidth": 0,
              "ticks": ""
             }
            },
            "type": "scatterpolar"
           }
          ],
          "scatterpolargl": [
           {
            "marker": {
             "colorbar": {
              "outlinewidth": 0,
              "ticks": ""
             }
            },
            "type": "scatterpolargl"
           }
          ],
          "scatterternary": [
           {
            "marker": {
             "colorbar": {
              "outlinewidth": 0,
              "ticks": ""
             }
            },
            "type": "scatterternary"
           }
          ],
          "surface": [
           {
            "colorbar": {
             "outlinewidth": 0,
             "ticks": ""
            },
            "colorscale": [
             [
              0,
              "#0d0887"
             ],
             [
              0.1111111111111111,
              "#46039f"
             ],
             [
              0.2222222222222222,
              "#7201a8"
             ],
             [
              0.3333333333333333,
              "#9c179e"
             ],
             [
              0.4444444444444444,
              "#bd3786"
             ],
             [
              0.5555555555555556,
              "#d8576b"
             ],
             [
              0.6666666666666666,
              "#ed7953"
             ],
             [
              0.7777777777777778,
              "#fb9f3a"
             ],
             [
              0.8888888888888888,
              "#fdca26"
             ],
             [
              1,
              "#f0f921"
             ]
            ],
            "type": "surface"
           }
          ],
          "table": [
           {
            "cells": {
             "fill": {
              "color": "#EBF0F8"
             },
             "line": {
              "color": "white"
             }
            },
            "header": {
             "fill": {
              "color": "#C8D4E3"
             },
             "line": {
              "color": "white"
             }
            },
            "type": "table"
           }
          ]
         },
         "layout": {
          "annotationdefaults": {
           "arrowcolor": "#2a3f5f",
           "arrowhead": 0,
           "arrowwidth": 1
          },
          "coloraxis": {
           "colorbar": {
            "outlinewidth": 0,
            "ticks": ""
           }
          },
          "colorscale": {
           "diverging": [
            [
             0,
             "#8e0152"
            ],
            [
             0.1,
             "#c51b7d"
            ],
            [
             0.2,
             "#de77ae"
            ],
            [
             0.3,
             "#f1b6da"
            ],
            [
             0.4,
             "#fde0ef"
            ],
            [
             0.5,
             "#f7f7f7"
            ],
            [
             0.6,
             "#e6f5d0"
            ],
            [
             0.7,
             "#b8e186"
            ],
            [
             0.8,
             "#7fbc41"
            ],
            [
             0.9,
             "#4d9221"
            ],
            [
             1,
             "#276419"
            ]
           ],
           "sequential": [
            [
             0,
             "#0d0887"
            ],
            [
             0.1111111111111111,
             "#46039f"
            ],
            [
             0.2222222222222222,
             "#7201a8"
            ],
            [
             0.3333333333333333,
             "#9c179e"
            ],
            [
             0.4444444444444444,
             "#bd3786"
            ],
            [
             0.5555555555555556,
             "#d8576b"
            ],
            [
             0.6666666666666666,
             "#ed7953"
            ],
            [
             0.7777777777777778,
             "#fb9f3a"
            ],
            [
             0.8888888888888888,
             "#fdca26"
            ],
            [
             1,
             "#f0f921"
            ]
           ],
           "sequentialminus": [
            [
             0,
             "#0d0887"
            ],
            [
             0.1111111111111111,
             "#46039f"
            ],
            [
             0.2222222222222222,
             "#7201a8"
            ],
            [
             0.3333333333333333,
             "#9c179e"
            ],
            [
             0.4444444444444444,
             "#bd3786"
            ],
            [
             0.5555555555555556,
             "#d8576b"
            ],
            [
             0.6666666666666666,
             "#ed7953"
            ],
            [
             0.7777777777777778,
             "#fb9f3a"
            ],
            [
             0.8888888888888888,
             "#fdca26"
            ],
            [
             1,
             "#f0f921"
            ]
           ]
          },
          "colorway": [
           "#636efa",
           "#EF553B",
           "#00cc96",
           "#ab63fa",
           "#FFA15A",
           "#19d3f3",
           "#FF6692",
           "#B6E880",
           "#FF97FF",
           "#FECB52"
          ],
          "font": {
           "color": "#2a3f5f"
          },
          "geo": {
           "bgcolor": "white",
           "lakecolor": "white",
           "landcolor": "#E5ECF6",
           "showlakes": true,
           "showland": true,
           "subunitcolor": "white"
          },
          "hoverlabel": {
           "align": "left"
          },
          "hovermode": "closest",
          "mapbox": {
           "style": "light"
          },
          "paper_bgcolor": "white",
          "plot_bgcolor": "#E5ECF6",
          "polar": {
           "angularaxis": {
            "gridcolor": "white",
            "linecolor": "white",
            "ticks": ""
           },
           "bgcolor": "#E5ECF6",
           "radialaxis": {
            "gridcolor": "white",
            "linecolor": "white",
            "ticks": ""
           }
          },
          "scene": {
           "xaxis": {
            "backgroundcolor": "#E5ECF6",
            "gridcolor": "white",
            "gridwidth": 2,
            "linecolor": "white",
            "showbackground": true,
            "ticks": "",
            "zerolinecolor": "white"
           },
           "yaxis": {
            "backgroundcolor": "#E5ECF6",
            "gridcolor": "white",
            "gridwidth": 2,
            "linecolor": "white",
            "showbackground": true,
            "ticks": "",
            "zerolinecolor": "white"
           },
           "zaxis": {
            "backgroundcolor": "#E5ECF6",
            "gridcolor": "white",
            "gridwidth": 2,
            "linecolor": "white",
            "showbackground": true,
            "ticks": "",
            "zerolinecolor": "white"
           }
          },
          "shapedefaults": {
           "line": {
            "color": "#2a3f5f"
           }
          },
          "ternary": {
           "aaxis": {
            "gridcolor": "white",
            "linecolor": "white",
            "ticks": ""
           },
           "baxis": {
            "gridcolor": "white",
            "linecolor": "white",
            "ticks": ""
           },
           "bgcolor": "#E5ECF6",
           "caxis": {
            "gridcolor": "white",
            "linecolor": "white",
            "ticks": ""
           }
          },
          "title": {
           "x": 0.05
          },
          "xaxis": {
           "automargin": true,
           "gridcolor": "white",
           "linecolor": "white",
           "ticks": "",
           "title": {
            "standoff": 15
           },
           "zerolinecolor": "white",
           "zerolinewidth": 2
          },
          "yaxis": {
           "automargin": true,
           "gridcolor": "white",
           "linecolor": "white",
           "ticks": "",
           "title": {
            "standoff": 15
           },
           "zerolinecolor": "white",
           "zerolinewidth": 2
          }
         }
        }
       }
      },
      "text/html": [
       "<div>\n",
       "        \n",
       "        \n",
       "            <div id=\"6203122c-1f7e-4fc6-bcb6-fad7a5d0948e\" class=\"plotly-graph-div\" style=\"height:525px; width:100%;\"></div>\n",
       "            <script type=\"text/javascript\">\n",
       "                require([\"plotly\"], function(Plotly) {\n",
       "                    window.PLOTLYENV=window.PLOTLYENV || {};\n",
       "                    \n",
       "                if (document.getElementById(\"6203122c-1f7e-4fc6-bcb6-fad7a5d0948e\")) {\n",
       "                    Plotly.newPlot(\n",
       "                        '6203122c-1f7e-4fc6-bcb6-fad7a5d0948e',\n",
       "                        [{\"colorscale\": [[0.0, \"#636efa\"], [1.0, \"#636efa\"]], \"geo\": \"geo\", \"hovertemplate\": \"<b>%{hovertext}</b><br><br>Continent=Asia<br>Country=%{location}<extra></extra>\", \"hovertext\": [\"Afghanistan\", \"Armenia\", \"Azerbaijan\", \"Bahrain\", \"Bangladesh\", \"Bhutan\", \"Cambodia\", \"China\", \"Cyprus\", \"Georgia\", \"India\", \"Indonesia\", \"Iraq\", \"Israel\", \"Japan\", \"Jordan\", \"Kazakhstan\", \"Kuwait\", \"Kyrgyzstan\", \"Lebanon\", \"Malaysia\", \"Maldives\", \"Mongolia\", \"Nepal\", \"Oman\", \"Pakistan\", \"Philippines\", \"Qatar\", \"Saudi Arabia\", \"Singapore\", \"Sri Lanka\", \"Tajikistan\", \"Thailand\", \"Timor-Leste\", \"Turkey\", \"United Arab Emirates\", \"Uzbekistan\", \"Yemen\"], \"locationmode\": \"country names\", \"locations\": [\"Afghanistan\", \"Armenia\", \"Azerbaijan\", \"Bahrain\", \"Bangladesh\", \"Bhutan\", \"Cambodia\", \"China\", \"Cyprus\", \"Georgia\", \"India\", \"Indonesia\", \"Iraq\", \"Israel\", \"Japan\", \"Jordan\", \"Kazakhstan\", \"Kuwait\", \"Kyrgyzstan\", \"Lebanon\", \"Malaysia\", \"Maldives\", \"Mongolia\", \"Nepal\", \"Oman\", \"Pakistan\", \"Philippines\", \"Qatar\", \"Saudi Arabia\", \"Singapore\", \"Sri Lanka\", \"Tajikistan\", \"Thailand\", \"Timor-Leste\", \"Turkey\", \"United Arab Emirates\", \"Uzbekistan\", \"Yemen\"], \"name\": \"Asia\", \"showlegend\": true, \"showscale\": false, \"type\": \"choropleth\", \"z\": [1, 1, 1, 1, 1, 1, 1, 1, 1, 1, 1, 1, 1, 1, 1, 1, 1, 1, 1, 1, 1, 1, 1, 1, 1, 1, 1, 1, 1, 1, 1, 1, 1, 1, 1, 1, 1, 1]}, {\"colorscale\": [[0.0, \"#EF553B\"], [1.0, \"#EF553B\"]], \"geo\": \"geo\", \"hovertemplate\": \"<b>%{hovertext}</b><br><br>Continent=Europe<br>Country=%{location}<extra></extra>\", \"hovertext\": [\"Albania\", \"Andorra\", \"Armenia\", \"Austria\", \"Azerbaijan\", \"Belarus\", \"Belgium\", \"Bosnia and Herzegovina\", \"Bulgaria\", \"Croatia\", \"Cyprus\", \"Czech Republic\", \"Denmark\", \"Estonia\", \"Finland\", \"France\", \"Georgia\", \"Germany\", \"Greece\", \"Hungary\", \"Iceland\", \"Ireland\", \"Italy\", \"Kazakhstan\", \"Latvia\", \"Liechtenstein\", \"Lithuania\", \"Luxembourg\", \"Malta\", \"Moldova\", \"Monaco\", \"Montenegro\", \"Netherlands\", \"Norway\", \"Poland\", \"Portugal\", \"Romania\", \"San Marino\", \"Serbia\", \"Slovakia\", \"Slovenia\", \"Spain\", \"Sweden\", \"Switzerland\", \"Turkey\", \"Ukraine\", \"United Kingdom\"], \"locationmode\": \"country names\", \"locations\": [\"Albania\", \"Andorra\", \"Armenia\", \"Austria\", \"Azerbaijan\", \"Belarus\", \"Belgium\", \"Bosnia and Herzegovina\", \"Bulgaria\", \"Croatia\", \"Cyprus\", \"Czech Republic\", \"Denmark\", \"Estonia\", \"Finland\", \"France\", \"Georgia\", \"Germany\", \"Greece\", \"Hungary\", \"Iceland\", \"Ireland\", \"Italy\", \"Kazakhstan\", \"Latvia\", \"Liechtenstein\", \"Lithuania\", \"Luxembourg\", \"Malta\", \"Moldova\", \"Monaco\", \"Montenegro\", \"Netherlands\", \"Norway\", \"Poland\", \"Portugal\", \"Romania\", \"San Marino\", \"Serbia\", \"Slovakia\", \"Slovenia\", \"Spain\", \"Sweden\", \"Switzerland\", \"Turkey\", \"Ukraine\", \"United Kingdom\"], \"name\": \"Europe\", \"showlegend\": true, \"showscale\": false, \"type\": \"choropleth\", \"z\": [1, 1, 1, 1, 1, 1, 1, 1, 1, 1, 1, 1, 1, 1, 1, 1, 1, 1, 1, 1, 1, 1, 1, 1, 1, 1, 1, 1, 1, 1, 1, 1, 1, 1, 1, 1, 1, 1, 1, 1, 1, 1, 1, 1, 1, 1, 1]}, {\"colorscale\": [[0.0, \"#00cc96\"], [1.0, \"#00cc96\"]], \"geo\": \"geo\", \"hovertemplate\": \"<b>%{hovertext}</b><br><br>Continent=Africa<br>Country=%{location}<extra></extra>\", \"hovertext\": [\"Algeria\", \"Angola\", \"Benin\", \"Botswana\", \"Burkina Faso\", \"Burundi\", \"Cameroon\", \"Cape Verde\", \"Central African Republic\", \"Chad\", \"Comoros\", \"C\\u00f4te d'Ivoire\", \"Djibouti\", \"Egypt\", \"Equatorial Guinea\", \"Eritrea\", \"Ethiopia\", \"Gabon\", \"Gambia\", \"Ghana\", \"Guinea\", \"Guinea-Bissau\", \"Kenya\", \"Lesotho\", \"Liberia\", \"Libya\", \"Madagascar\", \"Malawi\", \"Mali\", \"Mauritania\", \"Mauritius\", \"Morocco\", \"Mozambique\", \"Niger\", \"Nigeria\", \"Rwanda\", \"R\\u00e9union\", \"Senegal\", \"Seychelles\", \"Sierra Leone\", \"Somalia\", \"South Africa\", \"Sudan\", \"Swaziland\", \"Togo\", \"Tunisia\", \"Uganda\", \"Western Sahara\", \"Zambia\", \"Zimbabwe\"], \"locationmode\": \"country names\", \"locations\": [\"Algeria\", \"Angola\", \"Benin\", \"Botswana\", \"Burkina Faso\", \"Burundi\", \"Cameroon\", \"Cape Verde\", \"Central African Republic\", \"Chad\", \"Comoros\", \"C\\u00f4te d'Ivoire\", \"Djibouti\", \"Egypt\", \"Equatorial Guinea\", \"Eritrea\", \"Ethiopia\", \"Gabon\", \"Gambia\", \"Ghana\", \"Guinea\", \"Guinea-Bissau\", \"Kenya\", \"Lesotho\", \"Liberia\", \"Libya\", \"Madagascar\", \"Malawi\", \"Mali\", \"Mauritania\", \"Mauritius\", \"Morocco\", \"Mozambique\", \"Niger\", \"Nigeria\", \"Rwanda\", \"R\\u00e9union\", \"Senegal\", \"Seychelles\", \"Sierra Leone\", \"Somalia\", \"South Africa\", \"Sudan\", \"Swaziland\", \"Togo\", \"Tunisia\", \"Uganda\", \"Western Sahara\", \"Zambia\", \"Zimbabwe\"], \"name\": \"Africa\", \"showlegend\": true, \"showscale\": false, \"type\": \"choropleth\", \"z\": [1, 1, 1, 1, 1, 1, 1, 1, 1, 1, 1, 1, 1, 1, 1, 1, 1, 1, 1, 1, 1, 1, 1, 1, 1, 1, 1, 1, 1, 1, 1, 1, 1, 1, 1, 1, 1, 1, 1, 1, 1, 1, 1, 1, 1, 1, 1, 1, 1, 1]}, {\"colorscale\": [[0.0, \"#ab63fa\"], [1.0, \"#ab63fa\"]], \"geo\": \"geo\", \"hovertemplate\": \"<b>%{hovertext}</b><br><br>Continent=North America<br>Country=%{location}<extra></extra>\", \"hovertext\": [\"Antigua and Barbuda\", \"Bahamas\", \"Barbados\", \"Belize\", \"Canada\", \"Costa Rica\", \"Cuba\", \"Dominica\", \"Dominican Republic\", \"El Salvador\", \"Grenada\", \"Guatemala\", \"Haiti\", \"Honduras\", \"Jamaica\", \"Mexico\", \"Nicaragua\", \"Panama\", \"Saint Kitts and Nevis\", \"Saint Lucia\", \"Trinidad and Tobago\", \"United States of America\"], \"locationmode\": \"country names\", \"locations\": [\"Antigua and Barbuda\", \"Bahamas\", \"Barbados\", \"Belize\", \"Canada\", \"Costa Rica\", \"Cuba\", \"Dominica\", \"Dominican Republic\", \"El Salvador\", \"Grenada\", \"Guatemala\", \"Haiti\", \"Honduras\", \"Jamaica\", \"Mexico\", \"Nicaragua\", \"Panama\", \"Saint Kitts and Nevis\", \"Saint Lucia\", \"Trinidad and Tobago\", \"United States of America\"], \"name\": \"North America\", \"showlegend\": true, \"showscale\": false, \"type\": \"choropleth\", \"z\": [1, 1, 1, 1, 1, 1, 1, 1, 1, 1, 1, 1, 1, 1, 1, 1, 1, 1, 1, 1, 1, 1]}, {\"colorscale\": [[0.0, \"#FFA15A\"], [1.0, \"#FFA15A\"]], \"geo\": \"geo\", \"hovertemplate\": \"<b>%{hovertext}</b><br><br>Continent=South America<br>Country=%{location}<extra></extra>\", \"hovertext\": [\"Argentina\", \"Bolivia\", \"Brazil\", \"Chile\", \"Colombia\", \"Ecuador\", \"Guyana\", \"Paraguay\", \"Peru\", \"Suriname\", \"Uruguay\"], \"locationmode\": \"country names\", \"locations\": [\"Argentina\", \"Bolivia\", \"Brazil\", \"Chile\", \"Colombia\", \"Ecuador\", \"Guyana\", \"Paraguay\", \"Peru\", \"Suriname\", \"Uruguay\"], \"name\": \"South America\", \"showlegend\": true, \"showscale\": false, \"type\": \"choropleth\", \"z\": [1, 1, 1, 1, 1, 1, 1, 1, 1, 1, 1]}, {\"colorscale\": [[0.0, \"#19d3f3\"], [1.0, \"#19d3f3\"]], \"geo\": \"geo\", \"hovertemplate\": \"<b>%{hovertext}</b><br><br>Continent=Oceania<br>Country=%{location}<extra></extra>\", \"hovertext\": [\"Australia\", \"Fiji\", \"New Zealand\", \"Papua New Guinea\"], \"locationmode\": \"country names\", \"locations\": [\"Australia\", \"Fiji\", \"New Zealand\", \"Papua New Guinea\"], \"name\": \"Oceania\", \"showlegend\": true, \"showscale\": false, \"type\": \"choropleth\", \"z\": [1, 1, 1, 1]}],\n",
       "                        {\"geo\": {\"center\": {}, \"domain\": {\"x\": [0.0, 1.0], \"y\": [0.0, 1.0]}, \"scope\": \"world\"}, \"legend\": {\"title\": {\"text\": \"Continent\"}, \"tracegroupgap\": 0}, \"margin\": {\"t\": 60}, \"template\": {\"data\": {\"bar\": [{\"error_x\": {\"color\": \"#2a3f5f\"}, \"error_y\": {\"color\": \"#2a3f5f\"}, \"marker\": {\"line\": {\"color\": \"#E5ECF6\", \"width\": 0.5}}, \"type\": \"bar\"}], \"barpolar\": [{\"marker\": {\"line\": {\"color\": \"#E5ECF6\", \"width\": 0.5}}, \"type\": \"barpolar\"}], \"carpet\": [{\"aaxis\": {\"endlinecolor\": \"#2a3f5f\", \"gridcolor\": \"white\", \"linecolor\": \"white\", \"minorgridcolor\": \"white\", \"startlinecolor\": \"#2a3f5f\"}, \"baxis\": {\"endlinecolor\": \"#2a3f5f\", \"gridcolor\": \"white\", \"linecolor\": \"white\", \"minorgridcolor\": \"white\", \"startlinecolor\": \"#2a3f5f\"}, \"type\": \"carpet\"}], \"choropleth\": [{\"colorbar\": {\"outlinewidth\": 0, \"ticks\": \"\"}, \"type\": \"choropleth\"}], \"contour\": [{\"colorbar\": {\"outlinewidth\": 0, \"ticks\": \"\"}, \"colorscale\": [[0.0, \"#0d0887\"], [0.1111111111111111, \"#46039f\"], [0.2222222222222222, \"#7201a8\"], [0.3333333333333333, \"#9c179e\"], [0.4444444444444444, \"#bd3786\"], [0.5555555555555556, \"#d8576b\"], [0.6666666666666666, \"#ed7953\"], [0.7777777777777778, \"#fb9f3a\"], [0.8888888888888888, \"#fdca26\"], [1.0, \"#f0f921\"]], \"type\": \"contour\"}], \"contourcarpet\": [{\"colorbar\": {\"outlinewidth\": 0, \"ticks\": \"\"}, \"type\": \"contourcarpet\"}], \"heatmap\": [{\"colorbar\": {\"outlinewidth\": 0, \"ticks\": \"\"}, \"colorscale\": [[0.0, \"#0d0887\"], [0.1111111111111111, \"#46039f\"], [0.2222222222222222, \"#7201a8\"], [0.3333333333333333, \"#9c179e\"], [0.4444444444444444, \"#bd3786\"], [0.5555555555555556, \"#d8576b\"], [0.6666666666666666, \"#ed7953\"], [0.7777777777777778, \"#fb9f3a\"], [0.8888888888888888, \"#fdca26\"], [1.0, \"#f0f921\"]], \"type\": \"heatmap\"}], \"heatmapgl\": [{\"colorbar\": {\"outlinewidth\": 0, \"ticks\": \"\"}, \"colorscale\": [[0.0, \"#0d0887\"], [0.1111111111111111, \"#46039f\"], [0.2222222222222222, \"#7201a8\"], [0.3333333333333333, \"#9c179e\"], [0.4444444444444444, \"#bd3786\"], [0.5555555555555556, \"#d8576b\"], [0.6666666666666666, \"#ed7953\"], [0.7777777777777778, \"#fb9f3a\"], [0.8888888888888888, \"#fdca26\"], [1.0, \"#f0f921\"]], \"type\": \"heatmapgl\"}], \"histogram\": [{\"marker\": {\"colorbar\": {\"outlinewidth\": 0, \"ticks\": \"\"}}, \"type\": \"histogram\"}], \"histogram2d\": [{\"colorbar\": {\"outlinewidth\": 0, \"ticks\": \"\"}, \"colorscale\": [[0.0, \"#0d0887\"], [0.1111111111111111, \"#46039f\"], [0.2222222222222222, \"#7201a8\"], [0.3333333333333333, \"#9c179e\"], [0.4444444444444444, \"#bd3786\"], [0.5555555555555556, \"#d8576b\"], [0.6666666666666666, \"#ed7953\"], [0.7777777777777778, \"#fb9f3a\"], [0.8888888888888888, \"#fdca26\"], [1.0, \"#f0f921\"]], \"type\": \"histogram2d\"}], \"histogram2dcontour\": [{\"colorbar\": {\"outlinewidth\": 0, \"ticks\": \"\"}, \"colorscale\": [[0.0, \"#0d0887\"], [0.1111111111111111, \"#46039f\"], [0.2222222222222222, \"#7201a8\"], [0.3333333333333333, \"#9c179e\"], [0.4444444444444444, \"#bd3786\"], [0.5555555555555556, \"#d8576b\"], [0.6666666666666666, \"#ed7953\"], [0.7777777777777778, \"#fb9f3a\"], [0.8888888888888888, \"#fdca26\"], [1.0, \"#f0f921\"]], \"type\": \"histogram2dcontour\"}], \"mesh3d\": [{\"colorbar\": {\"outlinewidth\": 0, \"ticks\": \"\"}, \"type\": \"mesh3d\"}], \"parcoords\": [{\"line\": {\"colorbar\": {\"outlinewidth\": 0, \"ticks\": \"\"}}, \"type\": \"parcoords\"}], \"pie\": [{\"automargin\": true, \"type\": \"pie\"}], \"scatter\": [{\"marker\": {\"colorbar\": {\"outlinewidth\": 0, \"ticks\": \"\"}}, \"type\": \"scatter\"}], \"scatter3d\": [{\"line\": {\"colorbar\": {\"outlinewidth\": 0, \"ticks\": \"\"}}, \"marker\": {\"colorbar\": {\"outlinewidth\": 0, \"ticks\": \"\"}}, \"type\": \"scatter3d\"}], \"scattercarpet\": [{\"marker\": {\"colorbar\": {\"outlinewidth\": 0, \"ticks\": \"\"}}, \"type\": \"scattercarpet\"}], \"scattergeo\": [{\"marker\": {\"colorbar\": {\"outlinewidth\": 0, \"ticks\": \"\"}}, \"type\": \"scattergeo\"}], \"scattergl\": [{\"marker\": {\"colorbar\": {\"outlinewidth\": 0, \"ticks\": \"\"}}, \"type\": \"scattergl\"}], \"scattermapbox\": [{\"marker\": {\"colorbar\": {\"outlinewidth\": 0, \"ticks\": \"\"}}, \"type\": \"scattermapbox\"}], \"scatterpolar\": [{\"marker\": {\"colorbar\": {\"outlinewidth\": 0, \"ticks\": \"\"}}, \"type\": \"scatterpolar\"}], \"scatterpolargl\": [{\"marker\": {\"colorbar\": {\"outlinewidth\": 0, \"ticks\": \"\"}}, \"type\": \"scatterpolargl\"}], \"scatterternary\": [{\"marker\": {\"colorbar\": {\"outlinewidth\": 0, \"ticks\": \"\"}}, \"type\": \"scatterternary\"}], \"surface\": [{\"colorbar\": {\"outlinewidth\": 0, \"ticks\": \"\"}, \"colorscale\": [[0.0, \"#0d0887\"], [0.1111111111111111, \"#46039f\"], [0.2222222222222222, \"#7201a8\"], [0.3333333333333333, \"#9c179e\"], [0.4444444444444444, \"#bd3786\"], [0.5555555555555556, \"#d8576b\"], [0.6666666666666666, \"#ed7953\"], [0.7777777777777778, \"#fb9f3a\"], [0.8888888888888888, \"#fdca26\"], [1.0, \"#f0f921\"]], \"type\": \"surface\"}], \"table\": [{\"cells\": {\"fill\": {\"color\": \"#EBF0F8\"}, \"line\": {\"color\": \"white\"}}, \"header\": {\"fill\": {\"color\": \"#C8D4E3\"}, \"line\": {\"color\": \"white\"}}, \"type\": \"table\"}]}, \"layout\": {\"annotationdefaults\": {\"arrowcolor\": \"#2a3f5f\", \"arrowhead\": 0, \"arrowwidth\": 1}, \"coloraxis\": {\"colorbar\": {\"outlinewidth\": 0, \"ticks\": \"\"}}, \"colorscale\": {\"diverging\": [[0, \"#8e0152\"], [0.1, \"#c51b7d\"], [0.2, \"#de77ae\"], [0.3, \"#f1b6da\"], [0.4, \"#fde0ef\"], [0.5, \"#f7f7f7\"], [0.6, \"#e6f5d0\"], [0.7, \"#b8e186\"], [0.8, \"#7fbc41\"], [0.9, \"#4d9221\"], [1, \"#276419\"]], \"sequential\": [[0.0, \"#0d0887\"], [0.1111111111111111, \"#46039f\"], [0.2222222222222222, \"#7201a8\"], [0.3333333333333333, \"#9c179e\"], [0.4444444444444444, \"#bd3786\"], [0.5555555555555556, \"#d8576b\"], [0.6666666666666666, \"#ed7953\"], [0.7777777777777778, \"#fb9f3a\"], [0.8888888888888888, \"#fdca26\"], [1.0, \"#f0f921\"]], \"sequentialminus\": [[0.0, \"#0d0887\"], [0.1111111111111111, \"#46039f\"], [0.2222222222222222, \"#7201a8\"], [0.3333333333333333, \"#9c179e\"], [0.4444444444444444, \"#bd3786\"], [0.5555555555555556, \"#d8576b\"], [0.6666666666666666, \"#ed7953\"], [0.7777777777777778, \"#fb9f3a\"], [0.8888888888888888, \"#fdca26\"], [1.0, \"#f0f921\"]]}, \"colorway\": [\"#636efa\", \"#EF553B\", \"#00cc96\", \"#ab63fa\", \"#FFA15A\", \"#19d3f3\", \"#FF6692\", \"#B6E880\", \"#FF97FF\", \"#FECB52\"], \"font\": {\"color\": \"#2a3f5f\"}, \"geo\": {\"bgcolor\": \"white\", \"lakecolor\": \"white\", \"landcolor\": \"#E5ECF6\", \"showlakes\": true, \"showland\": true, \"subunitcolor\": \"white\"}, \"hoverlabel\": {\"align\": \"left\"}, \"hovermode\": \"closest\", \"mapbox\": {\"style\": \"light\"}, \"paper_bgcolor\": \"white\", \"plot_bgcolor\": \"#E5ECF6\", \"polar\": {\"angularaxis\": {\"gridcolor\": \"white\", \"linecolor\": \"white\", \"ticks\": \"\"}, \"bgcolor\": \"#E5ECF6\", \"radialaxis\": {\"gridcolor\": \"white\", \"linecolor\": \"white\", \"ticks\": \"\"}}, \"scene\": {\"xaxis\": {\"backgroundcolor\": \"#E5ECF6\", \"gridcolor\": \"white\", \"gridwidth\": 2, \"linecolor\": \"white\", \"showbackground\": true, \"ticks\": \"\", \"zerolinecolor\": \"white\"}, \"yaxis\": {\"backgroundcolor\": \"#E5ECF6\", \"gridcolor\": \"white\", \"gridwidth\": 2, \"linecolor\": \"white\", \"showbackground\": true, \"ticks\": \"\", \"zerolinecolor\": \"white\"}, \"zaxis\": {\"backgroundcolor\": \"#E5ECF6\", \"gridcolor\": \"white\", \"gridwidth\": 2, \"linecolor\": \"white\", \"showbackground\": true, \"ticks\": \"\", \"zerolinecolor\": \"white\"}}, \"shapedefaults\": {\"line\": {\"color\": \"#2a3f5f\"}}, \"ternary\": {\"aaxis\": {\"gridcolor\": \"white\", \"linecolor\": \"white\", \"ticks\": \"\"}, \"baxis\": {\"gridcolor\": \"white\", \"linecolor\": \"white\", \"ticks\": \"\"}, \"bgcolor\": \"#E5ECF6\", \"caxis\": {\"gridcolor\": \"white\", \"linecolor\": \"white\", \"ticks\": \"\"}}, \"title\": {\"x\": 0.05}, \"xaxis\": {\"automargin\": true, \"gridcolor\": \"white\", \"linecolor\": \"white\", \"ticks\": \"\", \"title\": {\"standoff\": 15}, \"zerolinecolor\": \"white\", \"zerolinewidth\": 2}, \"yaxis\": {\"automargin\": true, \"gridcolor\": \"white\", \"linecolor\": \"white\", \"ticks\": \"\", \"title\": {\"standoff\": 15}, \"zerolinecolor\": \"white\", \"zerolinewidth\": 2}}}},\n",
       "                        {\"responsive\": true}\n",
       "                    ).then(function(){\n",
       "                            \n",
       "var gd = document.getElementById('6203122c-1f7e-4fc6-bcb6-fad7a5d0948e');\n",
       "var x = new MutationObserver(function (mutations, observer) {{\n",
       "        var display = window.getComputedStyle(gd).display;\n",
       "        if (!display || display === 'none') {{\n",
       "            console.log([gd, 'removed!']);\n",
       "            Plotly.purge(gd);\n",
       "            observer.disconnect();\n",
       "        }}\n",
       "}});\n",
       "\n",
       "// Listen for the removal of the full notebook cells\n",
       "var notebookContainer = gd.closest('#notebook-container');\n",
       "if (notebookContainer) {{\n",
       "    x.observe(notebookContainer, {childList: true});\n",
       "}}\n",
       "\n",
       "// Listen for the clearing of the current output cell\n",
       "var outputEl = gd.closest('.output');\n",
       "if (outputEl) {{\n",
       "    x.observe(outputEl, {childList: true});\n",
       "}}\n",
       "\n",
       "                        })\n",
       "                };\n",
       "                });\n",
       "            </script>\n",
       "        </div>"
      ]
     },
     "metadata": {},
     "output_type": "display_data"
    },
    {
     "data": {
      "text/plain": [
       "'https://plotly.com/~asepsaputra/67/'"
      ]
     },
     "execution_count": 97,
     "metadata": {},
     "output_type": "execute_result"
    }
   ],
   "source": [
    "fig7 = px.choropleth(covid_fix, locations='Country', locationmode= 'country names',\n",
    "                    color='Continent', scope='world',\n",
    "                     hover_name = 'Country')\n",
    "fig7.show()"
   ]
  },
  {
   "cell_type": "code",
   "execution_count": 98,
   "metadata": {},
   "outputs": [
    {
     "data": {
      "application/vnd.plotly.v1+json": {
       "config": {
        "plotlyServerURL": "https://plotly.com"
       },
       "data": [
        {
         "colorscale": [
          [
           0,
           "#636efa"
          ],
          [
           1,
           "#636efa"
          ]
         ],
         "geo": "geo",
         "hovertemplate": "<b>%{hovertext}</b><br><br>Country=%{location}<extra></extra>",
         "hovertext": [
          "Afghanistan"
         ],
         "locationmode": "country names",
         "locations": [
          "Afghanistan"
         ],
         "name": "Afghanistan",
         "showlegend": true,
         "showscale": false,
         "type": "choropleth",
         "z": [
          1
         ]
        },
        {
         "colorscale": [
          [
           0,
           "#EF553B"
          ],
          [
           1,
           "#EF553B"
          ]
         ],
         "geo": "geo",
         "hovertemplate": "<b>%{hovertext}</b><br><br>Country=%{location}<extra></extra>",
         "hovertext": [
          "Albania"
         ],
         "locationmode": "country names",
         "locations": [
          "Albania"
         ],
         "name": "Albania",
         "showlegend": true,
         "showscale": false,
         "type": "choropleth",
         "z": [
          1
         ]
        },
        {
         "colorscale": [
          [
           0,
           "#00cc96"
          ],
          [
           1,
           "#00cc96"
          ]
         ],
         "geo": "geo",
         "hovertemplate": "<b>%{hovertext}</b><br><br>Country=%{location}<extra></extra>",
         "hovertext": [
          "Algeria"
         ],
         "locationmode": "country names",
         "locations": [
          "Algeria"
         ],
         "name": "Algeria",
         "showlegend": true,
         "showscale": false,
         "type": "choropleth",
         "z": [
          1
         ]
        },
        {
         "colorscale": [
          [
           0,
           "#ab63fa"
          ],
          [
           1,
           "#ab63fa"
          ]
         ],
         "geo": "geo",
         "hovertemplate": "<b>%{hovertext}</b><br><br>Country=%{location}<extra></extra>",
         "hovertext": [
          "Andorra"
         ],
         "locationmode": "country names",
         "locations": [
          "Andorra"
         ],
         "name": "Andorra",
         "showlegend": true,
         "showscale": false,
         "type": "choropleth",
         "z": [
          1
         ]
        },
        {
         "colorscale": [
          [
           0,
           "#FFA15A"
          ],
          [
           1,
           "#FFA15A"
          ]
         ],
         "geo": "geo",
         "hovertemplate": "<b>%{hovertext}</b><br><br>Country=%{location}<extra></extra>",
         "hovertext": [
          "Angola"
         ],
         "locationmode": "country names",
         "locations": [
          "Angola"
         ],
         "name": "Angola",
         "showlegend": true,
         "showscale": false,
         "type": "choropleth",
         "z": [
          1
         ]
        },
        {
         "colorscale": [
          [
           0,
           "#19d3f3"
          ],
          [
           1,
           "#19d3f3"
          ]
         ],
         "geo": "geo",
         "hovertemplate": "<b>%{hovertext}</b><br><br>Country=%{location}<extra></extra>",
         "hovertext": [
          "Antigua and Barbuda"
         ],
         "locationmode": "country names",
         "locations": [
          "Antigua and Barbuda"
         ],
         "name": "Antigua and Barbuda",
         "showlegend": true,
         "showscale": false,
         "type": "choropleth",
         "z": [
          1
         ]
        },
        {
         "colorscale": [
          [
           0,
           "#FF6692"
          ],
          [
           1,
           "#FF6692"
          ]
         ],
         "geo": "geo",
         "hovertemplate": "<b>%{hovertext}</b><br><br>Country=%{location}<extra></extra>",
         "hovertext": [
          "Argentina"
         ],
         "locationmode": "country names",
         "locations": [
          "Argentina"
         ],
         "name": "Argentina",
         "showlegend": true,
         "showscale": false,
         "type": "choropleth",
         "z": [
          1
         ]
        },
        {
         "colorscale": [
          [
           0,
           "#B6E880"
          ],
          [
           1,
           "#B6E880"
          ]
         ],
         "geo": "geo",
         "hovertemplate": "<b>%{hovertext}</b><br><br>Country=%{location}<extra></extra>",
         "hovertext": [
          "Armenia",
          "Armenia"
         ],
         "locationmode": "country names",
         "locations": [
          "Armenia",
          "Armenia"
         ],
         "name": "Armenia",
         "showlegend": true,
         "showscale": false,
         "type": "choropleth",
         "z": [
          1,
          1
         ]
        },
        {
         "colorscale": [
          [
           0,
           "#FF97FF"
          ],
          [
           1,
           "#FF97FF"
          ]
         ],
         "geo": "geo",
         "hovertemplate": "<b>%{hovertext}</b><br><br>Country=%{location}<extra></extra>",
         "hovertext": [
          "Australia"
         ],
         "locationmode": "country names",
         "locations": [
          "Australia"
         ],
         "name": "Australia",
         "showlegend": true,
         "showscale": false,
         "type": "choropleth",
         "z": [
          1
         ]
        },
        {
         "colorscale": [
          [
           0,
           "#FECB52"
          ],
          [
           1,
           "#FECB52"
          ]
         ],
         "geo": "geo",
         "hovertemplate": "<b>%{hovertext}</b><br><br>Country=%{location}<extra></extra>",
         "hovertext": [
          "Austria"
         ],
         "locationmode": "country names",
         "locations": [
          "Austria"
         ],
         "name": "Austria",
         "showlegend": true,
         "showscale": false,
         "type": "choropleth",
         "z": [
          1
         ]
        },
        {
         "colorscale": [
          [
           0,
           "#636efa"
          ],
          [
           1,
           "#636efa"
          ]
         ],
         "geo": "geo",
         "hovertemplate": "<b>%{hovertext}</b><br><br>Country=%{location}<extra></extra>",
         "hovertext": [
          "Azerbaijan",
          "Azerbaijan"
         ],
         "locationmode": "country names",
         "locations": [
          "Azerbaijan",
          "Azerbaijan"
         ],
         "name": "Azerbaijan",
         "showlegend": true,
         "showscale": false,
         "type": "choropleth",
         "z": [
          1,
          1
         ]
        },
        {
         "colorscale": [
          [
           0,
           "#EF553B"
          ],
          [
           1,
           "#EF553B"
          ]
         ],
         "geo": "geo",
         "hovertemplate": "<b>%{hovertext}</b><br><br>Country=%{location}<extra></extra>",
         "hovertext": [
          "Bahamas"
         ],
         "locationmode": "country names",
         "locations": [
          "Bahamas"
         ],
         "name": "Bahamas",
         "showlegend": true,
         "showscale": false,
         "type": "choropleth",
         "z": [
          1
         ]
        },
        {
         "colorscale": [
          [
           0,
           "#00cc96"
          ],
          [
           1,
           "#00cc96"
          ]
         ],
         "geo": "geo",
         "hovertemplate": "<b>%{hovertext}</b><br><br>Country=%{location}<extra></extra>",
         "hovertext": [
          "Bahrain"
         ],
         "locationmode": "country names",
         "locations": [
          "Bahrain"
         ],
         "name": "Bahrain",
         "showlegend": true,
         "showscale": false,
         "type": "choropleth",
         "z": [
          1
         ]
        },
        {
         "colorscale": [
          [
           0,
           "#ab63fa"
          ],
          [
           1,
           "#ab63fa"
          ]
         ],
         "geo": "geo",
         "hovertemplate": "<b>%{hovertext}</b><br><br>Country=%{location}<extra></extra>",
         "hovertext": [
          "Bangladesh"
         ],
         "locationmode": "country names",
         "locations": [
          "Bangladesh"
         ],
         "name": "Bangladesh",
         "showlegend": true,
         "showscale": false,
         "type": "choropleth",
         "z": [
          1
         ]
        },
        {
         "colorscale": [
          [
           0,
           "#FFA15A"
          ],
          [
           1,
           "#FFA15A"
          ]
         ],
         "geo": "geo",
         "hovertemplate": "<b>%{hovertext}</b><br><br>Country=%{location}<extra></extra>",
         "hovertext": [
          "Barbados"
         ],
         "locationmode": "country names",
         "locations": [
          "Barbados"
         ],
         "name": "Barbados",
         "showlegend": true,
         "showscale": false,
         "type": "choropleth",
         "z": [
          1
         ]
        },
        {
         "colorscale": [
          [
           0,
           "#19d3f3"
          ],
          [
           1,
           "#19d3f3"
          ]
         ],
         "geo": "geo",
         "hovertemplate": "<b>%{hovertext}</b><br><br>Country=%{location}<extra></extra>",
         "hovertext": [
          "Belarus"
         ],
         "locationmode": "country names",
         "locations": [
          "Belarus"
         ],
         "name": "Belarus",
         "showlegend": true,
         "showscale": false,
         "type": "choropleth",
         "z": [
          1
         ]
        },
        {
         "colorscale": [
          [
           0,
           "#FF6692"
          ],
          [
           1,
           "#FF6692"
          ]
         ],
         "geo": "geo",
         "hovertemplate": "<b>%{hovertext}</b><br><br>Country=%{location}<extra></extra>",
         "hovertext": [
          "Belgium"
         ],
         "locationmode": "country names",
         "locations": [
          "Belgium"
         ],
         "name": "Belgium",
         "showlegend": true,
         "showscale": false,
         "type": "choropleth",
         "z": [
          1
         ]
        },
        {
         "colorscale": [
          [
           0,
           "#B6E880"
          ],
          [
           1,
           "#B6E880"
          ]
         ],
         "geo": "geo",
         "hovertemplate": "<b>%{hovertext}</b><br><br>Country=%{location}<extra></extra>",
         "hovertext": [
          "Belize"
         ],
         "locationmode": "country names",
         "locations": [
          "Belize"
         ],
         "name": "Belize",
         "showlegend": true,
         "showscale": false,
         "type": "choropleth",
         "z": [
          1
         ]
        },
        {
         "colorscale": [
          [
           0,
           "#FF97FF"
          ],
          [
           1,
           "#FF97FF"
          ]
         ],
         "geo": "geo",
         "hovertemplate": "<b>%{hovertext}</b><br><br>Country=%{location}<extra></extra>",
         "hovertext": [
          "Benin"
         ],
         "locationmode": "country names",
         "locations": [
          "Benin"
         ],
         "name": "Benin",
         "showlegend": true,
         "showscale": false,
         "type": "choropleth",
         "z": [
          1
         ]
        },
        {
         "colorscale": [
          [
           0,
           "#FECB52"
          ],
          [
           1,
           "#FECB52"
          ]
         ],
         "geo": "geo",
         "hovertemplate": "<b>%{hovertext}</b><br><br>Country=%{location}<extra></extra>",
         "hovertext": [
          "Bhutan"
         ],
         "locationmode": "country names",
         "locations": [
          "Bhutan"
         ],
         "name": "Bhutan",
         "showlegend": true,
         "showscale": false,
         "type": "choropleth",
         "z": [
          1
         ]
        },
        {
         "colorscale": [
          [
           0,
           "#636efa"
          ],
          [
           1,
           "#636efa"
          ]
         ],
         "geo": "geo",
         "hovertemplate": "<b>%{hovertext}</b><br><br>Country=%{location}<extra></extra>",
         "hovertext": [
          "Bolivia"
         ],
         "locationmode": "country names",
         "locations": [
          "Bolivia"
         ],
         "name": "Bolivia",
         "showlegend": true,
         "showscale": false,
         "type": "choropleth",
         "z": [
          1
         ]
        },
        {
         "colorscale": [
          [
           0,
           "#EF553B"
          ],
          [
           1,
           "#EF553B"
          ]
         ],
         "geo": "geo",
         "hovertemplate": "<b>%{hovertext}</b><br><br>Country=%{location}<extra></extra>",
         "hovertext": [
          "Bosnia and Herzegovina"
         ],
         "locationmode": "country names",
         "locations": [
          "Bosnia and Herzegovina"
         ],
         "name": "Bosnia and Herzegovina",
         "showlegend": true,
         "showscale": false,
         "type": "choropleth",
         "z": [
          1
         ]
        },
        {
         "colorscale": [
          [
           0,
           "#00cc96"
          ],
          [
           1,
           "#00cc96"
          ]
         ],
         "geo": "geo",
         "hovertemplate": "<b>%{hovertext}</b><br><br>Country=%{location}<extra></extra>",
         "hovertext": [
          "Botswana"
         ],
         "locationmode": "country names",
         "locations": [
          "Botswana"
         ],
         "name": "Botswana",
         "showlegend": true,
         "showscale": false,
         "type": "choropleth",
         "z": [
          1
         ]
        },
        {
         "colorscale": [
          [
           0,
           "#ab63fa"
          ],
          [
           1,
           "#ab63fa"
          ]
         ],
         "geo": "geo",
         "hovertemplate": "<b>%{hovertext}</b><br><br>Country=%{location}<extra></extra>",
         "hovertext": [
          "Brazil"
         ],
         "locationmode": "country names",
         "locations": [
          "Brazil"
         ],
         "name": "Brazil",
         "showlegend": true,
         "showscale": false,
         "type": "choropleth",
         "z": [
          1
         ]
        },
        {
         "colorscale": [
          [
           0,
           "#FFA15A"
          ],
          [
           1,
           "#FFA15A"
          ]
         ],
         "geo": "geo",
         "hovertemplate": "<b>%{hovertext}</b><br><br>Country=%{location}<extra></extra>",
         "hovertext": [
          "Bulgaria"
         ],
         "locationmode": "country names",
         "locations": [
          "Bulgaria"
         ],
         "name": "Bulgaria",
         "showlegend": true,
         "showscale": false,
         "type": "choropleth",
         "z": [
          1
         ]
        },
        {
         "colorscale": [
          [
           0,
           "#19d3f3"
          ],
          [
           1,
           "#19d3f3"
          ]
         ],
         "geo": "geo",
         "hovertemplate": "<b>%{hovertext}</b><br><br>Country=%{location}<extra></extra>",
         "hovertext": [
          "Burkina Faso"
         ],
         "locationmode": "country names",
         "locations": [
          "Burkina Faso"
         ],
         "name": "Burkina Faso",
         "showlegend": true,
         "showscale": false,
         "type": "choropleth",
         "z": [
          1
         ]
        },
        {
         "colorscale": [
          [
           0,
           "#FF6692"
          ],
          [
           1,
           "#FF6692"
          ]
         ],
         "geo": "geo",
         "hovertemplate": "<b>%{hovertext}</b><br><br>Country=%{location}<extra></extra>",
         "hovertext": [
          "Burundi"
         ],
         "locationmode": "country names",
         "locations": [
          "Burundi"
         ],
         "name": "Burundi",
         "showlegend": true,
         "showscale": false,
         "type": "choropleth",
         "z": [
          1
         ]
        },
        {
         "colorscale": [
          [
           0,
           "#B6E880"
          ],
          [
           1,
           "#B6E880"
          ]
         ],
         "geo": "geo",
         "hovertemplate": "<b>%{hovertext}</b><br><br>Country=%{location}<extra></extra>",
         "hovertext": [
          "Cambodia"
         ],
         "locationmode": "country names",
         "locations": [
          "Cambodia"
         ],
         "name": "Cambodia",
         "showlegend": true,
         "showscale": false,
         "type": "choropleth",
         "z": [
          1
         ]
        },
        {
         "colorscale": [
          [
           0,
           "#FF97FF"
          ],
          [
           1,
           "#FF97FF"
          ]
         ],
         "geo": "geo",
         "hovertemplate": "<b>%{hovertext}</b><br><br>Country=%{location}<extra></extra>",
         "hovertext": [
          "Cameroon"
         ],
         "locationmode": "country names",
         "locations": [
          "Cameroon"
         ],
         "name": "Cameroon",
         "showlegend": true,
         "showscale": false,
         "type": "choropleth",
         "z": [
          1
         ]
        },
        {
         "colorscale": [
          [
           0,
           "#FECB52"
          ],
          [
           1,
           "#FECB52"
          ]
         ],
         "geo": "geo",
         "hovertemplate": "<b>%{hovertext}</b><br><br>Country=%{location}<extra></extra>",
         "hovertext": [
          "Canada"
         ],
         "locationmode": "country names",
         "locations": [
          "Canada"
         ],
         "name": "Canada",
         "showlegend": true,
         "showscale": false,
         "type": "choropleth",
         "z": [
          1
         ]
        },
        {
         "colorscale": [
          [
           0,
           "#636efa"
          ],
          [
           1,
           "#636efa"
          ]
         ],
         "geo": "geo",
         "hovertemplate": "<b>%{hovertext}</b><br><br>Country=%{location}<extra></extra>",
         "hovertext": [
          "Cape Verde"
         ],
         "locationmode": "country names",
         "locations": [
          "Cape Verde"
         ],
         "name": "Cape Verde",
         "showlegend": true,
         "showscale": false,
         "type": "choropleth",
         "z": [
          1
         ]
        },
        {
         "colorscale": [
          [
           0,
           "#EF553B"
          ],
          [
           1,
           "#EF553B"
          ]
         ],
         "geo": "geo",
         "hovertemplate": "<b>%{hovertext}</b><br><br>Country=%{location}<extra></extra>",
         "hovertext": [
          "Central African Republic"
         ],
         "locationmode": "country names",
         "locations": [
          "Central African Republic"
         ],
         "name": "Central African Republic",
         "showlegend": true,
         "showscale": false,
         "type": "choropleth",
         "z": [
          1
         ]
        },
        {
         "colorscale": [
          [
           0,
           "#00cc96"
          ],
          [
           1,
           "#00cc96"
          ]
         ],
         "geo": "geo",
         "hovertemplate": "<b>%{hovertext}</b><br><br>Country=%{location}<extra></extra>",
         "hovertext": [
          "Chad"
         ],
         "locationmode": "country names",
         "locations": [
          "Chad"
         ],
         "name": "Chad",
         "showlegend": true,
         "showscale": false,
         "type": "choropleth",
         "z": [
          1
         ]
        },
        {
         "colorscale": [
          [
           0,
           "#ab63fa"
          ],
          [
           1,
           "#ab63fa"
          ]
         ],
         "geo": "geo",
         "hovertemplate": "<b>%{hovertext}</b><br><br>Country=%{location}<extra></extra>",
         "hovertext": [
          "Chile"
         ],
         "locationmode": "country names",
         "locations": [
          "Chile"
         ],
         "name": "Chile",
         "showlegend": true,
         "showscale": false,
         "type": "choropleth",
         "z": [
          1
         ]
        },
        {
         "colorscale": [
          [
           0,
           "#FFA15A"
          ],
          [
           1,
           "#FFA15A"
          ]
         ],
         "geo": "geo",
         "hovertemplate": "<b>%{hovertext}</b><br><br>Country=%{location}<extra></extra>",
         "hovertext": [
          "China"
         ],
         "locationmode": "country names",
         "locations": [
          "China"
         ],
         "name": "China",
         "showlegend": true,
         "showscale": false,
         "type": "choropleth",
         "z": [
          1
         ]
        },
        {
         "colorscale": [
          [
           0,
           "#19d3f3"
          ],
          [
           1,
           "#19d3f3"
          ]
         ],
         "geo": "geo",
         "hovertemplate": "<b>%{hovertext}</b><br><br>Country=%{location}<extra></extra>",
         "hovertext": [
          "Colombia"
         ],
         "locationmode": "country names",
         "locations": [
          "Colombia"
         ],
         "name": "Colombia",
         "showlegend": true,
         "showscale": false,
         "type": "choropleth",
         "z": [
          1
         ]
        },
        {
         "colorscale": [
          [
           0,
           "#FF6692"
          ],
          [
           1,
           "#FF6692"
          ]
         ],
         "geo": "geo",
         "hovertemplate": "<b>%{hovertext}</b><br><br>Country=%{location}<extra></extra>",
         "hovertext": [
          "Comoros"
         ],
         "locationmode": "country names",
         "locations": [
          "Comoros"
         ],
         "name": "Comoros",
         "showlegend": true,
         "showscale": false,
         "type": "choropleth",
         "z": [
          1
         ]
        },
        {
         "colorscale": [
          [
           0,
           "#B6E880"
          ],
          [
           1,
           "#B6E880"
          ]
         ],
         "geo": "geo",
         "hovertemplate": "<b>%{hovertext}</b><br><br>Country=%{location}<extra></extra>",
         "hovertext": [
          "Costa Rica"
         ],
         "locationmode": "country names",
         "locations": [
          "Costa Rica"
         ],
         "name": "Costa Rica",
         "showlegend": true,
         "showscale": false,
         "type": "choropleth",
         "z": [
          1
         ]
        },
        {
         "colorscale": [
          [
           0,
           "#FF97FF"
          ],
          [
           1,
           "#FF97FF"
          ]
         ],
         "geo": "geo",
         "hovertemplate": "<b>%{hovertext}</b><br><br>Country=%{location}<extra></extra>",
         "hovertext": [
          "Croatia"
         ],
         "locationmode": "country names",
         "locations": [
          "Croatia"
         ],
         "name": "Croatia",
         "showlegend": true,
         "showscale": false,
         "type": "choropleth",
         "z": [
          1
         ]
        },
        {
         "colorscale": [
          [
           0,
           "#FECB52"
          ],
          [
           1,
           "#FECB52"
          ]
         ],
         "geo": "geo",
         "hovertemplate": "<b>%{hovertext}</b><br><br>Country=%{location}<extra></extra>",
         "hovertext": [
          "Cuba"
         ],
         "locationmode": "country names",
         "locations": [
          "Cuba"
         ],
         "name": "Cuba",
         "showlegend": true,
         "showscale": false,
         "type": "choropleth",
         "z": [
          1
         ]
        },
        {
         "colorscale": [
          [
           0,
           "#636efa"
          ],
          [
           1,
           "#636efa"
          ]
         ],
         "geo": "geo",
         "hovertemplate": "<b>%{hovertext}</b><br><br>Country=%{location}<extra></extra>",
         "hovertext": [
          "Cyprus",
          "Cyprus"
         ],
         "locationmode": "country names",
         "locations": [
          "Cyprus",
          "Cyprus"
         ],
         "name": "Cyprus",
         "showlegend": true,
         "showscale": false,
         "type": "choropleth",
         "z": [
          1,
          1
         ]
        },
        {
         "colorscale": [
          [
           0,
           "#EF553B"
          ],
          [
           1,
           "#EF553B"
          ]
         ],
         "geo": "geo",
         "hovertemplate": "<b>%{hovertext}</b><br><br>Country=%{location}<extra></extra>",
         "hovertext": [
          "Czech Republic"
         ],
         "locationmode": "country names",
         "locations": [
          "Czech Republic"
         ],
         "name": "Czech Republic",
         "showlegend": true,
         "showscale": false,
         "type": "choropleth",
         "z": [
          1
         ]
        },
        {
         "colorscale": [
          [
           0,
           "#00cc96"
          ],
          [
           1,
           "#00cc96"
          ]
         ],
         "geo": "geo",
         "hovertemplate": "<b>%{hovertext}</b><br><br>Country=%{location}<extra></extra>",
         "hovertext": [
          "Côte d'Ivoire"
         ],
         "locationmode": "country names",
         "locations": [
          "Côte d'Ivoire"
         ],
         "name": "Côte d'Ivoire",
         "showlegend": true,
         "showscale": false,
         "type": "choropleth",
         "z": [
          1
         ]
        },
        {
         "colorscale": [
          [
           0,
           "#ab63fa"
          ],
          [
           1,
           "#ab63fa"
          ]
         ],
         "geo": "geo",
         "hovertemplate": "<b>%{hovertext}</b><br><br>Country=%{location}<extra></extra>",
         "hovertext": [
          "Denmark"
         ],
         "locationmode": "country names",
         "locations": [
          "Denmark"
         ],
         "name": "Denmark",
         "showlegend": true,
         "showscale": false,
         "type": "choropleth",
         "z": [
          1
         ]
        },
        {
         "colorscale": [
          [
           0,
           "#FFA15A"
          ],
          [
           1,
           "#FFA15A"
          ]
         ],
         "geo": "geo",
         "hovertemplate": "<b>%{hovertext}</b><br><br>Country=%{location}<extra></extra>",
         "hovertext": [
          "Djibouti"
         ],
         "locationmode": "country names",
         "locations": [
          "Djibouti"
         ],
         "name": "Djibouti",
         "showlegend": true,
         "showscale": false,
         "type": "choropleth",
         "z": [
          1
         ]
        },
        {
         "colorscale": [
          [
           0,
           "#19d3f3"
          ],
          [
           1,
           "#19d3f3"
          ]
         ],
         "geo": "geo",
         "hovertemplate": "<b>%{hovertext}</b><br><br>Country=%{location}<extra></extra>",
         "hovertext": [
          "Dominica"
         ],
         "locationmode": "country names",
         "locations": [
          "Dominica"
         ],
         "name": "Dominica",
         "showlegend": true,
         "showscale": false,
         "type": "choropleth",
         "z": [
          1
         ]
        },
        {
         "colorscale": [
          [
           0,
           "#FF6692"
          ],
          [
           1,
           "#FF6692"
          ]
         ],
         "geo": "geo",
         "hovertemplate": "<b>%{hovertext}</b><br><br>Country=%{location}<extra></extra>",
         "hovertext": [
          "Dominican Republic"
         ],
         "locationmode": "country names",
         "locations": [
          "Dominican Republic"
         ],
         "name": "Dominican Republic",
         "showlegend": true,
         "showscale": false,
         "type": "choropleth",
         "z": [
          1
         ]
        },
        {
         "colorscale": [
          [
           0,
           "#B6E880"
          ],
          [
           1,
           "#B6E880"
          ]
         ],
         "geo": "geo",
         "hovertemplate": "<b>%{hovertext}</b><br><br>Country=%{location}<extra></extra>",
         "hovertext": [
          "Ecuador"
         ],
         "locationmode": "country names",
         "locations": [
          "Ecuador"
         ],
         "name": "Ecuador",
         "showlegend": true,
         "showscale": false,
         "type": "choropleth",
         "z": [
          1
         ]
        },
        {
         "colorscale": [
          [
           0,
           "#FF97FF"
          ],
          [
           1,
           "#FF97FF"
          ]
         ],
         "geo": "geo",
         "hovertemplate": "<b>%{hovertext}</b><br><br>Country=%{location}<extra></extra>",
         "hovertext": [
          "Egypt"
         ],
         "locationmode": "country names",
         "locations": [
          "Egypt"
         ],
         "name": "Egypt",
         "showlegend": true,
         "showscale": false,
         "type": "choropleth",
         "z": [
          1
         ]
        },
        {
         "colorscale": [
          [
           0,
           "#FECB52"
          ],
          [
           1,
           "#FECB52"
          ]
         ],
         "geo": "geo",
         "hovertemplate": "<b>%{hovertext}</b><br><br>Country=%{location}<extra></extra>",
         "hovertext": [
          "El Salvador"
         ],
         "locationmode": "country names",
         "locations": [
          "El Salvador"
         ],
         "name": "El Salvador",
         "showlegend": true,
         "showscale": false,
         "type": "choropleth",
         "z": [
          1
         ]
        },
        {
         "colorscale": [
          [
           0,
           "#636efa"
          ],
          [
           1,
           "#636efa"
          ]
         ],
         "geo": "geo",
         "hovertemplate": "<b>%{hovertext}</b><br><br>Country=%{location}<extra></extra>",
         "hovertext": [
          "Equatorial Guinea"
         ],
         "locationmode": "country names",
         "locations": [
          "Equatorial Guinea"
         ],
         "name": "Equatorial Guinea",
         "showlegend": true,
         "showscale": false,
         "type": "choropleth",
         "z": [
          1
         ]
        },
        {
         "colorscale": [
          [
           0,
           "#EF553B"
          ],
          [
           1,
           "#EF553B"
          ]
         ],
         "geo": "geo",
         "hovertemplate": "<b>%{hovertext}</b><br><br>Country=%{location}<extra></extra>",
         "hovertext": [
          "Eritrea"
         ],
         "locationmode": "country names",
         "locations": [
          "Eritrea"
         ],
         "name": "Eritrea",
         "showlegend": true,
         "showscale": false,
         "type": "choropleth",
         "z": [
          1
         ]
        },
        {
         "colorscale": [
          [
           0,
           "#00cc96"
          ],
          [
           1,
           "#00cc96"
          ]
         ],
         "geo": "geo",
         "hovertemplate": "<b>%{hovertext}</b><br><br>Country=%{location}<extra></extra>",
         "hovertext": [
          "Estonia"
         ],
         "locationmode": "country names",
         "locations": [
          "Estonia"
         ],
         "name": "Estonia",
         "showlegend": true,
         "showscale": false,
         "type": "choropleth",
         "z": [
          1
         ]
        },
        {
         "colorscale": [
          [
           0,
           "#ab63fa"
          ],
          [
           1,
           "#ab63fa"
          ]
         ],
         "geo": "geo",
         "hovertemplate": "<b>%{hovertext}</b><br><br>Country=%{location}<extra></extra>",
         "hovertext": [
          "Ethiopia"
         ],
         "locationmode": "country names",
         "locations": [
          "Ethiopia"
         ],
         "name": "Ethiopia",
         "showlegend": true,
         "showscale": false,
         "type": "choropleth",
         "z": [
          1
         ]
        },
        {
         "colorscale": [
          [
           0,
           "#FFA15A"
          ],
          [
           1,
           "#FFA15A"
          ]
         ],
         "geo": "geo",
         "hovertemplate": "<b>%{hovertext}</b><br><br>Country=%{location}<extra></extra>",
         "hovertext": [
          "Fiji"
         ],
         "locationmode": "country names",
         "locations": [
          "Fiji"
         ],
         "name": "Fiji",
         "showlegend": true,
         "showscale": false,
         "type": "choropleth",
         "z": [
          1
         ]
        },
        {
         "colorscale": [
          [
           0,
           "#19d3f3"
          ],
          [
           1,
           "#19d3f3"
          ]
         ],
         "geo": "geo",
         "hovertemplate": "<b>%{hovertext}</b><br><br>Country=%{location}<extra></extra>",
         "hovertext": [
          "Finland"
         ],
         "locationmode": "country names",
         "locations": [
          "Finland"
         ],
         "name": "Finland",
         "showlegend": true,
         "showscale": false,
         "type": "choropleth",
         "z": [
          1
         ]
        },
        {
         "colorscale": [
          [
           0,
           "#FF6692"
          ],
          [
           1,
           "#FF6692"
          ]
         ],
         "geo": "geo",
         "hovertemplate": "<b>%{hovertext}</b><br><br>Country=%{location}<extra></extra>",
         "hovertext": [
          "France"
         ],
         "locationmode": "country names",
         "locations": [
          "France"
         ],
         "name": "France",
         "showlegend": true,
         "showscale": false,
         "type": "choropleth",
         "z": [
          1
         ]
        },
        {
         "colorscale": [
          [
           0,
           "#B6E880"
          ],
          [
           1,
           "#B6E880"
          ]
         ],
         "geo": "geo",
         "hovertemplate": "<b>%{hovertext}</b><br><br>Country=%{location}<extra></extra>",
         "hovertext": [
          "Gabon"
         ],
         "locationmode": "country names",
         "locations": [
          "Gabon"
         ],
         "name": "Gabon",
         "showlegend": true,
         "showscale": false,
         "type": "choropleth",
         "z": [
          1
         ]
        },
        {
         "colorscale": [
          [
           0,
           "#FF97FF"
          ],
          [
           1,
           "#FF97FF"
          ]
         ],
         "geo": "geo",
         "hovertemplate": "<b>%{hovertext}</b><br><br>Country=%{location}<extra></extra>",
         "hovertext": [
          "Gambia"
         ],
         "locationmode": "country names",
         "locations": [
          "Gambia"
         ],
         "name": "Gambia",
         "showlegend": true,
         "showscale": false,
         "type": "choropleth",
         "z": [
          1
         ]
        },
        {
         "colorscale": [
          [
           0,
           "#FECB52"
          ],
          [
           1,
           "#FECB52"
          ]
         ],
         "geo": "geo",
         "hovertemplate": "<b>%{hovertext}</b><br><br>Country=%{location}<extra></extra>",
         "hovertext": [
          "Georgia",
          "Georgia"
         ],
         "locationmode": "country names",
         "locations": [
          "Georgia",
          "Georgia"
         ],
         "name": "Georgia",
         "showlegend": true,
         "showscale": false,
         "type": "choropleth",
         "z": [
          1,
          1
         ]
        },
        {
         "colorscale": [
          [
           0,
           "#636efa"
          ],
          [
           1,
           "#636efa"
          ]
         ],
         "geo": "geo",
         "hovertemplate": "<b>%{hovertext}</b><br><br>Country=%{location}<extra></extra>",
         "hovertext": [
          "Germany"
         ],
         "locationmode": "country names",
         "locations": [
          "Germany"
         ],
         "name": "Germany",
         "showlegend": true,
         "showscale": false,
         "type": "choropleth",
         "z": [
          1
         ]
        },
        {
         "colorscale": [
          [
           0,
           "#EF553B"
          ],
          [
           1,
           "#EF553B"
          ]
         ],
         "geo": "geo",
         "hovertemplate": "<b>%{hovertext}</b><br><br>Country=%{location}<extra></extra>",
         "hovertext": [
          "Ghana"
         ],
         "locationmode": "country names",
         "locations": [
          "Ghana"
         ],
         "name": "Ghana",
         "showlegend": true,
         "showscale": false,
         "type": "choropleth",
         "z": [
          1
         ]
        },
        {
         "colorscale": [
          [
           0,
           "#00cc96"
          ],
          [
           1,
           "#00cc96"
          ]
         ],
         "geo": "geo",
         "hovertemplate": "<b>%{hovertext}</b><br><br>Country=%{location}<extra></extra>",
         "hovertext": [
          "Greece"
         ],
         "locationmode": "country names",
         "locations": [
          "Greece"
         ],
         "name": "Greece",
         "showlegend": true,
         "showscale": false,
         "type": "choropleth",
         "z": [
          1
         ]
        },
        {
         "colorscale": [
          [
           0,
           "#ab63fa"
          ],
          [
           1,
           "#ab63fa"
          ]
         ],
         "geo": "geo",
         "hovertemplate": "<b>%{hovertext}</b><br><br>Country=%{location}<extra></extra>",
         "hovertext": [
          "Grenada"
         ],
         "locationmode": "country names",
         "locations": [
          "Grenada"
         ],
         "name": "Grenada",
         "showlegend": true,
         "showscale": false,
         "type": "choropleth",
         "z": [
          1
         ]
        },
        {
         "colorscale": [
          [
           0,
           "#FFA15A"
          ],
          [
           1,
           "#FFA15A"
          ]
         ],
         "geo": "geo",
         "hovertemplate": "<b>%{hovertext}</b><br><br>Country=%{location}<extra></extra>",
         "hovertext": [
          "Guatemala"
         ],
         "locationmode": "country names",
         "locations": [
          "Guatemala"
         ],
         "name": "Guatemala",
         "showlegend": true,
         "showscale": false,
         "type": "choropleth",
         "z": [
          1
         ]
        },
        {
         "colorscale": [
          [
           0,
           "#19d3f3"
          ],
          [
           1,
           "#19d3f3"
          ]
         ],
         "geo": "geo",
         "hovertemplate": "<b>%{hovertext}</b><br><br>Country=%{location}<extra></extra>",
         "hovertext": [
          "Guinea"
         ],
         "locationmode": "country names",
         "locations": [
          "Guinea"
         ],
         "name": "Guinea",
         "showlegend": true,
         "showscale": false,
         "type": "choropleth",
         "z": [
          1
         ]
        },
        {
         "colorscale": [
          [
           0,
           "#FF6692"
          ],
          [
           1,
           "#FF6692"
          ]
         ],
         "geo": "geo",
         "hovertemplate": "<b>%{hovertext}</b><br><br>Country=%{location}<extra></extra>",
         "hovertext": [
          "Guinea-Bissau"
         ],
         "locationmode": "country names",
         "locations": [
          "Guinea-Bissau"
         ],
         "name": "Guinea-Bissau",
         "showlegend": true,
         "showscale": false,
         "type": "choropleth",
         "z": [
          1
         ]
        },
        {
         "colorscale": [
          [
           0,
           "#B6E880"
          ],
          [
           1,
           "#B6E880"
          ]
         ],
         "geo": "geo",
         "hovertemplate": "<b>%{hovertext}</b><br><br>Country=%{location}<extra></extra>",
         "hovertext": [
          "Guyana"
         ],
         "locationmode": "country names",
         "locations": [
          "Guyana"
         ],
         "name": "Guyana",
         "showlegend": true,
         "showscale": false,
         "type": "choropleth",
         "z": [
          1
         ]
        },
        {
         "colorscale": [
          [
           0,
           "#FF97FF"
          ],
          [
           1,
           "#FF97FF"
          ]
         ],
         "geo": "geo",
         "hovertemplate": "<b>%{hovertext}</b><br><br>Country=%{location}<extra></extra>",
         "hovertext": [
          "Haiti"
         ],
         "locationmode": "country names",
         "locations": [
          "Haiti"
         ],
         "name": "Haiti",
         "showlegend": true,
         "showscale": false,
         "type": "choropleth",
         "z": [
          1
         ]
        },
        {
         "colorscale": [
          [
           0,
           "#FECB52"
          ],
          [
           1,
           "#FECB52"
          ]
         ],
         "geo": "geo",
         "hovertemplate": "<b>%{hovertext}</b><br><br>Country=%{location}<extra></extra>",
         "hovertext": [
          "Honduras"
         ],
         "locationmode": "country names",
         "locations": [
          "Honduras"
         ],
         "name": "Honduras",
         "showlegend": true,
         "showscale": false,
         "type": "choropleth",
         "z": [
          1
         ]
        },
        {
         "colorscale": [
          [
           0,
           "#636efa"
          ],
          [
           1,
           "#636efa"
          ]
         ],
         "geo": "geo",
         "hovertemplate": "<b>%{hovertext}</b><br><br>Country=%{location}<extra></extra>",
         "hovertext": [
          "Hungary"
         ],
         "locationmode": "country names",
         "locations": [
          "Hungary"
         ],
         "name": "Hungary",
         "showlegend": true,
         "showscale": false,
         "type": "choropleth",
         "z": [
          1
         ]
        },
        {
         "colorscale": [
          [
           0,
           "#EF553B"
          ],
          [
           1,
           "#EF553B"
          ]
         ],
         "geo": "geo",
         "hovertemplate": "<b>%{hovertext}</b><br><br>Country=%{location}<extra></extra>",
         "hovertext": [
          "Iceland"
         ],
         "locationmode": "country names",
         "locations": [
          "Iceland"
         ],
         "name": "Iceland",
         "showlegend": true,
         "showscale": false,
         "type": "choropleth",
         "z": [
          1
         ]
        },
        {
         "colorscale": [
          [
           0,
           "#00cc96"
          ],
          [
           1,
           "#00cc96"
          ]
         ],
         "geo": "geo",
         "hovertemplate": "<b>%{hovertext}</b><br><br>Country=%{location}<extra></extra>",
         "hovertext": [
          "India"
         ],
         "locationmode": "country names",
         "locations": [
          "India"
         ],
         "name": "India",
         "showlegend": true,
         "showscale": false,
         "type": "choropleth",
         "z": [
          1
         ]
        },
        {
         "colorscale": [
          [
           0,
           "#ab63fa"
          ],
          [
           1,
           "#ab63fa"
          ]
         ],
         "geo": "geo",
         "hovertemplate": "<b>%{hovertext}</b><br><br>Country=%{location}<extra></extra>",
         "hovertext": [
          "Indonesia"
         ],
         "locationmode": "country names",
         "locations": [
          "Indonesia"
         ],
         "name": "Indonesia",
         "showlegend": true,
         "showscale": false,
         "type": "choropleth",
         "z": [
          1
         ]
        },
        {
         "colorscale": [
          [
           0,
           "#FFA15A"
          ],
          [
           1,
           "#FFA15A"
          ]
         ],
         "geo": "geo",
         "hovertemplate": "<b>%{hovertext}</b><br><br>Country=%{location}<extra></extra>",
         "hovertext": [
          "Iraq"
         ],
         "locationmode": "country names",
         "locations": [
          "Iraq"
         ],
         "name": "Iraq",
         "showlegend": true,
         "showscale": false,
         "type": "choropleth",
         "z": [
          1
         ]
        },
        {
         "colorscale": [
          [
           0,
           "#19d3f3"
          ],
          [
           1,
           "#19d3f3"
          ]
         ],
         "geo": "geo",
         "hovertemplate": "<b>%{hovertext}</b><br><br>Country=%{location}<extra></extra>",
         "hovertext": [
          "Ireland"
         ],
         "locationmode": "country names",
         "locations": [
          "Ireland"
         ],
         "name": "Ireland",
         "showlegend": true,
         "showscale": false,
         "type": "choropleth",
         "z": [
          1
         ]
        },
        {
         "colorscale": [
          [
           0,
           "#FF6692"
          ],
          [
           1,
           "#FF6692"
          ]
         ],
         "geo": "geo",
         "hovertemplate": "<b>%{hovertext}</b><br><br>Country=%{location}<extra></extra>",
         "hovertext": [
          "Israel"
         ],
         "locationmode": "country names",
         "locations": [
          "Israel"
         ],
         "name": "Israel",
         "showlegend": true,
         "showscale": false,
         "type": "choropleth",
         "z": [
          1
         ]
        },
        {
         "colorscale": [
          [
           0,
           "#B6E880"
          ],
          [
           1,
           "#B6E880"
          ]
         ],
         "geo": "geo",
         "hovertemplate": "<b>%{hovertext}</b><br><br>Country=%{location}<extra></extra>",
         "hovertext": [
          "Italy"
         ],
         "locationmode": "country names",
         "locations": [
          "Italy"
         ],
         "name": "Italy",
         "showlegend": true,
         "showscale": false,
         "type": "choropleth",
         "z": [
          1
         ]
        },
        {
         "colorscale": [
          [
           0,
           "#FF97FF"
          ],
          [
           1,
           "#FF97FF"
          ]
         ],
         "geo": "geo",
         "hovertemplate": "<b>%{hovertext}</b><br><br>Country=%{location}<extra></extra>",
         "hovertext": [
          "Jamaica"
         ],
         "locationmode": "country names",
         "locations": [
          "Jamaica"
         ],
         "name": "Jamaica",
         "showlegend": true,
         "showscale": false,
         "type": "choropleth",
         "z": [
          1
         ]
        },
        {
         "colorscale": [
          [
           0,
           "#FECB52"
          ],
          [
           1,
           "#FECB52"
          ]
         ],
         "geo": "geo",
         "hovertemplate": "<b>%{hovertext}</b><br><br>Country=%{location}<extra></extra>",
         "hovertext": [
          "Japan"
         ],
         "locationmode": "country names",
         "locations": [
          "Japan"
         ],
         "name": "Japan",
         "showlegend": true,
         "showscale": false,
         "type": "choropleth",
         "z": [
          1
         ]
        },
        {
         "colorscale": [
          [
           0,
           "#636efa"
          ],
          [
           1,
           "#636efa"
          ]
         ],
         "geo": "geo",
         "hovertemplate": "<b>%{hovertext}</b><br><br>Country=%{location}<extra></extra>",
         "hovertext": [
          "Jordan"
         ],
         "locationmode": "country names",
         "locations": [
          "Jordan"
         ],
         "name": "Jordan",
         "showlegend": true,
         "showscale": false,
         "type": "choropleth",
         "z": [
          1
         ]
        },
        {
         "colorscale": [
          [
           0,
           "#EF553B"
          ],
          [
           1,
           "#EF553B"
          ]
         ],
         "geo": "geo",
         "hovertemplate": "<b>%{hovertext}</b><br><br>Country=%{location}<extra></extra>",
         "hovertext": [
          "Kazakhstan",
          "Kazakhstan"
         ],
         "locationmode": "country names",
         "locations": [
          "Kazakhstan",
          "Kazakhstan"
         ],
         "name": "Kazakhstan",
         "showlegend": true,
         "showscale": false,
         "type": "choropleth",
         "z": [
          1,
          1
         ]
        },
        {
         "colorscale": [
          [
           0,
           "#00cc96"
          ],
          [
           1,
           "#00cc96"
          ]
         ],
         "geo": "geo",
         "hovertemplate": "<b>%{hovertext}</b><br><br>Country=%{location}<extra></extra>",
         "hovertext": [
          "Kenya"
         ],
         "locationmode": "country names",
         "locations": [
          "Kenya"
         ],
         "name": "Kenya",
         "showlegend": true,
         "showscale": false,
         "type": "choropleth",
         "z": [
          1
         ]
        },
        {
         "colorscale": [
          [
           0,
           "#ab63fa"
          ],
          [
           1,
           "#ab63fa"
          ]
         ],
         "geo": "geo",
         "hovertemplate": "<b>%{hovertext}</b><br><br>Country=%{location}<extra></extra>",
         "hovertext": [
          "Kuwait"
         ],
         "locationmode": "country names",
         "locations": [
          "Kuwait"
         ],
         "name": "Kuwait",
         "showlegend": true,
         "showscale": false,
         "type": "choropleth",
         "z": [
          1
         ]
        },
        {
         "colorscale": [
          [
           0,
           "#FFA15A"
          ],
          [
           1,
           "#FFA15A"
          ]
         ],
         "geo": "geo",
         "hovertemplate": "<b>%{hovertext}</b><br><br>Country=%{location}<extra></extra>",
         "hovertext": [
          "Kyrgyzstan"
         ],
         "locationmode": "country names",
         "locations": [
          "Kyrgyzstan"
         ],
         "name": "Kyrgyzstan",
         "showlegend": true,
         "showscale": false,
         "type": "choropleth",
         "z": [
          1
         ]
        },
        {
         "colorscale": [
          [
           0,
           "#19d3f3"
          ],
          [
           1,
           "#19d3f3"
          ]
         ],
         "geo": "geo",
         "hovertemplate": "<b>%{hovertext}</b><br><br>Country=%{location}<extra></extra>",
         "hovertext": [
          "Latvia"
         ],
         "locationmode": "country names",
         "locations": [
          "Latvia"
         ],
         "name": "Latvia",
         "showlegend": true,
         "showscale": false,
         "type": "choropleth",
         "z": [
          1
         ]
        },
        {
         "colorscale": [
          [
           0,
           "#FF6692"
          ],
          [
           1,
           "#FF6692"
          ]
         ],
         "geo": "geo",
         "hovertemplate": "<b>%{hovertext}</b><br><br>Country=%{location}<extra></extra>",
         "hovertext": [
          "Lebanon"
         ],
         "locationmode": "country names",
         "locations": [
          "Lebanon"
         ],
         "name": "Lebanon",
         "showlegend": true,
         "showscale": false,
         "type": "choropleth",
         "z": [
          1
         ]
        },
        {
         "colorscale": [
          [
           0,
           "#B6E880"
          ],
          [
           1,
           "#B6E880"
          ]
         ],
         "geo": "geo",
         "hovertemplate": "<b>%{hovertext}</b><br><br>Country=%{location}<extra></extra>",
         "hovertext": [
          "Lesotho"
         ],
         "locationmode": "country names",
         "locations": [
          "Lesotho"
         ],
         "name": "Lesotho",
         "showlegend": true,
         "showscale": false,
         "type": "choropleth",
         "z": [
          1
         ]
        },
        {
         "colorscale": [
          [
           0,
           "#FF97FF"
          ],
          [
           1,
           "#FF97FF"
          ]
         ],
         "geo": "geo",
         "hovertemplate": "<b>%{hovertext}</b><br><br>Country=%{location}<extra></extra>",
         "hovertext": [
          "Liberia"
         ],
         "locationmode": "country names",
         "locations": [
          "Liberia"
         ],
         "name": "Liberia",
         "showlegend": true,
         "showscale": false,
         "type": "choropleth",
         "z": [
          1
         ]
        },
        {
         "colorscale": [
          [
           0,
           "#FECB52"
          ],
          [
           1,
           "#FECB52"
          ]
         ],
         "geo": "geo",
         "hovertemplate": "<b>%{hovertext}</b><br><br>Country=%{location}<extra></extra>",
         "hovertext": [
          "Libya"
         ],
         "locationmode": "country names",
         "locations": [
          "Libya"
         ],
         "name": "Libya",
         "showlegend": true,
         "showscale": false,
         "type": "choropleth",
         "z": [
          1
         ]
        },
        {
         "colorscale": [
          [
           0,
           "#636efa"
          ],
          [
           1,
           "#636efa"
          ]
         ],
         "geo": "geo",
         "hovertemplate": "<b>%{hovertext}</b><br><br>Country=%{location}<extra></extra>",
         "hovertext": [
          "Liechtenstein"
         ],
         "locationmode": "country names",
         "locations": [
          "Liechtenstein"
         ],
         "name": "Liechtenstein",
         "showlegend": true,
         "showscale": false,
         "type": "choropleth",
         "z": [
          1
         ]
        },
        {
         "colorscale": [
          [
           0,
           "#EF553B"
          ],
          [
           1,
           "#EF553B"
          ]
         ],
         "geo": "geo",
         "hovertemplate": "<b>%{hovertext}</b><br><br>Country=%{location}<extra></extra>",
         "hovertext": [
          "Lithuania"
         ],
         "locationmode": "country names",
         "locations": [
          "Lithuania"
         ],
         "name": "Lithuania",
         "showlegend": true,
         "showscale": false,
         "type": "choropleth",
         "z": [
          1
         ]
        },
        {
         "colorscale": [
          [
           0,
           "#00cc96"
          ],
          [
           1,
           "#00cc96"
          ]
         ],
         "geo": "geo",
         "hovertemplate": "<b>%{hovertext}</b><br><br>Country=%{location}<extra></extra>",
         "hovertext": [
          "Luxembourg"
         ],
         "locationmode": "country names",
         "locations": [
          "Luxembourg"
         ],
         "name": "Luxembourg",
         "showlegend": true,
         "showscale": false,
         "type": "choropleth",
         "z": [
          1
         ]
        },
        {
         "colorscale": [
          [
           0,
           "#ab63fa"
          ],
          [
           1,
           "#ab63fa"
          ]
         ],
         "geo": "geo",
         "hovertemplate": "<b>%{hovertext}</b><br><br>Country=%{location}<extra></extra>",
         "hovertext": [
          "Madagascar"
         ],
         "locationmode": "country names",
         "locations": [
          "Madagascar"
         ],
         "name": "Madagascar",
         "showlegend": true,
         "showscale": false,
         "type": "choropleth",
         "z": [
          1
         ]
        },
        {
         "colorscale": [
          [
           0,
           "#FFA15A"
          ],
          [
           1,
           "#FFA15A"
          ]
         ],
         "geo": "geo",
         "hovertemplate": "<b>%{hovertext}</b><br><br>Country=%{location}<extra></extra>",
         "hovertext": [
          "Malawi"
         ],
         "locationmode": "country names",
         "locations": [
          "Malawi"
         ],
         "name": "Malawi",
         "showlegend": true,
         "showscale": false,
         "type": "choropleth",
         "z": [
          1
         ]
        },
        {
         "colorscale": [
          [
           0,
           "#19d3f3"
          ],
          [
           1,
           "#19d3f3"
          ]
         ],
         "geo": "geo",
         "hovertemplate": "<b>%{hovertext}</b><br><br>Country=%{location}<extra></extra>",
         "hovertext": [
          "Malaysia"
         ],
         "locationmode": "country names",
         "locations": [
          "Malaysia"
         ],
         "name": "Malaysia",
         "showlegend": true,
         "showscale": false,
         "type": "choropleth",
         "z": [
          1
         ]
        },
        {
         "colorscale": [
          [
           0,
           "#FF6692"
          ],
          [
           1,
           "#FF6692"
          ]
         ],
         "geo": "geo",
         "hovertemplate": "<b>%{hovertext}</b><br><br>Country=%{location}<extra></extra>",
         "hovertext": [
          "Maldives"
         ],
         "locationmode": "country names",
         "locations": [
          "Maldives"
         ],
         "name": "Maldives",
         "showlegend": true,
         "showscale": false,
         "type": "choropleth",
         "z": [
          1
         ]
        },
        {
         "colorscale": [
          [
           0,
           "#B6E880"
          ],
          [
           1,
           "#B6E880"
          ]
         ],
         "geo": "geo",
         "hovertemplate": "<b>%{hovertext}</b><br><br>Country=%{location}<extra></extra>",
         "hovertext": [
          "Mali"
         ],
         "locationmode": "country names",
         "locations": [
          "Mali"
         ],
         "name": "Mali",
         "showlegend": true,
         "showscale": false,
         "type": "choropleth",
         "z": [
          1
         ]
        },
        {
         "colorscale": [
          [
           0,
           "#FF97FF"
          ],
          [
           1,
           "#FF97FF"
          ]
         ],
         "geo": "geo",
         "hovertemplate": "<b>%{hovertext}</b><br><br>Country=%{location}<extra></extra>",
         "hovertext": [
          "Malta"
         ],
         "locationmode": "country names",
         "locations": [
          "Malta"
         ],
         "name": "Malta",
         "showlegend": true,
         "showscale": false,
         "type": "choropleth",
         "z": [
          1
         ]
        },
        {
         "colorscale": [
          [
           0,
           "#FECB52"
          ],
          [
           1,
           "#FECB52"
          ]
         ],
         "geo": "geo",
         "hovertemplate": "<b>%{hovertext}</b><br><br>Country=%{location}<extra></extra>",
         "hovertext": [
          "Mauritania"
         ],
         "locationmode": "country names",
         "locations": [
          "Mauritania"
         ],
         "name": "Mauritania",
         "showlegend": true,
         "showscale": false,
         "type": "choropleth",
         "z": [
          1
         ]
        },
        {
         "colorscale": [
          [
           0,
           "#636efa"
          ],
          [
           1,
           "#636efa"
          ]
         ],
         "geo": "geo",
         "hovertemplate": "<b>%{hovertext}</b><br><br>Country=%{location}<extra></extra>",
         "hovertext": [
          "Mauritius"
         ],
         "locationmode": "country names",
         "locations": [
          "Mauritius"
         ],
         "name": "Mauritius",
         "showlegend": true,
         "showscale": false,
         "type": "choropleth",
         "z": [
          1
         ]
        },
        {
         "colorscale": [
          [
           0,
           "#EF553B"
          ],
          [
           1,
           "#EF553B"
          ]
         ],
         "geo": "geo",
         "hovertemplate": "<b>%{hovertext}</b><br><br>Country=%{location}<extra></extra>",
         "hovertext": [
          "Mexico"
         ],
         "locationmode": "country names",
         "locations": [
          "Mexico"
         ],
         "name": "Mexico",
         "showlegend": true,
         "showscale": false,
         "type": "choropleth",
         "z": [
          1
         ]
        },
        {
         "colorscale": [
          [
           0,
           "#00cc96"
          ],
          [
           1,
           "#00cc96"
          ]
         ],
         "geo": "geo",
         "hovertemplate": "<b>%{hovertext}</b><br><br>Country=%{location}<extra></extra>",
         "hovertext": [
          "Moldova"
         ],
         "locationmode": "country names",
         "locations": [
          "Moldova"
         ],
         "name": "Moldova",
         "showlegend": true,
         "showscale": false,
         "type": "choropleth",
         "z": [
          1
         ]
        },
        {
         "colorscale": [
          [
           0,
           "#ab63fa"
          ],
          [
           1,
           "#ab63fa"
          ]
         ],
         "geo": "geo",
         "hovertemplate": "<b>%{hovertext}</b><br><br>Country=%{location}<extra></extra>",
         "hovertext": [
          "Monaco"
         ],
         "locationmode": "country names",
         "locations": [
          "Monaco"
         ],
         "name": "Monaco",
         "showlegend": true,
         "showscale": false,
         "type": "choropleth",
         "z": [
          1
         ]
        },
        {
         "colorscale": [
          [
           0,
           "#FFA15A"
          ],
          [
           1,
           "#FFA15A"
          ]
         ],
         "geo": "geo",
         "hovertemplate": "<b>%{hovertext}</b><br><br>Country=%{location}<extra></extra>",
         "hovertext": [
          "Mongolia"
         ],
         "locationmode": "country names",
         "locations": [
          "Mongolia"
         ],
         "name": "Mongolia",
         "showlegend": true,
         "showscale": false,
         "type": "choropleth",
         "z": [
          1
         ]
        },
        {
         "colorscale": [
          [
           0,
           "#19d3f3"
          ],
          [
           1,
           "#19d3f3"
          ]
         ],
         "geo": "geo",
         "hovertemplate": "<b>%{hovertext}</b><br><br>Country=%{location}<extra></extra>",
         "hovertext": [
          "Montenegro"
         ],
         "locationmode": "country names",
         "locations": [
          "Montenegro"
         ],
         "name": "Montenegro",
         "showlegend": true,
         "showscale": false,
         "type": "choropleth",
         "z": [
          1
         ]
        },
        {
         "colorscale": [
          [
           0,
           "#FF6692"
          ],
          [
           1,
           "#FF6692"
          ]
         ],
         "geo": "geo",
         "hovertemplate": "<b>%{hovertext}</b><br><br>Country=%{location}<extra></extra>",
         "hovertext": [
          "Morocco"
         ],
         "locationmode": "country names",
         "locations": [
          "Morocco"
         ],
         "name": "Morocco",
         "showlegend": true,
         "showscale": false,
         "type": "choropleth",
         "z": [
          1
         ]
        },
        {
         "colorscale": [
          [
           0,
           "#B6E880"
          ],
          [
           1,
           "#B6E880"
          ]
         ],
         "geo": "geo",
         "hovertemplate": "<b>%{hovertext}</b><br><br>Country=%{location}<extra></extra>",
         "hovertext": [
          "Mozambique"
         ],
         "locationmode": "country names",
         "locations": [
          "Mozambique"
         ],
         "name": "Mozambique",
         "showlegend": true,
         "showscale": false,
         "type": "choropleth",
         "z": [
          1
         ]
        },
        {
         "colorscale": [
          [
           0,
           "#FF97FF"
          ],
          [
           1,
           "#FF97FF"
          ]
         ],
         "geo": "geo",
         "hovertemplate": "<b>%{hovertext}</b><br><br>Country=%{location}<extra></extra>",
         "hovertext": [
          "Nepal"
         ],
         "locationmode": "country names",
         "locations": [
          "Nepal"
         ],
         "name": "Nepal",
         "showlegend": true,
         "showscale": false,
         "type": "choropleth",
         "z": [
          1
         ]
        },
        {
         "colorscale": [
          [
           0,
           "#FECB52"
          ],
          [
           1,
           "#FECB52"
          ]
         ],
         "geo": "geo",
         "hovertemplate": "<b>%{hovertext}</b><br><br>Country=%{location}<extra></extra>",
         "hovertext": [
          "Netherlands"
         ],
         "locationmode": "country names",
         "locations": [
          "Netherlands"
         ],
         "name": "Netherlands",
         "showlegend": true,
         "showscale": false,
         "type": "choropleth",
         "z": [
          1
         ]
        },
        {
         "colorscale": [
          [
           0,
           "#636efa"
          ],
          [
           1,
           "#636efa"
          ]
         ],
         "geo": "geo",
         "hovertemplate": "<b>%{hovertext}</b><br><br>Country=%{location}<extra></extra>",
         "hovertext": [
          "New Zealand"
         ],
         "locationmode": "country names",
         "locations": [
          "New Zealand"
         ],
         "name": "New Zealand",
         "showlegend": true,
         "showscale": false,
         "type": "choropleth",
         "z": [
          1
         ]
        },
        {
         "colorscale": [
          [
           0,
           "#EF553B"
          ],
          [
           1,
           "#EF553B"
          ]
         ],
         "geo": "geo",
         "hovertemplate": "<b>%{hovertext}</b><br><br>Country=%{location}<extra></extra>",
         "hovertext": [
          "Nicaragua"
         ],
         "locationmode": "country names",
         "locations": [
          "Nicaragua"
         ],
         "name": "Nicaragua",
         "showlegend": true,
         "showscale": false,
         "type": "choropleth",
         "z": [
          1
         ]
        },
        {
         "colorscale": [
          [
           0,
           "#00cc96"
          ],
          [
           1,
           "#00cc96"
          ]
         ],
         "geo": "geo",
         "hovertemplate": "<b>%{hovertext}</b><br><br>Country=%{location}<extra></extra>",
         "hovertext": [
          "Niger"
         ],
         "locationmode": "country names",
         "locations": [
          "Niger"
         ],
         "name": "Niger",
         "showlegend": true,
         "showscale": false,
         "type": "choropleth",
         "z": [
          1
         ]
        },
        {
         "colorscale": [
          [
           0,
           "#ab63fa"
          ],
          [
           1,
           "#ab63fa"
          ]
         ],
         "geo": "geo",
         "hovertemplate": "<b>%{hovertext}</b><br><br>Country=%{location}<extra></extra>",
         "hovertext": [
          "Nigeria"
         ],
         "locationmode": "country names",
         "locations": [
          "Nigeria"
         ],
         "name": "Nigeria",
         "showlegend": true,
         "showscale": false,
         "type": "choropleth",
         "z": [
          1
         ]
        },
        {
         "colorscale": [
          [
           0,
           "#FFA15A"
          ],
          [
           1,
           "#FFA15A"
          ]
         ],
         "geo": "geo",
         "hovertemplate": "<b>%{hovertext}</b><br><br>Country=%{location}<extra></extra>",
         "hovertext": [
          "Norway"
         ],
         "locationmode": "country names",
         "locations": [
          "Norway"
         ],
         "name": "Norway",
         "showlegend": true,
         "showscale": false,
         "type": "choropleth",
         "z": [
          1
         ]
        },
        {
         "colorscale": [
          [
           0,
           "#19d3f3"
          ],
          [
           1,
           "#19d3f3"
          ]
         ],
         "geo": "geo",
         "hovertemplate": "<b>%{hovertext}</b><br><br>Country=%{location}<extra></extra>",
         "hovertext": [
          "Oman"
         ],
         "locationmode": "country names",
         "locations": [
          "Oman"
         ],
         "name": "Oman",
         "showlegend": true,
         "showscale": false,
         "type": "choropleth",
         "z": [
          1
         ]
        },
        {
         "colorscale": [
          [
           0,
           "#FF6692"
          ],
          [
           1,
           "#FF6692"
          ]
         ],
         "geo": "geo",
         "hovertemplate": "<b>%{hovertext}</b><br><br>Country=%{location}<extra></extra>",
         "hovertext": [
          "Pakistan"
         ],
         "locationmode": "country names",
         "locations": [
          "Pakistan"
         ],
         "name": "Pakistan",
         "showlegend": true,
         "showscale": false,
         "type": "choropleth",
         "z": [
          1
         ]
        },
        {
         "colorscale": [
          [
           0,
           "#B6E880"
          ],
          [
           1,
           "#B6E880"
          ]
         ],
         "geo": "geo",
         "hovertemplate": "<b>%{hovertext}</b><br><br>Country=%{location}<extra></extra>",
         "hovertext": [
          "Panama"
         ],
         "locationmode": "country names",
         "locations": [
          "Panama"
         ],
         "name": "Panama",
         "showlegend": true,
         "showscale": false,
         "type": "choropleth",
         "z": [
          1
         ]
        },
        {
         "colorscale": [
          [
           0,
           "#FF97FF"
          ],
          [
           1,
           "#FF97FF"
          ]
         ],
         "geo": "geo",
         "hovertemplate": "<b>%{hovertext}</b><br><br>Country=%{location}<extra></extra>",
         "hovertext": [
          "Papua New Guinea"
         ],
         "locationmode": "country names",
         "locations": [
          "Papua New Guinea"
         ],
         "name": "Papua New Guinea",
         "showlegend": true,
         "showscale": false,
         "type": "choropleth",
         "z": [
          1
         ]
        },
        {
         "colorscale": [
          [
           0,
           "#FECB52"
          ],
          [
           1,
           "#FECB52"
          ]
         ],
         "geo": "geo",
         "hovertemplate": "<b>%{hovertext}</b><br><br>Country=%{location}<extra></extra>",
         "hovertext": [
          "Paraguay"
         ],
         "locationmode": "country names",
         "locations": [
          "Paraguay"
         ],
         "name": "Paraguay",
         "showlegend": true,
         "showscale": false,
         "type": "choropleth",
         "z": [
          1
         ]
        },
        {
         "colorscale": [
          [
           0,
           "#636efa"
          ],
          [
           1,
           "#636efa"
          ]
         ],
         "geo": "geo",
         "hovertemplate": "<b>%{hovertext}</b><br><br>Country=%{location}<extra></extra>",
         "hovertext": [
          "Peru"
         ],
         "locationmode": "country names",
         "locations": [
          "Peru"
         ],
         "name": "Peru",
         "showlegend": true,
         "showscale": false,
         "type": "choropleth",
         "z": [
          1
         ]
        },
        {
         "colorscale": [
          [
           0,
           "#EF553B"
          ],
          [
           1,
           "#EF553B"
          ]
         ],
         "geo": "geo",
         "hovertemplate": "<b>%{hovertext}</b><br><br>Country=%{location}<extra></extra>",
         "hovertext": [
          "Philippines"
         ],
         "locationmode": "country names",
         "locations": [
          "Philippines"
         ],
         "name": "Philippines",
         "showlegend": true,
         "showscale": false,
         "type": "choropleth",
         "z": [
          1
         ]
        },
        {
         "colorscale": [
          [
           0,
           "#00cc96"
          ],
          [
           1,
           "#00cc96"
          ]
         ],
         "geo": "geo",
         "hovertemplate": "<b>%{hovertext}</b><br><br>Country=%{location}<extra></extra>",
         "hovertext": [
          "Poland"
         ],
         "locationmode": "country names",
         "locations": [
          "Poland"
         ],
         "name": "Poland",
         "showlegend": true,
         "showscale": false,
         "type": "choropleth",
         "z": [
          1
         ]
        },
        {
         "colorscale": [
          [
           0,
           "#ab63fa"
          ],
          [
           1,
           "#ab63fa"
          ]
         ],
         "geo": "geo",
         "hovertemplate": "<b>%{hovertext}</b><br><br>Country=%{location}<extra></extra>",
         "hovertext": [
          "Portugal"
         ],
         "locationmode": "country names",
         "locations": [
          "Portugal"
         ],
         "name": "Portugal",
         "showlegend": true,
         "showscale": false,
         "type": "choropleth",
         "z": [
          1
         ]
        },
        {
         "colorscale": [
          [
           0,
           "#FFA15A"
          ],
          [
           1,
           "#FFA15A"
          ]
         ],
         "geo": "geo",
         "hovertemplate": "<b>%{hovertext}</b><br><br>Country=%{location}<extra></extra>",
         "hovertext": [
          "Qatar"
         ],
         "locationmode": "country names",
         "locations": [
          "Qatar"
         ],
         "name": "Qatar",
         "showlegend": true,
         "showscale": false,
         "type": "choropleth",
         "z": [
          1
         ]
        },
        {
         "colorscale": [
          [
           0,
           "#19d3f3"
          ],
          [
           1,
           "#19d3f3"
          ]
         ],
         "geo": "geo",
         "hovertemplate": "<b>%{hovertext}</b><br><br>Country=%{location}<extra></extra>",
         "hovertext": [
          "Romania"
         ],
         "locationmode": "country names",
         "locations": [
          "Romania"
         ],
         "name": "Romania",
         "showlegend": true,
         "showscale": false,
         "type": "choropleth",
         "z": [
          1
         ]
        },
        {
         "colorscale": [
          [
           0,
           "#FF6692"
          ],
          [
           1,
           "#FF6692"
          ]
         ],
         "geo": "geo",
         "hovertemplate": "<b>%{hovertext}</b><br><br>Country=%{location}<extra></extra>",
         "hovertext": [
          "Rwanda"
         ],
         "locationmode": "country names",
         "locations": [
          "Rwanda"
         ],
         "name": "Rwanda",
         "showlegend": true,
         "showscale": false,
         "type": "choropleth",
         "z": [
          1
         ]
        },
        {
         "colorscale": [
          [
           0,
           "#B6E880"
          ],
          [
           1,
           "#B6E880"
          ]
         ],
         "geo": "geo",
         "hovertemplate": "<b>%{hovertext}</b><br><br>Country=%{location}<extra></extra>",
         "hovertext": [
          "Réunion"
         ],
         "locationmode": "country names",
         "locations": [
          "Réunion"
         ],
         "name": "Réunion",
         "showlegend": true,
         "showscale": false,
         "type": "choropleth",
         "z": [
          1
         ]
        },
        {
         "colorscale": [
          [
           0,
           "#FF97FF"
          ],
          [
           1,
           "#FF97FF"
          ]
         ],
         "geo": "geo",
         "hovertemplate": "<b>%{hovertext}</b><br><br>Country=%{location}<extra></extra>",
         "hovertext": [
          "Saint Kitts and Nevis"
         ],
         "locationmode": "country names",
         "locations": [
          "Saint Kitts and Nevis"
         ],
         "name": "Saint Kitts and Nevis",
         "showlegend": true,
         "showscale": false,
         "type": "choropleth",
         "z": [
          1
         ]
        },
        {
         "colorscale": [
          [
           0,
           "#FECB52"
          ],
          [
           1,
           "#FECB52"
          ]
         ],
         "geo": "geo",
         "hovertemplate": "<b>%{hovertext}</b><br><br>Country=%{location}<extra></extra>",
         "hovertext": [
          "Saint Lucia"
         ],
         "locationmode": "country names",
         "locations": [
          "Saint Lucia"
         ],
         "name": "Saint Lucia",
         "showlegend": true,
         "showscale": false,
         "type": "choropleth",
         "z": [
          1
         ]
        },
        {
         "colorscale": [
          [
           0,
           "#636efa"
          ],
          [
           1,
           "#636efa"
          ]
         ],
         "geo": "geo",
         "hovertemplate": "<b>%{hovertext}</b><br><br>Country=%{location}<extra></extra>",
         "hovertext": [
          "San Marino"
         ],
         "locationmode": "country names",
         "locations": [
          "San Marino"
         ],
         "name": "San Marino",
         "showlegend": true,
         "showscale": false,
         "type": "choropleth",
         "z": [
          1
         ]
        },
        {
         "colorscale": [
          [
           0,
           "#EF553B"
          ],
          [
           1,
           "#EF553B"
          ]
         ],
         "geo": "geo",
         "hovertemplate": "<b>%{hovertext}</b><br><br>Country=%{location}<extra></extra>",
         "hovertext": [
          "Saudi Arabia"
         ],
         "locationmode": "country names",
         "locations": [
          "Saudi Arabia"
         ],
         "name": "Saudi Arabia",
         "showlegend": true,
         "showscale": false,
         "type": "choropleth",
         "z": [
          1
         ]
        },
        {
         "colorscale": [
          [
           0,
           "#00cc96"
          ],
          [
           1,
           "#00cc96"
          ]
         ],
         "geo": "geo",
         "hovertemplate": "<b>%{hovertext}</b><br><br>Country=%{location}<extra></extra>",
         "hovertext": [
          "Senegal"
         ],
         "locationmode": "country names",
         "locations": [
          "Senegal"
         ],
         "name": "Senegal",
         "showlegend": true,
         "showscale": false,
         "type": "choropleth",
         "z": [
          1
         ]
        },
        {
         "colorscale": [
          [
           0,
           "#ab63fa"
          ],
          [
           1,
           "#ab63fa"
          ]
         ],
         "geo": "geo",
         "hovertemplate": "<b>%{hovertext}</b><br><br>Country=%{location}<extra></extra>",
         "hovertext": [
          "Serbia"
         ],
         "locationmode": "country names",
         "locations": [
          "Serbia"
         ],
         "name": "Serbia",
         "showlegend": true,
         "showscale": false,
         "type": "choropleth",
         "z": [
          1
         ]
        },
        {
         "colorscale": [
          [
           0,
           "#FFA15A"
          ],
          [
           1,
           "#FFA15A"
          ]
         ],
         "geo": "geo",
         "hovertemplate": "<b>%{hovertext}</b><br><br>Country=%{location}<extra></extra>",
         "hovertext": [
          "Seychelles"
         ],
         "locationmode": "country names",
         "locations": [
          "Seychelles"
         ],
         "name": "Seychelles",
         "showlegend": true,
         "showscale": false,
         "type": "choropleth",
         "z": [
          1
         ]
        },
        {
         "colorscale": [
          [
           0,
           "#19d3f3"
          ],
          [
           1,
           "#19d3f3"
          ]
         ],
         "geo": "geo",
         "hovertemplate": "<b>%{hovertext}</b><br><br>Country=%{location}<extra></extra>",
         "hovertext": [
          "Sierra Leone"
         ],
         "locationmode": "country names",
         "locations": [
          "Sierra Leone"
         ],
         "name": "Sierra Leone",
         "showlegend": true,
         "showscale": false,
         "type": "choropleth",
         "z": [
          1
         ]
        },
        {
         "colorscale": [
          [
           0,
           "#FF6692"
          ],
          [
           1,
           "#FF6692"
          ]
         ],
         "geo": "geo",
         "hovertemplate": "<b>%{hovertext}</b><br><br>Country=%{location}<extra></extra>",
         "hovertext": [
          "Singapore"
         ],
         "locationmode": "country names",
         "locations": [
          "Singapore"
         ],
         "name": "Singapore",
         "showlegend": true,
         "showscale": false,
         "type": "choropleth",
         "z": [
          1
         ]
        },
        {
         "colorscale": [
          [
           0,
           "#B6E880"
          ],
          [
           1,
           "#B6E880"
          ]
         ],
         "geo": "geo",
         "hovertemplate": "<b>%{hovertext}</b><br><br>Country=%{location}<extra></extra>",
         "hovertext": [
          "Slovakia"
         ],
         "locationmode": "country names",
         "locations": [
          "Slovakia"
         ],
         "name": "Slovakia",
         "showlegend": true,
         "showscale": false,
         "type": "choropleth",
         "z": [
          1
         ]
        },
        {
         "colorscale": [
          [
           0,
           "#FF97FF"
          ],
          [
           1,
           "#FF97FF"
          ]
         ],
         "geo": "geo",
         "hovertemplate": "<b>%{hovertext}</b><br><br>Country=%{location}<extra></extra>",
         "hovertext": [
          "Slovenia"
         ],
         "locationmode": "country names",
         "locations": [
          "Slovenia"
         ],
         "name": "Slovenia",
         "showlegend": true,
         "showscale": false,
         "type": "choropleth",
         "z": [
          1
         ]
        },
        {
         "colorscale": [
          [
           0,
           "#FECB52"
          ],
          [
           1,
           "#FECB52"
          ]
         ],
         "geo": "geo",
         "hovertemplate": "<b>%{hovertext}</b><br><br>Country=%{location}<extra></extra>",
         "hovertext": [
          "Somalia"
         ],
         "locationmode": "country names",
         "locations": [
          "Somalia"
         ],
         "name": "Somalia",
         "showlegend": true,
         "showscale": false,
         "type": "choropleth",
         "z": [
          1
         ]
        },
        {
         "colorscale": [
          [
           0,
           "#636efa"
          ],
          [
           1,
           "#636efa"
          ]
         ],
         "geo": "geo",
         "hovertemplate": "<b>%{hovertext}</b><br><br>Country=%{location}<extra></extra>",
         "hovertext": [
          "South Africa"
         ],
         "locationmode": "country names",
         "locations": [
          "South Africa"
         ],
         "name": "South Africa",
         "showlegend": true,
         "showscale": false,
         "type": "choropleth",
         "z": [
          1
         ]
        },
        {
         "colorscale": [
          [
           0,
           "#EF553B"
          ],
          [
           1,
           "#EF553B"
          ]
         ],
         "geo": "geo",
         "hovertemplate": "<b>%{hovertext}</b><br><br>Country=%{location}<extra></extra>",
         "hovertext": [
          "Spain"
         ],
         "locationmode": "country names",
         "locations": [
          "Spain"
         ],
         "name": "Spain",
         "showlegend": true,
         "showscale": false,
         "type": "choropleth",
         "z": [
          1
         ]
        },
        {
         "colorscale": [
          [
           0,
           "#00cc96"
          ],
          [
           1,
           "#00cc96"
          ]
         ],
         "geo": "geo",
         "hovertemplate": "<b>%{hovertext}</b><br><br>Country=%{location}<extra></extra>",
         "hovertext": [
          "Sri Lanka"
         ],
         "locationmode": "country names",
         "locations": [
          "Sri Lanka"
         ],
         "name": "Sri Lanka",
         "showlegend": true,
         "showscale": false,
         "type": "choropleth",
         "z": [
          1
         ]
        },
        {
         "colorscale": [
          [
           0,
           "#ab63fa"
          ],
          [
           1,
           "#ab63fa"
          ]
         ],
         "geo": "geo",
         "hovertemplate": "<b>%{hovertext}</b><br><br>Country=%{location}<extra></extra>",
         "hovertext": [
          "Sudan"
         ],
         "locationmode": "country names",
         "locations": [
          "Sudan"
         ],
         "name": "Sudan",
         "showlegend": true,
         "showscale": false,
         "type": "choropleth",
         "z": [
          1
         ]
        },
        {
         "colorscale": [
          [
           0,
           "#FFA15A"
          ],
          [
           1,
           "#FFA15A"
          ]
         ],
         "geo": "geo",
         "hovertemplate": "<b>%{hovertext}</b><br><br>Country=%{location}<extra></extra>",
         "hovertext": [
          "Suriname"
         ],
         "locationmode": "country names",
         "locations": [
          "Suriname"
         ],
         "name": "Suriname",
         "showlegend": true,
         "showscale": false,
         "type": "choropleth",
         "z": [
          1
         ]
        },
        {
         "colorscale": [
          [
           0,
           "#19d3f3"
          ],
          [
           1,
           "#19d3f3"
          ]
         ],
         "geo": "geo",
         "hovertemplate": "<b>%{hovertext}</b><br><br>Country=%{location}<extra></extra>",
         "hovertext": [
          "Swaziland"
         ],
         "locationmode": "country names",
         "locations": [
          "Swaziland"
         ],
         "name": "Swaziland",
         "showlegend": true,
         "showscale": false,
         "type": "choropleth",
         "z": [
          1
         ]
        },
        {
         "colorscale": [
          [
           0,
           "#FF6692"
          ],
          [
           1,
           "#FF6692"
          ]
         ],
         "geo": "geo",
         "hovertemplate": "<b>%{hovertext}</b><br><br>Country=%{location}<extra></extra>",
         "hovertext": [
          "Sweden"
         ],
         "locationmode": "country names",
         "locations": [
          "Sweden"
         ],
         "name": "Sweden",
         "showlegend": true,
         "showscale": false,
         "type": "choropleth",
         "z": [
          1
         ]
        },
        {
         "colorscale": [
          [
           0,
           "#B6E880"
          ],
          [
           1,
           "#B6E880"
          ]
         ],
         "geo": "geo",
         "hovertemplate": "<b>%{hovertext}</b><br><br>Country=%{location}<extra></extra>",
         "hovertext": [
          "Switzerland"
         ],
         "locationmode": "country names",
         "locations": [
          "Switzerland"
         ],
         "name": "Switzerland",
         "showlegend": true,
         "showscale": false,
         "type": "choropleth",
         "z": [
          1
         ]
        },
        {
         "colorscale": [
          [
           0,
           "#FF97FF"
          ],
          [
           1,
           "#FF97FF"
          ]
         ],
         "geo": "geo",
         "hovertemplate": "<b>%{hovertext}</b><br><br>Country=%{location}<extra></extra>",
         "hovertext": [
          "Tajikistan"
         ],
         "locationmode": "country names",
         "locations": [
          "Tajikistan"
         ],
         "name": "Tajikistan",
         "showlegend": true,
         "showscale": false,
         "type": "choropleth",
         "z": [
          1
         ]
        },
        {
         "colorscale": [
          [
           0,
           "#FECB52"
          ],
          [
           1,
           "#FECB52"
          ]
         ],
         "geo": "geo",
         "hovertemplate": "<b>%{hovertext}</b><br><br>Country=%{location}<extra></extra>",
         "hovertext": [
          "Thailand"
         ],
         "locationmode": "country names",
         "locations": [
          "Thailand"
         ],
         "name": "Thailand",
         "showlegend": true,
         "showscale": false,
         "type": "choropleth",
         "z": [
          1
         ]
        },
        {
         "colorscale": [
          [
           0,
           "#636efa"
          ],
          [
           1,
           "#636efa"
          ]
         ],
         "geo": "geo",
         "hovertemplate": "<b>%{hovertext}</b><br><br>Country=%{location}<extra></extra>",
         "hovertext": [
          "Timor-Leste"
         ],
         "locationmode": "country names",
         "locations": [
          "Timor-Leste"
         ],
         "name": "Timor-Leste",
         "showlegend": true,
         "showscale": false,
         "type": "choropleth",
         "z": [
          1
         ]
        },
        {
         "colorscale": [
          [
           0,
           "#EF553B"
          ],
          [
           1,
           "#EF553B"
          ]
         ],
         "geo": "geo",
         "hovertemplate": "<b>%{hovertext}</b><br><br>Country=%{location}<extra></extra>",
         "hovertext": [
          "Togo"
         ],
         "locationmode": "country names",
         "locations": [
          "Togo"
         ],
         "name": "Togo",
         "showlegend": true,
         "showscale": false,
         "type": "choropleth",
         "z": [
          1
         ]
        },
        {
         "colorscale": [
          [
           0,
           "#00cc96"
          ],
          [
           1,
           "#00cc96"
          ]
         ],
         "geo": "geo",
         "hovertemplate": "<b>%{hovertext}</b><br><br>Country=%{location}<extra></extra>",
         "hovertext": [
          "Trinidad and Tobago"
         ],
         "locationmode": "country names",
         "locations": [
          "Trinidad and Tobago"
         ],
         "name": "Trinidad and Tobago",
         "showlegend": true,
         "showscale": false,
         "type": "choropleth",
         "z": [
          1
         ]
        },
        {
         "colorscale": [
          [
           0,
           "#ab63fa"
          ],
          [
           1,
           "#ab63fa"
          ]
         ],
         "geo": "geo",
         "hovertemplate": "<b>%{hovertext}</b><br><br>Country=%{location}<extra></extra>",
         "hovertext": [
          "Tunisia"
         ],
         "locationmode": "country names",
         "locations": [
          "Tunisia"
         ],
         "name": "Tunisia",
         "showlegend": true,
         "showscale": false,
         "type": "choropleth",
         "z": [
          1
         ]
        },
        {
         "colorscale": [
          [
           0,
           "#FFA15A"
          ],
          [
           1,
           "#FFA15A"
          ]
         ],
         "geo": "geo",
         "hovertemplate": "<b>%{hovertext}</b><br><br>Country=%{location}<extra></extra>",
         "hovertext": [
          "Turkey",
          "Turkey"
         ],
         "locationmode": "country names",
         "locations": [
          "Turkey",
          "Turkey"
         ],
         "name": "Turkey",
         "showlegend": true,
         "showscale": false,
         "type": "choropleth",
         "z": [
          1,
          1
         ]
        },
        {
         "colorscale": [
          [
           0,
           "#19d3f3"
          ],
          [
           1,
           "#19d3f3"
          ]
         ],
         "geo": "geo",
         "hovertemplate": "<b>%{hovertext}</b><br><br>Country=%{location}<extra></extra>",
         "hovertext": [
          "Uganda"
         ],
         "locationmode": "country names",
         "locations": [
          "Uganda"
         ],
         "name": "Uganda",
         "showlegend": true,
         "showscale": false,
         "type": "choropleth",
         "z": [
          1
         ]
        },
        {
         "colorscale": [
          [
           0,
           "#FF6692"
          ],
          [
           1,
           "#FF6692"
          ]
         ],
         "geo": "geo",
         "hovertemplate": "<b>%{hovertext}</b><br><br>Country=%{location}<extra></extra>",
         "hovertext": [
          "Ukraine"
         ],
         "locationmode": "country names",
         "locations": [
          "Ukraine"
         ],
         "name": "Ukraine",
         "showlegend": true,
         "showscale": false,
         "type": "choropleth",
         "z": [
          1
         ]
        },
        {
         "colorscale": [
          [
           0,
           "#B6E880"
          ],
          [
           1,
           "#B6E880"
          ]
         ],
         "geo": "geo",
         "hovertemplate": "<b>%{hovertext}</b><br><br>Country=%{location}<extra></extra>",
         "hovertext": [
          "United Arab Emirates"
         ],
         "locationmode": "country names",
         "locations": [
          "United Arab Emirates"
         ],
         "name": "United Arab Emirates",
         "showlegend": true,
         "showscale": false,
         "type": "choropleth",
         "z": [
          1
         ]
        },
        {
         "colorscale": [
          [
           0,
           "#FF97FF"
          ],
          [
           1,
           "#FF97FF"
          ]
         ],
         "geo": "geo",
         "hovertemplate": "<b>%{hovertext}</b><br><br>Country=%{location}<extra></extra>",
         "hovertext": [
          "United Kingdom"
         ],
         "locationmode": "country names",
         "locations": [
          "United Kingdom"
         ],
         "name": "United Kingdom",
         "showlegend": true,
         "showscale": false,
         "type": "choropleth",
         "z": [
          1
         ]
        },
        {
         "colorscale": [
          [
           0,
           "#FECB52"
          ],
          [
           1,
           "#FECB52"
          ]
         ],
         "geo": "geo",
         "hovertemplate": "<b>%{hovertext}</b><br><br>Country=%{location}<extra></extra>",
         "hovertext": [
          "United States of America"
         ],
         "locationmode": "country names",
         "locations": [
          "United States of America"
         ],
         "name": "United States of America",
         "showlegend": true,
         "showscale": false,
         "type": "choropleth",
         "z": [
          1
         ]
        },
        {
         "colorscale": [
          [
           0,
           "#636efa"
          ],
          [
           1,
           "#636efa"
          ]
         ],
         "geo": "geo",
         "hovertemplate": "<b>%{hovertext}</b><br><br>Country=%{location}<extra></extra>",
         "hovertext": [
          "Uruguay"
         ],
         "locationmode": "country names",
         "locations": [
          "Uruguay"
         ],
         "name": "Uruguay",
         "showlegend": true,
         "showscale": false,
         "type": "choropleth",
         "z": [
          1
         ]
        },
        {
         "colorscale": [
          [
           0,
           "#EF553B"
          ],
          [
           1,
           "#EF553B"
          ]
         ],
         "geo": "geo",
         "hovertemplate": "<b>%{hovertext}</b><br><br>Country=%{location}<extra></extra>",
         "hovertext": [
          "Uzbekistan"
         ],
         "locationmode": "country names",
         "locations": [
          "Uzbekistan"
         ],
         "name": "Uzbekistan",
         "showlegend": true,
         "showscale": false,
         "type": "choropleth",
         "z": [
          1
         ]
        },
        {
         "colorscale": [
          [
           0,
           "#00cc96"
          ],
          [
           1,
           "#00cc96"
          ]
         ],
         "geo": "geo",
         "hovertemplate": "<b>%{hovertext}</b><br><br>Country=%{location}<extra></extra>",
         "hovertext": [
          "Western Sahara"
         ],
         "locationmode": "country names",
         "locations": [
          "Western Sahara"
         ],
         "name": "Western Sahara",
         "showlegend": true,
         "showscale": false,
         "type": "choropleth",
         "z": [
          1
         ]
        },
        {
         "colorscale": [
          [
           0,
           "#ab63fa"
          ],
          [
           1,
           "#ab63fa"
          ]
         ],
         "geo": "geo",
         "hovertemplate": "<b>%{hovertext}</b><br><br>Country=%{location}<extra></extra>",
         "hovertext": [
          "Yemen"
         ],
         "locationmode": "country names",
         "locations": [
          "Yemen"
         ],
         "name": "Yemen",
         "showlegend": true,
         "showscale": false,
         "type": "choropleth",
         "z": [
          1
         ]
        },
        {
         "colorscale": [
          [
           0,
           "#FFA15A"
          ],
          [
           1,
           "#FFA15A"
          ]
         ],
         "geo": "geo",
         "hovertemplate": "<b>%{hovertext}</b><br><br>Country=%{location}<extra></extra>",
         "hovertext": [
          "Zambia"
         ],
         "locationmode": "country names",
         "locations": [
          "Zambia"
         ],
         "name": "Zambia",
         "showlegend": true,
         "showscale": false,
         "type": "choropleth",
         "z": [
          1
         ]
        },
        {
         "colorscale": [
          [
           0,
           "#19d3f3"
          ],
          [
           1,
           "#19d3f3"
          ]
         ],
         "geo": "geo",
         "hovertemplate": "<b>%{hovertext}</b><br><br>Country=%{location}<extra></extra>",
         "hovertext": [
          "Zimbabwe"
         ],
         "locationmode": "country names",
         "locations": [
          "Zimbabwe"
         ],
         "name": "Zimbabwe",
         "showlegend": true,
         "showscale": false,
         "type": "choropleth",
         "z": [
          1
         ]
        }
       ],
       "layout": {
        "geo": {
         "center": {},
         "domain": {
          "x": [
           0,
           1
          ],
          "y": [
           0,
           1
          ]
         },
         "scope": "asia"
        },
        "legend": {
         "title": {
          "text": "Country"
         },
         "tracegroupgap": 0
        },
        "margin": {
         "t": 60
        },
        "template": {
         "data": {
          "bar": [
           {
            "error_x": {
             "color": "#2a3f5f"
            },
            "error_y": {
             "color": "#2a3f5f"
            },
            "marker": {
             "line": {
              "color": "#E5ECF6",
              "width": 0.5
             }
            },
            "type": "bar"
           }
          ],
          "barpolar": [
           {
            "marker": {
             "line": {
              "color": "#E5ECF6",
              "width": 0.5
             }
            },
            "type": "barpolar"
           }
          ],
          "carpet": [
           {
            "aaxis": {
             "endlinecolor": "#2a3f5f",
             "gridcolor": "white",
             "linecolor": "white",
             "minorgridcolor": "white",
             "startlinecolor": "#2a3f5f"
            },
            "baxis": {
             "endlinecolor": "#2a3f5f",
             "gridcolor": "white",
             "linecolor": "white",
             "minorgridcolor": "white",
             "startlinecolor": "#2a3f5f"
            },
            "type": "carpet"
           }
          ],
          "choropleth": [
           {
            "colorbar": {
             "outlinewidth": 0,
             "ticks": ""
            },
            "type": "choropleth"
           }
          ],
          "contour": [
           {
            "colorbar": {
             "outlinewidth": 0,
             "ticks": ""
            },
            "colorscale": [
             [
              0,
              "#0d0887"
             ],
             [
              0.1111111111111111,
              "#46039f"
             ],
             [
              0.2222222222222222,
              "#7201a8"
             ],
             [
              0.3333333333333333,
              "#9c179e"
             ],
             [
              0.4444444444444444,
              "#bd3786"
             ],
             [
              0.5555555555555556,
              "#d8576b"
             ],
             [
              0.6666666666666666,
              "#ed7953"
             ],
             [
              0.7777777777777778,
              "#fb9f3a"
             ],
             [
              0.8888888888888888,
              "#fdca26"
             ],
             [
              1,
              "#f0f921"
             ]
            ],
            "type": "contour"
           }
          ],
          "contourcarpet": [
           {
            "colorbar": {
             "outlinewidth": 0,
             "ticks": ""
            },
            "type": "contourcarpet"
           }
          ],
          "heatmap": [
           {
            "colorbar": {
             "outlinewidth": 0,
             "ticks": ""
            },
            "colorscale": [
             [
              0,
              "#0d0887"
             ],
             [
              0.1111111111111111,
              "#46039f"
             ],
             [
              0.2222222222222222,
              "#7201a8"
             ],
             [
              0.3333333333333333,
              "#9c179e"
             ],
             [
              0.4444444444444444,
              "#bd3786"
             ],
             [
              0.5555555555555556,
              "#d8576b"
             ],
             [
              0.6666666666666666,
              "#ed7953"
             ],
             [
              0.7777777777777778,
              "#fb9f3a"
             ],
             [
              0.8888888888888888,
              "#fdca26"
             ],
             [
              1,
              "#f0f921"
             ]
            ],
            "type": "heatmap"
           }
          ],
          "heatmapgl": [
           {
            "colorbar": {
             "outlinewidth": 0,
             "ticks": ""
            },
            "colorscale": [
             [
              0,
              "#0d0887"
             ],
             [
              0.1111111111111111,
              "#46039f"
             ],
             [
              0.2222222222222222,
              "#7201a8"
             ],
             [
              0.3333333333333333,
              "#9c179e"
             ],
             [
              0.4444444444444444,
              "#bd3786"
             ],
             [
              0.5555555555555556,
              "#d8576b"
             ],
             [
              0.6666666666666666,
              "#ed7953"
             ],
             [
              0.7777777777777778,
              "#fb9f3a"
             ],
             [
              0.8888888888888888,
              "#fdca26"
             ],
             [
              1,
              "#f0f921"
             ]
            ],
            "type": "heatmapgl"
           }
          ],
          "histogram": [
           {
            "marker": {
             "colorbar": {
              "outlinewidth": 0,
              "ticks": ""
             }
            },
            "type": "histogram"
           }
          ],
          "histogram2d": [
           {
            "colorbar": {
             "outlinewidth": 0,
             "ticks": ""
            },
            "colorscale": [
             [
              0,
              "#0d0887"
             ],
             [
              0.1111111111111111,
              "#46039f"
             ],
             [
              0.2222222222222222,
              "#7201a8"
             ],
             [
              0.3333333333333333,
              "#9c179e"
             ],
             [
              0.4444444444444444,
              "#bd3786"
             ],
             [
              0.5555555555555556,
              "#d8576b"
             ],
             [
              0.6666666666666666,
              "#ed7953"
             ],
             [
              0.7777777777777778,
              "#fb9f3a"
             ],
             [
              0.8888888888888888,
              "#fdca26"
             ],
             [
              1,
              "#f0f921"
             ]
            ],
            "type": "histogram2d"
           }
          ],
          "histogram2dcontour": [
           {
            "colorbar": {
             "outlinewidth": 0,
             "ticks": ""
            },
            "colorscale": [
             [
              0,
              "#0d0887"
             ],
             [
              0.1111111111111111,
              "#46039f"
             ],
             [
              0.2222222222222222,
              "#7201a8"
             ],
             [
              0.3333333333333333,
              "#9c179e"
             ],
             [
              0.4444444444444444,
              "#bd3786"
             ],
             [
              0.5555555555555556,
              "#d8576b"
             ],
             [
              0.6666666666666666,
              "#ed7953"
             ],
             [
              0.7777777777777778,
              "#fb9f3a"
             ],
             [
              0.8888888888888888,
              "#fdca26"
             ],
             [
              1,
              "#f0f921"
             ]
            ],
            "type": "histogram2dcontour"
           }
          ],
          "mesh3d": [
           {
            "colorbar": {
             "outlinewidth": 0,
             "ticks": ""
            },
            "type": "mesh3d"
           }
          ],
          "parcoords": [
           {
            "line": {
             "colorbar": {
              "outlinewidth": 0,
              "ticks": ""
             }
            },
            "type": "parcoords"
           }
          ],
          "pie": [
           {
            "automargin": true,
            "type": "pie"
           }
          ],
          "scatter": [
           {
            "marker": {
             "colorbar": {
              "outlinewidth": 0,
              "ticks": ""
             }
            },
            "type": "scatter"
           }
          ],
          "scatter3d": [
           {
            "line": {
             "colorbar": {
              "outlinewidth": 0,
              "ticks": ""
             }
            },
            "marker": {
             "colorbar": {
              "outlinewidth": 0,
              "ticks": ""
             }
            },
            "type": "scatter3d"
           }
          ],
          "scattercarpet": [
           {
            "marker": {
             "colorbar": {
              "outlinewidth": 0,
              "ticks": ""
             }
            },
            "type": "scattercarpet"
           }
          ],
          "scattergeo": [
           {
            "marker": {
             "colorbar": {
              "outlinewidth": 0,
              "ticks": ""
             }
            },
            "type": "scattergeo"
           }
          ],
          "scattergl": [
           {
            "marker": {
             "colorbar": {
              "outlinewidth": 0,
              "ticks": ""
             }
            },
            "type": "scattergl"
           }
          ],
          "scattermapbox": [
           {
            "marker": {
             "colorbar": {
              "outlinewidth": 0,
              "ticks": ""
             }
            },
            "type": "scattermapbox"
           }
          ],
          "scatterpolar": [
           {
            "marker": {
             "colorbar": {
              "outlinewidth": 0,
              "ticks": ""
             }
            },
            "type": "scatterpolar"
           }
          ],
          "scatterpolargl": [
           {
            "marker": {
             "colorbar": {
              "outlinewidth": 0,
              "ticks": ""
             }
            },
            "type": "scatterpolargl"
           }
          ],
          "scatterternary": [
           {
            "marker": {
             "colorbar": {
              "outlinewidth": 0,
              "ticks": ""
             }
            },
            "type": "scatterternary"
           }
          ],
          "surface": [
           {
            "colorbar": {
             "outlinewidth": 0,
             "ticks": ""
            },
            "colorscale": [
             [
              0,
              "#0d0887"
             ],
             [
              0.1111111111111111,
              "#46039f"
             ],
             [
              0.2222222222222222,
              "#7201a8"
             ],
             [
              0.3333333333333333,
              "#9c179e"
             ],
             [
              0.4444444444444444,
              "#bd3786"
             ],
             [
              0.5555555555555556,
              "#d8576b"
             ],
             [
              0.6666666666666666,
              "#ed7953"
             ],
             [
              0.7777777777777778,
              "#fb9f3a"
             ],
             [
              0.8888888888888888,
              "#fdca26"
             ],
             [
              1,
              "#f0f921"
             ]
            ],
            "type": "surface"
           }
          ],
          "table": [
           {
            "cells": {
             "fill": {
              "color": "#EBF0F8"
             },
             "line": {
              "color": "white"
             }
            },
            "header": {
             "fill": {
              "color": "#C8D4E3"
             },
             "line": {
              "color": "white"
             }
            },
            "type": "table"
           }
          ]
         },
         "layout": {
          "annotationdefaults": {
           "arrowcolor": "#2a3f5f",
           "arrowhead": 0,
           "arrowwidth": 1
          },
          "coloraxis": {
           "colorbar": {
            "outlinewidth": 0,
            "ticks": ""
           }
          },
          "colorscale": {
           "diverging": [
            [
             0,
             "#8e0152"
            ],
            [
             0.1,
             "#c51b7d"
            ],
            [
             0.2,
             "#de77ae"
            ],
            [
             0.3,
             "#f1b6da"
            ],
            [
             0.4,
             "#fde0ef"
            ],
            [
             0.5,
             "#f7f7f7"
            ],
            [
             0.6,
             "#e6f5d0"
            ],
            [
             0.7,
             "#b8e186"
            ],
            [
             0.8,
             "#7fbc41"
            ],
            [
             0.9,
             "#4d9221"
            ],
            [
             1,
             "#276419"
            ]
           ],
           "sequential": [
            [
             0,
             "#0d0887"
            ],
            [
             0.1111111111111111,
             "#46039f"
            ],
            [
             0.2222222222222222,
             "#7201a8"
            ],
            [
             0.3333333333333333,
             "#9c179e"
            ],
            [
             0.4444444444444444,
             "#bd3786"
            ],
            [
             0.5555555555555556,
             "#d8576b"
            ],
            [
             0.6666666666666666,
             "#ed7953"
            ],
            [
             0.7777777777777778,
             "#fb9f3a"
            ],
            [
             0.8888888888888888,
             "#fdca26"
            ],
            [
             1,
             "#f0f921"
            ]
           ],
           "sequentialminus": [
            [
             0,
             "#0d0887"
            ],
            [
             0.1111111111111111,
             "#46039f"
            ],
            [
             0.2222222222222222,
             "#7201a8"
            ],
            [
             0.3333333333333333,
             "#9c179e"
            ],
            [
             0.4444444444444444,
             "#bd3786"
            ],
            [
             0.5555555555555556,
             "#d8576b"
            ],
            [
             0.6666666666666666,
             "#ed7953"
            ],
            [
             0.7777777777777778,
             "#fb9f3a"
            ],
            [
             0.8888888888888888,
             "#fdca26"
            ],
            [
             1,
             "#f0f921"
            ]
           ]
          },
          "colorway": [
           "#636efa",
           "#EF553B",
           "#00cc96",
           "#ab63fa",
           "#FFA15A",
           "#19d3f3",
           "#FF6692",
           "#B6E880",
           "#FF97FF",
           "#FECB52"
          ],
          "font": {
           "color": "#2a3f5f"
          },
          "geo": {
           "bgcolor": "white",
           "lakecolor": "white",
           "landcolor": "#E5ECF6",
           "showlakes": true,
           "showland": true,
           "subunitcolor": "white"
          },
          "hoverlabel": {
           "align": "left"
          },
          "hovermode": "closest",
          "mapbox": {
           "style": "light"
          },
          "paper_bgcolor": "white",
          "plot_bgcolor": "#E5ECF6",
          "polar": {
           "angularaxis": {
            "gridcolor": "white",
            "linecolor": "white",
            "ticks": ""
           },
           "bgcolor": "#E5ECF6",
           "radialaxis": {
            "gridcolor": "white",
            "linecolor": "white",
            "ticks": ""
           }
          },
          "scene": {
           "xaxis": {
            "backgroundcolor": "#E5ECF6",
            "gridcolor": "white",
            "gridwidth": 2,
            "linecolor": "white",
            "showbackground": true,
            "ticks": "",
            "zerolinecolor": "white"
           },
           "yaxis": {
            "backgroundcolor": "#E5ECF6",
            "gridcolor": "white",
            "gridwidth": 2,
            "linecolor": "white",
            "showbackground": true,
            "ticks": "",
            "zerolinecolor": "white"
           },
           "zaxis": {
            "backgroundcolor": "#E5ECF6",
            "gridcolor": "white",
            "gridwidth": 2,
            "linecolor": "white",
            "showbackground": true,
            "ticks": "",
            "zerolinecolor": "white"
           }
          },
          "shapedefaults": {
           "line": {
            "color": "#2a3f5f"
           }
          },
          "ternary": {
           "aaxis": {
            "gridcolor": "white",
            "linecolor": "white",
            "ticks": ""
           },
           "baxis": {
            "gridcolor": "white",
            "linecolor": "white",
            "ticks": ""
           },
           "bgcolor": "#E5ECF6",
           "caxis": {
            "gridcolor": "white",
            "linecolor": "white",
            "ticks": ""
           }
          },
          "title": {
           "x": 0.05
          },
          "xaxis": {
           "automargin": true,
           "gridcolor": "white",
           "linecolor": "white",
           "ticks": "",
           "title": {
            "standoff": 15
           },
           "zerolinecolor": "white",
           "zerolinewidth": 2
          },
          "yaxis": {
           "automargin": true,
           "gridcolor": "white",
           "linecolor": "white",
           "ticks": "",
           "title": {
            "standoff": 15
           },
           "zerolinecolor": "white",
           "zerolinewidth": 2
          }
         }
        }
       }
      },
      "text/html": [
       "<div>\n",
       "        \n",
       "        \n",
       "            <div id=\"4b6b9946-bc68-4f2f-932a-9185c43255ca\" class=\"plotly-graph-div\" style=\"height:525px; width:100%;\"></div>\n",
       "            <script type=\"text/javascript\">\n",
       "                require([\"plotly\"], function(Plotly) {\n",
       "                    window.PLOTLYENV=window.PLOTLYENV || {};\n",
       "                    \n",
       "                if (document.getElementById(\"4b6b9946-bc68-4f2f-932a-9185c43255ca\")) {\n",
       "                    Plotly.newPlot(\n",
       "                        '4b6b9946-bc68-4f2f-932a-9185c43255ca',\n",
       "                        [{\"colorscale\": [[0.0, \"#636efa\"], [1.0, \"#636efa\"]], \"geo\": \"geo\", \"hovertemplate\": \"<b>%{hovertext}</b><br><br>Country=%{location}<extra></extra>\", \"hovertext\": [\"Afghanistan\"], \"locationmode\": \"country names\", \"locations\": [\"Afghanistan\"], \"name\": \"Afghanistan\", \"showlegend\": true, \"showscale\": false, \"type\": \"choropleth\", \"z\": [1]}, {\"colorscale\": [[0.0, \"#EF553B\"], [1.0, \"#EF553B\"]], \"geo\": \"geo\", \"hovertemplate\": \"<b>%{hovertext}</b><br><br>Country=%{location}<extra></extra>\", \"hovertext\": [\"Albania\"], \"locationmode\": \"country names\", \"locations\": [\"Albania\"], \"name\": \"Albania\", \"showlegend\": true, \"showscale\": false, \"type\": \"choropleth\", \"z\": [1]}, {\"colorscale\": [[0.0, \"#00cc96\"], [1.0, \"#00cc96\"]], \"geo\": \"geo\", \"hovertemplate\": \"<b>%{hovertext}</b><br><br>Country=%{location}<extra></extra>\", \"hovertext\": [\"Algeria\"], \"locationmode\": \"country names\", \"locations\": [\"Algeria\"], \"name\": \"Algeria\", \"showlegend\": true, \"showscale\": false, \"type\": \"choropleth\", \"z\": [1]}, {\"colorscale\": [[0.0, \"#ab63fa\"], [1.0, \"#ab63fa\"]], \"geo\": \"geo\", \"hovertemplate\": \"<b>%{hovertext}</b><br><br>Country=%{location}<extra></extra>\", \"hovertext\": [\"Andorra\"], \"locationmode\": \"country names\", \"locations\": [\"Andorra\"], \"name\": \"Andorra\", \"showlegend\": true, \"showscale\": false, \"type\": \"choropleth\", \"z\": [1]}, {\"colorscale\": [[0.0, \"#FFA15A\"], [1.0, \"#FFA15A\"]], \"geo\": \"geo\", \"hovertemplate\": \"<b>%{hovertext}</b><br><br>Country=%{location}<extra></extra>\", \"hovertext\": [\"Angola\"], \"locationmode\": \"country names\", \"locations\": [\"Angola\"], \"name\": \"Angola\", \"showlegend\": true, \"showscale\": false, \"type\": \"choropleth\", \"z\": [1]}, {\"colorscale\": [[0.0, \"#19d3f3\"], [1.0, \"#19d3f3\"]], \"geo\": \"geo\", \"hovertemplate\": \"<b>%{hovertext}</b><br><br>Country=%{location}<extra></extra>\", \"hovertext\": [\"Antigua and Barbuda\"], \"locationmode\": \"country names\", \"locations\": [\"Antigua and Barbuda\"], \"name\": \"Antigua and Barbuda\", \"showlegend\": true, \"showscale\": false, \"type\": \"choropleth\", \"z\": [1]}, {\"colorscale\": [[0.0, \"#FF6692\"], [1.0, \"#FF6692\"]], \"geo\": \"geo\", \"hovertemplate\": \"<b>%{hovertext}</b><br><br>Country=%{location}<extra></extra>\", \"hovertext\": [\"Argentina\"], \"locationmode\": \"country names\", \"locations\": [\"Argentina\"], \"name\": \"Argentina\", \"showlegend\": true, \"showscale\": false, \"type\": \"choropleth\", \"z\": [1]}, {\"colorscale\": [[0.0, \"#B6E880\"], [1.0, \"#B6E880\"]], \"geo\": \"geo\", \"hovertemplate\": \"<b>%{hovertext}</b><br><br>Country=%{location}<extra></extra>\", \"hovertext\": [\"Armenia\", \"Armenia\"], \"locationmode\": \"country names\", \"locations\": [\"Armenia\", \"Armenia\"], \"name\": \"Armenia\", \"showlegend\": true, \"showscale\": false, \"type\": \"choropleth\", \"z\": [1, 1]}, {\"colorscale\": [[0.0, \"#FF97FF\"], [1.0, \"#FF97FF\"]], \"geo\": \"geo\", \"hovertemplate\": \"<b>%{hovertext}</b><br><br>Country=%{location}<extra></extra>\", \"hovertext\": [\"Australia\"], \"locationmode\": \"country names\", \"locations\": [\"Australia\"], \"name\": \"Australia\", \"showlegend\": true, \"showscale\": false, \"type\": \"choropleth\", \"z\": [1]}, {\"colorscale\": [[0.0, \"#FECB52\"], [1.0, \"#FECB52\"]], \"geo\": \"geo\", \"hovertemplate\": \"<b>%{hovertext}</b><br><br>Country=%{location}<extra></extra>\", \"hovertext\": [\"Austria\"], \"locationmode\": \"country names\", \"locations\": [\"Austria\"], \"name\": \"Austria\", \"showlegend\": true, \"showscale\": false, \"type\": \"choropleth\", \"z\": [1]}, {\"colorscale\": [[0.0, \"#636efa\"], [1.0, \"#636efa\"]], \"geo\": \"geo\", \"hovertemplate\": \"<b>%{hovertext}</b><br><br>Country=%{location}<extra></extra>\", \"hovertext\": [\"Azerbaijan\", \"Azerbaijan\"], \"locationmode\": \"country names\", \"locations\": [\"Azerbaijan\", \"Azerbaijan\"], \"name\": \"Azerbaijan\", \"showlegend\": true, \"showscale\": false, \"type\": \"choropleth\", \"z\": [1, 1]}, {\"colorscale\": [[0.0, \"#EF553B\"], [1.0, \"#EF553B\"]], \"geo\": \"geo\", \"hovertemplate\": \"<b>%{hovertext}</b><br><br>Country=%{location}<extra></extra>\", \"hovertext\": [\"Bahamas\"], \"locationmode\": \"country names\", \"locations\": [\"Bahamas\"], \"name\": \"Bahamas\", \"showlegend\": true, \"showscale\": false, \"type\": \"choropleth\", \"z\": [1]}, {\"colorscale\": [[0.0, \"#00cc96\"], [1.0, \"#00cc96\"]], \"geo\": \"geo\", \"hovertemplate\": \"<b>%{hovertext}</b><br><br>Country=%{location}<extra></extra>\", \"hovertext\": [\"Bahrain\"], \"locationmode\": \"country names\", \"locations\": [\"Bahrain\"], \"name\": \"Bahrain\", \"showlegend\": true, \"showscale\": false, \"type\": \"choropleth\", \"z\": [1]}, {\"colorscale\": [[0.0, \"#ab63fa\"], [1.0, \"#ab63fa\"]], \"geo\": \"geo\", \"hovertemplate\": \"<b>%{hovertext}</b><br><br>Country=%{location}<extra></extra>\", \"hovertext\": [\"Bangladesh\"], \"locationmode\": \"country names\", \"locations\": [\"Bangladesh\"], \"name\": \"Bangladesh\", \"showlegend\": true, \"showscale\": false, \"type\": \"choropleth\", \"z\": [1]}, {\"colorscale\": [[0.0, \"#FFA15A\"], [1.0, \"#FFA15A\"]], \"geo\": \"geo\", \"hovertemplate\": \"<b>%{hovertext}</b><br><br>Country=%{location}<extra></extra>\", \"hovertext\": [\"Barbados\"], \"locationmode\": \"country names\", \"locations\": [\"Barbados\"], \"name\": \"Barbados\", \"showlegend\": true, \"showscale\": false, \"type\": \"choropleth\", \"z\": [1]}, {\"colorscale\": [[0.0, \"#19d3f3\"], [1.0, \"#19d3f3\"]], \"geo\": \"geo\", \"hovertemplate\": \"<b>%{hovertext}</b><br><br>Country=%{location}<extra></extra>\", \"hovertext\": [\"Belarus\"], \"locationmode\": \"country names\", \"locations\": [\"Belarus\"], \"name\": \"Belarus\", \"showlegend\": true, \"showscale\": false, \"type\": \"choropleth\", \"z\": [1]}, {\"colorscale\": [[0.0, \"#FF6692\"], [1.0, \"#FF6692\"]], \"geo\": \"geo\", \"hovertemplate\": \"<b>%{hovertext}</b><br><br>Country=%{location}<extra></extra>\", \"hovertext\": [\"Belgium\"], \"locationmode\": \"country names\", \"locations\": [\"Belgium\"], \"name\": \"Belgium\", \"showlegend\": true, \"showscale\": false, \"type\": \"choropleth\", \"z\": [1]}, {\"colorscale\": [[0.0, \"#B6E880\"], [1.0, \"#B6E880\"]], \"geo\": \"geo\", \"hovertemplate\": \"<b>%{hovertext}</b><br><br>Country=%{location}<extra></extra>\", \"hovertext\": [\"Belize\"], \"locationmode\": \"country names\", \"locations\": [\"Belize\"], \"name\": \"Belize\", \"showlegend\": true, \"showscale\": false, \"type\": \"choropleth\", \"z\": [1]}, {\"colorscale\": [[0.0, \"#FF97FF\"], [1.0, \"#FF97FF\"]], \"geo\": \"geo\", \"hovertemplate\": \"<b>%{hovertext}</b><br><br>Country=%{location}<extra></extra>\", \"hovertext\": [\"Benin\"], \"locationmode\": \"country names\", \"locations\": [\"Benin\"], \"name\": \"Benin\", \"showlegend\": true, \"showscale\": false, \"type\": \"choropleth\", \"z\": [1]}, {\"colorscale\": [[0.0, \"#FECB52\"], [1.0, \"#FECB52\"]], \"geo\": \"geo\", \"hovertemplate\": \"<b>%{hovertext}</b><br><br>Country=%{location}<extra></extra>\", \"hovertext\": [\"Bhutan\"], \"locationmode\": \"country names\", \"locations\": [\"Bhutan\"], \"name\": \"Bhutan\", \"showlegend\": true, \"showscale\": false, \"type\": \"choropleth\", \"z\": [1]}, {\"colorscale\": [[0.0, \"#636efa\"], [1.0, \"#636efa\"]], \"geo\": \"geo\", \"hovertemplate\": \"<b>%{hovertext}</b><br><br>Country=%{location}<extra></extra>\", \"hovertext\": [\"Bolivia\"], \"locationmode\": \"country names\", \"locations\": [\"Bolivia\"], \"name\": \"Bolivia\", \"showlegend\": true, \"showscale\": false, \"type\": \"choropleth\", \"z\": [1]}, {\"colorscale\": [[0.0, \"#EF553B\"], [1.0, \"#EF553B\"]], \"geo\": \"geo\", \"hovertemplate\": \"<b>%{hovertext}</b><br><br>Country=%{location}<extra></extra>\", \"hovertext\": [\"Bosnia and Herzegovina\"], \"locationmode\": \"country names\", \"locations\": [\"Bosnia and Herzegovina\"], \"name\": \"Bosnia and Herzegovina\", \"showlegend\": true, \"showscale\": false, \"type\": \"choropleth\", \"z\": [1]}, {\"colorscale\": [[0.0, \"#00cc96\"], [1.0, \"#00cc96\"]], \"geo\": \"geo\", \"hovertemplate\": \"<b>%{hovertext}</b><br><br>Country=%{location}<extra></extra>\", \"hovertext\": [\"Botswana\"], \"locationmode\": \"country names\", \"locations\": [\"Botswana\"], \"name\": \"Botswana\", \"showlegend\": true, \"showscale\": false, \"type\": \"choropleth\", \"z\": [1]}, {\"colorscale\": [[0.0, \"#ab63fa\"], [1.0, \"#ab63fa\"]], \"geo\": \"geo\", \"hovertemplate\": \"<b>%{hovertext}</b><br><br>Country=%{location}<extra></extra>\", \"hovertext\": [\"Brazil\"], \"locationmode\": \"country names\", \"locations\": [\"Brazil\"], \"name\": \"Brazil\", \"showlegend\": true, \"showscale\": false, \"type\": \"choropleth\", \"z\": [1]}, {\"colorscale\": [[0.0, \"#FFA15A\"], [1.0, \"#FFA15A\"]], \"geo\": \"geo\", \"hovertemplate\": \"<b>%{hovertext}</b><br><br>Country=%{location}<extra></extra>\", \"hovertext\": [\"Bulgaria\"], \"locationmode\": \"country names\", \"locations\": [\"Bulgaria\"], \"name\": \"Bulgaria\", \"showlegend\": true, \"showscale\": false, \"type\": \"choropleth\", \"z\": [1]}, {\"colorscale\": [[0.0, \"#19d3f3\"], [1.0, \"#19d3f3\"]], \"geo\": \"geo\", \"hovertemplate\": \"<b>%{hovertext}</b><br><br>Country=%{location}<extra></extra>\", \"hovertext\": [\"Burkina Faso\"], \"locationmode\": \"country names\", \"locations\": [\"Burkina Faso\"], \"name\": \"Burkina Faso\", \"showlegend\": true, \"showscale\": false, \"type\": \"choropleth\", \"z\": [1]}, {\"colorscale\": [[0.0, \"#FF6692\"], [1.0, \"#FF6692\"]], \"geo\": \"geo\", \"hovertemplate\": \"<b>%{hovertext}</b><br><br>Country=%{location}<extra></extra>\", \"hovertext\": [\"Burundi\"], \"locationmode\": \"country names\", \"locations\": [\"Burundi\"], \"name\": \"Burundi\", \"showlegend\": true, \"showscale\": false, \"type\": \"choropleth\", \"z\": [1]}, {\"colorscale\": [[0.0, \"#B6E880\"], [1.0, \"#B6E880\"]], \"geo\": \"geo\", \"hovertemplate\": \"<b>%{hovertext}</b><br><br>Country=%{location}<extra></extra>\", \"hovertext\": [\"Cambodia\"], \"locationmode\": \"country names\", \"locations\": [\"Cambodia\"], \"name\": \"Cambodia\", \"showlegend\": true, \"showscale\": false, \"type\": \"choropleth\", \"z\": [1]}, {\"colorscale\": [[0.0, \"#FF97FF\"], [1.0, \"#FF97FF\"]], \"geo\": \"geo\", \"hovertemplate\": \"<b>%{hovertext}</b><br><br>Country=%{location}<extra></extra>\", \"hovertext\": [\"Cameroon\"], \"locationmode\": \"country names\", \"locations\": [\"Cameroon\"], \"name\": \"Cameroon\", \"showlegend\": true, \"showscale\": false, \"type\": \"choropleth\", \"z\": [1]}, {\"colorscale\": [[0.0, \"#FECB52\"], [1.0, \"#FECB52\"]], \"geo\": \"geo\", \"hovertemplate\": \"<b>%{hovertext}</b><br><br>Country=%{location}<extra></extra>\", \"hovertext\": [\"Canada\"], \"locationmode\": \"country names\", \"locations\": [\"Canada\"], \"name\": \"Canada\", \"showlegend\": true, \"showscale\": false, \"type\": \"choropleth\", \"z\": [1]}, {\"colorscale\": [[0.0, \"#636efa\"], [1.0, \"#636efa\"]], \"geo\": \"geo\", \"hovertemplate\": \"<b>%{hovertext}</b><br><br>Country=%{location}<extra></extra>\", \"hovertext\": [\"Cape Verde\"], \"locationmode\": \"country names\", \"locations\": [\"Cape Verde\"], \"name\": \"Cape Verde\", \"showlegend\": true, \"showscale\": false, \"type\": \"choropleth\", \"z\": [1]}, {\"colorscale\": [[0.0, \"#EF553B\"], [1.0, \"#EF553B\"]], \"geo\": \"geo\", \"hovertemplate\": \"<b>%{hovertext}</b><br><br>Country=%{location}<extra></extra>\", \"hovertext\": [\"Central African Republic\"], \"locationmode\": \"country names\", \"locations\": [\"Central African Republic\"], \"name\": \"Central African Republic\", \"showlegend\": true, \"showscale\": false, \"type\": \"choropleth\", \"z\": [1]}, {\"colorscale\": [[0.0, \"#00cc96\"], [1.0, \"#00cc96\"]], \"geo\": \"geo\", \"hovertemplate\": \"<b>%{hovertext}</b><br><br>Country=%{location}<extra></extra>\", \"hovertext\": [\"Chad\"], \"locationmode\": \"country names\", \"locations\": [\"Chad\"], \"name\": \"Chad\", \"showlegend\": true, \"showscale\": false, \"type\": \"choropleth\", \"z\": [1]}, {\"colorscale\": [[0.0, \"#ab63fa\"], [1.0, \"#ab63fa\"]], \"geo\": \"geo\", \"hovertemplate\": \"<b>%{hovertext}</b><br><br>Country=%{location}<extra></extra>\", \"hovertext\": [\"Chile\"], \"locationmode\": \"country names\", \"locations\": [\"Chile\"], \"name\": \"Chile\", \"showlegend\": true, \"showscale\": false, \"type\": \"choropleth\", \"z\": [1]}, {\"colorscale\": [[0.0, \"#FFA15A\"], [1.0, \"#FFA15A\"]], \"geo\": \"geo\", \"hovertemplate\": \"<b>%{hovertext}</b><br><br>Country=%{location}<extra></extra>\", \"hovertext\": [\"China\"], \"locationmode\": \"country names\", \"locations\": [\"China\"], \"name\": \"China\", \"showlegend\": true, \"showscale\": false, \"type\": \"choropleth\", \"z\": [1]}, {\"colorscale\": [[0.0, \"#19d3f3\"], [1.0, \"#19d3f3\"]], \"geo\": \"geo\", \"hovertemplate\": \"<b>%{hovertext}</b><br><br>Country=%{location}<extra></extra>\", \"hovertext\": [\"Colombia\"], \"locationmode\": \"country names\", \"locations\": [\"Colombia\"], \"name\": \"Colombia\", \"showlegend\": true, \"showscale\": false, \"type\": \"choropleth\", \"z\": [1]}, {\"colorscale\": [[0.0, \"#FF6692\"], [1.0, \"#FF6692\"]], \"geo\": \"geo\", \"hovertemplate\": \"<b>%{hovertext}</b><br><br>Country=%{location}<extra></extra>\", \"hovertext\": [\"Comoros\"], \"locationmode\": \"country names\", \"locations\": [\"Comoros\"], \"name\": \"Comoros\", \"showlegend\": true, \"showscale\": false, \"type\": \"choropleth\", \"z\": [1]}, {\"colorscale\": [[0.0, \"#B6E880\"], [1.0, \"#B6E880\"]], \"geo\": \"geo\", \"hovertemplate\": \"<b>%{hovertext}</b><br><br>Country=%{location}<extra></extra>\", \"hovertext\": [\"Costa Rica\"], \"locationmode\": \"country names\", \"locations\": [\"Costa Rica\"], \"name\": \"Costa Rica\", \"showlegend\": true, \"showscale\": false, \"type\": \"choropleth\", \"z\": [1]}, {\"colorscale\": [[0.0, \"#FF97FF\"], [1.0, \"#FF97FF\"]], \"geo\": \"geo\", \"hovertemplate\": \"<b>%{hovertext}</b><br><br>Country=%{location}<extra></extra>\", \"hovertext\": [\"Croatia\"], \"locationmode\": \"country names\", \"locations\": [\"Croatia\"], \"name\": \"Croatia\", \"showlegend\": true, \"showscale\": false, \"type\": \"choropleth\", \"z\": [1]}, {\"colorscale\": [[0.0, \"#FECB52\"], [1.0, \"#FECB52\"]], \"geo\": \"geo\", \"hovertemplate\": \"<b>%{hovertext}</b><br><br>Country=%{location}<extra></extra>\", \"hovertext\": [\"Cuba\"], \"locationmode\": \"country names\", \"locations\": [\"Cuba\"], \"name\": \"Cuba\", \"showlegend\": true, \"showscale\": false, \"type\": \"choropleth\", \"z\": [1]}, {\"colorscale\": [[0.0, \"#636efa\"], [1.0, \"#636efa\"]], \"geo\": \"geo\", \"hovertemplate\": \"<b>%{hovertext}</b><br><br>Country=%{location}<extra></extra>\", \"hovertext\": [\"Cyprus\", \"Cyprus\"], \"locationmode\": \"country names\", \"locations\": [\"Cyprus\", \"Cyprus\"], \"name\": \"Cyprus\", \"showlegend\": true, \"showscale\": false, \"type\": \"choropleth\", \"z\": [1, 1]}, {\"colorscale\": [[0.0, \"#EF553B\"], [1.0, \"#EF553B\"]], \"geo\": \"geo\", \"hovertemplate\": \"<b>%{hovertext}</b><br><br>Country=%{location}<extra></extra>\", \"hovertext\": [\"Czech Republic\"], \"locationmode\": \"country names\", \"locations\": [\"Czech Republic\"], \"name\": \"Czech Republic\", \"showlegend\": true, \"showscale\": false, \"type\": \"choropleth\", \"z\": [1]}, {\"colorscale\": [[0.0, \"#00cc96\"], [1.0, \"#00cc96\"]], \"geo\": \"geo\", \"hovertemplate\": \"<b>%{hovertext}</b><br><br>Country=%{location}<extra></extra>\", \"hovertext\": [\"C\\u00f4te d'Ivoire\"], \"locationmode\": \"country names\", \"locations\": [\"C\\u00f4te d'Ivoire\"], \"name\": \"C\\u00f4te d'Ivoire\", \"showlegend\": true, \"showscale\": false, \"type\": \"choropleth\", \"z\": [1]}, {\"colorscale\": [[0.0, \"#ab63fa\"], [1.0, \"#ab63fa\"]], \"geo\": \"geo\", \"hovertemplate\": \"<b>%{hovertext}</b><br><br>Country=%{location}<extra></extra>\", \"hovertext\": [\"Denmark\"], \"locationmode\": \"country names\", \"locations\": [\"Denmark\"], \"name\": \"Denmark\", \"showlegend\": true, \"showscale\": false, \"type\": \"choropleth\", \"z\": [1]}, {\"colorscale\": [[0.0, \"#FFA15A\"], [1.0, \"#FFA15A\"]], \"geo\": \"geo\", \"hovertemplate\": \"<b>%{hovertext}</b><br><br>Country=%{location}<extra></extra>\", \"hovertext\": [\"Djibouti\"], \"locationmode\": \"country names\", \"locations\": [\"Djibouti\"], \"name\": \"Djibouti\", \"showlegend\": true, \"showscale\": false, \"type\": \"choropleth\", \"z\": [1]}, {\"colorscale\": [[0.0, \"#19d3f3\"], [1.0, \"#19d3f3\"]], \"geo\": \"geo\", \"hovertemplate\": \"<b>%{hovertext}</b><br><br>Country=%{location}<extra></extra>\", \"hovertext\": [\"Dominica\"], \"locationmode\": \"country names\", \"locations\": [\"Dominica\"], \"name\": \"Dominica\", \"showlegend\": true, \"showscale\": false, \"type\": \"choropleth\", \"z\": [1]}, {\"colorscale\": [[0.0, \"#FF6692\"], [1.0, \"#FF6692\"]], \"geo\": \"geo\", \"hovertemplate\": \"<b>%{hovertext}</b><br><br>Country=%{location}<extra></extra>\", \"hovertext\": [\"Dominican Republic\"], \"locationmode\": \"country names\", \"locations\": [\"Dominican Republic\"], \"name\": \"Dominican Republic\", \"showlegend\": true, \"showscale\": false, \"type\": \"choropleth\", \"z\": [1]}, {\"colorscale\": [[0.0, \"#B6E880\"], [1.0, \"#B6E880\"]], \"geo\": \"geo\", \"hovertemplate\": \"<b>%{hovertext}</b><br><br>Country=%{location}<extra></extra>\", \"hovertext\": [\"Ecuador\"], \"locationmode\": \"country names\", \"locations\": [\"Ecuador\"], \"name\": \"Ecuador\", \"showlegend\": true, \"showscale\": false, \"type\": \"choropleth\", \"z\": [1]}, {\"colorscale\": [[0.0, \"#FF97FF\"], [1.0, \"#FF97FF\"]], \"geo\": \"geo\", \"hovertemplate\": \"<b>%{hovertext}</b><br><br>Country=%{location}<extra></extra>\", \"hovertext\": [\"Egypt\"], \"locationmode\": \"country names\", \"locations\": [\"Egypt\"], \"name\": \"Egypt\", \"showlegend\": true, \"showscale\": false, \"type\": \"choropleth\", \"z\": [1]}, {\"colorscale\": [[0.0, \"#FECB52\"], [1.0, \"#FECB52\"]], \"geo\": \"geo\", \"hovertemplate\": \"<b>%{hovertext}</b><br><br>Country=%{location}<extra></extra>\", \"hovertext\": [\"El Salvador\"], \"locationmode\": \"country names\", \"locations\": [\"El Salvador\"], \"name\": \"El Salvador\", \"showlegend\": true, \"showscale\": false, \"type\": \"choropleth\", \"z\": [1]}, {\"colorscale\": [[0.0, \"#636efa\"], [1.0, \"#636efa\"]], \"geo\": \"geo\", \"hovertemplate\": \"<b>%{hovertext}</b><br><br>Country=%{location}<extra></extra>\", \"hovertext\": [\"Equatorial Guinea\"], \"locationmode\": \"country names\", \"locations\": [\"Equatorial Guinea\"], \"name\": \"Equatorial Guinea\", \"showlegend\": true, \"showscale\": false, \"type\": \"choropleth\", \"z\": [1]}, {\"colorscale\": [[0.0, \"#EF553B\"], [1.0, \"#EF553B\"]], \"geo\": \"geo\", \"hovertemplate\": \"<b>%{hovertext}</b><br><br>Country=%{location}<extra></extra>\", \"hovertext\": [\"Eritrea\"], \"locationmode\": \"country names\", \"locations\": [\"Eritrea\"], \"name\": \"Eritrea\", \"showlegend\": true, \"showscale\": false, \"type\": \"choropleth\", \"z\": [1]}, {\"colorscale\": [[0.0, \"#00cc96\"], [1.0, \"#00cc96\"]], \"geo\": \"geo\", \"hovertemplate\": \"<b>%{hovertext}</b><br><br>Country=%{location}<extra></extra>\", \"hovertext\": [\"Estonia\"], \"locationmode\": \"country names\", \"locations\": [\"Estonia\"], \"name\": \"Estonia\", \"showlegend\": true, \"showscale\": false, \"type\": \"choropleth\", \"z\": [1]}, {\"colorscale\": [[0.0, \"#ab63fa\"], [1.0, \"#ab63fa\"]], \"geo\": \"geo\", \"hovertemplate\": \"<b>%{hovertext}</b><br><br>Country=%{location}<extra></extra>\", \"hovertext\": [\"Ethiopia\"], \"locationmode\": \"country names\", \"locations\": [\"Ethiopia\"], \"name\": \"Ethiopia\", \"showlegend\": true, \"showscale\": false, \"type\": \"choropleth\", \"z\": [1]}, {\"colorscale\": [[0.0, \"#FFA15A\"], [1.0, \"#FFA15A\"]], \"geo\": \"geo\", \"hovertemplate\": \"<b>%{hovertext}</b><br><br>Country=%{location}<extra></extra>\", \"hovertext\": [\"Fiji\"], \"locationmode\": \"country names\", \"locations\": [\"Fiji\"], \"name\": \"Fiji\", \"showlegend\": true, \"showscale\": false, \"type\": \"choropleth\", \"z\": [1]}, {\"colorscale\": [[0.0, \"#19d3f3\"], [1.0, \"#19d3f3\"]], \"geo\": \"geo\", \"hovertemplate\": \"<b>%{hovertext}</b><br><br>Country=%{location}<extra></extra>\", \"hovertext\": [\"Finland\"], \"locationmode\": \"country names\", \"locations\": [\"Finland\"], \"name\": \"Finland\", \"showlegend\": true, \"showscale\": false, \"type\": \"choropleth\", \"z\": [1]}, {\"colorscale\": [[0.0, \"#FF6692\"], [1.0, \"#FF6692\"]], \"geo\": \"geo\", \"hovertemplate\": \"<b>%{hovertext}</b><br><br>Country=%{location}<extra></extra>\", \"hovertext\": [\"France\"], \"locationmode\": \"country names\", \"locations\": [\"France\"], \"name\": \"France\", \"showlegend\": true, \"showscale\": false, \"type\": \"choropleth\", \"z\": [1]}, {\"colorscale\": [[0.0, \"#B6E880\"], [1.0, \"#B6E880\"]], \"geo\": \"geo\", \"hovertemplate\": \"<b>%{hovertext}</b><br><br>Country=%{location}<extra></extra>\", \"hovertext\": [\"Gabon\"], \"locationmode\": \"country names\", \"locations\": [\"Gabon\"], \"name\": \"Gabon\", \"showlegend\": true, \"showscale\": false, \"type\": \"choropleth\", \"z\": [1]}, {\"colorscale\": [[0.0, \"#FF97FF\"], [1.0, \"#FF97FF\"]], \"geo\": \"geo\", \"hovertemplate\": \"<b>%{hovertext}</b><br><br>Country=%{location}<extra></extra>\", \"hovertext\": [\"Gambia\"], \"locationmode\": \"country names\", \"locations\": [\"Gambia\"], \"name\": \"Gambia\", \"showlegend\": true, \"showscale\": false, \"type\": \"choropleth\", \"z\": [1]}, {\"colorscale\": [[0.0, \"#FECB52\"], [1.0, \"#FECB52\"]], \"geo\": \"geo\", \"hovertemplate\": \"<b>%{hovertext}</b><br><br>Country=%{location}<extra></extra>\", \"hovertext\": [\"Georgia\", \"Georgia\"], \"locationmode\": \"country names\", \"locations\": [\"Georgia\", \"Georgia\"], \"name\": \"Georgia\", \"showlegend\": true, \"showscale\": false, \"type\": \"choropleth\", \"z\": [1, 1]}, {\"colorscale\": [[0.0, \"#636efa\"], [1.0, \"#636efa\"]], \"geo\": \"geo\", \"hovertemplate\": \"<b>%{hovertext}</b><br><br>Country=%{location}<extra></extra>\", \"hovertext\": [\"Germany\"], \"locationmode\": \"country names\", \"locations\": [\"Germany\"], \"name\": \"Germany\", \"showlegend\": true, \"showscale\": false, \"type\": \"choropleth\", \"z\": [1]}, {\"colorscale\": [[0.0, \"#EF553B\"], [1.0, \"#EF553B\"]], \"geo\": \"geo\", \"hovertemplate\": \"<b>%{hovertext}</b><br><br>Country=%{location}<extra></extra>\", \"hovertext\": [\"Ghana\"], \"locationmode\": \"country names\", \"locations\": [\"Ghana\"], \"name\": \"Ghana\", \"showlegend\": true, \"showscale\": false, \"type\": \"choropleth\", \"z\": [1]}, {\"colorscale\": [[0.0, \"#00cc96\"], [1.0, \"#00cc96\"]], \"geo\": \"geo\", \"hovertemplate\": \"<b>%{hovertext}</b><br><br>Country=%{location}<extra></extra>\", \"hovertext\": [\"Greece\"], \"locationmode\": \"country names\", \"locations\": [\"Greece\"], \"name\": \"Greece\", \"showlegend\": true, \"showscale\": false, \"type\": \"choropleth\", \"z\": [1]}, {\"colorscale\": [[0.0, \"#ab63fa\"], [1.0, \"#ab63fa\"]], \"geo\": \"geo\", \"hovertemplate\": \"<b>%{hovertext}</b><br><br>Country=%{location}<extra></extra>\", \"hovertext\": [\"Grenada\"], \"locationmode\": \"country names\", \"locations\": [\"Grenada\"], \"name\": \"Grenada\", \"showlegend\": true, \"showscale\": false, \"type\": \"choropleth\", \"z\": [1]}, {\"colorscale\": [[0.0, \"#FFA15A\"], [1.0, \"#FFA15A\"]], \"geo\": \"geo\", \"hovertemplate\": \"<b>%{hovertext}</b><br><br>Country=%{location}<extra></extra>\", \"hovertext\": [\"Guatemala\"], \"locationmode\": \"country names\", \"locations\": [\"Guatemala\"], \"name\": \"Guatemala\", \"showlegend\": true, \"showscale\": false, \"type\": \"choropleth\", \"z\": [1]}, {\"colorscale\": [[0.0, \"#19d3f3\"], [1.0, \"#19d3f3\"]], \"geo\": \"geo\", \"hovertemplate\": \"<b>%{hovertext}</b><br><br>Country=%{location}<extra></extra>\", \"hovertext\": [\"Guinea\"], \"locationmode\": \"country names\", \"locations\": [\"Guinea\"], \"name\": \"Guinea\", \"showlegend\": true, \"showscale\": false, \"type\": \"choropleth\", \"z\": [1]}, {\"colorscale\": [[0.0, \"#FF6692\"], [1.0, \"#FF6692\"]], \"geo\": \"geo\", \"hovertemplate\": \"<b>%{hovertext}</b><br><br>Country=%{location}<extra></extra>\", \"hovertext\": [\"Guinea-Bissau\"], \"locationmode\": \"country names\", \"locations\": [\"Guinea-Bissau\"], \"name\": \"Guinea-Bissau\", \"showlegend\": true, \"showscale\": false, \"type\": \"choropleth\", \"z\": [1]}, {\"colorscale\": [[0.0, \"#B6E880\"], [1.0, \"#B6E880\"]], \"geo\": \"geo\", \"hovertemplate\": \"<b>%{hovertext}</b><br><br>Country=%{location}<extra></extra>\", \"hovertext\": [\"Guyana\"], \"locationmode\": \"country names\", \"locations\": [\"Guyana\"], \"name\": \"Guyana\", \"showlegend\": true, \"showscale\": false, \"type\": \"choropleth\", \"z\": [1]}, {\"colorscale\": [[0.0, \"#FF97FF\"], [1.0, \"#FF97FF\"]], \"geo\": \"geo\", \"hovertemplate\": \"<b>%{hovertext}</b><br><br>Country=%{location}<extra></extra>\", \"hovertext\": [\"Haiti\"], \"locationmode\": \"country names\", \"locations\": [\"Haiti\"], \"name\": \"Haiti\", \"showlegend\": true, \"showscale\": false, \"type\": \"choropleth\", \"z\": [1]}, {\"colorscale\": [[0.0, \"#FECB52\"], [1.0, \"#FECB52\"]], \"geo\": \"geo\", \"hovertemplate\": \"<b>%{hovertext}</b><br><br>Country=%{location}<extra></extra>\", \"hovertext\": [\"Honduras\"], \"locationmode\": \"country names\", \"locations\": [\"Honduras\"], \"name\": \"Honduras\", \"showlegend\": true, \"showscale\": false, \"type\": \"choropleth\", \"z\": [1]}, {\"colorscale\": [[0.0, \"#636efa\"], [1.0, \"#636efa\"]], \"geo\": \"geo\", \"hovertemplate\": \"<b>%{hovertext}</b><br><br>Country=%{location}<extra></extra>\", \"hovertext\": [\"Hungary\"], \"locationmode\": \"country names\", \"locations\": [\"Hungary\"], \"name\": \"Hungary\", \"showlegend\": true, \"showscale\": false, \"type\": \"choropleth\", \"z\": [1]}, {\"colorscale\": [[0.0, \"#EF553B\"], [1.0, \"#EF553B\"]], \"geo\": \"geo\", \"hovertemplate\": \"<b>%{hovertext}</b><br><br>Country=%{location}<extra></extra>\", \"hovertext\": [\"Iceland\"], \"locationmode\": \"country names\", \"locations\": [\"Iceland\"], \"name\": \"Iceland\", \"showlegend\": true, \"showscale\": false, \"type\": \"choropleth\", \"z\": [1]}, {\"colorscale\": [[0.0, \"#00cc96\"], [1.0, \"#00cc96\"]], \"geo\": \"geo\", \"hovertemplate\": \"<b>%{hovertext}</b><br><br>Country=%{location}<extra></extra>\", \"hovertext\": [\"India\"], \"locationmode\": \"country names\", \"locations\": [\"India\"], \"name\": \"India\", \"showlegend\": true, \"showscale\": false, \"type\": \"choropleth\", \"z\": [1]}, {\"colorscale\": [[0.0, \"#ab63fa\"], [1.0, \"#ab63fa\"]], \"geo\": \"geo\", \"hovertemplate\": \"<b>%{hovertext}</b><br><br>Country=%{location}<extra></extra>\", \"hovertext\": [\"Indonesia\"], \"locationmode\": \"country names\", \"locations\": [\"Indonesia\"], \"name\": \"Indonesia\", \"showlegend\": true, \"showscale\": false, \"type\": \"choropleth\", \"z\": [1]}, {\"colorscale\": [[0.0, \"#FFA15A\"], [1.0, \"#FFA15A\"]], \"geo\": \"geo\", \"hovertemplate\": \"<b>%{hovertext}</b><br><br>Country=%{location}<extra></extra>\", \"hovertext\": [\"Iraq\"], \"locationmode\": \"country names\", \"locations\": [\"Iraq\"], \"name\": \"Iraq\", \"showlegend\": true, \"showscale\": false, \"type\": \"choropleth\", \"z\": [1]}, {\"colorscale\": [[0.0, \"#19d3f3\"], [1.0, \"#19d3f3\"]], \"geo\": \"geo\", \"hovertemplate\": \"<b>%{hovertext}</b><br><br>Country=%{location}<extra></extra>\", \"hovertext\": [\"Ireland\"], \"locationmode\": \"country names\", \"locations\": [\"Ireland\"], \"name\": \"Ireland\", \"showlegend\": true, \"showscale\": false, \"type\": \"choropleth\", \"z\": [1]}, {\"colorscale\": [[0.0, \"#FF6692\"], [1.0, \"#FF6692\"]], \"geo\": \"geo\", \"hovertemplate\": \"<b>%{hovertext}</b><br><br>Country=%{location}<extra></extra>\", \"hovertext\": [\"Israel\"], \"locationmode\": \"country names\", \"locations\": [\"Israel\"], \"name\": \"Israel\", \"showlegend\": true, \"showscale\": false, \"type\": \"choropleth\", \"z\": [1]}, {\"colorscale\": [[0.0, \"#B6E880\"], [1.0, \"#B6E880\"]], \"geo\": \"geo\", \"hovertemplate\": \"<b>%{hovertext}</b><br><br>Country=%{location}<extra></extra>\", \"hovertext\": [\"Italy\"], \"locationmode\": \"country names\", \"locations\": [\"Italy\"], \"name\": \"Italy\", \"showlegend\": true, \"showscale\": false, \"type\": \"choropleth\", \"z\": [1]}, {\"colorscale\": [[0.0, \"#FF97FF\"], [1.0, \"#FF97FF\"]], \"geo\": \"geo\", \"hovertemplate\": \"<b>%{hovertext}</b><br><br>Country=%{location}<extra></extra>\", \"hovertext\": [\"Jamaica\"], \"locationmode\": \"country names\", \"locations\": [\"Jamaica\"], \"name\": \"Jamaica\", \"showlegend\": true, \"showscale\": false, \"type\": \"choropleth\", \"z\": [1]}, {\"colorscale\": [[0.0, \"#FECB52\"], [1.0, \"#FECB52\"]], \"geo\": \"geo\", \"hovertemplate\": \"<b>%{hovertext}</b><br><br>Country=%{location}<extra></extra>\", \"hovertext\": [\"Japan\"], \"locationmode\": \"country names\", \"locations\": [\"Japan\"], \"name\": \"Japan\", \"showlegend\": true, \"showscale\": false, \"type\": \"choropleth\", \"z\": [1]}, {\"colorscale\": [[0.0, \"#636efa\"], [1.0, \"#636efa\"]], \"geo\": \"geo\", \"hovertemplate\": \"<b>%{hovertext}</b><br><br>Country=%{location}<extra></extra>\", \"hovertext\": [\"Jordan\"], \"locationmode\": \"country names\", \"locations\": [\"Jordan\"], \"name\": \"Jordan\", \"showlegend\": true, \"showscale\": false, \"type\": \"choropleth\", \"z\": [1]}, {\"colorscale\": [[0.0, \"#EF553B\"], [1.0, \"#EF553B\"]], \"geo\": \"geo\", \"hovertemplate\": \"<b>%{hovertext}</b><br><br>Country=%{location}<extra></extra>\", \"hovertext\": [\"Kazakhstan\", \"Kazakhstan\"], \"locationmode\": \"country names\", \"locations\": [\"Kazakhstan\", \"Kazakhstan\"], \"name\": \"Kazakhstan\", \"showlegend\": true, \"showscale\": false, \"type\": \"choropleth\", \"z\": [1, 1]}, {\"colorscale\": [[0.0, \"#00cc96\"], [1.0, \"#00cc96\"]], \"geo\": \"geo\", \"hovertemplate\": \"<b>%{hovertext}</b><br><br>Country=%{location}<extra></extra>\", \"hovertext\": [\"Kenya\"], \"locationmode\": \"country names\", \"locations\": [\"Kenya\"], \"name\": \"Kenya\", \"showlegend\": true, \"showscale\": false, \"type\": \"choropleth\", \"z\": [1]}, {\"colorscale\": [[0.0, \"#ab63fa\"], [1.0, \"#ab63fa\"]], \"geo\": \"geo\", \"hovertemplate\": \"<b>%{hovertext}</b><br><br>Country=%{location}<extra></extra>\", \"hovertext\": [\"Kuwait\"], \"locationmode\": \"country names\", \"locations\": [\"Kuwait\"], \"name\": \"Kuwait\", \"showlegend\": true, \"showscale\": false, \"type\": \"choropleth\", \"z\": [1]}, {\"colorscale\": [[0.0, \"#FFA15A\"], [1.0, \"#FFA15A\"]], \"geo\": \"geo\", \"hovertemplate\": \"<b>%{hovertext}</b><br><br>Country=%{location}<extra></extra>\", \"hovertext\": [\"Kyrgyzstan\"], \"locationmode\": \"country names\", \"locations\": [\"Kyrgyzstan\"], \"name\": \"Kyrgyzstan\", \"showlegend\": true, \"showscale\": false, \"type\": \"choropleth\", \"z\": [1]}, {\"colorscale\": [[0.0, \"#19d3f3\"], [1.0, \"#19d3f3\"]], \"geo\": \"geo\", \"hovertemplate\": \"<b>%{hovertext}</b><br><br>Country=%{location}<extra></extra>\", \"hovertext\": [\"Latvia\"], \"locationmode\": \"country names\", \"locations\": [\"Latvia\"], \"name\": \"Latvia\", \"showlegend\": true, \"showscale\": false, \"type\": \"choropleth\", \"z\": [1]}, {\"colorscale\": [[0.0, \"#FF6692\"], [1.0, \"#FF6692\"]], \"geo\": \"geo\", \"hovertemplate\": \"<b>%{hovertext}</b><br><br>Country=%{location}<extra></extra>\", \"hovertext\": [\"Lebanon\"], \"locationmode\": \"country names\", \"locations\": [\"Lebanon\"], \"name\": \"Lebanon\", \"showlegend\": true, \"showscale\": false, \"type\": \"choropleth\", \"z\": [1]}, {\"colorscale\": [[0.0, \"#B6E880\"], [1.0, \"#B6E880\"]], \"geo\": \"geo\", \"hovertemplate\": \"<b>%{hovertext}</b><br><br>Country=%{location}<extra></extra>\", \"hovertext\": [\"Lesotho\"], \"locationmode\": \"country names\", \"locations\": [\"Lesotho\"], \"name\": \"Lesotho\", \"showlegend\": true, \"showscale\": false, \"type\": \"choropleth\", \"z\": [1]}, {\"colorscale\": [[0.0, \"#FF97FF\"], [1.0, \"#FF97FF\"]], \"geo\": \"geo\", \"hovertemplate\": \"<b>%{hovertext}</b><br><br>Country=%{location}<extra></extra>\", \"hovertext\": [\"Liberia\"], \"locationmode\": \"country names\", \"locations\": [\"Liberia\"], \"name\": \"Liberia\", \"showlegend\": true, \"showscale\": false, \"type\": \"choropleth\", \"z\": [1]}, {\"colorscale\": [[0.0, \"#FECB52\"], [1.0, \"#FECB52\"]], \"geo\": \"geo\", \"hovertemplate\": \"<b>%{hovertext}</b><br><br>Country=%{location}<extra></extra>\", \"hovertext\": [\"Libya\"], \"locationmode\": \"country names\", \"locations\": [\"Libya\"], \"name\": \"Libya\", \"showlegend\": true, \"showscale\": false, \"type\": \"choropleth\", \"z\": [1]}, {\"colorscale\": [[0.0, \"#636efa\"], [1.0, \"#636efa\"]], \"geo\": \"geo\", \"hovertemplate\": \"<b>%{hovertext}</b><br><br>Country=%{location}<extra></extra>\", \"hovertext\": [\"Liechtenstein\"], \"locationmode\": \"country names\", \"locations\": [\"Liechtenstein\"], \"name\": \"Liechtenstein\", \"showlegend\": true, \"showscale\": false, \"type\": \"choropleth\", \"z\": [1]}, {\"colorscale\": [[0.0, \"#EF553B\"], [1.0, \"#EF553B\"]], \"geo\": \"geo\", \"hovertemplate\": \"<b>%{hovertext}</b><br><br>Country=%{location}<extra></extra>\", \"hovertext\": [\"Lithuania\"], \"locationmode\": \"country names\", \"locations\": [\"Lithuania\"], \"name\": \"Lithuania\", \"showlegend\": true, \"showscale\": false, \"type\": \"choropleth\", \"z\": [1]}, {\"colorscale\": [[0.0, \"#00cc96\"], [1.0, \"#00cc96\"]], \"geo\": \"geo\", \"hovertemplate\": \"<b>%{hovertext}</b><br><br>Country=%{location}<extra></extra>\", \"hovertext\": [\"Luxembourg\"], \"locationmode\": \"country names\", \"locations\": [\"Luxembourg\"], \"name\": \"Luxembourg\", \"showlegend\": true, \"showscale\": false, \"type\": \"choropleth\", \"z\": [1]}, {\"colorscale\": [[0.0, \"#ab63fa\"], [1.0, \"#ab63fa\"]], \"geo\": \"geo\", \"hovertemplate\": \"<b>%{hovertext}</b><br><br>Country=%{location}<extra></extra>\", \"hovertext\": [\"Madagascar\"], \"locationmode\": \"country names\", \"locations\": [\"Madagascar\"], \"name\": \"Madagascar\", \"showlegend\": true, \"showscale\": false, \"type\": \"choropleth\", \"z\": [1]}, {\"colorscale\": [[0.0, \"#FFA15A\"], [1.0, \"#FFA15A\"]], \"geo\": \"geo\", \"hovertemplate\": \"<b>%{hovertext}</b><br><br>Country=%{location}<extra></extra>\", \"hovertext\": [\"Malawi\"], \"locationmode\": \"country names\", \"locations\": [\"Malawi\"], \"name\": \"Malawi\", \"showlegend\": true, \"showscale\": false, \"type\": \"choropleth\", \"z\": [1]}, {\"colorscale\": [[0.0, \"#19d3f3\"], [1.0, \"#19d3f3\"]], \"geo\": \"geo\", \"hovertemplate\": \"<b>%{hovertext}</b><br><br>Country=%{location}<extra></extra>\", \"hovertext\": [\"Malaysia\"], \"locationmode\": \"country names\", \"locations\": [\"Malaysia\"], \"name\": \"Malaysia\", \"showlegend\": true, \"showscale\": false, \"type\": \"choropleth\", \"z\": [1]}, {\"colorscale\": [[0.0, \"#FF6692\"], [1.0, \"#FF6692\"]], \"geo\": \"geo\", \"hovertemplate\": \"<b>%{hovertext}</b><br><br>Country=%{location}<extra></extra>\", \"hovertext\": [\"Maldives\"], \"locationmode\": \"country names\", \"locations\": [\"Maldives\"], \"name\": \"Maldives\", \"showlegend\": true, \"showscale\": false, \"type\": \"choropleth\", \"z\": [1]}, {\"colorscale\": [[0.0, \"#B6E880\"], [1.0, \"#B6E880\"]], \"geo\": \"geo\", \"hovertemplate\": \"<b>%{hovertext}</b><br><br>Country=%{location}<extra></extra>\", \"hovertext\": [\"Mali\"], \"locationmode\": \"country names\", \"locations\": [\"Mali\"], \"name\": \"Mali\", \"showlegend\": true, \"showscale\": false, \"type\": \"choropleth\", \"z\": [1]}, {\"colorscale\": [[0.0, \"#FF97FF\"], [1.0, \"#FF97FF\"]], \"geo\": \"geo\", \"hovertemplate\": \"<b>%{hovertext}</b><br><br>Country=%{location}<extra></extra>\", \"hovertext\": [\"Malta\"], \"locationmode\": \"country names\", \"locations\": [\"Malta\"], \"name\": \"Malta\", \"showlegend\": true, \"showscale\": false, \"type\": \"choropleth\", \"z\": [1]}, {\"colorscale\": [[0.0, \"#FECB52\"], [1.0, \"#FECB52\"]], \"geo\": \"geo\", \"hovertemplate\": \"<b>%{hovertext}</b><br><br>Country=%{location}<extra></extra>\", \"hovertext\": [\"Mauritania\"], \"locationmode\": \"country names\", \"locations\": [\"Mauritania\"], \"name\": \"Mauritania\", \"showlegend\": true, \"showscale\": false, \"type\": \"choropleth\", \"z\": [1]}, {\"colorscale\": [[0.0, \"#636efa\"], [1.0, \"#636efa\"]], \"geo\": \"geo\", \"hovertemplate\": \"<b>%{hovertext}</b><br><br>Country=%{location}<extra></extra>\", \"hovertext\": [\"Mauritius\"], \"locationmode\": \"country names\", \"locations\": [\"Mauritius\"], \"name\": \"Mauritius\", \"showlegend\": true, \"showscale\": false, \"type\": \"choropleth\", \"z\": [1]}, {\"colorscale\": [[0.0, \"#EF553B\"], [1.0, \"#EF553B\"]], \"geo\": \"geo\", \"hovertemplate\": \"<b>%{hovertext}</b><br><br>Country=%{location}<extra></extra>\", \"hovertext\": [\"Mexico\"], \"locationmode\": \"country names\", \"locations\": [\"Mexico\"], \"name\": \"Mexico\", \"showlegend\": true, \"showscale\": false, \"type\": \"choropleth\", \"z\": [1]}, {\"colorscale\": [[0.0, \"#00cc96\"], [1.0, \"#00cc96\"]], \"geo\": \"geo\", \"hovertemplate\": \"<b>%{hovertext}</b><br><br>Country=%{location}<extra></extra>\", \"hovertext\": [\"Moldova\"], \"locationmode\": \"country names\", \"locations\": [\"Moldova\"], \"name\": \"Moldova\", \"showlegend\": true, \"showscale\": false, \"type\": \"choropleth\", \"z\": [1]}, {\"colorscale\": [[0.0, \"#ab63fa\"], [1.0, \"#ab63fa\"]], \"geo\": \"geo\", \"hovertemplate\": \"<b>%{hovertext}</b><br><br>Country=%{location}<extra></extra>\", \"hovertext\": [\"Monaco\"], \"locationmode\": \"country names\", \"locations\": [\"Monaco\"], \"name\": \"Monaco\", \"showlegend\": true, \"showscale\": false, \"type\": \"choropleth\", \"z\": [1]}, {\"colorscale\": [[0.0, \"#FFA15A\"], [1.0, \"#FFA15A\"]], \"geo\": \"geo\", \"hovertemplate\": \"<b>%{hovertext}</b><br><br>Country=%{location}<extra></extra>\", \"hovertext\": [\"Mongolia\"], \"locationmode\": \"country names\", \"locations\": [\"Mongolia\"], \"name\": \"Mongolia\", \"showlegend\": true, \"showscale\": false, \"type\": \"choropleth\", \"z\": [1]}, {\"colorscale\": [[0.0, \"#19d3f3\"], [1.0, \"#19d3f3\"]], \"geo\": \"geo\", \"hovertemplate\": \"<b>%{hovertext}</b><br><br>Country=%{location}<extra></extra>\", \"hovertext\": [\"Montenegro\"], \"locationmode\": \"country names\", \"locations\": [\"Montenegro\"], \"name\": \"Montenegro\", \"showlegend\": true, \"showscale\": false, \"type\": \"choropleth\", \"z\": [1]}, {\"colorscale\": [[0.0, \"#FF6692\"], [1.0, \"#FF6692\"]], \"geo\": \"geo\", \"hovertemplate\": \"<b>%{hovertext}</b><br><br>Country=%{location}<extra></extra>\", \"hovertext\": [\"Morocco\"], \"locationmode\": \"country names\", \"locations\": [\"Morocco\"], \"name\": \"Morocco\", \"showlegend\": true, \"showscale\": false, \"type\": \"choropleth\", \"z\": [1]}, {\"colorscale\": [[0.0, \"#B6E880\"], [1.0, \"#B6E880\"]], \"geo\": \"geo\", \"hovertemplate\": \"<b>%{hovertext}</b><br><br>Country=%{location}<extra></extra>\", \"hovertext\": [\"Mozambique\"], \"locationmode\": \"country names\", \"locations\": [\"Mozambique\"], \"name\": \"Mozambique\", \"showlegend\": true, \"showscale\": false, \"type\": \"choropleth\", \"z\": [1]}, {\"colorscale\": [[0.0, \"#FF97FF\"], [1.0, \"#FF97FF\"]], \"geo\": \"geo\", \"hovertemplate\": \"<b>%{hovertext}</b><br><br>Country=%{location}<extra></extra>\", \"hovertext\": [\"Nepal\"], \"locationmode\": \"country names\", \"locations\": [\"Nepal\"], \"name\": \"Nepal\", \"showlegend\": true, \"showscale\": false, \"type\": \"choropleth\", \"z\": [1]}, {\"colorscale\": [[0.0, \"#FECB52\"], [1.0, \"#FECB52\"]], \"geo\": \"geo\", \"hovertemplate\": \"<b>%{hovertext}</b><br><br>Country=%{location}<extra></extra>\", \"hovertext\": [\"Netherlands\"], \"locationmode\": \"country names\", \"locations\": [\"Netherlands\"], \"name\": \"Netherlands\", \"showlegend\": true, \"showscale\": false, \"type\": \"choropleth\", \"z\": [1]}, {\"colorscale\": [[0.0, \"#636efa\"], [1.0, \"#636efa\"]], \"geo\": \"geo\", \"hovertemplate\": \"<b>%{hovertext}</b><br><br>Country=%{location}<extra></extra>\", \"hovertext\": [\"New Zealand\"], \"locationmode\": \"country names\", \"locations\": [\"New Zealand\"], \"name\": \"New Zealand\", \"showlegend\": true, \"showscale\": false, \"type\": \"choropleth\", \"z\": [1]}, {\"colorscale\": [[0.0, \"#EF553B\"], [1.0, \"#EF553B\"]], \"geo\": \"geo\", \"hovertemplate\": \"<b>%{hovertext}</b><br><br>Country=%{location}<extra></extra>\", \"hovertext\": [\"Nicaragua\"], \"locationmode\": \"country names\", \"locations\": [\"Nicaragua\"], \"name\": \"Nicaragua\", \"showlegend\": true, \"showscale\": false, \"type\": \"choropleth\", \"z\": [1]}, {\"colorscale\": [[0.0, \"#00cc96\"], [1.0, \"#00cc96\"]], \"geo\": \"geo\", \"hovertemplate\": \"<b>%{hovertext}</b><br><br>Country=%{location}<extra></extra>\", \"hovertext\": [\"Niger\"], \"locationmode\": \"country names\", \"locations\": [\"Niger\"], \"name\": \"Niger\", \"showlegend\": true, \"showscale\": false, \"type\": \"choropleth\", \"z\": [1]}, {\"colorscale\": [[0.0, \"#ab63fa\"], [1.0, \"#ab63fa\"]], \"geo\": \"geo\", \"hovertemplate\": \"<b>%{hovertext}</b><br><br>Country=%{location}<extra></extra>\", \"hovertext\": [\"Nigeria\"], \"locationmode\": \"country names\", \"locations\": [\"Nigeria\"], \"name\": \"Nigeria\", \"showlegend\": true, \"showscale\": false, \"type\": \"choropleth\", \"z\": [1]}, {\"colorscale\": [[0.0, \"#FFA15A\"], [1.0, \"#FFA15A\"]], \"geo\": \"geo\", \"hovertemplate\": \"<b>%{hovertext}</b><br><br>Country=%{location}<extra></extra>\", \"hovertext\": [\"Norway\"], \"locationmode\": \"country names\", \"locations\": [\"Norway\"], \"name\": \"Norway\", \"showlegend\": true, \"showscale\": false, \"type\": \"choropleth\", \"z\": [1]}, {\"colorscale\": [[0.0, \"#19d3f3\"], [1.0, \"#19d3f3\"]], \"geo\": \"geo\", \"hovertemplate\": \"<b>%{hovertext}</b><br><br>Country=%{location}<extra></extra>\", \"hovertext\": [\"Oman\"], \"locationmode\": \"country names\", \"locations\": [\"Oman\"], \"name\": \"Oman\", \"showlegend\": true, \"showscale\": false, \"type\": \"choropleth\", \"z\": [1]}, {\"colorscale\": [[0.0, \"#FF6692\"], [1.0, \"#FF6692\"]], \"geo\": \"geo\", \"hovertemplate\": \"<b>%{hovertext}</b><br><br>Country=%{location}<extra></extra>\", \"hovertext\": [\"Pakistan\"], \"locationmode\": \"country names\", \"locations\": [\"Pakistan\"], \"name\": \"Pakistan\", \"showlegend\": true, \"showscale\": false, \"type\": \"choropleth\", \"z\": [1]}, {\"colorscale\": [[0.0, \"#B6E880\"], [1.0, \"#B6E880\"]], \"geo\": \"geo\", \"hovertemplate\": \"<b>%{hovertext}</b><br><br>Country=%{location}<extra></extra>\", \"hovertext\": [\"Panama\"], \"locationmode\": \"country names\", \"locations\": [\"Panama\"], \"name\": \"Panama\", \"showlegend\": true, \"showscale\": false, \"type\": \"choropleth\", \"z\": [1]}, {\"colorscale\": [[0.0, \"#FF97FF\"], [1.0, \"#FF97FF\"]], \"geo\": \"geo\", \"hovertemplate\": \"<b>%{hovertext}</b><br><br>Country=%{location}<extra></extra>\", \"hovertext\": [\"Papua New Guinea\"], \"locationmode\": \"country names\", \"locations\": [\"Papua New Guinea\"], \"name\": \"Papua New Guinea\", \"showlegend\": true, \"showscale\": false, \"type\": \"choropleth\", \"z\": [1]}, {\"colorscale\": [[0.0, \"#FECB52\"], [1.0, \"#FECB52\"]], \"geo\": \"geo\", \"hovertemplate\": \"<b>%{hovertext}</b><br><br>Country=%{location}<extra></extra>\", \"hovertext\": [\"Paraguay\"], \"locationmode\": \"country names\", \"locations\": [\"Paraguay\"], \"name\": \"Paraguay\", \"showlegend\": true, \"showscale\": false, \"type\": \"choropleth\", \"z\": [1]}, {\"colorscale\": [[0.0, \"#636efa\"], [1.0, \"#636efa\"]], \"geo\": \"geo\", \"hovertemplate\": \"<b>%{hovertext}</b><br><br>Country=%{location}<extra></extra>\", \"hovertext\": [\"Peru\"], \"locationmode\": \"country names\", \"locations\": [\"Peru\"], \"name\": \"Peru\", \"showlegend\": true, \"showscale\": false, \"type\": \"choropleth\", \"z\": [1]}, {\"colorscale\": [[0.0, \"#EF553B\"], [1.0, \"#EF553B\"]], \"geo\": \"geo\", \"hovertemplate\": \"<b>%{hovertext}</b><br><br>Country=%{location}<extra></extra>\", \"hovertext\": [\"Philippines\"], \"locationmode\": \"country names\", \"locations\": [\"Philippines\"], \"name\": \"Philippines\", \"showlegend\": true, \"showscale\": false, \"type\": \"choropleth\", \"z\": [1]}, {\"colorscale\": [[0.0, \"#00cc96\"], [1.0, \"#00cc96\"]], \"geo\": \"geo\", \"hovertemplate\": \"<b>%{hovertext}</b><br><br>Country=%{location}<extra></extra>\", \"hovertext\": [\"Poland\"], \"locationmode\": \"country names\", \"locations\": [\"Poland\"], \"name\": \"Poland\", \"showlegend\": true, \"showscale\": false, \"type\": \"choropleth\", \"z\": [1]}, {\"colorscale\": [[0.0, \"#ab63fa\"], [1.0, \"#ab63fa\"]], \"geo\": \"geo\", \"hovertemplate\": \"<b>%{hovertext}</b><br><br>Country=%{location}<extra></extra>\", \"hovertext\": [\"Portugal\"], \"locationmode\": \"country names\", \"locations\": [\"Portugal\"], \"name\": \"Portugal\", \"showlegend\": true, \"showscale\": false, \"type\": \"choropleth\", \"z\": [1]}, {\"colorscale\": [[0.0, \"#FFA15A\"], [1.0, \"#FFA15A\"]], \"geo\": \"geo\", \"hovertemplate\": \"<b>%{hovertext}</b><br><br>Country=%{location}<extra></extra>\", \"hovertext\": [\"Qatar\"], \"locationmode\": \"country names\", \"locations\": [\"Qatar\"], \"name\": \"Qatar\", \"showlegend\": true, \"showscale\": false, \"type\": \"choropleth\", \"z\": [1]}, {\"colorscale\": [[0.0, \"#19d3f3\"], [1.0, \"#19d3f3\"]], \"geo\": \"geo\", \"hovertemplate\": \"<b>%{hovertext}</b><br><br>Country=%{location}<extra></extra>\", \"hovertext\": [\"Romania\"], \"locationmode\": \"country names\", \"locations\": [\"Romania\"], \"name\": \"Romania\", \"showlegend\": true, \"showscale\": false, \"type\": \"choropleth\", \"z\": [1]}, {\"colorscale\": [[0.0, \"#FF6692\"], [1.0, \"#FF6692\"]], \"geo\": \"geo\", \"hovertemplate\": \"<b>%{hovertext}</b><br><br>Country=%{location}<extra></extra>\", \"hovertext\": [\"Rwanda\"], \"locationmode\": \"country names\", \"locations\": [\"Rwanda\"], \"name\": \"Rwanda\", \"showlegend\": true, \"showscale\": false, \"type\": \"choropleth\", \"z\": [1]}, {\"colorscale\": [[0.0, \"#B6E880\"], [1.0, \"#B6E880\"]], \"geo\": \"geo\", \"hovertemplate\": \"<b>%{hovertext}</b><br><br>Country=%{location}<extra></extra>\", \"hovertext\": [\"R\\u00e9union\"], \"locationmode\": \"country names\", \"locations\": [\"R\\u00e9union\"], \"name\": \"R\\u00e9union\", \"showlegend\": true, \"showscale\": false, \"type\": \"choropleth\", \"z\": [1]}, {\"colorscale\": [[0.0, \"#FF97FF\"], [1.0, \"#FF97FF\"]], \"geo\": \"geo\", \"hovertemplate\": \"<b>%{hovertext}</b><br><br>Country=%{location}<extra></extra>\", \"hovertext\": [\"Saint Kitts and Nevis\"], \"locationmode\": \"country names\", \"locations\": [\"Saint Kitts and Nevis\"], \"name\": \"Saint Kitts and Nevis\", \"showlegend\": true, \"showscale\": false, \"type\": \"choropleth\", \"z\": [1]}, {\"colorscale\": [[0.0, \"#FECB52\"], [1.0, \"#FECB52\"]], \"geo\": \"geo\", \"hovertemplate\": \"<b>%{hovertext}</b><br><br>Country=%{location}<extra></extra>\", \"hovertext\": [\"Saint Lucia\"], \"locationmode\": \"country names\", \"locations\": [\"Saint Lucia\"], \"name\": \"Saint Lucia\", \"showlegend\": true, \"showscale\": false, \"type\": \"choropleth\", \"z\": [1]}, {\"colorscale\": [[0.0, \"#636efa\"], [1.0, \"#636efa\"]], \"geo\": \"geo\", \"hovertemplate\": \"<b>%{hovertext}</b><br><br>Country=%{location}<extra></extra>\", \"hovertext\": [\"San Marino\"], \"locationmode\": \"country names\", \"locations\": [\"San Marino\"], \"name\": \"San Marino\", \"showlegend\": true, \"showscale\": false, \"type\": \"choropleth\", \"z\": [1]}, {\"colorscale\": [[0.0, \"#EF553B\"], [1.0, \"#EF553B\"]], \"geo\": \"geo\", \"hovertemplate\": \"<b>%{hovertext}</b><br><br>Country=%{location}<extra></extra>\", \"hovertext\": [\"Saudi Arabia\"], \"locationmode\": \"country names\", \"locations\": [\"Saudi Arabia\"], \"name\": \"Saudi Arabia\", \"showlegend\": true, \"showscale\": false, \"type\": \"choropleth\", \"z\": [1]}, {\"colorscale\": [[0.0, \"#00cc96\"], [1.0, \"#00cc96\"]], \"geo\": \"geo\", \"hovertemplate\": \"<b>%{hovertext}</b><br><br>Country=%{location}<extra></extra>\", \"hovertext\": [\"Senegal\"], \"locationmode\": \"country names\", \"locations\": [\"Senegal\"], \"name\": \"Senegal\", \"showlegend\": true, \"showscale\": false, \"type\": \"choropleth\", \"z\": [1]}, {\"colorscale\": [[0.0, \"#ab63fa\"], [1.0, \"#ab63fa\"]], \"geo\": \"geo\", \"hovertemplate\": \"<b>%{hovertext}</b><br><br>Country=%{location}<extra></extra>\", \"hovertext\": [\"Serbia\"], \"locationmode\": \"country names\", \"locations\": [\"Serbia\"], \"name\": \"Serbia\", \"showlegend\": true, \"showscale\": false, \"type\": \"choropleth\", \"z\": [1]}, {\"colorscale\": [[0.0, \"#FFA15A\"], [1.0, \"#FFA15A\"]], \"geo\": \"geo\", \"hovertemplate\": \"<b>%{hovertext}</b><br><br>Country=%{location}<extra></extra>\", \"hovertext\": [\"Seychelles\"], \"locationmode\": \"country names\", \"locations\": [\"Seychelles\"], \"name\": \"Seychelles\", \"showlegend\": true, \"showscale\": false, \"type\": \"choropleth\", \"z\": [1]}, {\"colorscale\": [[0.0, \"#19d3f3\"], [1.0, \"#19d3f3\"]], \"geo\": \"geo\", \"hovertemplate\": \"<b>%{hovertext}</b><br><br>Country=%{location}<extra></extra>\", \"hovertext\": [\"Sierra Leone\"], \"locationmode\": \"country names\", \"locations\": [\"Sierra Leone\"], \"name\": \"Sierra Leone\", \"showlegend\": true, \"showscale\": false, \"type\": \"choropleth\", \"z\": [1]}, {\"colorscale\": [[0.0, \"#FF6692\"], [1.0, \"#FF6692\"]], \"geo\": \"geo\", \"hovertemplate\": \"<b>%{hovertext}</b><br><br>Country=%{location}<extra></extra>\", \"hovertext\": [\"Singapore\"], \"locationmode\": \"country names\", \"locations\": [\"Singapore\"], \"name\": \"Singapore\", \"showlegend\": true, \"showscale\": false, \"type\": \"choropleth\", \"z\": [1]}, {\"colorscale\": [[0.0, \"#B6E880\"], [1.0, \"#B6E880\"]], \"geo\": \"geo\", \"hovertemplate\": \"<b>%{hovertext}</b><br><br>Country=%{location}<extra></extra>\", \"hovertext\": [\"Slovakia\"], \"locationmode\": \"country names\", \"locations\": [\"Slovakia\"], \"name\": \"Slovakia\", \"showlegend\": true, \"showscale\": false, \"type\": \"choropleth\", \"z\": [1]}, {\"colorscale\": [[0.0, \"#FF97FF\"], [1.0, \"#FF97FF\"]], \"geo\": \"geo\", \"hovertemplate\": \"<b>%{hovertext}</b><br><br>Country=%{location}<extra></extra>\", \"hovertext\": [\"Slovenia\"], \"locationmode\": \"country names\", \"locations\": [\"Slovenia\"], \"name\": \"Slovenia\", \"showlegend\": true, \"showscale\": false, \"type\": \"choropleth\", \"z\": [1]}, {\"colorscale\": [[0.0, \"#FECB52\"], [1.0, \"#FECB52\"]], \"geo\": \"geo\", \"hovertemplate\": \"<b>%{hovertext}</b><br><br>Country=%{location}<extra></extra>\", \"hovertext\": [\"Somalia\"], \"locationmode\": \"country names\", \"locations\": [\"Somalia\"], \"name\": \"Somalia\", \"showlegend\": true, \"showscale\": false, \"type\": \"choropleth\", \"z\": [1]}, {\"colorscale\": [[0.0, \"#636efa\"], [1.0, \"#636efa\"]], \"geo\": \"geo\", \"hovertemplate\": \"<b>%{hovertext}</b><br><br>Country=%{location}<extra></extra>\", \"hovertext\": [\"South Africa\"], \"locationmode\": \"country names\", \"locations\": [\"South Africa\"], \"name\": \"South Africa\", \"showlegend\": true, \"showscale\": false, \"type\": \"choropleth\", \"z\": [1]}, {\"colorscale\": [[0.0, \"#EF553B\"], [1.0, \"#EF553B\"]], \"geo\": \"geo\", \"hovertemplate\": \"<b>%{hovertext}</b><br><br>Country=%{location}<extra></extra>\", \"hovertext\": [\"Spain\"], \"locationmode\": \"country names\", \"locations\": [\"Spain\"], \"name\": \"Spain\", \"showlegend\": true, \"showscale\": false, \"type\": \"choropleth\", \"z\": [1]}, {\"colorscale\": [[0.0, \"#00cc96\"], [1.0, \"#00cc96\"]], \"geo\": \"geo\", \"hovertemplate\": \"<b>%{hovertext}</b><br><br>Country=%{location}<extra></extra>\", \"hovertext\": [\"Sri Lanka\"], \"locationmode\": \"country names\", \"locations\": [\"Sri Lanka\"], \"name\": \"Sri Lanka\", \"showlegend\": true, \"showscale\": false, \"type\": \"choropleth\", \"z\": [1]}, {\"colorscale\": [[0.0, \"#ab63fa\"], [1.0, \"#ab63fa\"]], \"geo\": \"geo\", \"hovertemplate\": \"<b>%{hovertext}</b><br><br>Country=%{location}<extra></extra>\", \"hovertext\": [\"Sudan\"], \"locationmode\": \"country names\", \"locations\": [\"Sudan\"], \"name\": \"Sudan\", \"showlegend\": true, \"showscale\": false, \"type\": \"choropleth\", \"z\": [1]}, {\"colorscale\": [[0.0, \"#FFA15A\"], [1.0, \"#FFA15A\"]], \"geo\": \"geo\", \"hovertemplate\": \"<b>%{hovertext}</b><br><br>Country=%{location}<extra></extra>\", \"hovertext\": [\"Suriname\"], \"locationmode\": \"country names\", \"locations\": [\"Suriname\"], \"name\": \"Suriname\", \"showlegend\": true, \"showscale\": false, \"type\": \"choropleth\", \"z\": [1]}, {\"colorscale\": [[0.0, \"#19d3f3\"], [1.0, \"#19d3f3\"]], \"geo\": \"geo\", \"hovertemplate\": \"<b>%{hovertext}</b><br><br>Country=%{location}<extra></extra>\", \"hovertext\": [\"Swaziland\"], \"locationmode\": \"country names\", \"locations\": [\"Swaziland\"], \"name\": \"Swaziland\", \"showlegend\": true, \"showscale\": false, \"type\": \"choropleth\", \"z\": [1]}, {\"colorscale\": [[0.0, \"#FF6692\"], [1.0, \"#FF6692\"]], \"geo\": \"geo\", \"hovertemplate\": \"<b>%{hovertext}</b><br><br>Country=%{location}<extra></extra>\", \"hovertext\": [\"Sweden\"], \"locationmode\": \"country names\", \"locations\": [\"Sweden\"], \"name\": \"Sweden\", \"showlegend\": true, \"showscale\": false, \"type\": \"choropleth\", \"z\": [1]}, {\"colorscale\": [[0.0, \"#B6E880\"], [1.0, \"#B6E880\"]], \"geo\": \"geo\", \"hovertemplate\": \"<b>%{hovertext}</b><br><br>Country=%{location}<extra></extra>\", \"hovertext\": [\"Switzerland\"], \"locationmode\": \"country names\", \"locations\": [\"Switzerland\"], \"name\": \"Switzerland\", \"showlegend\": true, \"showscale\": false, \"type\": \"choropleth\", \"z\": [1]}, {\"colorscale\": [[0.0, \"#FF97FF\"], [1.0, \"#FF97FF\"]], \"geo\": \"geo\", \"hovertemplate\": \"<b>%{hovertext}</b><br><br>Country=%{location}<extra></extra>\", \"hovertext\": [\"Tajikistan\"], \"locationmode\": \"country names\", \"locations\": [\"Tajikistan\"], \"name\": \"Tajikistan\", \"showlegend\": true, \"showscale\": false, \"type\": \"choropleth\", \"z\": [1]}, {\"colorscale\": [[0.0, \"#FECB52\"], [1.0, \"#FECB52\"]], \"geo\": \"geo\", \"hovertemplate\": \"<b>%{hovertext}</b><br><br>Country=%{location}<extra></extra>\", \"hovertext\": [\"Thailand\"], \"locationmode\": \"country names\", \"locations\": [\"Thailand\"], \"name\": \"Thailand\", \"showlegend\": true, \"showscale\": false, \"type\": \"choropleth\", \"z\": [1]}, {\"colorscale\": [[0.0, \"#636efa\"], [1.0, \"#636efa\"]], \"geo\": \"geo\", \"hovertemplate\": \"<b>%{hovertext}</b><br><br>Country=%{location}<extra></extra>\", \"hovertext\": [\"Timor-Leste\"], \"locationmode\": \"country names\", \"locations\": [\"Timor-Leste\"], \"name\": \"Timor-Leste\", \"showlegend\": true, \"showscale\": false, \"type\": \"choropleth\", \"z\": [1]}, {\"colorscale\": [[0.0, \"#EF553B\"], [1.0, \"#EF553B\"]], \"geo\": \"geo\", \"hovertemplate\": \"<b>%{hovertext}</b><br><br>Country=%{location}<extra></extra>\", \"hovertext\": [\"Togo\"], \"locationmode\": \"country names\", \"locations\": [\"Togo\"], \"name\": \"Togo\", \"showlegend\": true, \"showscale\": false, \"type\": \"choropleth\", \"z\": [1]}, {\"colorscale\": [[0.0, \"#00cc96\"], [1.0, \"#00cc96\"]], \"geo\": \"geo\", \"hovertemplate\": \"<b>%{hovertext}</b><br><br>Country=%{location}<extra></extra>\", \"hovertext\": [\"Trinidad and Tobago\"], \"locationmode\": \"country names\", \"locations\": [\"Trinidad and Tobago\"], \"name\": \"Trinidad and Tobago\", \"showlegend\": true, \"showscale\": false, \"type\": \"choropleth\", \"z\": [1]}, {\"colorscale\": [[0.0, \"#ab63fa\"], [1.0, \"#ab63fa\"]], \"geo\": \"geo\", \"hovertemplate\": \"<b>%{hovertext}</b><br><br>Country=%{location}<extra></extra>\", \"hovertext\": [\"Tunisia\"], \"locationmode\": \"country names\", \"locations\": [\"Tunisia\"], \"name\": \"Tunisia\", \"showlegend\": true, \"showscale\": false, \"type\": \"choropleth\", \"z\": [1]}, {\"colorscale\": [[0.0, \"#FFA15A\"], [1.0, \"#FFA15A\"]], \"geo\": \"geo\", \"hovertemplate\": \"<b>%{hovertext}</b><br><br>Country=%{location}<extra></extra>\", \"hovertext\": [\"Turkey\", \"Turkey\"], \"locationmode\": \"country names\", \"locations\": [\"Turkey\", \"Turkey\"], \"name\": \"Turkey\", \"showlegend\": true, \"showscale\": false, \"type\": \"choropleth\", \"z\": [1, 1]}, {\"colorscale\": [[0.0, \"#19d3f3\"], [1.0, \"#19d3f3\"]], \"geo\": \"geo\", \"hovertemplate\": \"<b>%{hovertext}</b><br><br>Country=%{location}<extra></extra>\", \"hovertext\": [\"Uganda\"], \"locationmode\": \"country names\", \"locations\": [\"Uganda\"], \"name\": \"Uganda\", \"showlegend\": true, \"showscale\": false, \"type\": \"choropleth\", \"z\": [1]}, {\"colorscale\": [[0.0, \"#FF6692\"], [1.0, \"#FF6692\"]], \"geo\": \"geo\", \"hovertemplate\": \"<b>%{hovertext}</b><br><br>Country=%{location}<extra></extra>\", \"hovertext\": [\"Ukraine\"], \"locationmode\": \"country names\", \"locations\": [\"Ukraine\"], \"name\": \"Ukraine\", \"showlegend\": true, \"showscale\": false, \"type\": \"choropleth\", \"z\": [1]}, {\"colorscale\": [[0.0, \"#B6E880\"], [1.0, \"#B6E880\"]], \"geo\": \"geo\", \"hovertemplate\": \"<b>%{hovertext}</b><br><br>Country=%{location}<extra></extra>\", \"hovertext\": [\"United Arab Emirates\"], \"locationmode\": \"country names\", \"locations\": [\"United Arab Emirates\"], \"name\": \"United Arab Emirates\", \"showlegend\": true, \"showscale\": false, \"type\": \"choropleth\", \"z\": [1]}, {\"colorscale\": [[0.0, \"#FF97FF\"], [1.0, \"#FF97FF\"]], \"geo\": \"geo\", \"hovertemplate\": \"<b>%{hovertext}</b><br><br>Country=%{location}<extra></extra>\", \"hovertext\": [\"United Kingdom\"], \"locationmode\": \"country names\", \"locations\": [\"United Kingdom\"], \"name\": \"United Kingdom\", \"showlegend\": true, \"showscale\": false, \"type\": \"choropleth\", \"z\": [1]}, {\"colorscale\": [[0.0, \"#FECB52\"], [1.0, \"#FECB52\"]], \"geo\": \"geo\", \"hovertemplate\": \"<b>%{hovertext}</b><br><br>Country=%{location}<extra></extra>\", \"hovertext\": [\"United States of America\"], \"locationmode\": \"country names\", \"locations\": [\"United States of America\"], \"name\": \"United States of America\", \"showlegend\": true, \"showscale\": false, \"type\": \"choropleth\", \"z\": [1]}, {\"colorscale\": [[0.0, \"#636efa\"], [1.0, \"#636efa\"]], \"geo\": \"geo\", \"hovertemplate\": \"<b>%{hovertext}</b><br><br>Country=%{location}<extra></extra>\", \"hovertext\": [\"Uruguay\"], \"locationmode\": \"country names\", \"locations\": [\"Uruguay\"], \"name\": \"Uruguay\", \"showlegend\": true, \"showscale\": false, \"type\": \"choropleth\", \"z\": [1]}, {\"colorscale\": [[0.0, \"#EF553B\"], [1.0, \"#EF553B\"]], \"geo\": \"geo\", \"hovertemplate\": \"<b>%{hovertext}</b><br><br>Country=%{location}<extra></extra>\", \"hovertext\": [\"Uzbekistan\"], \"locationmode\": \"country names\", \"locations\": [\"Uzbekistan\"], \"name\": \"Uzbekistan\", \"showlegend\": true, \"showscale\": false, \"type\": \"choropleth\", \"z\": [1]}, {\"colorscale\": [[0.0, \"#00cc96\"], [1.0, \"#00cc96\"]], \"geo\": \"geo\", \"hovertemplate\": \"<b>%{hovertext}</b><br><br>Country=%{location}<extra></extra>\", \"hovertext\": [\"Western Sahara\"], \"locationmode\": \"country names\", \"locations\": [\"Western Sahara\"], \"name\": \"Western Sahara\", \"showlegend\": true, \"showscale\": false, \"type\": \"choropleth\", \"z\": [1]}, {\"colorscale\": [[0.0, \"#ab63fa\"], [1.0, \"#ab63fa\"]], \"geo\": \"geo\", \"hovertemplate\": \"<b>%{hovertext}</b><br><br>Country=%{location}<extra></extra>\", \"hovertext\": [\"Yemen\"], \"locationmode\": \"country names\", \"locations\": [\"Yemen\"], \"name\": \"Yemen\", \"showlegend\": true, \"showscale\": false, \"type\": \"choropleth\", \"z\": [1]}, {\"colorscale\": [[0.0, \"#FFA15A\"], [1.0, \"#FFA15A\"]], \"geo\": \"geo\", \"hovertemplate\": \"<b>%{hovertext}</b><br><br>Country=%{location}<extra></extra>\", \"hovertext\": [\"Zambia\"], \"locationmode\": \"country names\", \"locations\": [\"Zambia\"], \"name\": \"Zambia\", \"showlegend\": true, \"showscale\": false, \"type\": \"choropleth\", \"z\": [1]}, {\"colorscale\": [[0.0, \"#19d3f3\"], [1.0, \"#19d3f3\"]], \"geo\": \"geo\", \"hovertemplate\": \"<b>%{hovertext}</b><br><br>Country=%{location}<extra></extra>\", \"hovertext\": [\"Zimbabwe\"], \"locationmode\": \"country names\", \"locations\": [\"Zimbabwe\"], \"name\": \"Zimbabwe\", \"showlegend\": true, \"showscale\": false, \"type\": \"choropleth\", \"z\": [1]}],\n",
       "                        {\"geo\": {\"center\": {}, \"domain\": {\"x\": [0.0, 1.0], \"y\": [0.0, 1.0]}, \"scope\": \"asia\"}, \"legend\": {\"title\": {\"text\": \"Country\"}, \"tracegroupgap\": 0}, \"margin\": {\"t\": 60}, \"template\": {\"data\": {\"bar\": [{\"error_x\": {\"color\": \"#2a3f5f\"}, \"error_y\": {\"color\": \"#2a3f5f\"}, \"marker\": {\"line\": {\"color\": \"#E5ECF6\", \"width\": 0.5}}, \"type\": \"bar\"}], \"barpolar\": [{\"marker\": {\"line\": {\"color\": \"#E5ECF6\", \"width\": 0.5}}, \"type\": \"barpolar\"}], \"carpet\": [{\"aaxis\": {\"endlinecolor\": \"#2a3f5f\", \"gridcolor\": \"white\", \"linecolor\": \"white\", \"minorgridcolor\": \"white\", \"startlinecolor\": \"#2a3f5f\"}, \"baxis\": {\"endlinecolor\": \"#2a3f5f\", \"gridcolor\": \"white\", \"linecolor\": \"white\", \"minorgridcolor\": \"white\", \"startlinecolor\": \"#2a3f5f\"}, \"type\": \"carpet\"}], \"choropleth\": [{\"colorbar\": {\"outlinewidth\": 0, \"ticks\": \"\"}, \"type\": \"choropleth\"}], \"contour\": [{\"colorbar\": {\"outlinewidth\": 0, \"ticks\": \"\"}, \"colorscale\": [[0.0, \"#0d0887\"], [0.1111111111111111, \"#46039f\"], [0.2222222222222222, \"#7201a8\"], [0.3333333333333333, \"#9c179e\"], [0.4444444444444444, \"#bd3786\"], [0.5555555555555556, \"#d8576b\"], [0.6666666666666666, \"#ed7953\"], [0.7777777777777778, \"#fb9f3a\"], [0.8888888888888888, \"#fdca26\"], [1.0, \"#f0f921\"]], \"type\": \"contour\"}], \"contourcarpet\": [{\"colorbar\": {\"outlinewidth\": 0, \"ticks\": \"\"}, \"type\": \"contourcarpet\"}], \"heatmap\": [{\"colorbar\": {\"outlinewidth\": 0, \"ticks\": \"\"}, \"colorscale\": [[0.0, \"#0d0887\"], [0.1111111111111111, \"#46039f\"], [0.2222222222222222, \"#7201a8\"], [0.3333333333333333, \"#9c179e\"], [0.4444444444444444, \"#bd3786\"], [0.5555555555555556, \"#d8576b\"], [0.6666666666666666, \"#ed7953\"], [0.7777777777777778, \"#fb9f3a\"], [0.8888888888888888, \"#fdca26\"], [1.0, \"#f0f921\"]], \"type\": \"heatmap\"}], \"heatmapgl\": [{\"colorbar\": {\"outlinewidth\": 0, \"ticks\": \"\"}, \"colorscale\": [[0.0, \"#0d0887\"], [0.1111111111111111, \"#46039f\"], [0.2222222222222222, \"#7201a8\"], [0.3333333333333333, \"#9c179e\"], [0.4444444444444444, \"#bd3786\"], [0.5555555555555556, \"#d8576b\"], [0.6666666666666666, \"#ed7953\"], [0.7777777777777778, \"#fb9f3a\"], [0.8888888888888888, \"#fdca26\"], [1.0, \"#f0f921\"]], \"type\": \"heatmapgl\"}], \"histogram\": [{\"marker\": {\"colorbar\": {\"outlinewidth\": 0, \"ticks\": \"\"}}, \"type\": \"histogram\"}], \"histogram2d\": [{\"colorbar\": {\"outlinewidth\": 0, \"ticks\": \"\"}, \"colorscale\": [[0.0, \"#0d0887\"], [0.1111111111111111, \"#46039f\"], [0.2222222222222222, \"#7201a8\"], [0.3333333333333333, \"#9c179e\"], [0.4444444444444444, \"#bd3786\"], [0.5555555555555556, \"#d8576b\"], [0.6666666666666666, \"#ed7953\"], [0.7777777777777778, \"#fb9f3a\"], [0.8888888888888888, \"#fdca26\"], [1.0, \"#f0f921\"]], \"type\": \"histogram2d\"}], \"histogram2dcontour\": [{\"colorbar\": {\"outlinewidth\": 0, \"ticks\": \"\"}, \"colorscale\": [[0.0, \"#0d0887\"], [0.1111111111111111, \"#46039f\"], [0.2222222222222222, \"#7201a8\"], [0.3333333333333333, \"#9c179e\"], [0.4444444444444444, \"#bd3786\"], [0.5555555555555556, \"#d8576b\"], [0.6666666666666666, \"#ed7953\"], [0.7777777777777778, \"#fb9f3a\"], [0.8888888888888888, \"#fdca26\"], [1.0, \"#f0f921\"]], \"type\": \"histogram2dcontour\"}], \"mesh3d\": [{\"colorbar\": {\"outlinewidth\": 0, \"ticks\": \"\"}, \"type\": \"mesh3d\"}], \"parcoords\": [{\"line\": {\"colorbar\": {\"outlinewidth\": 0, \"ticks\": \"\"}}, \"type\": \"parcoords\"}], \"pie\": [{\"automargin\": true, \"type\": \"pie\"}], \"scatter\": [{\"marker\": {\"colorbar\": {\"outlinewidth\": 0, \"ticks\": \"\"}}, \"type\": \"scatter\"}], \"scatter3d\": [{\"line\": {\"colorbar\": {\"outlinewidth\": 0, \"ticks\": \"\"}}, \"marker\": {\"colorbar\": {\"outlinewidth\": 0, \"ticks\": \"\"}}, \"type\": \"scatter3d\"}], \"scattercarpet\": [{\"marker\": {\"colorbar\": {\"outlinewidth\": 0, \"ticks\": \"\"}}, \"type\": \"scattercarpet\"}], \"scattergeo\": [{\"marker\": {\"colorbar\": {\"outlinewidth\": 0, \"ticks\": \"\"}}, \"type\": \"scattergeo\"}], \"scattergl\": [{\"marker\": {\"colorbar\": {\"outlinewidth\": 0, \"ticks\": \"\"}}, \"type\": \"scattergl\"}], \"scattermapbox\": [{\"marker\": {\"colorbar\": {\"outlinewidth\": 0, \"ticks\": \"\"}}, \"type\": \"scattermapbox\"}], \"scatterpolar\": [{\"marker\": {\"colorbar\": {\"outlinewidth\": 0, \"ticks\": \"\"}}, \"type\": \"scatterpolar\"}], \"scatterpolargl\": [{\"marker\": {\"colorbar\": {\"outlinewidth\": 0, \"ticks\": \"\"}}, \"type\": \"scatterpolargl\"}], \"scatterternary\": [{\"marker\": {\"colorbar\": {\"outlinewidth\": 0, \"ticks\": \"\"}}, \"type\": \"scatterternary\"}], \"surface\": [{\"colorbar\": {\"outlinewidth\": 0, \"ticks\": \"\"}, \"colorscale\": [[0.0, \"#0d0887\"], [0.1111111111111111, \"#46039f\"], [0.2222222222222222, \"#7201a8\"], [0.3333333333333333, \"#9c179e\"], [0.4444444444444444, \"#bd3786\"], [0.5555555555555556, \"#d8576b\"], [0.6666666666666666, \"#ed7953\"], [0.7777777777777778, \"#fb9f3a\"], [0.8888888888888888, \"#fdca26\"], [1.0, \"#f0f921\"]], \"type\": \"surface\"}], \"table\": [{\"cells\": {\"fill\": {\"color\": \"#EBF0F8\"}, \"line\": {\"color\": \"white\"}}, \"header\": {\"fill\": {\"color\": \"#C8D4E3\"}, \"line\": {\"color\": \"white\"}}, \"type\": \"table\"}]}, \"layout\": {\"annotationdefaults\": {\"arrowcolor\": \"#2a3f5f\", \"arrowhead\": 0, \"arrowwidth\": 1}, \"coloraxis\": {\"colorbar\": {\"outlinewidth\": 0, \"ticks\": \"\"}}, \"colorscale\": {\"diverging\": [[0, \"#8e0152\"], [0.1, \"#c51b7d\"], [0.2, \"#de77ae\"], [0.3, \"#f1b6da\"], [0.4, \"#fde0ef\"], [0.5, \"#f7f7f7\"], [0.6, \"#e6f5d0\"], [0.7, \"#b8e186\"], [0.8, \"#7fbc41\"], [0.9, \"#4d9221\"], [1, \"#276419\"]], \"sequential\": [[0.0, \"#0d0887\"], [0.1111111111111111, \"#46039f\"], [0.2222222222222222, \"#7201a8\"], [0.3333333333333333, \"#9c179e\"], [0.4444444444444444, \"#bd3786\"], [0.5555555555555556, \"#d8576b\"], [0.6666666666666666, \"#ed7953\"], [0.7777777777777778, \"#fb9f3a\"], [0.8888888888888888, \"#fdca26\"], [1.0, \"#f0f921\"]], \"sequentialminus\": [[0.0, \"#0d0887\"], [0.1111111111111111, \"#46039f\"], [0.2222222222222222, \"#7201a8\"], [0.3333333333333333, \"#9c179e\"], [0.4444444444444444, \"#bd3786\"], [0.5555555555555556, \"#d8576b\"], [0.6666666666666666, \"#ed7953\"], [0.7777777777777778, \"#fb9f3a\"], [0.8888888888888888, \"#fdca26\"], [1.0, \"#f0f921\"]]}, \"colorway\": [\"#636efa\", \"#EF553B\", \"#00cc96\", \"#ab63fa\", \"#FFA15A\", \"#19d3f3\", \"#FF6692\", \"#B6E880\", \"#FF97FF\", \"#FECB52\"], \"font\": {\"color\": \"#2a3f5f\"}, \"geo\": {\"bgcolor\": \"white\", \"lakecolor\": \"white\", \"landcolor\": \"#E5ECF6\", \"showlakes\": true, \"showland\": true, \"subunitcolor\": \"white\"}, \"hoverlabel\": {\"align\": \"left\"}, \"hovermode\": \"closest\", \"mapbox\": {\"style\": \"light\"}, \"paper_bgcolor\": \"white\", \"plot_bgcolor\": \"#E5ECF6\", \"polar\": {\"angularaxis\": {\"gridcolor\": \"white\", \"linecolor\": \"white\", \"ticks\": \"\"}, \"bgcolor\": \"#E5ECF6\", \"radialaxis\": {\"gridcolor\": \"white\", \"linecolor\": \"white\", \"ticks\": \"\"}}, \"scene\": {\"xaxis\": {\"backgroundcolor\": \"#E5ECF6\", \"gridcolor\": \"white\", \"gridwidth\": 2, \"linecolor\": \"white\", \"showbackground\": true, \"ticks\": \"\", \"zerolinecolor\": \"white\"}, \"yaxis\": {\"backgroundcolor\": \"#E5ECF6\", \"gridcolor\": \"white\", \"gridwidth\": 2, \"linecolor\": \"white\", \"showbackground\": true, \"ticks\": \"\", \"zerolinecolor\": \"white\"}, \"zaxis\": {\"backgroundcolor\": \"#E5ECF6\", \"gridcolor\": \"white\", \"gridwidth\": 2, \"linecolor\": \"white\", \"showbackground\": true, \"ticks\": \"\", \"zerolinecolor\": \"white\"}}, \"shapedefaults\": {\"line\": {\"color\": \"#2a3f5f\"}}, \"ternary\": {\"aaxis\": {\"gridcolor\": \"white\", \"linecolor\": \"white\", \"ticks\": \"\"}, \"baxis\": {\"gridcolor\": \"white\", \"linecolor\": \"white\", \"ticks\": \"\"}, \"bgcolor\": \"#E5ECF6\", \"caxis\": {\"gridcolor\": \"white\", \"linecolor\": \"white\", \"ticks\": \"\"}}, \"title\": {\"x\": 0.05}, \"xaxis\": {\"automargin\": true, \"gridcolor\": \"white\", \"linecolor\": \"white\", \"ticks\": \"\", \"title\": {\"standoff\": 15}, \"zerolinecolor\": \"white\", \"zerolinewidth\": 2}, \"yaxis\": {\"automargin\": true, \"gridcolor\": \"white\", \"linecolor\": \"white\", \"ticks\": \"\", \"title\": {\"standoff\": 15}, \"zerolinecolor\": \"white\", \"zerolinewidth\": 2}}}},\n",
       "                        {\"responsive\": true}\n",
       "                    ).then(function(){\n",
       "                            \n",
       "var gd = document.getElementById('4b6b9946-bc68-4f2f-932a-9185c43255ca');\n",
       "var x = new MutationObserver(function (mutations, observer) {{\n",
       "        var display = window.getComputedStyle(gd).display;\n",
       "        if (!display || display === 'none') {{\n",
       "            console.log([gd, 'removed!']);\n",
       "            Plotly.purge(gd);\n",
       "            observer.disconnect();\n",
       "        }}\n",
       "}});\n",
       "\n",
       "// Listen for the removal of the full notebook cells\n",
       "var notebookContainer = gd.closest('#notebook-container');\n",
       "if (notebookContainer) {{\n",
       "    x.observe(notebookContainer, {childList: true});\n",
       "}}\n",
       "\n",
       "// Listen for the clearing of the current output cell\n",
       "var outputEl = gd.closest('.output');\n",
       "if (outputEl) {{\n",
       "    x.observe(outputEl, {childList: true});\n",
       "}}\n",
       "\n",
       "                        })\n",
       "                };\n",
       "                });\n",
       "            </script>\n",
       "        </div>"
      ]
     },
     "metadata": {},
     "output_type": "display_data"
    },
    {
     "data": {
      "text/plain": [
       "'https://plotly.com/~asepsaputra/70/'"
      ]
     },
     "execution_count": 98,
     "metadata": {},
     "output_type": "execute_result"
    }
   ],
   "source": [
    "fig8 = px.choropleth(covid_fix, locations='Country', locationmode= 'country names',\n",
    "                    color='Country', scope='asia',\n",
    "                     hover_name = 'Country')\n",
    "fig8.show()"
   ]
  },
  {
   "cell_type": "code",
   "execution_count": 99,
   "metadata": {},
   "outputs": [
    {
     "data": {
      "application/vnd.plotly.v1+json": {
       "config": {
        "plotlyServerURL": "https://plotly.com"
       },
       "data": [
        {
         "coloraxis": "coloraxis",
         "geo": "geo",
         "hovertemplate": "<b>%{hovertext}</b><br><br>Country=%{location}<br>TotalConfirmed=%{z}<extra></extra>",
         "hovertext": [
          "Afghanistan",
          "Albania",
          "Algeria",
          "Andorra",
          "Angola",
          "Antigua and Barbuda",
          "Argentina",
          "Armenia",
          "Armenia",
          "Australia",
          "Austria",
          "Azerbaijan",
          "Azerbaijan",
          "Bahamas",
          "Bahrain",
          "Bangladesh",
          "Barbados",
          "Belarus",
          "Belgium",
          "Belize",
          "Benin",
          "Bhutan",
          "Bolivia",
          "Bosnia and Herzegovina",
          "Botswana",
          "Brazil",
          "Bulgaria",
          "Burkina Faso",
          "Burundi",
          "Cambodia",
          "Cameroon",
          "Canada",
          "Cape Verde",
          "Central African Republic",
          "Chad",
          "Chile",
          "China",
          "Colombia",
          "Comoros",
          "Costa Rica",
          "Croatia",
          "Cuba",
          "Cyprus",
          "Cyprus",
          "Czech Republic",
          "Côte d'Ivoire",
          "Denmark",
          "Djibouti",
          "Dominica",
          "Dominican Republic",
          "Ecuador",
          "Egypt",
          "El Salvador",
          "Equatorial Guinea",
          "Eritrea",
          "Estonia",
          "Ethiopia",
          "Fiji",
          "Finland",
          "France",
          "Gabon",
          "Gambia",
          "Georgia",
          "Georgia",
          "Germany",
          "Ghana",
          "Greece",
          "Grenada",
          "Guatemala",
          "Guinea",
          "Guinea-Bissau",
          "Guyana",
          "Haiti",
          "Honduras",
          "Hungary",
          "Iceland",
          "India",
          "Indonesia",
          "Iraq",
          "Ireland",
          "Israel",
          "Italy",
          "Jamaica",
          "Japan",
          "Jordan",
          "Kazakhstan",
          "Kazakhstan",
          "Kenya",
          "Kuwait",
          "Kyrgyzstan",
          "Latvia",
          "Lebanon",
          "Lesotho",
          "Liberia",
          "Libya",
          "Liechtenstein",
          "Lithuania",
          "Luxembourg",
          "Madagascar",
          "Malawi",
          "Malaysia",
          "Maldives",
          "Mali",
          "Malta",
          "Mauritania",
          "Mauritius",
          "Mexico",
          "Moldova",
          "Monaco",
          "Mongolia",
          "Montenegro",
          "Morocco",
          "Mozambique",
          "Nepal",
          "Netherlands",
          "New Zealand",
          "Nicaragua",
          "Niger",
          "Nigeria",
          "Norway",
          "Oman",
          "Pakistan",
          "Panama",
          "Papua New Guinea",
          "Paraguay",
          "Peru",
          "Philippines",
          "Poland",
          "Portugal",
          "Qatar",
          "Romania",
          "Rwanda",
          "Réunion",
          "Saint Kitts and Nevis",
          "Saint Lucia",
          "San Marino",
          "Saudi Arabia",
          "Senegal",
          "Serbia",
          "Seychelles",
          "Sierra Leone",
          "Singapore",
          "Slovakia",
          "Slovenia",
          "Somalia",
          "South Africa",
          "Spain",
          "Sri Lanka",
          "Sudan",
          "Suriname",
          "Swaziland",
          "Sweden",
          "Switzerland",
          "Tajikistan",
          "Thailand",
          "Timor-Leste",
          "Togo",
          "Trinidad and Tobago",
          "Tunisia",
          "Turkey",
          "Turkey",
          "Uganda",
          "Ukraine",
          "United Arab Emirates",
          "United Kingdom",
          "United States of America",
          "Uruguay",
          "Uzbekistan",
          "Western Sahara",
          "Yemen",
          "Zambia",
          "Zimbabwe"
         ],
         "locationmode": "country names",
         "locations": [
          "Afghanistan",
          "Albania",
          "Algeria",
          "Andorra",
          "Angola",
          "Antigua and Barbuda",
          "Argentina",
          "Armenia",
          "Armenia",
          "Australia",
          "Austria",
          "Azerbaijan",
          "Azerbaijan",
          "Bahamas",
          "Bahrain",
          "Bangladesh",
          "Barbados",
          "Belarus",
          "Belgium",
          "Belize",
          "Benin",
          "Bhutan",
          "Bolivia",
          "Bosnia and Herzegovina",
          "Botswana",
          "Brazil",
          "Bulgaria",
          "Burkina Faso",
          "Burundi",
          "Cambodia",
          "Cameroon",
          "Canada",
          "Cape Verde",
          "Central African Republic",
          "Chad",
          "Chile",
          "China",
          "Colombia",
          "Comoros",
          "Costa Rica",
          "Croatia",
          "Cuba",
          "Cyprus",
          "Cyprus",
          "Czech Republic",
          "Côte d'Ivoire",
          "Denmark",
          "Djibouti",
          "Dominica",
          "Dominican Republic",
          "Ecuador",
          "Egypt",
          "El Salvador",
          "Equatorial Guinea",
          "Eritrea",
          "Estonia",
          "Ethiopia",
          "Fiji",
          "Finland",
          "France",
          "Gabon",
          "Gambia",
          "Georgia",
          "Georgia",
          "Germany",
          "Ghana",
          "Greece",
          "Grenada",
          "Guatemala",
          "Guinea",
          "Guinea-Bissau",
          "Guyana",
          "Haiti",
          "Honduras",
          "Hungary",
          "Iceland",
          "India",
          "Indonesia",
          "Iraq",
          "Ireland",
          "Israel",
          "Italy",
          "Jamaica",
          "Japan",
          "Jordan",
          "Kazakhstan",
          "Kazakhstan",
          "Kenya",
          "Kuwait",
          "Kyrgyzstan",
          "Latvia",
          "Lebanon",
          "Lesotho",
          "Liberia",
          "Libya",
          "Liechtenstein",
          "Lithuania",
          "Luxembourg",
          "Madagascar",
          "Malawi",
          "Malaysia",
          "Maldives",
          "Mali",
          "Malta",
          "Mauritania",
          "Mauritius",
          "Mexico",
          "Moldova",
          "Monaco",
          "Mongolia",
          "Montenegro",
          "Morocco",
          "Mozambique",
          "Nepal",
          "Netherlands",
          "New Zealand",
          "Nicaragua",
          "Niger",
          "Nigeria",
          "Norway",
          "Oman",
          "Pakistan",
          "Panama",
          "Papua New Guinea",
          "Paraguay",
          "Peru",
          "Philippines",
          "Poland",
          "Portugal",
          "Qatar",
          "Romania",
          "Rwanda",
          "Réunion",
          "Saint Kitts and Nevis",
          "Saint Lucia",
          "San Marino",
          "Saudi Arabia",
          "Senegal",
          "Serbia",
          "Seychelles",
          "Sierra Leone",
          "Singapore",
          "Slovakia",
          "Slovenia",
          "Somalia",
          "South Africa",
          "Spain",
          "Sri Lanka",
          "Sudan",
          "Suriname",
          "Swaziland",
          "Sweden",
          "Switzerland",
          "Tajikistan",
          "Thailand",
          "Timor-Leste",
          "Togo",
          "Trinidad and Tobago",
          "Tunisia",
          "Turkey",
          "Turkey",
          "Uganda",
          "Ukraine",
          "United Arab Emirates",
          "United Kingdom",
          "United States of America",
          "Uruguay",
          "Uzbekistan",
          "Western Sahara",
          "Yemen",
          "Zambia",
          "Zimbabwe"
         ],
         "name": "",
         "type": "choropleth",
         "z": [
          39285,
          13806,
          51690,
          2050,
          5114,
          101,
          765002,
          50850,
          50850,
          27109,
          45686,
          40309,
          40309,
          4123,
          71374,
          364987,
          193,
          79019,
          121059,
          1992,
          2357,
          282,
          135716,
          27749,
          3172,
          4847092,
          20833,
          2088,
          510,
          278,
          20838,
          162917,
          6126,
          4829,
          1203,
          464750,
          90567,
          835339,
          484,
          76828,
          16827,
          5670,
          1772,
          1772,
          74255,
          19755,
          28882,
          5417,
          31,
          112728,
          138584,
          103317,
          29175,
          5045,
          381,
          3450,
          76098,
          32,
          10103,
          616986,
          8766,
          3584,
          6640,
          6640,
          295539,
          46656,
          18886,
          24,
          92409,
          10652,
          2324,
          2929,
          8781,
          77598,
          27309,
          2769,
          6312584,
          291182,
          367474,
          36597,
          253490,
          317409,
          6555,
          84244,
          13101,
          108044,
          108044,
          38713,
          105676,
          46841,
          1868,
          40882,
          1639,
          1343,
          35208,
          119,
          4784,
          8595,
          16454,
          5779,
          11484,
          10354,
          3131,
          3095,
          7505,
          381,
          748315,
          54064,
          219,
          313,
          10987,
          126044,
          8888,
          79728,
          124097,
          1848,
          5170,
          1197,
          59001,
          14149,
          98585,
          313431,
          113342,
          539,
          41799,
          814829,
          314079,
          93481,
          76396,
          125959,
          129658,
          4843,
          0,
          19,
          27,
          732,
          335097,
          15019,
          33662,
          144,
          2238,
          57784,
          10938,
          5865,
          3593,
          676084,
          778607,
          3382,
          13653,
          4891,
          5500,
          93615,
          53832,
          9811,
          3575,
          28,
          1809,
          4570,
          18413,
          320070,
          320070,
          8287,
          218625,
          95348,
          462775,
          7277759,
          2061,
          57190,
          10,
          2039,
          14802,
          7850
         ]
        }
       ],
       "layout": {
        "coloraxis": {
         "colorbar": {
          "title": {
           "text": "TotalConfirmed"
          }
         },
         "colorscale": [
          [
           0,
           "#0d0887"
          ],
          [
           0.1111111111111111,
           "#46039f"
          ],
          [
           0.2222222222222222,
           "#7201a8"
          ],
          [
           0.3333333333333333,
           "#9c179e"
          ],
          [
           0.4444444444444444,
           "#bd3786"
          ],
          [
           0.5555555555555556,
           "#d8576b"
          ],
          [
           0.6666666666666666,
           "#ed7953"
          ],
          [
           0.7777777777777778,
           "#fb9f3a"
          ],
          [
           0.8888888888888888,
           "#fdca26"
          ],
          [
           1,
           "#f0f921"
          ]
         ]
        },
        "geo": {
         "center": {},
         "domain": {
          "x": [
           0,
           1
          ],
          "y": [
           0,
           1
          ]
         },
         "scope": "world"
        },
        "legend": {
         "tracegroupgap": 0
        },
        "margin": {
         "t": 60
        },
        "template": {
         "data": {
          "bar": [
           {
            "error_x": {
             "color": "#2a3f5f"
            },
            "error_y": {
             "color": "#2a3f5f"
            },
            "marker": {
             "line": {
              "color": "#E5ECF6",
              "width": 0.5
             }
            },
            "type": "bar"
           }
          ],
          "barpolar": [
           {
            "marker": {
             "line": {
              "color": "#E5ECF6",
              "width": 0.5
             }
            },
            "type": "barpolar"
           }
          ],
          "carpet": [
           {
            "aaxis": {
             "endlinecolor": "#2a3f5f",
             "gridcolor": "white",
             "linecolor": "white",
             "minorgridcolor": "white",
             "startlinecolor": "#2a3f5f"
            },
            "baxis": {
             "endlinecolor": "#2a3f5f",
             "gridcolor": "white",
             "linecolor": "white",
             "minorgridcolor": "white",
             "startlinecolor": "#2a3f5f"
            },
            "type": "carpet"
           }
          ],
          "choropleth": [
           {
            "colorbar": {
             "outlinewidth": 0,
             "ticks": ""
            },
            "type": "choropleth"
           }
          ],
          "contour": [
           {
            "colorbar": {
             "outlinewidth": 0,
             "ticks": ""
            },
            "colorscale": [
             [
              0,
              "#0d0887"
             ],
             [
              0.1111111111111111,
              "#46039f"
             ],
             [
              0.2222222222222222,
              "#7201a8"
             ],
             [
              0.3333333333333333,
              "#9c179e"
             ],
             [
              0.4444444444444444,
              "#bd3786"
             ],
             [
              0.5555555555555556,
              "#d8576b"
             ],
             [
              0.6666666666666666,
              "#ed7953"
             ],
             [
              0.7777777777777778,
              "#fb9f3a"
             ],
             [
              0.8888888888888888,
              "#fdca26"
             ],
             [
              1,
              "#f0f921"
             ]
            ],
            "type": "contour"
           }
          ],
          "contourcarpet": [
           {
            "colorbar": {
             "outlinewidth": 0,
             "ticks": ""
            },
            "type": "contourcarpet"
           }
          ],
          "heatmap": [
           {
            "colorbar": {
             "outlinewidth": 0,
             "ticks": ""
            },
            "colorscale": [
             [
              0,
              "#0d0887"
             ],
             [
              0.1111111111111111,
              "#46039f"
             ],
             [
              0.2222222222222222,
              "#7201a8"
             ],
             [
              0.3333333333333333,
              "#9c179e"
             ],
             [
              0.4444444444444444,
              "#bd3786"
             ],
             [
              0.5555555555555556,
              "#d8576b"
             ],
             [
              0.6666666666666666,
              "#ed7953"
             ],
             [
              0.7777777777777778,
              "#fb9f3a"
             ],
             [
              0.8888888888888888,
              "#fdca26"
             ],
             [
              1,
              "#f0f921"
             ]
            ],
            "type": "heatmap"
           }
          ],
          "heatmapgl": [
           {
            "colorbar": {
             "outlinewidth": 0,
             "ticks": ""
            },
            "colorscale": [
             [
              0,
              "#0d0887"
             ],
             [
              0.1111111111111111,
              "#46039f"
             ],
             [
              0.2222222222222222,
              "#7201a8"
             ],
             [
              0.3333333333333333,
              "#9c179e"
             ],
             [
              0.4444444444444444,
              "#bd3786"
             ],
             [
              0.5555555555555556,
              "#d8576b"
             ],
             [
              0.6666666666666666,
              "#ed7953"
             ],
             [
              0.7777777777777778,
              "#fb9f3a"
             ],
             [
              0.8888888888888888,
              "#fdca26"
             ],
             [
              1,
              "#f0f921"
             ]
            ],
            "type": "heatmapgl"
           }
          ],
          "histogram": [
           {
            "marker": {
             "colorbar": {
              "outlinewidth": 0,
              "ticks": ""
             }
            },
            "type": "histogram"
           }
          ],
          "histogram2d": [
           {
            "colorbar": {
             "outlinewidth": 0,
             "ticks": ""
            },
            "colorscale": [
             [
              0,
              "#0d0887"
             ],
             [
              0.1111111111111111,
              "#46039f"
             ],
             [
              0.2222222222222222,
              "#7201a8"
             ],
             [
              0.3333333333333333,
              "#9c179e"
             ],
             [
              0.4444444444444444,
              "#bd3786"
             ],
             [
              0.5555555555555556,
              "#d8576b"
             ],
             [
              0.6666666666666666,
              "#ed7953"
             ],
             [
              0.7777777777777778,
              "#fb9f3a"
             ],
             [
              0.8888888888888888,
              "#fdca26"
             ],
             [
              1,
              "#f0f921"
             ]
            ],
            "type": "histogram2d"
           }
          ],
          "histogram2dcontour": [
           {
            "colorbar": {
             "outlinewidth": 0,
             "ticks": ""
            },
            "colorscale": [
             [
              0,
              "#0d0887"
             ],
             [
              0.1111111111111111,
              "#46039f"
             ],
             [
              0.2222222222222222,
              "#7201a8"
             ],
             [
              0.3333333333333333,
              "#9c179e"
             ],
             [
              0.4444444444444444,
              "#bd3786"
             ],
             [
              0.5555555555555556,
              "#d8576b"
             ],
             [
              0.6666666666666666,
              "#ed7953"
             ],
             [
              0.7777777777777778,
              "#fb9f3a"
             ],
             [
              0.8888888888888888,
              "#fdca26"
             ],
             [
              1,
              "#f0f921"
             ]
            ],
            "type": "histogram2dcontour"
           }
          ],
          "mesh3d": [
           {
            "colorbar": {
             "outlinewidth": 0,
             "ticks": ""
            },
            "type": "mesh3d"
           }
          ],
          "parcoords": [
           {
            "line": {
             "colorbar": {
              "outlinewidth": 0,
              "ticks": ""
             }
            },
            "type": "parcoords"
           }
          ],
          "pie": [
           {
            "automargin": true,
            "type": "pie"
           }
          ],
          "scatter": [
           {
            "marker": {
             "colorbar": {
              "outlinewidth": 0,
              "ticks": ""
             }
            },
            "type": "scatter"
           }
          ],
          "scatter3d": [
           {
            "line": {
             "colorbar": {
              "outlinewidth": 0,
              "ticks": ""
             }
            },
            "marker": {
             "colorbar": {
              "outlinewidth": 0,
              "ticks": ""
             }
            },
            "type": "scatter3d"
           }
          ],
          "scattercarpet": [
           {
            "marker": {
             "colorbar": {
              "outlinewidth": 0,
              "ticks": ""
             }
            },
            "type": "scattercarpet"
           }
          ],
          "scattergeo": [
           {
            "marker": {
             "colorbar": {
              "outlinewidth": 0,
              "ticks": ""
             }
            },
            "type": "scattergeo"
           }
          ],
          "scattergl": [
           {
            "marker": {
             "colorbar": {
              "outlinewidth": 0,
              "ticks": ""
             }
            },
            "type": "scattergl"
           }
          ],
          "scattermapbox": [
           {
            "marker": {
             "colorbar": {
              "outlinewidth": 0,
              "ticks": ""
             }
            },
            "type": "scattermapbox"
           }
          ],
          "scatterpolar": [
           {
            "marker": {
             "colorbar": {
              "outlinewidth": 0,
              "ticks": ""
             }
            },
            "type": "scatterpolar"
           }
          ],
          "scatterpolargl": [
           {
            "marker": {
             "colorbar": {
              "outlinewidth": 0,
              "ticks": ""
             }
            },
            "type": "scatterpolargl"
           }
          ],
          "scatterternary": [
           {
            "marker": {
             "colorbar": {
              "outlinewidth": 0,
              "ticks": ""
             }
            },
            "type": "scatterternary"
           }
          ],
          "surface": [
           {
            "colorbar": {
             "outlinewidth": 0,
             "ticks": ""
            },
            "colorscale": [
             [
              0,
              "#0d0887"
             ],
             [
              0.1111111111111111,
              "#46039f"
             ],
             [
              0.2222222222222222,
              "#7201a8"
             ],
             [
              0.3333333333333333,
              "#9c179e"
             ],
             [
              0.4444444444444444,
              "#bd3786"
             ],
             [
              0.5555555555555556,
              "#d8576b"
             ],
             [
              0.6666666666666666,
              "#ed7953"
             ],
             [
              0.7777777777777778,
              "#fb9f3a"
             ],
             [
              0.8888888888888888,
              "#fdca26"
             ],
             [
              1,
              "#f0f921"
             ]
            ],
            "type": "surface"
           }
          ],
          "table": [
           {
            "cells": {
             "fill": {
              "color": "#EBF0F8"
             },
             "line": {
              "color": "white"
             }
            },
            "header": {
             "fill": {
              "color": "#C8D4E3"
             },
             "line": {
              "color": "white"
             }
            },
            "type": "table"
           }
          ]
         },
         "layout": {
          "annotationdefaults": {
           "arrowcolor": "#2a3f5f",
           "arrowhead": 0,
           "arrowwidth": 1
          },
          "coloraxis": {
           "colorbar": {
            "outlinewidth": 0,
            "ticks": ""
           }
          },
          "colorscale": {
           "diverging": [
            [
             0,
             "#8e0152"
            ],
            [
             0.1,
             "#c51b7d"
            ],
            [
             0.2,
             "#de77ae"
            ],
            [
             0.3,
             "#f1b6da"
            ],
            [
             0.4,
             "#fde0ef"
            ],
            [
             0.5,
             "#f7f7f7"
            ],
            [
             0.6,
             "#e6f5d0"
            ],
            [
             0.7,
             "#b8e186"
            ],
            [
             0.8,
             "#7fbc41"
            ],
            [
             0.9,
             "#4d9221"
            ],
            [
             1,
             "#276419"
            ]
           ],
           "sequential": [
            [
             0,
             "#0d0887"
            ],
            [
             0.1111111111111111,
             "#46039f"
            ],
            [
             0.2222222222222222,
             "#7201a8"
            ],
            [
             0.3333333333333333,
             "#9c179e"
            ],
            [
             0.4444444444444444,
             "#bd3786"
            ],
            [
             0.5555555555555556,
             "#d8576b"
            ],
            [
             0.6666666666666666,
             "#ed7953"
            ],
            [
             0.7777777777777778,
             "#fb9f3a"
            ],
            [
             0.8888888888888888,
             "#fdca26"
            ],
            [
             1,
             "#f0f921"
            ]
           ],
           "sequentialminus": [
            [
             0,
             "#0d0887"
            ],
            [
             0.1111111111111111,
             "#46039f"
            ],
            [
             0.2222222222222222,
             "#7201a8"
            ],
            [
             0.3333333333333333,
             "#9c179e"
            ],
            [
             0.4444444444444444,
             "#bd3786"
            ],
            [
             0.5555555555555556,
             "#d8576b"
            ],
            [
             0.6666666666666666,
             "#ed7953"
            ],
            [
             0.7777777777777778,
             "#fb9f3a"
            ],
            [
             0.8888888888888888,
             "#fdca26"
            ],
            [
             1,
             "#f0f921"
            ]
           ]
          },
          "colorway": [
           "#636efa",
           "#EF553B",
           "#00cc96",
           "#ab63fa",
           "#FFA15A",
           "#19d3f3",
           "#FF6692",
           "#B6E880",
           "#FF97FF",
           "#FECB52"
          ],
          "font": {
           "color": "#2a3f5f"
          },
          "geo": {
           "bgcolor": "white",
           "lakecolor": "white",
           "landcolor": "#E5ECF6",
           "showlakes": true,
           "showland": true,
           "subunitcolor": "white"
          },
          "hoverlabel": {
           "align": "left"
          },
          "hovermode": "closest",
          "mapbox": {
           "style": "light"
          },
          "paper_bgcolor": "white",
          "plot_bgcolor": "#E5ECF6",
          "polar": {
           "angularaxis": {
            "gridcolor": "white",
            "linecolor": "white",
            "ticks": ""
           },
           "bgcolor": "#E5ECF6",
           "radialaxis": {
            "gridcolor": "white",
            "linecolor": "white",
            "ticks": ""
           }
          },
          "scene": {
           "xaxis": {
            "backgroundcolor": "#E5ECF6",
            "gridcolor": "white",
            "gridwidth": 2,
            "linecolor": "white",
            "showbackground": true,
            "ticks": "",
            "zerolinecolor": "white"
           },
           "yaxis": {
            "backgroundcolor": "#E5ECF6",
            "gridcolor": "white",
            "gridwidth": 2,
            "linecolor": "white",
            "showbackground": true,
            "ticks": "",
            "zerolinecolor": "white"
           },
           "zaxis": {
            "backgroundcolor": "#E5ECF6",
            "gridcolor": "white",
            "gridwidth": 2,
            "linecolor": "white",
            "showbackground": true,
            "ticks": "",
            "zerolinecolor": "white"
           }
          },
          "shapedefaults": {
           "line": {
            "color": "#2a3f5f"
           }
          },
          "ternary": {
           "aaxis": {
            "gridcolor": "white",
            "linecolor": "white",
            "ticks": ""
           },
           "baxis": {
            "gridcolor": "white",
            "linecolor": "white",
            "ticks": ""
           },
           "bgcolor": "#E5ECF6",
           "caxis": {
            "gridcolor": "white",
            "linecolor": "white",
            "ticks": ""
           }
          },
          "title": {
           "x": 0.05
          },
          "xaxis": {
           "automargin": true,
           "gridcolor": "white",
           "linecolor": "white",
           "ticks": "",
           "title": {
            "standoff": 15
           },
           "zerolinecolor": "white",
           "zerolinewidth": 2
          },
          "yaxis": {
           "automargin": true,
           "gridcolor": "white",
           "linecolor": "white",
           "ticks": "",
           "title": {
            "standoff": 15
           },
           "zerolinecolor": "white",
           "zerolinewidth": 2
          }
         }
        }
       }
      },
      "text/html": [
       "<div>\n",
       "        \n",
       "        \n",
       "            <div id=\"d88ef550-4ee0-4d1c-9aa6-30df63686e03\" class=\"plotly-graph-div\" style=\"height:525px; width:100%;\"></div>\n",
       "            <script type=\"text/javascript\">\n",
       "                require([\"plotly\"], function(Plotly) {\n",
       "                    window.PLOTLYENV=window.PLOTLYENV || {};\n",
       "                    \n",
       "                if (document.getElementById(\"d88ef550-4ee0-4d1c-9aa6-30df63686e03\")) {\n",
       "                    Plotly.newPlot(\n",
       "                        'd88ef550-4ee0-4d1c-9aa6-30df63686e03',\n",
       "                        [{\"coloraxis\": \"coloraxis\", \"geo\": \"geo\", \"hovertemplate\": \"<b>%{hovertext}</b><br><br>Country=%{location}<br>TotalConfirmed=%{z}<extra></extra>\", \"hovertext\": [\"Afghanistan\", \"Albania\", \"Algeria\", \"Andorra\", \"Angola\", \"Antigua and Barbuda\", \"Argentina\", \"Armenia\", \"Armenia\", \"Australia\", \"Austria\", \"Azerbaijan\", \"Azerbaijan\", \"Bahamas\", \"Bahrain\", \"Bangladesh\", \"Barbados\", \"Belarus\", \"Belgium\", \"Belize\", \"Benin\", \"Bhutan\", \"Bolivia\", \"Bosnia and Herzegovina\", \"Botswana\", \"Brazil\", \"Bulgaria\", \"Burkina Faso\", \"Burundi\", \"Cambodia\", \"Cameroon\", \"Canada\", \"Cape Verde\", \"Central African Republic\", \"Chad\", \"Chile\", \"China\", \"Colombia\", \"Comoros\", \"Costa Rica\", \"Croatia\", \"Cuba\", \"Cyprus\", \"Cyprus\", \"Czech Republic\", \"C\\u00f4te d'Ivoire\", \"Denmark\", \"Djibouti\", \"Dominica\", \"Dominican Republic\", \"Ecuador\", \"Egypt\", \"El Salvador\", \"Equatorial Guinea\", \"Eritrea\", \"Estonia\", \"Ethiopia\", \"Fiji\", \"Finland\", \"France\", \"Gabon\", \"Gambia\", \"Georgia\", \"Georgia\", \"Germany\", \"Ghana\", \"Greece\", \"Grenada\", \"Guatemala\", \"Guinea\", \"Guinea-Bissau\", \"Guyana\", \"Haiti\", \"Honduras\", \"Hungary\", \"Iceland\", \"India\", \"Indonesia\", \"Iraq\", \"Ireland\", \"Israel\", \"Italy\", \"Jamaica\", \"Japan\", \"Jordan\", \"Kazakhstan\", \"Kazakhstan\", \"Kenya\", \"Kuwait\", \"Kyrgyzstan\", \"Latvia\", \"Lebanon\", \"Lesotho\", \"Liberia\", \"Libya\", \"Liechtenstein\", \"Lithuania\", \"Luxembourg\", \"Madagascar\", \"Malawi\", \"Malaysia\", \"Maldives\", \"Mali\", \"Malta\", \"Mauritania\", \"Mauritius\", \"Mexico\", \"Moldova\", \"Monaco\", \"Mongolia\", \"Montenegro\", \"Morocco\", \"Mozambique\", \"Nepal\", \"Netherlands\", \"New Zealand\", \"Nicaragua\", \"Niger\", \"Nigeria\", \"Norway\", \"Oman\", \"Pakistan\", \"Panama\", \"Papua New Guinea\", \"Paraguay\", \"Peru\", \"Philippines\", \"Poland\", \"Portugal\", \"Qatar\", \"Romania\", \"Rwanda\", \"R\\u00e9union\", \"Saint Kitts and Nevis\", \"Saint Lucia\", \"San Marino\", \"Saudi Arabia\", \"Senegal\", \"Serbia\", \"Seychelles\", \"Sierra Leone\", \"Singapore\", \"Slovakia\", \"Slovenia\", \"Somalia\", \"South Africa\", \"Spain\", \"Sri Lanka\", \"Sudan\", \"Suriname\", \"Swaziland\", \"Sweden\", \"Switzerland\", \"Tajikistan\", \"Thailand\", \"Timor-Leste\", \"Togo\", \"Trinidad and Tobago\", \"Tunisia\", \"Turkey\", \"Turkey\", \"Uganda\", \"Ukraine\", \"United Arab Emirates\", \"United Kingdom\", \"United States of America\", \"Uruguay\", \"Uzbekistan\", \"Western Sahara\", \"Yemen\", \"Zambia\", \"Zimbabwe\"], \"locationmode\": \"country names\", \"locations\": [\"Afghanistan\", \"Albania\", \"Algeria\", \"Andorra\", \"Angola\", \"Antigua and Barbuda\", \"Argentina\", \"Armenia\", \"Armenia\", \"Australia\", \"Austria\", \"Azerbaijan\", \"Azerbaijan\", \"Bahamas\", \"Bahrain\", \"Bangladesh\", \"Barbados\", \"Belarus\", \"Belgium\", \"Belize\", \"Benin\", \"Bhutan\", \"Bolivia\", \"Bosnia and Herzegovina\", \"Botswana\", \"Brazil\", \"Bulgaria\", \"Burkina Faso\", \"Burundi\", \"Cambodia\", \"Cameroon\", \"Canada\", \"Cape Verde\", \"Central African Republic\", \"Chad\", \"Chile\", \"China\", \"Colombia\", \"Comoros\", \"Costa Rica\", \"Croatia\", \"Cuba\", \"Cyprus\", \"Cyprus\", \"Czech Republic\", \"C\\u00f4te d'Ivoire\", \"Denmark\", \"Djibouti\", \"Dominica\", \"Dominican Republic\", \"Ecuador\", \"Egypt\", \"El Salvador\", \"Equatorial Guinea\", \"Eritrea\", \"Estonia\", \"Ethiopia\", \"Fiji\", \"Finland\", \"France\", \"Gabon\", \"Gambia\", \"Georgia\", \"Georgia\", \"Germany\", \"Ghana\", \"Greece\", \"Grenada\", \"Guatemala\", \"Guinea\", \"Guinea-Bissau\", \"Guyana\", \"Haiti\", \"Honduras\", \"Hungary\", \"Iceland\", \"India\", \"Indonesia\", \"Iraq\", \"Ireland\", \"Israel\", \"Italy\", \"Jamaica\", \"Japan\", \"Jordan\", \"Kazakhstan\", \"Kazakhstan\", \"Kenya\", \"Kuwait\", \"Kyrgyzstan\", \"Latvia\", \"Lebanon\", \"Lesotho\", \"Liberia\", \"Libya\", \"Liechtenstein\", \"Lithuania\", \"Luxembourg\", \"Madagascar\", \"Malawi\", \"Malaysia\", \"Maldives\", \"Mali\", \"Malta\", \"Mauritania\", \"Mauritius\", \"Mexico\", \"Moldova\", \"Monaco\", \"Mongolia\", \"Montenegro\", \"Morocco\", \"Mozambique\", \"Nepal\", \"Netherlands\", \"New Zealand\", \"Nicaragua\", \"Niger\", \"Nigeria\", \"Norway\", \"Oman\", \"Pakistan\", \"Panama\", \"Papua New Guinea\", \"Paraguay\", \"Peru\", \"Philippines\", \"Poland\", \"Portugal\", \"Qatar\", \"Romania\", \"Rwanda\", \"R\\u00e9union\", \"Saint Kitts and Nevis\", \"Saint Lucia\", \"San Marino\", \"Saudi Arabia\", \"Senegal\", \"Serbia\", \"Seychelles\", \"Sierra Leone\", \"Singapore\", \"Slovakia\", \"Slovenia\", \"Somalia\", \"South Africa\", \"Spain\", \"Sri Lanka\", \"Sudan\", \"Suriname\", \"Swaziland\", \"Sweden\", \"Switzerland\", \"Tajikistan\", \"Thailand\", \"Timor-Leste\", \"Togo\", \"Trinidad and Tobago\", \"Tunisia\", \"Turkey\", \"Turkey\", \"Uganda\", \"Ukraine\", \"United Arab Emirates\", \"United Kingdom\", \"United States of America\", \"Uruguay\", \"Uzbekistan\", \"Western Sahara\", \"Yemen\", \"Zambia\", \"Zimbabwe\"], \"name\": \"\", \"type\": \"choropleth\", \"z\": [39285, 13806, 51690, 2050, 5114, 101, 765002, 50850, 50850, 27109, 45686, 40309, 40309, 4123, 71374, 364987, 193, 79019, 121059, 1992, 2357, 282, 135716, 27749, 3172, 4847092, 20833, 2088, 510, 278, 20838, 162917, 6126, 4829, 1203, 464750, 90567, 835339, 484, 76828, 16827, 5670, 1772, 1772, 74255, 19755, 28882, 5417, 31, 112728, 138584, 103317, 29175, 5045, 381, 3450, 76098, 32, 10103, 616986, 8766, 3584, 6640, 6640, 295539, 46656, 18886, 24, 92409, 10652, 2324, 2929, 8781, 77598, 27309, 2769, 6312584, 291182, 367474, 36597, 253490, 317409, 6555, 84244, 13101, 108044, 108044, 38713, 105676, 46841, 1868, 40882, 1639, 1343, 35208, 119, 4784, 8595, 16454, 5779, 11484, 10354, 3131, 3095, 7505, 381, 748315, 54064, 219, 313, 10987, 126044, 8888, 79728, 124097, 1848, 5170, 1197, 59001, 14149, 98585, 313431, 113342, 539, 41799, 814829, 314079, 93481, 76396, 125959, 129658, 4843, 0, 19, 27, 732, 335097, 15019, 33662, 144, 2238, 57784, 10938, 5865, 3593, 676084, 778607, 3382, 13653, 4891, 5500, 93615, 53832, 9811, 3575, 28, 1809, 4570, 18413, 320070, 320070, 8287, 218625, 95348, 462775, 7277759, 2061, 57190, 10, 2039, 14802, 7850]}],\n",
       "                        {\"coloraxis\": {\"colorbar\": {\"title\": {\"text\": \"TotalConfirmed\"}}, \"colorscale\": [[0.0, \"#0d0887\"], [0.1111111111111111, \"#46039f\"], [0.2222222222222222, \"#7201a8\"], [0.3333333333333333, \"#9c179e\"], [0.4444444444444444, \"#bd3786\"], [0.5555555555555556, \"#d8576b\"], [0.6666666666666666, \"#ed7953\"], [0.7777777777777778, \"#fb9f3a\"], [0.8888888888888888, \"#fdca26\"], [1.0, \"#f0f921\"]]}, \"geo\": {\"center\": {}, \"domain\": {\"x\": [0.0, 1.0], \"y\": [0.0, 1.0]}, \"scope\": \"world\"}, \"legend\": {\"tracegroupgap\": 0}, \"margin\": {\"t\": 60}, \"template\": {\"data\": {\"bar\": [{\"error_x\": {\"color\": \"#2a3f5f\"}, \"error_y\": {\"color\": \"#2a3f5f\"}, \"marker\": {\"line\": {\"color\": \"#E5ECF6\", \"width\": 0.5}}, \"type\": \"bar\"}], \"barpolar\": [{\"marker\": {\"line\": {\"color\": \"#E5ECF6\", \"width\": 0.5}}, \"type\": \"barpolar\"}], \"carpet\": [{\"aaxis\": {\"endlinecolor\": \"#2a3f5f\", \"gridcolor\": \"white\", \"linecolor\": \"white\", \"minorgridcolor\": \"white\", \"startlinecolor\": \"#2a3f5f\"}, \"baxis\": {\"endlinecolor\": \"#2a3f5f\", \"gridcolor\": \"white\", \"linecolor\": \"white\", \"minorgridcolor\": \"white\", \"startlinecolor\": \"#2a3f5f\"}, \"type\": \"carpet\"}], \"choropleth\": [{\"colorbar\": {\"outlinewidth\": 0, \"ticks\": \"\"}, \"type\": \"choropleth\"}], \"contour\": [{\"colorbar\": {\"outlinewidth\": 0, \"ticks\": \"\"}, \"colorscale\": [[0.0, \"#0d0887\"], [0.1111111111111111, \"#46039f\"], [0.2222222222222222, \"#7201a8\"], [0.3333333333333333, \"#9c179e\"], [0.4444444444444444, \"#bd3786\"], [0.5555555555555556, \"#d8576b\"], [0.6666666666666666, \"#ed7953\"], [0.7777777777777778, \"#fb9f3a\"], [0.8888888888888888, \"#fdca26\"], [1.0, \"#f0f921\"]], \"type\": \"contour\"}], \"contourcarpet\": [{\"colorbar\": {\"outlinewidth\": 0, \"ticks\": \"\"}, \"type\": \"contourcarpet\"}], \"heatmap\": [{\"colorbar\": {\"outlinewidth\": 0, \"ticks\": \"\"}, \"colorscale\": [[0.0, \"#0d0887\"], [0.1111111111111111, \"#46039f\"], [0.2222222222222222, \"#7201a8\"], [0.3333333333333333, \"#9c179e\"], [0.4444444444444444, \"#bd3786\"], [0.5555555555555556, \"#d8576b\"], [0.6666666666666666, \"#ed7953\"], [0.7777777777777778, \"#fb9f3a\"], [0.8888888888888888, \"#fdca26\"], [1.0, \"#f0f921\"]], \"type\": \"heatmap\"}], \"heatmapgl\": [{\"colorbar\": {\"outlinewidth\": 0, \"ticks\": \"\"}, \"colorscale\": [[0.0, \"#0d0887\"], [0.1111111111111111, \"#46039f\"], [0.2222222222222222, \"#7201a8\"], [0.3333333333333333, \"#9c179e\"], [0.4444444444444444, \"#bd3786\"], [0.5555555555555556, \"#d8576b\"], [0.6666666666666666, \"#ed7953\"], [0.7777777777777778, \"#fb9f3a\"], [0.8888888888888888, \"#fdca26\"], [1.0, \"#f0f921\"]], \"type\": \"heatmapgl\"}], \"histogram\": [{\"marker\": {\"colorbar\": {\"outlinewidth\": 0, \"ticks\": \"\"}}, \"type\": \"histogram\"}], \"histogram2d\": [{\"colorbar\": {\"outlinewidth\": 0, \"ticks\": \"\"}, \"colorscale\": [[0.0, \"#0d0887\"], [0.1111111111111111, \"#46039f\"], [0.2222222222222222, \"#7201a8\"], [0.3333333333333333, \"#9c179e\"], [0.4444444444444444, \"#bd3786\"], [0.5555555555555556, \"#d8576b\"], [0.6666666666666666, \"#ed7953\"], [0.7777777777777778, \"#fb9f3a\"], [0.8888888888888888, \"#fdca26\"], [1.0, \"#f0f921\"]], \"type\": \"histogram2d\"}], \"histogram2dcontour\": [{\"colorbar\": {\"outlinewidth\": 0, \"ticks\": \"\"}, \"colorscale\": [[0.0, \"#0d0887\"], [0.1111111111111111, \"#46039f\"], [0.2222222222222222, \"#7201a8\"], [0.3333333333333333, \"#9c179e\"], [0.4444444444444444, \"#bd3786\"], [0.5555555555555556, \"#d8576b\"], [0.6666666666666666, \"#ed7953\"], [0.7777777777777778, \"#fb9f3a\"], [0.8888888888888888, \"#fdca26\"], [1.0, \"#f0f921\"]], \"type\": \"histogram2dcontour\"}], \"mesh3d\": [{\"colorbar\": {\"outlinewidth\": 0, \"ticks\": \"\"}, \"type\": \"mesh3d\"}], \"parcoords\": [{\"line\": {\"colorbar\": {\"outlinewidth\": 0, \"ticks\": \"\"}}, \"type\": \"parcoords\"}], \"pie\": [{\"automargin\": true, \"type\": \"pie\"}], \"scatter\": [{\"marker\": {\"colorbar\": {\"outlinewidth\": 0, \"ticks\": \"\"}}, \"type\": \"scatter\"}], \"scatter3d\": [{\"line\": {\"colorbar\": {\"outlinewidth\": 0, \"ticks\": \"\"}}, \"marker\": {\"colorbar\": {\"outlinewidth\": 0, \"ticks\": \"\"}}, \"type\": \"scatter3d\"}], \"scattercarpet\": [{\"marker\": {\"colorbar\": {\"outlinewidth\": 0, \"ticks\": \"\"}}, \"type\": \"scattercarpet\"}], \"scattergeo\": [{\"marker\": {\"colorbar\": {\"outlinewidth\": 0, \"ticks\": \"\"}}, \"type\": \"scattergeo\"}], \"scattergl\": [{\"marker\": {\"colorbar\": {\"outlinewidth\": 0, \"ticks\": \"\"}}, \"type\": \"scattergl\"}], \"scattermapbox\": [{\"marker\": {\"colorbar\": {\"outlinewidth\": 0, \"ticks\": \"\"}}, \"type\": \"scattermapbox\"}], \"scatterpolar\": [{\"marker\": {\"colorbar\": {\"outlinewidth\": 0, \"ticks\": \"\"}}, \"type\": \"scatterpolar\"}], \"scatterpolargl\": [{\"marker\": {\"colorbar\": {\"outlinewidth\": 0, \"ticks\": \"\"}}, \"type\": \"scatterpolargl\"}], \"scatterternary\": [{\"marker\": {\"colorbar\": {\"outlinewidth\": 0, \"ticks\": \"\"}}, \"type\": \"scatterternary\"}], \"surface\": [{\"colorbar\": {\"outlinewidth\": 0, \"ticks\": \"\"}, \"colorscale\": [[0.0, \"#0d0887\"], [0.1111111111111111, \"#46039f\"], [0.2222222222222222, \"#7201a8\"], [0.3333333333333333, \"#9c179e\"], [0.4444444444444444, \"#bd3786\"], [0.5555555555555556, \"#d8576b\"], [0.6666666666666666, \"#ed7953\"], [0.7777777777777778, \"#fb9f3a\"], [0.8888888888888888, \"#fdca26\"], [1.0, \"#f0f921\"]], \"type\": \"surface\"}], \"table\": [{\"cells\": {\"fill\": {\"color\": \"#EBF0F8\"}, \"line\": {\"color\": \"white\"}}, \"header\": {\"fill\": {\"color\": \"#C8D4E3\"}, \"line\": {\"color\": \"white\"}}, \"type\": \"table\"}]}, \"layout\": {\"annotationdefaults\": {\"arrowcolor\": \"#2a3f5f\", \"arrowhead\": 0, \"arrowwidth\": 1}, \"coloraxis\": {\"colorbar\": {\"outlinewidth\": 0, \"ticks\": \"\"}}, \"colorscale\": {\"diverging\": [[0, \"#8e0152\"], [0.1, \"#c51b7d\"], [0.2, \"#de77ae\"], [0.3, \"#f1b6da\"], [0.4, \"#fde0ef\"], [0.5, \"#f7f7f7\"], [0.6, \"#e6f5d0\"], [0.7, \"#b8e186\"], [0.8, \"#7fbc41\"], [0.9, \"#4d9221\"], [1, \"#276419\"]], \"sequential\": [[0.0, \"#0d0887\"], [0.1111111111111111, \"#46039f\"], [0.2222222222222222, \"#7201a8\"], [0.3333333333333333, \"#9c179e\"], [0.4444444444444444, \"#bd3786\"], [0.5555555555555556, \"#d8576b\"], [0.6666666666666666, \"#ed7953\"], [0.7777777777777778, \"#fb9f3a\"], [0.8888888888888888, \"#fdca26\"], [1.0, \"#f0f921\"]], \"sequentialminus\": [[0.0, \"#0d0887\"], [0.1111111111111111, \"#46039f\"], [0.2222222222222222, \"#7201a8\"], [0.3333333333333333, \"#9c179e\"], [0.4444444444444444, \"#bd3786\"], [0.5555555555555556, \"#d8576b\"], [0.6666666666666666, \"#ed7953\"], [0.7777777777777778, \"#fb9f3a\"], [0.8888888888888888, \"#fdca26\"], [1.0, \"#f0f921\"]]}, \"colorway\": [\"#636efa\", \"#EF553B\", \"#00cc96\", \"#ab63fa\", \"#FFA15A\", \"#19d3f3\", \"#FF6692\", \"#B6E880\", \"#FF97FF\", \"#FECB52\"], \"font\": {\"color\": \"#2a3f5f\"}, \"geo\": {\"bgcolor\": \"white\", \"lakecolor\": \"white\", \"landcolor\": \"#E5ECF6\", \"showlakes\": true, \"showland\": true, \"subunitcolor\": \"white\"}, \"hoverlabel\": {\"align\": \"left\"}, \"hovermode\": \"closest\", \"mapbox\": {\"style\": \"light\"}, \"paper_bgcolor\": \"white\", \"plot_bgcolor\": \"#E5ECF6\", \"polar\": {\"angularaxis\": {\"gridcolor\": \"white\", \"linecolor\": \"white\", \"ticks\": \"\"}, \"bgcolor\": \"#E5ECF6\", \"radialaxis\": {\"gridcolor\": \"white\", \"linecolor\": \"white\", \"ticks\": \"\"}}, \"scene\": {\"xaxis\": {\"backgroundcolor\": \"#E5ECF6\", \"gridcolor\": \"white\", \"gridwidth\": 2, \"linecolor\": \"white\", \"showbackground\": true, \"ticks\": \"\", \"zerolinecolor\": \"white\"}, \"yaxis\": {\"backgroundcolor\": \"#E5ECF6\", \"gridcolor\": \"white\", \"gridwidth\": 2, \"linecolor\": \"white\", \"showbackground\": true, \"ticks\": \"\", \"zerolinecolor\": \"white\"}, \"zaxis\": {\"backgroundcolor\": \"#E5ECF6\", \"gridcolor\": \"white\", \"gridwidth\": 2, \"linecolor\": \"white\", \"showbackground\": true, \"ticks\": \"\", \"zerolinecolor\": \"white\"}}, \"shapedefaults\": {\"line\": {\"color\": \"#2a3f5f\"}}, \"ternary\": {\"aaxis\": {\"gridcolor\": \"white\", \"linecolor\": \"white\", \"ticks\": \"\"}, \"baxis\": {\"gridcolor\": \"white\", \"linecolor\": \"white\", \"ticks\": \"\"}, \"bgcolor\": \"#E5ECF6\", \"caxis\": {\"gridcolor\": \"white\", \"linecolor\": \"white\", \"ticks\": \"\"}}, \"title\": {\"x\": 0.05}, \"xaxis\": {\"automargin\": true, \"gridcolor\": \"white\", \"linecolor\": \"white\", \"ticks\": \"\", \"title\": {\"standoff\": 15}, \"zerolinecolor\": \"white\", \"zerolinewidth\": 2}, \"yaxis\": {\"automargin\": true, \"gridcolor\": \"white\", \"linecolor\": \"white\", \"ticks\": \"\", \"title\": {\"standoff\": 15}, \"zerolinecolor\": \"white\", \"zerolinewidth\": 2}}}},\n",
       "                        {\"responsive\": true}\n",
       "                    ).then(function(){\n",
       "                            \n",
       "var gd = document.getElementById('d88ef550-4ee0-4d1c-9aa6-30df63686e03');\n",
       "var x = new MutationObserver(function (mutations, observer) {{\n",
       "        var display = window.getComputedStyle(gd).display;\n",
       "        if (!display || display === 'none') {{\n",
       "            console.log([gd, 'removed!']);\n",
       "            Plotly.purge(gd);\n",
       "            observer.disconnect();\n",
       "        }}\n",
       "}});\n",
       "\n",
       "// Listen for the removal of the full notebook cells\n",
       "var notebookContainer = gd.closest('#notebook-container');\n",
       "if (notebookContainer) {{\n",
       "    x.observe(notebookContainer, {childList: true});\n",
       "}}\n",
       "\n",
       "// Listen for the clearing of the current output cell\n",
       "var outputEl = gd.closest('.output');\n",
       "if (outputEl) {{\n",
       "    x.observe(outputEl, {childList: true});\n",
       "}}\n",
       "\n",
       "                        })\n",
       "                };\n",
       "                });\n",
       "            </script>\n",
       "        </div>"
      ]
     },
     "metadata": {},
     "output_type": "display_data"
    },
    {
     "data": {
      "text/plain": [
       "'https://plotly.com/~asepsaputra/72/'"
      ]
     },
     "execution_count": 99,
     "metadata": {},
     "output_type": "execute_result"
    }
   ],
   "source": [
    "fig9 = px.choropleth(covid_fix, locations='Country', locationmode= 'country names',\n",
    "                    color='TotalConfirmed', scope='world', color_continuous_scale=px.colors.sequential.Plasma,\n",
    "                     hover_name = 'Country')\n",
    "fig9.show()"
   ]
  }
 ],
 "metadata": {
  "kernelspec": {
   "display_name": "Python 3",
   "language": "python",
   "name": "python3"
  },
  "language_info": {
   "codemirror_mode": {
    "name": "ipython",
    "version": 3
   },
   "file_extension": ".py",
   "mimetype": "text/x-python",
   "name": "python",
   "nbconvert_exporter": "python",
   "pygments_lexer": "ipython3",
   "version": "3.8.3"
  },
  "latex_envs": {
   "LaTeX_envs_menu_present": true,
   "autoclose": false,
   "autocomplete": true,
   "bibliofile": "biblio.bib",
   "cite_by": "apalike",
   "current_citInitial": 1,
   "eqLabelWithNumbers": true,
   "eqNumInitial": 1,
   "hotkeys": {
    "equation": "Ctrl-E",
    "itemize": "Ctrl-I"
   },
   "labels_anchors": false,
   "latex_user_defs": false,
   "report_style_numbering": false,
   "user_envs_cfg": false
  }
 },
 "nbformat": 4,
 "nbformat_minor": 4
}
